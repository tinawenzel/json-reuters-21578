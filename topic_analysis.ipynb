{
 "cells": [
  {
   "cell_type": "markdown",
   "metadata": {},
   "source": [
    "# Multiclass multi-label classification using the Reuters dataset\n",
    "\n",
    "\n",
    "This notebook shows how to implement document classification when each document can have multiple categories.\n",
    "\n",
    "The dataset can be found [here](https://archive.ics.uci.edu/ml/machine-learning-databases/reuters21578-mld/). \n",
    "The topics to be predicted can be found in all-topics-strings.lc.txt. \n",
    "I'm adhering to the variable 'lewissplit' to define the Train/Test split. \n",
    "\n",
    "To convert the data from sgm to json, I'm drawing on convert_sgm_to_json.py by [mihaibogdan10](https://github.com/mihaibogdan10/json-reuters-21578).\n",
    "\n",
    "I find the best model to predict topics is the linear support vector classifier, which gets an average F1 score of 51% accross 65 predicted labels, about 5% better than other models. Using a combined text column (original \"body\" + \"title\" + \"unknown_processed\") also improves the model performance by 6%. Further tuning the parameters of the SVC increases the F1 score to approx. 60%.  "
   ]
  },
  {
   "cell_type": "code",
   "execution_count": 27,
   "metadata": {},
   "outputs": [],
   "source": [
    "import gzip\n",
    "import collections\n",
    "import matplotlib as plt\n",
    "import seaborn as sns\n",
    "%matplotlib inline\n",
    "from os import listdir\n",
    "import pandas as pd\n",
    "import numpy as np\n",
    "import json\n",
    "import nltk\n",
    "import itertools\n",
    "import re\n",
    "from time import time\n",
    "from pandas.io.json import json_normalize\n",
    "from utils import *\n",
    "\n",
    "from nltk.tokenize import word_tokenize\n",
    "from nltk.stem import WordNetLemmatizer\n",
    "from nltk.corpus import stopwords\n",
    "\n",
    "from sklearn.pipeline import Pipeline\n",
    "from sklearn.feature_extraction.text import TfidfVectorizer, CountVectorizer, TfidfTransformer\n",
    "from sklearn.model_selection import RandomizedSearchCV, GridSearchCV\n",
    "from sklearn.linear_model import SGDClassifier\n",
    "from sklearn.multiclass import OneVsRestClassifier\n",
    "from sklearn.svm import LinearSVC\n",
    "from sklearn.linear_model import LogisticRegression\n",
    "from sklearn.naive_bayes import MultinomialNB, BernoulliNB\n",
    "from sklearn.neural_network import MLPClassifier\n",
    "from sklearn.metrics import f1_score, roc_auc_score, accuracy_score, classification_report\n",
    "\n",
    "# import english stopwords\n",
    "stop_words = set(stopwords.words('english'))"
   ]
  },
  {
   "cell_type": "markdown",
   "metadata": {},
   "source": [
    "# EDA"
   ]
  },
  {
   "cell_type": "code",
   "execution_count": 2,
   "metadata": {},
   "outputs": [],
   "source": [
    "path = '/Users/twenzel/repos/topics2/json-data/'\n",
    "files = listdir(path)\n",
    "\n",
    "docs = [open_file(x, path) for x in files]\n",
    "docs = list(itertools.chain(*docs))\n",
    "docs_df = pd.DataFrame(docs)\n",
    "docs_df['topic_length'] = docs_df.topics.apply(len)\n",
    "\n",
    "# clean column \"unknown\" - as it helps classifying topics when document body is empty\n",
    "docs_df['unknown_processed'] = docs_df.unknown.apply(lambda x: x.split('BC-')[-1]).apply(lambda x: x.split('  ')[0])"
   ]
  },
  {
   "cell_type": "code",
   "execution_count": 8,
   "metadata": {},
   "outputs": [
    {
     "data": {
      "text/html": [
       "<div>\n",
       "<style scoped>\n",
       "    .dataframe tbody tr th:only-of-type {\n",
       "        vertical-align: middle;\n",
       "    }\n",
       "\n",
       "    .dataframe tbody tr th {\n",
       "        vertical-align: top;\n",
       "    }\n",
       "\n",
       "    .dataframe thead th {\n",
       "        text-align: right;\n",
       "    }\n",
       "</style>\n",
       "<table border=\"1\" class=\"dataframe\">\n",
       "  <thead>\n",
       "    <tr style=\"text-align: right;\">\n",
       "      <th></th>\n",
       "      <th>attrs</th>\n",
       "      <th>body</th>\n",
       "      <th>companies</th>\n",
       "      <th>date</th>\n",
       "      <th>dateline</th>\n",
       "      <th>exchanges</th>\n",
       "      <th>orgs</th>\n",
       "      <th>places</th>\n",
       "      <th>title</th>\n",
       "      <th>topics</th>\n",
       "      <th>unknown</th>\n",
       "      <th>topic_length</th>\n",
       "      <th>unknown_processed</th>\n",
       "    </tr>\n",
       "  </thead>\n",
       "  <tbody>\n",
       "    <tr>\n",
       "      <th>0</th>\n",
       "      <td>{'cgisplit': 'TRAINING-SET', 'lewissplit': 'TR...</td>\n",
       "      <td>The Bank of England said it forecast a\\nshorta...</td>\n",
       "      <td>[]</td>\n",
       "      <td>9-MAR-1987 04:58:41.12</td>\n",
       "      <td>LONDON, March 9 -</td>\n",
       "      <td>[]</td>\n",
       "      <td>[]</td>\n",
       "      <td>[uk]</td>\n",
       "      <td>U.K. MONEY MARKET SHORTAGE FORECAST AT 250 MLN...</td>\n",
       "      <td>[money-fx]</td>\n",
       "      <td>&amp;#5;&amp;#5;&amp;#5;RM\\n&amp;#22;&amp;#22;&amp;#1;f0416&amp;#31;reute\\...</td>\n",
       "      <td>1</td>\n",
       "      <td>U.K.-MONEY-MARKET-SHO</td>\n",
       "    </tr>\n",
       "    <tr>\n",
       "      <th>1</th>\n",
       "      <td>{'cgisplit': 'TRAINING-SET', 'lewissplit': 'TR...</td>\n",
       "      <td>The Bank of France said it invited offers\\nof ...</td>\n",
       "      <td>[]</td>\n",
       "      <td>9-MAR-1987 05:03:09.75</td>\n",
       "      <td>PARIS, March 9 -</td>\n",
       "      <td>[]</td>\n",
       "      <td>[]</td>\n",
       "      <td>[france]</td>\n",
       "      <td>BANK OF FRANCE SETS MONEY MARKET TENDER</td>\n",
       "      <td>[money-fx, interest]</td>\n",
       "      <td>&amp;#5;&amp;#5;&amp;#5;RM\\n&amp;#22;&amp;#22;&amp;#1;f0423&amp;#31;reute\\...</td>\n",
       "      <td>2</td>\n",
       "      <td>BANK-OF-FRANCE-SETS-M</td>\n",
       "    </tr>\n",
       "    <tr>\n",
       "      <th>2</th>\n",
       "      <td>{'cgisplit': 'TRAINING-SET', 'lewissplit': 'TR...</td>\n",
       "      <td>The U.S. &amp;lt;Amoco Petroleum Corp&gt; has\\nreport...</td>\n",
       "      <td>[]</td>\n",
       "      <td>9-MAR-1987 05:03:38.51</td>\n",
       "      <td>PEKING, March 9 -</td>\n",
       "      <td>[]</td>\n",
       "      <td>[]</td>\n",
       "      <td>[china]</td>\n",
       "      <td>AMOCO REPORTS SOUTH CHINA SEA OIL FIND</td>\n",
       "      <td>[crude]</td>\n",
       "      <td>&amp;#5;&amp;#5;&amp;#5;F\\n&amp;#22;&amp;#22;&amp;#1;f0426&amp;#31;reute\\n...</td>\n",
       "      <td>1</td>\n",
       "      <td>AMOCO-REPORTS-SOUTH-C</td>\n",
       "    </tr>\n",
       "    <tr>\n",
       "      <th>3</th>\n",
       "      <td>{'cgisplit': 'TRAINING-SET', 'lewissplit': 'TR...</td>\n",
       "      <td>Technology transfer problems have delayed\\nthe...</td>\n",
       "      <td>[]</td>\n",
       "      <td>9-MAR-1987 05:12:17.12</td>\n",
       "      <td>SEOUL, March 9 -</td>\n",
       "      <td>[]</td>\n",
       "      <td>[]</td>\n",
       "      <td>[south-korea]</td>\n",
       "      <td>SOUTH KOREA DELAYS CONTRACT FOR NUCLEAR PLANTS</td>\n",
       "      <td>[]</td>\n",
       "      <td>&amp;#5;&amp;#5;&amp;#5;F\\n&amp;#22;&amp;#22;&amp;#1;f0437&amp;#31;reute\\n...</td>\n",
       "      <td>0</td>\n",
       "      <td>SOUTH-KOREA-DELAYS-CO</td>\n",
       "    </tr>\n",
       "    <tr>\n",
       "      <th>4</th>\n",
       "      <td>{'cgisplit': 'TRAINING-SET', 'lewissplit': 'TR...</td>\n",
       "      <td>Keiaisha Co Ltd of Tokyo is issuing 12\\nmln Sw...</td>\n",
       "      <td>[]</td>\n",
       "      <td>9-MAR-1987 05:19:27.56</td>\n",
       "      <td>ZURICH, March 9 -</td>\n",
       "      <td>[]</td>\n",
       "      <td>[]</td>\n",
       "      <td>[switzerland]</td>\n",
       "      <td>KEIAISHA ISSUING 12 MLN SWISS FRANC NOTES</td>\n",
       "      <td>[]</td>\n",
       "      <td>&amp;#5;&amp;#5;&amp;#5;RM\\n&amp;#22;&amp;#22;&amp;#1;f0442&amp;#31;reute\\...</td>\n",
       "      <td>0</td>\n",
       "      <td>KEIAISHA-ISSUING-12-M</td>\n",
       "    </tr>\n",
       "  </tbody>\n",
       "</table>\n",
       "</div>"
      ],
      "text/plain": [
       "                                               attrs  \\\n",
       "0  {'cgisplit': 'TRAINING-SET', 'lewissplit': 'TR...   \n",
       "1  {'cgisplit': 'TRAINING-SET', 'lewissplit': 'TR...   \n",
       "2  {'cgisplit': 'TRAINING-SET', 'lewissplit': 'TR...   \n",
       "3  {'cgisplit': 'TRAINING-SET', 'lewissplit': 'TR...   \n",
       "4  {'cgisplit': 'TRAINING-SET', 'lewissplit': 'TR...   \n",
       "\n",
       "                                                body companies  \\\n",
       "0  The Bank of England said it forecast a\\nshorta...        []   \n",
       "1  The Bank of France said it invited offers\\nof ...        []   \n",
       "2  The U.S. &lt;Amoco Petroleum Corp> has\\nreport...        []   \n",
       "3  Technology transfer problems have delayed\\nthe...        []   \n",
       "4  Keiaisha Co Ltd of Tokyo is issuing 12\\nmln Sw...        []   \n",
       "\n",
       "                     date           dateline exchanges orgs         places  \\\n",
       "0  9-MAR-1987 04:58:41.12  LONDON, March 9 -        []   []           [uk]   \n",
       "1  9-MAR-1987 05:03:09.75   PARIS, March 9 -        []   []       [france]   \n",
       "2  9-MAR-1987 05:03:38.51  PEKING, March 9 -        []   []        [china]   \n",
       "3  9-MAR-1987 05:12:17.12   SEOUL, March 9 -        []   []  [south-korea]   \n",
       "4  9-MAR-1987 05:19:27.56  ZURICH, March 9 -        []   []  [switzerland]   \n",
       "\n",
       "                                               title                topics  \\\n",
       "0  U.K. MONEY MARKET SHORTAGE FORECAST AT 250 MLN...            [money-fx]   \n",
       "1            BANK OF FRANCE SETS MONEY MARKET TENDER  [money-fx, interest]   \n",
       "2             AMOCO REPORTS SOUTH CHINA SEA OIL FIND               [crude]   \n",
       "3     SOUTH KOREA DELAYS CONTRACT FOR NUCLEAR PLANTS                    []   \n",
       "4          KEIAISHA ISSUING 12 MLN SWISS FRANC NOTES                    []   \n",
       "\n",
       "                                             unknown  topic_length  \\\n",
       "0  &#5;&#5;&#5;RM\\n&#22;&#22;&#1;f0416&#31;reute\\...             1   \n",
       "1  &#5;&#5;&#5;RM\\n&#22;&#22;&#1;f0423&#31;reute\\...             2   \n",
       "2  &#5;&#5;&#5;F\\n&#22;&#22;&#1;f0426&#31;reute\\n...             1   \n",
       "3  &#5;&#5;&#5;F\\n&#22;&#22;&#1;f0437&#31;reute\\n...             0   \n",
       "4  &#5;&#5;&#5;RM\\n&#22;&#22;&#1;f0442&#31;reute\\...             0   \n",
       "\n",
       "       unknown_processed  \n",
       "0  U.K.-MONEY-MARKET-SHO  \n",
       "1  BANK-OF-FRANCE-SETS-M  \n",
       "2  AMOCO-REPORTS-SOUTH-C  \n",
       "3  SOUTH-KOREA-DELAYS-CO  \n",
       "4  KEIAISHA-ISSUING-12-M  "
      ]
     },
     "execution_count": 8,
     "metadata": {},
     "output_type": "execute_result"
    }
   ],
   "source": [
    "# analyse the category usage\n",
    "docs_df.head()"
   ]
  },
  {
   "cell_type": "code",
   "execution_count": 3,
   "metadata": {},
   "outputs": [
    {
     "name": "stdout",
     "output_type": "stream",
     "text": [
      "['alum', 'austdlr', 'austral', 'barley', 'bfr', 'bop', 'can', 'carcass', 'castor-meal', 'castor-oil', 'castorseed', 'citruspulp', 'cocoa', 'coconut', 'coconut-oil', 'coffee', 'copper', 'copra-cake', 'corn', 'corn-oil', 'cornglutenfeed', 'cotton ', 'cotton-meal', 'cotton-oil', 'cottonseed', 'cpi', 'cpu', 'crude', 'cruzado', 'dfl', 'dkr', 'dlr', 'dmk', 'drachma', 'earn', 'escudo', 'f-cattle', 'ffr', 'fishmeal', 'flaxseed', 'fuel', 'gas', 'gnp', 'gold', 'grain', 'groundnut', 'groundnut-meal', 'groundnut-oil', 'heat', 'hk', 'hog', 'housing', 'income', 'instal-debt', 'interest', 'inventories', 'ipi', 'iron-steel', 'jet', 'jobs', 'l-cattle', 'lead', 'lei', 'lin-meal', 'lin-oil', 'linseed', 'lit', 'livestock', 'lumber', 'lupin', 'meal-feed', 'mexpeso', 'money-fx', 'money-supply', 'naphtha     ', 'nat-gas', 'nickel', 'nkr', 'nzdlr', 'oat', 'oilseed', 'orange', 'palladium', 'palm-meal', 'palm-oil', 'palmkernel', 'peseta', 'pet-chem', 'platinum', 'plywood', 'pork-belly', 'potato', 'propane', 'rand', 'rape-meal', 'rape-oil', 'rapeseed', 'red-bean', 'reserves', 'retail', 'rice', 'ringgit', 'rubber', 'rupiah', 'rye', 'saudriyal', 'sfr', 'ship', 'silk', 'silver', 'singdlr', 'skr', 'sorghum', 'soy-meal', 'soy-oil', 'soybean', 'stg', 'strategic-metal', 'sugar', 'sun-meal', 'sun-oil', 'sunseed', 'tapioca', 'tea', 'tin', 'trade', 'tung', 'tung-oil', 'veg-oil', 'wheat', 'wool', 'wpi', 'yen', 'zinc']\n"
     ]
    }
   ],
   "source": [
    "# Look at unique topics\n",
    "topic_path = '/Users/twenzel/repos/topics2/other-data/all-topics-strings.lc.txt'\n",
    "topics = pd.read_csv(topic_path).acq.tolist()\n",
    "print(topics)"
   ]
  },
  {
   "cell_type": "code",
   "execution_count": 10,
   "metadata": {},
   "outputs": [
    {
     "name": "stdout",
     "output_type": "stream",
     "text": [
      "<bound method Counter.most_common of Counter({'earn': 3987, 'acq': 2448, 'money-fx': 801, 'crude': 634, 'grain': 628, 'trade': 552, 'interest': 513, 'wheat': 306, 'ship': 305, 'corn': 254, 'dlr': 217, 'oilseed': 192, 'money-supply': 190, 'sugar': 184, 'gnp': 163, 'coffee': 145, 'veg-oil': 137, 'gold': 135, 'nat-gas': 130, 'soybean': 120, 'bop': 116, 'livestock': 114, 'cpi': 112, 'reserves': 84, 'copper': 78, 'jobs': 76, 'cocoa': 76, 'carcass': 75, 'yen': 69, 'rice': 67, 'iron-steel': 67, 'gas': 65, 'ipi': 65, 'alum': 63, 'cotton': 63, 'barley': 54, 'meal-feed': 51, 'rubber': 51, 'zinc': 44, 'palm-oil': 43, 'pet-chem': 41, 'silver': 37, 'rapeseed': 35, 'lead': 35, 'sorghum': 35, 'tin': 33, 'strategic-metal': 32, 'wpi': 32, 'orange': 29, 'fuel': 28, 'hog': 27, 'soy-meal': 27, 'retail': 27, 'heat': 25, 'soy-oil': 25, 'housing': 21, 'stg': 21, 'income': 18, 'lei': 17, 'lumber': 17, 'sunseed': 17, 'dmk': 15, 'tea': 15, 'oat': 14, 'platinum': 12, 'nickel': 11, 'groundnut': 10, 'l-cattle': 9, 'sun-oil': 8, 'rape-oil': 8, 'jet': 8, 'instal-debt': 7, 'coconut-oil': 7, 'naphtha': 7, 'inventories': 7, 'potato': 6, 'propane': 6, 'coconut': 6, 'plywood': 4, 'nzdlr': 4, 'tapioca': 4, 'cpu': 4, 'austdlr': 4, 'pork-belly': 4, 'dfl': 3, 'can': 3, 'palladium': 3, 'cotton-oil': 3, 'nkr': 3, 'sfr': 3, 'saudriyal': 3, 'rand': 3, 'palmkernel': 3, 'lit': 3, 'f-cattle': 3, 'copra-cake': 3, 'fishmeal': 2, 'sun-meal': 2, 'lin-oil': 2, 'groundnut-oil': 2, 'rye': 2, 'castor-oil': 2, 'cornglutenfeed': 2, 'linseed': 2, 'wool': 2, 'corn-oil': 1, 'cruzado': 1, 'peseta': 1, 'lin-meal': 1, 'ringgit': 1, 'skr': 1, 'dkr': 1, 'castorseed': 1, 'rupiah': 1, 'hk': 1, 'red-bean': 1, 'citruspulp': 1, 'rape-meal': 1, 'cottonseed': 1, 'bfr': 1})>\n"
     ]
    }
   ],
   "source": [
    "# Count frequency of topics used\n",
    "cats_combo = list(itertools.chain(*docs_df.topics.tolist()))\n",
    "counter=collections.Counter(cats_combo)\n",
    "print(counter.most_common)"
   ]
  },
  {
   "cell_type": "markdown",
   "metadata": {},
   "source": [
    "We see a lot of topics appear only ones. We will need to subset on the topics that appear at least a few times in the training and test set. More observations for these topics has to be collected to make meaningful predictions for these cases."
   ]
  },
  {
   "cell_type": "markdown",
   "metadata": {},
   "source": [
    "# Labels \n",
    "\n",
    "What are the most common labels?"
   ]
  },
  {
   "cell_type": "code",
   "execution_count": 257,
   "metadata": {},
   "outputs": [
    {
     "data": {
      "text/plain": [
       "<matplotlib.axes._subplots.AxesSubplot at 0x12560d940>"
      ]
     },
     "execution_count": 257,
     "metadata": {},
     "output_type": "execute_result"
    },
    {
     "data": {
      "image/png": "[encoded data removed]",
      "text/plain": [
       "<matplotlib.figure.Figure at 0x12d890cf8>"
      ]
     },
     "metadata": {},
     "output_type": "display_data"
    }
   ],
   "source": [
    "# plot topic frequencies\n",
    "cat_df = pd.DataFrame.from_dict(counter, orient='index').reset_index()\n",
    "cat_df.columns=['category', 'number_of_occurrences']\n",
    "cat_df.sort_values(by = ['number_of_occurrences'], ascending=False, inplace=True)\n",
    "\n",
    "cat_df.head(15).plot(x='category', \n",
    "                     y='number_of_occurrences', \n",
    "                     kind='bar', \n",
    "                     legend=False, \n",
    "                     grid=True, \n",
    "                     figsize=(15, 5), \n",
    "                     fontsize = 14,\n",
    "                     title=\"Top 15 topics- number of occurrences per category\")"
   ]
  },
  {
   "cell_type": "markdown",
   "metadata": {},
   "source": [
    "# Multilabel \n",
    "\n",
    "How many articles have several labels?"
   ]
  },
  {
   "cell_type": "code",
   "execution_count": 259,
   "metadata": {},
   "outputs": [
    {
     "name": "stdout",
     "output_type": "stream",
     "text": [
      "47% of documents are not labelled.\n"
     ]
    },
    {
     "data": {
      "image/png": "[encoded data removed]",
      "text/plain": [
       "<matplotlib.figure.Figure at 0x11c34fdd8>"
      ]
     },
     "metadata": {},
     "output_type": "display_data"
    }
   ],
   "source": [
    "label_count_df = docs_df.topic_length.value_counts().reset_index()\n",
    "label_count_df.columns = ['number_of_topics','number_of_occurrences']\n",
    "\n",
    "label_count_df.plot(x='number_of_topics', \n",
    "                     y='number_of_occurrences', \n",
    "                     kind='bar', \n",
    "                     legend=False, \n",
    "                     grid=True, \n",
    "                     figsize=(15, 5), \n",
    "                     fontsize = 14,\n",
    "                     title=\"How many documents have several categories per document?\")\n",
    "print('{:.0%} of documents are not labelled.'.format(docs_df[docs_df.topic_length==0].shape[0]/docs_df.shape[0]))"
   ]
  },
  {
   "cell_type": "code",
   "execution_count": 4,
   "metadata": {},
   "outputs": [],
   "source": [
    "# Create dummies for each label - binary matrix over multiple labels\n",
    "cat_df = pd.get_dummies(docs_df.topics.apply(pd.Series).stack()).sum(level=0)\n",
    "# replace all 2s with 1\n",
    "cat_df.replace(to_replace=2, value=1, inplace=True)\n",
    "# combine \n",
    "docs_df = pd.concat([docs_df, cat_df], axis=1, join_axes=[docs_df.index]).fillna(0)\n",
    "\n",
    "# Create attributes df\n",
    "attr = pd.DataFrame()\n",
    "for n in range(len(docs)):\n",
    "    attr = attr.append(json_normalize(docs[n]['attrs']))\n",
    "attr = attr.reset_index().drop('index',axis=1)\n",
    "attr.drop('topics',axis=1, inplace=True)\n",
    "\n",
    "# combine dfs\n",
    "docs_df = pd.concat([docs_df, attr], axis=1, join_axes=[docs_df.index]).fillna(0)"
   ]
  },
  {
   "cell_type": "markdown",
   "metadata": {},
   "source": [
    "# Imbalances"
   ]
  },
  {
   "cell_type": "code",
   "execution_count": 12,
   "metadata": {},
   "outputs": [
    {
     "data": {
      "text/plain": [
       "lewissplit  topic_length\n",
       "TEST        0               3166\n",
       "            1               2583\n",
       "            2                310\n",
       "            3                 64\n",
       "            4                 32\n",
       "            5                 14\n",
       "            6                  6\n",
       "            7                  4\n",
       "            8                  2\n",
       "            9                  2\n",
       "            14                 2\n",
       "            10                 1\n",
       "            11                 1\n",
       "            12                 1\n",
       "TRAIN       0               6888\n",
       "            1               6555\n",
       "            2                892\n",
       "            3                191\n",
       "            4                 62\n",
       "            5                 39\n",
       "            6                 21\n",
       "            7                  7\n",
       "            8                  4\n",
       "            9                  4\n",
       "            10                 3\n",
       "            12                 1\n",
       "            16                 1\n",
       "Name: topic_length, dtype: int64"
      ]
     },
     "execution_count": 12,
     "metadata": {},
     "output_type": "execute_result"
    }
   ],
   "source": [
    "# Now that the lewissplit column is included in dataframe, we can check the multilabel occurrences acrocc train & test\n",
    "docs_df[docs_df['lewissplit']!='NOT-USED'].groupby('lewissplit')['topic_length'].value_counts()"
   ]
  },
  {
   "cell_type": "code",
   "execution_count": 17,
   "metadata": {},
   "outputs": [],
   "source": [
    "# Imbalances: Check whether the same labels occur equally often in train and test\n",
    "topiclist= cat_df.columns.tolist()\n",
    "topiclist.extend(['lewissplit'])\n",
    "data_to_plot = docs_df[topiclist][docs_df['lewissplit']!='NOT-USED']\n",
    "data_to_plot = data_to_plot.groupby('lewissplit').sum().transpose()\n",
    "\n",
    "# Creating a list of biggest categories to plot how imbalanced their frequencies are btw. test and train\n",
    "all_cats = data_to_plot[data_to_plot.TEST>data_to_plot.TEST.mean()+(0.5*data_to_plot.TEST.std())].index.tolist()\n",
    "train_cats = data_to_plot[data_to_plot.TRAIN>data_to_plot.TRAIN.mean()+(0.5*data_to_plot.TEST.std())].index.tolist()\n",
    "all_cats.extend(train_cats)\n",
    "\n",
    "# subset on selected categories and melt df for plotting \n",
    "data_to_plot = data_to_plot[data_to_plot.index.isin(all_cats)]\n",
    "data_to_plot['topics'] = data_to_plot.index\n",
    "data_to_plot = pd.melt(data_to_plot, id_vars=\"topics\", var_name=\"split\", value_name=\"frequency\")"
   ]
  },
  {
   "cell_type": "code",
   "execution_count": 162,
   "metadata": {},
   "outputs": [
    {
     "data": {
      "text/plain": [
       "Text(0.5,1,'Imbalanced occurrences of topics btw. train and test set')"
      ]
     },
     "execution_count": 162,
     "metadata": {},
     "output_type": "execute_result"
    },
    {
     "data": {
      "image/png": "[encoded data removed]",
      "text/plain": [
       "<matplotlib.figure.Figure at 0x122606400>"
      ]
     },
     "metadata": {},
     "output_type": "display_data"
    }
   ],
   "source": [
    "sns.set(rc={'figure.figsize':(50,15)})\n",
    "sns.set(font_scale = 5)\n",
    "sns.barplot(x=\"topics\", \n",
    "            y=\"frequency\", \n",
    "            hue=\"split\", \n",
    "            data=data_to_plot).set_title(\"Imbalanced occurrences of topics btw. train and test set\")"
   ]
  },
  {
   "cell_type": "markdown",
   "metadata": {},
   "source": [
    "# Length of documents"
   ]
  },
  {
   "cell_type": "code",
   "execution_count": 25,
   "metadata": {},
   "outputs": [
    {
     "name": "stdout",
     "output_type": "stream",
     "text": [
      "Number of missing comments in comment text:{} 0\n",
      "Most documents contain less than 508 characters. The longest document contains 13400 characters.\n"
     ]
    },
    {
     "data": {
      "image/png": "[encoded data removed]",
      "text/plain": [
       "<matplotlib.figure.Figure at 0x11fbcf438>"
      ]
     },
     "metadata": {},
     "output_type": "display_data"
    }
   ],
   "source": [
    "lens = docs_df.body.str.len()\n",
    "\n",
    "print('Number of missing comments in document body:{}',format(docs_df['body'].isnull().sum()))\n",
    "\n",
    "lens.hist(bins = np.arange(0,5000,50))\n",
    "print('Most documents contain less than {} characters. The longest document contains {} characters.'\n",
    "      .format(int(docs_df.body.str.len().median()),\n",
    "              int(docs_df.body.str.len().max()))\n",
    "     )"
   ]
  },
  {
   "cell_type": "code",
   "execution_count": 26,
   "metadata": {},
   "outputs": [
    {
     "data": {
      "text/plain": [
       "'We also see a large number of documents w/o any text: 2535'"
      ]
     },
     "execution_count": 26,
     "metadata": {},
     "output_type": "execute_result"
    }
   ],
   "source": [
    "'We also see a large number of documents w/o any text: {}'.format(docs_df[docs_df.body.str.len()==0].shape[0])"
   ]
  },
  {
   "cell_type": "code",
   "execution_count": 27,
   "metadata": {},
   "outputs": [
    {
     "name": "stdout",
     "output_type": "stream",
     "text": [
      "They are still allocated to training & test group as the below shows:\n"
     ]
    },
    {
     "data": {
      "text/plain": [
       "TRAIN       1803\n",
       "TEST         730\n",
       "NOT-USED       2\n",
       "Name: lewissplit, dtype: int64"
      ]
     },
     "execution_count": 27,
     "metadata": {},
     "output_type": "execute_result"
    }
   ],
   "source": [
    "print('They are still allocated to training & test group as the below shows:')\n",
    "docs_df[docs_df.body.str.len()==0].lewissplit.value_counts()"
   ]
  },
  {
   "cell_type": "code",
   "execution_count": 28,
   "metadata": {},
   "outputs": [
    {
     "name": "stdout",
     "output_type": "stream",
     "text": [
      "If the body is missing, the title and unknown field can be used to predict labels.\n"
     ]
    },
    {
     "data": {
      "text/html": [
       "<div>\n",
       "<style scoped>\n",
       "    .dataframe tbody tr th:only-of-type {\n",
       "        vertical-align: middle;\n",
       "    }\n",
       "\n",
       "    .dataframe tbody tr th {\n",
       "        vertical-align: top;\n",
       "    }\n",
       "\n",
       "    .dataframe thead th {\n",
       "        text-align: right;\n",
       "    }\n",
       "</style>\n",
       "<table border=\"1\" class=\"dataframe\">\n",
       "  <thead>\n",
       "    <tr style=\"text-align: right;\">\n",
       "      <th></th>\n",
       "      <th>title</th>\n",
       "      <th>unknown_processed</th>\n",
       "      <th>topics</th>\n",
       "    </tr>\n",
       "  </thead>\n",
       "  <tbody>\n",
       "    <tr>\n",
       "      <th>5</th>\n",
       "      <td>NATIONAL WESTMINSTER BANK SAYS IT CUTTING BASE...</td>\n",
       "      <td>NATIONAL-WESTMINSTER</td>\n",
       "      <td>[interest]</td>\n",
       "    </tr>\n",
       "    <tr>\n",
       "      <th>34</th>\n",
       "      <td>Chrysler to take over Renault stake in America...</td>\n",
       "      <td>Chrysler-to-take-over</td>\n",
       "      <td>[acq]</td>\n",
       "    </tr>\n",
       "    <tr>\n",
       "      <th>36</th>\n",
       "      <td>SOUTHERN CO TO TAKE 226 MLN DLR CHARGE ON PROJ...</td>\n",
       "      <td>******southern-co-to</td>\n",
       "      <td>[earn]</td>\n",
       "    </tr>\n",
       "    <tr>\n",
       "      <th>40</th>\n",
       "      <td>GENCORP TO SELL LOS ANGELES TELEVISION STATION...</td>\n",
       "      <td>******GENCORP-TO-SELL</td>\n",
       "      <td>[acq]</td>\n",
       "    </tr>\n",
       "    <tr>\n",
       "      <th>48</th>\n",
       "      <td>FRENCH JAN M-3 MONEY SUPPLY ROSE PROV ADJUSTED...</td>\n",
       "      <td>FRENCH-JAN-M-3-MONEY</td>\n",
       "      <td>[money-supply]</td>\n",
       "    </tr>\n",
       "  </tbody>\n",
       "</table>\n",
       "</div>"
      ],
      "text/plain": [
       "                                                title      unknown_processed  \\\n",
       "5   NATIONAL WESTMINSTER BANK SAYS IT CUTTING BASE...   NATIONAL-WESTMINSTER   \n",
       "34  Chrysler to take over Renault stake in America...  Chrysler-to-take-over   \n",
       "36  SOUTHERN CO TO TAKE 226 MLN DLR CHARGE ON PROJ...   ******southern-co-to   \n",
       "40  GENCORP TO SELL LOS ANGELES TELEVISION STATION...  ******GENCORP-TO-SELL   \n",
       "48  FRENCH JAN M-3 MONEY SUPPLY ROSE PROV ADJUSTED...   FRENCH-JAN-M-3-MONEY   \n",
       "\n",
       "            topics  \n",
       "5       [interest]  \n",
       "34           [acq]  \n",
       "36          [earn]  \n",
       "40           [acq]  \n",
       "48  [money-supply]  "
      ]
     },
     "execution_count": 28,
     "metadata": {},
     "output_type": "execute_result"
    }
   ],
   "source": [
    "print('If the body is missing, the title and unknown field can be used to predict labels.')\n",
    "docs_df[docs_df.body.str.len()==0][['title','unknown_processed','topics']].head()"
   ]
  },
  {
   "cell_type": "code",
   "execution_count": 29,
   "metadata": {},
   "outputs": [
    {
     "data": {
      "text/html": [
       "<div>\n",
       "<style scoped>\n",
       "    .dataframe tbody tr th:only-of-type {\n",
       "        vertical-align: middle;\n",
       "    }\n",
       "\n",
       "    .dataframe tbody tr th {\n",
       "        vertical-align: top;\n",
       "    }\n",
       "\n",
       "    .dataframe thead th {\n",
       "        text-align: right;\n",
       "    }\n",
       "</style>\n",
       "<table border=\"1\" class=\"dataframe\">\n",
       "  <thead>\n",
       "    <tr style=\"text-align: right;\">\n",
       "      <th></th>\n",
       "      <th>newid</th>\n",
       "      <th>unknown_processed</th>\n",
       "      <th>title</th>\n",
       "      <th>body</th>\n",
       "      <th>topics</th>\n",
       "      <th>lewissplit</th>\n",
       "    </tr>\n",
       "  </thead>\n",
       "  <tbody>\n",
       "    <tr>\n",
       "      <th>9792</th>\n",
       "      <td>12793</td>\n",
       "      <td></td>\n",
       "      <td></td>\n",
       "      <td></td>\n",
       "      <td>[]</td>\n",
       "      <td>TRAIN</td>\n",
       "    </tr>\n",
       "  </tbody>\n",
       "</table>\n",
       "</div>"
      ],
      "text/plain": [
       "      newid unknown_processed title body topics lewissplit\n",
       "9792  12793                                  []      TRAIN"
      ]
     },
     "execution_count": 29,
     "metadata": {},
     "output_type": "execute_result"
    }
   ],
   "source": [
    "# 1 document is w/o body, title and unknown field. We will exclude it from Training.\n",
    "docs_df[(docs_df.body.str.len()==0) & (docs_df.title.str.len()==0) & (docs_df.unknown_processed.str.len()==0)][['newid','unknown_processed','title','body','topics','lewissplit' ]]"
   ]
  },
  {
   "cell_type": "code",
   "execution_count": 23,
   "metadata": {},
   "outputs": [],
   "source": [
    "docs_df['body'] = docs_df.body.apply(lambda x: clean_text(x))\n",
    "docs_df['unknown_processed'] = docs_df.unknown_processed.apply(lambda x: clean_text(x))\n",
    "docs_df['unknown_processed'].head()\n",
    "\n",
    "# Create additional text variable containing body, title & unknown_processed combined. This should help classifying documents where one of the fields, e.g. body is missing.\n",
    "docs_df['txt_combined'] = docs_df['body'] + ' ' + docs_df['title'] + ' ' + docs_df['unknown_processed']"
   ]
  },
  {
   "cell_type": "code",
   "execution_count": 11,
   "metadata": {},
   "outputs": [
    {
     "data": {
      "text/html": [
       "<div>\n",
       "<style scoped>\n",
       "    .dataframe tbody tr th:only-of-type {\n",
       "        vertical-align: middle;\n",
       "    }\n",
       "\n",
       "    .dataframe tbody tr th {\n",
       "        vertical-align: top;\n",
       "    }\n",
       "\n",
       "    .dataframe thead th {\n",
       "        text-align: right;\n",
       "    }\n",
       "</style>\n",
       "<table border=\"1\" class=\"dataframe\">\n",
       "  <thead>\n",
       "    <tr style=\"text-align: right;\">\n",
       "      <th></th>\n",
       "      <th>newid</th>\n",
       "      <th>unknown_processed</th>\n",
       "      <th>title</th>\n",
       "      <th>body</th>\n",
       "      <th>topics</th>\n",
       "      <th>txt_combined</th>\n",
       "      <th>lewissplit</th>\n",
       "    </tr>\n",
       "  </thead>\n",
       "  <tbody>\n",
       "    <tr>\n",
       "      <th>21573</th>\n",
       "      <td>16996</td>\n",
       "      <td>state of n j in   m</td>\n",
       "      <td>STATE OF N.J. IN 43 MLN DLR PROGRAM STOCK SALE</td>\n",
       "      <td>the state of new jersey said that it sold   st...</td>\n",
       "      <td>[]</td>\n",
       "      <td>the state of new jersey said that it sold   st...</td>\n",
       "      <td>NOT-USED</td>\n",
       "    </tr>\n",
       "    <tr>\n",
       "      <th>21574</th>\n",
       "      <td>16997</td>\n",
       "      <td>du pont lt dd conoco</td>\n",
       "      <td>DU PONT'S &amp;lt;DD&gt; CONOCO FINDS OIL OFFSHORE CONGO</td>\n",
       "      <td>du pont co conoco inc said the viodo marine nu...</td>\n",
       "      <td>[crude]</td>\n",
       "      <td>du pont co conoco inc said the viodo marine nu...</td>\n",
       "      <td>NOT-USED</td>\n",
       "    </tr>\n",
       "    <tr>\n",
       "      <th>21575</th>\n",
       "      <td>16998</td>\n",
       "      <td>falconbridge lt falcf o</td>\n",
       "      <td>FALCONBRIDGE &amp;lt;FALCF.O&gt; SEES IMPROVED RESULTS</td>\n",
       "      <td>falconbridge ltd said it expected results for ...</td>\n",
       "      <td>[nickel, acq]</td>\n",
       "      <td>falconbridge ltd said it expected results for ...</td>\n",
       "      <td>NOT-USED</td>\n",
       "    </tr>\n",
       "    <tr>\n",
       "      <th>21576</th>\n",
       "      <td>16999</td>\n",
       "      <td>symbol technologies lt</td>\n",
       "      <td>SYMBOL TECHNOLOGIES &amp;lt;SMBL.O&gt; FILES SHARE OFFER</td>\n",
       "      <td>symbol technologies inc said it filed with the...</td>\n",
       "      <td>[]</td>\n",
       "      <td>symbol technologies inc said it filed with the...</td>\n",
       "      <td>NOT-USED</td>\n",
       "    </tr>\n",
       "    <tr>\n",
       "      <th>21577</th>\n",
       "      <td>17000</td>\n",
       "      <td>transcanada lt trp den</td>\n",
       "      <td>TRANSCANADA &amp;lt;TRP&gt; DENIES REPORTS OF NEW BID</td>\n",
       "      <td>transcanada pipelines ltd denied reports that ...</td>\n",
       "      <td>[acq]</td>\n",
       "      <td>transcanada pipelines ltd denied reports that ...</td>\n",
       "      <td>NOT-USED</td>\n",
       "    </tr>\n",
       "  </tbody>\n",
       "</table>\n",
       "</div>"
      ],
      "text/plain": [
       "       newid        unknown_processed  \\\n",
       "21573  16996      state of n j in   m   \n",
       "21574  16997     du pont lt dd conoco   \n",
       "21575  16998  falconbridge lt falcf o   \n",
       "21576  16999   symbol technologies lt   \n",
       "21577  17000   transcanada lt trp den   \n",
       "\n",
       "                                                   title  \\\n",
       "21573     STATE OF N.J. IN 43 MLN DLR PROGRAM STOCK SALE   \n",
       "21574  DU PONT'S &lt;DD> CONOCO FINDS OIL OFFSHORE CONGO   \n",
       "21575    FALCONBRIDGE &lt;FALCF.O> SEES IMPROVED RESULTS   \n",
       "21576  SYMBOL TECHNOLOGIES &lt;SMBL.O> FILES SHARE OFFER   \n",
       "21577     TRANSCANADA &lt;TRP> DENIES REPORTS OF NEW BID   \n",
       "\n",
       "                                                    body         topics  \\\n",
       "21573  the state of new jersey said that it sold   st...             []   \n",
       "21574  du pont co conoco inc said the viodo marine nu...        [crude]   \n",
       "21575  falconbridge ltd said it expected results for ...  [nickel, acq]   \n",
       "21576  symbol technologies inc said it filed with the...             []   \n",
       "21577  transcanada pipelines ltd denied reports that ...          [acq]   \n",
       "\n",
       "                                            txt_combined lewissplit  \n",
       "21573  the state of new jersey said that it sold   st...   NOT-USED  \n",
       "21574  du pont co conoco inc said the viodo marine nu...   NOT-USED  \n",
       "21575  falconbridge ltd said it expected results for ...   NOT-USED  \n",
       "21576  symbol technologies inc said it filed with the...   NOT-USED  \n",
       "21577  transcanada pipelines ltd denied reports that ...   NOT-USED  "
      ]
     },
     "execution_count": 11,
     "metadata": {},
     "output_type": "execute_result"
    }
   ],
   "source": [
    "docs_df[['newid','unknown_processed','title','body','topics','txt_combined','lewissplit' ]].tail()"
   ]
  },
  {
   "cell_type": "markdown",
   "metadata": {},
   "source": [
    "# Train test split"
   ]
  },
  {
   "cell_type": "code",
   "execution_count": 24,
   "metadata": {},
   "outputs": [
    {
     "name": "stdout",
     "output_type": "stream",
     "text": [
      "Some topics only occur once or twice. To ensures that we can calculate model performance metrics, we will use only 123/120 topics for prediction.  (In practice, a much higher threshold should be set, e.g. 20 times to train a classifier for a label.)\n"
     ]
    }
   ],
   "source": [
    "X_train = docs_df[(docs_df.lewissplit=='TRAIN') & (docs_df.newid !=12793)]\n",
    "X_test = docs_df[(docs_df.lewissplit=='TEST')].drop('topics', axis=1)\n",
    "\n",
    "# categories to predict - subset on categories that appear more than twice in the training & test set\n",
    "cat_obs_count_train = X_train[cat_df.columns.tolist()].sum()>5\n",
    "categories_with_enough_obs = cat_obs_count_train[cat_obs_count_train.values].index.tolist()\n",
    "\n",
    "cat_obs_count_test = X_test[cat_df.columns.tolist()].sum()>5\n",
    "categories_with_enough_obs_test = cat_obs_count_test[cat_obs_count_test.values].index.tolist()\n",
    "categories_with_enough_obs.extend(categories_with_enough_obs_test)\n",
    "\n",
    "print('Some topics only occur once or twice. To ensures that we can calculate model performance metrics, we will use only {}/120 topics for prediction.  (In practice, a much higher threshold should be set, e.g. 20 times to train a classifier for a label.)'.format(len(categories_with_enough_obs)))"
   ]
  },
  {
   "cell_type": "markdown",
   "metadata": {},
   "source": [
    "# Train classifier"
   ]
  },
  {
   "cell_type": "markdown",
   "metadata": {},
   "source": [
    "Next we train a classifier that fits our problem. We have multiple classes (120 topics) amd each document can belong to multiple classes (up to 16) at the same time. A multi-class multi-label classifier is appropriate in such situations and can be implemented in scikit-learn. "
   ]
  },
  {
   "cell_type": "markdown",
   "metadata": {},
   "source": [
    "### OneVsRest multi-label strategy\n",
    "The OneVsRest strategy can be used for multi-label learning, where a classifier is used to predict multiple labels for each input. This classifier accepts a binary mask over multiple labels. We constructed this in cat_df. The result for each prediction will be an array of 0s and 1s marking which class labels apply to each row input sample.\n",
    "\n",
    "### Linear classifiers\n",
    "The next step implements several linear classifiers: Multi-class version of Naive Bayes (MultinomialNB), stochastic gradient descent (SGDClassifier), Support Vector (LinearSVC), Stochastic gradient descent (SGDClassifier).\n",
    "\n",
    "### Non-linear classifiers\n",
    "To allow for more complex relationship modeling, I compare the linear classifiers to a multi-layer perceptron (MLP) classifier. \n",
    "\n",
    "### Why are these models suitable? \n",
    "\n",
    "**Naive Bayes** and **SVM** are often considered baseline models in text classification. \n",
    "\n",
    "**Naive Bayes** classifier is suitable for classification with discrete features (e.g., word counts for text classification). \n",
    "- It assumes that the probability of occurrence of any word given the class label, is independent of the probability of occurrence of any other word, given its class label.\n",
    "- It also assumes the probability of occurrence of a word in a document, is independent of the location of that word within the document.\n",
    "\n",
    "Text data roughly follows these assumptions, making naive Bayes a good model for text classification problems.  \n",
    "I used the multinomial version here because\n",
    "\n",
    "The **linear support vector machine** extracts the best possible hyper-plane / line that segregates the two classes. It has been found to be one of the best models for text classification. The linear kernel SVM is often recommended for text classification because text is often linearly separable, text has a lot of features. The linear Kernel is most suitable for these cases and is also than other Kernels. \n",
    "\n",
    "It has been [found](https://nlp.stanford.edu/pubs/sidaw12_simple_sentiment.pdf) that NB works better for shorter texts, whereas SVM works better for longer texts. Since the Reuters dataset also has longer documents, this may be one of the reasons why SVM performs best here. \n",
    "\n",
    "\n",
    "**Logistic Regression** classifier measures the relationship between the categorical dependent variable and independent variables by estimating probabilities using a sigmoid function. It is a great baseline model \n",
    "\n",
    "**SDG** is a simple and efficient numerical optimisation method that is used in many machine learning applications. Stochastic gradient descent classifier is a linear classifier (SVM, logistic regression) that uses SGD for training (minimising the loss function). \n",
    "Linear classifiers (SVM, logistic regression, a.o.) with SGD training, whereby the loss function determins the classifier. ‘Log’ loss gives logistic regression, ‘hinge’ (default) gives a linear SVM.\n",
    "\n",
    "A **multi-layer perceptron** is a feedforward neural network that has three or more layers. It utilizes a nonlinear activation function (mainly hyperbolic tangent or logistic function) that lets it classify data that is not linearly separable. Every node in a layer connects to each node in the following layer making the network fully connected.\n",
    "MPL can get better results than NB or SVM because of the non-linearity introduced which is present in some text classification problems. It's worth trying since it can distinguish classes that is not linearly separable and the other models do not allow for non-linearity.\n",
    "\n",
    "\n",
    "### Pipeline\n",
    "In order to make the vectorizer => transformer => classifier easier to work with, scikit-learn provides a Pipeline class that behaves like a compound classifier. \n",
    "\n",
    "The text is passed into a processing step (TfidfVectorizer), which converts a collection of raw documents to a matrix of TF-IDF features. This step counts the term frequencies in the text and scales down terms that occur very frequently in the corpus of documents. Hence, less informative terms have lower values. \n",
    "\n",
    "### Model performance metrics\n",
    "I chose F1 score as evaluation metric to optimise, since it is more robust to imbalanced classes than, e.g. the accuracy score. Using the accuracy score, it is easy to get a score around 99% by simply predicting the majority class, which is zero. \n",
    "\n",
    "There are other options: \n",
    "- Converting the labels to numbers, one could predict multiple labels from the predictions as output and use the recommended F1 scoring method 'f1_samples' in the GridSearch step.\n",
    "- Label ranking average precision: The correct labels should be ranked higher and this metric yields better scores if the model is able to give better rank to the labels associated with each sample. \n",
    "\n",
    "\n",
    "# Tuning\n",
    "I use randomized search, which search the parameter space more efficiently than exhaustive GridSearch.\n",
    "\n",
    "### Possible extensions\n",
    "- Ensemble: train several classifiers on other non-text variables and combine predictions of text and non-text models. For example, performance can be improved by training 1 classifier using text, another using the non-text information in the documents and then combining the 2 classifiers in an ensemble. \n",
    "- Keras implementations to scale on bigger dataset, e.g. [Reuters dataset](https://github.com/philipperemy/Reuters-full-data-set)\n",
    "- Try [nlp.fast.ai](http://nlp.fast.ai/classification/2018/05/15/introducting-ulmfit.html) and [Facebook fastText](https://github.com/facebookresearch/fastText) \n",
    "- Explore bigger parameter space using further efficiency improvements (early stopping in random search)\n",
    "- Feature engineering: e.g. word embedding layers for deep learning with Keras, Word2Vec, GloVe\n",
    "- Rerun models on full Reuters dataset "
   ]
  },
  {
   "cell_type": "markdown",
   "metadata": {},
   "source": [
    "# LinearSVC"
   ]
  },
  {
   "cell_type": "code",
   "execution_count": 18,
   "metadata": {},
   "outputs": [],
   "source": [
    "# silence some warnings (version incompatibilities btw. h5py and numpy)\n",
    "import warnings\n",
    "warnings.simplefilter('ignore')"
   ]
  },
  {
   "cell_type": "code",
   "execution_count": 14,
   "metadata": {
    "scrolled": true
   },
   "outputs": [
    {
     "name": "stdout",
     "output_type": "stream",
     "text": [
      "... Processing oilseed\n",
      "Test F1 score is 0.5714285714285714\n",
      "... Processing reserves\n",
      "Test F1 score is 0.6153846153846153\n",
      "... Processing gold\n",
      "Test F1 score is 0.41860465116279066\n",
      "... Processing wpi\n",
      "Test F1 score is 0.5714285714285715\n",
      "... Processing cocoa\n",
      "Test F1 score is 0.6666666666666666\n",
      "... Processing acq\n",
      "Test F1 score is 0.754047802621434\n",
      "... Processing ship\n",
      "Test F1 score is 0.6222222222222222\n",
      "... Processing soy-meal\n",
      "Test F1 score is 0.14285714285714288\n",
      "... Processing meal-feed\n",
      "Test F1 score is 0.2727272727272727\n",
      "... Processing strategic-metal\n",
      "Test F1 score is 0.0\n",
      "... Processing yen\n",
      "Test F1 score is 0.0\n",
      "... Processing wheat\n",
      "Test F1 score is 0.7438016528925621\n",
      "... Processing cpi\n",
      "Test F1 score is 0.3888888888888889\n",
      "... Processing rapeseed\n",
      "Test F1 score is 0.6153846153846153\n",
      "... Processing silver\n",
      "Test F1 score is 0.0\n",
      "... Processing bop\n",
      "Test F1 score is 0.5454545454545455\n",
      "... Processing cotton\n",
      "Test F1 score is 0.6666666666666666\n",
      "... Processing income\n",
      "Test F1 score is 0.0\n",
      "... Processing hog\n",
      "Test F1 score is 0.30769230769230765\n",
      "... Processing lead\n",
      "Test F1 score is 0.0\n",
      "... Processing gas\n",
      "Test F1 score is 0.5217391304347826\n",
      "... Processing interest\n",
      "Test F1 score is 0.58\n",
      "... Processing ipi\n",
      "Test F1 score is 0.5\n",
      "... Processing livestock\n",
      "Test F1 score is 0.3076923076923077\n",
      "... Processing gnp\n",
      "Test F1 score is 0.689655172413793\n",
      "... Processing grain\n",
      "Test F1 score is 0.7591836734693876\n",
      "... Processing iron-steel\n",
      "Test F1 score is 0.4\n",
      "... Processing veg-oil\n",
      "Test F1 score is 0.5925925925925927\n",
      "... Processing jobs\n",
      "Test F1 score is 0.6\n",
      "... Processing orange\n",
      "Test F1 score is 0.625\n",
      "... Processing coffee\n",
      "Test F1 score is 0.9056603773584904\n",
      "... Processing oat\n",
      "Test F1 score is 0.0\n",
      "... Processing copper\n",
      "Test F1 score is 0.7272727272727272\n",
      "... Processing alum\n",
      "Test F1 score is 0.3571428571428571\n",
      "... Processing soybean\n",
      "Test F1 score is 0.5106382978723404\n",
      "... Processing nat-gas\n",
      "Test F1 score is 0.5\n",
      "... Processing dlr\n",
      "Test F1 score is 0.4067796610169491\n",
      "... Processing zinc\n",
      "Test F1 score is 0.375\n",
      "... Processing money-supply\n",
      "Test F1 score is 0.5555555555555556\n",
      "... Processing carcass\n",
      "Test F1 score is 0.3478260869565218\n",
      "... Processing soy-oil\n",
      "Test F1 score is 0.0\n",
      "... Processing earn\n",
      "Test F1 score is 0.8323083230832309\n",
      "... Processing tin\n",
      "Test F1 score is 0.5\n",
      "... Processing corn\n",
      "Test F1 score is 0.6666666666666667\n",
      "... Processing trade\n",
      "Test F1 score is 0.6291079812206571\n",
      "... Processing money-fx\n",
      "Test F1 score is 0.5244755244755245\n",
      "... Processing fuel\n",
      "Test F1 score is 0.33333333333333337\n",
      "... Processing sorghum\n",
      "Test F1 score is 0.30769230769230765\n",
      "... Processing sugar\n",
      "Test F1 score is 0.7936507936507936\n",
      "... Processing rubber\n",
      "Test F1 score is 0.6666666666666666\n",
      "... Processing barley\n",
      "Test F1 score is 0.4444444444444445\n",
      "... Processing lumber\n",
      "Test F1 score is 0.0\n",
      "... Processing crude\n",
      "Test F1 score is 0.7129337539432176\n",
      "... Processing rice\n",
      "Test F1 score is 0.5294117647058825\n",
      "... Processing pet-chem\n",
      "Test F1 score is 0.0\n",
      "... Processing palm-oil\n",
      "Test F1 score is 0.5714285714285715\n"
     ]
    }
   ],
   "source": [
    "SVC_clf = Pipeline([\n",
    "                ('tfidf', TfidfVectorizer(stop_words=stop_words)),\n",
    "                ('clf', OneVsRestClassifier(LinearSVC())),\n",
    "            ])\n",
    "svc_scores = {}\n",
    "for category in categories_with_enough_obs:\n",
    "    print('... Processing {}'.format(category))\n",
    "    # train the model using train_body & y_class\n",
    "    SVC_clf.fit(X_train.body, X_train[category])\n",
    "    # compute the testing F1 score\n",
    "    prediction = SVC_clf.predict(X_test.body)\n",
    "    f1_value = f1_score(X_test[category], prediction)\n",
    "    svc_scores[category] = f1_value\n",
    "    print('Test F1 score is {}'.format(f1_value))"
   ]
  },
  {
   "cell_type": "code",
   "execution_count": 15,
   "metadata": {},
   "outputs": [
    {
     "name": "stdout",
     "output_type": "stream",
     "text": [
      "... Processing oilseed\n",
      "Test F1 score is 0.5675675675675675\n",
      "... Processing reserves\n",
      "Test F1 score is 0.6896551724137931\n",
      "... Processing gold\n",
      "Test F1 score is 0.5531914893617021\n",
      "... Processing wpi\n",
      "Test F1 score is 0.8235294117647058\n",
      "... Processing cocoa\n",
      "Test F1 score is 0.75\n",
      "... Processing acq\n",
      "Test F1 score is 0.8237015362106802\n",
      "... Processing ship\n",
      "Test F1 score is 0.6330935251798561\n",
      "... Processing soy-meal\n",
      "Test F1 score is 0.14285714285714288\n",
      "... Processing meal-feed\n",
      "Test F1 score is 0.2727272727272727\n",
      "... Processing strategic-metal\n",
      "Test F1 score is 0.0\n",
      "... Processing yen\n",
      "Test F1 score is 0.0\n",
      "... Processing wheat\n",
      "Test F1 score is 0.8031496062992126\n",
      "... Processing cpi\n",
      "Test F1 score is 0.5128205128205129\n",
      "... Processing rapeseed\n",
      "Test F1 score is 0.6153846153846153\n",
      "... Processing silver\n",
      "Test F1 score is 0.0\n",
      "... Processing bop\n",
      "Test F1 score is 0.68\n",
      "... Processing cotton\n",
      "Test F1 score is 0.5714285714285715\n",
      "... Processing income\n",
      "Test F1 score is 0.4444444444444445\n",
      "... Processing hog\n",
      "Test F1 score is 0.28571428571428575\n",
      "... Processing lead\n",
      "Test F1 score is 0.0\n",
      "... Processing gas\n",
      "Test F1 score is 0.6923076923076924\n",
      "... Processing interest\n",
      "Test F1 score is 0.6604651162790698\n",
      "... Processing ipi\n",
      "Test F1 score is 0.8181818181818182\n",
      "... Processing livestock\n",
      "Test F1 score is 0.2631578947368421\n",
      "... Processing gnp\n",
      "Test F1 score is 0.6909090909090908\n",
      "... Processing grain\n",
      "Test F1 score is 0.8333333333333334\n",
      "... Processing iron-steel\n",
      "Test F1 score is 0.4761904761904762\n",
      "... Processing veg-oil\n",
      "Test F1 score is 0.5925925925925927\n",
      "... Processing jobs\n",
      "Test F1 score is 0.7272727272727273\n",
      "... Processing orange\n",
      "Test F1 score is 0.625\n",
      "... Processing coffee\n",
      "Test F1 score is 0.923076923076923\n",
      "... Processing oat\n",
      "Test F1 score is 0.0\n",
      "... Processing copper\n",
      "Test F1 score is 0.7333333333333334\n",
      "... Processing alum\n",
      "Test F1 score is 0.2857142857142857\n",
      "... Processing soybean\n",
      "Test F1 score is 0.5769230769230769\n",
      "... Processing nat-gas\n",
      "Test F1 score is 0.5\n",
      "... Processing dlr\n",
      "Test F1 score is 0.6027397260273972\n",
      "... Processing zinc\n",
      "Test F1 score is 0.47058823529411764\n",
      "... Processing money-supply\n",
      "Test F1 score is 0.6769230769230768\n",
      "... Processing carcass\n",
      "Test F1 score is 0.5\n",
      "... Processing soy-oil\n",
      "Test F1 score is 0.0\n",
      "... Processing earn\n",
      "Test F1 score is 0.8095421315890727\n",
      "... Processing tin\n",
      "Test F1 score is 0.6666666666666666\n",
      "... Processing corn\n",
      "Test F1 score is 0.8118811881188118\n",
      "... Processing trade\n",
      "Test F1 score is 0.6728110599078341\n",
      "... Processing money-fx\n",
      "Test F1 score is 0.5751633986928104\n",
      "... Processing fuel\n",
      "Test F1 score is 0.33333333333333337\n",
      "... Processing sorghum\n",
      "Test F1 score is 0.30769230769230765\n",
      "... Processing sugar\n",
      "Test F1 score is 0.7666666666666666\n",
      "... Processing rubber\n",
      "Test F1 score is 0.2857142857142857\n",
      "... Processing barley\n",
      "Test F1 score is 0.7272727272727273\n",
      "... Processing lumber\n",
      "Test F1 score is 0.0\n",
      "... Processing crude\n",
      "Test F1 score is 0.790560471976401\n",
      "... Processing rice\n",
      "Test F1 score is 0.5\n",
      "... Processing pet-chem\n",
      "Test F1 score is 0.0\n",
      "... Processing palm-oil\n",
      "Test F1 score is 0.6666666666666666\n"
     ]
    }
   ],
   "source": [
    "SVC_clf = Pipeline([\n",
    "                ('tfidf', TfidfVectorizer(stop_words=stop_words)),\n",
    "                ('clf', LinearSVC()),\n",
    "            ])\n",
    "svc_scores2 = {}\n",
    "for category in categories_with_enough_obs:\n",
    "    print('... Processing {}'.format(category))\n",
    "    # train the model using train_body & y_class\n",
    "    SVC_clf.fit(X_train.txt_combined, X_train[category])\n",
    "    # compute the testing F1 score\n",
    "    prediction = SVC_clf.predict(X_test.txt_combined)\n",
    "    f1_value = f1_score(X_test[category], prediction)\n",
    "    svc_scores2[category] = f1_value\n",
    "    print('Test F1 score is {}'.format(f1_value))"
   ]
  },
  {
   "cell_type": "code",
   "execution_count": 92,
   "metadata": {},
   "outputs": [
    {
     "name": "stdout",
     "output_type": "stream",
     "text": [
      "Using the combined text variable \"txt_combined\" instead of \"body\", improves the F1 score by 5.5% on average\n"
     ]
    }
   ],
   "source": [
    "# Comparing the performance btw.'body' and 'txt_combined'\n",
    "diff = {x: svc_scores2[x] - svc_scores[x] for x in svc_scores2 if x in svc_scores}\n",
    "print('Using the combined text variable \"txt_combined\" instead of \"body\", improves the F1 score by {:.2g}% on average'.format(100*(sum(diff.values())/len(diff))))"
   ]
  },
  {
   "cell_type": "markdown",
   "metadata": {},
   "source": [
    "A point to note is that the performance for documents with \"body\" actually seems to worsen. A better feature would be to use \"txt_combined\" whenever \"body\" is empty."
   ]
  },
  {
   "cell_type": "code",
   "execution_count": 114,
   "metadata": {},
   "outputs": [
    {
     "name": "stdout",
     "output_type": "stream",
     "text": [
      "\n",
      "20 most discriminating words:\n",
      "shipping        2.631469\n",
      "ships           2.341930\n",
      "vessels         2.072995\n",
      "port            1.945230\n",
      "vessel          1.706659\n",
      "mt              1.581577\n",
      "seamen          1.579861\n",
      "cargo           1.427407\n",
      "ship            1.311303\n",
      "canal           1.301302\n",
      "sea             1.231398\n",
      "freight         1.214308\n",
      "tankers         1.202379\n",
      "dwt             1.171242\n",
      "transport       1.162541\n",
      "harbour         1.116598\n",
      "river           1.090166\n",
      "tanker          1.048441\n",
      "warships        1.048380\n",
      "shipbuilding    0.948403\n",
      "dtype: float64\n"
     ]
    }
   ],
   "source": [
    "# Print largest coefficients\n",
    "vec, clf = SVC_clf.named_steps['tfidf'], SVC_clf.named_steps['clf']\n",
    "coefs = pd.Series(clf.coef_[0], index=vec.get_feature_names())\n",
    "print(\"\\n20 most discriminating words:\")\n",
    "print(coefs[coefs.abs().sort_values(ascending=False).index][:20])"
   ]
  },
  {
   "cell_type": "markdown",
   "metadata": {},
   "source": [
    "# Stochastic gradient descent "
   ]
  },
  {
   "cell_type": "code",
   "execution_count": 228,
   "metadata": {},
   "outputs": [
    {
     "name": "stdout",
     "output_type": "stream",
     "text": [
      "... Processing oilseed\n",
      "Test F1 score is 0.3728813559322034\n",
      "... Processing reserves\n",
      "Test F1 score is 0.3636363636363636\n",
      "... Processing gold\n",
      "Test F1 score is 0.4888888888888889\n",
      "... Processing wpi\n",
      "Test F1 score is 0.0\n",
      "... Processing cocoa\n",
      "Test F1 score is 0.6666666666666666\n",
      "... Processing acq\n",
      "Test F1 score is 0.7533281127642913\n",
      "... Processing ship\n",
      "Test F1 score is 0.6277372262773723\n",
      "... Processing soy-meal\n",
      "Test F1 score is 0.0\n",
      "... Processing meal-feed\n",
      "Test F1 score is 0.0\n",
      "... Processing strategic-metal\n",
      "Test F1 score is 0.0\n",
      "... Processing yen\n",
      "Test F1 score is 0.0\n",
      "... Processing wheat\n",
      "Test F1 score is 0.7304347826086957\n",
      "... Processing cpi\n",
      "Test F1 score is 0.4\n",
      "... Processing rapeseed\n",
      "Test F1 score is 0.6153846153846153\n",
      "... Processing silver\n",
      "Test F1 score is 0.0\n",
      "... Processing bop\n",
      "Test F1 score is 0.4878048780487804\n",
      "... Processing cotton\n",
      "Test F1 score is 0.5714285714285715\n",
      "... Processing income\n",
      "Test F1 score is 0.0\n",
      "... Processing hog\n",
      "Test F1 score is 0.0\n",
      "... Processing lead\n",
      "Test F1 score is 0.0\n",
      "... Processing gas\n",
      "Test F1 score is 0.3\n",
      "... Processing interest\n",
      "Test F1 score is 0.5786802030456852\n",
      "... Processing ipi\n",
      "Test F1 score is 0.2857142857142857\n",
      "... Processing livestock\n",
      "Test F1 score is 0.2222222222222222\n",
      "... Processing gnp\n",
      "Test F1 score is 0.588235294117647\n",
      "... Processing grain\n",
      "Test F1 score is 0.7468879668049793\n",
      "... Processing iron-steel\n",
      "Test F1 score is 0.3157894736842105\n",
      "... Processing veg-oil\n",
      "Test F1 score is 0.5490196078431372\n",
      "... Processing jobs\n",
      "Test F1 score is 0.6\n",
      "... Processing orange\n",
      "Test F1 score is 0.42857142857142855\n",
      "... Processing coffee\n",
      "Test F1 score is 0.9056603773584904\n",
      "... Processing oat\n",
      "Test F1 score is 0.0\n",
      "... Processing copper\n",
      "Test F1 score is 0.6451612903225806\n",
      "... Processing alum\n",
      "Test F1 score is 0.29629629629629634\n",
      "... Processing soybean\n",
      "Test F1 score is 0.3076923076923077\n",
      "... Processing nat-gas\n",
      "Test F1 score is 0.3809523809523809\n",
      "... Processing dlr\n",
      "Test F1 score is 0.2745098039215686\n",
      "... Processing zinc\n",
      "Test F1 score is 0.14285714285714288\n",
      "... Processing money-supply\n",
      "Test F1 score is 0.4782608695652174\n",
      "... Processing carcass\n",
      "Test F1 score is 0.2857142857142857\n",
      "... Processing soy-oil\n",
      "Test F1 score is 0.0\n",
      "... Processing earn\n",
      "Test F1 score is 0.8300653594771242\n",
      "... Processing tin\n",
      "Test F1 score is 0.4\n",
      "... Processing corn\n",
      "Test F1 score is 0.6506024096385542\n",
      "... Processing trade\n",
      "Test F1 score is 0.6066350710900476\n",
      "... Processing money-fx\n",
      "Test F1 score is 0.5074626865671642\n",
      "... Processing fuel\n",
      "Test F1 score is 0.18181818181818182\n",
      "... Processing sorghum\n",
      "Test F1 score is 0.18181818181818182\n",
      "... Processing sugar\n",
      "Test F1 score is 0.8253968253968254\n",
      "... Processing rubber\n",
      "Test F1 score is 0.6666666666666666\n",
      "... Processing barley\n",
      "Test F1 score is 0.4444444444444445\n",
      "... Processing lumber\n",
      "Test F1 score is 0.0\n",
      "... Processing crude\n",
      "Test F1 score is 0.6883116883116883\n",
      "... Processing rice\n",
      "Test F1 score is 0.43750000000000006\n",
      "... Processing pet-chem\n",
      "Test F1 score is 0.0\n",
      "... Processing palm-oil\n",
      "Test F1 score is 0.5714285714285715\n"
     ]
    }
   ],
   "source": [
    "SGD_clf = Pipeline([\n",
    "                ('tfidf', TfidfVectorizer(stop_words=stop_words)),\n",
    "                ('clf', OneVsRestClassifier(SGDClassifier())),\n",
    "            ])\n",
    "sgd_scores = {}\n",
    "for category in categories_with_enough_obs:\n",
    "    print('... Processing {}'.format(category))\n",
    "    # train the model using train_body & y_class\n",
    "    SGD_clf.fit(X_train.body, X_train[category])\n",
    "    # compute the testing F1 score\n",
    "    prediction = SGD_clf.predict(X_test.body)\n",
    "    f1_value = f1_score(X_test[category], prediction)\n",
    "    sgd_scores[category] = f1_value\n",
    "    print('Test F1 score is {}'.format(f1_value))"
   ]
  },
  {
   "cell_type": "code",
   "execution_count": 103,
   "metadata": {},
   "outputs": [
    {
     "name": "stdout",
     "output_type": "stream",
     "text": [
      "Using a default SVC instead of SGD classifier improves the F1 score by 14% on average\n"
     ]
    }
   ],
   "source": [
    "# Comparing SVC vs. SGD model performance \n",
    "diff = {x: svc_scores2[x] - sgd_scores[x] for x in svc_scores2 if x in sgd_scores}\n",
    "print('Using a default SVC instead of SGD classifier improves the F1 score by {:.0%} on average'.format(sum(diff.values())/len(diff)))"
   ]
  },
  {
   "cell_type": "markdown",
   "metadata": {},
   "source": [
    "Hence the best default model remains the Support vector classifier. "
   ]
  },
  {
   "cell_type": "markdown",
   "metadata": {},
   "source": [
    "# MultinomialNB\n",
    "\n",
    "We notice that the multinomial version of naive Bayes does not predict any positive classes. Hence F1 score is always 0. "
   ]
  },
  {
   "cell_type": "code",
   "execution_count": 50,
   "metadata": {},
   "outputs": [
    {
     "name": "stdout",
     "output_type": "stream",
     "text": [
      "... Processing acq\n",
      "Test F1 score is 0.4364012409513961\n",
      "... Processing alum\n",
      "Test F1 score is 0.08\n",
      "... Processing barley\n",
      "Test F1 score is 0.0\n",
      "... Processing bop\n",
      "Test F1 score is 0.0\n",
      "... Processing carcass\n",
      "Test F1 score is 0.0\n",
      "... Processing cocoa\n",
      "Test F1 score is 0.25\n",
      "... Processing coffee\n",
      "Test F1 score is 0.0625\n",
      "... Processing copper\n",
      "Test F1 score is 0.0\n",
      "... Processing corn\n",
      "Test F1 score is 0.12903225806451613\n",
      "... Processing cotton\n",
      "Test F1 score is 0.0\n",
      "... Processing cpi\n",
      "Test F1 score is 0.0\n",
      "... Processing crude\n",
      "Test F1 score is 0.32173913043478264\n",
      "... Processing dlr\n",
      "Test F1 score is 0.1568627450980392\n",
      "... Processing dmk\n",
      "Test F1 score is 0.0\n",
      "... Processing earn\n",
      "Test F1 score is 0.8031366075113494\n",
      "... Processing fuel\n",
      "Test F1 score is 0.0\n",
      "... Processing gas\n",
      "Test F1 score is 0.10526315789473684\n",
      "... Processing gnp\n",
      "Test F1 score is 0.0\n",
      "... Processing gold\n",
      "Test F1 score is 0.0\n",
      "... Processing grain\n",
      "Test F1 score is 0.3636363636363636\n",
      "... Processing heat\n",
      "Test F1 score is 0.0\n",
      "... Processing hog\n",
      "Test F1 score is 0.0\n",
      "... Processing housing\n",
      "Test F1 score is 0.0\n",
      "... Processing income\n",
      "Test F1 score is 0.0\n",
      "... Processing interest\n",
      "Test F1 score is 0.029197080291970802\n",
      "... Processing ipi\n",
      "Test F1 score is 0.0\n",
      "... Processing iron-steel\n",
      "Test F1 score is 0.0\n",
      "... Processing jobs\n",
      "Test F1 score is 0.0\n",
      "... Processing l-cattle\n",
      "Test F1 score is 0.0\n",
      "... Processing lead\n",
      "Test F1 score is 0.0\n",
      "... Processing lei\n",
      "Test F1 score is 0.0\n",
      "... Processing livestock\n",
      "Test F1 score is 0.0\n",
      "... Processing lumber\n",
      "Test F1 score is 0.0\n",
      "... Processing meal-feed\n",
      "Test F1 score is 0.0\n",
      "... Processing money-fx\n",
      "Test F1 score is 0.23255813953488372\n",
      "... Processing money-supply\n",
      "Test F1 score is 0.0\n",
      "... Processing nat-gas\n",
      "Test F1 score is 0.0\n",
      "... Processing nickel\n",
      "Test F1 score is 0.0\n",
      "... Processing oat\n",
      "Test F1 score is 0.0\n",
      "... Processing oilseed\n",
      "Test F1 score is 0.07692307692307691\n",
      "... Processing orange\n",
      "Test F1 score is 0.0\n",
      "... Processing palm-oil\n",
      "Test F1 score is 0.0\n",
      "... Processing pet-chem\n",
      "Test F1 score is 0.0\n",
      "... Processing rapeseed\n",
      "Test F1 score is 0.0\n",
      "... Processing reserves\n",
      "Test F1 score is 0.0\n",
      "... Processing retail\n",
      "Test F1 score is 0.0\n",
      "... Processing rice\n",
      "Test F1 score is 0.0\n",
      "... Processing rubber\n",
      "Test F1 score is 0.0\n",
      "... Processing ship\n",
      "Test F1 score is 0.17647058823529413\n",
      "... Processing silver\n",
      "Test F1 score is 0.0\n",
      "... Processing sorghum\n",
      "Test F1 score is 0.0\n",
      "... Processing soy-meal\n",
      "Test F1 score is 0.0\n",
      "... Processing soy-oil\n",
      "Test F1 score is 0.0\n",
      "... Processing soybean\n",
      "Test F1 score is 0.15789473684210525\n",
      "... Processing stg\n",
      "Test F1 score is 0.0\n",
      "... Processing strategic-metal\n",
      "Test F1 score is 0.0\n",
      "... Processing sugar\n",
      "Test F1 score is 0.14634146341463414\n",
      "... Processing sunseed\n",
      "Test F1 score is 0.0\n",
      "... Processing tea\n",
      "Test F1 score is 0.0\n",
      "... Processing tin\n",
      "Test F1 score is 0.0\n",
      "... Processing trade\n",
      "Test F1 score is 0.0\n",
      "... Processing veg-oil\n",
      "Test F1 score is 0.0\n",
      "... Processing wheat\n",
      "Test F1 score is 0.10256410256410255\n",
      "... Processing wpi\n",
      "Test F1 score is 0.0\n",
      "... Processing yen\n",
      "Test F1 score is 0.0\n",
      "... Processing zinc\n",
      "Test F1 score is 0.0\n",
      "... Processing acq\n",
      "Test F1 score is 0.4364012409513961\n",
      "... Processing alum\n",
      "Test F1 score is 0.08\n",
      "... Processing barley\n",
      "Test F1 score is 0.0\n",
      "... Processing bop\n",
      "Test F1 score is 0.0\n",
      "... Processing carcass\n",
      "Test F1 score is 0.0\n",
      "... Processing cocoa\n",
      "Test F1 score is 0.25\n",
      "... Processing coffee\n",
      "Test F1 score is 0.0625\n",
      "... Processing copper\n",
      "Test F1 score is 0.0\n",
      "... Processing corn\n",
      "Test F1 score is 0.12903225806451613\n",
      "... Processing cotton\n",
      "Test F1 score is 0.0\n",
      "... Processing cpi\n",
      "Test F1 score is 0.0\n",
      "... Processing crude\n",
      "Test F1 score is 0.32173913043478264\n",
      "... Processing dlr\n",
      "Test F1 score is 0.1568627450980392\n",
      "... Processing earn\n",
      "Test F1 score is 0.8031366075113494\n",
      "... Processing fuel\n",
      "Test F1 score is 0.0\n",
      "... Processing gas\n",
      "Test F1 score is 0.10526315789473684\n",
      "... Processing gnp\n",
      "Test F1 score is 0.0\n",
      "... Processing gold\n",
      "Test F1 score is 0.0\n",
      "... Processing grain\n",
      "Test F1 score is 0.3636363636363636\n",
      "... Processing hog\n",
      "Test F1 score is 0.0\n",
      "... Processing income\n",
      "Test F1 score is 0.0\n",
      "... Processing interest\n",
      "Test F1 score is 0.029197080291970802\n",
      "... Processing ipi\n",
      "Test F1 score is 0.0\n",
      "... Processing iron-steel\n",
      "Test F1 score is 0.0\n",
      "... Processing jobs\n",
      "Test F1 score is 0.0\n",
      "... Processing lead\n",
      "Test F1 score is 0.0\n",
      "... Processing livestock\n",
      "Test F1 score is 0.0\n",
      "... Processing lumber\n",
      "Test F1 score is 0.0\n",
      "... Processing meal-feed\n",
      "Test F1 score is 0.0\n",
      "... Processing money-fx\n",
      "Test F1 score is 0.23255813953488372\n",
      "... Processing money-supply\n",
      "Test F1 score is 0.0\n",
      "... Processing nat-gas\n",
      "Test F1 score is 0.0\n",
      "... Processing oat\n",
      "Test F1 score is 0.0\n",
      "... Processing oilseed\n",
      "Test F1 score is 0.07692307692307691\n",
      "... Processing orange\n",
      "Test F1 score is 0.0\n",
      "... Processing palm-oil\n",
      "Test F1 score is 0.0\n",
      "... Processing pet-chem\n",
      "Test F1 score is 0.0\n",
      "... Processing platinum\n",
      "Test F1 score is 0.0\n",
      "... Processing rapeseed\n",
      "Test F1 score is 0.0\n",
      "... Processing reserves\n",
      "Test F1 score is 0.0\n",
      "... Processing rice\n",
      "Test F1 score is 0.0\n",
      "... Processing rubber\n",
      "Test F1 score is 0.0\n",
      "... Processing ship\n",
      "Test F1 score is 0.17647058823529413\n",
      "... Processing silver\n",
      "Test F1 score is 0.0\n",
      "... Processing sorghum\n",
      "Test F1 score is 0.0\n",
      "... Processing soy-meal\n",
      "Test F1 score is 0.0\n",
      "... Processing soy-oil\n",
      "Test F1 score is 0.0\n",
      "... Processing soybean\n",
      "Test F1 score is 0.15789473684210525\n",
      "... Processing strategic-metal\n",
      "Test F1 score is 0.0\n",
      "... Processing sugar\n",
      "Test F1 score is 0.14634146341463414\n",
      "... Processing tin\n",
      "Test F1 score is 0.0\n",
      "... Processing trade\n",
      "Test F1 score is 0.0\n",
      "... Processing veg-oil\n",
      "Test F1 score is 0.0\n",
      "... Processing wheat\n",
      "Test F1 score is 0.10256410256410255\n",
      "... Processing wpi\n",
      "Test F1 score is 0.0\n",
      "... Processing yen\n",
      "Test F1 score is 0.0\n",
      "... Processing zinc\n",
      "Test F1 score is 0.0\n",
      "Mean F1 score of Multinomial naive Bayes: 0.054186875991003754.\n"
     ]
    }
   ],
   "source": [
    "# precision = TP/(TP+FP) as you've just said if predictor doesn't predicts positive class at all - precision is 0.\n",
    "# recall = TP/(TP+FN), in case if predictor doesn't predict positive class - TP is 0 - recall is 0.\n",
    "# So now you are dividing 0/0.\n",
    "NB_clf = Pipeline([\n",
    "                ('tfidf', TfidfVectorizer(stop_words=stop_words)),\n",
    "                ('clf', OneVsRestClassifier(MultinomialNB( \n",
    "                        fit_prior=False, class_prior=None))),\n",
    "            ])\n",
    "\n",
    "nb_scores = {}\n",
    "for category in categories_with_enough_obs:\n",
    "    print('... Processing {}'.format(category))\n",
    "    # train the model using train_body & y_class\n",
    "    NB_clf.fit(X_train.txt_combined, X_train[category])\n",
    "    # compute the testing F1 score\n",
    "    prediction = NB_clf.predict(X_test.txt_combined)\n",
    "    f1_value = f1_score(X_test[category], prediction)\n",
    "    nb_scores[category] = f1_value\n",
    "    print('Test F1 score is {}'.format(f1_value))\n",
    "print('Mean F1 score of Multinomial naive Bayes: {}.'.format(sum(nb_scores.values())/len(nb_scores.values())))"
   ]
  },
  {
   "cell_type": "markdown",
   "metadata": {},
   "source": [
    "# Logistic Regression"
   ]
  },
  {
   "cell_type": "code",
   "execution_count": 97,
   "metadata": {},
   "outputs": [
    {
     "name": "stdout",
     "output_type": "stream",
     "text": [
      "... Processing trade\n",
      "Test F1 score is 0.5775401069518716\n",
      "... Processing carcass\n",
      "Test F1 score is 0.10526315789473684\n",
      "... Processing silver\n",
      "Test F1 score is 0.0\n",
      "... Processing money-supply\n",
      "Test F1 score is 0.40909090909090906\n",
      "... Processing reserves\n",
      "Test F1 score is 0.19999999999999998\n",
      "... Processing palm-oil\n",
      "Test F1 score is 0.0\n",
      "... Processing lumber\n",
      "Test F1 score is 0.0\n",
      "... Processing sorghum\n",
      "Test F1 score is 0.0\n",
      "... Processing sugar\n",
      "Test F1 score is 0.4347826086956522\n",
      "... Processing soy-oil\n",
      "Test F1 score is 0.0\n",
      "... Processing ipi\n",
      "Test F1 score is 0.0\n",
      "... Processing money-fx\n",
      "Test F1 score is 0.46031746031746035\n",
      "... Processing rice\n",
      "Test F1 score is 0.0\n",
      "... Processing coffee\n",
      "Test F1 score is 0.6\n",
      "... Processing cpi\n",
      "Test F1 score is 0.25\n",
      "... Processing orange\n",
      "Test F1 score is 0.0\n",
      "... Processing iron-steel\n",
      "Test F1 score is 0.0\n",
      "... Processing soybean\n",
      "Test F1 score is 0.0\n",
      "... Processing yen\n",
      "Test F1 score is 0.0\n",
      "... Processing corn\n",
      "Test F1 score is 0.49350649350649356\n",
      "... Processing rubber\n",
      "Test F1 score is 0.0\n",
      "... Processing gnp\n",
      "Test F1 score is 0.33333333333333337\n",
      "... Processing strategic-metal\n",
      "Test F1 score is 0.0\n",
      "... Processing acq\n",
      "Test F1 score is 0.722176422093982\n",
      "... Processing interest\n",
      "Test F1 score is 0.47252747252747246\n",
      "... Processing alum\n",
      "Test F1 score is 0.0\n",
      "... Processing tin\n",
      "Test F1 score is 0.0\n",
      "... Processing grain\n",
      "Test F1 score is 0.70995670995671\n",
      "... Processing barley\n",
      "Test F1 score is 0.0\n",
      "... Processing soy-meal\n",
      "Test F1 score is 0.0\n",
      "... Processing lead\n",
      "Test F1 score is 0.0\n",
      "... Processing zinc\n",
      "Test F1 score is 0.0\n",
      "... Processing jobs\n",
      "Test F1 score is 0.25\n",
      "... Processing gold\n",
      "Test F1 score is 0.1212121212121212\n",
      "... Processing oat\n",
      "Test F1 score is 0.0\n",
      "... Processing hog\n",
      "Test F1 score is 0.0\n",
      "... Processing gas\n",
      "Test F1 score is 0.0\n",
      "... Processing nat-gas\n",
      "Test F1 score is 0.0\n",
      "... Processing meal-feed\n",
      "Test F1 score is 0.0\n",
      "... Processing livestock\n",
      "Test F1 score is 0.0\n",
      "... Processing fuel\n",
      "Test F1 score is 0.0\n",
      "... Processing dlr\n",
      "Test F1 score is 0.25925925925925924\n",
      "... Processing oilseed\n",
      "Test F1 score is 0.08\n",
      "... Processing pet-chem\n",
      "Test F1 score is 0.0\n",
      "... Processing cotton\n",
      "Test F1 score is 0.0\n",
      "... Processing earn\n",
      "Test F1 score is 0.8197115384615384\n",
      "... Processing income\n",
      "Test F1 score is 0.0\n",
      "... Processing cocoa\n",
      "Test F1 score is 0.3636363636363636\n",
      "... Processing bop\n",
      "Test F1 score is 0.23529411764705882\n",
      "... Processing crude\n",
      "Test F1 score is 0.6505190311418685\n",
      "... Processing veg-oil\n",
      "Test F1 score is 0.052631578947368425\n",
      "... Processing wpi\n",
      "Test F1 score is 0.0\n",
      "... Processing copper\n",
      "Test F1 score is 0.10526315789473684\n",
      "... Processing rapeseed\n",
      "Test F1 score is 0.0\n",
      "... Processing wheat\n",
      "Test F1 score is 0.6153846153846154\n",
      "... Processing ship\n",
      "Test F1 score is 0.21999999999999997\n"
     ]
    }
   ],
   "source": [
    "LR_clf = Pipeline([\n",
    "                ('tfidf', TfidfVectorizer(stop_words=stop_words)),\n",
    "                ('clf', OneVsRestClassifier(LogisticRegression(solver='sag'), n_jobs=1)),\n",
    "            ])\n",
    "\n",
    "lr_scores = {}\n",
    "for category in categories_with_enough_obs:\n",
    "    print('... Processing {}'.format(category))\n",
    "    # train the model using train_body & y_class\n",
    "    LR_clf.fit(X_train.txt_combined, X_train[category])\n",
    "    # compute the testing F1 score\n",
    "    prediction = LR_clf.predict(X_test.txt_combined)\n",
    "    f1_value = f1_score(X_test[category], prediction)\n",
    "    lr_scores[category] = f1_value\n",
    "    print('Test F1 score is {}'.format(f1_value))"
   ]
  },
  {
   "cell_type": "markdown",
   "metadata": {},
   "source": [
    "# MLPClassifier"
   ]
  },
  {
   "cell_type": "code",
   "execution_count": 100,
   "metadata": {},
   "outputs": [
    {
     "name": "stdout",
     "output_type": "stream",
     "text": [
      "... Processing trade\n",
      "Test F1 score is 0.6861924686192469\n",
      "... Processing carcass\n",
      "Test F1 score is 0.5\n",
      "... Processing silver\n",
      "Test F1 score is 0.2222222222222222\n",
      "... Processing money-supply\n",
      "Test F1 score is 0.6363636363636364\n",
      "... Processing reserves\n",
      "Test F1 score is 0.6896551724137931\n",
      "... Processing palm-oil\n",
      "Test F1 score is 0.7499999999999999\n",
      "... Processing lumber\n",
      "Test F1 score is 0.0\n",
      "... Processing sorghum\n",
      "Test F1 score is 0.4\n",
      "... Processing sugar\n",
      "Test F1 score is 0.7999999999999999\n",
      "... Processing soy-oil\n",
      "Test F1 score is 0.14285714285714288\n",
      "... Processing ipi\n",
      "Test F1 score is 0.8571428571428571\n",
      "... Processing money-fx\n",
      "Test F1 score is 0.5391849529780566\n",
      "... Processing rice\n",
      "Test F1 score is 0.5882352941176471\n",
      "... Processing coffee\n",
      "Test F1 score is 0.9433962264150945\n",
      "... Processing cpi\n",
      "Test F1 score is 0.48780487804878053\n",
      "... Processing orange\n",
      "Test F1 score is 0.8571428571428572\n",
      "... Processing iron-steel\n",
      "Test F1 score is 0.5833333333333334\n",
      "... Processing soybean\n",
      "Test F1 score is 0.5555555555555556\n",
      "... Processing yen\n",
      "Test F1 score is 0.0\n",
      "... Processing corn\n",
      "Test F1 score is 0.838095238095238\n",
      "... Processing rubber\n",
      "Test F1 score is 0.6666666666666666\n",
      "... Processing gnp\n",
      "Test F1 score is 0.7272727272727272\n",
      "... Processing strategic-metal\n",
      "Test F1 score is 0.0\n",
      "... Processing acq\n",
      "Test F1 score is 0.8075253256150506\n",
      "... Processing interest\n",
      "Test F1 score is 0.6637554585152837\n",
      "... Processing alum\n",
      "Test F1 score is 0.5882352941176471\n",
      "... Processing tin\n",
      "Test F1 score is 0.6666666666666666\n",
      "... Processing grain\n",
      "Test F1 score is 0.8424908424908425\n",
      "... Processing barley\n",
      "Test F1 score is 0.6666666666666666\n",
      "... Processing soy-meal\n",
      "Test F1 score is 0.375\n",
      "... Processing lead\n",
      "Test F1 score is 0.0\n",
      "... Processing zinc\n",
      "Test F1 score is 0.5555555555555556\n",
      "... Processing jobs\n",
      "Test F1 score is 0.6666666666666667\n",
      "... Processing gold\n",
      "Test F1 score is 0.6415094339622641\n",
      "... Processing oat\n",
      "Test F1 score is 0.0\n",
      "... Processing hog\n",
      "Test F1 score is 0.26666666666666666\n",
      "... Processing gas\n",
      "Test F1 score is 0.6399999999999999\n",
      "... Processing nat-gas\n",
      "Test F1 score is 0.5454545454545454\n",
      "... Processing meal-feed\n",
      "Test F1 score is 0.4166666666666667\n",
      "... Processing livestock\n",
      "Test F1 score is 0.3333333333333333\n",
      "... Processing fuel\n",
      "Test F1 score is 0.4\n",
      "... Processing dlr\n",
      "Test F1 score is 0.5833333333333334\n",
      "... Processing oilseed\n",
      "Test F1 score is 0.625\n",
      "... Processing pet-chem\n",
      "Test F1 score is 0.0\n",
      "... Processing cotton\n",
      "Test F1 score is 0.7096774193548387\n",
      "... Processing earn\n",
      "Test F1 score is 0.8033729398236873\n",
      "... Processing income\n",
      "Test F1 score is 0.0\n",
      "... Processing cocoa\n",
      "Test F1 score is 0.75\n",
      "... Processing bop\n",
      "Test F1 score is 0.7407407407407408\n",
      "... Processing crude\n",
      "Test F1 score is 0.7917888563049853\n",
      "... Processing veg-oil\n",
      "Test F1 score is 0.5925925925925927\n",
      "... Processing wpi\n",
      "Test F1 score is 0.8235294117647058\n",
      "... Processing copper\n",
      "Test F1 score is 0.7333333333333334\n",
      "... Processing rapeseed\n",
      "Test F1 score is 0.6153846153846153\n",
      "... Processing wheat\n",
      "Test F1 score is 0.8031496062992126\n",
      "... Processing ship\n",
      "Test F1 score is 0.7027027027027027\n"
     ]
    }
   ],
   "source": [
    "MLP_clf = Pipeline([\n",
    "                ('tfidf', TfidfVectorizer(stop_words=stop_words)),\n",
    "                ('clf', OneVsRestClassifier(MLPClassifier(solver='lbfgs'\n",
    "#                                                           alpha=1e-5,\n",
    "#                                                           hidden_layer_sizes=(5, 2)\n",
    "                                                         )\n",
    "                                            , n_jobs=1)),\n",
    "            ])\n",
    "mlp_scores = {}\n",
    "\n",
    "for category in categories_with_enough_obs:\n",
    "    print('... Processing {}'.format(category))\n",
    "    # train the model using train_body & y_class\n",
    "    MLP_clf.fit(X_train.txt_combined, X_train[category])\n",
    "    # compute the testing F1 score\n",
    "    prediction = MLP_clf.predict(X_test.txt_combined)\n",
    "    f1_value = f1_score(X_test[category], prediction)\n",
    "    mlp_scores[category] = f1_value\n",
    "    print('Test F1 score is {}'.format(f1_value))"
   ]
  },
  {
   "cell_type": "code",
   "execution_count": 101,
   "metadata": {},
   "outputs": [
    {
     "name": "stdout",
     "output_type": "stream",
     "text": [
      "Using MLP instead of SVC improves the F1 score by -3.7% on average\n"
     ]
    }
   ],
   "source": [
    "# Comparing MPL performance vs. SVC classifier\n",
    "diff = {x: svc_scores2[x] - mlp_scores[x] for x in svc_scores2 if x in mlp_scores}\n",
    "print('Using MLP instead of SVC improves the F1 score by {:.0%} on average'.format(sum(diff.values())/len(diff)))"
   ]
  },
  {
   "cell_type": "markdown",
   "metadata": {},
   "source": [
    "Hence the best default model remains the Support vector classifier. "
   ]
  },
  {
   "cell_type": "markdown",
   "metadata": {},
   "source": [
    "# Tuning\n",
    "\n",
    "Let's see if we can improve evaluation metrics by optimising hyper-parameters using randomised search. "
   ]
  },
  {
   "cell_type": "code",
   "execution_count": 59,
   "metadata": {},
   "outputs": [
    {
     "name": "stdout",
     "output_type": "stream",
     "text": [
      "oilseed: Performing parameter search ...\n",
      "pipeline: ['vect', 'clf']\n",
      "parameters:\n",
      "{'vect__max_df': (0.01, 0.05, 0.5, 0.75, 1.0), 'vect__ngram_range': ((1, 1), (1, 2)), 'vect__use_idf': (True, False), 'clf__alpha': (1e-05, 1e-06)}\n",
      "Fitting 3 folds for each of 20 candidates, totalling 60 fits\n"
     ]
    },
    {
     "name": "stderr",
     "output_type": "stream",
     "text": [
      "[Parallel(n_jobs=4)]: Done  42 tasks      | elapsed:  2.2min\n",
      "[Parallel(n_jobs=4)]: Done  60 out of  60 | elapsed:  2.9min finished\n"
     ]
    },
    {
     "name": "stdout",
     "output_type": "stream",
     "text": [
      "done in 175.887s\n",
      "\n",
      "Best score: 0.611\n",
      "Best parameters set:\n",
      "\tclf__alpha: 1e-06\n",
      "\tvect__max_df: 0.01\n",
      "\tvect__ngram_range: (1, 1)\n",
      "\tvect__use_idf: False\n",
      "F1 score train: 0.61 F1 score test: 0.67\n",
      "reserves: Performing parameter search ...\n",
      "pipeline: ['vect', 'clf']\n",
      "parameters:\n",
      "{'vect__max_df': (0.01, 0.05, 0.5, 0.75, 1.0), 'vect__ngram_range': ((1, 1), (1, 2)), 'vect__use_idf': (True, False), 'clf__alpha': (1e-05, 1e-06)}\n",
      "Fitting 3 folds for each of 20 candidates, totalling 60 fits\n"
     ]
    },
    {
     "name": "stderr",
     "output_type": "stream",
     "text": [
      "[Parallel(n_jobs=4)]: Done  42 tasks      | elapsed:  1.9min\n",
      "[Parallel(n_jobs=4)]: Done  60 out of  60 | elapsed:  2.6min finished\n"
     ]
    },
    {
     "name": "stdout",
     "output_type": "stream",
     "text": [
      "done in 164.544s\n",
      "\n",
      "Best score: 0.828\n",
      "Best parameters set:\n",
      "\tclf__alpha: 1e-05\n",
      "\tvect__max_df: 0.75\n",
      "\tvect__ngram_range: (1, 2)\n",
      "\tvect__use_idf: True\n",
      "F1 score train: 0.83 F1 score test: 0.77\n",
      "gold: Performing parameter search ...\n",
      "pipeline: ['vect', 'clf']\n",
      "parameters:\n",
      "{'vect__max_df': (0.01, 0.05, 0.5, 0.75, 1.0), 'vect__ngram_range': ((1, 1), (1, 2)), 'vect__use_idf': (True, False), 'clf__alpha': (1e-05, 1e-06)}\n",
      "Fitting 3 folds for each of 20 candidates, totalling 60 fits\n"
     ]
    },
    {
     "name": "stderr",
     "output_type": "stream",
     "text": [
      "[Parallel(n_jobs=4)]: Done  42 tasks      | elapsed:  2.3min\n",
      "[Parallel(n_jobs=4)]: Done  60 out of  60 | elapsed:  2.9min finished\n"
     ]
    },
    {
     "name": "stdout",
     "output_type": "stream",
     "text": [
      "done in 177.812s\n",
      "\n",
      "Best score: 0.753\n",
      "Best parameters set:\n",
      "\tclf__alpha: 1e-05\n",
      "\tvect__max_df: 0.05\n",
      "\tvect__ngram_range: (1, 2)\n",
      "\tvect__use_idf: True\n",
      "F1 score train: 0.75 F1 score test: 0.65\n",
      "wpi: Performing parameter search ...\n",
      "pipeline: ['vect', 'clf']\n",
      "parameters:\n",
      "{'vect__max_df': (0.01, 0.05, 0.5, 0.75, 1.0), 'vect__ngram_range': ((1, 1), (1, 2)), 'vect__use_idf': (True, False), 'clf__alpha': (1e-05, 1e-06)}\n",
      "Fitting 3 folds for each of 20 candidates, totalling 60 fits\n"
     ]
    },
    {
     "name": "stderr",
     "output_type": "stream",
     "text": [
      "[Parallel(n_jobs=4)]: Done  42 tasks      | elapsed:  1.8min\n",
      "[Parallel(n_jobs=4)]: Done  60 out of  60 | elapsed:  2.8min finished\n"
     ]
    },
    {
     "name": "stdout",
     "output_type": "stream",
     "text": [
      "done in 176.353s\n",
      "\n",
      "Best score: 0.867\n",
      "Best parameters set:\n",
      "\tclf__alpha: 1e-06\n",
      "\tvect__max_df: 0.5\n",
      "\tvect__ngram_range: (1, 2)\n",
      "\tvect__use_idf: True\n",
      "F1 score train: 0.87 F1 score test: 0.82\n",
      "cocoa: Performing parameter search ...\n",
      "pipeline: ['vect', 'clf']\n",
      "parameters:\n",
      "{'vect__max_df': (0.01, 0.05, 0.5, 0.75, 1.0), 'vect__ngram_range': ((1, 1), (1, 2)), 'vect__use_idf': (True, False), 'clf__alpha': (1e-05, 1e-06)}\n",
      "Fitting 3 folds for each of 20 candidates, totalling 60 fits\n"
     ]
    },
    {
     "name": "stderr",
     "output_type": "stream",
     "text": [
      "[Parallel(n_jobs=4)]: Done  42 tasks      | elapsed:  2.4min\n",
      "[Parallel(n_jobs=4)]: Done  60 out of  60 | elapsed:  3.1min finished\n"
     ]
    },
    {
     "name": "stdout",
     "output_type": "stream",
     "text": [
      "done in 193.411s\n",
      "\n",
      "Best score: 0.828\n",
      "Best parameters set:\n",
      "\tclf__alpha: 1e-06\n",
      "\tvect__max_df: 0.01\n",
      "\tvect__ngram_range: (1, 2)\n",
      "\tvect__use_idf: False\n",
      "F1 score train: 0.83 F1 score test: 0.82\n",
      "acq: Performing parameter search ...\n",
      "pipeline: ['vect', 'clf']\n",
      "parameters:\n",
      "{'vect__max_df': (0.01, 0.05, 0.5, 0.75, 1.0), 'vect__ngram_range': ((1, 1), (1, 2)), 'vect__use_idf': (True, False), 'clf__alpha': (1e-05, 1e-06)}\n",
      "Fitting 3 folds for each of 20 candidates, totalling 60 fits\n"
     ]
    },
    {
     "name": "stderr",
     "output_type": "stream",
     "text": [
      "[Parallel(n_jobs=4)]: Done  42 tasks      | elapsed:  2.4min\n",
      "[Parallel(n_jobs=4)]: Done  60 out of  60 | elapsed:  3.2min finished\n"
     ]
    },
    {
     "name": "stdout",
     "output_type": "stream",
     "text": [
      "done in 196.969s\n",
      "\n",
      "Best score: 0.839\n",
      "Best parameters set:\n",
      "\tclf__alpha: 1e-05\n",
      "\tvect__max_df: 1.0\n",
      "\tvect__ngram_range: (1, 2)\n",
      "\tvect__use_idf: True\n",
      "F1 score train: 0.84 F1 score test: 0.84\n",
      "ship: Performing parameter search ...\n",
      "pipeline: ['vect', 'clf']\n",
      "parameters:\n",
      "{'vect__max_df': (0.01, 0.05, 0.5, 0.75, 1.0), 'vect__ngram_range': ((1, 1), (1, 2)), 'vect__use_idf': (True, False), 'clf__alpha': (1e-05, 1e-06)}\n",
      "Fitting 3 folds for each of 20 candidates, totalling 60 fits\n"
     ]
    },
    {
     "name": "stderr",
     "output_type": "stream",
     "text": [
      "[Parallel(n_jobs=4)]: Done  42 tasks      | elapsed:  2.3min\n",
      "[Parallel(n_jobs=4)]: Done  60 out of  60 | elapsed:  3.0min finished\n"
     ]
    },
    {
     "name": "stdout",
     "output_type": "stream",
     "text": [
      "done in 186.702s\n",
      "\n",
      "Best score: 0.771\n",
      "Best parameters set:\n",
      "\tclf__alpha: 1e-05\n",
      "\tvect__max_df: 0.01\n",
      "\tvect__ngram_range: (1, 2)\n",
      "\tvect__use_idf: False\n",
      "F1 score train: 0.77 F1 score test: 0.69\n",
      "soy-meal: Performing parameter search ...\n",
      "pipeline: ['vect', 'clf']\n",
      "parameters:\n",
      "{'vect__max_df': (0.01, 0.05, 0.5, 0.75, 1.0), 'vect__ngram_range': ((1, 1), (1, 2)), 'vect__use_idf': (True, False), 'clf__alpha': (1e-05, 1e-06)}\n",
      "Fitting 3 folds for each of 20 candidates, totalling 60 fits\n"
     ]
    },
    {
     "name": "stderr",
     "output_type": "stream",
     "text": [
      "[Parallel(n_jobs=4)]: Done  42 tasks      | elapsed:  1.9min\n",
      "[Parallel(n_jobs=4)]: Done  60 out of  60 | elapsed:  2.6min finished\n"
     ]
    },
    {
     "name": "stdout",
     "output_type": "stream",
     "text": [
      "done in 155.211s\n",
      "\n",
      "Best score: 0.111\n",
      "Best parameters set:\n",
      "\tclf__alpha: 1e-06\n",
      "\tvect__max_df: 0.75\n",
      "\tvect__ngram_range: (1, 1)\n",
      "\tvect__use_idf: True\n",
      "F1 score train: 0.11 F1 score test: 0.14\n",
      "meal-feed: Performing parameter search ...\n",
      "pipeline: ['vect', 'clf']\n",
      "parameters:\n",
      "{'vect__max_df': (0.01, 0.05, 0.5, 0.75, 1.0), 'vect__ngram_range': ((1, 1), (1, 2)), 'vect__use_idf': (True, False), 'clf__alpha': (1e-05, 1e-06)}\n",
      "Fitting 3 folds for each of 20 candidates, totalling 60 fits\n"
     ]
    },
    {
     "name": "stderr",
     "output_type": "stream",
     "text": [
      "[Parallel(n_jobs=4)]: Done  42 tasks      | elapsed:  1.9min\n",
      "[Parallel(n_jobs=4)]: Done  60 out of  60 | elapsed:  2.8min finished\n"
     ]
    },
    {
     "name": "stdout",
     "output_type": "stream",
     "text": [
      "done in 167.643s\n",
      "\n",
      "Best score: 0.338\n",
      "Best parameters set:\n",
      "\tclf__alpha: 1e-05\n",
      "\tvect__max_df: 0.05\n",
      "\tvect__ngram_range: (1, 1)\n",
      "\tvect__use_idf: True\n",
      "F1 score train: 0.34 F1 score test: 0.35\n",
      "strategic-metal: Performing parameter search ...\n",
      "pipeline: ['vect', 'clf']\n",
      "parameters:\n",
      "{'vect__max_df': (0.01, 0.05, 0.5, 0.75, 1.0), 'vect__ngram_range': ((1, 1), (1, 2)), 'vect__use_idf': (True, False), 'clf__alpha': (1e-05, 1e-06)}\n",
      "Fitting 3 folds for each of 20 candidates, totalling 60 fits\n"
     ]
    },
    {
     "name": "stderr",
     "output_type": "stream",
     "text": [
      "[Parallel(n_jobs=4)]: Done  42 tasks      | elapsed:  2.1min\n",
      "[Parallel(n_jobs=4)]: Done  60 out of  60 | elapsed:  2.8min finished\n"
     ]
    },
    {
     "name": "stdout",
     "output_type": "stream",
     "text": [
      "done in 168.744s\n",
      "\n",
      "Best score: 0.524\n",
      "Best parameters set:\n",
      "\tclf__alpha: 1e-06\n",
      "\tvect__max_df: 0.01\n",
      "\tvect__ngram_range: (1, 1)\n",
      "\tvect__use_idf: True\n",
      "F1 score train: 0.52 F1 score test: 0.00\n",
      "yen: Performing parameter search ...\n",
      "pipeline: ['vect', 'clf']\n",
      "parameters:\n",
      "{'vect__max_df': (0.01, 0.05, 0.5, 0.75, 1.0), 'vect__ngram_range': ((1, 1), (1, 2)), 'vect__use_idf': (True, False), 'clf__alpha': (1e-05, 1e-06)}\n",
      "Fitting 3 folds for each of 20 candidates, totalling 60 fits\n"
     ]
    },
    {
     "name": "stderr",
     "output_type": "stream",
     "text": [
      "[Parallel(n_jobs=4)]: Done  42 tasks      | elapsed:  1.9min\n",
      "[Parallel(n_jobs=4)]: Done  60 out of  60 | elapsed:  2.7min finished\n"
     ]
    },
    {
     "name": "stdout",
     "output_type": "stream",
     "text": [
      "done in 165.909s\n",
      "\n",
      "Best score: 0.334\n",
      "Best parameters set:\n",
      "\tclf__alpha: 1e-05\n",
      "\tvect__max_df: 0.5\n",
      "\tvect__ngram_range: (1, 2)\n",
      "\tvect__use_idf: False\n",
      "F1 score train: 0.33 F1 score test: 0.35\n",
      "wheat: Performing parameter search ...\n",
      "pipeline: ['vect', 'clf']\n",
      "parameters:\n",
      "{'vect__max_df': (0.01, 0.05, 0.5, 0.75, 1.0), 'vect__ngram_range': ((1, 1), (1, 2)), 'vect__use_idf': (True, False), 'clf__alpha': (1e-05, 1e-06)}\n",
      "Fitting 3 folds for each of 20 candidates, totalling 60 fits\n"
     ]
    },
    {
     "name": "stderr",
     "output_type": "stream",
     "text": [
      "[Parallel(n_jobs=4)]: Done  42 tasks      | elapsed:  1.9min\n",
      "[Parallel(n_jobs=4)]: Done  60 out of  60 | elapsed:  2.8min finished\n"
     ]
    },
    {
     "name": "stdout",
     "output_type": "stream",
     "text": [
      "done in 176.224s\n",
      "\n",
      "Best score: 0.796\n",
      "Best parameters set:\n",
      "\tclf__alpha: 1e-05\n",
      "\tvect__max_df: 0.05\n",
      "\tvect__ngram_range: (1, 2)\n",
      "\tvect__use_idf: True\n",
      "F1 score train: 0.80 F1 score test: 0.79\n",
      "cpi: Performing parameter search ...\n",
      "pipeline: ['vect', 'clf']\n",
      "parameters:\n",
      "{'vect__max_df': (0.01, 0.05, 0.5, 0.75, 1.0), 'vect__ngram_range': ((1, 1), (1, 2)), 'vect__use_idf': (True, False), 'clf__alpha': (1e-05, 1e-06)}\n",
      "Fitting 3 folds for each of 20 candidates, totalling 60 fits\n"
     ]
    },
    {
     "name": "stderr",
     "output_type": "stream",
     "text": [
      "[Parallel(n_jobs=4)]: Done  42 tasks      | elapsed:  2.3min\n",
      "[Parallel(n_jobs=4)]: Done  60 out of  60 | elapsed:  3.0min finished\n"
     ]
    },
    {
     "name": "stdout",
     "output_type": "stream",
     "text": [
      "done in 189.153s\n",
      "\n",
      "Best score: 0.706\n",
      "Best parameters set:\n",
      "\tclf__alpha: 1e-06\n",
      "\tvect__max_df: 0.75\n",
      "\tvect__ngram_range: (1, 2)\n",
      "\tvect__use_idf: True\n",
      "F1 score train: 0.71 F1 score test: 0.57\n",
      "rapeseed: Performing parameter search ...\n",
      "pipeline: ['vect', 'clf']\n",
      "parameters:\n",
      "{'vect__max_df': (0.01, 0.05, 0.5, 0.75, 1.0), 'vect__ngram_range': ((1, 1), (1, 2)), 'vect__use_idf': (True, False), 'clf__alpha': (1e-05, 1e-06)}\n",
      "Fitting 3 folds for each of 20 candidates, totalling 60 fits\n"
     ]
    },
    {
     "name": "stderr",
     "output_type": "stream",
     "text": [
      "[Parallel(n_jobs=4)]: Done  42 tasks      | elapsed:  1.9min\n",
      "[Parallel(n_jobs=4)]: Done  60 out of  60 | elapsed:  2.5min finished\n"
     ]
    },
    {
     "name": "stdout",
     "output_type": "stream",
     "text": [
      "done in 149.454s\n",
      "\n",
      "Best score: 0.711\n",
      "Best parameters set:\n",
      "\tclf__alpha: 1e-05\n",
      "\tvect__max_df: 0.5\n",
      "\tvect__ngram_range: (1, 1)\n",
      "\tvect__use_idf: True\n",
      "F1 score train: 0.71 F1 score test: 0.62\n",
      "silver: Performing parameter search ...\n",
      "pipeline: ['vect', 'clf']\n",
      "parameters:\n",
      "{'vect__max_df': (0.01, 0.05, 0.5, 0.75, 1.0), 'vect__ngram_range': ((1, 1), (1, 2)), 'vect__use_idf': (True, False), 'clf__alpha': (1e-05, 1e-06)}\n",
      "Fitting 3 folds for each of 20 candidates, totalling 60 fits\n"
     ]
    },
    {
     "name": "stderr",
     "output_type": "stream",
     "text": [
      "[Parallel(n_jobs=4)]: Done  42 tasks      | elapsed:  2.3min\n",
      "[Parallel(n_jobs=4)]: Done  60 out of  60 | elapsed:  3.0min finished\n"
     ]
    },
    {
     "name": "stdout",
     "output_type": "stream",
     "text": [
      "done in 180.758s\n",
      "\n",
      "Best score: 0.150\n",
      "Best parameters set:\n",
      "\tclf__alpha: 1e-05\n",
      "\tvect__max_df: 1.0\n",
      "\tvect__ngram_range: (1, 1)\n",
      "\tvect__use_idf: False\n",
      "F1 score train: 0.15 F1 score test: 0.40\n",
      "bop: Performing parameter search ...\n",
      "pipeline: ['vect', 'clf']\n",
      "parameters:\n",
      "{'vect__max_df': (0.01, 0.05, 0.5, 0.75, 1.0), 'vect__ngram_range': ((1, 1), (1, 2)), 'vect__use_idf': (True, False), 'clf__alpha': (1e-05, 1e-06)}\n",
      "Fitting 3 folds for each of 20 candidates, totalling 60 fits\n"
     ]
    },
    {
     "name": "stderr",
     "output_type": "stream",
     "text": [
      "[Parallel(n_jobs=4)]: Done  42 tasks      | elapsed:  1.4min\n",
      "[Parallel(n_jobs=4)]: Done  60 out of  60 | elapsed:  2.4min finished\n"
     ]
    },
    {
     "name": "stdout",
     "output_type": "stream",
     "text": [
      "done in 152.849s\n",
      "\n",
      "Best score: 0.725\n",
      "Best parameters set:\n",
      "\tclf__alpha: 1e-05\n",
      "\tvect__max_df: 0.05\n",
      "\tvect__ngram_range: (1, 2)\n",
      "\tvect__use_idf: True\n",
      "F1 score train: 0.73 F1 score test: 0.75\n",
      "cotton: Performing parameter search ...\n",
      "pipeline: ['vect', 'clf']\n",
      "parameters:\n",
      "{'vect__max_df': (0.01, 0.05, 0.5, 0.75, 1.0), 'vect__ngram_range': ((1, 1), (1, 2)), 'vect__use_idf': (True, False), 'clf__alpha': (1e-05, 1e-06)}\n",
      "Fitting 3 folds for each of 20 candidates, totalling 60 fits\n"
     ]
    },
    {
     "name": "stderr",
     "output_type": "stream",
     "text": [
      "[Parallel(n_jobs=4)]: Done  42 tasks      | elapsed:  2.0min\n",
      "[Parallel(n_jobs=4)]: Done  60 out of  60 | elapsed:  2.6min finished\n"
     ]
    },
    {
     "name": "stdout",
     "output_type": "stream",
     "text": [
      "done in 158.656s\n",
      "\n",
      "Best score: 0.524\n",
      "Best parameters set:\n",
      "\tclf__alpha: 1e-06\n",
      "\tvect__max_df: 0.05\n",
      "\tvect__ngram_range: (1, 1)\n",
      "\tvect__use_idf: True\n",
      "F1 score train: 0.52 F1 score test: 0.65\n",
      "income: Performing parameter search ...\n",
      "pipeline: ['vect', 'clf']\n",
      "parameters:\n",
      "{'vect__max_df': (0.01, 0.05, 0.5, 0.75, 1.0), 'vect__ngram_range': ((1, 1), (1, 2)), 'vect__use_idf': (True, False), 'clf__alpha': (1e-05, 1e-06)}\n",
      "Fitting 3 folds for each of 20 candidates, totalling 60 fits\n"
     ]
    },
    {
     "name": "stderr",
     "output_type": "stream",
     "text": [
      "[Parallel(n_jobs=4)]: Done  42 tasks      | elapsed:  1.9min\n",
      "[Parallel(n_jobs=4)]: Done  60 out of  60 | elapsed:  3.0min finished\n"
     ]
    },
    {
     "name": "stdout",
     "output_type": "stream",
     "text": [
      "done in 180.335s\n",
      "\n",
      "Best score: 0.433\n",
      "Best parameters set:\n",
      "\tclf__alpha: 1e-05\n",
      "\tvect__max_df: 0.5\n",
      "\tvect__ngram_range: (1, 1)\n",
      "\tvect__use_idf: True\n",
      "F1 score train: 0.43 F1 score test: 0.73\n",
      "hog: Performing parameter search ...\n",
      "pipeline: ['vect', 'clf']\n",
      "parameters:\n",
      "{'vect__max_df': (0.01, 0.05, 0.5, 0.75, 1.0), 'vect__ngram_range': ((1, 1), (1, 2)), 'vect__use_idf': (True, False), 'clf__alpha': (1e-05, 1e-06)}\n",
      "Fitting 3 folds for each of 20 candidates, totalling 60 fits\n"
     ]
    },
    {
     "name": "stderr",
     "output_type": "stream",
     "text": [
      "[Parallel(n_jobs=4)]: Done  42 tasks      | elapsed:  1.9min\n",
      "[Parallel(n_jobs=4)]: Done  60 out of  60 | elapsed:  2.8min finished\n"
     ]
    },
    {
     "name": "stdout",
     "output_type": "stream",
     "text": [
      "done in 168.918s\n",
      "\n",
      "Best score: 0.437\n",
      "Best parameters set:\n",
      "\tclf__alpha: 1e-05\n",
      "\tvect__max_df: 1.0\n",
      "\tvect__ngram_range: (1, 1)\n",
      "\tvect__use_idf: True\n",
      "F1 score train: 0.44 F1 score test: 0.00\n",
      "lead: Performing parameter search ...\n",
      "pipeline: ['vect', 'clf']\n",
      "parameters:\n",
      "{'vect__max_df': (0.01, 0.05, 0.5, 0.75, 1.0), 'vect__ngram_range': ((1, 1), (1, 2)), 'vect__use_idf': (True, False), 'clf__alpha': (1e-05, 1e-06)}\n",
      "Fitting 3 folds for each of 20 candidates, totalling 60 fits\n"
     ]
    },
    {
     "name": "stderr",
     "output_type": "stream",
     "text": [
      "[Parallel(n_jobs=4)]: Done  42 tasks      | elapsed:  2.6min\n",
      "[Parallel(n_jobs=4)]: Done  60 out of  60 | elapsed:  3.3min finished\n"
     ]
    },
    {
     "name": "stdout",
     "output_type": "stream",
     "text": [
      "done in 199.567s\n",
      "\n",
      "Best score: 0.407\n",
      "Best parameters set:\n",
      "\tclf__alpha: 1e-05\n",
      "\tvect__max_df: 0.5\n",
      "\tvect__ngram_range: (1, 1)\n",
      "\tvect__use_idf: False\n",
      "F1 score train: 0.41 F1 score test: 0.13\n",
      "gas: Performing parameter search ...\n",
      "pipeline: ['vect', 'clf']\n",
      "parameters:\n",
      "{'vect__max_df': (0.01, 0.05, 0.5, 0.75, 1.0), 'vect__ngram_range': ((1, 1), (1, 2)), 'vect__use_idf': (True, False), 'clf__alpha': (1e-05, 1e-06)}\n",
      "Fitting 3 folds for each of 20 candidates, totalling 60 fits\n"
     ]
    },
    {
     "name": "stderr",
     "output_type": "stream",
     "text": [
      "[Parallel(n_jobs=4)]: Done  42 tasks      | elapsed:  1.9min\n",
      "[Parallel(n_jobs=4)]: Done  60 out of  60 | elapsed:  2.9min finished\n"
     ]
    },
    {
     "name": "stdout",
     "output_type": "stream",
     "text": [
      "done in 182.577s\n",
      "\n",
      "Best score: 0.514\n",
      "Best parameters set:\n",
      "\tclf__alpha: 1e-06\n",
      "\tvect__max_df: 0.5\n",
      "\tvect__ngram_range: (1, 2)\n",
      "\tvect__use_idf: True\n",
      "F1 score train: 0.51 F1 score test: 0.69\n",
      "interest: Performing parameter search ...\n",
      "pipeline: ['vect', 'clf']\n",
      "parameters:\n",
      "{'vect__max_df': (0.01, 0.05, 0.5, 0.75, 1.0), 'vect__ngram_range': ((1, 1), (1, 2)), 'vect__use_idf': (True, False), 'clf__alpha': (1e-05, 1e-06)}\n",
      "Fitting 3 folds for each of 20 candidates, totalling 60 fits\n"
     ]
    },
    {
     "name": "stderr",
     "output_type": "stream",
     "text": [
      "[Parallel(n_jobs=4)]: Done  42 tasks      | elapsed:  1.6min\n",
      "[Parallel(n_jobs=4)]: Done  60 out of  60 | elapsed:  2.5min finished\n"
     ]
    },
    {
     "name": "stdout",
     "output_type": "stream",
     "text": [
      "done in 157.637s\n",
      "\n",
      "Best score: 0.703\n",
      "Best parameters set:\n",
      "\tclf__alpha: 1e-05\n",
      "\tvect__max_df: 0.5\n",
      "\tvect__ngram_range: (1, 2)\n",
      "\tvect__use_idf: True\n",
      "F1 score train: 0.70 F1 score test: 0.69\n",
      "ipi: Performing parameter search ...\n",
      "pipeline: ['vect', 'clf']\n",
      "parameters:\n",
      "{'vect__max_df': (0.01, 0.05, 0.5, 0.75, 1.0), 'vect__ngram_range': ((1, 1), (1, 2)), 'vect__use_idf': (True, False), 'clf__alpha': (1e-05, 1e-06)}\n",
      "Fitting 3 folds for each of 20 candidates, totalling 60 fits\n"
     ]
    },
    {
     "name": "stderr",
     "output_type": "stream",
     "text": [
      "[Parallel(n_jobs=4)]: Done  42 tasks      | elapsed:  2.1min\n",
      "[Parallel(n_jobs=4)]: Done  60 out of  60 | elapsed:  2.9min finished\n"
     ]
    },
    {
     "name": "stdout",
     "output_type": "stream",
     "text": [
      "done in 177.608s\n",
      "\n",
      "Best score: 0.797\n",
      "Best parameters set:\n",
      "\tclf__alpha: 1e-05\n",
      "\tvect__max_df: 0.05\n",
      "\tvect__ngram_range: (1, 2)\n",
      "\tvect__use_idf: False\n",
      "F1 score train: 0.80 F1 score test: 0.87\n",
      "livestock: Performing parameter search ...\n",
      "pipeline: ['vect', 'clf']\n",
      "parameters:\n",
      "{'vect__max_df': (0.01, 0.05, 0.5, 0.75, 1.0), 'vect__ngram_range': ((1, 1), (1, 2)), 'vect__use_idf': (True, False), 'clf__alpha': (1e-05, 1e-06)}\n",
      "Fitting 3 folds for each of 20 candidates, totalling 60 fits\n"
     ]
    },
    {
     "name": "stderr",
     "output_type": "stream",
     "text": [
      "[Parallel(n_jobs=4)]: Done  42 tasks      | elapsed:  2.1min\n",
      "[Parallel(n_jobs=4)]: Done  60 out of  60 | elapsed: 27.6min finished\n"
     ]
    },
    {
     "name": "stdout",
     "output_type": "stream",
     "text": [
      "done in 1665.468s\n",
      "\n",
      "Best score: 0.509\n",
      "Best parameters set:\n",
      "\tclf__alpha: 1e-06\n",
      "\tvect__max_df: 0.05\n",
      "\tvect__ngram_range: (1, 2)\n",
      "\tvect__use_idf: True\n",
      "F1 score train: 0.51 F1 score test: 0.39\n",
      "gnp: Performing parameter search ...\n",
      "pipeline: ['vect', 'clf']\n",
      "parameters:\n",
      "{'vect__max_df': (0.01, 0.05, 0.5, 0.75, 1.0), 'vect__ngram_range': ((1, 1), (1, 2)), 'vect__use_idf': (True, False), 'clf__alpha': (1e-05, 1e-06)}\n",
      "Fitting 3 folds for each of 20 candidates, totalling 60 fits\n"
     ]
    },
    {
     "name": "stderr",
     "output_type": "stream",
     "text": [
      "[Parallel(n_jobs=4)]: Done  42 tasks      | elapsed:  2.0min\n",
      "[Parallel(n_jobs=4)]: Done  60 out of  60 | elapsed:  2.9min finished\n"
     ]
    },
    {
     "name": "stdout",
     "output_type": "stream",
     "text": [
      "done in 172.896s\n",
      "\n",
      "Best score: 0.781\n",
      "Best parameters set:\n",
      "\tclf__alpha: 1e-05\n",
      "\tvect__max_df: 0.05\n",
      "\tvect__ngram_range: (1, 1)\n",
      "\tvect__use_idf: False\n",
      "F1 score train: 0.78 F1 score test: 0.74\n",
      "grain: Performing parameter search ...\n",
      "pipeline: ['vect', 'clf']\n",
      "parameters:\n",
      "{'vect__max_df': (0.01, 0.05, 0.5, 0.75, 1.0), 'vect__ngram_range': ((1, 1), (1, 2)), 'vect__use_idf': (True, False), 'clf__alpha': (1e-05, 1e-06)}\n",
      "Fitting 3 folds for each of 20 candidates, totalling 60 fits\n"
     ]
    },
    {
     "name": "stderr",
     "output_type": "stream",
     "text": [
      "[Parallel(n_jobs=4)]: Done  42 tasks      | elapsed:  2.0min\n",
      "[Parallel(n_jobs=4)]: Done  60 out of  60 | elapsed:  2.7min finished\n"
     ]
    },
    {
     "name": "stdout",
     "output_type": "stream",
     "text": [
      "done in 170.661s\n",
      "\n",
      "Best score: 0.854\n",
      "Best parameters set:\n",
      "\tclf__alpha: 1e-05\n",
      "\tvect__max_df: 0.05\n",
      "\tvect__ngram_range: (1, 2)\n",
      "\tvect__use_idf: True\n",
      "F1 score train: 0.85 F1 score test: 0.88\n",
      "iron-steel: Performing parameter search ...\n",
      "pipeline: ['vect', 'clf']\n",
      "parameters:\n",
      "{'vect__max_df': (0.01, 0.05, 0.5, 0.75, 1.0), 'vect__ngram_range': ((1, 1), (1, 2)), 'vect__use_idf': (True, False), 'clf__alpha': (1e-05, 1e-06)}\n",
      "Fitting 3 folds for each of 20 candidates, totalling 60 fits\n"
     ]
    },
    {
     "name": "stderr",
     "output_type": "stream",
     "text": [
      "[Parallel(n_jobs=4)]: Done  42 tasks      | elapsed:  1.7min\n",
      "[Parallel(n_jobs=4)]: Done  60 out of  60 | elapsed:  2.9min finished\n"
     ]
    },
    {
     "name": "stdout",
     "output_type": "stream",
     "text": [
      "done in 177.855s\n",
      "\n",
      "Best score: 0.556\n",
      "Best parameters set:\n",
      "\tclf__alpha: 1e-06\n",
      "\tvect__max_df: 0.05\n",
      "\tvect__ngram_range: (1, 1)\n",
      "\tvect__use_idf: True\n",
      "F1 score train: 0.56 F1 score test: 0.46\n",
      "veg-oil: Performing parameter search ...\n",
      "pipeline: ['vect', 'clf']\n",
      "parameters:\n",
      "{'vect__max_df': (0.01, 0.05, 0.5, 0.75, 1.0), 'vect__ngram_range': ((1, 1), (1, 2)), 'vect__use_idf': (True, False), 'clf__alpha': (1e-05, 1e-06)}\n",
      "Fitting 3 folds for each of 20 candidates, totalling 60 fits\n"
     ]
    },
    {
     "name": "stderr",
     "output_type": "stream",
     "text": [
      "[Parallel(n_jobs=4)]: Done  42 tasks      | elapsed:  2.1min\n",
      "[Parallel(n_jobs=4)]: Done  60 out of  60 | elapsed:  2.8min finished\n"
     ]
    },
    {
     "name": "stdout",
     "output_type": "stream",
     "text": [
      "done in 176.311s\n",
      "\n",
      "Best score: 0.741\n",
      "Best parameters set:\n",
      "\tclf__alpha: 1e-06\n",
      "\tvect__max_df: 0.01\n",
      "\tvect__ngram_range: (1, 2)\n",
      "\tvect__use_idf: False\n",
      "F1 score train: 0.74 F1 score test: 0.64\n",
      "jobs: Performing parameter search ...\n",
      "pipeline: ['vect', 'clf']\n",
      "parameters:\n",
      "{'vect__max_df': (0.01, 0.05, 0.5, 0.75, 1.0), 'vect__ngram_range': ((1, 1), (1, 2)), 'vect__use_idf': (True, False), 'clf__alpha': (1e-05, 1e-06)}\n",
      "Fitting 3 folds for each of 20 candidates, totalling 60 fits\n"
     ]
    },
    {
     "name": "stderr",
     "output_type": "stream",
     "text": [
      "[Parallel(n_jobs=4)]: Done  42 tasks      | elapsed:  1.9min\n",
      "[Parallel(n_jobs=4)]: Done  60 out of  60 | elapsed:  2.5min finished\n"
     ]
    },
    {
     "name": "stdout",
     "output_type": "stream",
     "text": [
      "done in 151.322s\n",
      "\n",
      "Best score: 0.848\n",
      "Best parameters set:\n",
      "\tclf__alpha: 1e-05\n",
      "\tvect__max_df: 0.75\n",
      "\tvect__ngram_range: (1, 1)\n",
      "\tvect__use_idf: True\n",
      "F1 score train: 0.85 F1 score test: 0.71\n",
      "orange: Performing parameter search ...\n",
      "pipeline: ['vect', 'clf']\n",
      "parameters:\n",
      "{'vect__max_df': (0.01, 0.05, 0.5, 0.75, 1.0), 'vect__ngram_range': ((1, 1), (1, 2)), 'vect__use_idf': (True, False), 'clf__alpha': (1e-05, 1e-06)}\n",
      "Fitting 3 folds for each of 20 candidates, totalling 60 fits\n"
     ]
    },
    {
     "name": "stderr",
     "output_type": "stream",
     "text": [
      "[Parallel(n_jobs=4)]: Done  42 tasks      | elapsed:  2.6min\n",
      "[Parallel(n_jobs=4)]: Done  60 out of  60 | elapsed:  3.1min finished\n"
     ]
    },
    {
     "name": "stdout",
     "output_type": "stream",
     "text": [
      "done in 192.330s\n",
      "\n",
      "Best score: 0.582\n",
      "Best parameters set:\n",
      "\tclf__alpha: 1e-06\n",
      "\tvect__max_df: 0.5\n",
      "\tvect__ngram_range: (1, 2)\n",
      "\tvect__use_idf: True\n",
      "F1 score train: 0.58 F1 score test: 0.71\n",
      "coffee: Performing parameter search ...\n",
      "pipeline: ['vect', 'clf']\n",
      "parameters:\n",
      "{'vect__max_df': (0.01, 0.05, 0.5, 0.75, 1.0), 'vect__ngram_range': ((1, 1), (1, 2)), 'vect__use_idf': (True, False), 'clf__alpha': (1e-05, 1e-06)}\n",
      "Fitting 3 folds for each of 20 candidates, totalling 60 fits\n"
     ]
    },
    {
     "name": "stderr",
     "output_type": "stream",
     "text": [
      "[Parallel(n_jobs=4)]: Done  42 tasks      | elapsed:  2.0min\n",
      "[Parallel(n_jobs=4)]: Done  60 out of  60 | elapsed:  2.5min finished\n"
     ]
    },
    {
     "name": "stdout",
     "output_type": "stream",
     "text": [
      "done in 155.942s\n",
      "\n",
      "Best score: 0.855\n",
      "Best parameters set:\n",
      "\tclf__alpha: 1e-05\n",
      "\tvect__max_df: 0.75\n",
      "\tvect__ngram_range: (1, 2)\n",
      "\tvect__use_idf: True\n",
      "F1 score train: 0.85 F1 score test: 0.88\n",
      "oat: Performing parameter search ...\n",
      "pipeline: ['vect', 'clf']\n",
      "parameters:\n",
      "{'vect__max_df': (0.01, 0.05, 0.5, 0.75, 1.0), 'vect__ngram_range': ((1, 1), (1, 2)), 'vect__use_idf': (True, False), 'clf__alpha': (1e-05, 1e-06)}\n",
      "Fitting 3 folds for each of 20 candidates, totalling 60 fits\n"
     ]
    },
    {
     "name": "stderr",
     "output_type": "stream",
     "text": [
      "[Parallel(n_jobs=4)]: Done  42 tasks      | elapsed:  1.9min\n",
      "[Parallel(n_jobs=4)]: Done  60 out of  60 | elapsed:  2.4min finished\n"
     ]
    },
    {
     "name": "stdout",
     "output_type": "stream",
     "text": [
      "done in 145.435s\n",
      "\n",
      "Best score: 0.167\n",
      "Best parameters set:\n",
      "\tclf__alpha: 1e-06\n",
      "\tvect__max_df: 0.75\n",
      "\tvect__ngram_range: (1, 1)\n",
      "\tvect__use_idf: True\n",
      "F1 score train: 0.17 F1 score test: 0.29\n",
      "copper: Performing parameter search ...\n",
      "pipeline: ['vect', 'clf']\n",
      "parameters:\n",
      "{'vect__max_df': (0.01, 0.05, 0.5, 0.75, 1.0), 'vect__ngram_range': ((1, 1), (1, 2)), 'vect__use_idf': (True, False), 'clf__alpha': (1e-05, 1e-06)}\n",
      "Fitting 3 folds for each of 20 candidates, totalling 60 fits\n"
     ]
    },
    {
     "name": "stderr",
     "output_type": "stream",
     "text": [
      "[Parallel(n_jobs=4)]: Done  42 tasks      | elapsed:  2.2min\n",
      "[Parallel(n_jobs=4)]: Done  60 out of  60 | elapsed:  2.9min finished\n"
     ]
    },
    {
     "name": "stdout",
     "output_type": "stream",
     "text": [
      "done in 180.012s\n",
      "\n",
      "Best score: 0.632\n",
      "Best parameters set:\n",
      "\tclf__alpha: 1e-06\n",
      "\tvect__max_df: 0.5\n",
      "\tvect__ngram_range: (1, 2)\n",
      "\tvect__use_idf: True\n",
      "F1 score train: 0.63 F1 score test: 0.74\n",
      "alum: Performing parameter search ...\n",
      "pipeline: ['vect', 'clf']\n",
      "parameters:\n",
      "{'vect__max_df': (0.01, 0.05, 0.5, 0.75, 1.0), 'vect__ngram_range': ((1, 1), (1, 2)), 'vect__use_idf': (True, False), 'clf__alpha': (1e-05, 1e-06)}\n",
      "Fitting 3 folds for each of 20 candidates, totalling 60 fits\n"
     ]
    },
    {
     "name": "stderr",
     "output_type": "stream",
     "text": [
      "[Parallel(n_jobs=4)]: Done  42 tasks      | elapsed:  1.9min\n",
      "[Parallel(n_jobs=4)]: Done  60 out of  60 | elapsed:  2.5min finished\n"
     ]
    },
    {
     "name": "stdout",
     "output_type": "stream",
     "text": [
      "done in 156.664s\n",
      "\n",
      "Best score: 0.721\n",
      "Best parameters set:\n",
      "\tclf__alpha: 1e-06\n",
      "\tvect__max_df: 0.5\n",
      "\tvect__ngram_range: (1, 2)\n",
      "\tvect__use_idf: True\n",
      "F1 score train: 0.72 F1 score test: 0.56\n",
      "soybean: Performing parameter search ...\n",
      "pipeline: ['vect', 'clf']\n",
      "parameters:\n",
      "{'vect__max_df': (0.01, 0.05, 0.5, 0.75, 1.0), 'vect__ngram_range': ((1, 1), (1, 2)), 'vect__use_idf': (True, False), 'clf__alpha': (1e-05, 1e-06)}\n",
      "Fitting 3 folds for each of 20 candidates, totalling 60 fits\n"
     ]
    },
    {
     "name": "stderr",
     "output_type": "stream",
     "text": [
      "[Parallel(n_jobs=4)]: Done  42 tasks      | elapsed:  2.1min\n",
      "[Parallel(n_jobs=4)]: Done  60 out of  60 | elapsed:  2.6min finished\n"
     ]
    },
    {
     "name": "stdout",
     "output_type": "stream",
     "text": [
      "done in 163.087s\n",
      "\n",
      "Best score: 0.617\n",
      "Best parameters set:\n",
      "\tclf__alpha: 1e-05\n",
      "\tvect__max_df: 0.01\n",
      "\tvect__ngram_range: (1, 2)\n",
      "\tvect__use_idf: True\n",
      "F1 score train: 0.62 F1 score test: 0.57\n",
      "nat-gas: Performing parameter search ...\n",
      "pipeline: ['vect', 'clf']\n",
      "parameters:\n",
      "{'vect__max_df': (0.01, 0.05, 0.5, 0.75, 1.0), 'vect__ngram_range': ((1, 1), (1, 2)), 'vect__use_idf': (True, False), 'clf__alpha': (1e-05, 1e-06)}\n",
      "Fitting 3 folds for each of 20 candidates, totalling 60 fits\n"
     ]
    },
    {
     "name": "stderr",
     "output_type": "stream",
     "text": [
      "[Parallel(n_jobs=4)]: Done  42 tasks      | elapsed:  2.0min\n",
      "[Parallel(n_jobs=4)]: Done  60 out of  60 | elapsed:  2.9min finished\n"
     ]
    },
    {
     "name": "stdout",
     "output_type": "stream",
     "text": [
      "done in 182.804s\n",
      "\n",
      "Best score: 0.635\n",
      "Best parameters set:\n",
      "\tclf__alpha: 1e-05\n",
      "\tvect__max_df: 1.0\n",
      "\tvect__ngram_range: (1, 2)\n",
      "\tvect__use_idf: False\n",
      "F1 score train: 0.64 F1 score test: 0.60\n",
      "dlr: Performing parameter search ...\n",
      "pipeline: ['vect', 'clf']\n",
      "parameters:\n",
      "{'vect__max_df': (0.01, 0.05, 0.5, 0.75, 1.0), 'vect__ngram_range': ((1, 1), (1, 2)), 'vect__use_idf': (True, False), 'clf__alpha': (1e-05, 1e-06)}\n",
      "Fitting 3 folds for each of 20 candidates, totalling 60 fits\n"
     ]
    },
    {
     "name": "stderr",
     "output_type": "stream",
     "text": [
      "[Parallel(n_jobs=4)]: Done  42 tasks      | elapsed:  2.0min\n",
      "[Parallel(n_jobs=4)]: Done  60 out of  60 | elapsed:  2.8min finished\n"
     ]
    },
    {
     "name": "stdout",
     "output_type": "stream",
     "text": [
      "done in 176.998s\n",
      "\n",
      "Best score: 0.602\n",
      "Best parameters set:\n",
      "\tclf__alpha: 1e-06\n",
      "\tvect__max_df: 0.5\n",
      "\tvect__ngram_range: (1, 2)\n",
      "\tvect__use_idf: False\n",
      "F1 score train: 0.60 F1 score test: 0.64\n",
      "zinc: Performing parameter search ...\n",
      "pipeline: ['vect', 'clf']\n",
      "parameters:\n",
      "{'vect__max_df': (0.01, 0.05, 0.5, 0.75, 1.0), 'vect__ngram_range': ((1, 1), (1, 2)), 'vect__use_idf': (True, False), 'clf__alpha': (1e-05, 1e-06)}\n",
      "Fitting 3 folds for each of 20 candidates, totalling 60 fits\n"
     ]
    },
    {
     "name": "stderr",
     "output_type": "stream",
     "text": [
      "[Parallel(n_jobs=4)]: Done  42 tasks      | elapsed:  2.4min\n",
      "[Parallel(n_jobs=4)]: Done  60 out of  60 | elapsed:  3.4min finished\n"
     ]
    },
    {
     "name": "stdout",
     "output_type": "stream",
     "text": [
      "done in 206.069s\n",
      "\n",
      "Best score: 0.758\n",
      "Best parameters set:\n",
      "\tclf__alpha: 1e-06\n",
      "\tvect__max_df: 0.01\n",
      "\tvect__ngram_range: (1, 1)\n",
      "\tvect__use_idf: False\n",
      "F1 score train: 0.76 F1 score test: 0.47\n",
      "money-supply: Performing parameter search ...\n",
      "pipeline: ['vect', 'clf']\n",
      "parameters:\n",
      "{'vect__max_df': (0.01, 0.05, 0.5, 0.75, 1.0), 'vect__ngram_range': ((1, 1), (1, 2)), 'vect__use_idf': (True, False), 'clf__alpha': (1e-05, 1e-06)}\n",
      "Fitting 3 folds for each of 20 candidates, totalling 60 fits\n"
     ]
    },
    {
     "name": "stderr",
     "output_type": "stream",
     "text": [
      "[Parallel(n_jobs=4)]: Done  42 tasks      | elapsed:  2.1min\n",
      "[Parallel(n_jobs=4)]: Done  60 out of  60 | elapsed:  2.9min finished\n"
     ]
    },
    {
     "name": "stdout",
     "output_type": "stream",
     "text": [
      "done in 180.571s\n",
      "\n",
      "Best score: 0.822\n",
      "Best parameters set:\n",
      "\tclf__alpha: 1e-06\n",
      "\tvect__max_df: 0.05\n",
      "\tvect__ngram_range: (1, 2)\n",
      "\tvect__use_idf: True\n",
      "F1 score train: 0.82 F1 score test: 0.73\n",
      "carcass: Performing parameter search ...\n",
      "pipeline: ['vect', 'clf']\n",
      "parameters:\n",
      "{'vect__max_df': (0.01, 0.05, 0.5, 0.75, 1.0), 'vect__ngram_range': ((1, 1), (1, 2)), 'vect__use_idf': (True, False), 'clf__alpha': (1e-05, 1e-06)}\n",
      "Fitting 3 folds for each of 20 candidates, totalling 60 fits\n"
     ]
    },
    {
     "name": "stderr",
     "output_type": "stream",
     "text": [
      "[Parallel(n_jobs=4)]: Done  42 tasks      | elapsed:  1.9min\n",
      "[Parallel(n_jobs=4)]: Done  60 out of  60 | elapsed:  2.5min finished\n"
     ]
    },
    {
     "name": "stdout",
     "output_type": "stream",
     "text": [
      "done in 157.870s\n",
      "\n",
      "Best score: 0.663\n",
      "Best parameters set:\n",
      "\tclf__alpha: 1e-06\n",
      "\tvect__max_df: 0.05\n",
      "\tvect__ngram_range: (1, 2)\n",
      "\tvect__use_idf: True\n",
      "F1 score train: 0.66 F1 score test: 0.50\n",
      "soy-oil: Performing parameter search ...\n",
      "pipeline: ['vect', 'clf']\n",
      "parameters:\n",
      "{'vect__max_df': (0.01, 0.05, 0.5, 0.75, 1.0), 'vect__ngram_range': ((1, 1), (1, 2)), 'vect__use_idf': (True, False), 'clf__alpha': (1e-05, 1e-06)}\n",
      "Fitting 3 folds for each of 20 candidates, totalling 60 fits\n"
     ]
    },
    {
     "name": "stderr",
     "output_type": "stream",
     "text": [
      "[Parallel(n_jobs=4)]: Done  42 tasks      | elapsed:  1.9min\n",
      "[Parallel(n_jobs=4)]: Done  60 out of  60 | elapsed:  2.7min finished\n"
     ]
    },
    {
     "name": "stdout",
     "output_type": "stream",
     "text": [
      "done in 165.425s\n",
      "\n",
      "Best score: 0.244\n",
      "Best parameters set:\n",
      "\tclf__alpha: 1e-05\n",
      "\tvect__max_df: 1.0\n",
      "\tvect__ngram_range: (1, 1)\n",
      "\tvect__use_idf: True\n",
      "F1 score train: 0.24 F1 score test: 0.15\n",
      "earn: Performing parameter search ...\n",
      "pipeline: ['vect', 'clf']\n",
      "parameters:\n",
      "{'vect__max_df': (0.01, 0.05, 0.5, 0.75, 1.0), 'vect__ngram_range': ((1, 1), (1, 2)), 'vect__use_idf': (True, False), 'clf__alpha': (1e-05, 1e-06)}\n",
      "Fitting 3 folds for each of 20 candidates, totalling 60 fits\n"
     ]
    },
    {
     "name": "stderr",
     "output_type": "stream",
     "text": [
      "[Parallel(n_jobs=4)]: Done  42 tasks      | elapsed:  1.9min\n",
      "[Parallel(n_jobs=4)]: Done  60 out of  60 | elapsed:  2.7min finished\n"
     ]
    },
    {
     "name": "stdout",
     "output_type": "stream",
     "text": [
      "done in 161.207s\n",
      "\n",
      "Best score: 0.944\n",
      "Best parameters set:\n",
      "\tclf__alpha: 1e-05\n",
      "\tvect__max_df: 0.5\n",
      "\tvect__ngram_range: (1, 1)\n",
      "\tvect__use_idf: False\n",
      "F1 score train: 0.94 F1 score test: 0.81\n",
      "tin: Performing parameter search ...\n",
      "pipeline: ['vect', 'clf']\n",
      "parameters:\n",
      "{'vect__max_df': (0.01, 0.05, 0.5, 0.75, 1.0), 'vect__ngram_range': ((1, 1), (1, 2)), 'vect__use_idf': (True, False), 'clf__alpha': (1e-05, 1e-06)}\n",
      "Fitting 3 folds for each of 20 candidates, totalling 60 fits\n"
     ]
    },
    {
     "name": "stderr",
     "output_type": "stream",
     "text": [
      "[Parallel(n_jobs=4)]: Done  42 tasks      | elapsed:  2.0min\n",
      "[Parallel(n_jobs=4)]: Done  60 out of  60 | elapsed:  2.7min finished\n"
     ]
    },
    {
     "name": "stdout",
     "output_type": "stream",
     "text": [
      "done in 163.713s\n",
      "\n",
      "Best score: 0.798\n",
      "Best parameters set:\n",
      "\tclf__alpha: 1e-05\n",
      "\tvect__max_df: 0.75\n",
      "\tvect__ngram_range: (1, 1)\n",
      "\tvect__use_idf: True\n",
      "F1 score train: 0.80 F1 score test: 0.74\n",
      "corn: Performing parameter search ...\n",
      "pipeline: ['vect', 'clf']\n",
      "parameters:\n",
      "{'vect__max_df': (0.01, 0.05, 0.5, 0.75, 1.0), 'vect__ngram_range': ((1, 1), (1, 2)), 'vect__use_idf': (True, False), 'clf__alpha': (1e-05, 1e-06)}\n",
      "Fitting 3 folds for each of 20 candidates, totalling 60 fits\n"
     ]
    },
    {
     "name": "stderr",
     "output_type": "stream",
     "text": [
      "[Parallel(n_jobs=4)]: Done  42 tasks      | elapsed:  2.1min\n",
      "[Parallel(n_jobs=4)]: Done  60 out of  60 | elapsed:  2.7min finished\n"
     ]
    },
    {
     "name": "stdout",
     "output_type": "stream",
     "text": [
      "done in 170.481s\n",
      "\n",
      "Best score: 0.785\n",
      "Best parameters set:\n",
      "\tclf__alpha: 1e-05\n",
      "\tvect__max_df: 0.5\n",
      "\tvect__ngram_range: (1, 2)\n",
      "\tvect__use_idf: True\n",
      "F1 score train: 0.78 F1 score test: 0.80\n",
      "trade: Performing parameter search ...\n",
      "pipeline: ['vect', 'clf']\n",
      "parameters:\n",
      "{'vect__max_df': (0.01, 0.05, 0.5, 0.75, 1.0), 'vect__ngram_range': ((1, 1), (1, 2)), 'vect__use_idf': (True, False), 'clf__alpha': (1e-05, 1e-06)}\n",
      "Fitting 3 folds for each of 20 candidates, totalling 60 fits\n"
     ]
    },
    {
     "name": "stderr",
     "output_type": "stream",
     "text": [
      "[Parallel(n_jobs=4)]: Done  42 tasks      | elapsed:  2.0min\n",
      "[Parallel(n_jobs=4)]: Done  60 out of  60 | elapsed:  2.8min finished\n"
     ]
    },
    {
     "name": "stdout",
     "output_type": "stream",
     "text": [
      "done in 173.045s\n",
      "\n",
      "Best score: 0.735\n",
      "Best parameters set:\n",
      "\tclf__alpha: 1e-05\n",
      "\tvect__max_df: 1.0\n",
      "\tvect__ngram_range: (1, 2)\n",
      "\tvect__use_idf: True\n",
      "F1 score train: 0.73 F1 score test: 0.70\n",
      "money-fx: Performing parameter search ...\n",
      "pipeline: ['vect', 'clf']\n",
      "parameters:\n",
      "{'vect__max_df': (0.01, 0.05, 0.5, 0.75, 1.0), 'vect__ngram_range': ((1, 1), (1, 2)), 'vect__use_idf': (True, False), 'clf__alpha': (1e-05, 1e-06)}\n",
      "Fitting 3 folds for each of 20 candidates, totalling 60 fits\n"
     ]
    },
    {
     "name": "stderr",
     "output_type": "stream",
     "text": [
      "[Parallel(n_jobs=4)]: Done  42 tasks      | elapsed:  1.9min\n",
      "[Parallel(n_jobs=4)]: Done  60 out of  60 | elapsed:  2.7min finished\n"
     ]
    },
    {
     "name": "stdout",
     "output_type": "stream",
     "text": [
      "done in 161.856s\n",
      "\n",
      "Best score: 0.753\n",
      "Best parameters set:\n",
      "\tclf__alpha: 1e-05\n",
      "\tvect__max_df: 1.0\n",
      "\tvect__ngram_range: (1, 1)\n",
      "\tvect__use_idf: True\n",
      "F1 score train: 0.75 F1 score test: 0.53\n",
      "fuel: Performing parameter search ...\n",
      "pipeline: ['vect', 'clf']\n",
      "parameters:\n",
      "{'vect__max_df': (0.01, 0.05, 0.5, 0.75, 1.0), 'vect__ngram_range': ((1, 1), (1, 2)), 'vect__use_idf': (True, False), 'clf__alpha': (1e-05, 1e-06)}\n",
      "Fitting 3 folds for each of 20 candidates, totalling 60 fits\n"
     ]
    },
    {
     "name": "stderr",
     "output_type": "stream",
     "text": [
      "[Parallel(n_jobs=4)]: Done  42 tasks      | elapsed:  1.8min\n",
      "[Parallel(n_jobs=4)]: Done  60 out of  60 | elapsed:  2.5min finished\n"
     ]
    },
    {
     "name": "stdout",
     "output_type": "stream",
     "text": [
      "done in 149.559s\n",
      "\n",
      "Best score: 0.333\n",
      "Best parameters set:\n",
      "\tclf__alpha: 1e-06\n",
      "\tvect__max_df: 0.5\n",
      "\tvect__ngram_range: (1, 1)\n",
      "\tvect__use_idf: True\n",
      "F1 score train: 0.33 F1 score test: 0.18\n",
      "sorghum: Performing parameter search ...\n",
      "pipeline: ['vect', 'clf']\n",
      "parameters:\n",
      "{'vect__max_df': (0.01, 0.05, 0.5, 0.75, 1.0), 'vect__ngram_range': ((1, 1), (1, 2)), 'vect__use_idf': (True, False), 'clf__alpha': (1e-05, 1e-06)}\n",
      "Fitting 3 folds for each of 20 candidates, totalling 60 fits\n"
     ]
    },
    {
     "name": "stderr",
     "output_type": "stream",
     "text": [
      "[Parallel(n_jobs=4)]: Done  42 tasks      | elapsed:  2.2min\n",
      "[Parallel(n_jobs=4)]: Done  60 out of  60 | elapsed:  2.9min finished\n"
     ]
    },
    {
     "name": "stdout",
     "output_type": "stream",
     "text": [
      "done in 175.868s\n",
      "\n",
      "Best score: 0.470\n",
      "Best parameters set:\n",
      "\tclf__alpha: 1e-05\n",
      "\tvect__max_df: 0.01\n",
      "\tvect__ngram_range: (1, 1)\n",
      "\tvect__use_idf: False\n",
      "F1 score train: 0.47 F1 score test: 0.71\n",
      "sugar: Performing parameter search ...\n",
      "pipeline: ['vect', 'clf']\n",
      "parameters:\n",
      "{'vect__max_df': (0.01, 0.05, 0.5, 0.75, 1.0), 'vect__ngram_range': ((1, 1), (1, 2)), 'vect__use_idf': (True, False), 'clf__alpha': (1e-05, 1e-06)}\n",
      "Fitting 3 folds for each of 20 candidates, totalling 60 fits\n"
     ]
    },
    {
     "name": "stderr",
     "output_type": "stream",
     "text": [
      "[Parallel(n_jobs=4)]: Done  42 tasks      | elapsed:  1.9min\n",
      "[Parallel(n_jobs=4)]: Done  60 out of  60 | elapsed:  2.7min finished\n"
     ]
    },
    {
     "name": "stdout",
     "output_type": "stream",
     "text": [
      "done in 168.173s\n",
      "\n",
      "Best score: 0.864\n",
      "Best parameters set:\n",
      "\tclf__alpha: 1e-06\n",
      "\tvect__max_df: 1.0\n",
      "\tvect__ngram_range: (1, 2)\n",
      "\tvect__use_idf: True\n",
      "F1 score train: 0.86 F1 score test: 0.84\n",
      "rubber: Performing parameter search ...\n",
      "pipeline: ['vect', 'clf']\n",
      "parameters:\n",
      "{'vect__max_df': (0.01, 0.05, 0.5, 0.75, 1.0), 'vect__ngram_range': ((1, 1), (1, 2)), 'vect__use_idf': (True, False), 'clf__alpha': (1e-05, 1e-06)}\n",
      "Fitting 3 folds for each of 20 candidates, totalling 60 fits\n"
     ]
    },
    {
     "name": "stderr",
     "output_type": "stream",
     "text": [
      "[Parallel(n_jobs=4)]: Done  42 tasks      | elapsed:  2.1min\n",
      "[Parallel(n_jobs=4)]: Done  60 out of  60 | elapsed:  2.8min finished\n"
     ]
    },
    {
     "name": "stdout",
     "output_type": "stream",
     "text": [
      "done in 170.866s\n",
      "\n",
      "Best score: 0.752\n",
      "Best parameters set:\n",
      "\tclf__alpha: 1e-05\n",
      "\tvect__max_df: 0.75\n",
      "\tvect__ngram_range: (1, 1)\n",
      "\tvect__use_idf: False\n",
      "F1 score train: 0.75 F1 score test: 0.67\n",
      "barley: Performing parameter search ...\n",
      "pipeline: ['vect', 'clf']\n",
      "parameters:\n",
      "{'vect__max_df': (0.01, 0.05, 0.5, 0.75, 1.0), 'vect__ngram_range': ((1, 1), (1, 2)), 'vect__use_idf': (True, False), 'clf__alpha': (1e-05, 1e-06)}\n",
      "Fitting 3 folds for each of 20 candidates, totalling 60 fits\n"
     ]
    },
    {
     "name": "stderr",
     "output_type": "stream",
     "text": [
      "[Parallel(n_jobs=4)]: Done  42 tasks      | elapsed:  1.9min\n",
      "[Parallel(n_jobs=4)]: Done  60 out of  60 | elapsed:  2.6min finished\n"
     ]
    },
    {
     "name": "stdout",
     "output_type": "stream",
     "text": [
      "done in 163.078s\n",
      "\n",
      "Best score: 0.594\n",
      "Best parameters set:\n",
      "\tclf__alpha: 1e-06\n",
      "\tvect__max_df: 1.0\n",
      "\tvect__ngram_range: (1, 2)\n",
      "\tvect__use_idf: False\n",
      "F1 score train: 0.59 F1 score test: 0.64\n",
      "lumber: Performing parameter search ...\n",
      "pipeline: ['vect', 'clf']\n",
      "parameters:\n",
      "{'vect__max_df': (0.01, 0.05, 0.5, 0.75, 1.0), 'vect__ngram_range': ((1, 1), (1, 2)), 'vect__use_idf': (True, False), 'clf__alpha': (1e-05, 1e-06)}\n",
      "Fitting 3 folds for each of 20 candidates, totalling 60 fits\n"
     ]
    },
    {
     "name": "stderr",
     "output_type": "stream",
     "text": [
      "[Parallel(n_jobs=4)]: Done  42 tasks      | elapsed:  2.1min\n",
      "[Parallel(n_jobs=4)]: Done  60 out of  60 | elapsed:  2.9min finished\n"
     ]
    },
    {
     "name": "stdout",
     "output_type": "stream",
     "text": [
      "done in 177.699s\n",
      "\n",
      "Best score: 0.167\n",
      "Best parameters set:\n",
      "\tclf__alpha: 1e-06\n",
      "\tvect__max_df: 0.05\n",
      "\tvect__ngram_range: (1, 2)\n",
      "\tvect__use_idf: False\n",
      "F1 score train: 0.17 F1 score test: 0.29\n",
      "crude: Performing parameter search ...\n",
      "pipeline: ['vect', 'clf']\n",
      "parameters:\n",
      "{'vect__max_df': (0.01, 0.05, 0.5, 0.75, 1.0), 'vect__ngram_range': ((1, 1), (1, 2)), 'vect__use_idf': (True, False), 'clf__alpha': (1e-05, 1e-06)}\n",
      "Fitting 3 folds for each of 20 candidates, totalling 60 fits\n"
     ]
    },
    {
     "name": "stderr",
     "output_type": "stream",
     "text": [
      "[Parallel(n_jobs=4)]: Done  42 tasks      | elapsed:  1.8min\n",
      "[Parallel(n_jobs=4)]: Done  60 out of  60 | elapsed:  2.4min finished\n"
     ]
    },
    {
     "name": "stdout",
     "output_type": "stream",
     "text": [
      "done in 149.673s\n",
      "\n",
      "Best score: 0.824\n",
      "Best parameters set:\n",
      "\tclf__alpha: 1e-06\n",
      "\tvect__max_df: 0.75\n",
      "\tvect__ngram_range: (1, 2)\n",
      "\tvect__use_idf: True\n",
      "F1 score train: 0.82 F1 score test: 0.82\n",
      "rice: Performing parameter search ...\n",
      "pipeline: ['vect', 'clf']\n",
      "parameters:\n",
      "{'vect__max_df': (0.01, 0.05, 0.5, 0.75, 1.0), 'vect__ngram_range': ((1, 1), (1, 2)), 'vect__use_idf': (True, False), 'clf__alpha': (1e-05, 1e-06)}\n",
      "Fitting 3 folds for each of 20 candidates, totalling 60 fits\n"
     ]
    },
    {
     "name": "stderr",
     "output_type": "stream",
     "text": [
      "[Parallel(n_jobs=4)]: Done  42 tasks      | elapsed:  2.2min\n",
      "[Parallel(n_jobs=4)]: Done  60 out of  60 | elapsed:  3.0min finished\n"
     ]
    },
    {
     "name": "stdout",
     "output_type": "stream",
     "text": [
      "done in 185.543s\n",
      "\n",
      "Best score: 0.722\n",
      "Best parameters set:\n",
      "\tclf__alpha: 1e-06\n",
      "\tvect__max_df: 0.01\n",
      "\tvect__ngram_range: (1, 2)\n",
      "\tvect__use_idf: True\n",
      "F1 score train: 0.72 F1 score test: 0.65\n",
      "pet-chem: Performing parameter search ...\n",
      "pipeline: ['vect', 'clf']\n",
      "parameters:\n",
      "{'vect__max_df': (0.01, 0.05, 0.5, 0.75, 1.0), 'vect__ngram_range': ((1, 1), (1, 2)), 'vect__use_idf': (True, False), 'clf__alpha': (1e-05, 1e-06)}\n",
      "Fitting 3 folds for each of 20 candidates, totalling 60 fits\n"
     ]
    },
    {
     "name": "stderr",
     "output_type": "stream",
     "text": [
      "[Parallel(n_jobs=4)]: Done  42 tasks      | elapsed:  1.8min\n",
      "[Parallel(n_jobs=4)]: Done  60 out of  60 | elapsed:  2.4min finished\n"
     ]
    },
    {
     "name": "stdout",
     "output_type": "stream",
     "text": [
      "done in 144.941s\n",
      "\n",
      "Best score: 0.148\n",
      "Best parameters set:\n",
      "\tclf__alpha: 1e-06\n",
      "\tvect__max_df: 0.01\n",
      "\tvect__ngram_range: (1, 1)\n",
      "\tvect__use_idf: True\n",
      "F1 score train: 0.15 F1 score test: 0.14\n",
      "palm-oil: Performing parameter search ...\n",
      "pipeline: ['vect', 'clf']\n",
      "parameters:\n",
      "{'vect__max_df': (0.01, 0.05, 0.5, 0.75, 1.0), 'vect__ngram_range': ((1, 1), (1, 2)), 'vect__use_idf': (True, False), 'clf__alpha': (1e-05, 1e-06)}\n",
      "Fitting 3 folds for each of 20 candidates, totalling 60 fits\n"
     ]
    },
    {
     "name": "stderr",
     "output_type": "stream",
     "text": [
      "[Parallel(n_jobs=4)]: Done  42 tasks      | elapsed:  1.9min\n",
      "[Parallel(n_jobs=4)]: Done  60 out of  60 | elapsed:  2.6min finished\n"
     ]
    },
    {
     "name": "stdout",
     "output_type": "stream",
     "text": [
      "done in 155.202s\n",
      "\n",
      "Best score: 0.682\n",
      "Best parameters set:\n",
      "\tclf__alpha: 1e-05\n",
      "\tvect__max_df: 0.01\n",
      "\tvect__ngram_range: (1, 1)\n",
      "\tvect__use_idf: False\n",
      "F1 score train: 0.68 F1 score test: 0.75\n"
     ]
    }
   ],
   "source": [
    "# Define a pipeline combining a text feature extractor with multi label classifier\n",
    "SGD_clf = Pipeline([\n",
    "    ('vect', TfidfVectorizer(stop_words = stop_words)),\n",
    "    ('clf', SGDClassifier()),\n",
    "])\n",
    "\n",
    "sgd_grid_results = {}\n",
    "\n",
    "parameters = {\n",
    "    'vect__max_df': (0.01, 0.05, 0.5, 0.75, 1.0),\n",
    "    'vect__ngram_range': ((1, 1), (1, 2)),  # unigrams or bigrams\n",
    "    'vect__use_idf': (True, False),\n",
    "    'clf__alpha': (0.00001, 0.000001),\n",
    "}\n",
    "\n",
    "random_search = RandomizedSearchCV(SGD_clf, parameters, n_jobs=4, n_iter=20, verbose=1, scoring='f1')\n",
    "# scoring = If None, the estimator’s default scorer is used (usually accuracy).\n",
    "\n",
    "for category in categories_with_enough_obs:\n",
    "    print(\"{}: Performing parameter search ...\".format(category))\n",
    "    print(\"pipeline:\", [name for name, _ in SGD_clf.steps])\n",
    "    print(\"parameters:\")\n",
    "    print(parameters)\n",
    "    start = time()\n",
    "    random_search.fit(X_train.txt_combined.tolist(), X_train[category])\n",
    "    print(\"done in {:0.3f}s\".format(time() - start))\n",
    "    print()\n",
    "    print(\"Best score: {:0.3f}\".format(random_search.best_score_))\n",
    "    params = {}\n",
    "    print(\"Best parameters set:\")\n",
    "    best_parameters = random_search.best_estimator_.get_params()\n",
    "    for param_name in sorted(parameters.keys()):\n",
    "        params[param_name] = best_parameters[param_name]\n",
    "        print(\"\\t{}: {}\".format(param_name, best_parameters[param_name]))\n",
    "#     sgd_grid_results[category] = [random_search.best_score_,params]\n",
    "    prediction = random_search.predict(X_test.txt_combined)\n",
    "    f1_value = f1_score(X_test[category], prediction)\n",
    "    sgd_grid_results[category] = [random_search.best_score_, f1_value, params]\n",
    "    print('F1 score train: {:.2f} F1 score test: {:.2f}'.format(random_search.best_score_, f1_value))"
   ]
  },
  {
   "cell_type": "code",
   "execution_count": 60,
   "metadata": {},
   "outputs": [
    {
     "data": {
      "text/plain": [
       "[0.7345745490959423,\n",
       " 0.6967213114754098,\n",
       " {'clf__alpha': 1e-05,\n",
       "  'vect__max_df': 1.0,\n",
       "  'vect__ngram_range': (1, 2),\n",
       "  'vect__use_idf': True}]"
      ]
     },
     "execution_count": 60,
     "metadata": {},
     "output_type": "execute_result"
    }
   ],
   "source": [
    "sgd_grid_results['trade']"
   ]
  },
  {
   "cell_type": "code",
   "execution_count": 61,
   "metadata": {},
   "outputs": [
    {
     "name": "stdout",
     "output_type": "stream",
     "text": [
      "oilseed: Performing parameter search ...\n",
      "pipeline: ['tfidf', 'clf']\n",
      "parameters:\n",
      "{'clf__estimator__C': [0.01, 0.1, 1, 10, 100, 1000], 'tfidf__max_df': (0.01, 0.05, 0.5, 0.75, 1.0), 'tfidf__ngram_range': ((1, 1), (1, 2))}\n",
      "Fitting 3 folds for each of 15 candidates, totalling 45 fits\n"
     ]
    },
    {
     "name": "stderr",
     "output_type": "stream",
     "text": [
      "[Parallel(n_jobs=4)]: Done  45 out of  45 | elapsed:  2.3min finished\n"
     ]
    },
    {
     "name": "stdout",
     "output_type": "stream",
     "text": [
      "done in 139.517s\n",
      "\n",
      "Best score: 0.615\n",
      "Best parameters set:\n",
      "\tclf__estimator__C: 100\n",
      "\ttfidf__max_df: 0.01\n",
      "\ttfidf__ngram_range: (1, 1)\n",
      "F1 score train: 0.62 F1 score test: 0.69\n",
      "reserves: Performing parameter search ...\n",
      "pipeline: ['tfidf', 'clf']\n",
      "parameters:\n",
      "{'clf__estimator__C': [0.01, 0.1, 1, 10, 100, 1000], 'tfidf__max_df': (0.01, 0.05, 0.5, 0.75, 1.0), 'tfidf__ngram_range': ((1, 1), (1, 2))}\n",
      "Fitting 3 folds for each of 15 candidates, totalling 45 fits\n"
     ]
    },
    {
     "name": "stderr",
     "output_type": "stream",
     "text": [
      "[Parallel(n_jobs=4)]: Done  45 out of  45 | elapsed:  1.9min finished\n"
     ]
    },
    {
     "name": "stdout",
     "output_type": "stream",
     "text": [
      "done in 117.747s\n",
      "\n",
      "Best score: 0.833\n",
      "Best parameters set:\n",
      "\tclf__estimator__C: 100\n",
      "\ttfidf__max_df: 0.75\n",
      "\ttfidf__ngram_range: (1, 1)\n",
      "F1 score train: 0.83 F1 score test: 0.75\n",
      "gold: Performing parameter search ...\n",
      "pipeline: ['tfidf', 'clf']\n",
      "parameters:\n",
      "{'clf__estimator__C': [0.01, 0.1, 1, 10, 100, 1000], 'tfidf__max_df': (0.01, 0.05, 0.5, 0.75, 1.0), 'tfidf__ngram_range': ((1, 1), (1, 2))}\n",
      "Fitting 3 folds for each of 15 candidates, totalling 45 fits\n"
     ]
    },
    {
     "name": "stderr",
     "output_type": "stream",
     "text": [
      "[Parallel(n_jobs=4)]: Done  45 out of  45 | elapsed:  1.8min finished\n"
     ]
    },
    {
     "name": "stdout",
     "output_type": "stream",
     "text": [
      "done in 115.702s\n",
      "\n",
      "Best score: 0.720\n",
      "Best parameters set:\n",
      "\tclf__estimator__C: 100\n",
      "\ttfidf__max_df: 0.05\n",
      "\ttfidf__ngram_range: (1, 2)\n",
      "F1 score train: 0.72 F1 score test: 0.66\n",
      "wpi: Performing parameter search ...\n",
      "pipeline: ['tfidf', 'clf']\n",
      "parameters:\n",
      "{'clf__estimator__C': [0.01, 0.1, 1, 10, 100, 1000], 'tfidf__max_df': (0.01, 0.05, 0.5, 0.75, 1.0), 'tfidf__ngram_range': ((1, 1), (1, 2))}\n",
      "Fitting 3 folds for each of 15 candidates, totalling 45 fits\n"
     ]
    },
    {
     "name": "stderr",
     "output_type": "stream",
     "text": [
      "[Parallel(n_jobs=4)]: Done  45 out of  45 | elapsed:  1.9min finished\n"
     ]
    },
    {
     "name": "stdout",
     "output_type": "stream",
     "text": [
      "done in 114.968s\n",
      "\n",
      "Best score: 0.867\n",
      "Best parameters set:\n",
      "\tclf__estimator__C: 100\n",
      "\ttfidf__max_df: 0.05\n",
      "\ttfidf__ngram_range: (1, 1)\n",
      "F1 score train: 0.87 F1 score test: 0.78\n",
      "cocoa: Performing parameter search ...\n",
      "pipeline: ['tfidf', 'clf']\n",
      "parameters:\n",
      "{'clf__estimator__C': [0.01, 0.1, 1, 10, 100, 1000], 'tfidf__max_df': (0.01, 0.05, 0.5, 0.75, 1.0), 'tfidf__ngram_range': ((1, 1), (1, 2))}\n",
      "Fitting 3 folds for each of 15 candidates, totalling 45 fits\n"
     ]
    },
    {
     "name": "stderr",
     "output_type": "stream",
     "text": [
      "[Parallel(n_jobs=4)]: Done  45 out of  45 | elapsed:  2.3min finished\n"
     ]
    },
    {
     "name": "stdout",
     "output_type": "stream",
     "text": [
      "done in 137.480s\n",
      "\n",
      "Best score: 0.783\n",
      "Best parameters set:\n",
      "\tclf__estimator__C: 1000\n",
      "\ttfidf__max_df: 1.0\n",
      "\ttfidf__ngram_range: (1, 1)\n",
      "F1 score train: 0.78 F1 score test: 0.75\n",
      "acq: Performing parameter search ...\n",
      "pipeline: ['tfidf', 'clf']\n",
      "parameters:\n",
      "{'clf__estimator__C': [0.01, 0.1, 1, 10, 100, 1000], 'tfidf__max_df': (0.01, 0.05, 0.5, 0.75, 1.0), 'tfidf__ngram_range': ((1, 1), (1, 2))}\n",
      "Fitting 3 folds for each of 15 candidates, totalling 45 fits\n"
     ]
    },
    {
     "name": "stderr",
     "output_type": "stream",
     "text": [
      "[Parallel(n_jobs=4)]: Done  45 out of  45 | elapsed:  2.3min finished\n"
     ]
    },
    {
     "name": "stdout",
     "output_type": "stream",
     "text": [
      "done in 147.131s\n",
      "\n",
      "Best score: 0.843\n",
      "Best parameters set:\n",
      "\tclf__estimator__C: 10\n",
      "\ttfidf__max_df: 1.0\n",
      "\ttfidf__ngram_range: (1, 2)\n",
      "F1 score train: 0.84 F1 score test: 0.85\n",
      "ship: Performing parameter search ...\n",
      "pipeline: ['tfidf', 'clf']\n",
      "parameters:\n",
      "{'clf__estimator__C': [0.01, 0.1, 1, 10, 100, 1000], 'tfidf__max_df': (0.01, 0.05, 0.5, 0.75, 1.0), 'tfidf__ngram_range': ((1, 1), (1, 2))}\n",
      "Fitting 3 folds for each of 15 candidates, totalling 45 fits\n"
     ]
    },
    {
     "name": "stderr",
     "output_type": "stream",
     "text": [
      "[Parallel(n_jobs=4)]: Done  45 out of  45 | elapsed:  1.7min finished\n"
     ]
    },
    {
     "name": "stdout",
     "output_type": "stream",
     "text": [
      "done in 102.972s\n",
      "\n",
      "Best score: 0.771\n",
      "Best parameters set:\n",
      "\tclf__estimator__C: 10\n",
      "\ttfidf__max_df: 0.01\n",
      "\ttfidf__ngram_range: (1, 1)\n",
      "F1 score train: 0.77 F1 score test: 0.64\n",
      "soy-meal: Performing parameter search ...\n",
      "pipeline: ['tfidf', 'clf']\n",
      "parameters:\n",
      "{'clf__estimator__C': [0.01, 0.1, 1, 10, 100, 1000], 'tfidf__max_df': (0.01, 0.05, 0.5, 0.75, 1.0), 'tfidf__ngram_range': ((1, 1), (1, 2))}\n",
      "Fitting 3 folds for each of 15 candidates, totalling 45 fits\n"
     ]
    },
    {
     "name": "stderr",
     "output_type": "stream",
     "text": [
      "[Parallel(n_jobs=4)]: Done  45 out of  45 | elapsed:  2.2min finished\n"
     ]
    },
    {
     "name": "stdout",
     "output_type": "stream",
     "text": [
      "done in 135.569s\n",
      "\n",
      "Best score: 0.269\n",
      "Best parameters set:\n",
      "\tclf__estimator__C: 10\n",
      "\ttfidf__max_df: 0.05\n",
      "\ttfidf__ngram_range: (1, 1)\n",
      "F1 score train: 0.27 F1 score test: 0.50\n",
      "meal-feed: Performing parameter search ...\n",
      "pipeline: ['tfidf', 'clf']\n",
      "parameters:\n",
      "{'clf__estimator__C': [0.01, 0.1, 1, 10, 100, 1000], 'tfidf__max_df': (0.01, 0.05, 0.5, 0.75, 1.0), 'tfidf__ngram_range': ((1, 1), (1, 2))}\n",
      "Fitting 3 folds for each of 15 candidates, totalling 45 fits\n"
     ]
    },
    {
     "name": "stderr",
     "output_type": "stream",
     "text": [
      "[Parallel(n_jobs=4)]: Done  45 out of  45 | elapsed:  2.0min finished\n"
     ]
    },
    {
     "name": "stdout",
     "output_type": "stream",
     "text": [
      "done in 120.760s\n",
      "\n",
      "Best score: 0.454\n",
      "Best parameters set:\n",
      "\tclf__estimator__C: 0.1\n",
      "\ttfidf__max_df: 0.01\n",
      "\ttfidf__ngram_range: (1, 1)\n",
      "F1 score train: 0.45 F1 score test: 0.71\n",
      "strategic-metal: Performing parameter search ...\n",
      "pipeline: ['tfidf', 'clf']\n",
      "parameters:\n",
      "{'clf__estimator__C': [0.01, 0.1, 1, 10, 100, 1000], 'tfidf__max_df': (0.01, 0.05, 0.5, 0.75, 1.0), 'tfidf__ngram_range': ((1, 1), (1, 2))}\n",
      "Fitting 3 folds for each of 15 candidates, totalling 45 fits\n"
     ]
    },
    {
     "name": "stderr",
     "output_type": "stream",
     "text": [
      "[Parallel(n_jobs=4)]: Done  45 out of  45 | elapsed:  1.7min finished\n"
     ]
    },
    {
     "name": "stdout",
     "output_type": "stream",
     "text": [
      "done in 106.573s\n",
      "\n",
      "Best score: 0.468\n",
      "Best parameters set:\n",
      "\tclf__estimator__C: 10\n",
      "\ttfidf__max_df: 0.75\n",
      "\ttfidf__ngram_range: (1, 1)\n",
      "F1 score train: 0.47 F1 score test: 0.00\n",
      "yen: Performing parameter search ...\n",
      "pipeline: ['tfidf', 'clf']\n",
      "parameters:\n",
      "{'clf__estimator__C': [0.01, 0.1, 1, 10, 100, 1000], 'tfidf__max_df': (0.01, 0.05, 0.5, 0.75, 1.0), 'tfidf__ngram_range': ((1, 1), (1, 2))}\n",
      "Fitting 3 folds for each of 15 candidates, totalling 45 fits\n"
     ]
    },
    {
     "name": "stderr",
     "output_type": "stream",
     "text": [
      "[Parallel(n_jobs=4)]: Done  45 out of  45 | elapsed:  1.9min finished\n"
     ]
    },
    {
     "name": "stdout",
     "output_type": "stream",
     "text": [
      "done in 117.640s\n",
      "\n",
      "Best score: 0.425\n",
      "Best parameters set:\n",
      "\tclf__estimator__C: 10\n",
      "\ttfidf__max_df: 0.75\n",
      "\ttfidf__ngram_range: (1, 1)\n",
      "F1 score train: 0.43 F1 score test: 0.52\n",
      "wheat: Performing parameter search ...\n",
      "pipeline: ['tfidf', 'clf']\n",
      "parameters:\n",
      "{'clf__estimator__C': [0.01, 0.1, 1, 10, 100, 1000], 'tfidf__max_df': (0.01, 0.05, 0.5, 0.75, 1.0), 'tfidf__ngram_range': ((1, 1), (1, 2))}\n",
      "Fitting 3 folds for each of 15 candidates, totalling 45 fits\n"
     ]
    },
    {
     "name": "stderr",
     "output_type": "stream",
     "text": [
      "[Parallel(n_jobs=4)]: Done  45 out of  45 | elapsed:  2.0min finished\n"
     ]
    },
    {
     "name": "stdout",
     "output_type": "stream",
     "text": [
      "done in 127.527s\n",
      "\n",
      "Best score: 0.815\n",
      "Best parameters set:\n",
      "\tclf__estimator__C: 10\n",
      "\ttfidf__max_df: 0.5\n",
      "\ttfidf__ngram_range: (1, 2)\n",
      "F1 score train: 0.82 F1 score test: 0.82\n",
      "cpi: Performing parameter search ...\n",
      "pipeline: ['tfidf', 'clf']\n",
      "parameters:\n",
      "{'clf__estimator__C': [0.01, 0.1, 1, 10, 100, 1000], 'tfidf__max_df': (0.01, 0.05, 0.5, 0.75, 1.0), 'tfidf__ngram_range': ((1, 1), (1, 2))}\n",
      "Fitting 3 folds for each of 15 candidates, totalling 45 fits\n"
     ]
    },
    {
     "name": "stderr",
     "output_type": "stream",
     "text": [
      "[Parallel(n_jobs=4)]: Done  45 out of  45 | elapsed:  2.1min finished\n"
     ]
    },
    {
     "name": "stdout",
     "output_type": "stream",
     "text": [
      "done in 135.302s\n",
      "\n",
      "Best score: 0.699\n",
      "Best parameters set:\n",
      "\tclf__estimator__C: 1000\n",
      "\ttfidf__max_df: 0.75\n",
      "\ttfidf__ngram_range: (1, 2)\n",
      "F1 score train: 0.70 F1 score test: 0.51\n",
      "rapeseed: Performing parameter search ...\n",
      "pipeline: ['tfidf', 'clf']\n",
      "parameters:\n",
      "{'clf__estimator__C': [0.01, 0.1, 1, 10, 100, 1000], 'tfidf__max_df': (0.01, 0.05, 0.5, 0.75, 1.0), 'tfidf__ngram_range': ((1, 1), (1, 2))}\n",
      "Fitting 3 folds for each of 15 candidates, totalling 45 fits\n"
     ]
    },
    {
     "name": "stderr",
     "output_type": "stream",
     "text": [
      "[Parallel(n_jobs=4)]: Done  45 out of  45 | elapsed:  1.9min finished\n"
     ]
    },
    {
     "name": "stdout",
     "output_type": "stream",
     "text": [
      "done in 114.143s\n",
      "\n",
      "Best score: 0.723\n",
      "Best parameters set:\n",
      "\tclf__estimator__C: 1\n",
      "\ttfidf__max_df: 0.01\n",
      "\ttfidf__ngram_range: (1, 1)\n",
      "F1 score train: 0.72 F1 score test: 0.60\n",
      "silver: Performing parameter search ...\n",
      "pipeline: ['tfidf', 'clf']\n",
      "parameters:\n",
      "{'clf__estimator__C': [0.01, 0.1, 1, 10, 100, 1000], 'tfidf__max_df': (0.01, 0.05, 0.5, 0.75, 1.0), 'tfidf__ngram_range': ((1, 1), (1, 2))}\n",
      "Fitting 3 folds for each of 15 candidates, totalling 45 fits\n"
     ]
    },
    {
     "name": "stderr",
     "output_type": "stream",
     "text": [
      "[Parallel(n_jobs=4)]: Done  45 out of  45 | elapsed:  2.1min finished\n"
     ]
    },
    {
     "name": "stdout",
     "output_type": "stream",
     "text": [
      "done in 138.025s\n",
      "\n",
      "Best score: 0.502\n",
      "Best parameters set:\n",
      "\tclf__estimator__C: 10\n",
      "\ttfidf__max_df: 0.05\n",
      "\ttfidf__ngram_range: (1, 2)\n",
      "F1 score train: 0.50 F1 score test: 0.67\n",
      "bop: Performing parameter search ...\n",
      "pipeline: ['tfidf', 'clf']\n",
      "parameters:\n",
      "{'clf__estimator__C': [0.01, 0.1, 1, 10, 100, 1000], 'tfidf__max_df': (0.01, 0.05, 0.5, 0.75, 1.0), 'tfidf__ngram_range': ((1, 1), (1, 2))}\n",
      "Fitting 3 folds for each of 15 candidates, totalling 45 fits\n"
     ]
    },
    {
     "name": "stderr",
     "output_type": "stream",
     "text": [
      "[Parallel(n_jobs=4)]: Done  45 out of  45 | elapsed:  2.4min finished\n"
     ]
    },
    {
     "name": "stdout",
     "output_type": "stream",
     "text": [
      "done in 149.772s\n",
      "\n",
      "Best score: 0.736\n",
      "Best parameters set:\n",
      "\tclf__estimator__C: 1000\n",
      "\ttfidf__max_df: 0.05\n",
      "\ttfidf__ngram_range: (1, 2)\n",
      "F1 score train: 0.74 F1 score test: 0.70\n",
      "cotton: Performing parameter search ...\n",
      "pipeline: ['tfidf', 'clf']\n",
      "parameters:\n",
      "{'clf__estimator__C': [0.01, 0.1, 1, 10, 100, 1000], 'tfidf__max_df': (0.01, 0.05, 0.5, 0.75, 1.0), 'tfidf__ngram_range': ((1, 1), (1, 2))}\n",
      "Fitting 3 folds for each of 15 candidates, totalling 45 fits\n"
     ]
    },
    {
     "name": "stderr",
     "output_type": "stream",
     "text": [
      "[Parallel(n_jobs=4)]: Done  45 out of  45 | elapsed:  2.3min finished\n"
     ]
    },
    {
     "name": "stdout",
     "output_type": "stream",
     "text": [
      "done in 139.052s\n",
      "\n",
      "Best score: 0.571\n",
      "Best parameters set:\n",
      "\tclf__estimator__C: 10\n",
      "\ttfidf__max_df: 0.01\n",
      "\ttfidf__ngram_range: (1, 1)\n",
      "F1 score train: 0.57 F1 score test: 0.74\n",
      "income: Performing parameter search ...\n",
      "pipeline: ['tfidf', 'clf']\n",
      "parameters:\n",
      "{'clf__estimator__C': [0.01, 0.1, 1, 10, 100, 1000], 'tfidf__max_df': (0.01, 0.05, 0.5, 0.75, 1.0), 'tfidf__ngram_range': ((1, 1), (1, 2))}\n",
      "Fitting 3 folds for each of 15 candidates, totalling 45 fits\n"
     ]
    },
    {
     "name": "stderr",
     "output_type": "stream",
     "text": [
      "[Parallel(n_jobs=4)]: Done  45 out of  45 | elapsed:  2.5min finished\n"
     ]
    },
    {
     "name": "stdout",
     "output_type": "stream",
     "text": [
      "done in 153.737s\n",
      "\n",
      "Best score: 0.556\n",
      "Best parameters set:\n",
      "\tclf__estimator__C: 100\n",
      "\ttfidf__max_df: 0.75\n",
      "\ttfidf__ngram_range: (1, 1)\n",
      "F1 score train: 0.56 F1 score test: 0.73\n",
      "hog: Performing parameter search ...\n",
      "pipeline: ['tfidf', 'clf']\n",
      "parameters:\n",
      "{'clf__estimator__C': [0.01, 0.1, 1, 10, 100, 1000], 'tfidf__max_df': (0.01, 0.05, 0.5, 0.75, 1.0), 'tfidf__ngram_range': ((1, 1), (1, 2))}\n",
      "Fitting 3 folds for each of 15 candidates, totalling 45 fits\n"
     ]
    },
    {
     "name": "stderr",
     "output_type": "stream",
     "text": [
      "[Parallel(n_jobs=4)]: Done  45 out of  45 | elapsed:  2.2min finished\n"
     ]
    },
    {
     "name": "stdout",
     "output_type": "stream",
     "text": [
      "done in 131.864s\n",
      "\n",
      "Best score: 0.437\n",
      "Best parameters set:\n",
      "\tclf__estimator__C: 1000\n",
      "\ttfidf__max_df: 1.0\n",
      "\ttfidf__ngram_range: (1, 1)\n",
      "F1 score train: 0.44 F1 score test: 0.27\n",
      "lead: Performing parameter search ...\n",
      "pipeline: ['tfidf', 'clf']\n",
      "parameters:\n",
      "{'clf__estimator__C': [0.01, 0.1, 1, 10, 100, 1000], 'tfidf__max_df': (0.01, 0.05, 0.5, 0.75, 1.0), 'tfidf__ngram_range': ((1, 1), (1, 2))}\n",
      "Fitting 3 folds for each of 15 candidates, totalling 45 fits\n"
     ]
    },
    {
     "name": "stderr",
     "output_type": "stream",
     "text": [
      "[Parallel(n_jobs=4)]: Done  45 out of  45 | elapsed:  1.9min finished\n"
     ]
    },
    {
     "name": "stdout",
     "output_type": "stream",
     "text": [
      "done in 120.745s\n",
      "\n",
      "Best score: 0.500\n",
      "Best parameters set:\n",
      "\tclf__estimator__C: 0.1\n",
      "\ttfidf__max_df: 0.05\n",
      "\ttfidf__ngram_range: (1, 2)\n",
      "F1 score train: 0.50 F1 score test: 0.62\n",
      "gas: Performing parameter search ...\n",
      "pipeline: ['tfidf', 'clf']\n",
      "parameters:\n",
      "{'clf__estimator__C': [0.01, 0.1, 1, 10, 100, 1000], 'tfidf__max_df': (0.01, 0.05, 0.5, 0.75, 1.0), 'tfidf__ngram_range': ((1, 1), (1, 2))}\n",
      "Fitting 3 folds for each of 15 candidates, totalling 45 fits\n"
     ]
    },
    {
     "name": "stderr",
     "output_type": "stream",
     "text": [
      "[Parallel(n_jobs=4)]: Done  45 out of  45 | elapsed:  1.8min finished\n"
     ]
    },
    {
     "name": "stdout",
     "output_type": "stream",
     "text": [
      "done in 110.359s\n",
      "\n",
      "Best score: 0.602\n",
      "Best parameters set:\n",
      "\tclf__estimator__C: 100\n",
      "\ttfidf__max_df: 0.05\n",
      "\ttfidf__ngram_range: (1, 1)\n",
      "F1 score train: 0.60 F1 score test: 0.83\n",
      "interest: Performing parameter search ...\n",
      "pipeline: ['tfidf', 'clf']\n",
      "parameters:\n",
      "{'clf__estimator__C': [0.01, 0.1, 1, 10, 100, 1000], 'tfidf__max_df': (0.01, 0.05, 0.5, 0.75, 1.0), 'tfidf__ngram_range': ((1, 1), (1, 2))}\n",
      "Fitting 3 folds for each of 15 candidates, totalling 45 fits\n"
     ]
    },
    {
     "name": "stderr",
     "output_type": "stream",
     "text": [
      "[Parallel(n_jobs=4)]: Done  45 out of  45 | elapsed:  2.2min finished\n"
     ]
    },
    {
     "name": "stdout",
     "output_type": "stream",
     "text": [
      "done in 143.796s\n",
      "\n",
      "Best score: 0.717\n",
      "Best parameters set:\n",
      "\tclf__estimator__C: 100\n",
      "\ttfidf__max_df: 0.75\n",
      "\ttfidf__ngram_range: (1, 2)\n",
      "F1 score train: 0.72 F1 score test: 0.69\n",
      "ipi: Performing parameter search ...\n",
      "pipeline: ['tfidf', 'clf']\n",
      "parameters:\n",
      "{'clf__estimator__C': [0.01, 0.1, 1, 10, 100, 1000], 'tfidf__max_df': (0.01, 0.05, 0.5, 0.75, 1.0), 'tfidf__ngram_range': ((1, 1), (1, 2))}\n",
      "Fitting 3 folds for each of 15 candidates, totalling 45 fits\n"
     ]
    },
    {
     "name": "stderr",
     "output_type": "stream",
     "text": [
      "[Parallel(n_jobs=4)]: Done  45 out of  45 | elapsed:  1.9min finished\n"
     ]
    },
    {
     "name": "stdout",
     "output_type": "stream",
     "text": [
      "done in 122.717s\n",
      "\n",
      "Best score: 0.814\n",
      "Best parameters set:\n",
      "\tclf__estimator__C: 10\n",
      "\ttfidf__max_df: 0.75\n",
      "\ttfidf__ngram_range: (1, 2)\n",
      "F1 score train: 0.81 F1 score test: 0.92\n",
      "livestock: Performing parameter search ...\n",
      "pipeline: ['tfidf', 'clf']\n",
      "parameters:\n",
      "{'clf__estimator__C': [0.01, 0.1, 1, 10, 100, 1000], 'tfidf__max_df': (0.01, 0.05, 0.5, 0.75, 1.0), 'tfidf__ngram_range': ((1, 1), (1, 2))}\n",
      "Fitting 3 folds for each of 15 candidates, totalling 45 fits\n"
     ]
    },
    {
     "name": "stderr",
     "output_type": "stream",
     "text": [
      "[Parallel(n_jobs=4)]: Done  45 out of  45 | elapsed:  2.0min finished\n"
     ]
    },
    {
     "name": "stdout",
     "output_type": "stream",
     "text": [
      "done in 131.284s\n",
      "\n",
      "Best score: 0.525\n",
      "Best parameters set:\n",
      "\tclf__estimator__C: 100\n",
      "\ttfidf__max_df: 0.5\n",
      "\ttfidf__ngram_range: (1, 2)\n",
      "F1 score train: 0.52 F1 score test: 0.43\n",
      "gnp: Performing parameter search ...\n",
      "pipeline: ['tfidf', 'clf']\n",
      "parameters:\n",
      "{'clf__estimator__C': [0.01, 0.1, 1, 10, 100, 1000], 'tfidf__max_df': (0.01, 0.05, 0.5, 0.75, 1.0), 'tfidf__ngram_range': ((1, 1), (1, 2))}\n",
      "Fitting 3 folds for each of 15 candidates, totalling 45 fits\n"
     ]
    },
    {
     "name": "stderr",
     "output_type": "stream",
     "text": [
      "[Parallel(n_jobs=4)]: Done  45 out of  45 | elapsed:  2.0min finished\n"
     ]
    },
    {
     "name": "stdout",
     "output_type": "stream",
     "text": [
      "done in 125.358s\n",
      "\n",
      "Best score: 0.783\n",
      "Best parameters set:\n",
      "\tclf__estimator__C: 10\n",
      "\ttfidf__max_df: 0.05\n",
      "\ttfidf__ngram_range: (1, 2)\n",
      "F1 score train: 0.78 F1 score test: 0.77\n",
      "grain: Performing parameter search ...\n",
      "pipeline: ['tfidf', 'clf']\n",
      "parameters:\n",
      "{'clf__estimator__C': [0.01, 0.1, 1, 10, 100, 1000], 'tfidf__max_df': (0.01, 0.05, 0.5, 0.75, 1.0), 'tfidf__ngram_range': ((1, 1), (1, 2))}\n",
      "Fitting 3 folds for each of 15 candidates, totalling 45 fits\n"
     ]
    },
    {
     "name": "stderr",
     "output_type": "stream",
     "text": [
      "[Parallel(n_jobs=4)]: Done  45 out of  45 | elapsed:  2.2min finished\n"
     ]
    },
    {
     "name": "stdout",
     "output_type": "stream",
     "text": [
      "done in 140.813s\n",
      "\n",
      "Best score: 0.846\n",
      "Best parameters set:\n",
      "\tclf__estimator__C: 100\n",
      "\ttfidf__max_df: 1.0\n",
      "\ttfidf__ngram_range: (1, 2)\n",
      "F1 score train: 0.85 F1 score test: 0.87\n",
      "iron-steel: Performing parameter search ...\n",
      "pipeline: ['tfidf', 'clf']\n",
      "parameters:\n",
      "{'clf__estimator__C': [0.01, 0.1, 1, 10, 100, 1000], 'tfidf__max_df': (0.01, 0.05, 0.5, 0.75, 1.0), 'tfidf__ngram_range': ((1, 1), (1, 2))}\n",
      "Fitting 3 folds for each of 15 candidates, totalling 45 fits\n"
     ]
    },
    {
     "name": "stderr",
     "output_type": "stream",
     "text": [
      "[Parallel(n_jobs=4)]: Done  45 out of  45 | elapsed:  2.2min finished\n"
     ]
    },
    {
     "name": "stdout",
     "output_type": "stream",
     "text": [
      "done in 136.605s\n",
      "\n",
      "Best score: 0.588\n",
      "Best parameters set:\n",
      "\tclf__estimator__C: 10\n",
      "\ttfidf__max_df: 1.0\n",
      "\ttfidf__ngram_range: (1, 2)\n",
      "F1 score train: 0.59 F1 score test: 0.58\n",
      "veg-oil: Performing parameter search ...\n",
      "pipeline: ['tfidf', 'clf']\n",
      "parameters:\n",
      "{'clf__estimator__C': [0.01, 0.1, 1, 10, 100, 1000], 'tfidf__max_df': (0.01, 0.05, 0.5, 0.75, 1.0), 'tfidf__ngram_range': ((1, 1), (1, 2))}\n",
      "Fitting 3 folds for each of 15 candidates, totalling 45 fits\n"
     ]
    },
    {
     "name": "stderr",
     "output_type": "stream",
     "text": [
      "[Parallel(n_jobs=4)]: Done  45 out of  45 | elapsed:  1.9min finished\n"
     ]
    },
    {
     "name": "stdout",
     "output_type": "stream",
     "text": [
      "done in 117.034s\n",
      "\n",
      "Best score: 0.757\n",
      "Best parameters set:\n",
      "\tclf__estimator__C: 10\n",
      "\ttfidf__max_df: 0.75\n",
      "\ttfidf__ngram_range: (1, 1)\n",
      "F1 score train: 0.76 F1 score test: 0.64\n",
      "jobs: Performing parameter search ...\n",
      "pipeline: ['tfidf', 'clf']\n",
      "parameters:\n",
      "{'clf__estimator__C': [0.01, 0.1, 1, 10, 100, 1000], 'tfidf__max_df': (0.01, 0.05, 0.5, 0.75, 1.0), 'tfidf__ngram_range': ((1, 1), (1, 2))}\n",
      "Fitting 3 folds for each of 15 candidates, totalling 45 fits\n"
     ]
    },
    {
     "name": "stderr",
     "output_type": "stream",
     "text": [
      "[Parallel(n_jobs=4)]: Done  45 out of  45 | elapsed:  2.3min finished\n"
     ]
    },
    {
     "name": "stdout",
     "output_type": "stream",
     "text": [
      "done in 145.326s\n",
      "\n",
      "Best score: 0.870\n",
      "Best parameters set:\n",
      "\tclf__estimator__C: 0.01\n",
      "\ttfidf__max_df: 0.01\n",
      "\ttfidf__ngram_range: (1, 2)\n",
      "F1 score train: 0.87 F1 score test: 0.71\n",
      "orange: Performing parameter search ...\n",
      "pipeline: ['tfidf', 'clf']\n",
      "parameters:\n",
      "{'clf__estimator__C': [0.01, 0.1, 1, 10, 100, 1000], 'tfidf__max_df': (0.01, 0.05, 0.5, 0.75, 1.0), 'tfidf__ngram_range': ((1, 1), (1, 2))}\n",
      "Fitting 3 folds for each of 15 candidates, totalling 45 fits\n"
     ]
    },
    {
     "name": "stderr",
     "output_type": "stream",
     "text": [
      "[Parallel(n_jobs=4)]: Done  45 out of  45 | elapsed:  2.6min finished\n"
     ]
    },
    {
     "name": "stdout",
     "output_type": "stream",
     "text": [
      "done in 155.316s\n",
      "\n",
      "Best score: 0.648\n",
      "Best parameters set:\n",
      "\tclf__estimator__C: 0.1\n",
      "\ttfidf__max_df: 0.75\n",
      "\ttfidf__ngram_range: (1, 1)\n",
      "F1 score train: 0.65 F1 score test: 0.91\n",
      "coffee: Performing parameter search ...\n",
      "pipeline: ['tfidf', 'clf']\n",
      "parameters:\n",
      "{'clf__estimator__C': [0.01, 0.1, 1, 10, 100, 1000], 'tfidf__max_df': (0.01, 0.05, 0.5, 0.75, 1.0), 'tfidf__ngram_range': ((1, 1), (1, 2))}\n",
      "Fitting 3 folds for each of 15 candidates, totalling 45 fits\n"
     ]
    },
    {
     "name": "stderr",
     "output_type": "stream",
     "text": [
      "[Parallel(n_jobs=4)]: Done  45 out of  45 | elapsed:  1.9min finished\n"
     ]
    },
    {
     "name": "stdout",
     "output_type": "stream",
     "text": [
      "done in 117.667s\n",
      "\n",
      "Best score: 0.855\n",
      "Best parameters set:\n",
      "\tclf__estimator__C: 100\n",
      "\ttfidf__max_df: 0.05\n",
      "\ttfidf__ngram_range: (1, 1)\n",
      "F1 score train: 0.86 F1 score test: 0.92\n",
      "oat: Performing parameter search ...\n",
      "pipeline: ['tfidf', 'clf']\n",
      "parameters:\n",
      "{'clf__estimator__C': [0.01, 0.1, 1, 10, 100, 1000], 'tfidf__max_df': (0.01, 0.05, 0.5, 0.75, 1.0), 'tfidf__ngram_range': ((1, 1), (1, 2))}\n",
      "Fitting 3 folds for each of 15 candidates, totalling 45 fits\n"
     ]
    },
    {
     "name": "stderr",
     "output_type": "stream",
     "text": [
      "[Parallel(n_jobs=4)]: Done  45 out of  45 | elapsed:  2.1min finished\n"
     ]
    },
    {
     "name": "stdout",
     "output_type": "stream",
     "text": [
      "done in 130.400s\n",
      "\n",
      "Best score: 0.169\n",
      "Best parameters set:\n",
      "\tclf__estimator__C: 0.1\n",
      "\ttfidf__max_df: 1.0\n",
      "\ttfidf__ngram_range: (1, 1)\n",
      "F1 score train: 0.17 F1 score test: 0.25\n",
      "copper: Performing parameter search ...\n",
      "pipeline: ['tfidf', 'clf']\n",
      "parameters:\n",
      "{'clf__estimator__C': [0.01, 0.1, 1, 10, 100, 1000], 'tfidf__max_df': (0.01, 0.05, 0.5, 0.75, 1.0), 'tfidf__ngram_range': ((1, 1), (1, 2))}\n",
      "Fitting 3 folds for each of 15 candidates, totalling 45 fits\n"
     ]
    },
    {
     "name": "stderr",
     "output_type": "stream",
     "text": [
      "[Parallel(n_jobs=4)]: Done  45 out of  45 | elapsed:  2.2min finished\n"
     ]
    },
    {
     "name": "stdout",
     "output_type": "stream",
     "text": [
      "done in 137.601s\n",
      "\n",
      "Best score: 0.663\n",
      "Best parameters set:\n",
      "\tclf__estimator__C: 0.01\n",
      "\ttfidf__max_df: 0.75\n",
      "\ttfidf__ngram_range: (1, 2)\n",
      "F1 score train: 0.66 F1 score test: 0.77\n",
      "alum: Performing parameter search ...\n",
      "pipeline: ['tfidf', 'clf']\n",
      "parameters:\n",
      "{'clf__estimator__C': [0.01, 0.1, 1, 10, 100, 1000], 'tfidf__max_df': (0.01, 0.05, 0.5, 0.75, 1.0), 'tfidf__ngram_range': ((1, 1), (1, 2))}\n",
      "Fitting 3 folds for each of 15 candidates, totalling 45 fits\n"
     ]
    },
    {
     "name": "stderr",
     "output_type": "stream",
     "text": [
      "[Parallel(n_jobs=4)]: Done  45 out of  45 | elapsed:  1.8min finished\n"
     ]
    },
    {
     "name": "stdout",
     "output_type": "stream",
     "text": [
      "done in 108.313s\n",
      "\n",
      "Best score: 0.698\n",
      "Best parameters set:\n",
      "\tclf__estimator__C: 100\n",
      "\ttfidf__max_df: 0.5\n",
      "\ttfidf__ngram_range: (1, 1)\n",
      "F1 score train: 0.70 F1 score test: 0.57\n",
      "soybean: Performing parameter search ...\n",
      "pipeline: ['tfidf', 'clf']\n",
      "parameters:\n",
      "{'clf__estimator__C': [0.01, 0.1, 1, 10, 100, 1000], 'tfidf__max_df': (0.01, 0.05, 0.5, 0.75, 1.0), 'tfidf__ngram_range': ((1, 1), (1, 2))}\n",
      "Fitting 3 folds for each of 15 candidates, totalling 45 fits\n"
     ]
    },
    {
     "name": "stderr",
     "output_type": "stream",
     "text": [
      "[Parallel(n_jobs=4)]: Done  45 out of  45 | elapsed:  2.1min finished\n"
     ]
    },
    {
     "name": "stdout",
     "output_type": "stream",
     "text": [
      "done in 125.420s\n",
      "\n",
      "Best score: 0.651\n",
      "Best parameters set:\n",
      "\tclf__estimator__C: 0.01\n",
      "\ttfidf__max_df: 0.01\n",
      "\ttfidf__ngram_range: (1, 1)\n",
      "F1 score train: 0.65 F1 score test: 0.74\n",
      "nat-gas: Performing parameter search ...\n",
      "pipeline: ['tfidf', 'clf']\n",
      "parameters:\n",
      "{'clf__estimator__C': [0.01, 0.1, 1, 10, 100, 1000], 'tfidf__max_df': (0.01, 0.05, 0.5, 0.75, 1.0), 'tfidf__ngram_range': ((1, 1), (1, 2))}\n",
      "Fitting 3 folds for each of 15 candidates, totalling 45 fits\n"
     ]
    },
    {
     "name": "stderr",
     "output_type": "stream",
     "text": [
      "[Parallel(n_jobs=4)]: Done  45 out of  45 | elapsed:  2.2min finished\n"
     ]
    },
    {
     "name": "stdout",
     "output_type": "stream",
     "text": [
      "done in 131.928s\n",
      "\n",
      "Best score: 0.602\n",
      "Best parameters set:\n",
      "\tclf__estimator__C: 100\n",
      "\ttfidf__max_df: 1.0\n",
      "\ttfidf__ngram_range: (1, 1)\n",
      "F1 score train: 0.60 F1 score test: 0.60\n",
      "dlr: Performing parameter search ...\n",
      "pipeline: ['tfidf', 'clf']\n",
      "parameters:\n",
      "{'clf__estimator__C': [0.01, 0.1, 1, 10, 100, 1000], 'tfidf__max_df': (0.01, 0.05, 0.5, 0.75, 1.0), 'tfidf__ngram_range': ((1, 1), (1, 2))}\n",
      "Fitting 3 folds for each of 15 candidates, totalling 45 fits\n"
     ]
    },
    {
     "name": "stderr",
     "output_type": "stream",
     "text": [
      "[Parallel(n_jobs=4)]: Done  45 out of  45 | elapsed:  2.3min finished\n"
     ]
    },
    {
     "name": "stdout",
     "output_type": "stream",
     "text": [
      "done in 142.579s\n",
      "\n",
      "Best score: 0.608\n",
      "Best parameters set:\n",
      "\tclf__estimator__C: 10\n",
      "\ttfidf__max_df: 1.0\n",
      "\ttfidf__ngram_range: (1, 1)\n",
      "F1 score train: 0.61 F1 score test: 0.65\n",
      "zinc: Performing parameter search ...\n",
      "pipeline: ['tfidf', 'clf']\n",
      "parameters:\n",
      "{'clf__estimator__C': [0.01, 0.1, 1, 10, 100, 1000], 'tfidf__max_df': (0.01, 0.05, 0.5, 0.75, 1.0), 'tfidf__ngram_range': ((1, 1), (1, 2))}\n",
      "Fitting 3 folds for each of 15 candidates, totalling 45 fits\n"
     ]
    },
    {
     "name": "stderr",
     "output_type": "stream",
     "text": [
      "[Parallel(n_jobs=4)]: Done  45 out of  45 | elapsed:  1.8min finished\n"
     ]
    },
    {
     "name": "stdout",
     "output_type": "stream",
     "text": [
      "done in 108.307s\n",
      "\n",
      "Best score: 0.738\n",
      "Best parameters set:\n",
      "\tclf__estimator__C: 100\n",
      "\ttfidf__max_df: 1.0\n",
      "\ttfidf__ngram_range: (1, 1)\n",
      "F1 score train: 0.74 F1 score test: 0.60\n",
      "money-supply: Performing parameter search ...\n",
      "pipeline: ['tfidf', 'clf']\n",
      "parameters:\n",
      "{'clf__estimator__C': [0.01, 0.1, 1, 10, 100, 1000], 'tfidf__max_df': (0.01, 0.05, 0.5, 0.75, 1.0), 'tfidf__ngram_range': ((1, 1), (1, 2))}\n",
      "Fitting 3 folds for each of 15 candidates, totalling 45 fits\n"
     ]
    },
    {
     "name": "stderr",
     "output_type": "stream",
     "text": [
      "[Parallel(n_jobs=4)]: Done  45 out of  45 | elapsed:  2.1min finished\n"
     ]
    },
    {
     "name": "stdout",
     "output_type": "stream",
     "text": [
      "done in 131.600s\n",
      "\n",
      "Best score: 0.839\n",
      "Best parameters set:\n",
      "\tclf__estimator__C: 10\n",
      "\ttfidf__max_df: 1.0\n",
      "\ttfidf__ngram_range: (1, 2)\n",
      "F1 score train: 0.84 F1 score test: 0.75\n",
      "carcass: Performing parameter search ...\n",
      "pipeline: ['tfidf', 'clf']\n",
      "parameters:\n",
      "{'clf__estimator__C': [0.01, 0.1, 1, 10, 100, 1000], 'tfidf__max_df': (0.01, 0.05, 0.5, 0.75, 1.0), 'tfidf__ngram_range': ((1, 1), (1, 2))}\n",
      "Fitting 3 folds for each of 15 candidates, totalling 45 fits\n"
     ]
    },
    {
     "name": "stderr",
     "output_type": "stream",
     "text": [
      "[Parallel(n_jobs=4)]: Done  45 out of  45 | elapsed:  2.0min finished\n"
     ]
    },
    {
     "name": "stdout",
     "output_type": "stream",
     "text": [
      "done in 124.900s\n",
      "\n",
      "Best score: 0.651\n",
      "Best parameters set:\n",
      "\tclf__estimator__C: 100\n",
      "\ttfidf__max_df: 0.75\n",
      "\ttfidf__ngram_range: (1, 1)\n",
      "F1 score train: 0.65 F1 score test: 0.57\n",
      "soy-oil: Performing parameter search ...\n",
      "pipeline: ['tfidf', 'clf']\n",
      "parameters:\n",
      "{'clf__estimator__C': [0.01, 0.1, 1, 10, 100, 1000], 'tfidf__max_df': (0.01, 0.05, 0.5, 0.75, 1.0), 'tfidf__ngram_range': ((1, 1), (1, 2))}\n",
      "Fitting 3 folds for each of 15 candidates, totalling 45 fits\n"
     ]
    },
    {
     "name": "stderr",
     "output_type": "stream",
     "text": [
      "[Parallel(n_jobs=4)]: Done  45 out of  45 | elapsed:  2.1min finished\n"
     ]
    },
    {
     "name": "stdout",
     "output_type": "stream",
     "text": [
      "done in 134.888s\n",
      "\n",
      "Best score: 0.240\n",
      "Best parameters set:\n",
      "\tclf__estimator__C: 1\n",
      "\ttfidf__max_df: 0.5\n",
      "\ttfidf__ngram_range: (1, 2)\n",
      "F1 score train: 0.24 F1 score test: 0.43\n",
      "earn: Performing parameter search ...\n",
      "pipeline: ['tfidf', 'clf']\n",
      "parameters:\n",
      "{'clf__estimator__C': [0.01, 0.1, 1, 10, 100, 1000], 'tfidf__max_df': (0.01, 0.05, 0.5, 0.75, 1.0), 'tfidf__ngram_range': ((1, 1), (1, 2))}\n",
      "Fitting 3 folds for each of 15 candidates, totalling 45 fits\n"
     ]
    },
    {
     "name": "stderr",
     "output_type": "stream",
     "text": [
      "[Parallel(n_jobs=4)]: Done  45 out of  45 | elapsed:  2.4min finished\n"
     ]
    },
    {
     "name": "stdout",
     "output_type": "stream",
     "text": [
      "done in 150.005s\n",
      "\n",
      "Best score: 0.945\n",
      "Best parameters set:\n",
      "\tclf__estimator__C: 10\n",
      "\ttfidf__max_df: 1.0\n",
      "\ttfidf__ngram_range: (1, 2)\n",
      "F1 score train: 0.94 F1 score test: 0.80\n",
      "tin: Performing parameter search ...\n",
      "pipeline: ['tfidf', 'clf']\n",
      "parameters:\n",
      "{'clf__estimator__C': [0.01, 0.1, 1, 10, 100, 1000], 'tfidf__max_df': (0.01, 0.05, 0.5, 0.75, 1.0), 'tfidf__ngram_range': ((1, 1), (1, 2))}\n",
      "Fitting 3 folds for each of 15 candidates, totalling 45 fits\n"
     ]
    },
    {
     "name": "stderr",
     "output_type": "stream",
     "text": [
      "[Parallel(n_jobs=4)]: Done  45 out of  45 | elapsed:  2.2min finished\n"
     ]
    },
    {
     "name": "stdout",
     "output_type": "stream",
     "text": [
      "done in 132.513s\n",
      "\n",
      "Best score: 0.799\n",
      "Best parameters set:\n",
      "\tclf__estimator__C: 0.1\n",
      "\ttfidf__max_df: 0.5\n",
      "\ttfidf__ngram_range: (1, 1)\n",
      "F1 score train: 0.80 F1 score test: 0.91\n",
      "corn: Performing parameter search ...\n",
      "pipeline: ['tfidf', 'clf']\n",
      "parameters:\n",
      "{'clf__estimator__C': [0.01, 0.1, 1, 10, 100, 1000], 'tfidf__max_df': (0.01, 0.05, 0.5, 0.75, 1.0), 'tfidf__ngram_range': ((1, 1), (1, 2))}\n",
      "Fitting 3 folds for each of 15 candidates, totalling 45 fits\n"
     ]
    },
    {
     "name": "stderr",
     "output_type": "stream",
     "text": [
      "[Parallel(n_jobs=4)]: Done  45 out of  45 | elapsed:  2.3min finished\n"
     ]
    },
    {
     "name": "stdout",
     "output_type": "stream",
     "text": [
      "done in 147.250s\n",
      "\n",
      "Best score: 0.783\n",
      "Best parameters set:\n",
      "\tclf__estimator__C: 1000\n",
      "\ttfidf__max_df: 0.75\n",
      "\ttfidf__ngram_range: (1, 2)\n",
      "F1 score train: 0.78 F1 score test: 0.81\n",
      "trade: Performing parameter search ...\n",
      "pipeline: ['tfidf', 'clf']\n",
      "parameters:\n",
      "{'clf__estimator__C': [0.01, 0.1, 1, 10, 100, 1000], 'tfidf__max_df': (0.01, 0.05, 0.5, 0.75, 1.0), 'tfidf__ngram_range': ((1, 1), (1, 2))}\n",
      "Fitting 3 folds for each of 15 candidates, totalling 45 fits\n"
     ]
    },
    {
     "name": "stderr",
     "output_type": "stream",
     "text": [
      "[Parallel(n_jobs=4)]: Done  45 out of  45 | elapsed:  2.4min finished\n"
     ]
    },
    {
     "name": "stdout",
     "output_type": "stream",
     "text": [
      "done in 149.105s\n",
      "\n",
      "Best score: 0.748\n",
      "Best parameters set:\n",
      "\tclf__estimator__C: 10\n",
      "\ttfidf__max_df: 0.75\n",
      "\ttfidf__ngram_range: (1, 2)\n",
      "F1 score train: 0.75 F1 score test: 0.69\n",
      "money-fx: Performing parameter search ...\n",
      "pipeline: ['tfidf', 'clf']\n",
      "parameters:\n",
      "{'clf__estimator__C': [0.01, 0.1, 1, 10, 100, 1000], 'tfidf__max_df': (0.01, 0.05, 0.5, 0.75, 1.0), 'tfidf__ngram_range': ((1, 1), (1, 2))}\n",
      "Fitting 3 folds for each of 15 candidates, totalling 45 fits\n"
     ]
    },
    {
     "name": "stderr",
     "output_type": "stream",
     "text": [
      "[Parallel(n_jobs=4)]: Done  45 out of  45 | elapsed:  2.4min finished\n"
     ]
    },
    {
     "name": "stdout",
     "output_type": "stream",
     "text": [
      "done in 154.271s\n",
      "\n",
      "Best score: 0.760\n",
      "Best parameters set:\n",
      "\tclf__estimator__C: 10\n",
      "\ttfidf__max_df: 0.5\n",
      "\ttfidf__ngram_range: (1, 2)\n",
      "F1 score train: 0.76 F1 score test: 0.66\n",
      "fuel: Performing parameter search ...\n",
      "pipeline: ['tfidf', 'clf']\n",
      "parameters:\n",
      "{'clf__estimator__C': [0.01, 0.1, 1, 10, 100, 1000], 'tfidf__max_df': (0.01, 0.05, 0.5, 0.75, 1.0), 'tfidf__ngram_range': ((1, 1), (1, 2))}\n",
      "Fitting 3 folds for each of 15 candidates, totalling 45 fits\n"
     ]
    },
    {
     "name": "stderr",
     "output_type": "stream",
     "text": [
      "[Parallel(n_jobs=4)]: Done  45 out of  45 | elapsed:  1.9min finished\n"
     ]
    },
    {
     "name": "stdout",
     "output_type": "stream",
     "text": [
      "done in 121.749s\n",
      "\n",
      "Best score: 0.398\n",
      "Best parameters set:\n",
      "\tclf__estimator__C: 10\n",
      "\ttfidf__max_df: 0.5\n",
      "\ttfidf__ngram_range: (1, 2)\n",
      "F1 score train: 0.40 F1 score test: 0.37\n",
      "sorghum: Performing parameter search ...\n",
      "pipeline: ['tfidf', 'clf']\n",
      "parameters:\n",
      "{'clf__estimator__C': [0.01, 0.1, 1, 10, 100, 1000], 'tfidf__max_df': (0.01, 0.05, 0.5, 0.75, 1.0), 'tfidf__ngram_range': ((1, 1), (1, 2))}\n",
      "Fitting 3 folds for each of 15 candidates, totalling 45 fits\n"
     ]
    },
    {
     "name": "stderr",
     "output_type": "stream",
     "text": [
      "[Parallel(n_jobs=4)]: Done  45 out of  45 | elapsed:  2.4min finished\n"
     ]
    },
    {
     "name": "stdout",
     "output_type": "stream",
     "text": [
      "done in 144.567s\n",
      "\n",
      "Best score: 0.585\n",
      "Best parameters set:\n",
      "\tclf__estimator__C: 100\n",
      "\ttfidf__max_df: 0.01\n",
      "\ttfidf__ngram_range: (1, 1)\n",
      "F1 score train: 0.58 F1 score test: 0.67\n",
      "sugar: Performing parameter search ...\n",
      "pipeline: ['tfidf', 'clf']\n",
      "parameters:\n",
      "{'clf__estimator__C': [0.01, 0.1, 1, 10, 100, 1000], 'tfidf__max_df': (0.01, 0.05, 0.5, 0.75, 1.0), 'tfidf__ngram_range': ((1, 1), (1, 2))}\n",
      "Fitting 3 folds for each of 15 candidates, totalling 45 fits\n"
     ]
    },
    {
     "name": "stderr",
     "output_type": "stream",
     "text": [
      "[Parallel(n_jobs=4)]: Done  45 out of  45 | elapsed:  2.2min finished\n"
     ]
    },
    {
     "name": "stdout",
     "output_type": "stream",
     "text": [
      "done in 140.206s\n",
      "\n",
      "Best score: 0.829\n",
      "Best parameters set:\n",
      "\tclf__estimator__C: 100\n",
      "\ttfidf__max_df: 0.75\n",
      "\ttfidf__ngram_range: (1, 2)\n",
      "F1 score train: 0.83 F1 score test: 0.83\n",
      "rubber: Performing parameter search ...\n",
      "pipeline: ['tfidf', 'clf']\n",
      "parameters:\n",
      "{'clf__estimator__C': [0.01, 0.1, 1, 10, 100, 1000], 'tfidf__max_df': (0.01, 0.05, 0.5, 0.75, 1.0), 'tfidf__ngram_range': ((1, 1), (1, 2))}\n",
      "Fitting 3 folds for each of 15 candidates, totalling 45 fits\n"
     ]
    },
    {
     "name": "stderr",
     "output_type": "stream",
     "text": [
      "[Parallel(n_jobs=4)]: Done  45 out of  45 | elapsed:  1.6min finished\n"
     ]
    },
    {
     "name": "stdout",
     "output_type": "stream",
     "text": [
      "done in 100.398s\n",
      "\n",
      "Best score: 0.698\n",
      "Best parameters set:\n",
      "\tclf__estimator__C: 100\n",
      "\ttfidf__max_df: 0.05\n",
      "\ttfidf__ngram_range: (1, 1)\n",
      "F1 score train: 0.70 F1 score test: 0.59\n",
      "barley: Performing parameter search ...\n",
      "pipeline: ['tfidf', 'clf']\n",
      "parameters:\n",
      "{'clf__estimator__C': [0.01, 0.1, 1, 10, 100, 1000], 'tfidf__max_df': (0.01, 0.05, 0.5, 0.75, 1.0), 'tfidf__ngram_range': ((1, 1), (1, 2))}\n",
      "Fitting 3 folds for each of 15 candidates, totalling 45 fits\n"
     ]
    },
    {
     "name": "stderr",
     "output_type": "stream",
     "text": [
      "[Parallel(n_jobs=4)]: Done  45 out of  45 | elapsed:  1.7min finished\n"
     ]
    },
    {
     "name": "stdout",
     "output_type": "stream",
     "text": [
      "done in 103.607s\n",
      "\n",
      "Best score: 0.782\n",
      "Best parameters set:\n",
      "\tclf__estimator__C: 10\n",
      "\ttfidf__max_df: 0.01\n",
      "\ttfidf__ngram_range: (1, 1)\n",
      "F1 score train: 0.78 F1 score test: 0.81\n",
      "lumber: Performing parameter search ...\n",
      "pipeline: ['tfidf', 'clf']\n",
      "parameters:\n",
      "{'clf__estimator__C': [0.01, 0.1, 1, 10, 100, 1000], 'tfidf__max_df': (0.01, 0.05, 0.5, 0.75, 1.0), 'tfidf__ngram_range': ((1, 1), (1, 2))}\n",
      "Fitting 3 folds for each of 15 candidates, totalling 45 fits\n"
     ]
    },
    {
     "name": "stderr",
     "output_type": "stream",
     "text": [
      "[Parallel(n_jobs=4)]: Done  45 out of  45 | elapsed:  2.1min finished\n"
     ]
    },
    {
     "name": "stdout",
     "output_type": "stream",
     "text": [
      "done in 132.818s\n",
      "\n",
      "Best score: 0.248\n",
      "Best parameters set:\n",
      "\tclf__estimator__C: 0.01\n",
      "\ttfidf__max_df: 0.75\n",
      "\ttfidf__ngram_range: (1, 2)\n",
      "F1 score train: 0.25 F1 score test: 0.46\n",
      "crude: Performing parameter search ...\n",
      "pipeline: ['tfidf', 'clf']\n",
      "parameters:\n",
      "{'clf__estimator__C': [0.01, 0.1, 1, 10, 100, 1000], 'tfidf__max_df': (0.01, 0.05, 0.5, 0.75, 1.0), 'tfidf__ngram_range': ((1, 1), (1, 2))}\n",
      "Fitting 3 folds for each of 15 candidates, totalling 45 fits\n"
     ]
    },
    {
     "name": "stderr",
     "output_type": "stream",
     "text": [
      "[Parallel(n_jobs=4)]: Done  45 out of  45 | elapsed:  1.8min finished\n"
     ]
    },
    {
     "name": "stdout",
     "output_type": "stream",
     "text": [
      "done in 110.703s\n",
      "\n",
      "Best score: 0.821\n",
      "Best parameters set:\n",
      "\tclf__estimator__C: 10\n",
      "\ttfidf__max_df: 0.75\n",
      "\ttfidf__ngram_range: (1, 1)\n",
      "F1 score train: 0.82 F1 score test: 0.81\n",
      "rice: Performing parameter search ...\n",
      "pipeline: ['tfidf', 'clf']\n",
      "parameters:\n",
      "{'clf__estimator__C': [0.01, 0.1, 1, 10, 100, 1000], 'tfidf__max_df': (0.01, 0.05, 0.5, 0.75, 1.0), 'tfidf__ngram_range': ((1, 1), (1, 2))}\n",
      "Fitting 3 folds for each of 15 candidates, totalling 45 fits\n"
     ]
    },
    {
     "name": "stderr",
     "output_type": "stream",
     "text": [
      "[Parallel(n_jobs=4)]: Done  45 out of  45 | elapsed:  2.2min finished\n"
     ]
    },
    {
     "name": "stdout",
     "output_type": "stream",
     "text": [
      "done in 131.880s\n",
      "\n",
      "Best score: 0.712\n",
      "Best parameters set:\n",
      "\tclf__estimator__C: 10\n",
      "\ttfidf__max_df: 0.5\n",
      "\ttfidf__ngram_range: (1, 1)\n",
      "F1 score train: 0.71 F1 score test: 0.76\n",
      "pet-chem: Performing parameter search ...\n",
      "pipeline: ['tfidf', 'clf']\n",
      "parameters:\n",
      "{'clf__estimator__C': [0.01, 0.1, 1, 10, 100, 1000], 'tfidf__max_df': (0.01, 0.05, 0.5, 0.75, 1.0), 'tfidf__ngram_range': ((1, 1), (1, 2))}\n",
      "Fitting 3 folds for each of 15 candidates, totalling 45 fits\n"
     ]
    },
    {
     "name": "stderr",
     "output_type": "stream",
     "text": [
      "[Parallel(n_jobs=4)]: Done  45 out of  45 | elapsed:  2.1min finished\n"
     ]
    },
    {
     "name": "stdout",
     "output_type": "stream",
     "text": [
      "done in 125.847s\n",
      "\n",
      "Best score: 0.178\n",
      "Best parameters set:\n",
      "\tclf__estimator__C: 0.01\n",
      "\ttfidf__max_df: 0.75\n",
      "\ttfidf__ngram_range: (1, 1)\n",
      "F1 score train: 0.18 F1 score test: 0.17\n",
      "palm-oil: Performing parameter search ...\n",
      "pipeline: ['tfidf', 'clf']\n",
      "parameters:\n",
      "{'clf__estimator__C': [0.01, 0.1, 1, 10, 100, 1000], 'tfidf__max_df': (0.01, 0.05, 0.5, 0.75, 1.0), 'tfidf__ngram_range': ((1, 1), (1, 2))}\n",
      "Fitting 3 folds for each of 15 candidates, totalling 45 fits\n"
     ]
    },
    {
     "name": "stderr",
     "output_type": "stream",
     "text": [
      "[Parallel(n_jobs=4)]: Done  45 out of  45 | elapsed:  2.0min finished\n"
     ]
    },
    {
     "name": "stdout",
     "output_type": "stream",
     "text": [
      "done in 124.367s\n",
      "\n",
      "Best score: 0.762\n",
      "Best parameters set:\n",
      "\tclf__estimator__C: 100\n",
      "\ttfidf__max_df: 0.5\n",
      "\ttfidf__ngram_range: (1, 1)\n",
      "F1 score train: 0.76 F1 score test: 0.75\n"
     ]
    }
   ],
   "source": [
    "SVC_clf = Pipeline([\n",
    "                ('tfidf', TfidfVectorizer(stop_words=stop_words)),\n",
    "                ('clf', OneVsRestClassifier(LinearSVC(class_weight='auto'))),\n",
    "            ])\n",
    "\n",
    "parameters = {\n",
    "    'clf__estimator__C': [0.01, 0.1, 1, 10, 100, 1000],\n",
    "    'tfidf__max_df': (0.01, 0.05, 0.5, 0.75, 1.0),\n",
    "    'tfidf__ngram_range': ((1, 1), (1, 2)),\n",
    "}\n",
    "\n",
    "svc_grid_results = {}\n",
    "random_search = RandomizedSearchCV(SVC_clf, parameters, n_jobs=4, n_iter=15, verbose=1, scoring='f1')\n",
    "\n",
    "for category in categories_with_enough_obs:\n",
    "    print(\"{}: Performing parameter search ...\".format(category))\n",
    "    print(\"pipeline:\", [name for name, _ in SVC_clf.steps])\n",
    "    print(\"parameters:\")\n",
    "    print(parameters)\n",
    "    start = time()\n",
    "    random_search.fit(X_train.txt_combined.tolist(), X_train[category])\n",
    "    print(\"done in {:0.3f}s\".format(time() - start))\n",
    "    print()\n",
    "\n",
    "    print(\"Best score: {:0.3f}\".format(random_search.best_score_))\n",
    "    params = {}\n",
    "    print(\"Best parameters set:\")\n",
    "    best_parameters = random_search.best_estimator_.get_params()\n",
    "    for param_name in sorted(parameters.keys()):\n",
    "        params[param_name] = best_parameters[param_name]\n",
    "        print(\"\\t{}: {}\".format(param_name, best_parameters[param_name]))\n",
    "#         svc_grid_results[category] = [random_search.best_score_,params]\n",
    "    prediction = random_search.predict(X_test.txt_combined)\n",
    "    f1_value = f1_score(X_test[category], prediction)\n",
    "    svc_grid_results[category] = [random_search.best_score_, f1_value, params]\n",
    "    print('F1 score train: {:.2f} F1 score test: {:.2f}'.format(random_search.best_score_, f1_value))"
   ]
  },
  {
   "cell_type": "code",
   "execution_count": 62,
   "metadata": {},
   "outputs": [
    {
     "data": {
      "text/plain": [
       "[0.7479532136222852,\n",
       " 0.6923076923076923,\n",
       " {'clf__estimator__C': 10,\n",
       "  'tfidf__max_df': 0.75,\n",
       "  'tfidf__ngram_range': (1, 2)}]"
      ]
     },
     "execution_count": 62,
     "metadata": {},
     "output_type": "execute_result"
    }
   ],
   "source": [
    "svc_grid_results['trade']"
   ]
  },
  {
   "cell_type": "code",
   "execution_count": 209,
   "metadata": {},
   "outputs": [
    {
     "data": {
      "text/plain": [
       "0.6923076923076923"
      ]
     },
     "execution_count": 209,
     "metadata": {},
     "output_type": "execute_result"
    }
   ],
   "source": [
    "svc_grid_results['trade'][1]"
   ]
  },
  {
   "cell_type": "code",
   "execution_count": 53,
   "metadata": {},
   "outputs": [
    {
     "name": "stdout",
     "output_type": "stream",
     "text": [
      "acq: Performing parameter search ...\n",
      "pipeline: ['tfidf', 'clf']\n",
      "parameters:\n",
      "{'tfidf__max_df': (0.01, 0.05, 0.5, 0.75, 1.0), 'tfidf__ngram_range': ((1, 1), (1, 2)), 'tfidf__smooth_idf': (True, False), 'clf__estimator__alpha': (1e-05, 1e-06, 0.001, 0.1, 0.5, 0.8)}\n",
      "Fitting 3 folds for each of 15 candidates, totalling 45 fits\n"
     ]
    },
    {
     "name": "stderr",
     "output_type": "stream",
     "text": [
      "[Parallel(n_jobs=4)]: Done  45 out of  45 | elapsed:  2.5min finished\n"
     ]
    },
    {
     "name": "stdout",
     "output_type": "stream",
     "text": [
      "done in 154.511s\n",
      "\n",
      "Best score: 0.694\n",
      "Best parameters set:\n",
      "\tclf__estimator__alpha: 0.1\n",
      "\ttfidf__max_df: 1.0\n",
      "\ttfidf__ngram_range: (1, 1)\n",
      "\ttfidf__smooth_idf: False\n",
      "F1 score train: 0.69 F1 score test: 0.68\n",
      "alum: Performing parameter search ...\n",
      "pipeline: ['tfidf', 'clf']\n",
      "parameters:\n",
      "{'tfidf__max_df': (0.01, 0.05, 0.5, 0.75, 1.0), 'tfidf__ngram_range': ((1, 1), (1, 2)), 'tfidf__smooth_idf': (True, False), 'clf__estimator__alpha': (1e-05, 1e-06, 0.001, 0.1, 0.5, 0.8)}\n",
      "Fitting 3 folds for each of 15 candidates, totalling 45 fits\n"
     ]
    },
    {
     "name": "stderr",
     "output_type": "stream",
     "text": [
      "[Parallel(n_jobs=4)]: Done  45 out of  45 | elapsed:  2.4min finished\n"
     ]
    },
    {
     "name": "stdout",
     "output_type": "stream",
     "text": [
      "done in 153.703s\n",
      "\n",
      "Best score: 0.330\n",
      "Best parameters set:\n",
      "\tclf__estimator__alpha: 0.001\n",
      "\ttfidf__max_df: 0.75\n",
      "\ttfidf__ngram_range: (1, 2)\n",
      "\ttfidf__smooth_idf: True\n",
      "F1 score train: 0.33 F1 score test: 0.47\n",
      "barley: Performing parameter search ...\n",
      "pipeline: ['tfidf', 'clf']\n",
      "parameters:\n",
      "{'tfidf__max_df': (0.01, 0.05, 0.5, 0.75, 1.0), 'tfidf__ngram_range': ((1, 1), (1, 2)), 'tfidf__smooth_idf': (True, False), 'clf__estimator__alpha': (1e-05, 1e-06, 0.001, 0.1, 0.5, 0.8)}\n",
      "Fitting 3 folds for each of 15 candidates, totalling 45 fits\n"
     ]
    },
    {
     "name": "stderr",
     "output_type": "stream",
     "text": [
      "[Parallel(n_jobs=4)]: Done  45 out of  45 | elapsed:  2.5min finished\n"
     ]
    },
    {
     "name": "stdout",
     "output_type": "stream",
     "text": [
      "done in 158.150s\n",
      "\n",
      "Best score: 0.552\n",
      "Best parameters set:\n",
      "\tclf__estimator__alpha: 1e-06\n",
      "\ttfidf__max_df: 0.05\n",
      "\ttfidf__ngram_range: (1, 2)\n",
      "\ttfidf__smooth_idf: False\n",
      "F1 score train: 0.55 F1 score test: 0.48\n",
      "bop: Performing parameter search ...\n",
      "pipeline: ['tfidf', 'clf']\n",
      "parameters:\n",
      "{'tfidf__max_df': (0.01, 0.05, 0.5, 0.75, 1.0), 'tfidf__ngram_range': ((1, 1), (1, 2)), 'tfidf__smooth_idf': (True, False), 'clf__estimator__alpha': (1e-05, 1e-06, 0.001, 0.1, 0.5, 0.8)}\n",
      "Fitting 3 folds for each of 15 candidates, totalling 45 fits\n"
     ]
    },
    {
     "name": "stderr",
     "output_type": "stream",
     "text": [
      "[Parallel(n_jobs=4)]: Done  45 out of  45 | elapsed:  2.2min finished\n"
     ]
    },
    {
     "name": "stdout",
     "output_type": "stream",
     "text": [
      "done in 138.161s\n",
      "\n",
      "Best score: 0.495\n",
      "Best parameters set:\n",
      "\tclf__estimator__alpha: 1e-05\n",
      "\ttfidf__max_df: 1.0\n",
      "\ttfidf__ngram_range: (1, 2)\n",
      "\ttfidf__smooth_idf: True\n",
      "F1 score train: 0.50 F1 score test: 0.52\n",
      "carcass: Performing parameter search ...\n",
      "pipeline: ['tfidf', 'clf']\n",
      "parameters:\n",
      "{'tfidf__max_df': (0.01, 0.05, 0.5, 0.75, 1.0), 'tfidf__ngram_range': ((1, 1), (1, 2)), 'tfidf__smooth_idf': (True, False), 'clf__estimator__alpha': (1e-05, 1e-06, 0.001, 0.1, 0.5, 0.8)}\n",
      "Fitting 3 folds for each of 15 candidates, totalling 45 fits\n"
     ]
    },
    {
     "name": "stderr",
     "output_type": "stream",
     "text": [
      "[Parallel(n_jobs=4)]: Done  45 out of  45 | elapsed:  2.6min finished\n"
     ]
    },
    {
     "name": "stdout",
     "output_type": "stream",
     "text": [
      "done in 161.585s\n",
      "\n",
      "Best score: 0.360\n",
      "Best parameters set:\n",
      "\tclf__estimator__alpha: 1e-05\n",
      "\ttfidf__max_df: 0.75\n",
      "\ttfidf__ngram_range: (1, 2)\n",
      "\ttfidf__smooth_idf: False\n",
      "F1 score train: 0.36 F1 score test: 0.11\n",
      "cocoa: Performing parameter search ...\n",
      "pipeline: ['tfidf', 'clf']\n",
      "parameters:\n",
      "{'tfidf__max_df': (0.01, 0.05, 0.5, 0.75, 1.0), 'tfidf__ngram_range': ((1, 1), (1, 2)), 'tfidf__smooth_idf': (True, False), 'clf__estimator__alpha': (1e-05, 1e-06, 0.001, 0.1, 0.5, 0.8)}\n",
      "Fitting 3 folds for each of 15 candidates, totalling 45 fits\n"
     ]
    },
    {
     "name": "stderr",
     "output_type": "stream",
     "text": [
      "[Parallel(n_jobs=4)]: Done  45 out of  45 | elapsed:  2.5min finished\n"
     ]
    },
    {
     "name": "stdout",
     "output_type": "stream",
     "text": [
      "done in 156.526s\n",
      "\n",
      "Best score: 0.641\n",
      "Best parameters set:\n",
      "\tclf__estimator__alpha: 1e-06\n",
      "\ttfidf__max_df: 0.5\n",
      "\ttfidf__ngram_range: (1, 2)\n",
      "\ttfidf__smooth_idf: True\n",
      "F1 score train: 0.64 F1 score test: 0.57\n",
      "coffee: Performing parameter search ...\n",
      "pipeline: ['tfidf', 'clf']\n",
      "parameters:\n",
      "{'tfidf__max_df': (0.01, 0.05, 0.5, 0.75, 1.0), 'tfidf__ngram_range': ((1, 1), (1, 2)), 'tfidf__smooth_idf': (True, False), 'clf__estimator__alpha': (1e-05, 1e-06, 0.001, 0.1, 0.5, 0.8)}\n",
      "Fitting 3 folds for each of 15 candidates, totalling 45 fits\n"
     ]
    },
    {
     "name": "stderr",
     "output_type": "stream",
     "text": [
      "[Parallel(n_jobs=4)]: Done  45 out of  45 | elapsed:  2.2min finished\n"
     ]
    },
    {
     "name": "stdout",
     "output_type": "stream",
     "text": [
      "done in 137.184s\n",
      "\n",
      "Best score: 0.719\n",
      "Best parameters set:\n",
      "\tclf__estimator__alpha: 1e-05\n",
      "\ttfidf__max_df: 0.05\n",
      "\ttfidf__ngram_range: (1, 2)\n",
      "\ttfidf__smooth_idf: True\n",
      "F1 score train: 0.72 F1 score test: 0.75\n",
      "copper: Performing parameter search ...\n",
      "pipeline: ['tfidf', 'clf']\n",
      "parameters:\n",
      "{'tfidf__max_df': (0.01, 0.05, 0.5, 0.75, 1.0), 'tfidf__ngram_range': ((1, 1), (1, 2)), 'tfidf__smooth_idf': (True, False), 'clf__estimator__alpha': (1e-05, 1e-06, 0.001, 0.1, 0.5, 0.8)}\n",
      "Fitting 3 folds for each of 15 candidates, totalling 45 fits\n"
     ]
    },
    {
     "name": "stderr",
     "output_type": "stream",
     "text": [
      "[Parallel(n_jobs=4)]: Done  45 out of  45 | elapsed:  2.7min finished\n"
     ]
    },
    {
     "name": "stdout",
     "output_type": "stream",
     "text": [
      "done in 168.376s\n",
      "\n",
      "Best score: 0.405\n",
      "Best parameters set:\n",
      "\tclf__estimator__alpha: 1e-05\n",
      "\ttfidf__max_df: 1.0\n",
      "\ttfidf__ngram_range: (1, 2)\n",
      "\ttfidf__smooth_idf: False\n",
      "F1 score train: 0.41 F1 score test: 0.45\n",
      "corn: Performing parameter search ...\n",
      "pipeline: ['tfidf', 'clf']\n",
      "parameters:\n",
      "{'tfidf__max_df': (0.01, 0.05, 0.5, 0.75, 1.0), 'tfidf__ngram_range': ((1, 1), (1, 2)), 'tfidf__smooth_idf': (True, False), 'clf__estimator__alpha': (1e-05, 1e-06, 0.001, 0.1, 0.5, 0.8)}\n",
      "Fitting 3 folds for each of 15 candidates, totalling 45 fits\n"
     ]
    },
    {
     "name": "stderr",
     "output_type": "stream",
     "text": [
      "[Parallel(n_jobs=4)]: Done  45 out of  45 | elapsed:  2.4min finished\n"
     ]
    },
    {
     "name": "stdout",
     "output_type": "stream",
     "text": [
      "done in 150.636s\n",
      "\n",
      "Best score: 0.516\n",
      "Best parameters set:\n",
      "\tclf__estimator__alpha: 1e-06\n",
      "\ttfidf__max_df: 0.5\n",
      "\ttfidf__ngram_range: (1, 2)\n",
      "\ttfidf__smooth_idf: False\n",
      "F1 score train: 0.52 F1 score test: 0.58\n",
      "cotton: Performing parameter search ...\n",
      "pipeline: ['tfidf', 'clf']\n",
      "parameters:\n",
      "{'tfidf__max_df': (0.01, 0.05, 0.5, 0.75, 1.0), 'tfidf__ngram_range': ((1, 1), (1, 2)), 'tfidf__smooth_idf': (True, False), 'clf__estimator__alpha': (1e-05, 1e-06, 0.001, 0.1, 0.5, 0.8)}\n",
      "Fitting 3 folds for each of 15 candidates, totalling 45 fits\n"
     ]
    },
    {
     "name": "stderr",
     "output_type": "stream",
     "text": [
      "[Parallel(n_jobs=4)]: Done  45 out of  45 | elapsed:  3.1min finished\n"
     ]
    },
    {
     "name": "stdout",
     "output_type": "stream",
     "text": [
      "done in 195.923s\n",
      "\n",
      "Best score: 0.329\n",
      "Best parameters set:\n",
      "\tclf__estimator__alpha: 0.001\n",
      "\ttfidf__max_df: 0.05\n",
      "\ttfidf__ngram_range: (1, 2)\n",
      "\ttfidf__smooth_idf: False\n",
      "F1 score train: 0.33 F1 score test: 0.51\n",
      "cpi: Performing parameter search ...\n",
      "pipeline: ['tfidf', 'clf']\n",
      "parameters:\n",
      "{'tfidf__max_df': (0.01, 0.05, 0.5, 0.75, 1.0), 'tfidf__ngram_range': ((1, 1), (1, 2)), 'tfidf__smooth_idf': (True, False), 'clf__estimator__alpha': (1e-05, 1e-06, 0.001, 0.1, 0.5, 0.8)}\n",
      "Fitting 3 folds for each of 15 candidates, totalling 45 fits\n"
     ]
    },
    {
     "name": "stderr",
     "output_type": "stream",
     "text": [
      "[Parallel(n_jobs=4)]: Done  45 out of  45 | elapsed:  2.2min finished\n"
     ]
    },
    {
     "name": "stdout",
     "output_type": "stream",
     "text": [
      "done in 140.922s\n",
      "\n",
      "Best score: 0.490\n",
      "Best parameters set:\n",
      "\tclf__estimator__alpha: 1e-05\n",
      "\ttfidf__max_df: 0.5\n",
      "\ttfidf__ngram_range: (1, 2)\n",
      "\ttfidf__smooth_idf: True\n",
      "F1 score train: 0.49 F1 score test: 0.37\n",
      "crude: Performing parameter search ...\n",
      "pipeline: ['tfidf', 'clf']\n",
      "parameters:\n",
      "{'tfidf__max_df': (0.01, 0.05, 0.5, 0.75, 1.0), 'tfidf__ngram_range': ((1, 1), (1, 2)), 'tfidf__smooth_idf': (True, False), 'clf__estimator__alpha': (1e-05, 1e-06, 0.001, 0.1, 0.5, 0.8)}\n",
      "Fitting 3 folds for each of 15 candidates, totalling 45 fits\n"
     ]
    },
    {
     "name": "stderr",
     "output_type": "stream",
     "text": [
      "[Parallel(n_jobs=4)]: Done  45 out of  45 | elapsed:  2.7min finished\n"
     ]
    },
    {
     "name": "stdout",
     "output_type": "stream",
     "text": [
      "done in 166.042s\n",
      "\n",
      "Best score: 0.735\n",
      "Best parameters set:\n",
      "\tclf__estimator__alpha: 0.001\n",
      "\ttfidf__max_df: 0.75\n",
      "\ttfidf__ngram_range: (1, 2)\n",
      "\ttfidf__smooth_idf: True\n",
      "F1 score train: 0.74 F1 score test: 0.78\n",
      "dlr: Performing parameter search ...\n",
      "pipeline: ['tfidf', 'clf']\n",
      "parameters:\n",
      "{'tfidf__max_df': (0.01, 0.05, 0.5, 0.75, 1.0), 'tfidf__ngram_range': ((1, 1), (1, 2)), 'tfidf__smooth_idf': (True, False), 'clf__estimator__alpha': (1e-05, 1e-06, 0.001, 0.1, 0.5, 0.8)}\n",
      "Fitting 3 folds for each of 15 candidates, totalling 45 fits\n"
     ]
    },
    {
     "name": "stderr",
     "output_type": "stream",
     "text": [
      "[Parallel(n_jobs=4)]: Done  45 out of  45 | elapsed:  2.5min finished\n"
     ]
    },
    {
     "name": "stdout",
     "output_type": "stream",
     "text": [
      "done in 156.986s\n",
      "\n",
      "Best score: 0.527\n",
      "Best parameters set:\n",
      "\tclf__estimator__alpha: 0.001\n",
      "\ttfidf__max_df: 0.75\n",
      "\ttfidf__ngram_range: (1, 2)\n",
      "\ttfidf__smooth_idf: True\n",
      "F1 score train: 0.53 F1 score test: 0.43\n",
      "dmk: Performing parameter search ...\n",
      "pipeline: ['tfidf', 'clf']\n",
      "parameters:\n",
      "{'tfidf__max_df': (0.01, 0.05, 0.5, 0.75, 1.0), 'tfidf__ngram_range': ((1, 1), (1, 2)), 'tfidf__smooth_idf': (True, False), 'clf__estimator__alpha': (1e-05, 1e-06, 0.001, 0.1, 0.5, 0.8)}\n",
      "Fitting 3 folds for each of 15 candidates, totalling 45 fits\n"
     ]
    },
    {
     "name": "stderr",
     "output_type": "stream",
     "text": [
      "[Parallel(n_jobs=4)]: Done  45 out of  45 | elapsed:  2.6min finished\n"
     ]
    },
    {
     "name": "stdout",
     "output_type": "stream",
     "text": [
      "done in 161.157s\n",
      "\n",
      "Best score: 0.552\n",
      "Best parameters set:\n",
      "\tclf__estimator__alpha: 0.1\n",
      "\ttfidf__max_df: 0.05\n",
      "\ttfidf__ngram_range: (1, 2)\n",
      "\ttfidf__smooth_idf: False\n",
      "F1 score train: 0.55 F1 score test: 0.00\n",
      "earn: Performing parameter search ...\n",
      "pipeline: ['tfidf', 'clf']\n",
      "parameters:\n",
      "{'tfidf__max_df': (0.01, 0.05, 0.5, 0.75, 1.0), 'tfidf__ngram_range': ((1, 1), (1, 2)), 'tfidf__smooth_idf': (True, False), 'clf__estimator__alpha': (1e-05, 1e-06, 0.001, 0.1, 0.5, 0.8)}\n",
      "Fitting 3 folds for each of 15 candidates, totalling 45 fits\n"
     ]
    },
    {
     "name": "stderr",
     "output_type": "stream",
     "text": [
      "[Parallel(n_jobs=4)]: Done  45 out of  45 | elapsed:  2.8min finished\n"
     ]
    },
    {
     "name": "stdout",
     "output_type": "stream",
     "text": [
      "done in 176.054s\n",
      "\n",
      "Best score: 0.895\n",
      "Best parameters set:\n",
      "\tclf__estimator__alpha: 0.1\n",
      "\ttfidf__max_df: 0.5\n",
      "\ttfidf__ngram_range: (1, 2)\n",
      "\ttfidf__smooth_idf: False\n",
      "F1 score train: 0.90 F1 score test: 0.79\n",
      "fuel: Performing parameter search ...\n",
      "pipeline: ['tfidf', 'clf']\n",
      "parameters:\n",
      "{'tfidf__max_df': (0.01, 0.05, 0.5, 0.75, 1.0), 'tfidf__ngram_range': ((1, 1), (1, 2)), 'tfidf__smooth_idf': (True, False), 'clf__estimator__alpha': (1e-05, 1e-06, 0.001, 0.1, 0.5, 0.8)}\n",
      "Fitting 3 folds for each of 15 candidates, totalling 45 fits\n"
     ]
    },
    {
     "name": "stderr",
     "output_type": "stream",
     "text": [
      "[Parallel(n_jobs=4)]: Done  45 out of  45 | elapsed:  2.6min finished\n"
     ]
    },
    {
     "name": "stdout",
     "output_type": "stream",
     "text": [
      "done in 167.011s\n",
      "\n",
      "Best score: 0.333\n",
      "Best parameters set:\n",
      "\tclf__estimator__alpha: 1e-06\n",
      "\ttfidf__max_df: 0.05\n",
      "\ttfidf__ngram_range: (1, 2)\n",
      "\ttfidf__smooth_idf: False\n",
      "F1 score train: 0.33 F1 score test: 0.40\n",
      "gas: Performing parameter search ...\n",
      "pipeline: ['tfidf', 'clf']\n",
      "parameters:\n",
      "{'tfidf__max_df': (0.01, 0.05, 0.5, 0.75, 1.0), 'tfidf__ngram_range': ((1, 1), (1, 2)), 'tfidf__smooth_idf': (True, False), 'clf__estimator__alpha': (1e-05, 1e-06, 0.001, 0.1, 0.5, 0.8)}\n",
      "Fitting 3 folds for each of 15 candidates, totalling 45 fits\n"
     ]
    },
    {
     "name": "stderr",
     "output_type": "stream",
     "text": [
      "[Parallel(n_jobs=4)]: Done  45 out of  45 | elapsed:  2.8min finished\n"
     ]
    },
    {
     "name": "stdout",
     "output_type": "stream",
     "text": [
      "done in 172.379s\n",
      "\n",
      "Best score: 0.403\n",
      "Best parameters set:\n",
      "\tclf__estimator__alpha: 0.001\n",
      "\ttfidf__max_df: 0.05\n",
      "\ttfidf__ngram_range: (1, 2)\n",
      "\ttfidf__smooth_idf: True\n",
      "F1 score train: 0.40 F1 score test: 0.84\n",
      "gnp: Performing parameter search ...\n",
      "pipeline: ['tfidf', 'clf']\n",
      "parameters:\n",
      "{'tfidf__max_df': (0.01, 0.05, 0.5, 0.75, 1.0), 'tfidf__ngram_range': ((1, 1), (1, 2)), 'tfidf__smooth_idf': (True, False), 'clf__estimator__alpha': (1e-05, 1e-06, 0.001, 0.1, 0.5, 0.8)}\n",
      "Fitting 3 folds for each of 15 candidates, totalling 45 fits\n"
     ]
    },
    {
     "name": "stderr",
     "output_type": "stream",
     "text": [
      "[Parallel(n_jobs=4)]: Done  45 out of  45 | elapsed:  2.4min finished\n"
     ]
    },
    {
     "name": "stdout",
     "output_type": "stream",
     "text": [
      "done in 151.804s\n",
      "\n",
      "Best score: 0.452\n",
      "Best parameters set:\n",
      "\tclf__estimator__alpha: 0.001\n",
      "\ttfidf__max_df: 0.75\n",
      "\ttfidf__ngram_range: (1, 2)\n",
      "\ttfidf__smooth_idf: True\n",
      "F1 score train: 0.45 F1 score test: 0.42\n",
      "gold: Performing parameter search ...\n",
      "pipeline: ['tfidf', 'clf']\n",
      "parameters:\n",
      "{'tfidf__max_df': (0.01, 0.05, 0.5, 0.75, 1.0), 'tfidf__ngram_range': ((1, 1), (1, 2)), 'tfidf__smooth_idf': (True, False), 'clf__estimator__alpha': (1e-05, 1e-06, 0.001, 0.1, 0.5, 0.8)}\n",
      "Fitting 3 folds for each of 15 candidates, totalling 45 fits\n"
     ]
    },
    {
     "name": "stderr",
     "output_type": "stream",
     "text": [
      "[Parallel(n_jobs=4)]: Done  45 out of  45 | elapsed:  1.9min finished\n"
     ]
    },
    {
     "name": "stdout",
     "output_type": "stream",
     "text": [
      "done in 118.804s\n",
      "\n",
      "Best score: 0.671\n",
      "Best parameters set:\n",
      "\tclf__estimator__alpha: 0.001\n",
      "\ttfidf__max_df: 0.5\n",
      "\ttfidf__ngram_range: (1, 2)\n",
      "\ttfidf__smooth_idf: True\n",
      "F1 score train: 0.67 F1 score test: 0.63\n",
      "grain: Performing parameter search ...\n",
      "pipeline: ['tfidf', 'clf']\n",
      "parameters:\n",
      "{'tfidf__max_df': (0.01, 0.05, 0.5, 0.75, 1.0), 'tfidf__ngram_range': ((1, 1), (1, 2)), 'tfidf__smooth_idf': (True, False), 'clf__estimator__alpha': (1e-05, 1e-06, 0.001, 0.1, 0.5, 0.8)}\n",
      "Fitting 3 folds for each of 15 candidates, totalling 45 fits\n"
     ]
    },
    {
     "name": "stderr",
     "output_type": "stream",
     "text": [
      "[Parallel(n_jobs=4)]: Done  45 out of  45 | elapsed:  1.8min finished\n"
     ]
    },
    {
     "name": "stdout",
     "output_type": "stream",
     "text": [
      "done in 114.141s\n",
      "\n",
      "Best score: 0.708\n",
      "Best parameters set:\n",
      "\tclf__estimator__alpha: 0.001\n",
      "\ttfidf__max_df: 0.01\n",
      "\ttfidf__ngram_range: (1, 2)\n",
      "\ttfidf__smooth_idf: True\n",
      "F1 score train: 0.71 F1 score test: 0.78\n",
      "heat: Performing parameter search ...\n",
      "pipeline: ['tfidf', 'clf']\n",
      "parameters:\n",
      "{'tfidf__max_df': (0.01, 0.05, 0.5, 0.75, 1.0), 'tfidf__ngram_range': ((1, 1), (1, 2)), 'tfidf__smooth_idf': (True, False), 'clf__estimator__alpha': (1e-05, 1e-06, 0.001, 0.1, 0.5, 0.8)}\n",
      "Fitting 3 folds for each of 15 candidates, totalling 45 fits\n"
     ]
    },
    {
     "name": "stderr",
     "output_type": "stream",
     "text": [
      "[Parallel(n_jobs=4)]: Done  45 out of  45 | elapsed:  2.0min finished\n"
     ]
    },
    {
     "name": "stdout",
     "output_type": "stream",
     "text": [
      "done in 129.244s\n",
      "\n",
      "Best score: 0.238\n",
      "Best parameters set:\n",
      "\tclf__estimator__alpha: 1e-06\n",
      "\ttfidf__max_df: 0.5\n",
      "\ttfidf__ngram_range: (1, 2)\n",
      "\ttfidf__smooth_idf: False\n",
      "F1 score train: 0.24 F1 score test: 0.60\n",
      "hog: Performing parameter search ...\n",
      "pipeline: ['tfidf', 'clf']\n",
      "parameters:\n",
      "{'tfidf__max_df': (0.01, 0.05, 0.5, 0.75, 1.0), 'tfidf__ngram_range': ((1, 1), (1, 2)), 'tfidf__smooth_idf': (True, False), 'clf__estimator__alpha': (1e-05, 1e-06, 0.001, 0.1, 0.5, 0.8)}\n",
      "Fitting 3 folds for each of 15 candidates, totalling 45 fits\n"
     ]
    },
    {
     "name": "stderr",
     "output_type": "stream",
     "text": [
      "[Parallel(n_jobs=4)]: Done  45 out of  45 | elapsed:  2.1min finished\n"
     ]
    },
    {
     "name": "stdout",
     "output_type": "stream",
     "text": [
      "done in 135.214s\n",
      "\n",
      "Best score: 0.398\n",
      "Best parameters set:\n",
      "\tclf__estimator__alpha: 0.1\n",
      "\ttfidf__max_df: 0.05\n",
      "\ttfidf__ngram_range: (1, 2)\n",
      "\ttfidf__smooth_idf: False\n",
      "F1 score train: 0.40 F1 score test: 0.27\n",
      "housing: Performing parameter search ...\n",
      "pipeline: ['tfidf', 'clf']\n",
      "parameters:\n",
      "{'tfidf__max_df': (0.01, 0.05, 0.5, 0.75, 1.0), 'tfidf__ngram_range': ((1, 1), (1, 2)), 'tfidf__smooth_idf': (True, False), 'clf__estimator__alpha': (1e-05, 1e-06, 0.001, 0.1, 0.5, 0.8)}\n",
      "Fitting 3 folds for each of 15 candidates, totalling 45 fits\n"
     ]
    },
    {
     "name": "stderr",
     "output_type": "stream",
     "text": [
      "[Parallel(n_jobs=4)]: Done  45 out of  45 | elapsed:  2.4min finished\n"
     ]
    },
    {
     "name": "stdout",
     "output_type": "stream",
     "text": [
      "done in 152.145s\n",
      "\n",
      "Best score: 0.842\n",
      "Best parameters set:\n",
      "\tclf__estimator__alpha: 0.001\n",
      "\ttfidf__max_df: 0.5\n",
      "\ttfidf__ngram_range: (1, 2)\n",
      "\ttfidf__smooth_idf: True\n",
      "F1 score train: 0.84 F1 score test: 0.55\n",
      "income: Performing parameter search ...\n",
      "pipeline: ['tfidf', 'clf']\n",
      "parameters:\n",
      "{'tfidf__max_df': (0.01, 0.05, 0.5, 0.75, 1.0), 'tfidf__ngram_range': ((1, 1), (1, 2)), 'tfidf__smooth_idf': (True, False), 'clf__estimator__alpha': (1e-05, 1e-06, 0.001, 0.1, 0.5, 0.8)}\n",
      "Fitting 3 folds for each of 15 candidates, totalling 45 fits\n"
     ]
    },
    {
     "name": "stderr",
     "output_type": "stream",
     "text": [
      "[Parallel(n_jobs=4)]: Done  45 out of  45 | elapsed:  1.9min finished\n"
     ]
    },
    {
     "name": "stdout",
     "output_type": "stream",
     "text": [
      "done in 121.335s\n",
      "\n",
      "Best score: 0.333\n",
      "Best parameters set:\n",
      "\tclf__estimator__alpha: 1e-05\n",
      "\ttfidf__max_df: 0.05\n",
      "\ttfidf__ngram_range: (1, 2)\n",
      "\ttfidf__smooth_idf: False\n",
      "F1 score train: 0.33 F1 score test: 0.67\n",
      "interest: Performing parameter search ...\n",
      "pipeline: ['tfidf', 'clf']\n",
      "parameters:\n",
      "{'tfidf__max_df': (0.01, 0.05, 0.5, 0.75, 1.0), 'tfidf__ngram_range': ((1, 1), (1, 2)), 'tfidf__smooth_idf': (True, False), 'clf__estimator__alpha': (1e-05, 1e-06, 0.001, 0.1, 0.5, 0.8)}\n",
      "Fitting 3 folds for each of 15 candidates, totalling 45 fits\n"
     ]
    },
    {
     "name": "stderr",
     "output_type": "stream",
     "text": [
      "[Parallel(n_jobs=4)]: Done  45 out of  45 | elapsed:  2.3min finished\n"
     ]
    },
    {
     "name": "stdout",
     "output_type": "stream",
     "text": [
      "done in 143.672s\n",
      "\n",
      "Best score: 0.600\n",
      "Best parameters set:\n",
      "\tclf__estimator__alpha: 0.001\n",
      "\ttfidf__max_df: 0.75\n",
      "\ttfidf__ngram_range: (1, 2)\n",
      "\ttfidf__smooth_idf: False\n",
      "F1 score train: 0.60 F1 score test: 0.60\n",
      "ipi: Performing parameter search ...\n",
      "pipeline: ['tfidf', 'clf']\n",
      "parameters:\n",
      "{'tfidf__max_df': (0.01, 0.05, 0.5, 0.75, 1.0), 'tfidf__ngram_range': ((1, 1), (1, 2)), 'tfidf__smooth_idf': (True, False), 'clf__estimator__alpha': (1e-05, 1e-06, 0.001, 0.1, 0.5, 0.8)}\n",
      "Fitting 3 folds for each of 15 candidates, totalling 45 fits\n"
     ]
    },
    {
     "name": "stderr",
     "output_type": "stream",
     "text": [
      "[Parallel(n_jobs=4)]: Done  45 out of  45 | elapsed:  2.2min finished\n"
     ]
    },
    {
     "name": "stdout",
     "output_type": "stream",
     "text": [
      "done in 140.585s\n",
      "\n",
      "Best score: 0.395\n",
      "Best parameters set:\n",
      "\tclf__estimator__alpha: 1e-05\n",
      "\ttfidf__max_df: 0.01\n",
      "\ttfidf__ngram_range: (1, 2)\n",
      "\ttfidf__smooth_idf: False\n",
      "F1 score train: 0.39 F1 score test: 0.63\n",
      "iron-steel: Performing parameter search ...\n",
      "pipeline: ['tfidf', 'clf']\n",
      "parameters:\n",
      "{'tfidf__max_df': (0.01, 0.05, 0.5, 0.75, 1.0), 'tfidf__ngram_range': ((1, 1), (1, 2)), 'tfidf__smooth_idf': (True, False), 'clf__estimator__alpha': (1e-05, 1e-06, 0.001, 0.1, 0.5, 0.8)}\n",
      "Fitting 3 folds for each of 15 candidates, totalling 45 fits\n"
     ]
    },
    {
     "name": "stderr",
     "output_type": "stream",
     "text": [
      "[Parallel(n_jobs=4)]: Done  45 out of  45 | elapsed:  2.2min finished\n"
     ]
    },
    {
     "name": "stdout",
     "output_type": "stream",
     "text": [
      "done in 138.878s\n",
      "\n",
      "Best score: 0.531\n",
      "Best parameters set:\n",
      "\tclf__estimator__alpha: 0.001\n",
      "\ttfidf__max_df: 0.5\n",
      "\ttfidf__ngram_range: (1, 2)\n",
      "\ttfidf__smooth_idf: False\n",
      "F1 score train: 0.53 F1 score test: 0.64\n",
      "jobs: Performing parameter search ...\n",
      "pipeline: ['tfidf', 'clf']\n",
      "parameters:\n",
      "{'tfidf__max_df': (0.01, 0.05, 0.5, 0.75, 1.0), 'tfidf__ngram_range': ((1, 1), (1, 2)), 'tfidf__smooth_idf': (True, False), 'clf__estimator__alpha': (1e-05, 1e-06, 0.001, 0.1, 0.5, 0.8)}\n",
      "Fitting 3 folds for each of 15 candidates, totalling 45 fits\n"
     ]
    },
    {
     "name": "stderr",
     "output_type": "stream",
     "text": [
      "[Parallel(n_jobs=4)]: Done  45 out of  45 | elapsed:  2.6min finished\n"
     ]
    },
    {
     "name": "stdout",
     "output_type": "stream",
     "text": [
      "done in 163.572s\n",
      "\n",
      "Best score: 0.630\n",
      "Best parameters set:\n",
      "\tclf__estimator__alpha: 1e-05\n",
      "\ttfidf__max_df: 1.0\n",
      "\ttfidf__ngram_range: (1, 2)\n",
      "\ttfidf__smooth_idf: True\n",
      "F1 score train: 0.63 F1 score test: 0.67\n",
      "l-cattle: Performing parameter search ...\n",
      "pipeline: ['tfidf', 'clf']\n",
      "parameters:\n",
      "{'tfidf__max_df': (0.01, 0.05, 0.5, 0.75, 1.0), 'tfidf__ngram_range': ((1, 1), (1, 2)), 'tfidf__smooth_idf': (True, False), 'clf__estimator__alpha': (1e-05, 1e-06, 0.001, 0.1, 0.5, 0.8)}\n",
      "Fitting 3 folds for each of 15 candidates, totalling 45 fits\n"
     ]
    },
    {
     "name": "stderr",
     "output_type": "stream",
     "text": [
      "[Parallel(n_jobs=4)]: Done  45 out of  45 | elapsed:  2.5min finished\n"
     ]
    },
    {
     "name": "stdout",
     "output_type": "stream",
     "text": [
      "done in 156.575s\n",
      "\n",
      "Best score: 0.133\n",
      "Best parameters set:\n",
      "\tclf__estimator__alpha: 0.001\n",
      "\ttfidf__max_df: 0.75\n",
      "\ttfidf__ngram_range: (1, 2)\n",
      "\ttfidf__smooth_idf: False\n",
      "F1 score train: 0.13 F1 score test: 0.00\n",
      "lead: Performing parameter search ...\n",
      "pipeline: ['tfidf', 'clf']\n",
      "parameters:\n",
      "{'tfidf__max_df': (0.01, 0.05, 0.5, 0.75, 1.0), 'tfidf__ngram_range': ((1, 1), (1, 2)), 'tfidf__smooth_idf': (True, False), 'clf__estimator__alpha': (1e-05, 1e-06, 0.001, 0.1, 0.5, 0.8)}\n",
      "Fitting 3 folds for each of 15 candidates, totalling 45 fits\n"
     ]
    },
    {
     "name": "stderr",
     "output_type": "stream",
     "text": [
      "[Parallel(n_jobs=4)]: Done  45 out of  45 | elapsed:  2.2min finished\n"
     ]
    },
    {
     "name": "stdout",
     "output_type": "stream",
     "text": [
      "done in 135.256s\n",
      "\n",
      "Best score: 0.174\n",
      "Best parameters set:\n",
      "\tclf__estimator__alpha: 0.001\n",
      "\ttfidf__max_df: 0.5\n",
      "\ttfidf__ngram_range: (1, 1)\n",
      "\ttfidf__smooth_idf: True\n",
      "F1 score train: 0.17 F1 score test: 0.20\n",
      "lei: Performing parameter search ...\n",
      "pipeline: ['tfidf', 'clf']\n",
      "parameters:\n",
      "{'tfidf__max_df': (0.01, 0.05, 0.5, 0.75, 1.0), 'tfidf__ngram_range': ((1, 1), (1, 2)), 'tfidf__smooth_idf': (True, False), 'clf__estimator__alpha': (1e-05, 1e-06, 0.001, 0.1, 0.5, 0.8)}\n",
      "Fitting 3 folds for each of 15 candidates, totalling 45 fits\n"
     ]
    },
    {
     "name": "stderr",
     "output_type": "stream",
     "text": [
      "[Parallel(n_jobs=4)]: Done  45 out of  45 | elapsed:  2.4min finished\n"
     ]
    },
    {
     "name": "stdout",
     "output_type": "stream",
     "text": [
      "done in 153.383s\n",
      "\n",
      "Best score: 0.606\n",
      "Best parameters set:\n",
      "\tclf__estimator__alpha: 1e-06\n",
      "\ttfidf__max_df: 0.01\n",
      "\ttfidf__ngram_range: (1, 2)\n",
      "\ttfidf__smooth_idf: True\n",
      "F1 score train: 0.61 F1 score test: 1.00\n",
      "livestock: Performing parameter search ...\n",
      "pipeline: ['tfidf', 'clf']\n",
      "parameters:\n",
      "{'tfidf__max_df': (0.01, 0.05, 0.5, 0.75, 1.0), 'tfidf__ngram_range': ((1, 1), (1, 2)), 'tfidf__smooth_idf': (True, False), 'clf__estimator__alpha': (1e-05, 1e-06, 0.001, 0.1, 0.5, 0.8)}\n",
      "Fitting 3 folds for each of 15 candidates, totalling 45 fits\n"
     ]
    },
    {
     "name": "stderr",
     "output_type": "stream",
     "text": [
      "[Parallel(n_jobs=4)]: Done  45 out of  45 | elapsed:  2.4min finished\n"
     ]
    },
    {
     "name": "stdout",
     "output_type": "stream",
     "text": [
      "done in 153.443s\n",
      "\n",
      "Best score: 0.440\n",
      "Best parameters set:\n",
      "\tclf__estimator__alpha: 0.001\n",
      "\ttfidf__max_df: 0.75\n",
      "\ttfidf__ngram_range: (1, 2)\n",
      "\ttfidf__smooth_idf: True\n",
      "F1 score train: 0.44 F1 score test: 0.39\n",
      "lumber: Performing parameter search ...\n",
      "pipeline: ['tfidf', 'clf']\n",
      "parameters:\n",
      "{'tfidf__max_df': (0.01, 0.05, 0.5, 0.75, 1.0), 'tfidf__ngram_range': ((1, 1), (1, 2)), 'tfidf__smooth_idf': (True, False), 'clf__estimator__alpha': (1e-05, 1e-06, 0.001, 0.1, 0.5, 0.8)}\n",
      "Fitting 3 folds for each of 15 candidates, totalling 45 fits\n"
     ]
    },
    {
     "name": "stderr",
     "output_type": "stream",
     "text": [
      "[Parallel(n_jobs=4)]: Done  45 out of  45 | elapsed:  1.9min finished\n"
     ]
    },
    {
     "name": "stdout",
     "output_type": "stream",
     "text": [
      "done in 120.623s\n",
      "\n",
      "Best score: 0.167\n",
      "Best parameters set:\n",
      "\tclf__estimator__alpha: 1e-05\n",
      "\ttfidf__max_df: 0.5\n",
      "\ttfidf__ngram_range: (1, 2)\n",
      "\ttfidf__smooth_idf: True\n",
      "F1 score train: 0.17 F1 score test: 0.00\n",
      "meal-feed: Performing parameter search ...\n",
      "pipeline: ['tfidf', 'clf']\n",
      "parameters:\n",
      "{'tfidf__max_df': (0.01, 0.05, 0.5, 0.75, 1.0), 'tfidf__ngram_range': ((1, 1), (1, 2)), 'tfidf__smooth_idf': (True, False), 'clf__estimator__alpha': (1e-05, 1e-06, 0.001, 0.1, 0.5, 0.8)}\n",
      "Fitting 3 folds for each of 15 candidates, totalling 45 fits\n"
     ]
    },
    {
     "name": "stderr",
     "output_type": "stream",
     "text": [
      "[Parallel(n_jobs=4)]: Done  45 out of  45 | elapsed:  3.2min finished\n"
     ]
    },
    {
     "name": "stdout",
     "output_type": "stream",
     "text": [
      "done in 202.445s\n",
      "\n",
      "Best score: 0.265\n",
      "Best parameters set:\n",
      "\tclf__estimator__alpha: 0.001\n",
      "\ttfidf__max_df: 0.75\n",
      "\ttfidf__ngram_range: (1, 2)\n",
      "\ttfidf__smooth_idf: True\n",
      "F1 score train: 0.26 F1 score test: 0.49\n",
      "money-fx: Performing parameter search ...\n",
      "pipeline: ['tfidf', 'clf']\n",
      "parameters:\n",
      "{'tfidf__max_df': (0.01, 0.05, 0.5, 0.75, 1.0), 'tfidf__ngram_range': ((1, 1), (1, 2)), 'tfidf__smooth_idf': (True, False), 'clf__estimator__alpha': (1e-05, 1e-06, 0.001, 0.1, 0.5, 0.8)}\n",
      "Fitting 3 folds for each of 15 candidates, totalling 45 fits\n"
     ]
    },
    {
     "name": "stderr",
     "output_type": "stream",
     "text": [
      "[Parallel(n_jobs=4)]: Done  45 out of  45 | elapsed:  2.9min finished\n"
     ]
    },
    {
     "name": "stdout",
     "output_type": "stream",
     "text": [
      "done in 185.211s\n",
      "\n",
      "Best score: 0.693\n",
      "Best parameters set:\n",
      "\tclf__estimator__alpha: 0.001\n",
      "\ttfidf__max_df: 0.05\n",
      "\ttfidf__ngram_range: (1, 2)\n",
      "\ttfidf__smooth_idf: False\n",
      "F1 score train: 0.69 F1 score test: 0.65\n",
      "money-supply: Performing parameter search ...\n",
      "pipeline: ['tfidf', 'clf']\n",
      "parameters:\n",
      "{'tfidf__max_df': (0.01, 0.05, 0.5, 0.75, 1.0), 'tfidf__ngram_range': ((1, 1), (1, 2)), 'tfidf__smooth_idf': (True, False), 'clf__estimator__alpha': (1e-05, 1e-06, 0.001, 0.1, 0.5, 0.8)}\n",
      "Fitting 3 folds for each of 15 candidates, totalling 45 fits\n"
     ]
    },
    {
     "name": "stderr",
     "output_type": "stream",
     "text": [
      "[Parallel(n_jobs=4)]: Done  45 out of  45 | elapsed:  2.6min finished\n"
     ]
    },
    {
     "name": "stdout",
     "output_type": "stream",
     "text": [
      "done in 160.603s\n",
      "\n",
      "Best score: 0.763\n",
      "Best parameters set:\n",
      "\tclf__estimator__alpha: 1e-05\n",
      "\ttfidf__max_df: 1.0\n",
      "\ttfidf__ngram_range: (1, 2)\n",
      "\ttfidf__smooth_idf: True\n",
      "F1 score train: 0.76 F1 score test: 0.68\n",
      "nat-gas: Performing parameter search ...\n",
      "pipeline: ['tfidf', 'clf']\n",
      "parameters:\n",
      "{'tfidf__max_df': (0.01, 0.05, 0.5, 0.75, 1.0), 'tfidf__ngram_range': ((1, 1), (1, 2)), 'tfidf__smooth_idf': (True, False), 'clf__estimator__alpha': (1e-05, 1e-06, 0.001, 0.1, 0.5, 0.8)}\n",
      "Fitting 3 folds for each of 15 candidates, totalling 45 fits\n"
     ]
    },
    {
     "name": "stderr",
     "output_type": "stream",
     "text": [
      "[Parallel(n_jobs=4)]: Done  45 out of  45 | elapsed:  2.8min finished\n"
     ]
    },
    {
     "name": "stdout",
     "output_type": "stream",
     "text": [
      "done in 172.846s\n",
      "\n",
      "Best score: 0.464\n",
      "Best parameters set:\n",
      "\tclf__estimator__alpha: 0.001\n",
      "\ttfidf__max_df: 0.75\n",
      "\ttfidf__ngram_range: (1, 2)\n",
      "\ttfidf__smooth_idf: False\n",
      "F1 score train: 0.46 F1 score test: 0.47\n",
      "nickel: Performing parameter search ...\n",
      "pipeline: ['tfidf', 'clf']\n",
      "parameters:\n",
      "{'tfidf__max_df': (0.01, 0.05, 0.5, 0.75, 1.0), 'tfidf__ngram_range': ((1, 1), (1, 2)), 'tfidf__smooth_idf': (True, False), 'clf__estimator__alpha': (1e-05, 1e-06, 0.001, 0.1, 0.5, 0.8)}\n",
      "Fitting 3 folds for each of 15 candidates, totalling 45 fits\n"
     ]
    },
    {
     "name": "stderr",
     "output_type": "stream",
     "text": [
      "[Parallel(n_jobs=4)]: Done  45 out of  45 | elapsed:  2.8min finished\n"
     ]
    },
    {
     "name": "stdout",
     "output_type": "stream",
     "text": [
      "done in 174.900s\n",
      "\n",
      "Best score: 0.042\n",
      "Best parameters set:\n",
      "\tclf__estimator__alpha: 0.001\n",
      "\ttfidf__max_df: 0.01\n",
      "\ttfidf__ngram_range: (1, 2)\n",
      "\ttfidf__smooth_idf: True\n",
      "F1 score train: 0.04 F1 score test: 0.00\n",
      "oat: Performing parameter search ...\n",
      "pipeline: ['tfidf', 'clf']\n",
      "parameters:\n",
      "{'tfidf__max_df': (0.01, 0.05, 0.5, 0.75, 1.0), 'tfidf__ngram_range': ((1, 1), (1, 2)), 'tfidf__smooth_idf': (True, False), 'clf__estimator__alpha': (1e-05, 1e-06, 0.001, 0.1, 0.5, 0.8)}\n",
      "Fitting 3 folds for each of 15 candidates, totalling 45 fits\n"
     ]
    },
    {
     "name": "stderr",
     "output_type": "stream",
     "text": [
      "[Parallel(n_jobs=4)]: Done  45 out of  45 | elapsed:  2.9min finished\n"
     ]
    },
    {
     "name": "stdout",
     "output_type": "stream",
     "text": [
      "done in 179.837s\n",
      "\n",
      "Best score: 0.078\n",
      "Best parameters set:\n",
      "\tclf__estimator__alpha: 0.001\n",
      "\ttfidf__max_df: 0.01\n",
      "\ttfidf__ngram_range: (1, 2)\n",
      "\ttfidf__smooth_idf: True\n",
      "F1 score train: 0.08 F1 score test: 0.14\n",
      "oilseed: Performing parameter search ...\n",
      "pipeline: ['tfidf', 'clf']\n",
      "parameters:\n",
      "{'tfidf__max_df': (0.01, 0.05, 0.5, 0.75, 1.0), 'tfidf__ngram_range': ((1, 1), (1, 2)), 'tfidf__smooth_idf': (True, False), 'clf__estimator__alpha': (1e-05, 1e-06, 0.001, 0.1, 0.5, 0.8)}\n",
      "Fitting 3 folds for each of 15 candidates, totalling 45 fits\n"
     ]
    },
    {
     "name": "stderr",
     "output_type": "stream",
     "text": [
      "[Parallel(n_jobs=4)]: Done  45 out of  45 | elapsed:  2.5min finished\n"
     ]
    },
    {
     "name": "stdout",
     "output_type": "stream",
     "text": [
      "done in 154.924s\n",
      "\n",
      "Best score: 0.452\n",
      "Best parameters set:\n",
      "\tclf__estimator__alpha: 1e-06\n",
      "\ttfidf__max_df: 0.05\n",
      "\ttfidf__ngram_range: (1, 2)\n",
      "\ttfidf__smooth_idf: True\n",
      "F1 score train: 0.45 F1 score test: 0.52\n",
      "orange: Performing parameter search ...\n",
      "pipeline: ['tfidf', 'clf']\n",
      "parameters:\n",
      "{'tfidf__max_df': (0.01, 0.05, 0.5, 0.75, 1.0), 'tfidf__ngram_range': ((1, 1), (1, 2)), 'tfidf__smooth_idf': (True, False), 'clf__estimator__alpha': (1e-05, 1e-06, 0.001, 0.1, 0.5, 0.8)}\n",
      "Fitting 3 folds for each of 15 candidates, totalling 45 fits\n"
     ]
    },
    {
     "name": "stderr",
     "output_type": "stream",
     "text": [
      "[Parallel(n_jobs=4)]: Done  45 out of  45 | elapsed:  1.9min finished\n"
     ]
    },
    {
     "name": "stdout",
     "output_type": "stream",
     "text": [
      "done in 123.618s\n",
      "\n",
      "Best score: 0.552\n",
      "Best parameters set:\n",
      "\tclf__estimator__alpha: 0.001\n",
      "\ttfidf__max_df: 0.5\n",
      "\ttfidf__ngram_range: (1, 2)\n",
      "\ttfidf__smooth_idf: True\n",
      "F1 score train: 0.55 F1 score test: 0.84\n",
      "palm-oil: Performing parameter search ...\n",
      "pipeline: ['tfidf', 'clf']\n",
      "parameters:\n",
      "{'tfidf__max_df': (0.01, 0.05, 0.5, 0.75, 1.0), 'tfidf__ngram_range': ((1, 1), (1, 2)), 'tfidf__smooth_idf': (True, False), 'clf__estimator__alpha': (1e-05, 1e-06, 0.001, 0.1, 0.5, 0.8)}\n",
      "Fitting 3 folds for each of 15 candidates, totalling 45 fits\n"
     ]
    },
    {
     "name": "stderr",
     "output_type": "stream",
     "text": [
      "[Parallel(n_jobs=4)]: Done  45 out of  45 | elapsed:  2.2min finished\n"
     ]
    },
    {
     "name": "stdout",
     "output_type": "stream",
     "text": [
      "done in 140.382s\n",
      "\n",
      "Best score: 0.527\n",
      "Best parameters set:\n",
      "\tclf__estimator__alpha: 1e-05\n",
      "\ttfidf__max_df: 0.5\n",
      "\ttfidf__ngram_range: (1, 2)\n",
      "\ttfidf__smooth_idf: True\n",
      "F1 score train: 0.53 F1 score test: 0.47\n",
      "pet-chem: Performing parameter search ...\n",
      "pipeline: ['tfidf', 'clf']\n",
      "parameters:\n",
      "{'tfidf__max_df': (0.01, 0.05, 0.5, 0.75, 1.0), 'tfidf__ngram_range': ((1, 1), (1, 2)), 'tfidf__smooth_idf': (True, False), 'clf__estimator__alpha': (1e-05, 1e-06, 0.001, 0.1, 0.5, 0.8)}\n",
      "Fitting 3 folds for each of 15 candidates, totalling 45 fits\n"
     ]
    },
    {
     "name": "stderr",
     "output_type": "stream",
     "text": [
      "[Parallel(n_jobs=4)]: Done  45 out of  45 | elapsed:  2.4min finished\n"
     ]
    },
    {
     "name": "stdout",
     "output_type": "stream",
     "text": [
      "done in 145.510s\n",
      "\n",
      "Best score: 0.181\n",
      "Best parameters set:\n",
      "\tclf__estimator__alpha: 0.001\n",
      "\ttfidf__max_df: 0.5\n",
      "\ttfidf__ngram_range: (1, 1)\n",
      "\ttfidf__smooth_idf: True\n",
      "F1 score train: 0.18 F1 score test: 0.21\n",
      "rapeseed: Performing parameter search ...\n",
      "pipeline: ['tfidf', 'clf']\n",
      "parameters:\n",
      "{'tfidf__max_df': (0.01, 0.05, 0.5, 0.75, 1.0), 'tfidf__ngram_range': ((1, 1), (1, 2)), 'tfidf__smooth_idf': (True, False), 'clf__estimator__alpha': (1e-05, 1e-06, 0.001, 0.1, 0.5, 0.8)}\n",
      "Fitting 3 folds for each of 15 candidates, totalling 45 fits\n"
     ]
    },
    {
     "name": "stderr",
     "output_type": "stream",
     "text": [
      "[Parallel(n_jobs=4)]: Done  45 out of  45 | elapsed:  2.8min finished\n"
     ]
    },
    {
     "name": "stdout",
     "output_type": "stream",
     "text": [
      "done in 174.173s\n",
      "\n",
      "Best score: 0.598\n",
      "Best parameters set:\n",
      "\tclf__estimator__alpha: 1e-06\n",
      "\ttfidf__max_df: 0.75\n",
      "\ttfidf__ngram_range: (1, 2)\n",
      "\ttfidf__smooth_idf: True\n",
      "F1 score train: 0.60 F1 score test: 0.62\n",
      "reserves: Performing parameter search ...\n",
      "pipeline: ['tfidf', 'clf']\n",
      "parameters:\n",
      "{'tfidf__max_df': (0.01, 0.05, 0.5, 0.75, 1.0), 'tfidf__ngram_range': ((1, 1), (1, 2)), 'tfidf__smooth_idf': (True, False), 'clf__estimator__alpha': (1e-05, 1e-06, 0.001, 0.1, 0.5, 0.8)}\n",
      "Fitting 3 folds for each of 15 candidates, totalling 45 fits\n"
     ]
    },
    {
     "name": "stderr",
     "output_type": "stream",
     "text": [
      "[Parallel(n_jobs=4)]: Done  45 out of  45 | elapsed:  2.6min finished\n"
     ]
    },
    {
     "name": "stdout",
     "output_type": "stream",
     "text": [
      "done in 165.980s\n",
      "\n",
      "Best score: 0.553\n",
      "Best parameters set:\n",
      "\tclf__estimator__alpha: 1e-05\n",
      "\ttfidf__max_df: 1.0\n",
      "\ttfidf__ngram_range: (1, 2)\n",
      "\ttfidf__smooth_idf: True\n",
      "F1 score train: 0.55 F1 score test: 0.76\n",
      "retail: Performing parameter search ...\n",
      "pipeline: ['tfidf', 'clf']\n",
      "parameters:\n",
      "{'tfidf__max_df': (0.01, 0.05, 0.5, 0.75, 1.0), 'tfidf__ngram_range': ((1, 1), (1, 2)), 'tfidf__smooth_idf': (True, False), 'clf__estimator__alpha': (1e-05, 1e-06, 0.001, 0.1, 0.5, 0.8)}\n",
      "Fitting 3 folds for each of 15 candidates, totalling 45 fits\n"
     ]
    },
    {
     "name": "stderr",
     "output_type": "stream",
     "text": [
      "[Parallel(n_jobs=4)]: Done  45 out of  45 | elapsed:  2.6min finished\n"
     ]
    },
    {
     "name": "stdout",
     "output_type": "stream",
     "text": [
      "done in 163.069s\n",
      "\n",
      "Best score: 0.315\n",
      "Best parameters set:\n",
      "\tclf__estimator__alpha: 0.001\n",
      "\ttfidf__max_df: 0.05\n",
      "\ttfidf__ngram_range: (1, 2)\n",
      "\ttfidf__smooth_idf: True\n",
      "F1 score train: 0.32 F1 score test: 0.14\n",
      "rice: Performing parameter search ...\n",
      "pipeline: ['tfidf', 'clf']\n",
      "parameters:\n",
      "{'tfidf__max_df': (0.01, 0.05, 0.5, 0.75, 1.0), 'tfidf__ngram_range': ((1, 1), (1, 2)), 'tfidf__smooth_idf': (True, False), 'clf__estimator__alpha': (1e-05, 1e-06, 0.001, 0.1, 0.5, 0.8)}\n",
      "Fitting 3 folds for each of 15 candidates, totalling 45 fits\n"
     ]
    },
    {
     "name": "stderr",
     "output_type": "stream",
     "text": [
      "[Parallel(n_jobs=4)]: Done  45 out of  45 | elapsed:  2.9min finished\n"
     ]
    },
    {
     "name": "stdout",
     "output_type": "stream",
     "text": [
      "done in 178.521s\n",
      "\n",
      "Best score: 0.328\n",
      "Best parameters set:\n",
      "\tclf__estimator__alpha: 0.001\n",
      "\ttfidf__max_df: 0.5\n",
      "\ttfidf__ngram_range: (1, 2)\n",
      "\ttfidf__smooth_idf: False\n",
      "F1 score train: 0.33 F1 score test: 0.38\n",
      "rubber: Performing parameter search ...\n",
      "pipeline: ['tfidf', 'clf']\n",
      "parameters:\n",
      "{'tfidf__max_df': (0.01, 0.05, 0.5, 0.75, 1.0), 'tfidf__ngram_range': ((1, 1), (1, 2)), 'tfidf__smooth_idf': (True, False), 'clf__estimator__alpha': (1e-05, 1e-06, 0.001, 0.1, 0.5, 0.8)}\n",
      "Fitting 3 folds for each of 15 candidates, totalling 45 fits\n"
     ]
    },
    {
     "name": "stderr",
     "output_type": "stream",
     "text": [
      "[Parallel(n_jobs=4)]: Done  45 out of  45 | elapsed:  2.3min finished\n"
     ]
    },
    {
     "name": "stdout",
     "output_type": "stream",
     "text": [
      "done in 145.488s\n",
      "\n",
      "Best score: 0.535\n",
      "Best parameters set:\n",
      "\tclf__estimator__alpha: 1e-06\n",
      "\ttfidf__max_df: 0.75\n",
      "\ttfidf__ngram_range: (1, 2)\n",
      "\ttfidf__smooth_idf: True\n",
      "F1 score train: 0.54 F1 score test: 0.29\n",
      "ship: Performing parameter search ...\n",
      "pipeline: ['tfidf', 'clf']\n",
      "parameters:\n",
      "{'tfidf__max_df': (0.01, 0.05, 0.5, 0.75, 1.0), 'tfidf__ngram_range': ((1, 1), (1, 2)), 'tfidf__smooth_idf': (True, False), 'clf__estimator__alpha': (1e-05, 1e-06, 0.001, 0.1, 0.5, 0.8)}\n",
      "Fitting 3 folds for each of 15 candidates, totalling 45 fits\n"
     ]
    },
    {
     "name": "stderr",
     "output_type": "stream",
     "text": [
      "[Parallel(n_jobs=4)]: Done  45 out of  45 | elapsed:  2.5min finished\n"
     ]
    },
    {
     "name": "stdout",
     "output_type": "stream",
     "text": [
      "done in 155.349s\n",
      "\n",
      "Best score: 0.566\n",
      "Best parameters set:\n",
      "\tclf__estimator__alpha: 0.1\n",
      "\ttfidf__max_df: 0.01\n",
      "\ttfidf__ngram_range: (1, 2)\n",
      "\ttfidf__smooth_idf: False\n",
      "F1 score train: 0.57 F1 score test: 0.43\n",
      "silver: Performing parameter search ...\n",
      "pipeline: ['tfidf', 'clf']\n",
      "parameters:\n",
      "{'tfidf__max_df': (0.01, 0.05, 0.5, 0.75, 1.0), 'tfidf__ngram_range': ((1, 1), (1, 2)), 'tfidf__smooth_idf': (True, False), 'clf__estimator__alpha': (1e-05, 1e-06, 0.001, 0.1, 0.5, 0.8)}\n",
      "Fitting 3 folds for each of 15 candidates, totalling 45 fits\n"
     ]
    },
    {
     "name": "stderr",
     "output_type": "stream",
     "text": [
      "[Parallel(n_jobs=4)]: Done  45 out of  45 | elapsed:  1.9min finished\n"
     ]
    },
    {
     "name": "stdout",
     "output_type": "stream",
     "text": [
      "done in 116.514s\n",
      "\n",
      "Best score: 0.207\n",
      "Best parameters set:\n",
      "\tclf__estimator__alpha: 0.001\n",
      "\ttfidf__max_df: 0.5\n",
      "\ttfidf__ngram_range: (1, 1)\n",
      "\ttfidf__smooth_idf: True\n",
      "F1 score train: 0.21 F1 score test: 0.21\n",
      "sorghum: Performing parameter search ...\n",
      "pipeline: ['tfidf', 'clf']\n",
      "parameters:\n",
      "{'tfidf__max_df': (0.01, 0.05, 0.5, 0.75, 1.0), 'tfidf__ngram_range': ((1, 1), (1, 2)), 'tfidf__smooth_idf': (True, False), 'clf__estimator__alpha': (1e-05, 1e-06, 0.001, 0.1, 0.5, 0.8)}\n",
      "Fitting 3 folds for each of 15 candidates, totalling 45 fits\n"
     ]
    },
    {
     "name": "stderr",
     "output_type": "stream",
     "text": [
      "[Parallel(n_jobs=4)]: Done  45 out of  45 | elapsed:  2.2min finished\n"
     ]
    },
    {
     "name": "stdout",
     "output_type": "stream",
     "text": [
      "done in 136.744s\n",
      "\n",
      "Best score: 0.272\n",
      "Best parameters set:\n",
      "\tclf__estimator__alpha: 1e-05\n",
      "\ttfidf__max_df: 0.5\n",
      "\ttfidf__ngram_range: (1, 2)\n",
      "\ttfidf__smooth_idf: False\n",
      "F1 score train: 0.27 F1 score test: 0.50\n",
      "soy-meal: Performing parameter search ...\n",
      "pipeline: ['tfidf', 'clf']\n",
      "parameters:\n",
      "{'tfidf__max_df': (0.01, 0.05, 0.5, 0.75, 1.0), 'tfidf__ngram_range': ((1, 1), (1, 2)), 'tfidf__smooth_idf': (True, False), 'clf__estimator__alpha': (1e-05, 1e-06, 0.001, 0.1, 0.5, 0.8)}\n",
      "Fitting 3 folds for each of 15 candidates, totalling 45 fits\n"
     ]
    },
    {
     "name": "stderr",
     "output_type": "stream",
     "text": [
      "[Parallel(n_jobs=4)]: Done  45 out of  45 | elapsed:  2.2min finished\n"
     ]
    },
    {
     "name": "stdout",
     "output_type": "stream",
     "text": [
      "done in 136.544s\n",
      "\n",
      "Best score: 0.096\n",
      "Best parameters set:\n",
      "\tclf__estimator__alpha: 0.001\n",
      "\ttfidf__max_df: 0.05\n",
      "\ttfidf__ngram_range: (1, 1)\n",
      "\ttfidf__smooth_idf: True\n",
      "F1 score train: 0.10 F1 score test: 0.30\n",
      "soy-oil: Performing parameter search ...\n",
      "pipeline: ['tfidf', 'clf']\n",
      "parameters:\n",
      "{'tfidf__max_df': (0.01, 0.05, 0.5, 0.75, 1.0), 'tfidf__ngram_range': ((1, 1), (1, 2)), 'tfidf__smooth_idf': (True, False), 'clf__estimator__alpha': (1e-05, 1e-06, 0.001, 0.1, 0.5, 0.8)}\n",
      "Fitting 3 folds for each of 15 candidates, totalling 45 fits\n"
     ]
    },
    {
     "name": "stderr",
     "output_type": "stream",
     "text": [
      "[Parallel(n_jobs=4)]: Done  45 out of  45 | elapsed:  2.4min finished\n"
     ]
    },
    {
     "name": "stdout",
     "output_type": "stream",
     "text": [
      "done in 149.321s\n",
      "\n",
      "Best score: 0.135\n",
      "Best parameters set:\n",
      "\tclf__estimator__alpha: 1e-06\n",
      "\ttfidf__max_df: 1.0\n",
      "\ttfidf__ngram_range: (1, 2)\n",
      "\ttfidf__smooth_idf: False\n",
      "F1 score train: 0.13 F1 score test: 0.24\n",
      "soybean: Performing parameter search ...\n",
      "pipeline: ['tfidf', 'clf']\n",
      "parameters:\n",
      "{'tfidf__max_df': (0.01, 0.05, 0.5, 0.75, 1.0), 'tfidf__ngram_range': ((1, 1), (1, 2)), 'tfidf__smooth_idf': (True, False), 'clf__estimator__alpha': (1e-05, 1e-06, 0.001, 0.1, 0.5, 0.8)}\n",
      "Fitting 3 folds for each of 15 candidates, totalling 45 fits\n"
     ]
    },
    {
     "name": "stderr",
     "output_type": "stream",
     "text": [
      "[Parallel(n_jobs=4)]: Done  45 out of  45 | elapsed:  2.4min finished\n"
     ]
    },
    {
     "name": "stdout",
     "output_type": "stream",
     "text": [
      "done in 154.291s\n",
      "\n",
      "Best score: 0.364\n",
      "Best parameters set:\n",
      "\tclf__estimator__alpha: 1e-06\n",
      "\ttfidf__max_df: 1.0\n",
      "\ttfidf__ngram_range: (1, 2)\n",
      "\ttfidf__smooth_idf: True\n",
      "F1 score train: 0.36 F1 score test: 0.45\n",
      "stg: Performing parameter search ...\n",
      "pipeline: ['tfidf', 'clf']\n",
      "parameters:\n",
      "{'tfidf__max_df': (0.01, 0.05, 0.5, 0.75, 1.0), 'tfidf__ngram_range': ((1, 1), (1, 2)), 'tfidf__smooth_idf': (True, False), 'clf__estimator__alpha': (1e-05, 1e-06, 0.001, 0.1, 0.5, 0.8)}\n",
      "Fitting 3 folds for each of 15 candidates, totalling 45 fits\n"
     ]
    },
    {
     "name": "stderr",
     "output_type": "stream",
     "text": [
      "[Parallel(n_jobs=4)]: Done  45 out of  45 | elapsed:  2.5min finished\n"
     ]
    },
    {
     "name": "stdout",
     "output_type": "stream",
     "text": [
      "done in 158.695s\n",
      "\n",
      "Best score: 0.423\n",
      "Best parameters set:\n",
      "\tclf__estimator__alpha: 0.001\n",
      "\ttfidf__max_df: 0.75\n",
      "\ttfidf__ngram_range: (1, 2)\n",
      "\ttfidf__smooth_idf: True\n",
      "F1 score train: 0.42 F1 score test: 0.00\n",
      "strategic-metal: Performing parameter search ...\n",
      "pipeline: ['tfidf', 'clf']\n",
      "parameters:\n",
      "{'tfidf__max_df': (0.01, 0.05, 0.5, 0.75, 1.0), 'tfidf__ngram_range': ((1, 1), (1, 2)), 'tfidf__smooth_idf': (True, False), 'clf__estimator__alpha': (1e-05, 1e-06, 0.001, 0.1, 0.5, 0.8)}\n",
      "Fitting 3 folds for each of 15 candidates, totalling 45 fits\n"
     ]
    },
    {
     "name": "stderr",
     "output_type": "stream",
     "text": [
      "[Parallel(n_jobs=4)]: Done  45 out of  45 | elapsed:  2.3min finished\n"
     ]
    },
    {
     "name": "stdout",
     "output_type": "stream",
     "text": [
      "done in 141.869s\n",
      "\n",
      "Best score: 0.393\n",
      "Best parameters set:\n",
      "\tclf__estimator__alpha: 1e-06\n",
      "\ttfidf__max_df: 0.75\n",
      "\ttfidf__ngram_range: (1, 2)\n",
      "\ttfidf__smooth_idf: False\n",
      "F1 score train: 0.39 F1 score test: 0.00\n",
      "sugar: Performing parameter search ...\n",
      "pipeline: ['tfidf', 'clf']\n",
      "parameters:\n",
      "{'tfidf__max_df': (0.01, 0.05, 0.5, 0.75, 1.0), 'tfidf__ngram_range': ((1, 1), (1, 2)), 'tfidf__smooth_idf': (True, False), 'clf__estimator__alpha': (1e-05, 1e-06, 0.001, 0.1, 0.5, 0.8)}\n",
      "Fitting 3 folds for each of 15 candidates, totalling 45 fits\n"
     ]
    },
    {
     "name": "stderr",
     "output_type": "stream",
     "text": [
      "[Parallel(n_jobs=4)]: Done  45 out of  45 | elapsed:  2.4min finished\n"
     ]
    },
    {
     "name": "stdout",
     "output_type": "stream",
     "text": [
      "done in 152.610s\n",
      "\n",
      "Best score: 0.716\n",
      "Best parameters set:\n",
      "\tclf__estimator__alpha: 1e-05\n",
      "\ttfidf__max_df: 1.0\n",
      "\ttfidf__ngram_range: (1, 2)\n",
      "\ttfidf__smooth_idf: True\n",
      "F1 score train: 0.72 F1 score test: 0.68\n",
      "sunseed: Performing parameter search ...\n",
      "pipeline: ['tfidf', 'clf']\n",
      "parameters:\n",
      "{'tfidf__max_df': (0.01, 0.05, 0.5, 0.75, 1.0), 'tfidf__ngram_range': ((1, 1), (1, 2)), 'tfidf__smooth_idf': (True, False), 'clf__estimator__alpha': (1e-05, 1e-06, 0.001, 0.1, 0.5, 0.8)}\n",
      "Fitting 3 folds for each of 15 candidates, totalling 45 fits\n"
     ]
    },
    {
     "name": "stderr",
     "output_type": "stream",
     "text": [
      "[Parallel(n_jobs=4)]: Done  45 out of  45 | elapsed:  2.6min finished\n"
     ]
    },
    {
     "name": "stdout",
     "output_type": "stream",
     "text": [
      "done in 160.520s\n",
      "\n",
      "Best score: 0.491\n",
      "Best parameters set:\n",
      "\tclf__estimator__alpha: 1e-06\n",
      "\ttfidf__max_df: 0.05\n",
      "\ttfidf__ngram_range: (1, 1)\n",
      "\ttfidf__smooth_idf: True\n",
      "F1 score train: 0.49 F1 score test: 0.50\n",
      "tea: Performing parameter search ...\n",
      "pipeline: ['tfidf', 'clf']\n",
      "parameters:\n",
      "{'tfidf__max_df': (0.01, 0.05, 0.5, 0.75, 1.0), 'tfidf__ngram_range': ((1, 1), (1, 2)), 'tfidf__smooth_idf': (True, False), 'clf__estimator__alpha': (1e-05, 1e-06, 0.001, 0.1, 0.5, 0.8)}\n",
      "Fitting 3 folds for each of 15 candidates, totalling 45 fits\n"
     ]
    },
    {
     "name": "stderr",
     "output_type": "stream",
     "text": [
      "[Parallel(n_jobs=4)]: Done  45 out of  45 | elapsed:  2.3min finished\n"
     ]
    },
    {
     "name": "stdout",
     "output_type": "stream",
     "text": [
      "done in 143.678s\n",
      "\n",
      "Best score: 0.179\n",
      "Best parameters set:\n",
      "\tclf__estimator__alpha: 0.001\n",
      "\ttfidf__max_df: 1.0\n",
      "\ttfidf__ngram_range: (1, 2)\n",
      "\ttfidf__smooth_idf: True\n",
      "F1 score train: 0.18 F1 score test: 0.33\n",
      "tin: Performing parameter search ...\n",
      "pipeline: ['tfidf', 'clf']\n",
      "parameters:\n",
      "{'tfidf__max_df': (0.01, 0.05, 0.5, 0.75, 1.0), 'tfidf__ngram_range': ((1, 1), (1, 2)), 'tfidf__smooth_idf': (True, False), 'clf__estimator__alpha': (1e-05, 1e-06, 0.001, 0.1, 0.5, 0.8)}\n",
      "Fitting 3 folds for each of 15 candidates, totalling 45 fits\n"
     ]
    },
    {
     "name": "stderr",
     "output_type": "stream",
     "text": [
      "[Parallel(n_jobs=4)]: Done  45 out of  45 | elapsed:  1.9min finished\n"
     ]
    },
    {
     "name": "stdout",
     "output_type": "stream",
     "text": [
      "done in 122.752s\n",
      "\n",
      "Best score: 0.518\n",
      "Best parameters set:\n",
      "\tclf__estimator__alpha: 1e-05\n",
      "\ttfidf__max_df: 0.05\n",
      "\ttfidf__ngram_range: (1, 2)\n",
      "\ttfidf__smooth_idf: False\n",
      "F1 score train: 0.52 F1 score test: 0.29\n",
      "trade: Performing parameter search ...\n",
      "pipeline: ['tfidf', 'clf']\n",
      "parameters:\n",
      "{'tfidf__max_df': (0.01, 0.05, 0.5, 0.75, 1.0), 'tfidf__ngram_range': ((1, 1), (1, 2)), 'tfidf__smooth_idf': (True, False), 'clf__estimator__alpha': (1e-05, 1e-06, 0.001, 0.1, 0.5, 0.8)}\n",
      "Fitting 3 folds for each of 15 candidates, totalling 45 fits\n"
     ]
    },
    {
     "name": "stderr",
     "output_type": "stream",
     "text": [
      "[Parallel(n_jobs=4)]: Done  45 out of  45 | elapsed:  2.3min finished\n"
     ]
    },
    {
     "name": "stdout",
     "output_type": "stream",
     "text": [
      "done in 143.165s\n",
      "\n",
      "Best score: 0.613\n",
      "Best parameters set:\n",
      "\tclf__estimator__alpha: 0.001\n",
      "\ttfidf__max_df: 0.75\n",
      "\ttfidf__ngram_range: (1, 2)\n",
      "\ttfidf__smooth_idf: False\n",
      "F1 score train: 0.61 F1 score test: 0.48\n",
      "veg-oil: Performing parameter search ...\n",
      "pipeline: ['tfidf', 'clf']\n",
      "parameters:\n",
      "{'tfidf__max_df': (0.01, 0.05, 0.5, 0.75, 1.0), 'tfidf__ngram_range': ((1, 1), (1, 2)), 'tfidf__smooth_idf': (True, False), 'clf__estimator__alpha': (1e-05, 1e-06, 0.001, 0.1, 0.5, 0.8)}\n",
      "Fitting 3 folds for each of 15 candidates, totalling 45 fits\n"
     ]
    },
    {
     "name": "stderr",
     "output_type": "stream",
     "text": [
      "[Parallel(n_jobs=4)]: Done  45 out of  45 | elapsed:  2.1min finished\n"
     ]
    },
    {
     "name": "stdout",
     "output_type": "stream",
     "text": [
      "done in 134.710s\n",
      "\n",
      "Best score: 0.562\n",
      "Best parameters set:\n",
      "\tclf__estimator__alpha: 0.001\n",
      "\ttfidf__max_df: 0.75\n",
      "\ttfidf__ngram_range: (1, 2)\n",
      "\ttfidf__smooth_idf: False\n",
      "F1 score train: 0.56 F1 score test: 0.50\n",
      "wheat: Performing parameter search ...\n",
      "pipeline: ['tfidf', 'clf']\n",
      "parameters:\n",
      "{'tfidf__max_df': (0.01, 0.05, 0.5, 0.75, 1.0), 'tfidf__ngram_range': ((1, 1), (1, 2)), 'tfidf__smooth_idf': (True, False), 'clf__estimator__alpha': (1e-05, 1e-06, 0.001, 0.1, 0.5, 0.8)}\n",
      "Fitting 3 folds for each of 15 candidates, totalling 45 fits\n"
     ]
    },
    {
     "name": "stderr",
     "output_type": "stream",
     "text": [
      "[Parallel(n_jobs=4)]: Done  45 out of  45 | elapsed:  2.2min finished\n"
     ]
    },
    {
     "name": "stdout",
     "output_type": "stream",
     "text": [
      "done in 140.111s\n",
      "\n",
      "Best score: 0.567\n",
      "Best parameters set:\n",
      "\tclf__estimator__alpha: 0.001\n",
      "\ttfidf__max_df: 0.01\n",
      "\ttfidf__ngram_range: (1, 2)\n",
      "\ttfidf__smooth_idf: True\n",
      "F1 score train: 0.57 F1 score test: 0.65\n",
      "wpi: Performing parameter search ...\n",
      "pipeline: ['tfidf', 'clf']\n",
      "parameters:\n",
      "{'tfidf__max_df': (0.01, 0.05, 0.5, 0.75, 1.0), 'tfidf__ngram_range': ((1, 1), (1, 2)), 'tfidf__smooth_idf': (True, False), 'clf__estimator__alpha': (1e-05, 1e-06, 0.001, 0.1, 0.5, 0.8)}\n",
      "Fitting 3 folds for each of 15 candidates, totalling 45 fits\n"
     ]
    },
    {
     "name": "stderr",
     "output_type": "stream",
     "text": [
      "[Parallel(n_jobs=4)]: Done  45 out of  45 | elapsed:  2.1min finished\n"
     ]
    },
    {
     "name": "stdout",
     "output_type": "stream",
     "text": [
      "done in 133.786s\n",
      "\n",
      "Best score: 0.521\n",
      "Best parameters set:\n",
      "\tclf__estimator__alpha: 1e-05\n",
      "\ttfidf__max_df: 1.0\n",
      "\ttfidf__ngram_range: (1, 2)\n",
      "\ttfidf__smooth_idf: True\n",
      "F1 score train: 0.52 F1 score test: 0.76\n",
      "yen: Performing parameter search ...\n",
      "pipeline: ['tfidf', 'clf']\n",
      "parameters:\n",
      "{'tfidf__max_df': (0.01, 0.05, 0.5, 0.75, 1.0), 'tfidf__ngram_range': ((1, 1), (1, 2)), 'tfidf__smooth_idf': (True, False), 'clf__estimator__alpha': (1e-05, 1e-06, 0.001, 0.1, 0.5, 0.8)}\n",
      "Fitting 3 folds for each of 15 candidates, totalling 45 fits\n"
     ]
    },
    {
     "name": "stderr",
     "output_type": "stream",
     "text": [
      "[Parallel(n_jobs=4)]: Done  45 out of  45 | elapsed:  2.4min finished\n"
     ]
    },
    {
     "name": "stdout",
     "output_type": "stream",
     "text": [
      "done in 144.929s\n",
      "\n",
      "Best score: 0.222\n",
      "Best parameters set:\n",
      "\tclf__estimator__alpha: 0.001\n",
      "\ttfidf__max_df: 0.75\n",
      "\ttfidf__ngram_range: (1, 1)\n",
      "\ttfidf__smooth_idf: True\n",
      "F1 score train: 0.22 F1 score test: 0.22\n",
      "zinc: Performing parameter search ...\n",
      "pipeline: ['tfidf', 'clf']\n",
      "parameters:\n",
      "{'tfidf__max_df': (0.01, 0.05, 0.5, 0.75, 1.0), 'tfidf__ngram_range': ((1, 1), (1, 2)), 'tfidf__smooth_idf': (True, False), 'clf__estimator__alpha': (1e-05, 1e-06, 0.001, 0.1, 0.5, 0.8)}\n",
      "Fitting 3 folds for each of 15 candidates, totalling 45 fits\n"
     ]
    },
    {
     "name": "stderr",
     "output_type": "stream",
     "text": [
      "[Parallel(n_jobs=4)]: Done  45 out of  45 | elapsed:  2.1min finished\n"
     ]
    },
    {
     "name": "stdout",
     "output_type": "stream",
     "text": [
      "done in 134.360s\n",
      "\n",
      "Best score: 0.288\n",
      "Best parameters set:\n",
      "\tclf__estimator__alpha: 0.001\n",
      "\ttfidf__max_df: 0.01\n",
      "\ttfidf__ngram_range: (1, 2)\n",
      "\ttfidf__smooth_idf: True\n",
      "F1 score train: 0.29 F1 score test: 0.33\n",
      "acq: Performing parameter search ...\n",
      "pipeline: ['tfidf', 'clf']\n",
      "parameters:\n",
      "{'tfidf__max_df': (0.01, 0.05, 0.5, 0.75, 1.0), 'tfidf__ngram_range': ((1, 1), (1, 2)), 'tfidf__smooth_idf': (True, False), 'clf__estimator__alpha': (1e-05, 1e-06, 0.001, 0.1, 0.5, 0.8)}\n",
      "Fitting 3 folds for each of 15 candidates, totalling 45 fits\n"
     ]
    },
    {
     "name": "stderr",
     "output_type": "stream",
     "text": [
      "[Parallel(n_jobs=4)]: Done  45 out of  45 | elapsed:  2.5min finished\n"
     ]
    },
    {
     "name": "stdout",
     "output_type": "stream",
     "text": [
      "done in 150.822s\n",
      "\n",
      "Best score: 0.697\n",
      "Best parameters set:\n",
      "\tclf__estimator__alpha: 0.1\n",
      "\ttfidf__max_df: 1.0\n",
      "\ttfidf__ngram_range: (1, 1)\n",
      "\ttfidf__smooth_idf: True\n",
      "F1 score train: 0.70 F1 score test: 0.68\n",
      "alum: Performing parameter search ...\n",
      "pipeline: ['tfidf', 'clf']\n",
      "parameters:\n",
      "{'tfidf__max_df': (0.01, 0.05, 0.5, 0.75, 1.0), 'tfidf__ngram_range': ((1, 1), (1, 2)), 'tfidf__smooth_idf': (True, False), 'clf__estimator__alpha': (1e-05, 1e-06, 0.001, 0.1, 0.5, 0.8)}\n",
      "Fitting 3 folds for each of 15 candidates, totalling 45 fits\n"
     ]
    },
    {
     "name": "stderr",
     "output_type": "stream",
     "text": [
      "[Parallel(n_jobs=4)]: Done  45 out of  45 | elapsed:  2.4min finished\n"
     ]
    },
    {
     "name": "stdout",
     "output_type": "stream",
     "text": [
      "done in 149.584s\n",
      "\n",
      "Best score: 0.335\n",
      "Best parameters set:\n",
      "\tclf__estimator__alpha: 0.001\n",
      "\ttfidf__max_df: 0.05\n",
      "\ttfidf__ngram_range: (1, 2)\n",
      "\ttfidf__smooth_idf: True\n",
      "F1 score train: 0.33 F1 score test: 0.44\n",
      "barley: Performing parameter search ...\n",
      "pipeline: ['tfidf', 'clf']\n",
      "parameters:\n",
      "{'tfidf__max_df': (0.01, 0.05, 0.5, 0.75, 1.0), 'tfidf__ngram_range': ((1, 1), (1, 2)), 'tfidf__smooth_idf': (True, False), 'clf__estimator__alpha': (1e-05, 1e-06, 0.001, 0.1, 0.5, 0.8)}\n",
      "Fitting 3 folds for each of 15 candidates, totalling 45 fits\n"
     ]
    },
    {
     "name": "stderr",
     "output_type": "stream",
     "text": [
      "[Parallel(n_jobs=4)]: Done  45 out of  45 | elapsed:  2.2min finished\n"
     ]
    },
    {
     "name": "stdout",
     "output_type": "stream",
     "text": [
      "done in 141.293s\n",
      "\n",
      "Best score: 0.539\n",
      "Best parameters set:\n",
      "\tclf__estimator__alpha: 1e-06\n",
      "\ttfidf__max_df: 1.0\n",
      "\ttfidf__ngram_range: (1, 2)\n",
      "\ttfidf__smooth_idf: True\n",
      "F1 score train: 0.54 F1 score test: 0.48\n",
      "bop: Performing parameter search ...\n",
      "pipeline: ['tfidf', 'clf']\n",
      "parameters:\n",
      "{'tfidf__max_df': (0.01, 0.05, 0.5, 0.75, 1.0), 'tfidf__ngram_range': ((1, 1), (1, 2)), 'tfidf__smooth_idf': (True, False), 'clf__estimator__alpha': (1e-05, 1e-06, 0.001, 0.1, 0.5, 0.8)}\n",
      "Fitting 3 folds for each of 15 candidates, totalling 45 fits\n"
     ]
    },
    {
     "name": "stderr",
     "output_type": "stream",
     "text": [
      "[Parallel(n_jobs=4)]: Done  45 out of  45 | elapsed:  1.7min finished\n"
     ]
    },
    {
     "name": "stdout",
     "output_type": "stream",
     "text": [
      "done in 111.376s\n",
      "\n",
      "Best score: 0.495\n",
      "Best parameters set:\n",
      "\tclf__estimator__alpha: 1e-05\n",
      "\ttfidf__max_df: 0.75\n",
      "\ttfidf__ngram_range: (1, 2)\n",
      "\ttfidf__smooth_idf: False\n",
      "F1 score train: 0.50 F1 score test: 0.52\n",
      "carcass: Performing parameter search ...\n",
      "pipeline: ['tfidf', 'clf']\n",
      "parameters:\n",
      "{'tfidf__max_df': (0.01, 0.05, 0.5, 0.75, 1.0), 'tfidf__ngram_range': ((1, 1), (1, 2)), 'tfidf__smooth_idf': (True, False), 'clf__estimator__alpha': (1e-05, 1e-06, 0.001, 0.1, 0.5, 0.8)}\n",
      "Fitting 3 folds for each of 15 candidates, totalling 45 fits\n"
     ]
    },
    {
     "name": "stderr",
     "output_type": "stream",
     "text": [
      "[Parallel(n_jobs=4)]: Done  45 out of  45 | elapsed:  2.1min finished\n"
     ]
    },
    {
     "name": "stdout",
     "output_type": "stream",
     "text": [
      "done in 132.213s\n",
      "\n",
      "Best score: 0.581\n",
      "Best parameters set:\n",
      "\tclf__estimator__alpha: 0.001\n",
      "\ttfidf__max_df: 0.05\n",
      "\ttfidf__ngram_range: (1, 2)\n",
      "\ttfidf__smooth_idf: True\n",
      "F1 score train: 0.58 F1 score test: 0.41\n",
      "cocoa: Performing parameter search ...\n",
      "pipeline: ['tfidf', 'clf']\n",
      "parameters:\n",
      "{'tfidf__max_df': (0.01, 0.05, 0.5, 0.75, 1.0), 'tfidf__ngram_range': ((1, 1), (1, 2)), 'tfidf__smooth_idf': (True, False), 'clf__estimator__alpha': (1e-05, 1e-06, 0.001, 0.1, 0.5, 0.8)}\n",
      "Fitting 3 folds for each of 15 candidates, totalling 45 fits\n"
     ]
    },
    {
     "name": "stderr",
     "output_type": "stream",
     "text": [
      "[Parallel(n_jobs=4)]: Done  45 out of  45 | elapsed:  2.0min finished\n"
     ]
    },
    {
     "name": "stdout",
     "output_type": "stream",
     "text": [
      "done in 127.982s\n",
      "\n",
      "Best score: 0.561\n",
      "Best parameters set:\n",
      "\tclf__estimator__alpha: 0.001\n",
      "\ttfidf__max_df: 0.05\n",
      "\ttfidf__ngram_range: (1, 2)\n",
      "\ttfidf__smooth_idf: False\n",
      "F1 score train: 0.56 F1 score test: 0.68\n",
      "coffee: Performing parameter search ...\n",
      "pipeline: ['tfidf', 'clf']\n",
      "parameters:\n",
      "{'tfidf__max_df': (0.01, 0.05, 0.5, 0.75, 1.0), 'tfidf__ngram_range': ((1, 1), (1, 2)), 'tfidf__smooth_idf': (True, False), 'clf__estimator__alpha': (1e-05, 1e-06, 0.001, 0.1, 0.5, 0.8)}\n",
      "Fitting 3 folds for each of 15 candidates, totalling 45 fits\n"
     ]
    },
    {
     "name": "stderr",
     "output_type": "stream",
     "text": [
      "[Parallel(n_jobs=4)]: Done  45 out of  45 | elapsed:  2.1min finished\n"
     ]
    },
    {
     "name": "stdout",
     "output_type": "stream",
     "text": [
      "done in 132.393s\n",
      "\n",
      "Best score: 0.724\n",
      "Best parameters set:\n",
      "\tclf__estimator__alpha: 1e-05\n",
      "\ttfidf__max_df: 0.01\n",
      "\ttfidf__ngram_range: (1, 2)\n",
      "\ttfidf__smooth_idf: False\n",
      "F1 score train: 0.72 F1 score test: 0.72\n",
      "copper: Performing parameter search ...\n",
      "pipeline: ['tfidf', 'clf']\n",
      "parameters:\n",
      "{'tfidf__max_df': (0.01, 0.05, 0.5, 0.75, 1.0), 'tfidf__ngram_range': ((1, 1), (1, 2)), 'tfidf__smooth_idf': (True, False), 'clf__estimator__alpha': (1e-05, 1e-06, 0.001, 0.1, 0.5, 0.8)}\n",
      "Fitting 3 folds for each of 15 candidates, totalling 45 fits\n"
     ]
    },
    {
     "name": "stderr",
     "output_type": "stream",
     "text": [
      "[Parallel(n_jobs=4)]: Done  45 out of  45 | elapsed:  2.2min finished\n"
     ]
    },
    {
     "name": "stdout",
     "output_type": "stream",
     "text": [
      "done in 140.279s\n",
      "\n",
      "Best score: 0.419\n",
      "Best parameters set:\n",
      "\tclf__estimator__alpha: 1e-05\n",
      "\ttfidf__max_df: 0.01\n",
      "\ttfidf__ngram_range: (1, 2)\n",
      "\ttfidf__smooth_idf: False\n",
      "F1 score train: 0.42 F1 score test: 0.47\n",
      "corn: Performing parameter search ...\n",
      "pipeline: ['tfidf', 'clf']\n",
      "parameters:\n",
      "{'tfidf__max_df': (0.01, 0.05, 0.5, 0.75, 1.0), 'tfidf__ngram_range': ((1, 1), (1, 2)), 'tfidf__smooth_idf': (True, False), 'clf__estimator__alpha': (1e-05, 1e-06, 0.001, 0.1, 0.5, 0.8)}\n",
      "Fitting 3 folds for each of 15 candidates, totalling 45 fits\n"
     ]
    },
    {
     "name": "stderr",
     "output_type": "stream",
     "text": [
      "[Parallel(n_jobs=4)]: Done  45 out of  45 | elapsed:  2.0min finished\n"
     ]
    },
    {
     "name": "stdout",
     "output_type": "stream",
     "text": [
      "done in 125.187s\n",
      "\n",
      "Best score: 0.553\n",
      "Best parameters set:\n",
      "\tclf__estimator__alpha: 1e-05\n",
      "\ttfidf__max_df: 1.0\n",
      "\ttfidf__ngram_range: (1, 2)\n",
      "\ttfidf__smooth_idf: True\n",
      "F1 score train: 0.55 F1 score test: 0.55\n",
      "cotton: Performing parameter search ...\n",
      "pipeline: ['tfidf', 'clf']\n",
      "parameters:\n",
      "{'tfidf__max_df': (0.01, 0.05, 0.5, 0.75, 1.0), 'tfidf__ngram_range': ((1, 1), (1, 2)), 'tfidf__smooth_idf': (True, False), 'clf__estimator__alpha': (1e-05, 1e-06, 0.001, 0.1, 0.5, 0.8)}\n",
      "Fitting 3 folds for each of 15 candidates, totalling 45 fits\n"
     ]
    },
    {
     "name": "stderr",
     "output_type": "stream",
     "text": [
      "[Parallel(n_jobs=4)]: Done  45 out of  45 | elapsed:  2.0min finished\n"
     ]
    },
    {
     "name": "stdout",
     "output_type": "stream",
     "text": [
      "done in 124.106s\n",
      "\n",
      "Best score: 0.265\n",
      "Best parameters set:\n",
      "\tclf__estimator__alpha: 1e-05\n",
      "\ttfidf__max_df: 0.01\n",
      "\ttfidf__ngram_range: (1, 2)\n",
      "\ttfidf__smooth_idf: False\n",
      "F1 score train: 0.27 F1 score test: 0.39\n",
      "cpi: Performing parameter search ...\n",
      "pipeline: ['tfidf', 'clf']\n",
      "parameters:\n",
      "{'tfidf__max_df': (0.01, 0.05, 0.5, 0.75, 1.0), 'tfidf__ngram_range': ((1, 1), (1, 2)), 'tfidf__smooth_idf': (True, False), 'clf__estimator__alpha': (1e-05, 1e-06, 0.001, 0.1, 0.5, 0.8)}\n",
      "Fitting 3 folds for each of 15 candidates, totalling 45 fits\n"
     ]
    },
    {
     "name": "stderr",
     "output_type": "stream",
     "text": [
      "[Parallel(n_jobs=4)]: Done  45 out of  45 | elapsed:  2.4min finished\n"
     ]
    },
    {
     "name": "stdout",
     "output_type": "stream",
     "text": [
      "done in 149.218s\n",
      "\n",
      "Best score: 0.480\n",
      "Best parameters set:\n",
      "\tclf__estimator__alpha: 0.001\n",
      "\ttfidf__max_df: 0.01\n",
      "\ttfidf__ngram_range: (1, 2)\n",
      "\ttfidf__smooth_idf: True\n",
      "F1 score train: 0.48 F1 score test: 0.43\n",
      "crude: Performing parameter search ...\n",
      "pipeline: ['tfidf', 'clf']\n",
      "parameters:\n",
      "{'tfidf__max_df': (0.01, 0.05, 0.5, 0.75, 1.0), 'tfidf__ngram_range': ((1, 1), (1, 2)), 'tfidf__smooth_idf': (True, False), 'clf__estimator__alpha': (1e-05, 1e-06, 0.001, 0.1, 0.5, 0.8)}\n",
      "Fitting 3 folds for each of 15 candidates, totalling 45 fits\n"
     ]
    },
    {
     "name": "stderr",
     "output_type": "stream",
     "text": [
      "[Parallel(n_jobs=4)]: Done  45 out of  45 | elapsed:  2.3min finished\n"
     ]
    },
    {
     "name": "stdout",
     "output_type": "stream",
     "text": [
      "done in 147.055s\n",
      "\n",
      "Best score: 0.681\n",
      "Best parameters set:\n",
      "\tclf__estimator__alpha: 1e-05\n",
      "\ttfidf__max_df: 1.0\n",
      "\ttfidf__ngram_range: (1, 2)\n",
      "\ttfidf__smooth_idf: False\n",
      "F1 score train: 0.68 F1 score test: 0.75\n",
      "dlr: Performing parameter search ...\n",
      "pipeline: ['tfidf', 'clf']\n",
      "parameters:\n",
      "{'tfidf__max_df': (0.01, 0.05, 0.5, 0.75, 1.0), 'tfidf__ngram_range': ((1, 1), (1, 2)), 'tfidf__smooth_idf': (True, False), 'clf__estimator__alpha': (1e-05, 1e-06, 0.001, 0.1, 0.5, 0.8)}\n",
      "Fitting 3 folds for each of 15 candidates, totalling 45 fits\n"
     ]
    },
    {
     "name": "stderr",
     "output_type": "stream",
     "text": [
      "[Parallel(n_jobs=4)]: Done  45 out of  45 | elapsed:  2.1min finished\n"
     ]
    },
    {
     "name": "stdout",
     "output_type": "stream",
     "text": [
      "done in 132.944s\n",
      "\n",
      "Best score: 0.533\n",
      "Best parameters set:\n",
      "\tclf__estimator__alpha: 0.001\n",
      "\ttfidf__max_df: 0.05\n",
      "\ttfidf__ngram_range: (1, 2)\n",
      "\ttfidf__smooth_idf: True\n",
      "F1 score train: 0.53 F1 score test: 0.44\n",
      "earn: Performing parameter search ...\n",
      "pipeline: ['tfidf', 'clf']\n",
      "parameters:\n",
      "{'tfidf__max_df': (0.01, 0.05, 0.5, 0.75, 1.0), 'tfidf__ngram_range': ((1, 1), (1, 2)), 'tfidf__smooth_idf': (True, False), 'clf__estimator__alpha': (1e-05, 1e-06, 0.001, 0.1, 0.5, 0.8)}\n",
      "Fitting 3 folds for each of 15 candidates, totalling 45 fits\n"
     ]
    },
    {
     "name": "stderr",
     "output_type": "stream",
     "text": [
      "[Parallel(n_jobs=4)]: Done  45 out of  45 | elapsed:  2.2min finished\n"
     ]
    },
    {
     "name": "stdout",
     "output_type": "stream",
     "text": [
      "done in 140.419s\n",
      "\n",
      "Best score: 0.894\n",
      "Best parameters set:\n",
      "\tclf__estimator__alpha: 0.1\n",
      "\ttfidf__max_df: 1.0\n",
      "\ttfidf__ngram_range: (1, 2)\n",
      "\ttfidf__smooth_idf: False\n",
      "F1 score train: 0.89 F1 score test: 0.79\n",
      "fuel: Performing parameter search ...\n",
      "pipeline: ['tfidf', 'clf']\n",
      "parameters:\n",
      "{'tfidf__max_df': (0.01, 0.05, 0.5, 0.75, 1.0), 'tfidf__ngram_range': ((1, 1), (1, 2)), 'tfidf__smooth_idf': (True, False), 'clf__estimator__alpha': (1e-05, 1e-06, 0.001, 0.1, 0.5, 0.8)}\n",
      "Fitting 3 folds for each of 15 candidates, totalling 45 fits\n"
     ]
    },
    {
     "name": "stderr",
     "output_type": "stream",
     "text": [
      "[Parallel(n_jobs=4)]: Done  45 out of  45 | elapsed:  1.8min finished\n"
     ]
    },
    {
     "name": "stdout",
     "output_type": "stream",
     "text": [
      "done in 117.080s\n",
      "\n",
      "Best score: 0.348\n",
      "Best parameters set:\n",
      "\tclf__estimator__alpha: 1e-06\n",
      "\ttfidf__max_df: 0.05\n",
      "\ttfidf__ngram_range: (1, 2)\n",
      "\ttfidf__smooth_idf: True\n",
      "F1 score train: 0.35 F1 score test: 0.40\n",
      "gas: Performing parameter search ...\n",
      "pipeline: ['tfidf', 'clf']\n",
      "parameters:\n",
      "{'tfidf__max_df': (0.01, 0.05, 0.5, 0.75, 1.0), 'tfidf__ngram_range': ((1, 1), (1, 2)), 'tfidf__smooth_idf': (True, False), 'clf__estimator__alpha': (1e-05, 1e-06, 0.001, 0.1, 0.5, 0.8)}\n",
      "Fitting 3 folds for each of 15 candidates, totalling 45 fits\n"
     ]
    },
    {
     "name": "stderr",
     "output_type": "stream",
     "text": [
      "[Parallel(n_jobs=4)]: Done  45 out of  45 | elapsed:  1.8min finished\n"
     ]
    },
    {
     "name": "stdout",
     "output_type": "stream",
     "text": [
      "done in 116.203s\n",
      "\n",
      "Best score: 0.430\n",
      "Best parameters set:\n",
      "\tclf__estimator__alpha: 0.001\n",
      "\ttfidf__max_df: 0.75\n",
      "\ttfidf__ngram_range: (1, 2)\n",
      "\ttfidf__smooth_idf: False\n",
      "F1 score train: 0.43 F1 score test: 0.87\n",
      "gnp: Performing parameter search ...\n",
      "pipeline: ['tfidf', 'clf']\n",
      "parameters:\n",
      "{'tfidf__max_df': (0.01, 0.05, 0.5, 0.75, 1.0), 'tfidf__ngram_range': ((1, 1), (1, 2)), 'tfidf__smooth_idf': (True, False), 'clf__estimator__alpha': (1e-05, 1e-06, 0.001, 0.1, 0.5, 0.8)}\n",
      "Fitting 3 folds for each of 15 candidates, totalling 45 fits\n"
     ]
    },
    {
     "name": "stderr",
     "output_type": "stream",
     "text": [
      "[Parallel(n_jobs=4)]: Done  45 out of  45 | elapsed:  2.2min finished\n"
     ]
    },
    {
     "name": "stdout",
     "output_type": "stream",
     "text": [
      "done in 139.824s\n",
      "\n",
      "Best score: 0.403\n",
      "Best parameters set:\n",
      "\tclf__estimator__alpha: 1e-05\n",
      "\ttfidf__max_df: 0.75\n",
      "\ttfidf__ngram_range: (1, 2)\n",
      "\ttfidf__smooth_idf: True\n",
      "F1 score train: 0.40 F1 score test: 0.44\n",
      "gold: Performing parameter search ...\n",
      "pipeline: ['tfidf', 'clf']\n",
      "parameters:\n",
      "{'tfidf__max_df': (0.01, 0.05, 0.5, 0.75, 1.0), 'tfidf__ngram_range': ((1, 1), (1, 2)), 'tfidf__smooth_idf': (True, False), 'clf__estimator__alpha': (1e-05, 1e-06, 0.001, 0.1, 0.5, 0.8)}\n",
      "Fitting 3 folds for each of 15 candidates, totalling 45 fits\n"
     ]
    },
    {
     "name": "stderr",
     "output_type": "stream",
     "text": [
      "[Parallel(n_jobs=4)]: Done  45 out of  45 | elapsed:  2.2min finished\n"
     ]
    },
    {
     "name": "stdout",
     "output_type": "stream",
     "text": [
      "done in 132.923s\n",
      "\n",
      "Best score: 0.585\n",
      "Best parameters set:\n",
      "\tclf__estimator__alpha: 0.001\n",
      "\ttfidf__max_df: 1.0\n",
      "\ttfidf__ngram_range: (1, 1)\n",
      "\ttfidf__smooth_idf: False\n",
      "F1 score train: 0.58 F1 score test: 0.57\n",
      "grain: Performing parameter search ...\n",
      "pipeline: ['tfidf', 'clf']\n",
      "parameters:\n",
      "{'tfidf__max_df': (0.01, 0.05, 0.5, 0.75, 1.0), 'tfidf__ngram_range': ((1, 1), (1, 2)), 'tfidf__smooth_idf': (True, False), 'clf__estimator__alpha': (1e-05, 1e-06, 0.001, 0.1, 0.5, 0.8)}\n",
      "Fitting 3 folds for each of 15 candidates, totalling 45 fits\n"
     ]
    },
    {
     "name": "stderr",
     "output_type": "stream",
     "text": [
      "[Parallel(n_jobs=4)]: Done  45 out of  45 | elapsed:  2.1min finished\n"
     ]
    },
    {
     "name": "stdout",
     "output_type": "stream",
     "text": [
      "done in 133.211s\n",
      "\n",
      "Best score: 0.708\n",
      "Best parameters set:\n",
      "\tclf__estimator__alpha: 1e-05\n",
      "\ttfidf__max_df: 0.75\n",
      "\ttfidf__ngram_range: (1, 2)\n",
      "\ttfidf__smooth_idf: False\n",
      "F1 score train: 0.71 F1 score test: 0.78\n",
      "hog: Performing parameter search ...\n",
      "pipeline: ['tfidf', 'clf']\n",
      "parameters:\n",
      "{'tfidf__max_df': (0.01, 0.05, 0.5, 0.75, 1.0), 'tfidf__ngram_range': ((1, 1), (1, 2)), 'tfidf__smooth_idf': (True, False), 'clf__estimator__alpha': (1e-05, 1e-06, 0.001, 0.1, 0.5, 0.8)}\n",
      "Fitting 3 folds for each of 15 candidates, totalling 45 fits\n"
     ]
    },
    {
     "name": "stderr",
     "output_type": "stream",
     "text": [
      "[Parallel(n_jobs=4)]: Done  45 out of  45 | elapsed:  2.3min finished\n"
     ]
    },
    {
     "name": "stdout",
     "output_type": "stream",
     "text": [
      "done in 141.951s\n",
      "\n",
      "Best score: 0.352\n",
      "Best parameters set:\n",
      "\tclf__estimator__alpha: 1e-06\n",
      "\ttfidf__max_df: 1.0\n",
      "\ttfidf__ngram_range: (1, 2)\n",
      "\ttfidf__smooth_idf: False\n",
      "F1 score train: 0.35 F1 score test: 0.27\n",
      "income: Performing parameter search ...\n",
      "pipeline: ['tfidf', 'clf']\n",
      "parameters:\n",
      "{'tfidf__max_df': (0.01, 0.05, 0.5, 0.75, 1.0), 'tfidf__ngram_range': ((1, 1), (1, 2)), 'tfidf__smooth_idf': (True, False), 'clf__estimator__alpha': (1e-05, 1e-06, 0.001, 0.1, 0.5, 0.8)}\n",
      "Fitting 3 folds for each of 15 candidates, totalling 45 fits\n"
     ]
    },
    {
     "name": "stderr",
     "output_type": "stream",
     "text": [
      "[Parallel(n_jobs=4)]: Done  45 out of  45 | elapsed:  2.2min finished\n"
     ]
    },
    {
     "name": "stdout",
     "output_type": "stream",
     "text": [
      "done in 138.445s\n",
      "\n",
      "Best score: 0.333\n",
      "Best parameters set:\n",
      "\tclf__estimator__alpha: 1e-05\n",
      "\ttfidf__max_df: 0.05\n",
      "\ttfidf__ngram_range: (1, 2)\n",
      "\ttfidf__smooth_idf: True\n",
      "F1 score train: 0.33 F1 score test: 0.67\n",
      "interest: Performing parameter search ...\n",
      "pipeline: ['tfidf', 'clf']\n",
      "parameters:\n",
      "{'tfidf__max_df': (0.01, 0.05, 0.5, 0.75, 1.0), 'tfidf__ngram_range': ((1, 1), (1, 2)), 'tfidf__smooth_idf': (True, False), 'clf__estimator__alpha': (1e-05, 1e-06, 0.001, 0.1, 0.5, 0.8)}\n",
      "Fitting 3 folds for each of 15 candidates, totalling 45 fits\n"
     ]
    },
    {
     "name": "stderr",
     "output_type": "stream",
     "text": [
      "[Parallel(n_jobs=4)]: Done  45 out of  45 | elapsed:  2.0min finished\n"
     ]
    },
    {
     "name": "stdout",
     "output_type": "stream",
     "text": [
      "done in 124.083s\n",
      "\n",
      "Best score: 0.572\n",
      "Best parameters set:\n",
      "\tclf__estimator__alpha: 1e-05\n",
      "\ttfidf__max_df: 0.75\n",
      "\ttfidf__ngram_range: (1, 2)\n",
      "\ttfidf__smooth_idf: False\n",
      "F1 score train: 0.57 F1 score test: 0.59\n",
      "ipi: Performing parameter search ...\n",
      "pipeline: ['tfidf', 'clf']\n",
      "parameters:\n",
      "{'tfidf__max_df': (0.01, 0.05, 0.5, 0.75, 1.0), 'tfidf__ngram_range': ((1, 1), (1, 2)), 'tfidf__smooth_idf': (True, False), 'clf__estimator__alpha': (1e-05, 1e-06, 0.001, 0.1, 0.5, 0.8)}\n",
      "Fitting 3 folds for each of 15 candidates, totalling 45 fits\n"
     ]
    },
    {
     "name": "stderr",
     "output_type": "stream",
     "text": [
      "[Parallel(n_jobs=4)]: Done  45 out of  45 | elapsed:  2.2min finished\n"
     ]
    },
    {
     "name": "stdout",
     "output_type": "stream",
     "text": [
      "done in 137.447s\n",
      "\n",
      "Best score: 0.412\n",
      "Best parameters set:\n",
      "\tclf__estimator__alpha: 1e-06\n",
      "\ttfidf__max_df: 0.01\n",
      "\ttfidf__ngram_range: (1, 2)\n",
      "\ttfidf__smooth_idf: True\n",
      "F1 score train: 0.41 F1 score test: 0.47\n",
      "iron-steel: Performing parameter search ...\n",
      "pipeline: ['tfidf', 'clf']\n",
      "parameters:\n",
      "{'tfidf__max_df': (0.01, 0.05, 0.5, 0.75, 1.0), 'tfidf__ngram_range': ((1, 1), (1, 2)), 'tfidf__smooth_idf': (True, False), 'clf__estimator__alpha': (1e-05, 1e-06, 0.001, 0.1, 0.5, 0.8)}\n",
      "Fitting 3 folds for each of 15 candidates, totalling 45 fits\n"
     ]
    },
    {
     "name": "stderr",
     "output_type": "stream",
     "text": [
      "[Parallel(n_jobs=4)]: Done  45 out of  45 | elapsed:  1.7min finished\n"
     ]
    },
    {
     "name": "stdout",
     "output_type": "stream",
     "text": [
      "done in 109.517s\n",
      "\n",
      "Best score: 0.388\n",
      "Best parameters set:\n",
      "\tclf__estimator__alpha: 0.001\n",
      "\ttfidf__max_df: 0.01\n",
      "\ttfidf__ngram_range: (1, 2)\n",
      "\ttfidf__smooth_idf: False\n",
      "F1 score train: 0.39 F1 score test: 0.58\n",
      "jobs: Performing parameter search ...\n",
      "pipeline: ['tfidf', 'clf']\n",
      "parameters:\n",
      "{'tfidf__max_df': (0.01, 0.05, 0.5, 0.75, 1.0), 'tfidf__ngram_range': ((1, 1), (1, 2)), 'tfidf__smooth_idf': (True, False), 'clf__estimator__alpha': (1e-05, 1e-06, 0.001, 0.1, 0.5, 0.8)}\n",
      "Fitting 3 folds for each of 15 candidates, totalling 45 fits\n"
     ]
    },
    {
     "name": "stderr",
     "output_type": "stream",
     "text": [
      "[Parallel(n_jobs=4)]: Done  45 out of  45 | elapsed:  2.3min finished\n"
     ]
    },
    {
     "name": "stdout",
     "output_type": "stream",
     "text": [
      "done in 144.579s\n",
      "\n",
      "Best score: 0.613\n",
      "Best parameters set:\n",
      "\tclf__estimator__alpha: 1e-05\n",
      "\ttfidf__max_df: 0.05\n",
      "\ttfidf__ngram_range: (1, 2)\n",
      "\ttfidf__smooth_idf: True\n",
      "F1 score train: 0.61 F1 score test: 0.67\n",
      "lead: Performing parameter search ...\n",
      "pipeline: ['tfidf', 'clf']\n",
      "parameters:\n",
      "{'tfidf__max_df': (0.01, 0.05, 0.5, 0.75, 1.0), 'tfidf__ngram_range': ((1, 1), (1, 2)), 'tfidf__smooth_idf': (True, False), 'clf__estimator__alpha': (1e-05, 1e-06, 0.001, 0.1, 0.5, 0.8)}\n",
      "Fitting 3 folds for each of 15 candidates, totalling 45 fits\n"
     ]
    },
    {
     "name": "stderr",
     "output_type": "stream",
     "text": [
      "[Parallel(n_jobs=4)]: Done  45 out of  45 | elapsed:  2.0min finished\n"
     ]
    },
    {
     "name": "stdout",
     "output_type": "stream",
     "text": [
      "done in 124.746s\n",
      "\n",
      "Best score: 0.157\n",
      "Best parameters set:\n",
      "\tclf__estimator__alpha: 1e-05\n",
      "\ttfidf__max_df: 0.05\n",
      "\ttfidf__ngram_range: (1, 2)\n",
      "\ttfidf__smooth_idf: False\n",
      "F1 score train: 0.16 F1 score test: 0.13\n",
      "livestock: Performing parameter search ...\n",
      "pipeline: ['tfidf', 'clf']\n",
      "parameters:\n",
      "{'tfidf__max_df': (0.01, 0.05, 0.5, 0.75, 1.0), 'tfidf__ngram_range': ((1, 1), (1, 2)), 'tfidf__smooth_idf': (True, False), 'clf__estimator__alpha': (1e-05, 1e-06, 0.001, 0.1, 0.5, 0.8)}\n",
      "Fitting 3 folds for each of 15 candidates, totalling 45 fits\n"
     ]
    },
    {
     "name": "stderr",
     "output_type": "stream",
     "text": [
      "[Parallel(n_jobs=4)]: Done  45 out of  45 | elapsed:  2.0min finished\n"
     ]
    },
    {
     "name": "stdout",
     "output_type": "stream",
     "text": [
      "done in 124.812s\n",
      "\n",
      "Best score: 0.443\n",
      "Best parameters set:\n",
      "\tclf__estimator__alpha: 0.001\n",
      "\ttfidf__max_df: 0.05\n",
      "\ttfidf__ngram_range: (1, 2)\n",
      "\ttfidf__smooth_idf: True\n",
      "F1 score train: 0.44 F1 score test: 0.39\n",
      "lumber: Performing parameter search ...\n",
      "pipeline: ['tfidf', 'clf']\n",
      "parameters:\n",
      "{'tfidf__max_df': (0.01, 0.05, 0.5, 0.75, 1.0), 'tfidf__ngram_range': ((1, 1), (1, 2)), 'tfidf__smooth_idf': (True, False), 'clf__estimator__alpha': (1e-05, 1e-06, 0.001, 0.1, 0.5, 0.8)}\n",
      "Fitting 3 folds for each of 15 candidates, totalling 45 fits\n"
     ]
    },
    {
     "name": "stderr",
     "output_type": "stream",
     "text": [
      "[Parallel(n_jobs=4)]: Done  45 out of  45 | elapsed:  2.0min finished\n"
     ]
    },
    {
     "name": "stdout",
     "output_type": "stream",
     "text": [
      "done in 121.271s\n",
      "\n",
      "Best score: 0.270\n",
      "Best parameters set:\n",
      "\tclf__estimator__alpha: 0.001\n",
      "\ttfidf__max_df: 0.5\n",
      "\ttfidf__ngram_range: (1, 1)\n",
      "\ttfidf__smooth_idf: False\n",
      "F1 score train: 0.27 F1 score test: 0.29\n",
      "meal-feed: Performing parameter search ...\n",
      "pipeline: ['tfidf', 'clf']\n",
      "parameters:\n",
      "{'tfidf__max_df': (0.01, 0.05, 0.5, 0.75, 1.0), 'tfidf__ngram_range': ((1, 1), (1, 2)), 'tfidf__smooth_idf': (True, False), 'clf__estimator__alpha': (1e-05, 1e-06, 0.001, 0.1, 0.5, 0.8)}\n",
      "Fitting 3 folds for each of 15 candidates, totalling 45 fits\n"
     ]
    },
    {
     "name": "stderr",
     "output_type": "stream",
     "text": [
      "[Parallel(n_jobs=4)]: Done  45 out of  45 | elapsed:  1.6min finished\n"
     ]
    },
    {
     "name": "stdout",
     "output_type": "stream",
     "text": [
      "done in 96.030s\n",
      "\n",
      "Best score: 0.265\n",
      "Best parameters set:\n",
      "\tclf__estimator__alpha: 1e-05\n",
      "\ttfidf__max_df: 1.0\n",
      "\ttfidf__ngram_range: (1, 1)\n",
      "\ttfidf__smooth_idf: False\n",
      "F1 score train: 0.27 F1 score test: 0.38\n",
      "money-fx: Performing parameter search ...\n",
      "pipeline: ['tfidf', 'clf']\n",
      "parameters:\n",
      "{'tfidf__max_df': (0.01, 0.05, 0.5, 0.75, 1.0), 'tfidf__ngram_range': ((1, 1), (1, 2)), 'tfidf__smooth_idf': (True, False), 'clf__estimator__alpha': (1e-05, 1e-06, 0.001, 0.1, 0.5, 0.8)}\n",
      "Fitting 3 folds for each of 15 candidates, totalling 45 fits\n"
     ]
    },
    {
     "name": "stderr",
     "output_type": "stream",
     "text": [
      "[Parallel(n_jobs=4)]: Done  45 out of  45 | elapsed:  2.2min finished\n"
     ]
    },
    {
     "name": "stdout",
     "output_type": "stream",
     "text": [
      "done in 139.565s\n",
      "\n",
      "Best score: 0.706\n",
      "Best parameters set:\n",
      "\tclf__estimator__alpha: 0.001\n",
      "\ttfidf__max_df: 0.01\n",
      "\ttfidf__ngram_range: (1, 2)\n",
      "\ttfidf__smooth_idf: True\n",
      "F1 score train: 0.71 F1 score test: 0.66\n",
      "money-supply: Performing parameter search ...\n",
      "pipeline: ['tfidf', 'clf']\n",
      "parameters:\n",
      "{'tfidf__max_df': (0.01, 0.05, 0.5, 0.75, 1.0), 'tfidf__ngram_range': ((1, 1), (1, 2)), 'tfidf__smooth_idf': (True, False), 'clf__estimator__alpha': (1e-05, 1e-06, 0.001, 0.1, 0.5, 0.8)}\n",
      "Fitting 3 folds for each of 15 candidates, totalling 45 fits\n"
     ]
    },
    {
     "name": "stderr",
     "output_type": "stream",
     "text": [
      "[Parallel(n_jobs=4)]: Done  45 out of  45 | elapsed:  2.0min finished\n"
     ]
    },
    {
     "name": "stdout",
     "output_type": "stream",
     "text": [
      "done in 124.159s\n",
      "\n",
      "Best score: 0.767\n",
      "Best parameters set:\n",
      "\tclf__estimator__alpha: 1e-06\n",
      "\ttfidf__max_df: 0.5\n",
      "\ttfidf__ngram_range: (1, 2)\n",
      "\ttfidf__smooth_idf: True\n",
      "F1 score train: 0.77 F1 score test: 0.67\n",
      "nat-gas: Performing parameter search ...\n",
      "pipeline: ['tfidf', 'clf']\n",
      "parameters:\n",
      "{'tfidf__max_df': (0.01, 0.05, 0.5, 0.75, 1.0), 'tfidf__ngram_range': ((1, 1), (1, 2)), 'tfidf__smooth_idf': (True, False), 'clf__estimator__alpha': (1e-05, 1e-06, 0.001, 0.1, 0.5, 0.8)}\n",
      "Fitting 3 folds for each of 15 candidates, totalling 45 fits\n"
     ]
    },
    {
     "name": "stderr",
     "output_type": "stream",
     "text": [
      "[Parallel(n_jobs=4)]: Done  45 out of  45 | elapsed:  2.2min finished\n"
     ]
    },
    {
     "name": "stdout",
     "output_type": "stream",
     "text": [
      "done in 138.099s\n",
      "\n",
      "Best score: 0.472\n",
      "Best parameters set:\n",
      "\tclf__estimator__alpha: 0.001\n",
      "\ttfidf__max_df: 1.0\n",
      "\ttfidf__ngram_range: (1, 2)\n",
      "\ttfidf__smooth_idf: True\n",
      "F1 score train: 0.47 F1 score test: 0.47\n",
      "oat: Performing parameter search ...\n",
      "pipeline: ['tfidf', 'clf']\n",
      "parameters:\n",
      "{'tfidf__max_df': (0.01, 0.05, 0.5, 0.75, 1.0), 'tfidf__ngram_range': ((1, 1), (1, 2)), 'tfidf__smooth_idf': (True, False), 'clf__estimator__alpha': (1e-05, 1e-06, 0.001, 0.1, 0.5, 0.8)}\n",
      "Fitting 3 folds for each of 15 candidates, totalling 45 fits\n"
     ]
    },
    {
     "name": "stderr",
     "output_type": "stream",
     "text": [
      "[Parallel(n_jobs=4)]: Done  45 out of  45 | elapsed:  2.1min finished\n"
     ]
    },
    {
     "name": "stdout",
     "output_type": "stream",
     "text": [
      "done in 131.203s\n",
      "\n",
      "Best score: 0.074\n",
      "Best parameters set:\n",
      "\tclf__estimator__alpha: 0.001\n",
      "\ttfidf__max_df: 0.01\n",
      "\ttfidf__ngram_range: (1, 2)\n",
      "\ttfidf__smooth_idf: False\n",
      "F1 score train: 0.07 F1 score test: 0.14\n",
      "oilseed: Performing parameter search ...\n",
      "pipeline: ['tfidf', 'clf']\n",
      "parameters:\n",
      "{'tfidf__max_df': (0.01, 0.05, 0.5, 0.75, 1.0), 'tfidf__ngram_range': ((1, 1), (1, 2)), 'tfidf__smooth_idf': (True, False), 'clf__estimator__alpha': (1e-05, 1e-06, 0.001, 0.1, 0.5, 0.8)}\n",
      "Fitting 3 folds for each of 15 candidates, totalling 45 fits\n"
     ]
    },
    {
     "name": "stderr",
     "output_type": "stream",
     "text": [
      "[Parallel(n_jobs=4)]: Done  45 out of  45 | elapsed:  2.6min finished\n"
     ]
    },
    {
     "name": "stdout",
     "output_type": "stream",
     "text": [
      "done in 160.714s\n",
      "\n",
      "Best score: 0.446\n",
      "Best parameters set:\n",
      "\tclf__estimator__alpha: 1e-06\n",
      "\ttfidf__max_df: 0.75\n",
      "\ttfidf__ngram_range: (1, 2)\n",
      "\ttfidf__smooth_idf: True\n",
      "F1 score train: 0.45 F1 score test: 0.52\n",
      "orange: Performing parameter search ...\n",
      "pipeline: ['tfidf', 'clf']\n",
      "parameters:\n",
      "{'tfidf__max_df': (0.01, 0.05, 0.5, 0.75, 1.0), 'tfidf__ngram_range': ((1, 1), (1, 2)), 'tfidf__smooth_idf': (True, False), 'clf__estimator__alpha': (1e-05, 1e-06, 0.001, 0.1, 0.5, 0.8)}\n",
      "Fitting 3 folds for each of 15 candidates, totalling 45 fits\n"
     ]
    },
    {
     "name": "stderr",
     "output_type": "stream",
     "text": [
      "[Parallel(n_jobs=4)]: Done  45 out of  45 | elapsed:  1.7min finished\n"
     ]
    },
    {
     "name": "stdout",
     "output_type": "stream",
     "text": [
      "done in 109.291s\n",
      "\n",
      "Best score: 0.316\n",
      "Best parameters set:\n",
      "\tclf__estimator__alpha: 1e-05\n",
      "\ttfidf__max_df: 1.0\n",
      "\ttfidf__ngram_range: (1, 2)\n",
      "\ttfidf__smooth_idf: False\n",
      "F1 score train: 0.32 F1 score test: 0.84\n",
      "palm-oil: Performing parameter search ...\n",
      "pipeline: ['tfidf', 'clf']\n",
      "parameters:\n",
      "{'tfidf__max_df': (0.01, 0.05, 0.5, 0.75, 1.0), 'tfidf__ngram_range': ((1, 1), (1, 2)), 'tfidf__smooth_idf': (True, False), 'clf__estimator__alpha': (1e-05, 1e-06, 0.001, 0.1, 0.5, 0.8)}\n",
      "Fitting 3 folds for each of 15 candidates, totalling 45 fits\n"
     ]
    },
    {
     "name": "stderr",
     "output_type": "stream",
     "text": [
      "[Parallel(n_jobs=4)]: Done  45 out of  45 | elapsed:  1.9min finished\n"
     ]
    },
    {
     "name": "stdout",
     "output_type": "stream",
     "text": [
      "done in 118.177s\n",
      "\n",
      "Best score: 0.537\n",
      "Best parameters set:\n",
      "\tclf__estimator__alpha: 1e-05\n",
      "\ttfidf__max_df: 0.05\n",
      "\ttfidf__ngram_range: (1, 2)\n",
      "\ttfidf__smooth_idf: True\n",
      "F1 score train: 0.54 F1 score test: 0.50\n",
      "pet-chem: Performing parameter search ...\n",
      "pipeline: ['tfidf', 'clf']\n",
      "parameters:\n",
      "{'tfidf__max_df': (0.01, 0.05, 0.5, 0.75, 1.0), 'tfidf__ngram_range': ((1, 1), (1, 2)), 'tfidf__smooth_idf': (True, False), 'clf__estimator__alpha': (1e-05, 1e-06, 0.001, 0.1, 0.5, 0.8)}\n",
      "Fitting 3 folds for each of 15 candidates, totalling 45 fits\n"
     ]
    },
    {
     "name": "stderr",
     "output_type": "stream",
     "text": [
      "[Parallel(n_jobs=4)]: Done  45 out of  45 | elapsed:  2.1min finished\n"
     ]
    },
    {
     "name": "stdout",
     "output_type": "stream",
     "text": [
      "done in 126.344s\n",
      "\n",
      "Best score: 0.162\n",
      "Best parameters set:\n",
      "\tclf__estimator__alpha: 0.001\n",
      "\ttfidf__max_df: 0.05\n",
      "\ttfidf__ngram_range: (1, 1)\n",
      "\ttfidf__smooth_idf: True\n",
      "F1 score train: 0.16 F1 score test: 0.14\n",
      "platinum: Performing parameter search ...\n",
      "pipeline: ['tfidf', 'clf']\n",
      "parameters:\n",
      "{'tfidf__max_df': (0.01, 0.05, 0.5, 0.75, 1.0), 'tfidf__ngram_range': ((1, 1), (1, 2)), 'tfidf__smooth_idf': (True, False), 'clf__estimator__alpha': (1e-05, 1e-06, 0.001, 0.1, 0.5, 0.8)}\n",
      "Fitting 3 folds for each of 15 candidates, totalling 45 fits\n"
     ]
    },
    {
     "name": "stderr",
     "output_type": "stream",
     "text": [
      "[Parallel(n_jobs=4)]: Done  45 out of  45 | elapsed:  2.1min finished\n"
     ]
    },
    {
     "name": "stdout",
     "output_type": "stream",
     "text": [
      "done in 131.117s\n",
      "\n",
      "Best score: 0.333\n",
      "Best parameters set:\n",
      "\tclf__estimator__alpha: 0.001\n",
      "\ttfidf__max_df: 0.05\n",
      "\ttfidf__ngram_range: (1, 2)\n",
      "\ttfidf__smooth_idf: True\n",
      "F1 score train: 0.33 F1 score test: 0.00\n",
      "rapeseed: Performing parameter search ...\n",
      "pipeline: ['tfidf', 'clf']\n",
      "parameters:\n",
      "{'tfidf__max_df': (0.01, 0.05, 0.5, 0.75, 1.0), 'tfidf__ngram_range': ((1, 1), (1, 2)), 'tfidf__smooth_idf': (True, False), 'clf__estimator__alpha': (1e-05, 1e-06, 0.001, 0.1, 0.5, 0.8)}\n",
      "Fitting 3 folds for each of 15 candidates, totalling 45 fits\n"
     ]
    },
    {
     "name": "stderr",
     "output_type": "stream",
     "text": [
      "[Parallel(n_jobs=4)]: Done  45 out of  45 | elapsed:  2.1min finished\n"
     ]
    },
    {
     "name": "stdout",
     "output_type": "stream",
     "text": [
      "done in 130.229s\n",
      "\n",
      "Best score: 0.528\n",
      "Best parameters set:\n",
      "\tclf__estimator__alpha: 1e-05\n",
      "\ttfidf__max_df: 1.0\n",
      "\ttfidf__ngram_range: (1, 2)\n",
      "\ttfidf__smooth_idf: True\n",
      "F1 score train: 0.53 F1 score test: 0.57\n",
      "reserves: Performing parameter search ...\n",
      "pipeline: ['tfidf', 'clf']\n",
      "parameters:\n",
      "{'tfidf__max_df': (0.01, 0.05, 0.5, 0.75, 1.0), 'tfidf__ngram_range': ((1, 1), (1, 2)), 'tfidf__smooth_idf': (True, False), 'clf__estimator__alpha': (1e-05, 1e-06, 0.001, 0.1, 0.5, 0.8)}\n",
      "Fitting 3 folds for each of 15 candidates, totalling 45 fits\n"
     ]
    },
    {
     "name": "stderr",
     "output_type": "stream",
     "text": [
      "[Parallel(n_jobs=4)]: Done  45 out of  45 | elapsed:  2.1min finished\n"
     ]
    },
    {
     "name": "stdout",
     "output_type": "stream",
     "text": [
      "done in 131.403s\n",
      "\n",
      "Best score: 0.553\n",
      "Best parameters set:\n",
      "\tclf__estimator__alpha: 1e-05\n",
      "\ttfidf__max_df: 0.5\n",
      "\ttfidf__ngram_range: (1, 2)\n",
      "\ttfidf__smooth_idf: False\n",
      "F1 score train: 0.55 F1 score test: 0.76\n",
      "rice: Performing parameter search ...\n",
      "pipeline: ['tfidf', 'clf']\n",
      "parameters:\n",
      "{'tfidf__max_df': (0.01, 0.05, 0.5, 0.75, 1.0), 'tfidf__ngram_range': ((1, 1), (1, 2)), 'tfidf__smooth_idf': (True, False), 'clf__estimator__alpha': (1e-05, 1e-06, 0.001, 0.1, 0.5, 0.8)}\n",
      "Fitting 3 folds for each of 15 candidates, totalling 45 fits\n"
     ]
    },
    {
     "name": "stderr",
     "output_type": "stream",
     "text": [
      "[Parallel(n_jobs=4)]: Done  45 out of  45 | elapsed:  1.8min finished\n"
     ]
    },
    {
     "name": "stdout",
     "output_type": "stream",
     "text": [
      "done in 112.029s\n",
      "\n",
      "Best score: 0.251\n",
      "Best parameters set:\n",
      "\tclf__estimator__alpha: 1e-05\n",
      "\ttfidf__max_df: 0.01\n",
      "\ttfidf__ngram_range: (1, 1)\n",
      "\ttfidf__smooth_idf: True\n",
      "F1 score train: 0.25 F1 score test: 0.16\n",
      "rubber: Performing parameter search ...\n",
      "pipeline: ['tfidf', 'clf']\n",
      "parameters:\n",
      "{'tfidf__max_df': (0.01, 0.05, 0.5, 0.75, 1.0), 'tfidf__ngram_range': ((1, 1), (1, 2)), 'tfidf__smooth_idf': (True, False), 'clf__estimator__alpha': (1e-05, 1e-06, 0.001, 0.1, 0.5, 0.8)}\n",
      "Fitting 3 folds for each of 15 candidates, totalling 45 fits\n"
     ]
    },
    {
     "name": "stderr",
     "output_type": "stream",
     "text": [
      "[Parallel(n_jobs=4)]: Done  45 out of  45 | elapsed:  2.1min finished\n"
     ]
    },
    {
     "name": "stdout",
     "output_type": "stream",
     "text": [
      "done in 131.860s\n",
      "\n",
      "Best score: 0.535\n",
      "Best parameters set:\n",
      "\tclf__estimator__alpha: 1e-06\n",
      "\ttfidf__max_df: 0.5\n",
      "\ttfidf__ngram_range: (1, 2)\n",
      "\ttfidf__smooth_idf: True\n",
      "F1 score train: 0.54 F1 score test: 0.29\n",
      "ship: Performing parameter search ...\n",
      "pipeline: ['tfidf', 'clf']\n",
      "parameters:\n",
      "{'tfidf__max_df': (0.01, 0.05, 0.5, 0.75, 1.0), 'tfidf__ngram_range': ((1, 1), (1, 2)), 'tfidf__smooth_idf': (True, False), 'clf__estimator__alpha': (1e-05, 1e-06, 0.001, 0.1, 0.5, 0.8)}\n",
      "Fitting 3 folds for each of 15 candidates, totalling 45 fits\n"
     ]
    },
    {
     "name": "stderr",
     "output_type": "stream",
     "text": [
      "[Parallel(n_jobs=4)]: Done  45 out of  45 | elapsed:  2.2min finished\n"
     ]
    },
    {
     "name": "stdout",
     "output_type": "stream",
     "text": [
      "done in 137.269s\n",
      "\n",
      "Best score: 0.604\n",
      "Best parameters set:\n",
      "\tclf__estimator__alpha: 0.001\n",
      "\ttfidf__max_df: 0.01\n",
      "\ttfidf__ngram_range: (1, 2)\n",
      "\ttfidf__smooth_idf: True\n",
      "F1 score train: 0.60 F1 score test: 0.69\n",
      "silver: Performing parameter search ...\n",
      "pipeline: ['tfidf', 'clf']\n",
      "parameters:\n",
      "{'tfidf__max_df': (0.01, 0.05, 0.5, 0.75, 1.0), 'tfidf__ngram_range': ((1, 1), (1, 2)), 'tfidf__smooth_idf': (True, False), 'clf__estimator__alpha': (1e-05, 1e-06, 0.001, 0.1, 0.5, 0.8)}\n",
      "Fitting 3 folds for each of 15 candidates, totalling 45 fits\n"
     ]
    },
    {
     "name": "stderr",
     "output_type": "stream",
     "text": [
      "[Parallel(n_jobs=4)]: Done  45 out of  45 | elapsed:  1.7min finished\n"
     ]
    },
    {
     "name": "stdout",
     "output_type": "stream",
     "text": [
      "done in 108.200s\n",
      "\n",
      "Best score: 0.209\n",
      "Best parameters set:\n",
      "\tclf__estimator__alpha: 0.001\n",
      "\ttfidf__max_df: 0.05\n",
      "\ttfidf__ngram_range: (1, 2)\n",
      "\ttfidf__smooth_idf: True\n",
      "F1 score train: 0.21 F1 score test: 0.25\n",
      "sorghum: Performing parameter search ...\n",
      "pipeline: ['tfidf', 'clf']\n",
      "parameters:\n",
      "{'tfidf__max_df': (0.01, 0.05, 0.5, 0.75, 1.0), 'tfidf__ngram_range': ((1, 1), (1, 2)), 'tfidf__smooth_idf': (True, False), 'clf__estimator__alpha': (1e-05, 1e-06, 0.001, 0.1, 0.5, 0.8)}\n",
      "Fitting 3 folds for each of 15 candidates, totalling 45 fits\n"
     ]
    },
    {
     "name": "stderr",
     "output_type": "stream",
     "text": [
      "[Parallel(n_jobs=4)]: Done  45 out of  45 | elapsed:  2.0min finished\n"
     ]
    },
    {
     "name": "stdout",
     "output_type": "stream",
     "text": [
      "done in 123.616s\n",
      "\n",
      "Best score: 0.278\n",
      "Best parameters set:\n",
      "\tclf__estimator__alpha: 1e-06\n",
      "\ttfidf__max_df: 0.05\n",
      "\ttfidf__ngram_range: (1, 2)\n",
      "\ttfidf__smooth_idf: False\n",
      "F1 score train: 0.28 F1 score test: 0.53\n",
      "soy-meal: Performing parameter search ...\n",
      "pipeline: ['tfidf', 'clf']\n",
      "parameters:\n",
      "{'tfidf__max_df': (0.01, 0.05, 0.5, 0.75, 1.0), 'tfidf__ngram_range': ((1, 1), (1, 2)), 'tfidf__smooth_idf': (True, False), 'clf__estimator__alpha': (1e-05, 1e-06, 0.001, 0.1, 0.5, 0.8)}\n",
      "Fitting 3 folds for each of 15 candidates, totalling 45 fits\n"
     ]
    },
    {
     "name": "stderr",
     "output_type": "stream",
     "text": [
      "[Parallel(n_jobs=4)]: Done  45 out of  45 | elapsed:  1.9min finished\n"
     ]
    },
    {
     "name": "stdout",
     "output_type": "stream",
     "text": [
      "done in 122.348s\n",
      "\n",
      "Best score: 0.102\n",
      "Best parameters set:\n",
      "\tclf__estimator__alpha: 0.001\n",
      "\ttfidf__max_df: 0.01\n",
      "\ttfidf__ngram_range: (1, 2)\n",
      "\ttfidf__smooth_idf: True\n",
      "F1 score train: 0.10 F1 score test: 0.55\n",
      "soy-oil: Performing parameter search ...\n",
      "pipeline: ['tfidf', 'clf']\n",
      "parameters:\n",
      "{'tfidf__max_df': (0.01, 0.05, 0.5, 0.75, 1.0), 'tfidf__ngram_range': ((1, 1), (1, 2)), 'tfidf__smooth_idf': (True, False), 'clf__estimator__alpha': (1e-05, 1e-06, 0.001, 0.1, 0.5, 0.8)}\n",
      "Fitting 3 folds for each of 15 candidates, totalling 45 fits\n"
     ]
    },
    {
     "name": "stderr",
     "output_type": "stream",
     "text": [
      "[Parallel(n_jobs=4)]: Done  45 out of  45 | elapsed:  1.7min finished\n"
     ]
    },
    {
     "name": "stdout",
     "output_type": "stream",
     "text": [
      "done in 109.048s\n",
      "\n",
      "Best score: 0.143\n",
      "Best parameters set:\n",
      "\tclf__estimator__alpha: 0.001\n",
      "\ttfidf__max_df: 0.75\n",
      "\ttfidf__ngram_range: (1, 2)\n",
      "\ttfidf__smooth_idf: False\n",
      "F1 score train: 0.14 F1 score test: 0.21\n",
      "soybean: Performing parameter search ...\n",
      "pipeline: ['tfidf', 'clf']\n",
      "parameters:\n",
      "{'tfidf__max_df': (0.01, 0.05, 0.5, 0.75, 1.0), 'tfidf__ngram_range': ((1, 1), (1, 2)), 'tfidf__smooth_idf': (True, False), 'clf__estimator__alpha': (1e-05, 1e-06, 0.001, 0.1, 0.5, 0.8)}\n",
      "Fitting 3 folds for each of 15 candidates, totalling 45 fits\n"
     ]
    },
    {
     "name": "stderr",
     "output_type": "stream",
     "text": [
      "[Parallel(n_jobs=4)]: Done  45 out of  45 | elapsed:  2.2min finished\n"
     ]
    },
    {
     "name": "stdout",
     "output_type": "stream",
     "text": [
      "done in 138.784s\n",
      "\n",
      "Best score: 0.358\n",
      "Best parameters set:\n",
      "\tclf__estimator__alpha: 1e-05\n",
      "\ttfidf__max_df: 0.75\n",
      "\ttfidf__ngram_range: (1, 2)\n",
      "\ttfidf__smooth_idf: True\n",
      "F1 score train: 0.36 F1 score test: 0.52\n",
      "strategic-metal: Performing parameter search ...\n",
      "pipeline: ['tfidf', 'clf']\n",
      "parameters:\n",
      "{'tfidf__max_df': (0.01, 0.05, 0.5, 0.75, 1.0), 'tfidf__ngram_range': ((1, 1), (1, 2)), 'tfidf__smooth_idf': (True, False), 'clf__estimator__alpha': (1e-05, 1e-06, 0.001, 0.1, 0.5, 0.8)}\n",
      "Fitting 3 folds for each of 15 candidates, totalling 45 fits\n"
     ]
    },
    {
     "name": "stderr",
     "output_type": "stream",
     "text": [
      "[Parallel(n_jobs=4)]: Done  45 out of  45 | elapsed:  1.8min finished\n"
     ]
    },
    {
     "name": "stdout",
     "output_type": "stream",
     "text": [
      "done in 110.720s\n",
      "\n",
      "Best score: 0.362\n",
      "Best parameters set:\n",
      "\tclf__estimator__alpha: 1e-06\n",
      "\ttfidf__max_df: 0.75\n",
      "\ttfidf__ngram_range: (1, 1)\n",
      "\ttfidf__smooth_idf: True\n",
      "F1 score train: 0.36 F1 score test: 0.00\n",
      "sugar: Performing parameter search ...\n",
      "pipeline: ['tfidf', 'clf']\n",
      "parameters:\n",
      "{'tfidf__max_df': (0.01, 0.05, 0.5, 0.75, 1.0), 'tfidf__ngram_range': ((1, 1), (1, 2)), 'tfidf__smooth_idf': (True, False), 'clf__estimator__alpha': (1e-05, 1e-06, 0.001, 0.1, 0.5, 0.8)}\n",
      "Fitting 3 folds for each of 15 candidates, totalling 45 fits\n"
     ]
    },
    {
     "name": "stderr",
     "output_type": "stream",
     "text": [
      "[Parallel(n_jobs=4)]: Done  45 out of  45 | elapsed:  2.1min finished\n"
     ]
    },
    {
     "name": "stdout",
     "output_type": "stream",
     "text": [
      "done in 131.804s\n",
      "\n",
      "Best score: 0.634\n",
      "Best parameters set:\n",
      "\tclf__estimator__alpha: 1e-06\n",
      "\ttfidf__max_df: 0.5\n",
      "\ttfidf__ngram_range: (1, 2)\n",
      "\ttfidf__smooth_idf: True\n",
      "F1 score train: 0.63 F1 score test: 0.64\n",
      "tin: Performing parameter search ...\n",
      "pipeline: ['tfidf', 'clf']\n",
      "parameters:\n",
      "{'tfidf__max_df': (0.01, 0.05, 0.5, 0.75, 1.0), 'tfidf__ngram_range': ((1, 1), (1, 2)), 'tfidf__smooth_idf': (True, False), 'clf__estimator__alpha': (1e-05, 1e-06, 0.001, 0.1, 0.5, 0.8)}\n",
      "Fitting 3 folds for each of 15 candidates, totalling 45 fits\n"
     ]
    },
    {
     "name": "stderr",
     "output_type": "stream",
     "text": [
      "[Parallel(n_jobs=4)]: Done  45 out of  45 | elapsed:  1.9min finished\n"
     ]
    },
    {
     "name": "stdout",
     "output_type": "stream",
     "text": [
      "done in 123.352s\n",
      "\n",
      "Best score: 0.518\n",
      "Best parameters set:\n",
      "\tclf__estimator__alpha: 1e-06\n",
      "\ttfidf__max_df: 0.05\n",
      "\ttfidf__ngram_range: (1, 2)\n",
      "\ttfidf__smooth_idf: True\n",
      "F1 score train: 0.52 F1 score test: 0.00\n",
      "trade: Performing parameter search ...\n",
      "pipeline: ['tfidf', 'clf']\n",
      "parameters:\n",
      "{'tfidf__max_df': (0.01, 0.05, 0.5, 0.75, 1.0), 'tfidf__ngram_range': ((1, 1), (1, 2)), 'tfidf__smooth_idf': (True, False), 'clf__estimator__alpha': (1e-05, 1e-06, 0.001, 0.1, 0.5, 0.8)}\n",
      "Fitting 3 folds for each of 15 candidates, totalling 45 fits\n"
     ]
    },
    {
     "name": "stderr",
     "output_type": "stream",
     "text": [
      "[Parallel(n_jobs=4)]: Done  45 out of  45 | elapsed:  1.8min finished\n"
     ]
    },
    {
     "name": "stdout",
     "output_type": "stream",
     "text": [
      "done in 115.234s\n",
      "\n",
      "Best score: 0.610\n",
      "Best parameters set:\n",
      "\tclf__estimator__alpha: 0.001\n",
      "\ttfidf__max_df: 0.05\n",
      "\ttfidf__ngram_range: (1, 2)\n",
      "\ttfidf__smooth_idf: True\n",
      "F1 score train: 0.61 F1 score test: 0.48\n",
      "veg-oil: Performing parameter search ...\n",
      "pipeline: ['tfidf', 'clf']\n",
      "parameters:\n",
      "{'tfidf__max_df': (0.01, 0.05, 0.5, 0.75, 1.0), 'tfidf__ngram_range': ((1, 1), (1, 2)), 'tfidf__smooth_idf': (True, False), 'clf__estimator__alpha': (1e-05, 1e-06, 0.001, 0.1, 0.5, 0.8)}\n",
      "Fitting 3 folds for each of 15 candidates, totalling 45 fits\n"
     ]
    },
    {
     "name": "stderr",
     "output_type": "stream",
     "text": [
      "[Parallel(n_jobs=4)]: Done  45 out of  45 | elapsed:  2.1min finished\n"
     ]
    },
    {
     "name": "stdout",
     "output_type": "stream",
     "text": [
      "done in 131.142s\n",
      "\n",
      "Best score: 0.560\n",
      "Best parameters set:\n",
      "\tclf__estimator__alpha: 0.001\n",
      "\ttfidf__max_df: 0.5\n",
      "\ttfidf__ngram_range: (1, 2)\n",
      "\ttfidf__smooth_idf: False\n",
      "F1 score train: 0.56 F1 score test: 0.50\n",
      "wheat: Performing parameter search ...\n",
      "pipeline: ['tfidf', 'clf']\n",
      "parameters:\n",
      "{'tfidf__max_df': (0.01, 0.05, 0.5, 0.75, 1.0), 'tfidf__ngram_range': ((1, 1), (1, 2)), 'tfidf__smooth_idf': (True, False), 'clf__estimator__alpha': (1e-05, 1e-06, 0.001, 0.1, 0.5, 0.8)}\n",
      "Fitting 3 folds for each of 15 candidates, totalling 45 fits\n"
     ]
    },
    {
     "name": "stderr",
     "output_type": "stream",
     "text": [
      "[Parallel(n_jobs=4)]: Done  45 out of  45 | elapsed:  1.9min finished\n"
     ]
    },
    {
     "name": "stdout",
     "output_type": "stream",
     "text": [
      "done in 122.890s\n",
      "\n",
      "Best score: 0.560\n",
      "Best parameters set:\n",
      "\tclf__estimator__alpha: 0.001\n",
      "\ttfidf__max_df: 0.05\n",
      "\ttfidf__ngram_range: (1, 2)\n",
      "\ttfidf__smooth_idf: True\n",
      "F1 score train: 0.56 F1 score test: 0.61\n",
      "wpi: Performing parameter search ...\n",
      "pipeline: ['tfidf', 'clf']\n",
      "parameters:\n",
      "{'tfidf__max_df': (0.01, 0.05, 0.5, 0.75, 1.0), 'tfidf__ngram_range': ((1, 1), (1, 2)), 'tfidf__smooth_idf': (True, False), 'clf__estimator__alpha': (1e-05, 1e-06, 0.001, 0.1, 0.5, 0.8)}\n",
      "Fitting 3 folds for each of 15 candidates, totalling 45 fits\n"
     ]
    },
    {
     "name": "stderr",
     "output_type": "stream",
     "text": [
      "[Parallel(n_jobs=4)]: Done  45 out of  45 | elapsed:  1.7min finished\n"
     ]
    },
    {
     "name": "stdout",
     "output_type": "stream",
     "text": [
      "done in 109.431s\n",
      "\n",
      "Best score: 0.521\n",
      "Best parameters set:\n",
      "\tclf__estimator__alpha: 1e-05\n",
      "\ttfidf__max_df: 0.75\n",
      "\ttfidf__ngram_range: (1, 2)\n",
      "\ttfidf__smooth_idf: False\n",
      "F1 score train: 0.52 F1 score test: 0.76\n",
      "yen: Performing parameter search ...\n",
      "pipeline: ['tfidf', 'clf']\n",
      "parameters:\n",
      "{'tfidf__max_df': (0.01, 0.05, 0.5, 0.75, 1.0), 'tfidf__ngram_range': ((1, 1), (1, 2)), 'tfidf__smooth_idf': (True, False), 'clf__estimator__alpha': (1e-05, 1e-06, 0.001, 0.1, 0.5, 0.8)}\n",
      "Fitting 3 folds for each of 15 candidates, totalling 45 fits\n"
     ]
    },
    {
     "name": "stderr",
     "output_type": "stream",
     "text": [
      "[Parallel(n_jobs=4)]: Done  45 out of  45 | elapsed:  1.7min finished\n"
     ]
    },
    {
     "name": "stdout",
     "output_type": "stream",
     "text": [
      "done in 108.111s\n",
      "\n",
      "Best score: 0.261\n",
      "Best parameters set:\n",
      "\tclf__estimator__alpha: 0.001\n",
      "\ttfidf__max_df: 0.5\n",
      "\ttfidf__ngram_range: (1, 2)\n",
      "\ttfidf__smooth_idf: True\n",
      "F1 score train: 0.26 F1 score test: 0.25\n",
      "zinc: Performing parameter search ...\n",
      "pipeline: ['tfidf', 'clf']\n",
      "parameters:\n",
      "{'tfidf__max_df': (0.01, 0.05, 0.5, 0.75, 1.0), 'tfidf__ngram_range': ((1, 1), (1, 2)), 'tfidf__smooth_idf': (True, False), 'clf__estimator__alpha': (1e-05, 1e-06, 0.001, 0.1, 0.5, 0.8)}\n",
      "Fitting 3 folds for each of 15 candidates, totalling 45 fits\n"
     ]
    },
    {
     "name": "stderr",
     "output_type": "stream",
     "text": [
      "[Parallel(n_jobs=4)]: Done  45 out of  45 | elapsed:  2.2min finished\n"
     ]
    },
    {
     "name": "stdout",
     "output_type": "stream",
     "text": [
      "done in 140.923s\n",
      "\n",
      "Best score: 0.256\n",
      "Best parameters set:\n",
      "\tclf__estimator__alpha: 1e-06\n",
      "\ttfidf__max_df: 0.01\n",
      "\ttfidf__ngram_range: (1, 2)\n",
      "\ttfidf__smooth_idf: True\n",
      "F1 score train: 0.26 F1 score test: 0.13\n"
     ]
    }
   ],
   "source": [
    "NB_clf = Pipeline([\n",
    "                ('tfidf', TfidfVectorizer(stop_words=stop_words)),\n",
    "                ('clf', OneVsRestClassifier(MultinomialNB(\n",
    "                    fit_prior=False, class_prior=None))),\n",
    "            ])\n",
    "\n",
    "parameters = {\n",
    "    'tfidf__max_df': (0.01, 0.05, 0.5, 0.75, 1.0),\n",
    "    'tfidf__ngram_range': ((1, 1), (1, 2)),\n",
    "    'tfidf__smooth_idf': (True, False),\n",
    "    'clf__estimator__alpha': (0.00001, 0.000001, 0.001, 0.1, 0.5, 0.8),\n",
    "}\n",
    "\n",
    "nb_grid_results = {}\n",
    "random_search = RandomizedSearchCV(NB_clf, parameters, n_jobs=4, n_iter=15, verbose=1, scoring='f1')\n",
    "\n",
    "for category in categories_with_enough_obs:\n",
    "    print(\"{}: Performing parameter search ...\".format(category))\n",
    "    print(\"pipeline:\", [name for name, _ in NB_clf.steps])\n",
    "    print(\"parameters:\")\n",
    "    print(parameters)\n",
    "    start = time()\n",
    "    random_search.fit(X_train.txt_combined.tolist(), X_train[category])\n",
    "    print(\"done in {:0.3f}s\".format(time() - start))\n",
    "    print()\n",
    "\n",
    "    print(\"Best score: {:0.3f}\".format(random_search.best_score_))\n",
    "    params = {}\n",
    "    print(\"Best parameters set:\")\n",
    "    best_parameters = random_search.best_estimator_.get_params()\n",
    "    for param_name in sorted(parameters.keys()):\n",
    "        params[param_name] = best_parameters[param_name]\n",
    "        print(\"\\t{}: {}\".format(param_name, best_parameters[param_name]))\n",
    "    prediction = random_search.predict(X_test.txt_combined)\n",
    "    f1_value = f1_score(X_test[category], prediction)\n",
    "    nb_grid_results[category] = [random_search.best_score_, f1_value, params]\n",
    "    print('F1 score train: {:.2f} F1 score test: {:.2f}'.format(random_search.best_score_, f1_value))"
   ]
  },
  {
   "cell_type": "code",
   "execution_count": 56,
   "metadata": {},
   "outputs": [
    {
     "data": {
      "text/plain": [
       "[0.6095317372638721,\n",
       " 0.48257372654155506,\n",
       " {'clf__estimator__alpha': 0.001,\n",
       "  'tfidf__max_df': 0.05,\n",
       "  'tfidf__ngram_range': (1, 2),\n",
       "  'tfidf__smooth_idf': True}]"
      ]
     },
     "execution_count": 56,
     "metadata": {},
     "output_type": "execute_result"
    }
   ],
   "source": [
    "nb_grid_results['trade']"
   ]
  },
  {
   "cell_type": "code",
   "execution_count": null,
   "metadata": {},
   "outputs": [],
   "source": [
    "#### ToDo: parameter tuning for Multi layer perceptron\n",
    "# MP_clf = Pipeline([\n",
    "#                 ('tfidf', TfidfVectorizer(stop_words=stop_words)),\n",
    "#                 ('clf', OneVsRestClassifier(MLPClassifier(solver='lbfgs')),\n",
    "#             ])\n",
    "\n",
    "# parameters = {\n",
    "#     'tfidf__max_df': (0.01, 0.05, 0.5, 0.75, 1.0),\n",
    "#     'tfidf__ngram_range': ((1, 1), (1, 2)),\n",
    "#     'tfidf__smooth_idf': (True, False),\n",
    "#     'clf__alpha' :1e-5,\n",
    "#     'clf__hidden_layer_sizes' : [(3, 2), (4, 2), (5, 2),(7, 2), (6, 3)]\n",
    "#     'clf__tol': [1e-2, 1e-3, 1e-4, 1e-5, 1e-6],\n",
    "#     'clf__epsilon': [1e-3, 1e-7, 1e-8, 1e-9, 1e-8]\n",
    "# }\n",
    "\n",
    "#     MLPClassifier(hidden_layer_sizes=(100, ), \n",
    "#                   activation=’relu’, \n",
    "#                   solver=’adam’, \n",
    "#                   alpha=0.0001, \n",
    "#                   batch_size=’auto’, \n",
    "#                   learning_rate=’constant’, \n",
    "#                   learning_rate_init=0.001, \n",
    "#                   power_t=0.5, \n",
    "#                   max_iter=200, \n",
    "#                   shuffle=True, \n",
    "#                   random_state=None, \n",
    "#                   tol=0.0001, \n",
    "#                   verbose=False, \n",
    "#                   warm_start=False, \n",
    "#                   momentum=0.9, \n",
    "#                   nesterovs_momentum=True, \n",
    "#                   early_stopping=False, \n",
    "#                   validation_fraction=0.1, \n",
    "#                   beta_1=0.9, beta_2=0.999, epsilon=1e-08)\n",
    "\n",
    "# mp_grid_results = {}\n",
    "# random_search = RandomizedSearchCV(NB_clf, parameters, n_jobs=4, n_iter=15, verbose=1, scoring='f1')\n",
    "\n",
    "# for category in categories_with_enough_obs:\n",
    "#     print(\"{}: Performing parameter search ...\".format(category))\n",
    "#     print(\"pipeline:\", [name for name, _ in NB_clf.steps])\n",
    "#     print(\"parameters:\")\n",
    "#     print(parameters)\n",
    "#     start = time()\n",
    "#     random_search.fit(X_train.txt_combined.tolist(), X_train[category])\n",
    "#     print(\"done in {:0.3f}s\".format(time() - start))\n",
    "#     print()\n",
    "\n",
    "#     print(\"Best score: {:0.3f}\".format(random_search.best_score_))\n",
    "#     params = {}\n",
    "#     print(\"Best parameters set:\")\n",
    "#     best_parameters = random_search.best_estimator_.get_params()\n",
    "#     for param_name in sorted(parameters.keys()):\n",
    "#         params[param_name] = best_parameters[param_name]\n",
    "#         print(\"\\t{}: {}\".format(param_name, best_parameters[param_name]))\n",
    "# #     nb_grid_results[category] = [random_search.best_score_,params]\n",
    "#     prediction = random_search.predict(X_test.txt_combined)\n",
    "#     f1_value = f1_score(X_test[category], prediction)\n",
    "#     mp_grid_results[category] = [random_search.best_score_, f1_value, params]\n",
    "#     print('F1 score train: {:.2f} F1 score test: {:.2f}'.format(random_search.best_score_, f1_value))"
   ]
  },
  {
   "cell_type": "markdown",
   "metadata": {},
   "source": [
    "# Results of Tuning\n",
    "Compare F1 scores on test set before and after tuning. "
   ]
  },
  {
   "cell_type": "code",
   "execution_count": 252,
   "metadata": {},
   "outputs": [
    {
     "name": "stdout",
     "output_type": "stream",
     "text": [
      "The tuning of the linear support vector classifier improved F1 scores by 14% points.\n",
      "The tuning of the naive bayes classifier improved F1 scores by 0% points.\n",
      "The tuning of the stochastic gradient descent classifier improved F1 scores by 21% points.\n"
     ]
    }
   ],
   "source": [
    "svc_comparison = {}\n",
    "for k in svc_grid_results.keys():\n",
    "    svc_comparison[k]=[svc_scores2[k],svc_grid_results[k][1]]\n",
    "svc_df = pd.DataFrame(svc_comparison).transpose()\n",
    "svc_df.columns = ['before','after']\n",
    "svc_df['model'] = 'svc'\n",
    "print('The tuning of the linear support vector classifier improved F1 scores by {:.0%} points.'.format(svc_df.mean()[1]-svc_df.mean()[0]))\n",
    "\n",
    "nb_comparison = {}\n",
    "for k in nb_grid_results.keys():\n",
    "    nb_comparison[k]=[nb_scores[k],nb_grid_results[k][1]]\n",
    "nb_df = pd.DataFrame(nb_comparison).transpose()\n",
    "nb_df.columns = ['before','after']\n",
    "nb_df['model'] = 'nb'\n",
    "print('The tuning of the naive bayes classifier improved F1 scores by {:.0%} points.'.format(nb_df.mean()[1]-nb_df.mean()[0]))\n",
    "\n",
    "sgd_comparison = {}\n",
    "for k in sgd_grid_results.keys():\n",
    "    sgd_comparison[k]=[sgd_scores[k],sgd_grid_results[k][1]]\n",
    "sgd_df = pd.DataFrame(sgd_comparison).transpose()\n",
    "sgd_df.columns = ['before','after']\n",
    "sgd_df['model'] = 'sgd'\n",
    "print('The tuning of the stochastic gradient descent classifier improved F1 scores by {:.0%} points.'.format(sgd_df.mean()[1]-sgd_df.mean()[0]))"
   ]
  },
  {
   "cell_type": "code",
   "execution_count": 54,
   "metadata": {},
   "outputs": [
    {
     "name": "stdout",
     "output_type": "stream",
     "text": [
      "The tuning of the naive bayes classifier improved F1 scores by 40% points.\n"
     ]
    }
   ],
   "source": [
    "print('The tuning of the naive bayes classifier improved F1 scores by {:.0%} points.'.format(nb_df.mean()[1]-nb_df.mean()[0]))"
   ]
  },
  {
   "cell_type": "code",
   "execution_count": 247,
   "metadata": {},
   "outputs": [
    {
     "data": {
      "text/plain": [
       "Text(0.5,1,'Average F1 score before and after tuning stochastic gradient classifier')"
      ]
     },
     "execution_count": 247,
     "metadata": {},
     "output_type": "execute_result"
    },
    {
     "data": {
      "image/png": "[encoded data removed]",
      "text/plain": [
       "<matplotlib.figure.Figure at 0x11c324b70>"
      ]
     },
     "metadata": {},
     "output_type": "display_data"
    }
   ],
   "source": [
    "sgd_df.mean().plot('bar').set_title('Average F1 score before and after tuning stochastic gradient classifier')"
   ]
  },
  {
   "cell_type": "code",
   "execution_count": 254,
   "metadata": {},
   "outputs": [
    {
     "data": {
      "text/plain": [
       "Text(0.5,1,'Average F1 score before and after tuning support vector machine classifier')"
      ]
     },
     "execution_count": 254,
     "metadata": {},
     "output_type": "execute_result"
    },
    {
     "data": {
      "image/png": "[encoded data removed]",
      "text/plain": [
       "<matplotlib.figure.Figure at 0x12d559e10>"
      ]
     },
     "metadata": {},
     "output_type": "display_data"
    }
   ],
   "source": [
    "svc_df.mean().plot('bar').set_title('Average F1 score before and after tuning support vector machine classifier')"
   ]
  },
  {
   "cell_type": "code",
   "execution_count": 59,
   "metadata": {},
   "outputs": [
    {
     "data": {
      "text/plain": [
       "Text(0.5,1,'Average F1 score before and after tuning naive bayes classifier')"
      ]
     },
     "execution_count": 59,
     "metadata": {},
     "output_type": "execute_result"
    },
    {
     "data": {
      "image/png": "[encoded data removed]",
      "text/plain": [
       "<matplotlib.figure.Figure at 0x123a34e48>"
      ]
     },
     "metadata": {},
     "output_type": "display_data"
    }
   ],
   "source": [
    "nb_df.mean().plot('bar').set_title('Average F1 score before and after tuning naive bayes classifier')"
   ]
  }
 ],
 "metadata": {
  "kernelspec": {
   "display_name": "Python 3",
   "language": "python",
   "name": "python3"
  },
  "language_info": {
   "codemirror_mode": {
    "name": "ipython",
    "version": 3
   },
   "file_extension": ".py",
   "mimetype": "text/x-python",
   "name": "python",
   "nbconvert_exporter": "python",
   "pygments_lexer": "ipython3",
   "version": "3.6.4"
  }
 },
 "nbformat": 4,
 "nbformat_minor": 2
}
