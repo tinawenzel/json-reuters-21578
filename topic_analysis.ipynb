{
 "cells": [
  {
   "cell_type": "markdown",
   "metadata": {},
   "source": [
    "# Multiclass multi-label using the Reuters dataset\n",
    "\n",
    "\n",
    "This notebook shows how to implement document classification when each document can have multiple categories.\n",
    "\n",
    "The dataset can be found [here](https://archive.ics.uci.edu/ml/machine-learning-databases/reuters21578-mld/). \n",
    "The topics to be predicted can be found in all-topics-strings.lc.txt. \n",
    "I'm adhering to the variable 'lewissplit' to define the Train/Test split. \n",
    "\n",
    "To convert the data from sgm to json, I'm drawing on convert_sgm_to_json.py by [mihaibogdan10](https://github.com/mihaibogdan10/json-reuters-21578).\n",
    "\n",
    "I find the best model to predict topics is the linear support vector classifier, which gets an average F1 score of 51% accross 65 predicted labels, about 5% better than other models. Using a combined text column (original \"body\" + \"title\" + \"unknown_processed\") also improves the model performance by 6%.  "
   ]
  },
  {
   "cell_type": "code",
   "execution_count": 1,
   "metadata": {},
   "outputs": [],
   "source": [
    "import gzip\n",
    "import collections\n",
    "import matplotlib as plt\n",
    "%matplotlib inline\n",
    "from os import listdir\n",
    "import pandas as pd\n",
    "import numpy as np\n",
    "import json\n",
    "import nltk\n",
    "import itertools\n",
    "import re\n",
    "from time import time\n",
    "from pandas.io.json import json_normalize\n",
    "from utils import *\n",
    "\n",
    "from nltk.tokenize import word_tokenize\n",
    "from nltk.stem import WordNetLemmatizer\n",
    "from nltk.corpus import stopwords\n",
    "\n",
    "from sklearn.pipeline import Pipeline\n",
    "from sklearn.feature_extraction.text import TfidfVectorizer, CountVectorizer, TfidfTransformer\n",
    "from sklearn.model_selection import RandomizedSearchCV, GridSearchCV\n",
    "from sklearn.linear_model import SGDClassifier\n",
    "from sklearn.multiclass import OneVsRestClassifier\n",
    "from sklearn.svm import LinearSVC\n",
    "from sklearn.linear_model import LogisticRegression\n",
    "from sklearn.naive_bayes import MultinomialNB\n",
    "from sklearn.neural_network import MLPClassifier\n",
    "from sklearn.metrics import f1_score, roc_auc_score, accuracy_score, classification_report\n",
    "\n",
    "# import english stopwords\n",
    "stop_words = set(stopwords.words('english'))"
   ]
  },
  {
   "cell_type": "markdown",
   "metadata": {},
   "source": [
    "# EDA"
   ]
  },
  {
   "cell_type": "code",
   "execution_count": 2,
   "metadata": {},
   "outputs": [],
   "source": [
    "path = '/Users/twenzel/repos/topics2/json-data/'\n",
    "files = listdir(path)\n",
    "\n",
    "docs = [open_file(x, path) for x in files]\n",
    "docs = list(itertools.chain(*docs))\n",
    "docs_df = pd.DataFrame(docs)\n",
    "docs_df['topic_length'] = docs_df.topics.apply(len)\n",
    "\n",
    "# clean column \"unknown\" - as it helps classifying topics when document body is empty\n",
    "docs_df['unknown_processed'] = docs_df.unknown.apply(lambda x: x.split('BC-')[-1]).apply(lambda x: x.split('  ')[0])"
   ]
  },
  {
   "cell_type": "code",
   "execution_count": 3,
   "metadata": {},
   "outputs": [
    {
     "data": {
      "text/html": [
       "<div>\n",
       "<style scoped>\n",
       "    .dataframe tbody tr th:only-of-type {\n",
       "        vertical-align: middle;\n",
       "    }\n",
       "\n",
       "    .dataframe tbody tr th {\n",
       "        vertical-align: top;\n",
       "    }\n",
       "\n",
       "    .dataframe thead th {\n",
       "        text-align: right;\n",
       "    }\n",
       "</style>\n",
       "<table border=\"1\" class=\"dataframe\">\n",
       "  <thead>\n",
       "    <tr style=\"text-align: right;\">\n",
       "      <th></th>\n",
       "      <th>attrs</th>\n",
       "      <th>body</th>\n",
       "      <th>companies</th>\n",
       "      <th>date</th>\n",
       "      <th>dateline</th>\n",
       "      <th>exchanges</th>\n",
       "      <th>orgs</th>\n",
       "      <th>places</th>\n",
       "      <th>title</th>\n",
       "      <th>topics</th>\n",
       "      <th>unknown</th>\n",
       "      <th>topic_length</th>\n",
       "      <th>unknown_processed</th>\n",
       "    </tr>\n",
       "  </thead>\n",
       "  <tbody>\n",
       "    <tr>\n",
       "      <th>0</th>\n",
       "      <td>{'cgisplit': 'TRAINING-SET', 'lewissplit': 'TR...</td>\n",
       "      <td>The Bank of England said it forecast a\\nshorta...</td>\n",
       "      <td>[]</td>\n",
       "      <td>9-MAR-1987 04:58:41.12</td>\n",
       "      <td>LONDON, March 9 -</td>\n",
       "      <td>[]</td>\n",
       "      <td>[]</td>\n",
       "      <td>[uk]</td>\n",
       "      <td>U.K. MONEY MARKET SHORTAGE FORECAST AT 250 MLN...</td>\n",
       "      <td>[money-fx]</td>\n",
       "      <td>&amp;#5;&amp;#5;&amp;#5;RM\\n&amp;#22;&amp;#22;&amp;#1;f0416&amp;#31;reute\\...</td>\n",
       "      <td>1</td>\n",
       "      <td>U.K.-MONEY-MARKET-SHO</td>\n",
       "    </tr>\n",
       "    <tr>\n",
       "      <th>1</th>\n",
       "      <td>{'cgisplit': 'TRAINING-SET', 'lewissplit': 'TR...</td>\n",
       "      <td>The Bank of France said it invited offers\\nof ...</td>\n",
       "      <td>[]</td>\n",
       "      <td>9-MAR-1987 05:03:09.75</td>\n",
       "      <td>PARIS, March 9 -</td>\n",
       "      <td>[]</td>\n",
       "      <td>[]</td>\n",
       "      <td>[france]</td>\n",
       "      <td>BANK OF FRANCE SETS MONEY MARKET TENDER</td>\n",
       "      <td>[money-fx, interest]</td>\n",
       "      <td>&amp;#5;&amp;#5;&amp;#5;RM\\n&amp;#22;&amp;#22;&amp;#1;f0423&amp;#31;reute\\...</td>\n",
       "      <td>2</td>\n",
       "      <td>BANK-OF-FRANCE-SETS-M</td>\n",
       "    </tr>\n",
       "    <tr>\n",
       "      <th>2</th>\n",
       "      <td>{'cgisplit': 'TRAINING-SET', 'lewissplit': 'TR...</td>\n",
       "      <td>The U.S. &amp;lt;Amoco Petroleum Corp&gt; has\\nreport...</td>\n",
       "      <td>[]</td>\n",
       "      <td>9-MAR-1987 05:03:38.51</td>\n",
       "      <td>PEKING, March 9 -</td>\n",
       "      <td>[]</td>\n",
       "      <td>[]</td>\n",
       "      <td>[china]</td>\n",
       "      <td>AMOCO REPORTS SOUTH CHINA SEA OIL FIND</td>\n",
       "      <td>[crude]</td>\n",
       "      <td>&amp;#5;&amp;#5;&amp;#5;F\\n&amp;#22;&amp;#22;&amp;#1;f0426&amp;#31;reute\\n...</td>\n",
       "      <td>1</td>\n",
       "      <td>AMOCO-REPORTS-SOUTH-C</td>\n",
       "    </tr>\n",
       "    <tr>\n",
       "      <th>3</th>\n",
       "      <td>{'cgisplit': 'TRAINING-SET', 'lewissplit': 'TR...</td>\n",
       "      <td>Technology transfer problems have delayed\\nthe...</td>\n",
       "      <td>[]</td>\n",
       "      <td>9-MAR-1987 05:12:17.12</td>\n",
       "      <td>SEOUL, March 9 -</td>\n",
       "      <td>[]</td>\n",
       "      <td>[]</td>\n",
       "      <td>[south-korea]</td>\n",
       "      <td>SOUTH KOREA DELAYS CONTRACT FOR NUCLEAR PLANTS</td>\n",
       "      <td>[]</td>\n",
       "      <td>&amp;#5;&amp;#5;&amp;#5;F\\n&amp;#22;&amp;#22;&amp;#1;f0437&amp;#31;reute\\n...</td>\n",
       "      <td>0</td>\n",
       "      <td>SOUTH-KOREA-DELAYS-CO</td>\n",
       "    </tr>\n",
       "    <tr>\n",
       "      <th>4</th>\n",
       "      <td>{'cgisplit': 'TRAINING-SET', 'lewissplit': 'TR...</td>\n",
       "      <td>Keiaisha Co Ltd of Tokyo is issuing 12\\nmln Sw...</td>\n",
       "      <td>[]</td>\n",
       "      <td>9-MAR-1987 05:19:27.56</td>\n",
       "      <td>ZURICH, March 9 -</td>\n",
       "      <td>[]</td>\n",
       "      <td>[]</td>\n",
       "      <td>[switzerland]</td>\n",
       "      <td>KEIAISHA ISSUING 12 MLN SWISS FRANC NOTES</td>\n",
       "      <td>[]</td>\n",
       "      <td>&amp;#5;&amp;#5;&amp;#5;RM\\n&amp;#22;&amp;#22;&amp;#1;f0442&amp;#31;reute\\...</td>\n",
       "      <td>0</td>\n",
       "      <td>KEIAISHA-ISSUING-12-M</td>\n",
       "    </tr>\n",
       "  </tbody>\n",
       "</table>\n",
       "</div>"
      ],
      "text/plain": [
       "                                               attrs  \\\n",
       "0  {'cgisplit': 'TRAINING-SET', 'lewissplit': 'TR...   \n",
       "1  {'cgisplit': 'TRAINING-SET', 'lewissplit': 'TR...   \n",
       "2  {'cgisplit': 'TRAINING-SET', 'lewissplit': 'TR...   \n",
       "3  {'cgisplit': 'TRAINING-SET', 'lewissplit': 'TR...   \n",
       "4  {'cgisplit': 'TRAINING-SET', 'lewissplit': 'TR...   \n",
       "\n",
       "                                                body companies  \\\n",
       "0  The Bank of England said it forecast a\\nshorta...        []   \n",
       "1  The Bank of France said it invited offers\\nof ...        []   \n",
       "2  The U.S. &lt;Amoco Petroleum Corp> has\\nreport...        []   \n",
       "3  Technology transfer problems have delayed\\nthe...        []   \n",
       "4  Keiaisha Co Ltd of Tokyo is issuing 12\\nmln Sw...        []   \n",
       "\n",
       "                     date           dateline exchanges orgs         places  \\\n",
       "0  9-MAR-1987 04:58:41.12  LONDON, March 9 -        []   []           [uk]   \n",
       "1  9-MAR-1987 05:03:09.75   PARIS, March 9 -        []   []       [france]   \n",
       "2  9-MAR-1987 05:03:38.51  PEKING, March 9 -        []   []        [china]   \n",
       "3  9-MAR-1987 05:12:17.12   SEOUL, March 9 -        []   []  [south-korea]   \n",
       "4  9-MAR-1987 05:19:27.56  ZURICH, March 9 -        []   []  [switzerland]   \n",
       "\n",
       "                                               title                topics  \\\n",
       "0  U.K. MONEY MARKET SHORTAGE FORECAST AT 250 MLN...            [money-fx]   \n",
       "1            BANK OF FRANCE SETS MONEY MARKET TENDER  [money-fx, interest]   \n",
       "2             AMOCO REPORTS SOUTH CHINA SEA OIL FIND               [crude]   \n",
       "3     SOUTH KOREA DELAYS CONTRACT FOR NUCLEAR PLANTS                    []   \n",
       "4          KEIAISHA ISSUING 12 MLN SWISS FRANC NOTES                    []   \n",
       "\n",
       "                                             unknown  topic_length  \\\n",
       "0  &#5;&#5;&#5;RM\\n&#22;&#22;&#1;f0416&#31;reute\\...             1   \n",
       "1  &#5;&#5;&#5;RM\\n&#22;&#22;&#1;f0423&#31;reute\\...             2   \n",
       "2  &#5;&#5;&#5;F\\n&#22;&#22;&#1;f0426&#31;reute\\n...             1   \n",
       "3  &#5;&#5;&#5;F\\n&#22;&#22;&#1;f0437&#31;reute\\n...             0   \n",
       "4  &#5;&#5;&#5;RM\\n&#22;&#22;&#1;f0442&#31;reute\\...             0   \n",
       "\n",
       "       unknown_processed  \n",
       "0  U.K.-MONEY-MARKET-SHO  \n",
       "1  BANK-OF-FRANCE-SETS-M  \n",
       "2  AMOCO-REPORTS-SOUTH-C  \n",
       "3  SOUTH-KOREA-DELAYS-CO  \n",
       "4  KEIAISHA-ISSUING-12-M  "
      ]
     },
     "execution_count": 3,
     "metadata": {},
     "output_type": "execute_result"
    }
   ],
   "source": [
    "# analyse the category usage\n",
    "docs_df.head()"
   ]
  },
  {
   "cell_type": "code",
   "execution_count": 4,
   "metadata": {},
   "outputs": [
    {
     "name": "stdout",
     "output_type": "stream",
     "text": [
      "['alum', 'austdlr', 'austral', 'barley', 'bfr', 'bop', 'can', 'carcass', 'castor-meal', 'castor-oil', 'castorseed', 'citruspulp', 'cocoa', 'coconut', 'coconut-oil', 'coffee', 'copper', 'copra-cake', 'corn', 'corn-oil', 'cornglutenfeed', 'cotton ', 'cotton-meal', 'cotton-oil', 'cottonseed', 'cpi', 'cpu', 'crude', 'cruzado', 'dfl', 'dkr', 'dlr', 'dmk', 'drachma', 'earn', 'escudo', 'f-cattle', 'ffr', 'fishmeal', 'flaxseed', 'fuel', 'gas', 'gnp', 'gold', 'grain', 'groundnut', 'groundnut-meal', 'groundnut-oil', 'heat', 'hk', 'hog', 'housing', 'income', 'instal-debt', 'interest', 'inventories', 'ipi', 'iron-steel', 'jet', 'jobs', 'l-cattle', 'lead', 'lei', 'lin-meal', 'lin-oil', 'linseed', 'lit', 'livestock', 'lumber', 'lupin', 'meal-feed', 'mexpeso', 'money-fx', 'money-supply', 'naphtha     ', 'nat-gas', 'nickel', 'nkr', 'nzdlr', 'oat', 'oilseed', 'orange', 'palladium', 'palm-meal', 'palm-oil', 'palmkernel', 'peseta', 'pet-chem', 'platinum', 'plywood', 'pork-belly', 'potato', 'propane', 'rand', 'rape-meal', 'rape-oil', 'rapeseed', 'red-bean', 'reserves', 'retail', 'rice', 'ringgit', 'rubber', 'rupiah', 'rye', 'saudriyal', 'sfr', 'ship', 'silk', 'silver', 'singdlr', 'skr', 'sorghum', 'soy-meal', 'soy-oil', 'soybean', 'stg', 'strategic-metal', 'sugar', 'sun-meal', 'sun-oil', 'sunseed', 'tapioca', 'tea', 'tin', 'trade', 'tung', 'tung-oil', 'veg-oil', 'wheat', 'wool', 'wpi', 'yen', 'zinc']\n"
     ]
    }
   ],
   "source": [
    "# Look at unique topics\n",
    "topic_path = '/Users/twenzel/repos/topics2/other-data/all-topics-strings.lc.txt'\n",
    "topics = pd.read_csv(topic_path).acq.tolist()\n",
    "print(topics)"
   ]
  },
  {
   "cell_type": "code",
   "execution_count": 5,
   "metadata": {},
   "outputs": [
    {
     "name": "stdout",
     "output_type": "stream",
     "text": [
      "<bound method Counter.most_common of Counter({'earn': 3987, 'acq': 2448, 'money-fx': 801, 'crude': 634, 'grain': 628, 'trade': 552, 'interest': 513, 'wheat': 306, 'ship': 305, 'corn': 254, 'dlr': 217, 'oilseed': 192, 'money-supply': 190, 'sugar': 184, 'gnp': 163, 'coffee': 145, 'veg-oil': 137, 'gold': 135, 'nat-gas': 130, 'soybean': 120, 'bop': 116, 'livestock': 114, 'cpi': 112, 'reserves': 84, 'copper': 78, 'jobs': 76, 'cocoa': 76, 'carcass': 75, 'yen': 69, 'rice': 67, 'iron-steel': 67, 'gas': 65, 'ipi': 65, 'alum': 63, 'cotton': 63, 'barley': 54, 'meal-feed': 51, 'rubber': 51, 'zinc': 44, 'palm-oil': 43, 'pet-chem': 41, 'silver': 37, 'rapeseed': 35, 'lead': 35, 'sorghum': 35, 'tin': 33, 'strategic-metal': 32, 'wpi': 32, 'orange': 29, 'fuel': 28, 'hog': 27, 'soy-meal': 27, 'retail': 27, 'heat': 25, 'soy-oil': 25, 'housing': 21, 'stg': 21, 'income': 18, 'lei': 17, 'lumber': 17, 'sunseed': 17, 'dmk': 15, 'tea': 15, 'oat': 14, 'platinum': 12, 'nickel': 11, 'groundnut': 10, 'l-cattle': 9, 'sun-oil': 8, 'rape-oil': 8, 'jet': 8, 'instal-debt': 7, 'coconut-oil': 7, 'naphtha': 7, 'inventories': 7, 'potato': 6, 'propane': 6, 'coconut': 6, 'plywood': 4, 'nzdlr': 4, 'tapioca': 4, 'cpu': 4, 'austdlr': 4, 'pork-belly': 4, 'dfl': 3, 'can': 3, 'palladium': 3, 'cotton-oil': 3, 'nkr': 3, 'sfr': 3, 'saudriyal': 3, 'rand': 3, 'palmkernel': 3, 'lit': 3, 'f-cattle': 3, 'copra-cake': 3, 'fishmeal': 2, 'sun-meal': 2, 'lin-oil': 2, 'groundnut-oil': 2, 'rye': 2, 'castor-oil': 2, 'cornglutenfeed': 2, 'linseed': 2, 'wool': 2, 'corn-oil': 1, 'cruzado': 1, 'peseta': 1, 'lin-meal': 1, 'ringgit': 1, 'skr': 1, 'dkr': 1, 'castorseed': 1, 'rupiah': 1, 'hk': 1, 'red-bean': 1, 'citruspulp': 1, 'rape-meal': 1, 'cottonseed': 1, 'bfr': 1})>\n"
     ]
    }
   ],
   "source": [
    "# Count frequency of topics used\n",
    "cats_combo = list(itertools.chain(*docs_df.topics.tolist()))\n",
    "counter=collections.Counter(cats_combo)\n",
    "print(counter.most_common)"
   ]
  },
  {
   "cell_type": "markdown",
   "metadata": {},
   "source": [
    "We see a lot of topics appear only ones. In the training, we will need to subset on the topics that appear at least a few times in the training set. More observations for these topics has to be collected to make meaningful predictions for these cases."
   ]
  },
  {
   "cell_type": "markdown",
   "metadata": {},
   "source": [
    "# Labels \n",
    "\n",
    "What are the most common labels?"
   ]
  },
  {
   "cell_type": "code",
   "execution_count": 6,
   "metadata": {},
   "outputs": [
    {
     "data": {
      "text/plain": [
       "<matplotlib.axes._subplots.AxesSubplot at 0x11b3f4a20>"
      ]
     },
     "execution_count": 6,
     "metadata": {},
     "output_type": "execute_result"
    },
    {
     "data": {
      "image/png": "[encoded data removed]",
      "text/plain": [
       "<matplotlib.figure.Figure at 0x11b3ef4e0>"
      ]
     },
     "metadata": {},
     "output_type": "display_data"
    }
   ],
   "source": [
    "# plot topic frequencies\n",
    "cat_df = pd.DataFrame.from_dict(counter, orient='index').reset_index()\n",
    "cat_df.columns=['category', 'number_of_occurrences']\n",
    "cat_df.sort_values(by = ['number_of_occurrences'], ascending=False, inplace=True)\n",
    "\n",
    "cat_df.head(15).plot(x='category', \n",
    "                     y='number_of_occurrences', \n",
    "                     kind='bar', \n",
    "                     legend=False, \n",
    "                     grid=True, \n",
    "                     figsize=(15, 5), \n",
    "                     fontsize = 14,\n",
    "                     title=\"Top 15 topics- number of occurrences per category\")"
   ]
  },
  {
   "cell_type": "code",
   "execution_count": 7,
   "metadata": {},
   "outputs": [],
   "source": [
    "# from sklearn.preprocessing import MultiLabelBinarizer\n",
    "# label_matrix = MultiLabelBinarizer().fit_transform(docs_df.topics)"
   ]
  },
  {
   "cell_type": "markdown",
   "metadata": {},
   "source": [
    "# Multilabel \n",
    "\n",
    "How many articles have several labels?"
   ]
  },
  {
   "cell_type": "code",
   "execution_count": 8,
   "metadata": {},
   "outputs": [
    {
     "name": "stdout",
     "output_type": "stream",
     "text": [
      "47% of documents are not labelled.\n"
     ]
    },
    {
     "data": {
      "image/png": "[encoded data removed]",
      "text/plain": [
       "<matplotlib.figure.Figure at 0x11a8bf128>"
      ]
     },
     "metadata": {},
     "output_type": "display_data"
    }
   ],
   "source": [
    "label_count_df = docs_df.topic_length.value_counts().reset_index()\n",
    "label_count_df.columns = ['number_of_topics','number_of_occurrences']\n",
    "\n",
    "label_count_df.plot(x='number_of_topics', \n",
    "                     y='number_of_occurrences', \n",
    "                     kind='bar', \n",
    "                     legend=False, \n",
    "                     grid=True, \n",
    "                     figsize=(15, 5), \n",
    "                     fontsize = 14,\n",
    "                     title=\"How many documents have several categories per document?\")\n",
    "print('{:.2g}% of documents are not labelled.'.format(100*(docs_df[docs_df.topic_length==0].shape[0]/docs_df.shape[0])))"
   ]
  },
  {
   "cell_type": "code",
   "execution_count": 9,
   "metadata": {},
   "outputs": [],
   "source": [
    "# Create dummies for each label - binary matrix over multiple labels\n",
    "cat_df = pd.get_dummies(docs_df.topics.apply(pd.Series).stack()).sum(level=0)\n",
    "# replace all 2s with 1\n",
    "cat_df.replace(to_replace=2, value=1, inplace=True)\n",
    "# combine \n",
    "docs_df = pd.concat([docs_df, cat_df], axis=1, join_axes=[docs_df.index]).fillna(0)\n",
    "\n",
    "# Create attributes df\n",
    "attr = pd.DataFrame()\n",
    "for n in range(len(docs)):\n",
    "    attr = attr.append(json_normalize(docs[n]['attrs']))\n",
    "attr = attr.reset_index().drop('index',axis=1)\n",
    "attr.drop('topics',axis=1, inplace=True)\n",
    "\n",
    "# combine dfs\n",
    "docs_df = pd.concat([docs_df, attr], axis=1, join_axes=[docs_df.index]).fillna(0)"
   ]
  },
  {
   "cell_type": "markdown",
   "metadata": {},
   "source": [
    "# Length of documents"
   ]
  },
  {
   "cell_type": "code",
   "execution_count": 25,
   "metadata": {},
   "outputs": [
    {
     "name": "stdout",
     "output_type": "stream",
     "text": [
      "Number of missing comments in comment text:{} 0\n",
      "Most documents contain less than 508 characters. The longest document contains 13400 characters.\n"
     ]
    },
    {
     "data": {
      "image/png": "[encoded data removed]",
      "text/plain": [
       "<matplotlib.figure.Figure at 0x11fbcf438>"
      ]
     },
     "metadata": {},
     "output_type": "display_data"
    }
   ],
   "source": [
    "lens = docs_df.body.str.len()\n",
    "\n",
    "print('Number of missing comments in comment text:{}',format(docs_df['body'].isnull().sum()))\n",
    "\n",
    "lens.hist(bins = np.arange(0,5000,50))\n",
    "print('Most documents contain less than {} characters. The longest document contains {} characters.'\n",
    "      .format(int(docs_df.body.str.len().median()),\n",
    "              int(docs_df.body.str.len().max()))\n",
    "     )"
   ]
  },
  {
   "cell_type": "code",
   "execution_count": 26,
   "metadata": {},
   "outputs": [
    {
     "data": {
      "text/plain": [
       "'We also see a large number of documents w/o any text: 2535'"
      ]
     },
     "execution_count": 26,
     "metadata": {},
     "output_type": "execute_result"
    }
   ],
   "source": [
    "'We also see a large number of documents w/o any text: {}'.format(docs_df[docs_df.body.str.len()==0].shape[0])"
   ]
  },
  {
   "cell_type": "code",
   "execution_count": 27,
   "metadata": {},
   "outputs": [
    {
     "name": "stdout",
     "output_type": "stream",
     "text": [
      "They are still allocated to training & test group as the below shows:\n"
     ]
    },
    {
     "data": {
      "text/plain": [
       "TRAIN       1803\n",
       "TEST         730\n",
       "NOT-USED       2\n",
       "Name: lewissplit, dtype: int64"
      ]
     },
     "execution_count": 27,
     "metadata": {},
     "output_type": "execute_result"
    }
   ],
   "source": [
    "print('They are still allocated to training & test group as the below shows:')\n",
    "docs_df[docs_df.body.str.len()==0].lewissplit.value_counts()"
   ]
  },
  {
   "cell_type": "code",
   "execution_count": 28,
   "metadata": {},
   "outputs": [
    {
     "name": "stdout",
     "output_type": "stream",
     "text": [
      "If the body is missing, the title and unknown field can be used to predict labels.\n"
     ]
    },
    {
     "data": {
      "text/html": [
       "<div>\n",
       "<style scoped>\n",
       "    .dataframe tbody tr th:only-of-type {\n",
       "        vertical-align: middle;\n",
       "    }\n",
       "\n",
       "    .dataframe tbody tr th {\n",
       "        vertical-align: top;\n",
       "    }\n",
       "\n",
       "    .dataframe thead th {\n",
       "        text-align: right;\n",
       "    }\n",
       "</style>\n",
       "<table border=\"1\" class=\"dataframe\">\n",
       "  <thead>\n",
       "    <tr style=\"text-align: right;\">\n",
       "      <th></th>\n",
       "      <th>title</th>\n",
       "      <th>unknown_processed</th>\n",
       "      <th>topics</th>\n",
       "    </tr>\n",
       "  </thead>\n",
       "  <tbody>\n",
       "    <tr>\n",
       "      <th>5</th>\n",
       "      <td>NATIONAL WESTMINSTER BANK SAYS IT CUTTING BASE...</td>\n",
       "      <td>NATIONAL-WESTMINSTER</td>\n",
       "      <td>[interest]</td>\n",
       "    </tr>\n",
       "    <tr>\n",
       "      <th>34</th>\n",
       "      <td>Chrysler to take over Renault stake in America...</td>\n",
       "      <td>Chrysler-to-take-over</td>\n",
       "      <td>[acq]</td>\n",
       "    </tr>\n",
       "    <tr>\n",
       "      <th>36</th>\n",
       "      <td>SOUTHERN CO TO TAKE 226 MLN DLR CHARGE ON PROJ...</td>\n",
       "      <td>******southern-co-to</td>\n",
       "      <td>[earn]</td>\n",
       "    </tr>\n",
       "    <tr>\n",
       "      <th>40</th>\n",
       "      <td>GENCORP TO SELL LOS ANGELES TELEVISION STATION...</td>\n",
       "      <td>******GENCORP-TO-SELL</td>\n",
       "      <td>[acq]</td>\n",
       "    </tr>\n",
       "    <tr>\n",
       "      <th>48</th>\n",
       "      <td>FRENCH JAN M-3 MONEY SUPPLY ROSE PROV ADJUSTED...</td>\n",
       "      <td>FRENCH-JAN-M-3-MONEY</td>\n",
       "      <td>[money-supply]</td>\n",
       "    </tr>\n",
       "  </tbody>\n",
       "</table>\n",
       "</div>"
      ],
      "text/plain": [
       "                                                title      unknown_processed  \\\n",
       "5   NATIONAL WESTMINSTER BANK SAYS IT CUTTING BASE...   NATIONAL-WESTMINSTER   \n",
       "34  Chrysler to take over Renault stake in America...  Chrysler-to-take-over   \n",
       "36  SOUTHERN CO TO TAKE 226 MLN DLR CHARGE ON PROJ...   ******southern-co-to   \n",
       "40  GENCORP TO SELL LOS ANGELES TELEVISION STATION...  ******GENCORP-TO-SELL   \n",
       "48  FRENCH JAN M-3 MONEY SUPPLY ROSE PROV ADJUSTED...   FRENCH-JAN-M-3-MONEY   \n",
       "\n",
       "            topics  \n",
       "5       [interest]  \n",
       "34           [acq]  \n",
       "36          [earn]  \n",
       "40           [acq]  \n",
       "48  [money-supply]  "
      ]
     },
     "execution_count": 28,
     "metadata": {},
     "output_type": "execute_result"
    }
   ],
   "source": [
    "print('If the body is missing, the title and unknown field can be used to predict labels.')\n",
    "docs_df[docs_df.body.str.len()==0][['title','unknown_processed','topics']].head()"
   ]
  },
  {
   "cell_type": "code",
   "execution_count": 29,
   "metadata": {},
   "outputs": [
    {
     "data": {
      "text/html": [
       "<div>\n",
       "<style scoped>\n",
       "    .dataframe tbody tr th:only-of-type {\n",
       "        vertical-align: middle;\n",
       "    }\n",
       "\n",
       "    .dataframe tbody tr th {\n",
       "        vertical-align: top;\n",
       "    }\n",
       "\n",
       "    .dataframe thead th {\n",
       "        text-align: right;\n",
       "    }\n",
       "</style>\n",
       "<table border=\"1\" class=\"dataframe\">\n",
       "  <thead>\n",
       "    <tr style=\"text-align: right;\">\n",
       "      <th></th>\n",
       "      <th>newid</th>\n",
       "      <th>unknown_processed</th>\n",
       "      <th>title</th>\n",
       "      <th>body</th>\n",
       "      <th>topics</th>\n",
       "      <th>lewissplit</th>\n",
       "    </tr>\n",
       "  </thead>\n",
       "  <tbody>\n",
       "    <tr>\n",
       "      <th>9792</th>\n",
       "      <td>12793</td>\n",
       "      <td></td>\n",
       "      <td></td>\n",
       "      <td></td>\n",
       "      <td>[]</td>\n",
       "      <td>TRAIN</td>\n",
       "    </tr>\n",
       "  </tbody>\n",
       "</table>\n",
       "</div>"
      ],
      "text/plain": [
       "      newid unknown_processed title body topics lewissplit\n",
       "9792  12793                                  []      TRAIN"
      ]
     },
     "execution_count": 29,
     "metadata": {},
     "output_type": "execute_result"
    }
   ],
   "source": [
    "# 1 document is w/o body, title and unknown field. We will exclude it from Training.\n",
    "docs_df[(docs_df.body.str.len()==0) & (docs_df.title.str.len()==0) & (docs_df.unknown_processed.str.len()==0)][['newid','unknown_processed','title','body','topics','lewissplit' ]]"
   ]
  },
  {
   "cell_type": "code",
   "execution_count": 10,
   "metadata": {},
   "outputs": [],
   "source": [
    "docs_df['body'] = docs_df.body.apply(lambda x: clean_text(x))\n",
    "docs_df['unknown_processed'] = docs_df.unknown_processed.apply(lambda x: clean_text(x))\n",
    "docs_df['unknown_processed'].head()\n",
    "\n",
    "# Create additional text variable containing body, title & unknown_processed combined. This should help classifying documents where one of the fields, e.g. body is missing.\n",
    "docs_df['txt_combined'] = docs_df['body'] + ' ' + docs_df['title'] + ' ' + docs_df['unknown_processed']"
   ]
  },
  {
   "cell_type": "code",
   "execution_count": 11,
   "metadata": {},
   "outputs": [
    {
     "data": {
      "text/html": [
       "<div>\n",
       "<style scoped>\n",
       "    .dataframe tbody tr th:only-of-type {\n",
       "        vertical-align: middle;\n",
       "    }\n",
       "\n",
       "    .dataframe tbody tr th {\n",
       "        vertical-align: top;\n",
       "    }\n",
       "\n",
       "    .dataframe thead th {\n",
       "        text-align: right;\n",
       "    }\n",
       "</style>\n",
       "<table border=\"1\" class=\"dataframe\">\n",
       "  <thead>\n",
       "    <tr style=\"text-align: right;\">\n",
       "      <th></th>\n",
       "      <th>newid</th>\n",
       "      <th>unknown_processed</th>\n",
       "      <th>title</th>\n",
       "      <th>body</th>\n",
       "      <th>topics</th>\n",
       "      <th>txt_combined</th>\n",
       "      <th>lewissplit</th>\n",
       "    </tr>\n",
       "  </thead>\n",
       "  <tbody>\n",
       "    <tr>\n",
       "      <th>21573</th>\n",
       "      <td>16996</td>\n",
       "      <td>state of n j in   m</td>\n",
       "      <td>STATE OF N.J. IN 43 MLN DLR PROGRAM STOCK SALE</td>\n",
       "      <td>the state of new jersey said that it sold   st...</td>\n",
       "      <td>[]</td>\n",
       "      <td>the state of new jersey said that it sold   st...</td>\n",
       "      <td>NOT-USED</td>\n",
       "    </tr>\n",
       "    <tr>\n",
       "      <th>21574</th>\n",
       "      <td>16997</td>\n",
       "      <td>du pont lt dd conoco</td>\n",
       "      <td>DU PONT'S &amp;lt;DD&gt; CONOCO FINDS OIL OFFSHORE CONGO</td>\n",
       "      <td>du pont co conoco inc said the viodo marine nu...</td>\n",
       "      <td>[crude]</td>\n",
       "      <td>du pont co conoco inc said the viodo marine nu...</td>\n",
       "      <td>NOT-USED</td>\n",
       "    </tr>\n",
       "    <tr>\n",
       "      <th>21575</th>\n",
       "      <td>16998</td>\n",
       "      <td>falconbridge lt falcf o</td>\n",
       "      <td>FALCONBRIDGE &amp;lt;FALCF.O&gt; SEES IMPROVED RESULTS</td>\n",
       "      <td>falconbridge ltd said it expected results for ...</td>\n",
       "      <td>[nickel, acq]</td>\n",
       "      <td>falconbridge ltd said it expected results for ...</td>\n",
       "      <td>NOT-USED</td>\n",
       "    </tr>\n",
       "    <tr>\n",
       "      <th>21576</th>\n",
       "      <td>16999</td>\n",
       "      <td>symbol technologies lt</td>\n",
       "      <td>SYMBOL TECHNOLOGIES &amp;lt;SMBL.O&gt; FILES SHARE OFFER</td>\n",
       "      <td>symbol technologies inc said it filed with the...</td>\n",
       "      <td>[]</td>\n",
       "      <td>symbol technologies inc said it filed with the...</td>\n",
       "      <td>NOT-USED</td>\n",
       "    </tr>\n",
       "    <tr>\n",
       "      <th>21577</th>\n",
       "      <td>17000</td>\n",
       "      <td>transcanada lt trp den</td>\n",
       "      <td>TRANSCANADA &amp;lt;TRP&gt; DENIES REPORTS OF NEW BID</td>\n",
       "      <td>transcanada pipelines ltd denied reports that ...</td>\n",
       "      <td>[acq]</td>\n",
       "      <td>transcanada pipelines ltd denied reports that ...</td>\n",
       "      <td>NOT-USED</td>\n",
       "    </tr>\n",
       "  </tbody>\n",
       "</table>\n",
       "</div>"
      ],
      "text/plain": [
       "       newid        unknown_processed  \\\n",
       "21573  16996      state of n j in   m   \n",
       "21574  16997     du pont lt dd conoco   \n",
       "21575  16998  falconbridge lt falcf o   \n",
       "21576  16999   symbol technologies lt   \n",
       "21577  17000   transcanada lt trp den   \n",
       "\n",
       "                                                   title  \\\n",
       "21573     STATE OF N.J. IN 43 MLN DLR PROGRAM STOCK SALE   \n",
       "21574  DU PONT'S &lt;DD> CONOCO FINDS OIL OFFSHORE CONGO   \n",
       "21575    FALCONBRIDGE &lt;FALCF.O> SEES IMPROVED RESULTS   \n",
       "21576  SYMBOL TECHNOLOGIES &lt;SMBL.O> FILES SHARE OFFER   \n",
       "21577     TRANSCANADA &lt;TRP> DENIES REPORTS OF NEW BID   \n",
       "\n",
       "                                                    body         topics  \\\n",
       "21573  the state of new jersey said that it sold   st...             []   \n",
       "21574  du pont co conoco inc said the viodo marine nu...        [crude]   \n",
       "21575  falconbridge ltd said it expected results for ...  [nickel, acq]   \n",
       "21576  symbol technologies inc said it filed with the...             []   \n",
       "21577  transcanada pipelines ltd denied reports that ...          [acq]   \n",
       "\n",
       "                                            txt_combined lewissplit  \n",
       "21573  the state of new jersey said that it sold   st...   NOT-USED  \n",
       "21574  du pont co conoco inc said the viodo marine nu...   NOT-USED  \n",
       "21575  falconbridge ltd said it expected results for ...   NOT-USED  \n",
       "21576  symbol technologies inc said it filed with the...   NOT-USED  \n",
       "21577  transcanada pipelines ltd denied reports that ...   NOT-USED  "
      ]
     },
     "execution_count": 11,
     "metadata": {},
     "output_type": "execute_result"
    }
   ],
   "source": [
    "docs_df[['newid','unknown_processed','title','body','topics','txt_combined','lewissplit' ]].tail()"
   ]
  },
  {
   "cell_type": "markdown",
   "metadata": {},
   "source": [
    "# Train test split"
   ]
  },
  {
   "cell_type": "code",
   "execution_count": 12,
   "metadata": {},
   "outputs": [
    {
     "name": "stdout",
     "output_type": "stream",
     "text": [
      "Some topics only occur once or twice. To ensures that we can calculate model performance metrics, we will use only 56/120 topics for prediction.  (In practice, a much higher threshold should be set, e.g. 20 times to train a classifier for a label.)\n"
     ]
    }
   ],
   "source": [
    "X_train = docs_df[(docs_df.lewissplit=='TRAIN') & (docs_df.newid !=12793)]\n",
    "X_test = docs_df[(docs_df.lewissplit=='TEST')].drop('topics', axis=1)\n",
    "\n",
    "# categories to predict - subset on categories that appear more than twice in the training & test set\n",
    "cat_obs_count_train = X_train[cat_df.columns.tolist()].sum()>5\n",
    "categories_with_enough_obs_train = cat_obs_count_train[cat_obs_count_train.values].index.tolist()\n",
    "\n",
    "cat_obs_count_test = X_test[cat_df.columns.tolist()].sum()>5\n",
    "categories_with_enough_obs_test = cat_obs_count_test[cat_obs_count_test.values].index.tolist()\n",
    "\n",
    "\n",
    "categories_with_enough_observations = list(set(categories_with_enough_obs_train).intersection(set(categories_with_enough_obs_test)))\n",
    "print('Some topics only occur once or twice. To ensures that we can calculate model performance metrics, we will use only {}/120 topics for prediction.  (In practice, a much higher threshold should be set, e.g. 20 times to train a classifier for a label.)'.format(len(categories_with_enough_observations)))\n",
    "# categories_with_enough_observations = dict((k, v) for k, v in counter.items() if v > 1)\n",
    "# categories_with_enough_observations = list(categories_with_enough_observations.keys())\n",
    "\n",
    "# t = json_normalize(counter)\n",
    "# t[t>1].dropna(axis=1).columns.tolist()"
   ]
  },
  {
   "cell_type": "markdown",
   "metadata": {},
   "source": [
    "# Train classifier"
   ]
  },
  {
   "cell_type": "markdown",
   "metadata": {},
   "source": [
    "Next we train a classifier that fits our problem. We have multiple classes (120 topics) amd each document can belong to multiple classes (up to 16) at the same time. A multi-class multi-label classifier is appropriate in such situations and can be implemented in scikit-learn. "
   ]
  },
  {
   "cell_type": "markdown",
   "metadata": {},
   "source": [
    "### OneVsRest multi-label strategy\n",
    "The OneVsRest strategy can be used for multi-label learning, where a classifier is used to predict multiple labels for each input. This classifier accepts a binary mask over multiple labels. We constructed this in cat_df. The result for each prediction will be an array of 0s and 1s marking which class labels apply to each row input sample.\n",
    "\n",
    "### Linear classifiers\n",
    "The next step identifies several linear classifiers: Multi-class version of Naive Bayes (MultinomialNB), stochastic gradient descent (SGDClassifier), Support Vector (LinearSVC), Stochastic gradient descent (SGDClassifier).\n",
    "\n",
    "### Non-linear classifiers\n",
    "To allow for more complex relationship modeling, I compare the linear classifiers to a multi-layer perceptron (MLP) classifier. \n",
    "\n",
    "### Pipeline\n",
    "In order to make the vectorizer => transformer => classifier easier to work with, scikit-learn provides a Pipeline class that behaves like a compound classifier. \n",
    "\n",
    "The text is passed into a processing step (TfidfVectorizer), which converts a collection of raw documents to a matrix of TF-IDF features. This step counts the term frequencies in the text and scales down terms that occur very frequently in the corpus of documents. Hence, less informative terms have lower values. \n",
    "\n",
    "### Model performance metrics\n",
    "I chose F1 score as evaluation metric to optimise, since it is more robust to imbalanced classes than, e.g. the accuracy score. Using the accuracy score, it is easy to get a score around 99% by simply predicting the majority class, which is zero. \n",
    "\n",
    "There are other options: \n",
    "- Converting the labels to numbers, one could predict multiple labels from the predictions as output and use the recommended F1 scoring method 'f1_samples' in the GridSearch step.\n",
    "- The recommended scoring metric in the literature for multi-class multi-label problems is Hamming loss (how many classes per example were correct?) and 0-1 loss (for how many examples were all classes correct)\n",
    "\n",
    "\n",
    "# Tuning\n",
    "I use randomized search, which search the parameter space more efficiently than exhaustive GridSearch.\n",
    "\n",
    "### Possible extensions\n",
    "- Ensemble: train several classifiers on other non-text variables and combine predictions of text and non-text models. For example, performance can be improved by training 1 classifier using text, another using the non-text information in the documents and then combining the 2 classifiers in an ensemble. \n",
    "- Keras implementations to scale on bigger dataset, e.g. [Reuters dataset](https://github.com/philipperemy/Reuters-full-data-set)\n",
    "- Explore bigger parameter space\n",
    "- Feature engineering: e.g. word embedding layers for deep learning with Keras, Word2Vec, GloVe\n",
    "- Rerun models on full Reuters dataset \n",
    "- make graphs of performance metrics\n",
    "- Try optimise other evaluation metrics for multi-label classification: Hamming loss and 0-1 loss"
   ]
  },
  {
   "cell_type": "markdown",
   "metadata": {},
   "source": [
    "# LinearSVC"
   ]
  },
  {
   "cell_type": "code",
   "execution_count": 13,
   "metadata": {},
   "outputs": [],
   "source": [
    "# silence some warnings (version incompatibilities btw. h5py and numpy)\n",
    "import warnings\n",
    "warnings.simplefilter('ignore')"
   ]
  },
  {
   "cell_type": "code",
   "execution_count": 14,
   "metadata": {
    "scrolled": true
   },
   "outputs": [
    {
     "name": "stdout",
     "output_type": "stream",
     "text": [
      "... Processing oilseed\n",
      "Test F1 score is 0.5714285714285714\n",
      "... Processing reserves\n",
      "Test F1 score is 0.6153846153846153\n",
      "... Processing gold\n",
      "Test F1 score is 0.41860465116279066\n",
      "... Processing wpi\n",
      "Test F1 score is 0.5714285714285715\n",
      "... Processing cocoa\n",
      "Test F1 score is 0.6666666666666666\n",
      "... Processing acq\n",
      "Test F1 score is 0.754047802621434\n",
      "... Processing ship\n",
      "Test F1 score is 0.6222222222222222\n",
      "... Processing soy-meal\n",
      "Test F1 score is 0.14285714285714288\n",
      "... Processing meal-feed\n",
      "Test F1 score is 0.2727272727272727\n",
      "... Processing strategic-metal\n",
      "Test F1 score is 0.0\n",
      "... Processing yen\n",
      "Test F1 score is 0.0\n",
      "... Processing wheat\n",
      "Test F1 score is 0.7438016528925621\n",
      "... Processing cpi\n",
      "Test F1 score is 0.3888888888888889\n",
      "... Processing rapeseed\n",
      "Test F1 score is 0.6153846153846153\n",
      "... Processing silver\n",
      "Test F1 score is 0.0\n",
      "... Processing bop\n",
      "Test F1 score is 0.5454545454545455\n",
      "... Processing cotton\n",
      "Test F1 score is 0.6666666666666666\n",
      "... Processing income\n",
      "Test F1 score is 0.0\n",
      "... Processing hog\n",
      "Test F1 score is 0.30769230769230765\n",
      "... Processing lead\n",
      "Test F1 score is 0.0\n",
      "... Processing gas\n",
      "Test F1 score is 0.5217391304347826\n",
      "... Processing interest\n",
      "Test F1 score is 0.58\n",
      "... Processing ipi\n",
      "Test F1 score is 0.5\n",
      "... Processing livestock\n",
      "Test F1 score is 0.3076923076923077\n",
      "... Processing gnp\n",
      "Test F1 score is 0.689655172413793\n",
      "... Processing grain\n",
      "Test F1 score is 0.7591836734693876\n",
      "... Processing iron-steel\n",
      "Test F1 score is 0.4\n",
      "... Processing veg-oil\n",
      "Test F1 score is 0.5925925925925927\n",
      "... Processing jobs\n",
      "Test F1 score is 0.6\n",
      "... Processing orange\n",
      "Test F1 score is 0.625\n",
      "... Processing coffee\n",
      "Test F1 score is 0.9056603773584904\n",
      "... Processing oat\n",
      "Test F1 score is 0.0\n",
      "... Processing copper\n",
      "Test F1 score is 0.7272727272727272\n",
      "... Processing alum\n",
      "Test F1 score is 0.3571428571428571\n",
      "... Processing soybean\n",
      "Test F1 score is 0.5106382978723404\n",
      "... Processing nat-gas\n",
      "Test F1 score is 0.5\n",
      "... Processing dlr\n",
      "Test F1 score is 0.4067796610169491\n",
      "... Processing zinc\n",
      "Test F1 score is 0.375\n",
      "... Processing money-supply\n",
      "Test F1 score is 0.5555555555555556\n",
      "... Processing carcass\n",
      "Test F1 score is 0.3478260869565218\n",
      "... Processing soy-oil\n",
      "Test F1 score is 0.0\n",
      "... Processing earn\n",
      "Test F1 score is 0.8323083230832309\n",
      "... Processing tin\n",
      "Test F1 score is 0.5\n",
      "... Processing corn\n",
      "Test F1 score is 0.6666666666666667\n",
      "... Processing trade\n",
      "Test F1 score is 0.6291079812206571\n",
      "... Processing money-fx\n",
      "Test F1 score is 0.5244755244755245\n",
      "... Processing fuel\n",
      "Test F1 score is 0.33333333333333337\n",
      "... Processing sorghum\n",
      "Test F1 score is 0.30769230769230765\n",
      "... Processing sugar\n",
      "Test F1 score is 0.7936507936507936\n",
      "... Processing rubber\n",
      "Test F1 score is 0.6666666666666666\n",
      "... Processing barley\n",
      "Test F1 score is 0.4444444444444445\n",
      "... Processing lumber\n",
      "Test F1 score is 0.0\n",
      "... Processing crude\n",
      "Test F1 score is 0.7129337539432176\n",
      "... Processing rice\n",
      "Test F1 score is 0.5294117647058825\n",
      "... Processing pet-chem\n",
      "Test F1 score is 0.0\n",
      "... Processing palm-oil\n",
      "Test F1 score is 0.5714285714285715\n"
     ]
    }
   ],
   "source": [
    "SVC_clf = Pipeline([\n",
    "                ('tfidf', TfidfVectorizer(stop_words=stop_words)),\n",
    "                ('clf', OneVsRestClassifier(LinearSVC())),\n",
    "            ])\n",
    "svc_scores = {}\n",
    "for category in categories_with_enough_observations:\n",
    "    print('... Processing {}'.format(category))\n",
    "    # train the model using train_body & y_class\n",
    "    SVC_clf.fit(X_train.body, X_train[category])\n",
    "    # compute the testing F1 score\n",
    "    prediction = SVC_clf.predict(X_test.body)\n",
    "    f1_value = f1_score(X_test[category], prediction)\n",
    "    svc_scores[category] = f1_value\n",
    "    print('Test F1 score is {}'.format(f1_value))"
   ]
  },
  {
   "cell_type": "code",
   "execution_count": 15,
   "metadata": {},
   "outputs": [
    {
     "name": "stdout",
     "output_type": "stream",
     "text": [
      "... Processing oilseed\n",
      "Test F1 score is 0.5675675675675675\n",
      "... Processing reserves\n",
      "Test F1 score is 0.6896551724137931\n",
      "... Processing gold\n",
      "Test F1 score is 0.5531914893617021\n",
      "... Processing wpi\n",
      "Test F1 score is 0.8235294117647058\n",
      "... Processing cocoa\n",
      "Test F1 score is 0.75\n",
      "... Processing acq\n",
      "Test F1 score is 0.8237015362106802\n",
      "... Processing ship\n",
      "Test F1 score is 0.6330935251798561\n",
      "... Processing soy-meal\n",
      "Test F1 score is 0.14285714285714288\n",
      "... Processing meal-feed\n",
      "Test F1 score is 0.2727272727272727\n",
      "... Processing strategic-metal\n",
      "Test F1 score is 0.0\n",
      "... Processing yen\n",
      "Test F1 score is 0.0\n",
      "... Processing wheat\n",
      "Test F1 score is 0.8031496062992126\n",
      "... Processing cpi\n",
      "Test F1 score is 0.5128205128205129\n",
      "... Processing rapeseed\n",
      "Test F1 score is 0.6153846153846153\n",
      "... Processing silver\n",
      "Test F1 score is 0.0\n",
      "... Processing bop\n",
      "Test F1 score is 0.68\n",
      "... Processing cotton\n",
      "Test F1 score is 0.5714285714285715\n",
      "... Processing income\n",
      "Test F1 score is 0.4444444444444445\n",
      "... Processing hog\n",
      "Test F1 score is 0.28571428571428575\n",
      "... Processing lead\n",
      "Test F1 score is 0.0\n",
      "... Processing gas\n",
      "Test F1 score is 0.6923076923076924\n",
      "... Processing interest\n",
      "Test F1 score is 0.6604651162790698\n",
      "... Processing ipi\n",
      "Test F1 score is 0.8181818181818182\n",
      "... Processing livestock\n",
      "Test F1 score is 0.2631578947368421\n",
      "... Processing gnp\n",
      "Test F1 score is 0.6909090909090908\n",
      "... Processing grain\n",
      "Test F1 score is 0.8333333333333334\n",
      "... Processing iron-steel\n",
      "Test F1 score is 0.4761904761904762\n",
      "... Processing veg-oil\n",
      "Test F1 score is 0.5925925925925927\n",
      "... Processing jobs\n",
      "Test F1 score is 0.7272727272727273\n",
      "... Processing orange\n",
      "Test F1 score is 0.625\n",
      "... Processing coffee\n",
      "Test F1 score is 0.923076923076923\n",
      "... Processing oat\n",
      "Test F1 score is 0.0\n",
      "... Processing copper\n",
      "Test F1 score is 0.7333333333333334\n",
      "... Processing alum\n",
      "Test F1 score is 0.2857142857142857\n",
      "... Processing soybean\n",
      "Test F1 score is 0.5769230769230769\n",
      "... Processing nat-gas\n",
      "Test F1 score is 0.5\n",
      "... Processing dlr\n",
      "Test F1 score is 0.6027397260273972\n",
      "... Processing zinc\n",
      "Test F1 score is 0.47058823529411764\n",
      "... Processing money-supply\n",
      "Test F1 score is 0.6769230769230768\n",
      "... Processing carcass\n",
      "Test F1 score is 0.5\n",
      "... Processing soy-oil\n",
      "Test F1 score is 0.0\n",
      "... Processing earn\n",
      "Test F1 score is 0.8095421315890727\n",
      "... Processing tin\n",
      "Test F1 score is 0.6666666666666666\n",
      "... Processing corn\n",
      "Test F1 score is 0.8118811881188118\n",
      "... Processing trade\n",
      "Test F1 score is 0.6728110599078341\n",
      "... Processing money-fx\n",
      "Test F1 score is 0.5751633986928104\n",
      "... Processing fuel\n",
      "Test F1 score is 0.33333333333333337\n",
      "... Processing sorghum\n",
      "Test F1 score is 0.30769230769230765\n",
      "... Processing sugar\n",
      "Test F1 score is 0.7666666666666666\n",
      "... Processing rubber\n",
      "Test F1 score is 0.2857142857142857\n",
      "... Processing barley\n",
      "Test F1 score is 0.7272727272727273\n",
      "... Processing lumber\n",
      "Test F1 score is 0.0\n",
      "... Processing crude\n",
      "Test F1 score is 0.790560471976401\n",
      "... Processing rice\n",
      "Test F1 score is 0.5\n",
      "... Processing pet-chem\n",
      "Test F1 score is 0.0\n",
      "... Processing palm-oil\n",
      "Test F1 score is 0.6666666666666666\n"
     ]
    }
   ],
   "source": [
    "SVC_clf = Pipeline([\n",
    "                ('tfidf', TfidfVectorizer(stop_words=stop_words)),\n",
    "                ('clf', LinearSVC()),\n",
    "            ])\n",
    "svc_scores2 = {}\n",
    "for category in categories_with_enough_observations:\n",
    "    print('... Processing {}'.format(category))\n",
    "    # train the model using train_body & y_class\n",
    "    SVC_clf.fit(X_train.txt_combined, X_train[category])\n",
    "    # compute the testing F1 score\n",
    "    prediction = SVC_clf.predict(X_test.txt_combined)\n",
    "    f1_value = f1_score(X_test[category], prediction)\n",
    "    svc_scores2[category] = f1_value\n",
    "    print('Test F1 score is {}'.format(f1_value))"
   ]
  },
  {
   "cell_type": "code",
   "execution_count": 92,
   "metadata": {},
   "outputs": [
    {
     "name": "stdout",
     "output_type": "stream",
     "text": [
      "Using the combined text variable \"txt_combined\" instead of \"body\", improves the F1 score by 5.5% on average\n"
     ]
    }
   ],
   "source": [
    "# Comparing the performance btw.'body' and 'txt_combined'\n",
    "diff = {x: svc_scores2[x] - svc_scores[x] for x in svc_scores2 if x in svc_scores}\n",
    "print('Using the combined text variable \"txt_combined\" instead of \"body\", improves the F1 score by {:.2g}% on average'.format(100*(sum(diff.values())/len(diff))))"
   ]
  },
  {
   "cell_type": "code",
   "execution_count": 114,
   "metadata": {},
   "outputs": [
    {
     "name": "stdout",
     "output_type": "stream",
     "text": [
      "\n",
      "20 most discriminating words:\n",
      "shipping        2.631469\n",
      "ships           2.341930\n",
      "vessels         2.072995\n",
      "port            1.945230\n",
      "vessel          1.706659\n",
      "mt              1.581577\n",
      "seamen          1.579861\n",
      "cargo           1.427407\n",
      "ship            1.311303\n",
      "canal           1.301302\n",
      "sea             1.231398\n",
      "freight         1.214308\n",
      "tankers         1.202379\n",
      "dwt             1.171242\n",
      "transport       1.162541\n",
      "harbour         1.116598\n",
      "river           1.090166\n",
      "tanker          1.048441\n",
      "warships        1.048380\n",
      "shipbuilding    0.948403\n",
      "dtype: float64\n"
     ]
    }
   ],
   "source": [
    "# Print largest coefficients\n",
    "vec, clf = SVC_clf.named_steps['tfidf'], SVC_clf.named_steps['clf']\n",
    "coefs = pd.Series(clf.coef_[0], index=vec.get_feature_names())\n",
    "print(\"\\n20 most discriminating words:\")\n",
    "print(coefs[coefs.abs().sort_values(ascending=False).index][:20])"
   ]
  },
  {
   "cell_type": "markdown",
   "metadata": {},
   "source": [
    "# Stochastic gradient descent "
   ]
  },
  {
   "cell_type": "code",
   "execution_count": 102,
   "metadata": {},
   "outputs": [
    {
     "name": "stdout",
     "output_type": "stream",
     "text": [
      "... Processing trade\n",
      "Test F1 score is 0.6078431372549019\n",
      "... Processing carcass\n",
      "Test F1 score is 0.19999999999999998\n",
      "... Processing silver\n",
      "Test F1 score is 0.0\n",
      "... Processing money-supply\n",
      "Test F1 score is 0.4782608695652174\n",
      "... Processing reserves\n",
      "Test F1 score is 0.4347826086956522\n",
      "... Processing palm-oil\n",
      "Test F1 score is 0.5714285714285715\n",
      "... Processing lumber\n",
      "Test F1 score is 0.0\n",
      "... Processing sorghum\n",
      "Test F1 score is 0.18181818181818182\n",
      "... Processing sugar\n",
      "Test F1 score is 0.8064516129032258\n",
      "... Processing soy-oil\n",
      "Test F1 score is 0.0\n",
      "... Processing ipi\n",
      "Test F1 score is 0.2857142857142857\n",
      "... Processing money-fx\n",
      "Test F1 score is 0.5201465201465201\n",
      "... Processing rice\n",
      "Test F1 score is 0.27586206896551724\n",
      "... Processing coffee\n",
      "Test F1 score is 0.9056603773584904\n",
      "... Processing cpi\n",
      "Test F1 score is 0.35294117647058826\n",
      "... Processing orange\n",
      "Test F1 score is 0.42857142857142855\n",
      "... Processing iron-steel\n",
      "Test F1 score is 0.23529411764705882\n",
      "... Processing soybean\n",
      "Test F1 score is 0.2631578947368421\n",
      "... Processing yen\n",
      "Test F1 score is 0.0\n",
      "... Processing corn\n",
      "Test F1 score is 0.6341463414634146\n",
      "... Processing rubber\n",
      "Test F1 score is 0.6666666666666666\n",
      "... Processing gnp\n",
      "Test F1 score is 0.6153846153846154\n",
      "... Processing strategic-metal\n",
      "Test F1 score is 0.0\n",
      "... Processing acq\n",
      "Test F1 score is 0.7448818897637796\n",
      "... Processing interest\n",
      "Test F1 score is 0.5846153846153846\n",
      "... Processing alum\n",
      "Test F1 score is 0.29629629629629634\n",
      "... Processing tin\n",
      "Test F1 score is 0.4\n",
      "... Processing grain\n",
      "Test F1 score is 0.7364016736401673\n",
      "... Processing barley\n",
      "Test F1 score is 0.5263157894736842\n",
      "... Processing soy-meal\n",
      "Test F1 score is 0.0\n",
      "... Processing lead\n",
      "Test F1 score is 0.0\n",
      "... Processing zinc\n",
      "Test F1 score is 0.14285714285714288\n",
      "... Processing jobs\n",
      "Test F1 score is 0.6\n",
      "... Processing gold\n",
      "Test F1 score is 0.5217391304347827\n",
      "... Processing oat\n",
      "Test F1 score is 0.0\n",
      "... Processing hog\n",
      "Test F1 score is 0.0\n",
      "... Processing gas\n",
      "Test F1 score is 0.3\n",
      "... Processing nat-gas\n",
      "Test F1 score is 0.3809523809523809\n",
      "... Processing meal-feed\n",
      "Test F1 score is 0.0\n",
      "... Processing livestock\n",
      "Test F1 score is 0.2222222222222222\n",
      "... Processing fuel\n",
      "Test F1 score is 0.0\n",
      "... Processing dlr\n",
      "Test F1 score is 0.2745098039215686\n",
      "... Processing oilseed\n",
      "Test F1 score is 0.42622950819672134\n",
      "... Processing pet-chem\n",
      "Test F1 score is 0.0\n",
      "... Processing cotton\n",
      "Test F1 score is 0.5714285714285715\n",
      "... Processing earn\n",
      "Test F1 score is 0.8275020341741252\n",
      "... Processing income\n",
      "Test F1 score is 0.0\n",
      "... Processing cocoa\n",
      "Test F1 score is 0.6666666666666666\n",
      "... Processing bop\n",
      "Test F1 score is 0.5\n",
      "... Processing crude\n",
      "Test F1 score is 0.6797385620915033\n",
      "... Processing veg-oil\n",
      "Test F1 score is 0.5769230769230769\n",
      "... Processing wpi\n",
      "Test F1 score is 0.0\n",
      "... Processing copper\n",
      "Test F1 score is 0.6875000000000001\n",
      "... Processing rapeseed\n",
      "Test F1 score is 0.6153846153846153\n",
      "... Processing wheat\n",
      "Test F1 score is 0.7333333333333333\n",
      "... Processing ship\n",
      "Test F1 score is 0.6165413533834587\n"
     ]
    }
   ],
   "source": [
    "SGD_clf = Pipeline([\n",
    "                ('tfidf', TfidfVectorizer(stop_words=stop_words)),\n",
    "                ('clf', OneVsRestClassifier(SGDClassifier())),\n",
    "            ])\n",
    "sgd_scores = {}\n",
    "for category in categories_with_enough_observations:\n",
    "    print('... Processing {}'.format(category))\n",
    "    # train the model using train_body & y_class\n",
    "    SGD_clf.fit(X_train.body, X_train[category])\n",
    "    # compute the testing F1 score\n",
    "    prediction = SGD_clf.predict(X_test.body)\n",
    "    f1_value = f1_score(X_test[category], prediction)\n",
    "    sgd_scores[category] = f1_value\n",
    "    print('Test F1 score is {}'.format(f1_value))"
   ]
  },
  {
   "cell_type": "code",
   "execution_count": 103,
   "metadata": {},
   "outputs": [
    {
     "name": "stdout",
     "output_type": "stream",
     "text": [
      "Using a default SVC instead of SGD classifier improves the F1 score by 14% on average\n"
     ]
    }
   ],
   "source": [
    "# Comparing SVC vs. SGD model performance \n",
    "diff = {x: svc_scores2[x] - sgd_scores[x] for x in svc_scores2 if x in sgd_scores}\n",
    "print('Using a default SVC instead of SGD classifier improves the F1 score by {:.2g}% on average'.format(100*(sum(diff.values())/len(diff))))"
   ]
  },
  {
   "cell_type": "markdown",
   "metadata": {},
   "source": [
    "Hence the best default model remains the Support vector classifier. "
   ]
  },
  {
   "cell_type": "markdown",
   "metadata": {},
   "source": [
    "# MultinomialNB\n",
    "\n",
    "We notice that the multinomial version of naive Bayes does not predict any positive classes. Hence F1 score is always 0. "
   ]
  },
  {
   "cell_type": "code",
   "execution_count": 93,
   "metadata": {},
   "outputs": [
    {
     "name": "stdout",
     "output_type": "stream",
     "text": [
      "... Processing trade\n",
      "Test F1 score is 0.0\n",
      "... Processing carcass\n",
      "Test F1 score is 0.0\n",
      "... Processing silver\n",
      "Test F1 score is 0.0\n",
      "... Processing money-supply\n",
      "Test F1 score is 0.0\n",
      "... Processing reserves\n",
      "Test F1 score is 0.0\n",
      "... Processing palm-oil\n",
      "Test F1 score is 0.0\n",
      "... Processing lumber\n",
      "Test F1 score is 0.0\n",
      "... Processing sorghum\n",
      "Test F1 score is 0.0\n",
      "... Processing sugar\n",
      "Test F1 score is 0.0\n",
      "... Processing soy-oil\n",
      "Test F1 score is 0.0\n",
      "... Processing ipi\n",
      "Test F1 score is 0.0\n",
      "... Processing money-fx\n",
      "Test F1 score is 0.0\n",
      "... Processing rice\n",
      "Test F1 score is 0.0\n",
      "... Processing coffee\n",
      "Test F1 score is 0.0\n",
      "... Processing cpi\n",
      "Test F1 score is 0.0\n",
      "... Processing orange\n",
      "Test F1 score is 0.0\n",
      "... Processing iron-steel\n",
      "Test F1 score is 0.0\n",
      "... Processing soybean\n",
      "Test F1 score is 0.0\n",
      "... Processing yen\n",
      "Test F1 score is 0.0\n",
      "... Processing corn\n",
      "Test F1 score is 0.0\n",
      "... Processing rubber\n",
      "Test F1 score is 0.0\n",
      "... Processing gnp\n",
      "Test F1 score is 0.0\n",
      "... Processing strategic-metal\n",
      "Test F1 score is 0.0\n",
      "... Processing acq\n",
      "Test F1 score is 0.030136986301369868\n",
      "... Processing interest\n",
      "Test F1 score is 0.0\n",
      "... Processing alum\n",
      "Test F1 score is 0.0\n",
      "... Processing tin\n",
      "Test F1 score is 0.0\n",
      "... Processing grain\n",
      "Test F1 score is 0.0\n",
      "... Processing barley\n",
      "Test F1 score is 0.0\n",
      "... Processing soy-meal\n",
      "Test F1 score is 0.0\n",
      "... Processing lead\n",
      "Test F1 score is 0.0\n",
      "... Processing zinc\n",
      "Test F1 score is 0.0\n",
      "... Processing jobs\n",
      "Test F1 score is 0.0\n",
      "... Processing gold\n",
      "Test F1 score is 0.0\n",
      "... Processing oat\n",
      "Test F1 score is 0.0\n",
      "... Processing hog\n",
      "Test F1 score is 0.0\n",
      "... Processing gas\n",
      "Test F1 score is 0.0\n",
      "... Processing nat-gas\n",
      "Test F1 score is 0.0\n",
      "... Processing meal-feed\n",
      "Test F1 score is 0.0\n",
      "... Processing livestock\n",
      "Test F1 score is 0.0\n",
      "... Processing fuel\n",
      "Test F1 score is 0.0\n",
      "... Processing dlr\n",
      "Test F1 score is 0.0\n",
      "... Processing oilseed\n",
      "Test F1 score is 0.0\n",
      "... Processing pet-chem\n",
      "Test F1 score is 0.0\n",
      "... Processing cotton\n",
      "Test F1 score is 0.0\n",
      "... Processing earn\n",
      "Test F1 score is 0.8170103092783504\n",
      "... Processing income\n",
      "Test F1 score is 0.0\n",
      "... Processing cocoa\n",
      "Test F1 score is 0.0\n",
      "... Processing bop\n",
      "Test F1 score is 0.0\n",
      "... Processing crude\n",
      "Test F1 score is 0.0\n",
      "... Processing veg-oil\n",
      "Test F1 score is 0.0\n",
      "... Processing wpi\n",
      "Test F1 score is 0.0\n",
      "... Processing copper\n",
      "Test F1 score is 0.0\n",
      "... Processing rapeseed\n",
      "Test F1 score is 0.0\n",
      "... Processing wheat\n",
      "Test F1 score is 0.0\n",
      "... Processing ship\n",
      "Test F1 score is 0.0\n"
     ]
    }
   ],
   "source": [
    "# precision = TP/(TP+FP) as you've just said if predictor doesn't predicts positive class at all - precision is 0.\n",
    "# recall = TP/(TP+FN), in case if predictor doesn't predict positive class - TP is 0 - recall is 0.\n",
    "# So now you are dividing 0/0.\n",
    "\n",
    "NB_clf = Pipeline([\n",
    "                ('tfidf', TfidfVectorizer(stop_words=stop_words)),\n",
    "                ('clf', OneVsRestClassifier(MultinomialNB(\n",
    "                    fit_prior=True, class_prior=None))),\n",
    "            ])\n",
    "for category in categories_with_enough_observations:\n",
    "    print('... Processing {}'.format(category))\n",
    "    # train the model using train_body & y_class\n",
    "    NB_clf.fit(X_train.txt_combined, X_train[category])\n",
    "    # compute the testing F1 score\n",
    "    prediction = NB_clf.predict(X_test.txt_combined)\n",
    "    print('Test F1 score is {}'.format(f1_score(X_test[category], prediction)))"
   ]
  },
  {
   "cell_type": "markdown",
   "metadata": {},
   "source": [
    "# Logistic Regression"
   ]
  },
  {
   "cell_type": "code",
   "execution_count": 97,
   "metadata": {},
   "outputs": [
    {
     "name": "stdout",
     "output_type": "stream",
     "text": [
      "... Processing trade\n",
      "Test F1 score is 0.5775401069518716\n",
      "... Processing carcass\n",
      "Test F1 score is 0.10526315789473684\n",
      "... Processing silver\n",
      "Test F1 score is 0.0\n",
      "... Processing money-supply\n",
      "Test F1 score is 0.40909090909090906\n",
      "... Processing reserves\n",
      "Test F1 score is 0.19999999999999998\n",
      "... Processing palm-oil\n",
      "Test F1 score is 0.0\n",
      "... Processing lumber\n",
      "Test F1 score is 0.0\n",
      "... Processing sorghum\n",
      "Test F1 score is 0.0\n",
      "... Processing sugar\n",
      "Test F1 score is 0.4347826086956522\n",
      "... Processing soy-oil\n",
      "Test F1 score is 0.0\n",
      "... Processing ipi\n",
      "Test F1 score is 0.0\n",
      "... Processing money-fx\n",
      "Test F1 score is 0.46031746031746035\n",
      "... Processing rice\n",
      "Test F1 score is 0.0\n",
      "... Processing coffee\n",
      "Test F1 score is 0.6\n",
      "... Processing cpi\n",
      "Test F1 score is 0.25\n",
      "... Processing orange\n",
      "Test F1 score is 0.0\n",
      "... Processing iron-steel\n",
      "Test F1 score is 0.0\n",
      "... Processing soybean\n",
      "Test F1 score is 0.0\n",
      "... Processing yen\n",
      "Test F1 score is 0.0\n",
      "... Processing corn\n",
      "Test F1 score is 0.49350649350649356\n",
      "... Processing rubber\n",
      "Test F1 score is 0.0\n",
      "... Processing gnp\n",
      "Test F1 score is 0.33333333333333337\n",
      "... Processing strategic-metal\n",
      "Test F1 score is 0.0\n",
      "... Processing acq\n",
      "Test F1 score is 0.722176422093982\n",
      "... Processing interest\n",
      "Test F1 score is 0.47252747252747246\n",
      "... Processing alum\n",
      "Test F1 score is 0.0\n",
      "... Processing tin\n",
      "Test F1 score is 0.0\n",
      "... Processing grain\n",
      "Test F1 score is 0.70995670995671\n",
      "... Processing barley\n",
      "Test F1 score is 0.0\n",
      "... Processing soy-meal\n",
      "Test F1 score is 0.0\n",
      "... Processing lead\n",
      "Test F1 score is 0.0\n",
      "... Processing zinc\n",
      "Test F1 score is 0.0\n",
      "... Processing jobs\n",
      "Test F1 score is 0.25\n",
      "... Processing gold\n",
      "Test F1 score is 0.1212121212121212\n",
      "... Processing oat\n",
      "Test F1 score is 0.0\n",
      "... Processing hog\n",
      "Test F1 score is 0.0\n",
      "... Processing gas\n",
      "Test F1 score is 0.0\n",
      "... Processing nat-gas\n",
      "Test F1 score is 0.0\n",
      "... Processing meal-feed\n",
      "Test F1 score is 0.0\n",
      "... Processing livestock\n",
      "Test F1 score is 0.0\n",
      "... Processing fuel\n",
      "Test F1 score is 0.0\n",
      "... Processing dlr\n",
      "Test F1 score is 0.25925925925925924\n",
      "... Processing oilseed\n",
      "Test F1 score is 0.08\n",
      "... Processing pet-chem\n",
      "Test F1 score is 0.0\n",
      "... Processing cotton\n",
      "Test F1 score is 0.0\n",
      "... Processing earn\n",
      "Test F1 score is 0.8197115384615384\n",
      "... Processing income\n",
      "Test F1 score is 0.0\n",
      "... Processing cocoa\n",
      "Test F1 score is 0.3636363636363636\n",
      "... Processing bop\n",
      "Test F1 score is 0.23529411764705882\n",
      "... Processing crude\n",
      "Test F1 score is 0.6505190311418685\n",
      "... Processing veg-oil\n",
      "Test F1 score is 0.052631578947368425\n",
      "... Processing wpi\n",
      "Test F1 score is 0.0\n",
      "... Processing copper\n",
      "Test F1 score is 0.10526315789473684\n",
      "... Processing rapeseed\n",
      "Test F1 score is 0.0\n",
      "... Processing wheat\n",
      "Test F1 score is 0.6153846153846154\n",
      "... Processing ship\n",
      "Test F1 score is 0.21999999999999997\n"
     ]
    }
   ],
   "source": [
    "LR_clf = Pipeline([\n",
    "                ('tfidf', TfidfVectorizer(stop_words=stop_words)),\n",
    "                ('clf', OneVsRestClassifier(LogisticRegression(solver='sag'), n_jobs=1)),\n",
    "            ])\n",
    "for category in categories_with_enough_observations:\n",
    "    print('... Processing {}'.format(category))\n",
    "    # train the model using train_body & y_class\n",
    "    LR_clf.fit(X_train.txt_combined, X_train[category])\n",
    "    # compute the testing F1 score\n",
    "    prediction = LR_clf.predict(X_test.txt_combined)\n",
    "    print('Test F1 score is {}'.format(f1_score(X_test[category], prediction)))"
   ]
  },
  {
   "cell_type": "markdown",
   "metadata": {},
   "source": [
    "# MLPClassifier"
   ]
  },
  {
   "cell_type": "code",
   "execution_count": 100,
   "metadata": {},
   "outputs": [
    {
     "name": "stdout",
     "output_type": "stream",
     "text": [
      "... Processing trade\n",
      "Test F1 score is 0.6861924686192469\n",
      "... Processing carcass\n",
      "Test F1 score is 0.5\n",
      "... Processing silver\n",
      "Test F1 score is 0.2222222222222222\n",
      "... Processing money-supply\n",
      "Test F1 score is 0.6363636363636364\n",
      "... Processing reserves\n",
      "Test F1 score is 0.6896551724137931\n",
      "... Processing palm-oil\n",
      "Test F1 score is 0.7499999999999999\n",
      "... Processing lumber\n",
      "Test F1 score is 0.0\n",
      "... Processing sorghum\n",
      "Test F1 score is 0.4\n",
      "... Processing sugar\n",
      "Test F1 score is 0.7999999999999999\n",
      "... Processing soy-oil\n",
      "Test F1 score is 0.14285714285714288\n",
      "... Processing ipi\n",
      "Test F1 score is 0.8571428571428571\n",
      "... Processing money-fx\n",
      "Test F1 score is 0.5391849529780566\n",
      "... Processing rice\n",
      "Test F1 score is 0.5882352941176471\n",
      "... Processing coffee\n",
      "Test F1 score is 0.9433962264150945\n",
      "... Processing cpi\n",
      "Test F1 score is 0.48780487804878053\n",
      "... Processing orange\n",
      "Test F1 score is 0.8571428571428572\n",
      "... Processing iron-steel\n",
      "Test F1 score is 0.5833333333333334\n",
      "... Processing soybean\n",
      "Test F1 score is 0.5555555555555556\n",
      "... Processing yen\n",
      "Test F1 score is 0.0\n",
      "... Processing corn\n",
      "Test F1 score is 0.838095238095238\n",
      "... Processing rubber\n",
      "Test F1 score is 0.6666666666666666\n",
      "... Processing gnp\n",
      "Test F1 score is 0.7272727272727272\n",
      "... Processing strategic-metal\n",
      "Test F1 score is 0.0\n",
      "... Processing acq\n",
      "Test F1 score is 0.8075253256150506\n",
      "... Processing interest\n",
      "Test F1 score is 0.6637554585152837\n",
      "... Processing alum\n",
      "Test F1 score is 0.5882352941176471\n",
      "... Processing tin\n",
      "Test F1 score is 0.6666666666666666\n",
      "... Processing grain\n",
      "Test F1 score is 0.8424908424908425\n",
      "... Processing barley\n",
      "Test F1 score is 0.6666666666666666\n",
      "... Processing soy-meal\n",
      "Test F1 score is 0.375\n",
      "... Processing lead\n",
      "Test F1 score is 0.0\n",
      "... Processing zinc\n",
      "Test F1 score is 0.5555555555555556\n",
      "... Processing jobs\n",
      "Test F1 score is 0.6666666666666667\n",
      "... Processing gold\n",
      "Test F1 score is 0.6415094339622641\n",
      "... Processing oat\n",
      "Test F1 score is 0.0\n",
      "... Processing hog\n",
      "Test F1 score is 0.26666666666666666\n",
      "... Processing gas\n",
      "Test F1 score is 0.6399999999999999\n",
      "... Processing nat-gas\n",
      "Test F1 score is 0.5454545454545454\n",
      "... Processing meal-feed\n",
      "Test F1 score is 0.4166666666666667\n",
      "... Processing livestock\n",
      "Test F1 score is 0.3333333333333333\n",
      "... Processing fuel\n",
      "Test F1 score is 0.4\n",
      "... Processing dlr\n",
      "Test F1 score is 0.5833333333333334\n",
      "... Processing oilseed\n",
      "Test F1 score is 0.625\n",
      "... Processing pet-chem\n",
      "Test F1 score is 0.0\n",
      "... Processing cotton\n",
      "Test F1 score is 0.7096774193548387\n",
      "... Processing earn\n",
      "Test F1 score is 0.8033729398236873\n",
      "... Processing income\n",
      "Test F1 score is 0.0\n",
      "... Processing cocoa\n",
      "Test F1 score is 0.75\n",
      "... Processing bop\n",
      "Test F1 score is 0.7407407407407408\n",
      "... Processing crude\n",
      "Test F1 score is 0.7917888563049853\n",
      "... Processing veg-oil\n",
      "Test F1 score is 0.5925925925925927\n",
      "... Processing wpi\n",
      "Test F1 score is 0.8235294117647058\n",
      "... Processing copper\n",
      "Test F1 score is 0.7333333333333334\n",
      "... Processing rapeseed\n",
      "Test F1 score is 0.6153846153846153\n",
      "... Processing wheat\n",
      "Test F1 score is 0.8031496062992126\n",
      "... Processing ship\n",
      "Test F1 score is 0.7027027027027027\n"
     ]
    }
   ],
   "source": [
    "MLP_clf = Pipeline([\n",
    "                ('tfidf', TfidfVectorizer(stop_words=stop_words)),\n",
    "                ('clf', OneVsRestClassifier(MLPClassifier(solver='lbfgs'\n",
    "#                                                           alpha=1e-5,\n",
    "#                                                           hidden_layer_sizes=(5, 2)\n",
    "                                                         )\n",
    "                                            , n_jobs=1)),\n",
    "            ])\n",
    "mlp_scores = {}\n",
    "\n",
    "for category in categories_with_enough_observations:\n",
    "    print('... Processing {}'.format(category))\n",
    "    # train the model using train_body & y_class\n",
    "    MLP_clf.fit(X_train.txt_combined, X_train[category])\n",
    "    # compute the testing F1 score\n",
    "    prediction = MLP_clf.predict(X_test.txt_combined)\n",
    "    f1_value = f1_score(X_test[category], prediction)\n",
    "    mlp_scores[category] = f1_value\n",
    "    print('Test F1 score is {}'.format(f1_value))"
   ]
  },
  {
   "cell_type": "code",
   "execution_count": 101,
   "metadata": {},
   "outputs": [
    {
     "name": "stdout",
     "output_type": "stream",
     "text": [
      "Using MLP instead of SVC improves the F1 score by -3.7% on average\n"
     ]
    }
   ],
   "source": [
    "# Comparing MPL performance vs. SVC classifier\n",
    "diff = {x: svc_scores2[x] - mlp_scores[x] for x in svc_scores2 if x in mlp_scores}\n",
    "print('Using MLP instead of SVC improves the F1 score by {:.2g}% on average'.format(100*(sum(diff.values())/len(diff))))"
   ]
  },
  {
   "cell_type": "markdown",
   "metadata": {},
   "source": [
    "Hence the best default model remains the Support vector classifier. "
   ]
  },
  {
   "cell_type": "markdown",
   "metadata": {},
   "source": [
    "# Tuning\n",
    "\n",
    "Let's see if we can improve evaluation metrics by optimising hyper-parameters using GridSearch. "
   ]
  },
  {
   "cell_type": "code",
   "execution_count": 138,
   "metadata": {},
   "outputs": [
    {
     "name": "stdout",
     "output_type": "stream",
     "text": [
      "trade: Performing grid search ...\n",
      "pipeline: ['vect', 'clf']\n",
      "parameters:\n",
      "{'vect__max_df': (0.01, 0.05, 0.5, 0.75, 1.0), 'vect__ngram_range': ((1, 1), (1, 2)), 'vect__use_idf': (True, False), 'clf__alpha': (1e-05, 1e-06)}\n",
      "Fitting 3 folds for each of 20 candidates, totalling 60 fits\n"
     ]
    },
    {
     "name": "stderr",
     "output_type": "stream",
     "text": [
      "[Parallel(n_jobs=-1)]: Done  42 tasks      | elapsed:  2.2min\n",
      "[Parallel(n_jobs=-1)]: Done  60 out of  60 | elapsed:  3.0min finished\n"
     ]
    },
    {
     "name": "stdout",
     "output_type": "stream",
     "text": [
      "done in 186.229s\n",
      "\n",
      "Best score: 0.747\n",
      "Best parameters set:\n",
      "\tclf__alpha: 1e-05\n",
      "\tvect__max_df: 0.5\n",
      "\tvect__ngram_range: (1, 2)\n",
      "\tvect__use_idf: False\n",
      "carcass: Performing grid search ...\n",
      "pipeline: ['vect', 'clf']\n",
      "parameters:\n",
      "{'vect__max_df': (0.01, 0.05, 0.5, 0.75, 1.0), 'vect__ngram_range': ((1, 1), (1, 2)), 'vect__use_idf': (True, False), 'clf__alpha': (1e-05, 1e-06)}\n",
      "Fitting 3 folds for each of 20 candidates, totalling 60 fits\n"
     ]
    },
    {
     "name": "stderr",
     "output_type": "stream",
     "text": [
      "[Parallel(n_jobs=-1)]: Done  42 tasks      | elapsed:  2.7min\n",
      "[Parallel(n_jobs=-1)]: Done  60 out of  60 | elapsed:  3.4min finished\n"
     ]
    },
    {
     "name": "stdout",
     "output_type": "stream",
     "text": [
      "done in 205.349s\n",
      "\n",
      "Best score: 0.631\n",
      "Best parameters set:\n",
      "\tclf__alpha: 1e-06\n",
      "\tvect__max_df: 0.01\n",
      "\tvect__ngram_range: (1, 1)\n",
      "\tvect__use_idf: False\n",
      "silver: Performing grid search ...\n",
      "pipeline: ['vect', 'clf']\n",
      "parameters:\n",
      "{'vect__max_df': (0.01, 0.05, 0.5, 0.75, 1.0), 'vect__ngram_range': ((1, 1), (1, 2)), 'vect__use_idf': (True, False), 'clf__alpha': (1e-05, 1e-06)}\n",
      "Fitting 3 folds for each of 20 candidates, totalling 60 fits\n"
     ]
    },
    {
     "name": "stderr",
     "output_type": "stream",
     "text": [
      "[Parallel(n_jobs=-1)]: Done  42 tasks      | elapsed:  2.1min\n",
      "[Parallel(n_jobs=-1)]: Done  60 out of  60 | elapsed:  3.1min finished\n"
     ]
    },
    {
     "name": "stdout",
     "output_type": "stream",
     "text": [
      "done in 191.374s\n",
      "\n",
      "Best score: 0.250\n",
      "Best parameters set:\n",
      "\tclf__alpha: 1e-05\n",
      "\tvect__max_df: 0.75\n",
      "\tvect__ngram_range: (1, 2)\n",
      "\tvect__use_idf: False\n",
      "money-supply: Performing grid search ...\n",
      "pipeline: ['vect', 'clf']\n",
      "parameters:\n",
      "{'vect__max_df': (0.01, 0.05, 0.5, 0.75, 1.0), 'vect__ngram_range': ((1, 1), (1, 2)), 'vect__use_idf': (True, False), 'clf__alpha': (1e-05, 1e-06)}\n",
      "Fitting 3 folds for each of 20 candidates, totalling 60 fits\n"
     ]
    },
    {
     "name": "stderr",
     "output_type": "stream",
     "text": [
      "[Parallel(n_jobs=-1)]: Done  42 tasks      | elapsed:  2.1min\n",
      "[Parallel(n_jobs=-1)]: Done  60 out of  60 | elapsed:  3.1min finished\n"
     ]
    },
    {
     "name": "stdout",
     "output_type": "stream",
     "text": [
      "done in 194.166s\n",
      "\n",
      "Best score: 0.824\n",
      "Best parameters set:\n",
      "\tclf__alpha: 1e-06\n",
      "\tvect__max_df: 0.75\n",
      "\tvect__ngram_range: (1, 2)\n",
      "\tvect__use_idf: True\n",
      "reserves: Performing grid search ...\n",
      "pipeline: ['vect', 'clf']\n",
      "parameters:\n",
      "{'vect__max_df': (0.01, 0.05, 0.5, 0.75, 1.0), 'vect__ngram_range': ((1, 1), (1, 2)), 'vect__use_idf': (True, False), 'clf__alpha': (1e-05, 1e-06)}\n",
      "Fitting 3 folds for each of 20 candidates, totalling 60 fits\n"
     ]
    },
    {
     "name": "stderr",
     "output_type": "stream",
     "text": [
      "[Parallel(n_jobs=-1)]: Done  42 tasks      | elapsed:  2.3min\n",
      "[Parallel(n_jobs=-1)]: Done  60 out of  60 | elapsed:  3.3min finished\n"
     ]
    },
    {
     "name": "stdout",
     "output_type": "stream",
     "text": [
      "done in 202.561s\n",
      "\n",
      "Best score: 0.823\n",
      "Best parameters set:\n",
      "\tclf__alpha: 1e-06\n",
      "\tvect__max_df: 0.75\n",
      "\tvect__ngram_range: (1, 1)\n",
      "\tvect__use_idf: True\n",
      "palm-oil: Performing grid search ...\n",
      "pipeline: ['vect', 'clf']\n",
      "parameters:\n",
      "{'vect__max_df': (0.01, 0.05, 0.5, 0.75, 1.0), 'vect__ngram_range': ((1, 1), (1, 2)), 'vect__use_idf': (True, False), 'clf__alpha': (1e-05, 1e-06)}\n",
      "Fitting 3 folds for each of 20 candidates, totalling 60 fits\n"
     ]
    },
    {
     "name": "stderr",
     "output_type": "stream",
     "text": [
      "[Parallel(n_jobs=-1)]: Done  42 tasks      | elapsed:  2.0min\n",
      "[Parallel(n_jobs=-1)]: Done  60 out of  60 | elapsed:  3.3min finished\n"
     ]
    },
    {
     "name": "stdout",
     "output_type": "stream",
     "text": [
      "done in 197.219s\n",
      "\n",
      "Best score: 0.668\n",
      "Best parameters set:\n",
      "\tclf__alpha: 1e-05\n",
      "\tvect__max_df: 0.01\n",
      "\tvect__ngram_range: (1, 1)\n",
      "\tvect__use_idf: False\n",
      "lumber: Performing grid search ...\n",
      "pipeline: ['vect', 'clf']\n",
      "parameters:\n",
      "{'vect__max_df': (0.01, 0.05, 0.5, 0.75, 1.0), 'vect__ngram_range': ((1, 1), (1, 2)), 'vect__use_idf': (True, False), 'clf__alpha': (1e-05, 1e-06)}\n",
      "Fitting 3 folds for each of 20 candidates, totalling 60 fits\n"
     ]
    },
    {
     "name": "stderr",
     "output_type": "stream",
     "text": [
      "[Parallel(n_jobs=-1)]: Done  42 tasks      | elapsed:  2.1min\n",
      "[Parallel(n_jobs=-1)]: Done  60 out of  60 | elapsed:  2.7min finished\n"
     ]
    },
    {
     "name": "stdout",
     "output_type": "stream",
     "text": [
      "done in 163.214s\n",
      "\n",
      "Best score: 0.244\n",
      "Best parameters set:\n",
      "\tclf__alpha: 1e-06\n",
      "\tvect__max_df: 0.01\n",
      "\tvect__ngram_range: (1, 1)\n",
      "\tvect__use_idf: False\n",
      "sorghum: Performing grid search ...\n",
      "pipeline: ['vect', 'clf']\n",
      "parameters:\n",
      "{'vect__max_df': (0.01, 0.05, 0.5, 0.75, 1.0), 'vect__ngram_range': ((1, 1), (1, 2)), 'vect__use_idf': (True, False), 'clf__alpha': (1e-05, 1e-06)}\n",
      "Fitting 3 folds for each of 20 candidates, totalling 60 fits\n"
     ]
    },
    {
     "name": "stderr",
     "output_type": "stream",
     "text": [
      "[Parallel(n_jobs=-1)]: Done  42 tasks      | elapsed:  2.0min\n",
      "[Parallel(n_jobs=-1)]: Done  60 out of  60 | elapsed:  2.5min finished\n"
     ]
    },
    {
     "name": "stdout",
     "output_type": "stream",
     "text": [
      "done in 149.696s\n",
      "\n",
      "Best score: 0.512\n",
      "Best parameters set:\n",
      "\tclf__alpha: 1e-06\n",
      "\tvect__max_df: 0.75\n",
      "\tvect__ngram_range: (1, 1)\n",
      "\tvect__use_idf: True\n",
      "sugar: Performing grid search ...\n",
      "pipeline: ['vect', 'clf']\n",
      "parameters:\n",
      "{'vect__max_df': (0.01, 0.05, 0.5, 0.75, 1.0), 'vect__ngram_range': ((1, 1), (1, 2)), 'vect__use_idf': (True, False), 'clf__alpha': (1e-05, 1e-06)}\n",
      "Fitting 3 folds for each of 20 candidates, totalling 60 fits\n"
     ]
    },
    {
     "name": "stderr",
     "output_type": "stream",
     "text": [
      "[Parallel(n_jobs=-1)]: Done  42 tasks      | elapsed:  2.4min\n",
      "[Parallel(n_jobs=-1)]: Done  60 out of  60 | elapsed:  3.2min finished\n"
     ]
    },
    {
     "name": "stdout",
     "output_type": "stream",
     "text": [
      "done in 199.594s\n",
      "\n",
      "Best score: 0.856\n",
      "Best parameters set:\n",
      "\tclf__alpha: 1e-06\n",
      "\tvect__max_df: 0.5\n",
      "\tvect__ngram_range: (1, 2)\n",
      "\tvect__use_idf: True\n",
      "soy-oil: Performing grid search ...\n",
      "pipeline: ['vect', 'clf']\n",
      "parameters:\n",
      "{'vect__max_df': (0.01, 0.05, 0.5, 0.75, 1.0), 'vect__ngram_range': ((1, 1), (1, 2)), 'vect__use_idf': (True, False), 'clf__alpha': (1e-05, 1e-06)}\n",
      "Fitting 3 folds for each of 20 candidates, totalling 60 fits\n"
     ]
    },
    {
     "name": "stderr",
     "output_type": "stream",
     "text": [
      "[Parallel(n_jobs=-1)]: Done  42 tasks      | elapsed:  1.9min\n",
      "[Parallel(n_jobs=-1)]: Done  60 out of  60 | elapsed:  2.5min finished\n"
     ]
    },
    {
     "name": "stdout",
     "output_type": "stream",
     "text": [
      "done in 154.253s\n",
      "\n",
      "Best score: 0.239\n",
      "Best parameters set:\n",
      "\tclf__alpha: 1e-06\n",
      "\tvect__max_df: 0.75\n",
      "\tvect__ngram_range: (1, 1)\n",
      "\tvect__use_idf: False\n",
      "ipi: Performing grid search ...\n",
      "pipeline: ['vect', 'clf']\n",
      "parameters:\n",
      "{'vect__max_df': (0.01, 0.05, 0.5, 0.75, 1.0), 'vect__ngram_range': ((1, 1), (1, 2)), 'vect__use_idf': (True, False), 'clf__alpha': (1e-05, 1e-06)}\n",
      "Fitting 3 folds for each of 20 candidates, totalling 60 fits\n"
     ]
    },
    {
     "name": "stderr",
     "output_type": "stream",
     "text": [
      "[Parallel(n_jobs=-1)]: Done  42 tasks      | elapsed:  1.8min\n",
      "[Parallel(n_jobs=-1)]: Done  60 out of  60 | elapsed:  2.6min finished\n"
     ]
    },
    {
     "name": "stdout",
     "output_type": "stream",
     "text": [
      "done in 159.933s\n",
      "\n",
      "Best score: 0.784\n",
      "Best parameters set:\n",
      "\tclf__alpha: 1e-05\n",
      "\tvect__max_df: 0.75\n",
      "\tvect__ngram_range: (1, 2)\n",
      "\tvect__use_idf: False\n",
      "money-fx: Performing grid search ...\n",
      "pipeline: ['vect', 'clf']\n",
      "parameters:\n",
      "{'vect__max_df': (0.01, 0.05, 0.5, 0.75, 1.0), 'vect__ngram_range': ((1, 1), (1, 2)), 'vect__use_idf': (True, False), 'clf__alpha': (1e-05, 1e-06)}\n",
      "Fitting 3 folds for each of 20 candidates, totalling 60 fits\n"
     ]
    },
    {
     "name": "stderr",
     "output_type": "stream",
     "text": [
      "[Parallel(n_jobs=-1)]: Done  42 tasks      | elapsed:  2.2min\n",
      "[Parallel(n_jobs=-1)]: Done  60 out of  60 | elapsed:  3.2min finished\n"
     ]
    },
    {
     "name": "stdout",
     "output_type": "stream",
     "text": [
      "done in 191.166s\n",
      "\n",
      "Best score: 0.763\n",
      "Best parameters set:\n",
      "\tclf__alpha: 1e-05\n",
      "\tvect__max_df: 0.75\n",
      "\tvect__ngram_range: (1, 1)\n",
      "\tvect__use_idf: False\n",
      "rice: Performing grid search ...\n",
      "pipeline: ['vect', 'clf']\n",
      "parameters:\n",
      "{'vect__max_df': (0.01, 0.05, 0.5, 0.75, 1.0), 'vect__ngram_range': ((1, 1), (1, 2)), 'vect__use_idf': (True, False), 'clf__alpha': (1e-05, 1e-06)}\n",
      "Fitting 3 folds for each of 20 candidates, totalling 60 fits\n"
     ]
    },
    {
     "name": "stderr",
     "output_type": "stream",
     "text": [
      "[Parallel(n_jobs=-1)]: Done  42 tasks      | elapsed:  2.3min\n",
      "[Parallel(n_jobs=-1)]: Done  60 out of  60 | elapsed:  3.1min finished\n"
     ]
    },
    {
     "name": "stdout",
     "output_type": "stream",
     "text": [
      "done in 189.931s\n",
      "\n",
      "Best score: 0.680\n",
      "Best parameters set:\n",
      "\tclf__alpha: 1e-06\n",
      "\tvect__max_df: 0.75\n",
      "\tvect__ngram_range: (1, 1)\n",
      "\tvect__use_idf: True\n",
      "coffee: Performing grid search ...\n",
      "pipeline: ['vect', 'clf']\n",
      "parameters:\n",
      "{'vect__max_df': (0.01, 0.05, 0.5, 0.75, 1.0), 'vect__ngram_range': ((1, 1), (1, 2)), 'vect__use_idf': (True, False), 'clf__alpha': (1e-05, 1e-06)}\n",
      "Fitting 3 folds for each of 20 candidates, totalling 60 fits\n"
     ]
    },
    {
     "name": "stderr",
     "output_type": "stream",
     "text": [
      "[Parallel(n_jobs=-1)]: Done  42 tasks      | elapsed:  2.3min\n",
      "[Parallel(n_jobs=-1)]: Done  60 out of  60 | elapsed:  3.2min finished\n"
     ]
    },
    {
     "name": "stdout",
     "output_type": "stream",
     "text": [
      "done in 203.587s\n",
      "\n",
      "Best score: 0.862\n",
      "Best parameters set:\n",
      "\tclf__alpha: 1e-06\n",
      "\tvect__max_df: 0.05\n",
      "\tvect__ngram_range: (1, 2)\n",
      "\tvect__use_idf: True\n",
      "cpi: Performing grid search ...\n",
      "pipeline: ['vect', 'clf']\n",
      "parameters:\n",
      "{'vect__max_df': (0.01, 0.05, 0.5, 0.75, 1.0), 'vect__ngram_range': ((1, 1), (1, 2)), 'vect__use_idf': (True, False), 'clf__alpha': (1e-05, 1e-06)}\n",
      "Fitting 3 folds for each of 20 candidates, totalling 60 fits\n"
     ]
    },
    {
     "name": "stderr",
     "output_type": "stream",
     "text": [
      "[Parallel(n_jobs=-1)]: Done  42 tasks      | elapsed:  2.3min\n",
      "[Parallel(n_jobs=-1)]: Done  60 out of  60 | elapsed:  3.2min finished\n"
     ]
    },
    {
     "name": "stdout",
     "output_type": "stream",
     "text": [
      "done in 200.967s\n",
      "\n",
      "Best score: 0.694\n",
      "Best parameters set:\n",
      "\tclf__alpha: 1e-06\n",
      "\tvect__max_df: 0.05\n",
      "\tvect__ngram_range: (1, 2)\n",
      "\tvect__use_idf: True\n",
      "orange: Performing grid search ...\n",
      "pipeline: ['vect', 'clf']\n",
      "parameters:\n",
      "{'vect__max_df': (0.01, 0.05, 0.5, 0.75, 1.0), 'vect__ngram_range': ((1, 1), (1, 2)), 'vect__use_idf': (True, False), 'clf__alpha': (1e-05, 1e-06)}\n",
      "Fitting 3 folds for each of 20 candidates, totalling 60 fits\n"
     ]
    },
    {
     "name": "stderr",
     "output_type": "stream",
     "text": [
      "[Parallel(n_jobs=-1)]: Done  42 tasks      | elapsed:  1.9min\n",
      "[Parallel(n_jobs=-1)]: Done  60 out of  60 | elapsed:  2.6min finished\n"
     ]
    },
    {
     "name": "stdout",
     "output_type": "stream",
     "text": [
      "done in 165.693s\n",
      "\n",
      "Best score: 0.753\n",
      "Best parameters set:\n",
      "\tclf__alpha: 1e-06\n",
      "\tvect__max_df: 0.5\n",
      "\tvect__ngram_range: (1, 2)\n",
      "\tvect__use_idf: True\n",
      "iron-steel: Performing grid search ...\n",
      "pipeline: ['vect', 'clf']\n",
      "parameters:\n",
      "{'vect__max_df': (0.01, 0.05, 0.5, 0.75, 1.0), 'vect__ngram_range': ((1, 1), (1, 2)), 'vect__use_idf': (True, False), 'clf__alpha': (1e-05, 1e-06)}\n",
      "Fitting 3 folds for each of 20 candidates, totalling 60 fits\n"
     ]
    },
    {
     "name": "stderr",
     "output_type": "stream",
     "text": [
      "[Parallel(n_jobs=-1)]: Done  42 tasks      | elapsed:  2.3min\n",
      "[Parallel(n_jobs=-1)]: Done  60 out of  60 | elapsed:  3.3min finished\n"
     ]
    },
    {
     "name": "stdout",
     "output_type": "stream",
     "text": [
      "done in 199.518s\n",
      "\n",
      "Best score: 0.572\n",
      "Best parameters set:\n",
      "\tclf__alpha: 1e-06\n",
      "\tvect__max_df: 0.05\n",
      "\tvect__ngram_range: (1, 1)\n",
      "\tvect__use_idf: True\n",
      "soybean: Performing grid search ...\n",
      "pipeline: ['vect', 'clf']\n",
      "parameters:\n",
      "{'vect__max_df': (0.01, 0.05, 0.5, 0.75, 1.0), 'vect__ngram_range': ((1, 1), (1, 2)), 'vect__use_idf': (True, False), 'clf__alpha': (1e-05, 1e-06)}\n",
      "Fitting 3 folds for each of 20 candidates, totalling 60 fits\n"
     ]
    },
    {
     "name": "stderr",
     "output_type": "stream",
     "text": [
      "[Parallel(n_jobs=-1)]: Done  42 tasks      | elapsed:  3.4min\n",
      "[Parallel(n_jobs=-1)]: Done  60 out of  60 | elapsed:  4.8min finished\n"
     ]
    },
    {
     "name": "stdout",
     "output_type": "stream",
     "text": [
      "done in 296.019s\n",
      "\n",
      "Best score: 0.615\n",
      "Best parameters set:\n",
      "\tclf__alpha: 1e-05\n",
      "\tvect__max_df: 0.01\n",
      "\tvect__ngram_range: (1, 2)\n",
      "\tvect__use_idf: False\n",
      "yen: Performing grid search ...\n",
      "pipeline: ['vect', 'clf']\n",
      "parameters:\n",
      "{'vect__max_df': (0.01, 0.05, 0.5, 0.75, 1.0), 'vect__ngram_range': ((1, 1), (1, 2)), 'vect__use_idf': (True, False), 'clf__alpha': (1e-05, 1e-06)}\n",
      "Fitting 3 folds for each of 20 candidates, totalling 60 fits\n"
     ]
    },
    {
     "name": "stderr",
     "output_type": "stream",
     "text": [
      "[Parallel(n_jobs=-1)]: Done  42 tasks      | elapsed:  4.0min\n",
      "[Parallel(n_jobs=-1)]: Done  60 out of  60 | elapsed:  5.3min finished\n"
     ]
    },
    {
     "name": "stdout",
     "output_type": "stream",
     "text": [
      "done in 325.532s\n",
      "\n",
      "Best score: 0.347\n",
      "Best parameters set:\n",
      "\tclf__alpha: 1e-06\n",
      "\tvect__max_df: 0.5\n",
      "\tvect__ngram_range: (1, 2)\n",
      "\tvect__use_idf: False\n",
      "corn: Performing grid search ...\n",
      "pipeline: ['vect', 'clf']\n",
      "parameters:\n",
      "{'vect__max_df': (0.01, 0.05, 0.5, 0.75, 1.0), 'vect__ngram_range': ((1, 1), (1, 2)), 'vect__use_idf': (True, False), 'clf__alpha': (1e-05, 1e-06)}\n",
      "Fitting 3 folds for each of 20 candidates, totalling 60 fits\n"
     ]
    },
    {
     "name": "stderr",
     "output_type": "stream",
     "text": [
      "[Parallel(n_jobs=-1)]: Done  42 tasks      | elapsed:  2.5min\n",
      "[Parallel(n_jobs=-1)]: Done  60 out of  60 | elapsed:  3.2min finished\n"
     ]
    },
    {
     "name": "stdout",
     "output_type": "stream",
     "text": [
      "done in 208.917s\n",
      "\n",
      "Best score: 0.790\n",
      "Best parameters set:\n",
      "\tclf__alpha: 1e-05\n",
      "\tvect__max_df: 0.5\n",
      "\tvect__ngram_range: (1, 2)\n",
      "\tvect__use_idf: True\n",
      "rubber: Performing grid search ...\n",
      "pipeline: ['vect', 'clf']\n",
      "parameters:\n",
      "{'vect__max_df': (0.01, 0.05, 0.5, 0.75, 1.0), 'vect__ngram_range': ((1, 1), (1, 2)), 'vect__use_idf': (True, False), 'clf__alpha': (1e-05, 1e-06)}\n",
      "Fitting 3 folds for each of 20 candidates, totalling 60 fits\n"
     ]
    },
    {
     "name": "stderr",
     "output_type": "stream",
     "text": [
      "[Parallel(n_jobs=-1)]: Done  42 tasks      | elapsed:  3.2min\n",
      "[Parallel(n_jobs=-1)]: Done  60 out of  60 | elapsed:  4.4min finished\n"
     ]
    },
    {
     "name": "stdout",
     "output_type": "stream",
     "text": [
      "done in 271.671s\n",
      "\n",
      "Best score: 0.719\n",
      "Best parameters set:\n",
      "\tclf__alpha: 1e-05\n",
      "\tvect__max_df: 0.01\n",
      "\tvect__ngram_range: (1, 2)\n",
      "\tvect__use_idf: False\n",
      "gnp: Performing grid search ...\n",
      "pipeline: ['vect', 'clf']\n",
      "parameters:\n",
      "{'vect__max_df': (0.01, 0.05, 0.5, 0.75, 1.0), 'vect__ngram_range': ((1, 1), (1, 2)), 'vect__use_idf': (True, False), 'clf__alpha': (1e-05, 1e-06)}\n",
      "Fitting 3 folds for each of 20 candidates, totalling 60 fits\n"
     ]
    },
    {
     "name": "stderr",
     "output_type": "stream",
     "text": [
      "[Parallel(n_jobs=-1)]: Done  42 tasks      | elapsed:  2.2min\n",
      "[Parallel(n_jobs=-1)]: Done  60 out of  60 | elapsed:  3.3min finished\n"
     ]
    },
    {
     "name": "stdout",
     "output_type": "stream",
     "text": [
      "done in 206.577s\n",
      "\n",
      "Best score: 0.769\n",
      "Best parameters set:\n",
      "\tclf__alpha: 1e-06\n",
      "\tvect__max_df: 1.0\n",
      "\tvect__ngram_range: (1, 2)\n",
      "\tvect__use_idf: True\n",
      "strategic-metal: Performing grid search ...\n",
      "pipeline: ['vect', 'clf']\n",
      "parameters:\n",
      "{'vect__max_df': (0.01, 0.05, 0.5, 0.75, 1.0), 'vect__ngram_range': ((1, 1), (1, 2)), 'vect__use_idf': (True, False), 'clf__alpha': (1e-05, 1e-06)}\n",
      "Fitting 3 folds for each of 20 candidates, totalling 60 fits\n"
     ]
    },
    {
     "name": "stderr",
     "output_type": "stream",
     "text": [
      "[Parallel(n_jobs=-1)]: Done  42 tasks      | elapsed:  2.3min\n",
      "[Parallel(n_jobs=-1)]: Done  60 out of  60 | elapsed:  3.1min finished\n"
     ]
    },
    {
     "name": "stdout",
     "output_type": "stream",
     "text": [
      "done in 190.039s\n",
      "\n",
      "Best score: 0.500\n",
      "Best parameters set:\n",
      "\tclf__alpha: 1e-06\n",
      "\tvect__max_df: 0.01\n",
      "\tvect__ngram_range: (1, 1)\n",
      "\tvect__use_idf: False\n",
      "acq: Performing grid search ...\n",
      "pipeline: ['vect', 'clf']\n",
      "parameters:\n",
      "{'vect__max_df': (0.01, 0.05, 0.5, 0.75, 1.0), 'vect__ngram_range': ((1, 1), (1, 2)), 'vect__use_idf': (True, False), 'clf__alpha': (1e-05, 1e-06)}\n",
      "Fitting 3 folds for each of 20 candidates, totalling 60 fits\n"
     ]
    },
    {
     "name": "stderr",
     "output_type": "stream",
     "text": [
      "[Parallel(n_jobs=-1)]: Done  42 tasks      | elapsed:  2.3min\n",
      "[Parallel(n_jobs=-1)]: Done  60 out of  60 | elapsed:  3.1min finished\n"
     ]
    },
    {
     "name": "stdout",
     "output_type": "stream",
     "text": [
      "done in 194.666s\n",
      "\n",
      "Best score: 0.841\n",
      "Best parameters set:\n",
      "\tclf__alpha: 1e-05\n",
      "\tvect__max_df: 1.0\n",
      "\tvect__ngram_range: (1, 2)\n",
      "\tvect__use_idf: False\n",
      "interest: Performing grid search ...\n",
      "pipeline: ['vect', 'clf']\n",
      "parameters:\n",
      "{'vect__max_df': (0.01, 0.05, 0.5, 0.75, 1.0), 'vect__ngram_range': ((1, 1), (1, 2)), 'vect__use_idf': (True, False), 'clf__alpha': (1e-05, 1e-06)}\n",
      "Fitting 3 folds for each of 20 candidates, totalling 60 fits\n"
     ]
    },
    {
     "name": "stderr",
     "output_type": "stream",
     "text": [
      "[Parallel(n_jobs=-1)]: Done  42 tasks      | elapsed:  2.4min\n",
      "[Parallel(n_jobs=-1)]: Done  60 out of  60 | elapsed:  3.2min finished\n"
     ]
    },
    {
     "name": "stdout",
     "output_type": "stream",
     "text": [
      "done in 197.739s\n",
      "\n",
      "Best score: 0.707\n",
      "Best parameters set:\n",
      "\tclf__alpha: 1e-06\n",
      "\tvect__max_df: 0.5\n",
      "\tvect__ngram_range: (1, 2)\n",
      "\tvect__use_idf: False\n",
      "alum: Performing grid search ...\n",
      "pipeline: ['vect', 'clf']\n",
      "parameters:\n",
      "{'vect__max_df': (0.01, 0.05, 0.5, 0.75, 1.0), 'vect__ngram_range': ((1, 1), (1, 2)), 'vect__use_idf': (True, False), 'clf__alpha': (1e-05, 1e-06)}\n",
      "Fitting 3 folds for each of 20 candidates, totalling 60 fits\n"
     ]
    },
    {
     "name": "stderr",
     "output_type": "stream",
     "text": [
      "[Parallel(n_jobs=-1)]: Done  42 tasks      | elapsed:  2.1min\n",
      "[Parallel(n_jobs=-1)]: Done  60 out of  60 | elapsed:  3.0min finished\n"
     ]
    },
    {
     "name": "stdout",
     "output_type": "stream",
     "text": [
      "done in 180.239s\n",
      "\n",
      "Best score: 0.775\n",
      "Best parameters set:\n",
      "\tclf__alpha: 1e-05\n",
      "\tvect__max_df: 1.0\n",
      "\tvect__ngram_range: (1, 1)\n",
      "\tvect__use_idf: True\n",
      "tin: Performing grid search ...\n",
      "pipeline: ['vect', 'clf']\n",
      "parameters:\n",
      "{'vect__max_df': (0.01, 0.05, 0.5, 0.75, 1.0), 'vect__ngram_range': ((1, 1), (1, 2)), 'vect__use_idf': (True, False), 'clf__alpha': (1e-05, 1e-06)}\n",
      "Fitting 3 folds for each of 20 candidates, totalling 60 fits\n"
     ]
    },
    {
     "name": "stderr",
     "output_type": "stream",
     "text": [
      "[Parallel(n_jobs=-1)]: Done  42 tasks      | elapsed:  2.7min\n",
      "[Parallel(n_jobs=-1)]: Done  60 out of  60 | elapsed:  3.5min finished\n"
     ]
    },
    {
     "name": "stdout",
     "output_type": "stream",
     "text": [
      "done in 211.413s\n",
      "\n",
      "Best score: 0.833\n",
      "Best parameters set:\n",
      "\tclf__alpha: 1e-06\n",
      "\tvect__max_df: 0.05\n",
      "\tvect__ngram_range: (1, 1)\n",
      "\tvect__use_idf: False\n",
      "grain: Performing grid search ...\n",
      "pipeline: ['vect', 'clf']\n",
      "parameters:\n",
      "{'vect__max_df': (0.01, 0.05, 0.5, 0.75, 1.0), 'vect__ngram_range': ((1, 1), (1, 2)), 'vect__use_idf': (True, False), 'clf__alpha': (1e-05, 1e-06)}\n",
      "Fitting 3 folds for each of 20 candidates, totalling 60 fits\n"
     ]
    },
    {
     "name": "stderr",
     "output_type": "stream",
     "text": [
      "[Parallel(n_jobs=-1)]: Done  42 tasks      | elapsed:  2.2min\n",
      "[Parallel(n_jobs=-1)]: Done  60 out of  60 | elapsed:  3.2min finished\n"
     ]
    },
    {
     "name": "stdout",
     "output_type": "stream",
     "text": [
      "done in 196.702s\n",
      "\n",
      "Best score: 0.843\n",
      "Best parameters set:\n",
      "\tclf__alpha: 1e-05\n",
      "\tvect__max_df: 1.0\n",
      "\tvect__ngram_range: (1, 2)\n",
      "\tvect__use_idf: True\n",
      "barley: Performing grid search ...\n",
      "pipeline: ['vect', 'clf']\n",
      "parameters:\n",
      "{'vect__max_df': (0.01, 0.05, 0.5, 0.75, 1.0), 'vect__ngram_range': ((1, 1), (1, 2)), 'vect__use_idf': (True, False), 'clf__alpha': (1e-05, 1e-06)}\n",
      "Fitting 3 folds for each of 20 candidates, totalling 60 fits\n"
     ]
    },
    {
     "name": "stderr",
     "output_type": "stream",
     "text": [
      "[Parallel(n_jobs=-1)]: Done  42 tasks      | elapsed:  2.2min\n",
      "[Parallel(n_jobs=-1)]: Done  60 out of  60 | elapsed:  2.9min finished\n"
     ]
    },
    {
     "name": "stdout",
     "output_type": "stream",
     "text": [
      "done in 182.998s\n",
      "\n",
      "Best score: 0.679\n",
      "Best parameters set:\n",
      "\tclf__alpha: 1e-05\n",
      "\tvect__max_df: 0.01\n",
      "\tvect__ngram_range: (1, 2)\n",
      "\tvect__use_idf: False\n",
      "soy-meal: Performing grid search ...\n",
      "pipeline: ['vect', 'clf']\n",
      "parameters:\n",
      "{'vect__max_df': (0.01, 0.05, 0.5, 0.75, 1.0), 'vect__ngram_range': ((1, 1), (1, 2)), 'vect__use_idf': (True, False), 'clf__alpha': (1e-05, 1e-06)}\n",
      "Fitting 3 folds for each of 20 candidates, totalling 60 fits\n"
     ]
    },
    {
     "name": "stderr",
     "output_type": "stream",
     "text": [
      "[Parallel(n_jobs=-1)]: Done  42 tasks      | elapsed:  2.4min\n",
      "[Parallel(n_jobs=-1)]: Done  60 out of  60 | elapsed:  3.2min finished\n"
     ]
    },
    {
     "name": "stdout",
     "output_type": "stream",
     "text": [
      "done in 193.748s\n",
      "\n",
      "Best score: 0.194\n",
      "Best parameters set:\n",
      "\tclf__alpha: 1e-06\n",
      "\tvect__max_df: 0.05\n",
      "\tvect__ngram_range: (1, 1)\n",
      "\tvect__use_idf: False\n",
      "lead: Performing grid search ...\n",
      "pipeline: ['vect', 'clf']\n",
      "parameters:\n",
      "{'vect__max_df': (0.01, 0.05, 0.5, 0.75, 1.0), 'vect__ngram_range': ((1, 1), (1, 2)), 'vect__use_idf': (True, False), 'clf__alpha': (1e-05, 1e-06)}\n",
      "Fitting 3 folds for each of 20 candidates, totalling 60 fits\n"
     ]
    },
    {
     "name": "stderr",
     "output_type": "stream",
     "text": [
      "[Parallel(n_jobs=-1)]: Done  42 tasks      | elapsed:  1.9min\n",
      "[Parallel(n_jobs=-1)]: Done  60 out of  60 | elapsed:  2.9min finished\n"
     ]
    },
    {
     "name": "stdout",
     "output_type": "stream",
     "text": [
      "done in 176.138s\n",
      "\n",
      "Best score: 0.411\n",
      "Best parameters set:\n",
      "\tclf__alpha: 1e-05\n",
      "\tvect__max_df: 0.05\n",
      "\tvect__ngram_range: (1, 1)\n",
      "\tvect__use_idf: False\n",
      "zinc: Performing grid search ...\n",
      "pipeline: ['vect', 'clf']\n",
      "parameters:\n",
      "{'vect__max_df': (0.01, 0.05, 0.5, 0.75, 1.0), 'vect__ngram_range': ((1, 1), (1, 2)), 'vect__use_idf': (True, False), 'clf__alpha': (1e-05, 1e-06)}\n",
      "Fitting 3 folds for each of 20 candidates, totalling 60 fits\n"
     ]
    },
    {
     "name": "stderr",
     "output_type": "stream",
     "text": [
      "[Parallel(n_jobs=-1)]: Done  42 tasks      | elapsed:  1.8min\n",
      "[Parallel(n_jobs=-1)]: Done  60 out of  60 | elapsed:  2.5min finished\n"
     ]
    },
    {
     "name": "stdout",
     "output_type": "stream",
     "text": [
      "done in 154.159s\n",
      "\n",
      "Best score: 0.777\n",
      "Best parameters set:\n",
      "\tclf__alpha: 1e-05\n",
      "\tvect__max_df: 0.5\n",
      "\tvect__ngram_range: (1, 1)\n",
      "\tvect__use_idf: True\n",
      "jobs: Performing grid search ...\n",
      "pipeline: ['vect', 'clf']\n",
      "parameters:\n",
      "{'vect__max_df': (0.01, 0.05, 0.5, 0.75, 1.0), 'vect__ngram_range': ((1, 1), (1, 2)), 'vect__use_idf': (True, False), 'clf__alpha': (1e-05, 1e-06)}\n",
      "Fitting 3 folds for each of 20 candidates, totalling 60 fits\n"
     ]
    },
    {
     "name": "stderr",
     "output_type": "stream",
     "text": [
      "[Parallel(n_jobs=-1)]: Done  42 tasks      | elapsed:  2.3min\n",
      "[Parallel(n_jobs=-1)]: Done  60 out of  60 | elapsed:  3.2min finished\n"
     ]
    },
    {
     "name": "stdout",
     "output_type": "stream",
     "text": [
      "done in 191.344s\n",
      "\n",
      "Best score: 0.867\n",
      "Best parameters set:\n",
      "\tclf__alpha: 1e-06\n",
      "\tvect__max_df: 0.5\n",
      "\tvect__ngram_range: (1, 1)\n",
      "\tvect__use_idf: False\n",
      "gold: Performing grid search ...\n",
      "pipeline: ['vect', 'clf']\n",
      "parameters:\n",
      "{'vect__max_df': (0.01, 0.05, 0.5, 0.75, 1.0), 'vect__ngram_range': ((1, 1), (1, 2)), 'vect__use_idf': (True, False), 'clf__alpha': (1e-05, 1e-06)}\n",
      "Fitting 3 folds for each of 20 candidates, totalling 60 fits\n"
     ]
    },
    {
     "name": "stderr",
     "output_type": "stream",
     "text": [
      "[Parallel(n_jobs=-1)]: Done  42 tasks      | elapsed:  2.2min\n",
      "[Parallel(n_jobs=-1)]: Done  60 out of  60 | elapsed:  2.9min finished\n"
     ]
    },
    {
     "name": "stdout",
     "output_type": "stream",
     "text": [
      "done in 177.851s\n",
      "\n",
      "Best score: 0.771\n",
      "Best parameters set:\n",
      "\tclf__alpha: 1e-05\n",
      "\tvect__max_df: 0.75\n",
      "\tvect__ngram_range: (1, 2)\n",
      "\tvect__use_idf: True\n",
      "oat: Performing grid search ...\n",
      "pipeline: ['vect', 'clf']\n",
      "parameters:\n",
      "{'vect__max_df': (0.01, 0.05, 0.5, 0.75, 1.0), 'vect__ngram_range': ((1, 1), (1, 2)), 'vect__use_idf': (True, False), 'clf__alpha': (1e-05, 1e-06)}\n",
      "Fitting 3 folds for each of 20 candidates, totalling 60 fits\n"
     ]
    },
    {
     "name": "stderr",
     "output_type": "stream",
     "text": [
      "[Parallel(n_jobs=-1)]: Done  42 tasks      | elapsed:  2.0min\n",
      "[Parallel(n_jobs=-1)]: Done  60 out of  60 | elapsed:  2.4min finished\n"
     ]
    },
    {
     "name": "stdout",
     "output_type": "stream",
     "text": [
      "done in 149.214s\n",
      "\n",
      "Best score: 0.217\n",
      "Best parameters set:\n",
      "\tclf__alpha: 1e-06\n",
      "\tvect__max_df: 0.01\n",
      "\tvect__ngram_range: (1, 1)\n",
      "\tvect__use_idf: True\n",
      "hog: Performing grid search ...\n",
      "pipeline: ['vect', 'clf']\n",
      "parameters:\n",
      "{'vect__max_df': (0.01, 0.05, 0.5, 0.75, 1.0), 'vect__ngram_range': ((1, 1), (1, 2)), 'vect__use_idf': (True, False), 'clf__alpha': (1e-05, 1e-06)}\n",
      "Fitting 3 folds for each of 20 candidates, totalling 60 fits\n"
     ]
    },
    {
     "name": "stderr",
     "output_type": "stream",
     "text": [
      "[Parallel(n_jobs=-1)]: Done  42 tasks      | elapsed:  2.3min\n",
      "[Parallel(n_jobs=-1)]: Done  60 out of  60 | elapsed:  3.5min finished\n"
     ]
    },
    {
     "name": "stdout",
     "output_type": "stream",
     "text": [
      "done in 214.673s\n",
      "\n",
      "Best score: 0.437\n",
      "Best parameters set:\n",
      "\tclf__alpha: 1e-05\n",
      "\tvect__max_df: 0.5\n",
      "\tvect__ngram_range: (1, 1)\n",
      "\tvect__use_idf: True\n",
      "gas: Performing grid search ...\n",
      "pipeline: ['vect', 'clf']\n",
      "parameters:\n",
      "{'vect__max_df': (0.01, 0.05, 0.5, 0.75, 1.0), 'vect__ngram_range': ((1, 1), (1, 2)), 'vect__use_idf': (True, False), 'clf__alpha': (1e-05, 1e-06)}\n",
      "Fitting 3 folds for each of 20 candidates, totalling 60 fits\n"
     ]
    },
    {
     "name": "stderr",
     "output_type": "stream",
     "text": [
      "[Parallel(n_jobs=-1)]: Done  42 tasks      | elapsed:  2.7min\n",
      "[Parallel(n_jobs=-1)]: Done  60 out of  60 | elapsed:  3.6min finished\n"
     ]
    },
    {
     "name": "stdout",
     "output_type": "stream",
     "text": [
      "done in 215.733s\n",
      "\n",
      "Best score: 0.542\n",
      "Best parameters set:\n",
      "\tclf__alpha: 1e-05\n",
      "\tvect__max_df: 0.01\n",
      "\tvect__ngram_range: (1, 1)\n",
      "\tvect__use_idf: True\n",
      "nat-gas: Performing grid search ...\n",
      "pipeline: ['vect', 'clf']\n",
      "parameters:\n",
      "{'vect__max_df': (0.01, 0.05, 0.5, 0.75, 1.0), 'vect__ngram_range': ((1, 1), (1, 2)), 'vect__use_idf': (True, False), 'clf__alpha': (1e-05, 1e-06)}\n",
      "Fitting 3 folds for each of 20 candidates, totalling 60 fits\n"
     ]
    },
    {
     "name": "stderr",
     "output_type": "stream",
     "text": [
      "[Parallel(n_jobs=-1)]: Done  42 tasks      | elapsed:  2.4min\n",
      "[Parallel(n_jobs=-1)]: Done  60 out of  60 | elapsed:  3.3min finished\n"
     ]
    },
    {
     "name": "stdout",
     "output_type": "stream",
     "text": [
      "done in 202.019s\n",
      "\n",
      "Best score: 0.592\n",
      "Best parameters set:\n",
      "\tclf__alpha: 1e-05\n",
      "\tvect__max_df: 1.0\n",
      "\tvect__ngram_range: (1, 1)\n",
      "\tvect__use_idf: True\n",
      "meal-feed: Performing grid search ...\n",
      "pipeline: ['vect', 'clf']\n",
      "parameters:\n",
      "{'vect__max_df': (0.01, 0.05, 0.5, 0.75, 1.0), 'vect__ngram_range': ((1, 1), (1, 2)), 'vect__use_idf': (True, False), 'clf__alpha': (1e-05, 1e-06)}\n",
      "Fitting 3 folds for each of 20 candidates, totalling 60 fits\n"
     ]
    },
    {
     "name": "stderr",
     "output_type": "stream",
     "text": [
      "[Parallel(n_jobs=-1)]: Done  42 tasks      | elapsed:  2.4min\n",
      "[Parallel(n_jobs=-1)]: Done  60 out of  60 | elapsed:  3.2min finished\n"
     ]
    },
    {
     "name": "stdout",
     "output_type": "stream",
     "text": [
      "done in 194.405s\n",
      "\n",
      "Best score: 0.347\n",
      "Best parameters set:\n",
      "\tclf__alpha: 1e-06\n",
      "\tvect__max_df: 0.05\n",
      "\tvect__ngram_range: (1, 1)\n",
      "\tvect__use_idf: False\n",
      "livestock: Performing grid search ...\n",
      "pipeline: ['vect', 'clf']\n",
      "parameters:\n",
      "{'vect__max_df': (0.01, 0.05, 0.5, 0.75, 1.0), 'vect__ngram_range': ((1, 1), (1, 2)), 'vect__use_idf': (True, False), 'clf__alpha': (1e-05, 1e-06)}\n",
      "Fitting 3 folds for each of 20 candidates, totalling 60 fits\n"
     ]
    },
    {
     "name": "stderr",
     "output_type": "stream",
     "text": [
      "[Parallel(n_jobs=-1)]: Done  42 tasks      | elapsed:  2.8min\n",
      "[Parallel(n_jobs=-1)]: Done  60 out of  60 | elapsed:  3.4min finished\n"
     ]
    },
    {
     "name": "stdout",
     "output_type": "stream",
     "text": [
      "done in 213.323s\n",
      "\n",
      "Best score: 0.485\n",
      "Best parameters set:\n",
      "\tclf__alpha: 1e-06\n",
      "\tvect__max_df: 0.75\n",
      "\tvect__ngram_range: (1, 2)\n",
      "\tvect__use_idf: True\n",
      "fuel: Performing grid search ...\n",
      "pipeline: ['vect', 'clf']\n",
      "parameters:\n",
      "{'vect__max_df': (0.01, 0.05, 0.5, 0.75, 1.0), 'vect__ngram_range': ((1, 1), (1, 2)), 'vect__use_idf': (True, False), 'clf__alpha': (1e-05, 1e-06)}\n",
      "Fitting 3 folds for each of 20 candidates, totalling 60 fits\n"
     ]
    },
    {
     "name": "stderr",
     "output_type": "stream",
     "text": [
      "[Parallel(n_jobs=-1)]: Done  42 tasks      | elapsed:  1.8min\n",
      "[Parallel(n_jobs=-1)]: Done  60 out of  60 | elapsed:  2.6min finished\n"
     ]
    },
    {
     "name": "stdout",
     "output_type": "stream",
     "text": [
      "done in 156.480s\n",
      "\n",
      "Best score: 0.357\n",
      "Best parameters set:\n",
      "\tclf__alpha: 1e-06\n",
      "\tvect__max_df: 0.01\n",
      "\tvect__ngram_range: (1, 1)\n",
      "\tvect__use_idf: True\n",
      "dlr: Performing grid search ...\n",
      "pipeline: ['vect', 'clf']\n",
      "parameters:\n",
      "{'vect__max_df': (0.01, 0.05, 0.5, 0.75, 1.0), 'vect__ngram_range': ((1, 1), (1, 2)), 'vect__use_idf': (True, False), 'clf__alpha': (1e-05, 1e-06)}\n",
      "Fitting 3 folds for each of 20 candidates, totalling 60 fits\n"
     ]
    },
    {
     "name": "stderr",
     "output_type": "stream",
     "text": [
      "[Parallel(n_jobs=-1)]: Done  42 tasks      | elapsed:  2.3min\n",
      "[Parallel(n_jobs=-1)]: Done  60 out of  60 | elapsed:  3.1min finished\n"
     ]
    },
    {
     "name": "stdout",
     "output_type": "stream",
     "text": [
      "done in 186.262s\n",
      "\n",
      "Best score: 0.646\n",
      "Best parameters set:\n",
      "\tclf__alpha: 1e-06\n",
      "\tvect__max_df: 1.0\n",
      "\tvect__ngram_range: (1, 1)\n",
      "\tvect__use_idf: True\n",
      "oilseed: Performing grid search ...\n",
      "pipeline: ['vect', 'clf']\n",
      "parameters:\n",
      "{'vect__max_df': (0.01, 0.05, 0.5, 0.75, 1.0), 'vect__ngram_range': ((1, 1), (1, 2)), 'vect__use_idf': (True, False), 'clf__alpha': (1e-05, 1e-06)}\n",
      "Fitting 3 folds for each of 20 candidates, totalling 60 fits\n"
     ]
    },
    {
     "name": "stderr",
     "output_type": "stream",
     "text": [
      "[Parallel(n_jobs=-1)]: Done  42 tasks      | elapsed:  2.1min\n",
      "[Parallel(n_jobs=-1)]: Done  60 out of  60 | elapsed:  3.0min finished\n"
     ]
    },
    {
     "name": "stdout",
     "output_type": "stream",
     "text": [
      "done in 179.190s\n",
      "\n",
      "Best score: 0.605\n",
      "Best parameters set:\n",
      "\tclf__alpha: 1e-05\n",
      "\tvect__max_df: 0.01\n",
      "\tvect__ngram_range: (1, 1)\n",
      "\tvect__use_idf: True\n",
      "pet-chem: Performing grid search ...\n",
      "pipeline: ['vect', 'clf']\n",
      "parameters:\n",
      "{'vect__max_df': (0.01, 0.05, 0.5, 0.75, 1.0), 'vect__ngram_range': ((1, 1), (1, 2)), 'vect__use_idf': (True, False), 'clf__alpha': (1e-05, 1e-06)}\n",
      "Fitting 3 folds for each of 20 candidates, totalling 60 fits\n"
     ]
    },
    {
     "name": "stderr",
     "output_type": "stream",
     "text": [
      "[Parallel(n_jobs=-1)]: Done  42 tasks      | elapsed:  2.2min\n",
      "[Parallel(n_jobs=-1)]: Done  60 out of  60 | elapsed:  2.8min finished\n"
     ]
    },
    {
     "name": "stdout",
     "output_type": "stream",
     "text": [
      "done in 170.637s\n",
      "\n",
      "Best score: 0.275\n",
      "Best parameters set:\n",
      "\tclf__alpha: 1e-06\n",
      "\tvect__max_df: 0.05\n",
      "\tvect__ngram_range: (1, 1)\n",
      "\tvect__use_idf: True\n",
      "cotton: Performing grid search ...\n",
      "pipeline: ['vect', 'clf']\n",
      "parameters:\n",
      "{'vect__max_df': (0.01, 0.05, 0.5, 0.75, 1.0), 'vect__ngram_range': ((1, 1), (1, 2)), 'vect__use_idf': (True, False), 'clf__alpha': (1e-05, 1e-06)}\n",
      "Fitting 3 folds for each of 20 candidates, totalling 60 fits\n"
     ]
    },
    {
     "name": "stderr",
     "output_type": "stream",
     "text": [
      "[Parallel(n_jobs=-1)]: Done  42 tasks      | elapsed:  2.2min\n",
      "[Parallel(n_jobs=-1)]: Done  60 out of  60 | elapsed:  2.9min finished\n"
     ]
    },
    {
     "name": "stdout",
     "output_type": "stream",
     "text": [
      "done in 181.456s\n",
      "\n",
      "Best score: 0.554\n",
      "Best parameters set:\n",
      "\tclf__alpha: 1e-06\n",
      "\tvect__max_df: 0.01\n",
      "\tvect__ngram_range: (1, 2)\n",
      "\tvect__use_idf: True\n",
      "earn: Performing grid search ...\n",
      "pipeline: ['vect', 'clf']\n",
      "parameters:\n",
      "{'vect__max_df': (0.01, 0.05, 0.5, 0.75, 1.0), 'vect__ngram_range': ((1, 1), (1, 2)), 'vect__use_idf': (True, False), 'clf__alpha': (1e-05, 1e-06)}\n",
      "Fitting 3 folds for each of 20 candidates, totalling 60 fits\n"
     ]
    },
    {
     "name": "stderr",
     "output_type": "stream",
     "text": [
      "[Parallel(n_jobs=-1)]: Done  42 tasks      | elapsed:  1.8min\n",
      "[Parallel(n_jobs=-1)]: Done  60 out of  60 | elapsed:  2.7min finished\n"
     ]
    },
    {
     "name": "stdout",
     "output_type": "stream",
     "text": [
      "done in 163.271s\n",
      "\n",
      "Best score: 0.946\n",
      "Best parameters set:\n",
      "\tclf__alpha: 1e-05\n",
      "\tvect__max_df: 1.0\n",
      "\tvect__ngram_range: (1, 1)\n",
      "\tvect__use_idf: False\n",
      "income: Performing grid search ...\n",
      "pipeline: ['vect', 'clf']\n",
      "parameters:\n",
      "{'vect__max_df': (0.01, 0.05, 0.5, 0.75, 1.0), 'vect__ngram_range': ((1, 1), (1, 2)), 'vect__use_idf': (True, False), 'clf__alpha': (1e-05, 1e-06)}\n",
      "Fitting 3 folds for each of 20 candidates, totalling 60 fits\n"
     ]
    },
    {
     "name": "stderr",
     "output_type": "stream",
     "text": [
      "[Parallel(n_jobs=-1)]: Done  42 tasks      | elapsed:  1.9min\n",
      "[Parallel(n_jobs=-1)]: Done  60 out of  60 | elapsed:  2.7min finished\n"
     ]
    },
    {
     "name": "stdout",
     "output_type": "stream",
     "text": [
      "done in 161.463s\n",
      "\n",
      "Best score: 0.500\n",
      "Best parameters set:\n",
      "\tclf__alpha: 1e-06\n",
      "\tvect__max_df: 0.05\n",
      "\tvect__ngram_range: (1, 1)\n",
      "\tvect__use_idf: True\n",
      "cocoa: Performing grid search ...\n",
      "pipeline: ['vect', 'clf']\n",
      "parameters:\n",
      "{'vect__max_df': (0.01, 0.05, 0.5, 0.75, 1.0), 'vect__ngram_range': ((1, 1), (1, 2)), 'vect__use_idf': (True, False), 'clf__alpha': (1e-05, 1e-06)}\n",
      "Fitting 3 folds for each of 20 candidates, totalling 60 fits\n"
     ]
    },
    {
     "name": "stderr",
     "output_type": "stream",
     "text": [
      "[Parallel(n_jobs=-1)]: Done  42 tasks      | elapsed:  1.8min\n",
      "[Parallel(n_jobs=-1)]: Done  60 out of  60 | elapsed:  2.5min finished\n"
     ]
    },
    {
     "name": "stdout",
     "output_type": "stream",
     "text": [
      "done in 158.524s\n",
      "\n",
      "Best score: 0.815\n",
      "Best parameters set:\n",
      "\tclf__alpha: 1e-05\n",
      "\tvect__max_df: 0.5\n",
      "\tvect__ngram_range: (1, 2)\n",
      "\tvect__use_idf: True\n",
      "bop: Performing grid search ...\n",
      "pipeline: ['vect', 'clf']\n",
      "parameters:\n",
      "{'vect__max_df': (0.01, 0.05, 0.5, 0.75, 1.0), 'vect__ngram_range': ((1, 1), (1, 2)), 'vect__use_idf': (True, False), 'clf__alpha': (1e-05, 1e-06)}\n",
      "Fitting 3 folds for each of 20 candidates, totalling 60 fits\n"
     ]
    },
    {
     "name": "stderr",
     "output_type": "stream",
     "text": [
      "[Parallel(n_jobs=-1)]: Done  42 tasks      | elapsed:  2.0min\n",
      "[Parallel(n_jobs=-1)]: Done  60 out of  60 | elapsed:  2.8min finished\n"
     ]
    },
    {
     "name": "stdout",
     "output_type": "stream",
     "text": [
      "done in 174.110s\n",
      "\n",
      "Best score: 0.716\n",
      "Best parameters set:\n",
      "\tclf__alpha: 1e-05\n",
      "\tvect__max_df: 1.0\n",
      "\tvect__ngram_range: (1, 2)\n",
      "\tvect__use_idf: False\n",
      "crude: Performing grid search ...\n",
      "pipeline: ['vect', 'clf']\n",
      "parameters:\n",
      "{'vect__max_df': (0.01, 0.05, 0.5, 0.75, 1.0), 'vect__ngram_range': ((1, 1), (1, 2)), 'vect__use_idf': (True, False), 'clf__alpha': (1e-05, 1e-06)}\n",
      "Fitting 3 folds for each of 20 candidates, totalling 60 fits\n"
     ]
    },
    {
     "name": "stderr",
     "output_type": "stream",
     "text": [
      "[Parallel(n_jobs=-1)]: Done  42 tasks      | elapsed:  2.0min\n",
      "[Parallel(n_jobs=-1)]: Done  60 out of  60 | elapsed:  3.0min finished\n"
     ]
    },
    {
     "name": "stdout",
     "output_type": "stream",
     "text": [
      "done in 186.881s\n",
      "\n",
      "Best score: 0.836\n",
      "Best parameters set:\n",
      "\tclf__alpha: 1e-06\n",
      "\tvect__max_df: 0.75\n",
      "\tvect__ngram_range: (1, 2)\n",
      "\tvect__use_idf: True\n",
      "veg-oil: Performing grid search ...\n",
      "pipeline: ['vect', 'clf']\n",
      "parameters:\n",
      "{'vect__max_df': (0.01, 0.05, 0.5, 0.75, 1.0), 'vect__ngram_range': ((1, 1), (1, 2)), 'vect__use_idf': (True, False), 'clf__alpha': (1e-05, 1e-06)}\n",
      "Fitting 3 folds for each of 20 candidates, totalling 60 fits\n"
     ]
    },
    {
     "name": "stderr",
     "output_type": "stream",
     "text": [
      "[Parallel(n_jobs=-1)]: Done  42 tasks      | elapsed:  2.1min\n",
      "[Parallel(n_jobs=-1)]: Done  60 out of  60 | elapsed:  2.6min finished\n"
     ]
    },
    {
     "name": "stdout",
     "output_type": "stream",
     "text": [
      "done in 155.656s\n",
      "\n",
      "Best score: 0.754\n",
      "Best parameters set:\n",
      "\tclf__alpha: 1e-05\n",
      "\tvect__max_df: 0.75\n",
      "\tvect__ngram_range: (1, 1)\n",
      "\tvect__use_idf: False\n",
      "wpi: Performing grid search ...\n",
      "pipeline: ['vect', 'clf']\n",
      "parameters:\n",
      "{'vect__max_df': (0.01, 0.05, 0.5, 0.75, 1.0), 'vect__ngram_range': ((1, 1), (1, 2)), 'vect__use_idf': (True, False), 'clf__alpha': (1e-05, 1e-06)}\n",
      "Fitting 3 folds for each of 20 candidates, totalling 60 fits\n"
     ]
    },
    {
     "name": "stderr",
     "output_type": "stream",
     "text": [
      "[Parallel(n_jobs=-1)]: Done  42 tasks      | elapsed:  2.0min\n",
      "[Parallel(n_jobs=-1)]: Done  60 out of  60 | elapsed:  2.7min finished\n"
     ]
    },
    {
     "name": "stdout",
     "output_type": "stream",
     "text": [
      "done in 162.464s\n",
      "\n",
      "Best score: 0.867\n",
      "Best parameters set:\n",
      "\tclf__alpha: 1e-05\n",
      "\tvect__max_df: 0.05\n",
      "\tvect__ngram_range: (1, 1)\n",
      "\tvect__use_idf: True\n",
      "copper: Performing grid search ...\n",
      "pipeline: ['vect', 'clf']\n",
      "parameters:\n",
      "{'vect__max_df': (0.01, 0.05, 0.5, 0.75, 1.0), 'vect__ngram_range': ((1, 1), (1, 2)), 'vect__use_idf': (True, False), 'clf__alpha': (1e-05, 1e-06)}\n",
      "Fitting 3 folds for each of 20 candidates, totalling 60 fits\n"
     ]
    },
    {
     "name": "stderr",
     "output_type": "stream",
     "text": [
      "[Parallel(n_jobs=-1)]: Done  42 tasks      | elapsed:  1.8min\n",
      "[Parallel(n_jobs=-1)]: Done  60 out of  60 | elapsed:  2.3min finished\n"
     ]
    },
    {
     "name": "stdout",
     "output_type": "stream",
     "text": [
      "done in 146.404s\n",
      "\n",
      "Best score: 0.628\n",
      "Best parameters set:\n",
      "\tclf__alpha: 1e-05\n",
      "\tvect__max_df: 0.05\n",
      "\tvect__ngram_range: (1, 2)\n",
      "\tvect__use_idf: False\n",
      "rapeseed: Performing grid search ...\n",
      "pipeline: ['vect', 'clf']\n",
      "parameters:\n",
      "{'vect__max_df': (0.01, 0.05, 0.5, 0.75, 1.0), 'vect__ngram_range': ((1, 1), (1, 2)), 'vect__use_idf': (True, False), 'clf__alpha': (1e-05, 1e-06)}\n",
      "Fitting 3 folds for each of 20 candidates, totalling 60 fits\n"
     ]
    },
    {
     "name": "stderr",
     "output_type": "stream",
     "text": [
      "[Parallel(n_jobs=-1)]: Done  42 tasks      | elapsed:  2.0min\n",
      "[Parallel(n_jobs=-1)]: Done  60 out of  60 | elapsed:  2.8min finished\n"
     ]
    },
    {
     "name": "stdout",
     "output_type": "stream",
     "text": [
      "done in 169.054s\n",
      "\n",
      "Best score: 0.656\n",
      "Best parameters set:\n",
      "\tclf__alpha: 1e-05\n",
      "\tvect__max_df: 0.01\n",
      "\tvect__ngram_range: (1, 1)\n",
      "\tvect__use_idf: False\n",
      "wheat: Performing grid search ...\n",
      "pipeline: ['vect', 'clf']\n",
      "parameters:\n",
      "{'vect__max_df': (0.01, 0.05, 0.5, 0.75, 1.0), 'vect__ngram_range': ((1, 1), (1, 2)), 'vect__use_idf': (True, False), 'clf__alpha': (1e-05, 1e-06)}\n",
      "Fitting 3 folds for each of 20 candidates, totalling 60 fits\n"
     ]
    },
    {
     "name": "stderr",
     "output_type": "stream",
     "text": [
      "[Parallel(n_jobs=-1)]: Done  42 tasks      | elapsed:  1.8min\n",
      "[Parallel(n_jobs=-1)]: Done  60 out of  60 | elapsed:  2.4min finished\n"
     ]
    },
    {
     "name": "stdout",
     "output_type": "stream",
     "text": [
      "done in 151.072s\n",
      "\n",
      "Best score: 0.796\n",
      "Best parameters set:\n",
      "\tclf__alpha: 1e-05\n",
      "\tvect__max_df: 1.0\n",
      "\tvect__ngram_range: (1, 2)\n",
      "\tvect__use_idf: False\n",
      "ship: Performing grid search ...\n",
      "pipeline: ['vect', 'clf']\n",
      "parameters:\n",
      "{'vect__max_df': (0.01, 0.05, 0.5, 0.75, 1.0), 'vect__ngram_range': ((1, 1), (1, 2)), 'vect__use_idf': (True, False), 'clf__alpha': (1e-05, 1e-06)}\n",
      "Fitting 3 folds for each of 20 candidates, totalling 60 fits\n"
     ]
    },
    {
     "name": "stderr",
     "output_type": "stream",
     "text": [
      "[Parallel(n_jobs=-1)]: Done  42 tasks      | elapsed:  1.7min\n",
      "[Parallel(n_jobs=-1)]: Done  60 out of  60 | elapsed:  2.6min finished\n"
     ]
    },
    {
     "name": "stdout",
     "output_type": "stream",
     "text": [
      "done in 159.395s\n",
      "\n",
      "Best score: 0.761\n",
      "Best parameters set:\n",
      "\tclf__alpha: 1e-05\n",
      "\tvect__max_df: 0.05\n",
      "\tvect__ngram_range: (1, 1)\n",
      "\tvect__use_idf: True\n"
     ]
    }
   ],
   "source": [
    "# Define a pipeline combining a text feature extractor with multi label classifier\n",
    "SGD_clf = Pipeline([\n",
    "    ('vect', TfidfVectorizer(stop_words = stop_words)),\n",
    "    ('clf', SGDClassifier()),\n",
    "])\n",
    "\n",
    "sgd_grid_results = {}\n",
    "\n",
    "parameters = {\n",
    "    'vect__max_df': (0.01, 0.05, 0.5, 0.75, 1.0),\n",
    "    'vect__ngram_range': ((1, 1), (1, 2)),  # unigrams or bigrams\n",
    "    'vect__use_idf': (True, False),\n",
    "    'clf__alpha': (0.00001, 0.000001),\n",
    "}\n",
    "\n",
    "random_search = RandomizedSearchCV(SGD_clf, parameters, n_jobs=4, n_iter=20, verbose=1, scoring='f1')\n",
    "# scoring = If None, the estimator’s default scorer is used (usually accuracy).\n",
    "\n",
    "for category in categories_with_enough_observations:\n",
    "    print(\"{}: Performing grid search ...\".format(category))\n",
    "    print(\"pipeline:\", [name for name, _ in SGD_clf.steps])\n",
    "    print(\"parameters:\")\n",
    "    print(parameters)\n",
    "    start = time()\n",
    "    random_search.fit(X_train.txt_combined.tolist(), X_train[category])\n",
    "    print(\"done in {:0.3f}s\".format(time() - start))\n",
    "    print()\n",
    "    print(\"Best score: {:0.3f}\".format(random_search.best_score_))\n",
    "    params = {}\n",
    "    print(\"Best parameters set:\")\n",
    "    best_parameters = random_search.best_estimator_.get_params()\n",
    "    for param_name in sorted(parameters.keys()):\n",
    "        params[param_name] = best_parameters[param_name]\n",
    "        print(\"\\t{}: {}\".format(param_name, best_parameters[param_name]))\n",
    "    sgd_grid_results[category] = [random_search.best_score_,params]"
   ]
  },
  {
   "cell_type": "code",
   "execution_count": 144,
   "metadata": {},
   "outputs": [
    {
     "data": {
      "text/plain": [
       "[0.7471394521193508,\n",
       " {'clf__alpha': 1e-05,\n",
       "  'vect__max_df': 0.5,\n",
       "  'vect__ngram_range': (1, 2),\n",
       "  'vect__use_idf': False}]"
      ]
     },
     "execution_count": 144,
     "metadata": {},
     "output_type": "execute_result"
    }
   ],
   "source": [
    "sgd_grid_results['trade']"
   ]
  },
  {
   "cell_type": "code",
   "execution_count": null,
   "metadata": {},
   "outputs": [
    {
     "name": "stdout",
     "output_type": "stream",
     "text": [
      "Performing grid search...\n",
      "pipeline: ['tfidf', 'clf']\n",
      "parameters:\n",
      "{'clf__estimator__C': [0.01, 0.1, 1, 10, 100, 1000], 'tfidf__max_df': (0.01, 0.05, 0.5, 0.75, 1.0), 'tfidf__ngram_range': ((1, 1), (1, 2))}\n",
      "Fitting 3 folds for each of 15 candidates, totalling 45 fits\n"
     ]
    },
    {
     "name": "stderr",
     "output_type": "stream",
     "text": [
      "[Parallel(n_jobs=4)]: Done  45 out of  45 | elapsed:  2.6min finished\n"
     ]
    },
    {
     "name": "stdout",
     "output_type": "stream",
     "text": [
      "done in 161.155s\n",
      "\n",
      "Best score: 0.593\n",
      "Best parameters set:\n",
      "\tclf__estimator__C: 0.1\n",
      "\ttfidf__max_df: 0.01\n",
      "\ttfidf__ngram_range: (1, 2)\n",
      "Performing grid search...\n",
      "pipeline: ['tfidf', 'clf']\n",
      "parameters:\n",
      "{'clf__estimator__C': [0.01, 0.1, 1, 10, 100, 1000], 'tfidf__max_df': (0.01, 0.05, 0.5, 0.75, 1.0), 'tfidf__ngram_range': ((1, 1), (1, 2))}\n",
      "Fitting 3 folds for each of 15 candidates, totalling 45 fits\n"
     ]
    },
    {
     "name": "stderr",
     "output_type": "stream",
     "text": [
      "[Parallel(n_jobs=4)]: Done  45 out of  45 | elapsed:  2.4min finished\n"
     ]
    },
    {
     "name": "stdout",
     "output_type": "stream",
     "text": [
      "done in 148.802s\n",
      "\n",
      "Best score: 0.837\n",
      "Best parameters set:\n",
      "\tclf__estimator__C: 1000\n",
      "\ttfidf__max_df: 1.0\n",
      "\ttfidf__ngram_range: (1, 1)\n",
      "Performing grid search...\n",
      "pipeline: ['tfidf', 'clf']\n",
      "parameters:\n",
      "{'clf__estimator__C': [0.01, 0.1, 1, 10, 100, 1000], 'tfidf__max_df': (0.01, 0.05, 0.5, 0.75, 1.0), 'tfidf__ngram_range': ((1, 1), (1, 2))}\n",
      "Fitting 3 folds for each of 15 candidates, totalling 45 fits\n"
     ]
    },
    {
     "name": "stderr",
     "output_type": "stream",
     "text": [
      "[Parallel(n_jobs=4)]: Done  45 out of  45 | elapsed:  2.2min finished\n"
     ]
    },
    {
     "name": "stdout",
     "output_type": "stream",
     "text": [
      "done in 143.087s\n",
      "\n",
      "Best score: 0.730\n",
      "Best parameters set:\n",
      "\tclf__estimator__C: 10\n",
      "\ttfidf__max_df: 1.0\n",
      "\ttfidf__ngram_range: (1, 2)\n",
      "Performing grid search...\n",
      "pipeline: ['tfidf', 'clf']\n",
      "parameters:\n",
      "{'clf__estimator__C': [0.01, 0.1, 1, 10, 100, 1000], 'tfidf__max_df': (0.01, 0.05, 0.5, 0.75, 1.0), 'tfidf__ngram_range': ((1, 1), (1, 2))}\n",
      "Fitting 3 folds for each of 15 candidates, totalling 45 fits\n"
     ]
    },
    {
     "name": "stderr",
     "output_type": "stream",
     "text": [
      "[Parallel(n_jobs=4)]: Done  45 out of  45 | elapsed:  2.0min finished\n"
     ]
    },
    {
     "name": "stdout",
     "output_type": "stream",
     "text": [
      "done in 123.987s\n",
      "\n",
      "Best score: 0.822\n",
      "Best parameters set:\n",
      "\tclf__estimator__C: 1000\n",
      "\ttfidf__max_df: 0.5\n",
      "\ttfidf__ngram_range: (1, 1)\n",
      "Performing grid search...\n",
      "pipeline: ['tfidf', 'clf']\n",
      "parameters:\n",
      "{'clf__estimator__C': [0.01, 0.1, 1, 10, 100, 1000], 'tfidf__max_df': (0.01, 0.05, 0.5, 0.75, 1.0), 'tfidf__ngram_range': ((1, 1), (1, 2))}\n",
      "Fitting 3 folds for each of 15 candidates, totalling 45 fits\n"
     ]
    },
    {
     "name": "stderr",
     "output_type": "stream",
     "text": [
      "[Parallel(n_jobs=4)]: Done  45 out of  45 | elapsed:  2.1min finished\n"
     ]
    },
    {
     "name": "stdout",
     "output_type": "stream",
     "text": [
      "done in 133.095s\n",
      "\n",
      "Best score: 0.788\n",
      "Best parameters set:\n",
      "\tclf__estimator__C: 100\n",
      "\ttfidf__max_df: 0.01\n",
      "\ttfidf__ngram_range: (1, 2)\n",
      "Performing grid search...\n",
      "pipeline: ['tfidf', 'clf']\n",
      "parameters:\n",
      "{'clf__estimator__C': [0.01, 0.1, 1, 10, 100, 1000], 'tfidf__max_df': (0.01, 0.05, 0.5, 0.75, 1.0), 'tfidf__ngram_range': ((1, 1), (1, 2))}\n",
      "Fitting 3 folds for each of 15 candidates, totalling 45 fits\n"
     ]
    },
    {
     "name": "stderr",
     "output_type": "stream",
     "text": [
      "[Parallel(n_jobs=4)]: Done  45 out of  45 | elapsed:  2.6min finished\n"
     ]
    },
    {
     "name": "stdout",
     "output_type": "stream",
     "text": [
      "done in 169.562s\n",
      "\n",
      "Best score: 0.837\n",
      "Best parameters set:\n",
      "\tclf__estimator__C: 100\n",
      "\ttfidf__max_df: 1.0\n",
      "\ttfidf__ngram_range: (1, 2)\n",
      "Performing grid search...\n",
      "pipeline: ['tfidf', 'clf']\n",
      "parameters:\n",
      "{'clf__estimator__C': [0.01, 0.1, 1, 10, 100, 1000], 'tfidf__max_df': (0.01, 0.05, 0.5, 0.75, 1.0), 'tfidf__ngram_range': ((1, 1), (1, 2))}\n",
      "Fitting 3 folds for each of 15 candidates, totalling 45 fits\n"
     ]
    },
    {
     "name": "stderr",
     "output_type": "stream",
     "text": [
      "[Parallel(n_jobs=4)]: Done  45 out of  45 | elapsed:  3.5min finished\n"
     ]
    },
    {
     "name": "stdout",
     "output_type": "stream",
     "text": [
      "done in 209.429s\n",
      "\n",
      "Best score: 0.760\n",
      "Best parameters set:\n",
      "\tclf__estimator__C: 1\n",
      "\ttfidf__max_df: 0.05\n",
      "\ttfidf__ngram_range: (1, 1)\n",
      "Performing grid search...\n",
      "pipeline: ['tfidf', 'clf']\n",
      "parameters:\n",
      "{'clf__estimator__C': [0.01, 0.1, 1, 10, 100, 1000], 'tfidf__max_df': (0.01, 0.05, 0.5, 0.75, 1.0), 'tfidf__ngram_range': ((1, 1), (1, 2))}\n",
      "Fitting 3 folds for each of 15 candidates, totalling 45 fits\n"
     ]
    },
    {
     "name": "stderr",
     "output_type": "stream",
     "text": [
      "[Parallel(n_jobs=4)]: Done  45 out of  45 | elapsed:  2.3min finished\n"
     ]
    },
    {
     "name": "stdout",
     "output_type": "stream",
     "text": [
      "done in 142.686s\n",
      "\n",
      "Best score: 0.306\n",
      "Best parameters set:\n",
      "\tclf__estimator__C: 100\n",
      "\ttfidf__max_df: 0.01\n",
      "\ttfidf__ngram_range: (1, 1)\n",
      "Performing grid search...\n",
      "pipeline: ['tfidf', 'clf']\n",
      "parameters:\n",
      "{'clf__estimator__C': [0.01, 0.1, 1, 10, 100, 1000], 'tfidf__max_df': (0.01, 0.05, 0.5, 0.75, 1.0), 'tfidf__ngram_range': ((1, 1), (1, 2))}\n",
      "Fitting 3 folds for each of 15 candidates, totalling 45 fits\n"
     ]
    },
    {
     "name": "stderr",
     "output_type": "stream",
     "text": [
      "[Parallel(n_jobs=4)]: Done  45 out of  45 | elapsed:  2.3min finished\n"
     ]
    },
    {
     "name": "stdout",
     "output_type": "stream",
     "text": [
      "done in 142.673s\n",
      "\n",
      "Best score: 0.408\n",
      "Best parameters set:\n",
      "\tclf__estimator__C: 100\n",
      "\ttfidf__max_df: 0.01\n",
      "\ttfidf__ngram_range: (1, 1)\n",
      "Performing grid search...\n",
      "pipeline: ['tfidf', 'clf']\n",
      "parameters:\n",
      "{'clf__estimator__C': [0.01, 0.1, 1, 10, 100, 1000], 'tfidf__max_df': (0.01, 0.05, 0.5, 0.75, 1.0), 'tfidf__ngram_range': ((1, 1), (1, 2))}\n",
      "Fitting 3 folds for each of 15 candidates, totalling 45 fits\n"
     ]
    },
    {
     "name": "stderr",
     "output_type": "stream",
     "text": [
      "[Parallel(n_jobs=4)]: Done  45 out of  45 | elapsed:  2.2min finished\n"
     ]
    },
    {
     "name": "stdout",
     "output_type": "stream",
     "text": [
      "done in 136.901s\n",
      "\n",
      "Best score: 0.468\n",
      "Best parameters set:\n",
      "\tclf__estimator__C: 0.1\n",
      "\ttfidf__max_df: 0.5\n",
      "\ttfidf__ngram_range: (1, 2)\n",
      "Performing grid search...\n",
      "pipeline: ['tfidf', 'clf']\n",
      "parameters:\n",
      "{'clf__estimator__C': [0.01, 0.1, 1, 10, 100, 1000], 'tfidf__max_df': (0.01, 0.05, 0.5, 0.75, 1.0), 'tfidf__ngram_range': ((1, 1), (1, 2))}\n",
      "Fitting 3 folds for each of 15 candidates, totalling 45 fits\n"
     ]
    },
    {
     "name": "stderr",
     "output_type": "stream",
     "text": [
      "[Parallel(n_jobs=4)]: Done  45 out of  45 | elapsed:  2.9min finished\n"
     ]
    },
    {
     "name": "stdout",
     "output_type": "stream",
     "text": [
      "done in 173.348s\n",
      "\n",
      "Best score: 0.428\n",
      "Best parameters set:\n",
      "\tclf__estimator__C: 10\n",
      "\ttfidf__max_df: 0.5\n",
      "\ttfidf__ngram_range: (1, 1)\n",
      "Performing grid search...\n",
      "pipeline: ['tfidf', 'clf']\n",
      "parameters:\n",
      "{'clf__estimator__C': [0.01, 0.1, 1, 10, 100, 1000], 'tfidf__max_df': (0.01, 0.05, 0.5, 0.75, 1.0), 'tfidf__ngram_range': ((1, 1), (1, 2))}\n",
      "Fitting 3 folds for each of 15 candidates, totalling 45 fits\n"
     ]
    },
    {
     "name": "stderr",
     "output_type": "stream",
     "text": [
      "[Parallel(n_jobs=4)]: Done  45 out of  45 | elapsed:  2.5min finished\n"
     ]
    },
    {
     "name": "stdout",
     "output_type": "stream",
     "text": [
      "done in 156.399s\n",
      "\n",
      "Best score: 0.815\n",
      "Best parameters set:\n",
      "\tclf__estimator__C: 10\n",
      "\ttfidf__max_df: 0.75\n",
      "\ttfidf__ngram_range: (1, 2)\n",
      "Performing grid search...\n",
      "pipeline: ['tfidf', 'clf']\n",
      "parameters:\n",
      "{'clf__estimator__C': [0.01, 0.1, 1, 10, 100, 1000], 'tfidf__max_df': (0.01, 0.05, 0.5, 0.75, 1.0), 'tfidf__ngram_range': ((1, 1), (1, 2))}\n",
      "Fitting 3 folds for each of 15 candidates, totalling 45 fits\n"
     ]
    },
    {
     "name": "stderr",
     "output_type": "stream",
     "text": [
      "[Parallel(n_jobs=4)]: Done  45 out of  45 | elapsed:  2.3min finished\n"
     ]
    },
    {
     "name": "stdout",
     "output_type": "stream",
     "text": [
      "done in 147.606s\n",
      "\n",
      "Best score: 0.699\n",
      "Best parameters set:\n",
      "\tclf__estimator__C: 1000\n",
      "\ttfidf__max_df: 0.75\n",
      "\ttfidf__ngram_range: (1, 2)\n",
      "Performing grid search...\n",
      "pipeline: ['tfidf', 'clf']\n",
      "parameters:\n",
      "{'clf__estimator__C': [0.01, 0.1, 1, 10, 100, 1000], 'tfidf__max_df': (0.01, 0.05, 0.5, 0.75, 1.0), 'tfidf__ngram_range': ((1, 1), (1, 2))}\n",
      "Fitting 3 folds for each of 15 candidates, totalling 45 fits\n"
     ]
    },
    {
     "name": "stderr",
     "output_type": "stream",
     "text": [
      "[Parallel(n_jobs=4)]: Done  45 out of  45 | elapsed:  2.0min finished\n"
     ]
    },
    {
     "name": "stdout",
     "output_type": "stream",
     "text": [
      "done in 119.530s\n",
      "\n",
      "Best score: 0.656\n",
      "Best parameters set:\n",
      "\tclf__estimator__C: 1000\n",
      "\ttfidf__max_df: 0.5\n",
      "\ttfidf__ngram_range: (1, 1)\n",
      "Performing grid search...\n",
      "pipeline: ['tfidf', 'clf']\n",
      "parameters:\n",
      "{'clf__estimator__C': [0.01, 0.1, 1, 10, 100, 1000], 'tfidf__max_df': (0.01, 0.05, 0.5, 0.75, 1.0), 'tfidf__ngram_range': ((1, 1), (1, 2))}\n",
      "Fitting 3 folds for each of 15 candidates, totalling 45 fits\n"
     ]
    }
   ],
   "source": [
    "SVC_clf = Pipeline([\n",
    "                ('tfidf', TfidfVectorizer(stop_words=stop_words)),\n",
    "                ('clf', OneVsRestClassifier(LinearSVC(class_weight='auto'))),\n",
    "            ])\n",
    "\n",
    "parameters = {\n",
    "    'clf__estimator__C': [0.01, 0.1, 1, 10, 100, 1000],\n",
    "    'tfidf__max_df': (0.01, 0.05, 0.5, 0.75, 1.0),\n",
    "    'tfidf__ngram_range': ((1, 1), (1, 2)),  # unigrams or bigrams\n",
    "}\n",
    "\n",
    "svc_grid_results = {}\n",
    "random_search = RandomizedSearchCV(SVC_clf, parameters, n_jobs=4, n_iter=15, verbose=1, scoring='f1')\n",
    "\n",
    "for category in categories_with_enough_observations:\n",
    "    print(\"Performing grid search...\")\n",
    "    print(\"pipeline:\", [name for name, _ in SVC_clf.steps])\n",
    "    print(\"parameters:\")\n",
    "    print(parameters)\n",
    "    start = time()\n",
    "    random_search.fit(X_train.txt_combined.tolist(), X_train[category])\n",
    "    print(\"done in {:0.3f}s\".format(time() - start))\n",
    "    print()\n",
    "\n",
    "    print(\"Best score: {:0.3f}\".format(random_search.best_score_))\n",
    "    params = {}\n",
    "    print(\"Best parameters set:\")\n",
    "    best_parameters = random_search.best_estimator_.get_params()\n",
    "    for param_name in sorted(parameters.keys()):\n",
    "        params[param_name] = best_parameters[param_name]\n",
    "        print(\"\\t{}: {}\".format(param_name, best_parameters[param_name]))\n",
    "    svc_grid_results[category] = [random_search.best_score_,params]\n",
    "#     prediction = random_search.predict(X_test.txt_combined)\n",
    "#     print(prediction)\n",
    "#     f1_value = f1_score(X_test['trade'], prediction)\n",
    "#     print(f1_value)\n"
   ]
  },
  {
   "cell_type": "code",
   "execution_count": 22,
   "metadata": {},
   "outputs": [
    {
     "name": "stdout",
     "output_type": "stream",
     "text": [
      "Performing grid search...\n",
      "pipeline: ['tfidf', 'clf']\n",
      "parameters:\n",
      "{}\n",
      "Fitting 3 folds for each of 1 candidates, totalling 3 fits\n"
     ]
    },
    {
     "name": "stderr",
     "output_type": "stream",
     "text": [
      "/Library/Frameworks/Python.framework/Versions/3.6/lib/python3.6/site-packages/sklearn/feature_extraction/text.py:1059: FutureWarning: Conversion of the second argument of issubdtype from `float` to `np.floating` is deprecated. In future, it will be treated as `np.float64 == np.dtype(float).type`.\n",
      "  if hasattr(X, 'dtype') and np.issubdtype(X.dtype, np.float):\n",
      "/Library/Frameworks/Python.framework/Versions/3.6/lib/python3.6/site-packages/sklearn/feature_extraction/text.py:1059: FutureWarning: Conversion of the second argument of issubdtype from `float` to `np.floating` is deprecated. In future, it will be treated as `np.float64 == np.dtype(float).type`.\n",
      "  if hasattr(X, 'dtype') and np.issubdtype(X.dtype, np.float):\n",
      "/Library/Frameworks/Python.framework/Versions/3.6/lib/python3.6/site-packages/sklearn/feature_extraction/text.py:1059: FutureWarning: Conversion of the second argument of issubdtype from `float` to `np.floating` is deprecated. In future, it will be treated as `np.float64 == np.dtype(float).type`.\n",
      "  if hasattr(X, 'dtype') and np.issubdtype(X.dtype, np.float):\n",
      "/Library/Frameworks/Python.framework/Versions/3.6/lib/python3.6/site-packages/sklearn/feature_extraction/text.py:1059: FutureWarning: Conversion of the second argument of issubdtype from `float` to `np.floating` is deprecated. In future, it will be treated as `np.float64 == np.dtype(float).type`.\n",
      "  if hasattr(X, 'dtype') and np.issubdtype(X.dtype, np.float):\n",
      "/Library/Frameworks/Python.framework/Versions/3.6/lib/python3.6/site-packages/sklearn/feature_extraction/text.py:1059: FutureWarning: Conversion of the second argument of issubdtype from `float` to `np.floating` is deprecated. In future, it will be treated as `np.float64 == np.dtype(float).type`.\n",
      "  if hasattr(X, 'dtype') and np.issubdtype(X.dtype, np.float):\n",
      "/Library/Frameworks/Python.framework/Versions/3.6/lib/python3.6/site-packages/sklearn/feature_extraction/text.py:1059: FutureWarning: Conversion of the second argument of issubdtype from `float` to `np.floating` is deprecated. In future, it will be treated as `np.float64 == np.dtype(float).type`.\n",
      "  if hasattr(X, 'dtype') and np.issubdtype(X.dtype, np.float):\n"
     ]
    },
    {
     "ename": "JoblibValueError",
     "evalue": "JoblibValueError\n___________________________________________________________________________\nMultiprocessing exception:\n...........................................................................\n/Library/Frameworks/Python.framework/Versions/3.6/lib/python3.6/runpy.py in _run_module_as_main(mod_name='ipykernel_launcher', alter_argv=1)\n    188         sys.exit(msg)\n    189     main_globals = sys.modules[\"__main__\"].__dict__\n    190     if alter_argv:\n    191         sys.argv[0] = mod_spec.origin\n    192     return _run_code(code, main_globals, None,\n--> 193                      \"__main__\", mod_spec)\n        mod_spec = ModuleSpec(name='ipykernel_launcher', loader=<_f...b/python3.6/site-packages/ipykernel_launcher.py')\n    194 \n    195 def run_module(mod_name, init_globals=None,\n    196                run_name=None, alter_sys=False):\n    197     \"\"\"Execute a module's code without importing it\n\n...........................................................................\n/Library/Frameworks/Python.framework/Versions/3.6/lib/python3.6/runpy.py in _run_code(code=<code object <module> at 0x1039d18a0, file \"/Lib...3.6/site-packages/ipykernel_launcher.py\", line 5>, run_globals={'__annotations__': {}, '__builtins__': <module 'builtins' (built-in)>, '__cached__': '/Library/Frameworks/Python.framework/Versions/3....ges/__pycache__/ipykernel_launcher.cpython-36.pyc', '__doc__': 'Entry point for launching an IPython kernel.\\n\\nTh...orts until\\nafter removing the cwd from sys.path.\\n', '__file__': '/Library/Frameworks/Python.framework/Versions/3.6/lib/python3.6/site-packages/ipykernel_launcher.py', '__loader__': <_frozen_importlib_external.SourceFileLoader object>, '__name__': '__main__', '__package__': '', '__spec__': ModuleSpec(name='ipykernel_launcher', loader=<_f...b/python3.6/site-packages/ipykernel_launcher.py'), 'app': <module 'ipykernel.kernelapp' from '/Library/Fra.../python3.6/site-packages/ipykernel/kernelapp.py'>, ...}, init_globals=None, mod_name='__main__', mod_spec=ModuleSpec(name='ipykernel_launcher', loader=<_f...b/python3.6/site-packages/ipykernel_launcher.py'), pkg_name='', script_name=None)\n     80                        __cached__ = cached,\n     81                        __doc__ = None,\n     82                        __loader__ = loader,\n     83                        __package__ = pkg_name,\n     84                        __spec__ = mod_spec)\n---> 85     exec(code, run_globals)\n        code = <code object <module> at 0x1039d18a0, file \"/Lib...3.6/site-packages/ipykernel_launcher.py\", line 5>\n        run_globals = {'__annotations__': {}, '__builtins__': <module 'builtins' (built-in)>, '__cached__': '/Library/Frameworks/Python.framework/Versions/3....ges/__pycache__/ipykernel_launcher.cpython-36.pyc', '__doc__': 'Entry point for launching an IPython kernel.\\n\\nTh...orts until\\nafter removing the cwd from sys.path.\\n', '__file__': '/Library/Frameworks/Python.framework/Versions/3.6/lib/python3.6/site-packages/ipykernel_launcher.py', '__loader__': <_frozen_importlib_external.SourceFileLoader object>, '__name__': '__main__', '__package__': '', '__spec__': ModuleSpec(name='ipykernel_launcher', loader=<_f...b/python3.6/site-packages/ipykernel_launcher.py'), 'app': <module 'ipykernel.kernelapp' from '/Library/Fra.../python3.6/site-packages/ipykernel/kernelapp.py'>, ...}\n     86     return run_globals\n     87 \n     88 def _run_module_code(code, init_globals=None,\n     89                     mod_name=None, mod_spec=None,\n\n...........................................................................\n/Library/Frameworks/Python.framework/Versions/3.6/lib/python3.6/site-packages/ipykernel_launcher.py in <module>()\n     11     # This is added back by InteractiveShellApp.init_path()\n     12     if sys.path[0] == '':\n     13         del sys.path[0]\n     14 \n     15     from ipykernel import kernelapp as app\n---> 16     app.launch_new_instance()\n     17 \n     18 \n     19 \n     20 \n\n...........................................................................\n/Library/Frameworks/Python.framework/Versions/3.6/lib/python3.6/site-packages/traitlets/config/application.py in launch_instance(cls=<class 'ipykernel.kernelapp.IPKernelApp'>, argv=None, **kwargs={})\n    653 \n    654         If a global instance already exists, this reinitializes and starts it\n    655         \"\"\"\n    656         app = cls.instance(**kwargs)\n    657         app.initialize(argv)\n--> 658         app.start()\n        app.start = <bound method IPKernelApp.start of <ipykernel.kernelapp.IPKernelApp object>>\n    659 \n    660 #-----------------------------------------------------------------------------\n    661 # utility functions, for convenience\n    662 #-----------------------------------------------------------------------------\n\n...........................................................................\n/Library/Frameworks/Python.framework/Versions/3.6/lib/python3.6/site-packages/ipykernel/kernelapp.py in start(self=<ipykernel.kernelapp.IPKernelApp object>)\n    481         if self.poller is not None:\n    482             self.poller.start()\n    483         self.kernel.start()\n    484         self.io_loop = ioloop.IOLoop.current()\n    485         try:\n--> 486             self.io_loop.start()\n        self.io_loop.start = <bound method BaseAsyncIOLoop.start of <tornado.platform.asyncio.AsyncIOMainLoop object>>\n    487         except KeyboardInterrupt:\n    488             pass\n    489 \n    490 launch_new_instance = IPKernelApp.launch_instance\n\n...........................................................................\n/Library/Frameworks/Python.framework/Versions/3.6/lib/python3.6/site-packages/tornado/platform/asyncio.py in start(self=<tornado.platform.asyncio.AsyncIOMainLoop object>)\n    107         except (RuntimeError, AssertionError):\n    108             old_loop = None\n    109         try:\n    110             self._setup_logging()\n    111             asyncio.set_event_loop(self.asyncio_loop)\n--> 112             self.asyncio_loop.run_forever()\n        self.asyncio_loop.run_forever = <bound method BaseEventLoop.run_forever of <_Uni...EventLoop running=True closed=False debug=False>>\n    113         finally:\n    114             asyncio.set_event_loop(old_loop)\n    115 \n    116     def stop(self):\n\n...........................................................................\n/Library/Frameworks/Python.framework/Versions/3.6/lib/python3.6/asyncio/base_events.py in run_forever(self=<_UnixSelectorEventLoop running=True closed=False debug=False>)\n    416             sys.set_asyncgen_hooks(firstiter=self._asyncgen_firstiter_hook,\n    417                                    finalizer=self._asyncgen_finalizer_hook)\n    418         try:\n    419             events._set_running_loop(self)\n    420             while True:\n--> 421                 self._run_once()\n        self._run_once = <bound method BaseEventLoop._run_once of <_UnixS...EventLoop running=True closed=False debug=False>>\n    422                 if self._stopping:\n    423                     break\n    424         finally:\n    425             self._stopping = False\n\n...........................................................................\n/Library/Frameworks/Python.framework/Versions/3.6/lib/python3.6/asyncio/base_events.py in _run_once(self=<_UnixSelectorEventLoop running=True closed=False debug=False>)\n   1426                         logger.warning('Executing %s took %.3f seconds',\n   1427                                        _format_handle(handle), dt)\n   1428                 finally:\n   1429                     self._current_handle = None\n   1430             else:\n-> 1431                 handle._run()\n        handle._run = <bound method Handle._run of <Handle BaseAsyncIOLoop._handle_events(14, 1)>>\n   1432         handle = None  # Needed to break cycles when an exception occurs.\n   1433 \n   1434     def _set_coroutine_wrapper(self, enabled):\n   1435         try:\n\n...........................................................................\n/Library/Frameworks/Python.framework/Versions/3.6/lib/python3.6/asyncio/events.py in _run(self=<Handle BaseAsyncIOLoop._handle_events(14, 1)>)\n    140             self._callback = None\n    141             self._args = None\n    142 \n    143     def _run(self):\n    144         try:\n--> 145             self._callback(*self._args)\n        self._callback = <bound method BaseAsyncIOLoop._handle_events of <tornado.platform.asyncio.AsyncIOMainLoop object>>\n        self._args = (14, 1)\n    146         except Exception as exc:\n    147             cb = _format_callback_source(self._callback, self._args)\n    148             msg = 'Exception in callback {}'.format(cb)\n    149             context = {\n\n...........................................................................\n/Library/Frameworks/Python.framework/Versions/3.6/lib/python3.6/site-packages/tornado/platform/asyncio.py in _handle_events(self=<tornado.platform.asyncio.AsyncIOMainLoop object>, fd=14, events=1)\n     97             self.writers.remove(fd)\n     98         del self.handlers[fd]\n     99 \n    100     def _handle_events(self, fd, events):\n    101         fileobj, handler_func = self.handlers[fd]\n--> 102         handler_func(fileobj, events)\n        handler_func = <function wrap.<locals>.null_wrapper>\n        fileobj = <zmq.sugar.socket.Socket object>\n        events = 1\n    103 \n    104     def start(self):\n    105         try:\n    106             old_loop = asyncio.get_event_loop()\n\n...........................................................................\n/Library/Frameworks/Python.framework/Versions/3.6/lib/python3.6/site-packages/tornado/stack_context.py in null_wrapper(*args=(<zmq.sugar.socket.Socket object>, 1), **kwargs={})\n    271         # Fast path when there are no active contexts.\n    272         def null_wrapper(*args, **kwargs):\n    273             try:\n    274                 current_state = _state.contexts\n    275                 _state.contexts = cap_contexts[0]\n--> 276                 return fn(*args, **kwargs)\n        args = (<zmq.sugar.socket.Socket object>, 1)\n        kwargs = {}\n    277             finally:\n    278                 _state.contexts = current_state\n    279         null_wrapper._wrapped = True\n    280         return null_wrapper\n\n...........................................................................\n/Library/Frameworks/Python.framework/Versions/3.6/lib/python3.6/site-packages/zmq/eventloop/zmqstream.py in _handle_events(self=<zmq.eventloop.zmqstream.ZMQStream object>, fd=<zmq.sugar.socket.Socket object>, events=1)\n    445             return\n    446         zmq_events = self.socket.EVENTS\n    447         try:\n    448             # dispatch events:\n    449             if zmq_events & zmq.POLLIN and self.receiving():\n--> 450                 self._handle_recv()\n        self._handle_recv = <bound method ZMQStream._handle_recv of <zmq.eventloop.zmqstream.ZMQStream object>>\n    451                 if not self.socket:\n    452                     return\n    453             if zmq_events & zmq.POLLOUT and self.sending():\n    454                 self._handle_send()\n\n...........................................................................\n/Library/Frameworks/Python.framework/Versions/3.6/lib/python3.6/site-packages/zmq/eventloop/zmqstream.py in _handle_recv(self=<zmq.eventloop.zmqstream.ZMQStream object>)\n    475             else:\n    476                 raise\n    477         else:\n    478             if self._recv_callback:\n    479                 callback = self._recv_callback\n--> 480                 self._run_callback(callback, msg)\n        self._run_callback = <bound method ZMQStream._run_callback of <zmq.eventloop.zmqstream.ZMQStream object>>\n        callback = <function wrap.<locals>.null_wrapper>\n        msg = [<zmq.sugar.frame.Frame object>, <zmq.sugar.frame.Frame object>, <zmq.sugar.frame.Frame object>, <zmq.sugar.frame.Frame object>, <zmq.sugar.frame.Frame object>, <zmq.sugar.frame.Frame object>, <zmq.sugar.frame.Frame object>]\n    481         \n    482 \n    483     def _handle_send(self):\n    484         \"\"\"Handle a send event.\"\"\"\n\n...........................................................................\n/Library/Frameworks/Python.framework/Versions/3.6/lib/python3.6/site-packages/zmq/eventloop/zmqstream.py in _run_callback(self=<zmq.eventloop.zmqstream.ZMQStream object>, callback=<function wrap.<locals>.null_wrapper>, *args=([<zmq.sugar.frame.Frame object>, <zmq.sugar.frame.Frame object>, <zmq.sugar.frame.Frame object>, <zmq.sugar.frame.Frame object>, <zmq.sugar.frame.Frame object>, <zmq.sugar.frame.Frame object>, <zmq.sugar.frame.Frame object>],), **kwargs={})\n    427         close our socket.\"\"\"\n    428         try:\n    429             # Use a NullContext to ensure that all StackContexts are run\n    430             # inside our blanket exception handler rather than outside.\n    431             with stack_context.NullContext():\n--> 432                 callback(*args, **kwargs)\n        callback = <function wrap.<locals>.null_wrapper>\n        args = ([<zmq.sugar.frame.Frame object>, <zmq.sugar.frame.Frame object>, <zmq.sugar.frame.Frame object>, <zmq.sugar.frame.Frame object>, <zmq.sugar.frame.Frame object>, <zmq.sugar.frame.Frame object>, <zmq.sugar.frame.Frame object>],)\n        kwargs = {}\n    433         except:\n    434             gen_log.error(\"Uncaught exception in ZMQStream callback\",\n    435                           exc_info=True)\n    436             # Re-raise the exception so that IOLoop.handle_callback_exception\n\n...........................................................................\n/Library/Frameworks/Python.framework/Versions/3.6/lib/python3.6/site-packages/tornado/stack_context.py in null_wrapper(*args=([<zmq.sugar.frame.Frame object>, <zmq.sugar.frame.Frame object>, <zmq.sugar.frame.Frame object>, <zmq.sugar.frame.Frame object>, <zmq.sugar.frame.Frame object>, <zmq.sugar.frame.Frame object>, <zmq.sugar.frame.Frame object>],), **kwargs={})\n    271         # Fast path when there are no active contexts.\n    272         def null_wrapper(*args, **kwargs):\n    273             try:\n    274                 current_state = _state.contexts\n    275                 _state.contexts = cap_contexts[0]\n--> 276                 return fn(*args, **kwargs)\n        args = ([<zmq.sugar.frame.Frame object>, <zmq.sugar.frame.Frame object>, <zmq.sugar.frame.Frame object>, <zmq.sugar.frame.Frame object>, <zmq.sugar.frame.Frame object>, <zmq.sugar.frame.Frame object>, <zmq.sugar.frame.Frame object>],)\n        kwargs = {}\n    277             finally:\n    278                 _state.contexts = current_state\n    279         null_wrapper._wrapped = True\n    280         return null_wrapper\n\n...........................................................................\n/Library/Frameworks/Python.framework/Versions/3.6/lib/python3.6/site-packages/ipykernel/kernelbase.py in dispatcher(msg=[<zmq.sugar.frame.Frame object>, <zmq.sugar.frame.Frame object>, <zmq.sugar.frame.Frame object>, <zmq.sugar.frame.Frame object>, <zmq.sugar.frame.Frame object>, <zmq.sugar.frame.Frame object>, <zmq.sugar.frame.Frame object>])\n    278         if self.control_stream:\n    279             self.control_stream.on_recv(self.dispatch_control, copy=False)\n    280 \n    281         def make_dispatcher(stream):\n    282             def dispatcher(msg):\n--> 283                 return self.dispatch_shell(stream, msg)\n        msg = [<zmq.sugar.frame.Frame object>, <zmq.sugar.frame.Frame object>, <zmq.sugar.frame.Frame object>, <zmq.sugar.frame.Frame object>, <zmq.sugar.frame.Frame object>, <zmq.sugar.frame.Frame object>, <zmq.sugar.frame.Frame object>]\n    284             return dispatcher\n    285 \n    286         for s in self.shell_streams:\n    287             s.on_recv(make_dispatcher(s), copy=False)\n\n...........................................................................\n/Library/Frameworks/Python.framework/Versions/3.6/lib/python3.6/site-packages/ipykernel/kernelbase.py in dispatch_shell(self=<ipykernel.ipkernel.IPythonKernel object>, stream=<zmq.eventloop.zmqstream.ZMQStream object>, msg={'buffers': [], 'content': {'allow_stdin': True, 'code': \"NB_clf = Pipeline([\\n                ('tfidf', Tf....format(param_name, best_parameters[param_name]))\", 'silent': False, 'stop_on_error': True, 'store_history': True, 'user_expressions': {}}, 'header': {'date': datetime.datetime(2018, 6, 17, 15, 15, 4, 529402, tzinfo=tzutc()), 'msg_id': '2186e0f1d9e545f485622e20269b54b5', 'msg_type': 'execute_request', 'session': '11c7c058d60c43baa9e2aef54309e3e9', 'username': 'username', 'version': '5.2'}, 'metadata': {}, 'msg_id': '2186e0f1d9e545f485622e20269b54b5', 'msg_type': 'execute_request', 'parent_header': {}})\n    228             self.log.warn(\"Unknown message type: %r\", msg_type)\n    229         else:\n    230             self.log.debug(\"%s: %s\", msg_type, msg)\n    231             self.pre_handler_hook()\n    232             try:\n--> 233                 handler(stream, idents, msg)\n        handler = <bound method Kernel.execute_request of <ipykernel.ipkernel.IPythonKernel object>>\n        stream = <zmq.eventloop.zmqstream.ZMQStream object>\n        idents = [b'11c7c058d60c43baa9e2aef54309e3e9']\n        msg = {'buffers': [], 'content': {'allow_stdin': True, 'code': \"NB_clf = Pipeline([\\n                ('tfidf', Tf....format(param_name, best_parameters[param_name]))\", 'silent': False, 'stop_on_error': True, 'store_history': True, 'user_expressions': {}}, 'header': {'date': datetime.datetime(2018, 6, 17, 15, 15, 4, 529402, tzinfo=tzutc()), 'msg_id': '2186e0f1d9e545f485622e20269b54b5', 'msg_type': 'execute_request', 'session': '11c7c058d60c43baa9e2aef54309e3e9', 'username': 'username', 'version': '5.2'}, 'metadata': {}, 'msg_id': '2186e0f1d9e545f485622e20269b54b5', 'msg_type': 'execute_request', 'parent_header': {}}\n    234             except Exception:\n    235                 self.log.error(\"Exception in message handler:\", exc_info=True)\n    236             finally:\n    237                 self.post_handler_hook()\n\n...........................................................................\n/Library/Frameworks/Python.framework/Versions/3.6/lib/python3.6/site-packages/ipykernel/kernelbase.py in execute_request(self=<ipykernel.ipkernel.IPythonKernel object>, stream=<zmq.eventloop.zmqstream.ZMQStream object>, ident=[b'11c7c058d60c43baa9e2aef54309e3e9'], parent={'buffers': [], 'content': {'allow_stdin': True, 'code': \"NB_clf = Pipeline([\\n                ('tfidf', Tf....format(param_name, best_parameters[param_name]))\", 'silent': False, 'stop_on_error': True, 'store_history': True, 'user_expressions': {}}, 'header': {'date': datetime.datetime(2018, 6, 17, 15, 15, 4, 529402, tzinfo=tzutc()), 'msg_id': '2186e0f1d9e545f485622e20269b54b5', 'msg_type': 'execute_request', 'session': '11c7c058d60c43baa9e2aef54309e3e9', 'username': 'username', 'version': '5.2'}, 'metadata': {}, 'msg_id': '2186e0f1d9e545f485622e20269b54b5', 'msg_type': 'execute_request', 'parent_header': {}})\n    394         if not silent:\n    395             self.execution_count += 1\n    396             self._publish_execute_input(code, parent, self.execution_count)\n    397 \n    398         reply_content = self.do_execute(code, silent, store_history,\n--> 399                                         user_expressions, allow_stdin)\n        user_expressions = {}\n        allow_stdin = True\n    400 \n    401         # Flush output before sending the reply.\n    402         sys.stdout.flush()\n    403         sys.stderr.flush()\n\n...........................................................................\n/Library/Frameworks/Python.framework/Versions/3.6/lib/python3.6/site-packages/ipykernel/ipkernel.py in do_execute(self=<ipykernel.ipkernel.IPythonKernel object>, code=\"NB_clf = Pipeline([\\n                ('tfidf', Tf....format(param_name, best_parameters[param_name]))\", silent=False, store_history=True, user_expressions={}, allow_stdin=True)\n    203 \n    204         self._forward_input(allow_stdin)\n    205 \n    206         reply_content = {}\n    207         try:\n--> 208             res = shell.run_cell(code, store_history=store_history, silent=silent)\n        res = undefined\n        shell.run_cell = <bound method ZMQInteractiveShell.run_cell of <ipykernel.zmqshell.ZMQInteractiveShell object>>\n        code = \"NB_clf = Pipeline([\\n                ('tfidf', Tf....format(param_name, best_parameters[param_name]))\"\n        store_history = True\n        silent = False\n    209         finally:\n    210             self._restore_input()\n    211 \n    212         if res.error_before_exec is not None:\n\n...........................................................................\n/Library/Frameworks/Python.framework/Versions/3.6/lib/python3.6/site-packages/ipykernel/zmqshell.py in run_cell(self=<ipykernel.zmqshell.ZMQInteractiveShell object>, *args=(\"NB_clf = Pipeline([\\n                ('tfidf', Tf....format(param_name, best_parameters[param_name]))\",), **kwargs={'silent': False, 'store_history': True})\n    532             )\n    533         self.payload_manager.write_payload(payload)\n    534 \n    535     def run_cell(self, *args, **kwargs):\n    536         self._last_traceback = None\n--> 537         return super(ZMQInteractiveShell, self).run_cell(*args, **kwargs)\n        self.run_cell = <bound method ZMQInteractiveShell.run_cell of <ipykernel.zmqshell.ZMQInteractiveShell object>>\n        args = (\"NB_clf = Pipeline([\\n                ('tfidf', Tf....format(param_name, best_parameters[param_name]))\",)\n        kwargs = {'silent': False, 'store_history': True}\n    538 \n    539     def _showtraceback(self, etype, evalue, stb):\n    540         # try to preserve ordering of tracebacks and print statements\n    541         sys.stdout.flush()\n\n...........................................................................\n/Library/Frameworks/Python.framework/Versions/3.6/lib/python3.6/site-packages/IPython/core/interactiveshell.py in run_cell(self=<ipykernel.zmqshell.ZMQInteractiveShell object>, raw_cell=\"NB_clf = Pipeline([\\n                ('tfidf', Tf....format(param_name, best_parameters[param_name]))\", store_history=True, silent=False, shell_futures=True)\n   2723                 self.displayhook.exec_result = result\n   2724 \n   2725                 # Execute the user code\n   2726                 interactivity = \"none\" if silent else self.ast_node_interactivity\n   2727                 has_raised = self.run_ast_nodes(code_ast.body, cell_name,\n-> 2728                    interactivity=interactivity, compiler=compiler, result=result)\n        interactivity = 'last_expr'\n        compiler = <IPython.core.compilerop.CachingCompiler object>\n   2729                 \n   2730                 self.last_execution_succeeded = not has_raised\n   2731                 self.last_execution_result = result\n   2732 \n\n...........................................................................\n/Library/Frameworks/Python.framework/Versions/3.6/lib/python3.6/site-packages/IPython/core/interactiveshell.py in run_ast_nodes(self=<ipykernel.zmqshell.ZMQInteractiveShell object>, nodelist=[<_ast.Assign object>, <_ast.Assign object>, <_ast.Assign object>, <_ast.Expr object>, <_ast.Expr object>, <_ast.Expr object>, <_ast.Expr object>, <_ast.Assign object>, <_ast.Expr object>, <_ast.Expr object>, <_ast.Expr object>, <_ast.Expr object>, <_ast.Expr object>, <_ast.Assign object>, <_ast.For object>], cell_name='<ipython-input-22-d181d3c97f58>', interactivity='none', compiler=<IPython.core.compilerop.CachingCompiler object>, result=<ExecutionResult object at 11fa87be0, execution_..._before_exec=None error_in_exec=None result=None>)\n   2845 \n   2846         try:\n   2847             for i, node in enumerate(to_run_exec):\n   2848                 mod = ast.Module([node])\n   2849                 code = compiler(mod, cell_name, \"exec\")\n-> 2850                 if self.run_code(code, result):\n        self.run_code = <bound method InteractiveShell.run_code of <ipykernel.zmqshell.ZMQInteractiveShell object>>\n        code = <code object <module> at 0x1201568a0, file \"<ipython-input-22-d181d3c97f58>\", line 19>\n        result = <ExecutionResult object at 11fa87be0, execution_..._before_exec=None error_in_exec=None result=None>\n   2851                     return True\n   2852 \n   2853             for i, node in enumerate(to_run_interactive):\n   2854                 mod = ast.Interactive([node])\n\n...........................................................................\n/Library/Frameworks/Python.framework/Versions/3.6/lib/python3.6/site-packages/IPython/core/interactiveshell.py in run_code(self=<ipykernel.zmqshell.ZMQInteractiveShell object>, code_obj=<code object <module> at 0x1201568a0, file \"<ipython-input-22-d181d3c97f58>\", line 19>, result=<ExecutionResult object at 11fa87be0, execution_..._before_exec=None error_in_exec=None result=None>)\n   2905         outflag = True  # happens in more places, so it's easier as default\n   2906         try:\n   2907             try:\n   2908                 self.hooks.pre_run_code_hook()\n   2909                 #rprint('Running code', repr(code_obj)) # dbg\n-> 2910                 exec(code_obj, self.user_global_ns, self.user_ns)\n        code_obj = <code object <module> at 0x1201568a0, file \"<ipython-input-22-d181d3c97f58>\", line 19>\n        self.user_global_ns = {'CountVectorizer': <class 'sklearn.feature_extraction.text.CountVectorizer'>, 'GridSearchCV': <class 'sklearn.model_selection._search.GridSearchCV'>, 'In': ['', '# https://github.com/mihaibogdan10/json-reuters-...f.read()\\n        return(json.loads(file_content))', \"path = '/Users/twenzel/repos/topics2/json-data/'...lit('BC-')[-1]).apply(lambda x: x.split('  ')[0])\", '# analyse the category usage\\ndocs_df.head()', \"# Look at unique topics\\ntopic_path = '/Users/twe...d.read_csv(topic_path).acq.tolist()\\nprint(topics)\", '# Count frequency of topics used\\ncats_combo = li...ns.Counter(cats_combo)\\nprint(counter.most_common)', '# plot topic frequencies\\ncat_df = pd.DataFrame.f...p 15 topics- number of occurrences per category\")', '# from sklearn.preprocessing import MultiLabelBi...ltiLabelBinarizer().fit_transform(docs_df.topics)', '# label_matrix.flatten() # how to get column nam...or col in m.columns]\\n# m = df[[variable]].join(m)', 'label_count_df = docs_df.topic_length.value_coun..._df.topic_length==0].shape[0]/docs_df.shape[0])))', 'docs_df.head()', '# Create dummies for each label - binary matrix ...tr], axis=1, join_axes=[docs_df.index]).fillna(0)', \"lens = docs_df.body.str.len()\\n\\nprint('Number of ...        int(docs_df.body.str.len().max()))\\n     )\", \"'We also see a large number of documents w/o any...rmat(docs_df[docs_df.body.str.len()==0].shape[0])\", \"print('They are still allocated to training & te...s_df.body.str.len()==0].lewissplit.value_counts()\", \"print('If the body is missing, the title and unk...0][['title','unknown_processed','topics']].head()\", \"# 1 document is w/o body, title and unknown fiel...rocessed','title','body','topics','lewissplit' ]]\", \"# process text \\ndef clean_text(text):\\n    text =..._df['title'] + ' ' + docs_df['unknown_processed']\", \"docs_df[['newid','unknown_processed','title','body','topics','txt_combined','lewissplit' ]].tail()\", \"X_train = docs_df[(docs_df.lewissplit=='TRAIN') ...format(len(categories_with_enough_observations)))\", ...], 'LinearSVC': <class 'sklearn.svm.classes.LinearSVC'>, 'LogisticRegression': <class 'sklearn.linear_model.logistic.LogisticRegression'>, 'MultinomialNB': <class 'sklearn.naive_bayes.MultinomialNB'>, 'NB_clf': Pipeline(steps=[('tfidf', TfidfVectorizer(analyz...ior=None, fit_prior=True),\n          n_jobs=1))]), 'OneVsRestClassifier': <class 'sklearn.multiclass.OneVsRestClassifier'>, 'Out': {3:                                                a...OUTH-KOREA-DELAYS-CO  \n4  KEIAISHA-ISSUING-12-M  , 6: <matplotlib.axes._subplots.AxesSubplot object>, 10:                                                a...OUTH-KOREA-DELAYS-CO  \n4  KEIAISHA-ISSUING-12-M  , 13: 'We also see a large number of documents w/o any text: 2535', 14: TRAIN       1803\nTEST         730\nNOT-USED       2\nName: lewissplit, dtype: int64, 15:                                                 ...earn]  \n40           [acq]  \n48  [money-supply]  , 16:       newid unknown_processed title body topics ...93                                  []      TRAIN, 18:        newid        unknown_processed  \\\n21573  ...ipelines ltd denied reports that ...   NOT-USED  }, 'Pipeline': <class 'sklearn.pipeline.Pipeline'>, ...}\n        self.user_ns = {'CountVectorizer': <class 'sklearn.feature_extraction.text.CountVectorizer'>, 'GridSearchCV': <class 'sklearn.model_selection._search.GridSearchCV'>, 'In': ['', '# https://github.com/mihaibogdan10/json-reuters-...f.read()\\n        return(json.loads(file_content))', \"path = '/Users/twenzel/repos/topics2/json-data/'...lit('BC-')[-1]).apply(lambda x: x.split('  ')[0])\", '# analyse the category usage\\ndocs_df.head()', \"# Look at unique topics\\ntopic_path = '/Users/twe...d.read_csv(topic_path).acq.tolist()\\nprint(topics)\", '# Count frequency of topics used\\ncats_combo = li...ns.Counter(cats_combo)\\nprint(counter.most_common)', '# plot topic frequencies\\ncat_df = pd.DataFrame.f...p 15 topics- number of occurrences per category\")', '# from sklearn.preprocessing import MultiLabelBi...ltiLabelBinarizer().fit_transform(docs_df.topics)', '# label_matrix.flatten() # how to get column nam...or col in m.columns]\\n# m = df[[variable]].join(m)', 'label_count_df = docs_df.topic_length.value_coun..._df.topic_length==0].shape[0]/docs_df.shape[0])))', 'docs_df.head()', '# Create dummies for each label - binary matrix ...tr], axis=1, join_axes=[docs_df.index]).fillna(0)', \"lens = docs_df.body.str.len()\\n\\nprint('Number of ...        int(docs_df.body.str.len().max()))\\n     )\", \"'We also see a large number of documents w/o any...rmat(docs_df[docs_df.body.str.len()==0].shape[0])\", \"print('They are still allocated to training & te...s_df.body.str.len()==0].lewissplit.value_counts()\", \"print('If the body is missing, the title and unk...0][['title','unknown_processed','topics']].head()\", \"# 1 document is w/o body, title and unknown fiel...rocessed','title','body','topics','lewissplit' ]]\", \"# process text \\ndef clean_text(text):\\n    text =..._df['title'] + ' ' + docs_df['unknown_processed']\", \"docs_df[['newid','unknown_processed','title','body','topics','txt_combined','lewissplit' ]].tail()\", \"X_train = docs_df[(docs_df.lewissplit=='TRAIN') ...format(len(categories_with_enough_observations)))\", ...], 'LinearSVC': <class 'sklearn.svm.classes.LinearSVC'>, 'LogisticRegression': <class 'sklearn.linear_model.logistic.LogisticRegression'>, 'MultinomialNB': <class 'sklearn.naive_bayes.MultinomialNB'>, 'NB_clf': Pipeline(steps=[('tfidf', TfidfVectorizer(analyz...ior=None, fit_prior=True),\n          n_jobs=1))]), 'OneVsRestClassifier': <class 'sklearn.multiclass.OneVsRestClassifier'>, 'Out': {3:                                                a...OUTH-KOREA-DELAYS-CO  \n4  KEIAISHA-ISSUING-12-M  , 6: <matplotlib.axes._subplots.AxesSubplot object>, 10:                                                a...OUTH-KOREA-DELAYS-CO  \n4  KEIAISHA-ISSUING-12-M  , 13: 'We also see a large number of documents w/o any text: 2535', 14: TRAIN       1803\nTEST         730\nNOT-USED       2\nName: lewissplit, dtype: int64, 15:                                                 ...earn]  \n40           [acq]  \n48  [money-supply]  , 16:       newid unknown_processed title body topics ...93                                  []      TRAIN, 18:        newid        unknown_processed  \\\n21573  ...ipelines ltd denied reports that ...   NOT-USED  }, 'Pipeline': <class 'sklearn.pipeline.Pipeline'>, ...}\n   2911             finally:\n   2912                 # Reset our crash handler in place\n   2913                 sys.excepthook = old_excepthook\n   2914         except SystemExit as e:\n\n...........................................................................\n/Users/twenzel/repos/topics2/<ipython-input-22-d181d3c97f58> in <module>()\n     14 print(\"Performing grid search...\")\n     15 print(\"pipeline:\", [name for name, _ in NB_clf.steps])\n     16 print(\"parameters:\")\n     17 print(parameters)\n     18 start = time()\n---> 19 grid_search.fit(X_train.body.tolist(), X_train['tea'])\n     20 print(\"done in {:0.3f}s\".format(time() - start))\n     21 print()\n     22 \n     23 print(\"Best score: {:0.3f}\".format(grid_search.best_score_))\n\n...........................................................................\n/Library/Frameworks/Python.framework/Versions/3.6/lib/python3.6/site-packages/sklearn/model_selection/_search.py in fit(self=GridSearchCV(cv=None, error_score='raise',\n     ...ore=True,\n       scoring='f1_samples', verbose=1), X=['the bank of england said it forecast a shortage ...an inflow of some   mln stg the bank added reuter', 'the bank of france said it invited offers of fir... money today was quoted at             pct reuter', 'the u s lt amoco petroleum corp has reported an ...area this year but gave no further details reuter', 'technology transfer problems have delayed the fi...gh the sites have yet to be chosen he said reuter', 'keiaisha co ltd of tokyo is issuing   mln swiss ... issue is guaranteed by the kyowa bank ltd reuter', '', 'national westminster bank plc said it has cut it...n the pound has continued to gain strongly reuter', 'semi annual dividend   cts pay may   record apri... its initial public offering on november   reuter', 'standard pacific lp said it has acquired substan...rd pacific against undisclosed liabilities reuter', 'the treasury department said it would temporaril...lled organizations for repair or servicing reuter', 'the special prosecutor in the iran arms scandal ...ding current and former government officials more', 'an existing new york stock exchange nyse rule mi...on the london exchange market sources said reuter', 'usair group inc said piedmont aviation inc has a...acquired four mln shares or   pct of usair reuter', 'senior u s arms control officials said they were...act but details would be tough to work out reuter', 'estimated oil and gas drilling completions in th... oil wells     gas wells and     dry holes reuter', 'new credit advanced by finance houses retailers ... than in the previous three months it said reuter', 'a strike by brazil     seafarers who want pay ri...s marine union president edson areias said reuter', 'nec corp nec informational systems inc said it i...y will sell for less than     dlrs it said reuter', 'the   nations of the organisation for economic c...t less in domestic currency in   than in   reuter', 'bundesbank president karl otto poehl told a clos...rong bargain hunting at current low levels reuter', ...], y=0        0.0\n1        0.0\n2        0.0\n3        ...7    0.0\nName: tea, Length: 14668, dtype: float64, groups=None)\n    940 \n    941         groups : array-like, with shape (n_samples,), optional\n    942             Group labels for the samples used while splitting the dataset into\n    943             train/test set.\n    944         \"\"\"\n--> 945         return self._fit(X, y, groups, ParameterGrid(self.param_grid))\n        self._fit = <bound method BaseSearchCV._fit of GridSearchCV(...re=True,\n       scoring='f1_samples', verbose=1)>\n        X = ['the bank of england said it forecast a shortage ...an inflow of some   mln stg the bank added reuter', 'the bank of france said it invited offers of fir... money today was quoted at             pct reuter', 'the u s lt amoco petroleum corp has reported an ...area this year but gave no further details reuter', 'technology transfer problems have delayed the fi...gh the sites have yet to be chosen he said reuter', 'keiaisha co ltd of tokyo is issuing   mln swiss ... issue is guaranteed by the kyowa bank ltd reuter', '', 'national westminster bank plc said it has cut it...n the pound has continued to gain strongly reuter', 'semi annual dividend   cts pay may   record apri... its initial public offering on november   reuter', 'standard pacific lp said it has acquired substan...rd pacific against undisclosed liabilities reuter', 'the treasury department said it would temporaril...lled organizations for repair or servicing reuter', 'the special prosecutor in the iran arms scandal ...ding current and former government officials more', 'an existing new york stock exchange nyse rule mi...on the london exchange market sources said reuter', 'usair group inc said piedmont aviation inc has a...acquired four mln shares or   pct of usair reuter', 'senior u s arms control officials said they were...act but details would be tough to work out reuter', 'estimated oil and gas drilling completions in th... oil wells     gas wells and     dry holes reuter', 'new credit advanced by finance houses retailers ... than in the previous three months it said reuter', 'a strike by brazil     seafarers who want pay ri...s marine union president edson areias said reuter', 'nec corp nec informational systems inc said it i...y will sell for less than     dlrs it said reuter', 'the   nations of the organisation for economic c...t less in domestic currency in   than in   reuter', 'bundesbank president karl otto poehl told a clos...rong bargain hunting at current low levels reuter', ...]\n        y = 0        0.0\n1        0.0\n2        0.0\n3        ...7    0.0\nName: tea, Length: 14668, dtype: float64\n        groups = None\n        self.param_grid = {}\n    946 \n    947 \n    948 class RandomizedSearchCV(BaseSearchCV):\n    949     \"\"\"Randomized search on hyper parameters.\n\n...........................................................................\n/Library/Frameworks/Python.framework/Versions/3.6/lib/python3.6/site-packages/sklearn/model_selection/_search.py in _fit(self=GridSearchCV(cv=None, error_score='raise',\n     ...ore=True,\n       scoring='f1_samples', verbose=1), X=['the bank of england said it forecast a shortage ...an inflow of some   mln stg the bank added reuter', 'the bank of france said it invited offers of fir... money today was quoted at             pct reuter', 'the u s lt amoco petroleum corp has reported an ...area this year but gave no further details reuter', 'technology transfer problems have delayed the fi...gh the sites have yet to be chosen he said reuter', 'keiaisha co ltd of tokyo is issuing   mln swiss ... issue is guaranteed by the kyowa bank ltd reuter', '', 'national westminster bank plc said it has cut it...n the pound has continued to gain strongly reuter', 'semi annual dividend   cts pay may   record apri... its initial public offering on november   reuter', 'standard pacific lp said it has acquired substan...rd pacific against undisclosed liabilities reuter', 'the treasury department said it would temporaril...lled organizations for repair or servicing reuter', 'the special prosecutor in the iran arms scandal ...ding current and former government officials more', 'an existing new york stock exchange nyse rule mi...on the london exchange market sources said reuter', 'usair group inc said piedmont aviation inc has a...acquired four mln shares or   pct of usair reuter', 'senior u s arms control officials said they were...act but details would be tough to work out reuter', 'estimated oil and gas drilling completions in th... oil wells     gas wells and     dry holes reuter', 'new credit advanced by finance houses retailers ... than in the previous three months it said reuter', 'a strike by brazil     seafarers who want pay ri...s marine union president edson areias said reuter', 'nec corp nec informational systems inc said it i...y will sell for less than     dlrs it said reuter', 'the   nations of the organisation for economic c...t less in domestic currency in   than in   reuter', 'bundesbank president karl otto poehl told a clos...rong bargain hunting at current low levels reuter', ...], y=0        0.0\n1        0.0\n2        0.0\n3        ...7    0.0\nName: tea, Length: 14668, dtype: float64, groups=None, parameter_iterable=<sklearn.model_selection._search.ParameterGrid object>)\n    559                                   fit_params=self.fit_params,\n    560                                   return_train_score=self.return_train_score,\n    561                                   return_n_test_samples=True,\n    562                                   return_times=True, return_parameters=True,\n    563                                   error_score=self.error_score)\n--> 564           for parameters in parameter_iterable\n        parameters = undefined\n        parameter_iterable = <sklearn.model_selection._search.ParameterGrid object>\n    565           for train, test in cv_iter)\n    566 \n    567         # if one choose to see train score, \"out\" will contain train score info\n    568         if self.return_train_score:\n\n...........................................................................\n/Library/Frameworks/Python.framework/Versions/3.6/lib/python3.6/site-packages/sklearn/externals/joblib/parallel.py in __call__(self=Parallel(n_jobs=-1), iterable=<generator object BaseSearchCV._fit.<locals>.<genexpr>>)\n    763             if pre_dispatch == \"all\" or n_jobs == 1:\n    764                 # The iterable was consumed all at once by the above for loop.\n    765                 # No need to wait for async callbacks to trigger to\n    766                 # consumption.\n    767                 self._iterating = False\n--> 768             self.retrieve()\n        self.retrieve = <bound method Parallel.retrieve of Parallel(n_jobs=-1)>\n    769             # Make sure that we get a last message telling us we are done\n    770             elapsed_time = time.time() - self._start_time\n    771             self._print('Done %3i out of %3i | elapsed: %s finished',\n    772                         (len(self._output), len(self._output),\n\n---------------------------------------------------------------------------\nSub-process traceback:\n---------------------------------------------------------------------------\nValueError                                         Sun Jun 17 17:15:07 2018\nPID: 29913Python 3.6.4: /Library/Frameworks/Python.framework/Versions/3.6/bin/python3.6\n...........................................................................\n/Library/Frameworks/Python.framework/Versions/3.6/lib/python3.6/site-packages/sklearn/externals/joblib/parallel.py in __call__(self=<sklearn.externals.joblib.parallel.BatchedCalls object>)\n    126     def __init__(self, iterator_slice):\n    127         self.items = list(iterator_slice)\n    128         self._size = len(self.items)\n    129 \n    130     def __call__(self):\n--> 131         return [func(*args, **kwargs) for func, args, kwargs in self.items]\n        self.items = [(<function _fit_and_score>, (Pipeline(steps=[('tfidf', TfidfVectorizer(analyz...ior=None, fit_prior=True),\n          n_jobs=1))]), ['the bank of england said it forecast a shortage ...an inflow of some   mln stg the bank added reuter', 'the bank of france said it invited offers of fir... money today was quoted at             pct reuter', 'the u s lt amoco petroleum corp has reported an ...area this year but gave no further details reuter', 'technology transfer problems have delayed the fi...gh the sites have yet to be chosen he said reuter', 'keiaisha co ltd of tokyo is issuing   mln swiss ... issue is guaranteed by the kyowa bank ltd reuter', '', 'national westminster bank plc said it has cut it...n the pound has continued to gain strongly reuter', 'semi annual dividend   cts pay may   record apri... its initial public offering on november   reuter', 'standard pacific lp said it has acquired substan...rd pacific against undisclosed liabilities reuter', 'the treasury department said it would temporaril...lled organizations for repair or servicing reuter', 'the special prosecutor in the iran arms scandal ...ding current and former government officials more', 'an existing new york stock exchange nyse rule mi...on the london exchange market sources said reuter', 'usair group inc said piedmont aviation inc has a...acquired four mln shares or   pct of usair reuter', 'senior u s arms control officials said they were...act but details would be tough to work out reuter', 'estimated oil and gas drilling completions in th... oil wells     gas wells and     dry holes reuter', 'new credit advanced by finance houses retailers ... than in the previous three months it said reuter', 'a strike by brazil     seafarers who want pay ri...s marine union president edson areias said reuter', 'nec corp nec informational systems inc said it i...y will sell for less than     dlrs it said reuter', 'the   nations of the organisation for economic c...t less in domestic currency in   than in   reuter', 'bundesbank president karl otto poehl told a clos...rong bargain hunting at current low levels reuter', ...], 0        0.0\n1        0.0\n2        0.0\n3        ...7    0.0\nName: tea, Length: 14668, dtype: float64, make_scorer(f1_score, pos_label=None, average=samples), array([ 4889,  4890,  4891, ..., 14665, 14666, 14667]), array([   0,    1,    2, ..., 4887, 4888, 6420]), 1, {}), {'error_score': 'raise', 'fit_params': {}, 'return_n_test_samples': True, 'return_parameters': True, 'return_times': True, 'return_train_score': True})]\n    132 \n    133     def __len__(self):\n    134         return self._size\n    135 \n\n...........................................................................\n/Library/Frameworks/Python.framework/Versions/3.6/lib/python3.6/site-packages/sklearn/externals/joblib/parallel.py in <listcomp>(.0=<list_iterator object>)\n    126     def __init__(self, iterator_slice):\n    127         self.items = list(iterator_slice)\n    128         self._size = len(self.items)\n    129 \n    130     def __call__(self):\n--> 131         return [func(*args, **kwargs) for func, args, kwargs in self.items]\n        func = <function _fit_and_score>\n        args = (Pipeline(steps=[('tfidf', TfidfVectorizer(analyz...ior=None, fit_prior=True),\n          n_jobs=1))]), ['the bank of england said it forecast a shortage ...an inflow of some   mln stg the bank added reuter', 'the bank of france said it invited offers of fir... money today was quoted at             pct reuter', 'the u s lt amoco petroleum corp has reported an ...area this year but gave no further details reuter', 'technology transfer problems have delayed the fi...gh the sites have yet to be chosen he said reuter', 'keiaisha co ltd of tokyo is issuing   mln swiss ... issue is guaranteed by the kyowa bank ltd reuter', '', 'national westminster bank plc said it has cut it...n the pound has continued to gain strongly reuter', 'semi annual dividend   cts pay may   record apri... its initial public offering on november   reuter', 'standard pacific lp said it has acquired substan...rd pacific against undisclosed liabilities reuter', 'the treasury department said it would temporaril...lled organizations for repair or servicing reuter', 'the special prosecutor in the iran arms scandal ...ding current and former government officials more', 'an existing new york stock exchange nyse rule mi...on the london exchange market sources said reuter', 'usair group inc said piedmont aviation inc has a...acquired four mln shares or   pct of usair reuter', 'senior u s arms control officials said they were...act but details would be tough to work out reuter', 'estimated oil and gas drilling completions in th... oil wells     gas wells and     dry holes reuter', 'new credit advanced by finance houses retailers ... than in the previous three months it said reuter', 'a strike by brazil     seafarers who want pay ri...s marine union president edson areias said reuter', 'nec corp nec informational systems inc said it i...y will sell for less than     dlrs it said reuter', 'the   nations of the organisation for economic c...t less in domestic currency in   than in   reuter', 'bundesbank president karl otto poehl told a clos...rong bargain hunting at current low levels reuter', ...], 0        0.0\n1        0.0\n2        0.0\n3        ...7    0.0\nName: tea, Length: 14668, dtype: float64, make_scorer(f1_score, pos_label=None, average=samples), array([ 4889,  4890,  4891, ..., 14665, 14666, 14667]), array([   0,    1,    2, ..., 4887, 4888, 6420]), 1, {})\n        kwargs = {'error_score': 'raise', 'fit_params': {}, 'return_n_test_samples': True, 'return_parameters': True, 'return_times': True, 'return_train_score': True}\n    132 \n    133     def __len__(self):\n    134         return self._size\n    135 \n\n...........................................................................\n/Library/Frameworks/Python.framework/Versions/3.6/lib/python3.6/site-packages/sklearn/model_selection/_validation.py in _fit_and_score(estimator=Pipeline(steps=[('tfidf', TfidfVectorizer(analyz...ior=None, fit_prior=True),\n          n_jobs=1))]), X=['the bank of england said it forecast a shortage ...an inflow of some   mln stg the bank added reuter', 'the bank of france said it invited offers of fir... money today was quoted at             pct reuter', 'the u s lt amoco petroleum corp has reported an ...area this year but gave no further details reuter', 'technology transfer problems have delayed the fi...gh the sites have yet to be chosen he said reuter', 'keiaisha co ltd of tokyo is issuing   mln swiss ... issue is guaranteed by the kyowa bank ltd reuter', '', 'national westminster bank plc said it has cut it...n the pound has continued to gain strongly reuter', 'semi annual dividend   cts pay may   record apri... its initial public offering on november   reuter', 'standard pacific lp said it has acquired substan...rd pacific against undisclosed liabilities reuter', 'the treasury department said it would temporaril...lled organizations for repair or servicing reuter', 'the special prosecutor in the iran arms scandal ...ding current and former government officials more', 'an existing new york stock exchange nyse rule mi...on the london exchange market sources said reuter', 'usair group inc said piedmont aviation inc has a...acquired four mln shares or   pct of usair reuter', 'senior u s arms control officials said they were...act but details would be tough to work out reuter', 'estimated oil and gas drilling completions in th... oil wells     gas wells and     dry holes reuter', 'new credit advanced by finance houses retailers ... than in the previous three months it said reuter', 'a strike by brazil     seafarers who want pay ri...s marine union president edson areias said reuter', 'nec corp nec informational systems inc said it i...y will sell for less than     dlrs it said reuter', 'the   nations of the organisation for economic c...t less in domestic currency in   than in   reuter', 'bundesbank president karl otto poehl told a clos...rong bargain hunting at current low levels reuter', ...], y=0        0.0\n1        0.0\n2        0.0\n3        ...7    0.0\nName: tea, Length: 14668, dtype: float64, scorer=make_scorer(f1_score, pos_label=None, average=samples), train=array([ 4889,  4890,  4891, ..., 14665, 14666, 14667]), test=array([   0,    1,    2, ..., 4887, 4888, 6420]), verbose=1, parameters={}, fit_params={}, return_train_score=True, return_parameters=True, return_n_test_samples=True, return_times=True, error_score='raise')\n    255                              \" numeric value. (Hint: if using 'raise', please\"\n    256                              \" make sure that it has been spelled correctly.)\")\n    257 \n    258     else:\n    259         fit_time = time.time() - start_time\n--> 260         test_score = _score(estimator, X_test, y_test, scorer)\n        test_score = undefined\n        estimator = Pipeline(steps=[('tfidf', TfidfVectorizer(analyz...ior=None, fit_prior=True),\n          n_jobs=1))])\n        X_test = ['the bank of england said it forecast a shortage ...an inflow of some   mln stg the bank added reuter', 'the bank of france said it invited offers of fir... money today was quoted at             pct reuter', 'the u s lt amoco petroleum corp has reported an ...area this year but gave no further details reuter', 'technology transfer problems have delayed the fi...gh the sites have yet to be chosen he said reuter', 'keiaisha co ltd of tokyo is issuing   mln swiss ... issue is guaranteed by the kyowa bank ltd reuter', '', 'national westminster bank plc said it has cut it...n the pound has continued to gain strongly reuter', 'semi annual dividend   cts pay may   record apri... its initial public offering on november   reuter', 'standard pacific lp said it has acquired substan...rd pacific against undisclosed liabilities reuter', 'the treasury department said it would temporaril...lled organizations for repair or servicing reuter', 'the special prosecutor in the iran arms scandal ...ding current and former government officials more', 'an existing new york stock exchange nyse rule mi...on the london exchange market sources said reuter', 'usair group inc said piedmont aviation inc has a...acquired four mln shares or   pct of usair reuter', 'senior u s arms control officials said they were...act but details would be tough to work out reuter', 'estimated oil and gas drilling completions in th... oil wells     gas wells and     dry holes reuter', 'new credit advanced by finance houses retailers ... than in the previous three months it said reuter', 'a strike by brazil     seafarers who want pay ri...s marine union president edson areias said reuter', 'nec corp nec informational systems inc said it i...y will sell for less than     dlrs it said reuter', 'the   nations of the organisation for economic c...t less in domestic currency in   than in   reuter', 'bundesbank president karl otto poehl told a clos...rong bargain hunting at current low levels reuter', ...]\n        y_test = 0       0.0\n1       0.0\n2       0.0\n3       0.0\n...53    1.0\nName: tea, Length: 4890, dtype: float64\n        scorer = make_scorer(f1_score, pos_label=None, average=samples)\n    261         score_time = time.time() - start_time - fit_time\n    262         if return_train_score:\n    263             train_score = _score(estimator, X_train, y_train, scorer)\n    264 \n\n...........................................................................\n/Library/Frameworks/Python.framework/Versions/3.6/lib/python3.6/site-packages/sklearn/model_selection/_validation.py in _score(estimator=Pipeline(steps=[('tfidf', TfidfVectorizer(analyz...ior=None, fit_prior=True),\n          n_jobs=1))]), X_test=['the bank of england said it forecast a shortage ...an inflow of some   mln stg the bank added reuter', 'the bank of france said it invited offers of fir... money today was quoted at             pct reuter', 'the u s lt amoco petroleum corp has reported an ...area this year but gave no further details reuter', 'technology transfer problems have delayed the fi...gh the sites have yet to be chosen he said reuter', 'keiaisha co ltd of tokyo is issuing   mln swiss ... issue is guaranteed by the kyowa bank ltd reuter', '', 'national westminster bank plc said it has cut it...n the pound has continued to gain strongly reuter', 'semi annual dividend   cts pay may   record apri... its initial public offering on november   reuter', 'standard pacific lp said it has acquired substan...rd pacific against undisclosed liabilities reuter', 'the treasury department said it would temporaril...lled organizations for repair or servicing reuter', 'the special prosecutor in the iran arms scandal ...ding current and former government officials more', 'an existing new york stock exchange nyse rule mi...on the london exchange market sources said reuter', 'usair group inc said piedmont aviation inc has a...acquired four mln shares or   pct of usair reuter', 'senior u s arms control officials said they were...act but details would be tough to work out reuter', 'estimated oil and gas drilling completions in th... oil wells     gas wells and     dry holes reuter', 'new credit advanced by finance houses retailers ... than in the previous three months it said reuter', 'a strike by brazil     seafarers who want pay ri...s marine union president edson areias said reuter', 'nec corp nec informational systems inc said it i...y will sell for less than     dlrs it said reuter', 'the   nations of the organisation for economic c...t less in domestic currency in   than in   reuter', 'bundesbank president karl otto poehl told a clos...rong bargain hunting at current low levels reuter', ...], y_test=0       0.0\n1       0.0\n2       0.0\n3       0.0\n...53    1.0\nName: tea, Length: 4890, dtype: float64, scorer=make_scorer(f1_score, pos_label=None, average=samples))\n    283 def _score(estimator, X_test, y_test, scorer):\n    284     \"\"\"Compute the score of an estimator on a given test set.\"\"\"\n    285     if y_test is None:\n    286         score = scorer(estimator, X_test)\n    287     else:\n--> 288         score = scorer(estimator, X_test, y_test)\n        score = undefined\n        scorer = make_scorer(f1_score, pos_label=None, average=samples)\n        estimator = Pipeline(steps=[('tfidf', TfidfVectorizer(analyz...ior=None, fit_prior=True),\n          n_jobs=1))])\n        X_test = ['the bank of england said it forecast a shortage ...an inflow of some   mln stg the bank added reuter', 'the bank of france said it invited offers of fir... money today was quoted at             pct reuter', 'the u s lt amoco petroleum corp has reported an ...area this year but gave no further details reuter', 'technology transfer problems have delayed the fi...gh the sites have yet to be chosen he said reuter', 'keiaisha co ltd of tokyo is issuing   mln swiss ... issue is guaranteed by the kyowa bank ltd reuter', '', 'national westminster bank plc said it has cut it...n the pound has continued to gain strongly reuter', 'semi annual dividend   cts pay may   record apri... its initial public offering on november   reuter', 'standard pacific lp said it has acquired substan...rd pacific against undisclosed liabilities reuter', 'the treasury department said it would temporaril...lled organizations for repair or servicing reuter', 'the special prosecutor in the iran arms scandal ...ding current and former government officials more', 'an existing new york stock exchange nyse rule mi...on the london exchange market sources said reuter', 'usair group inc said piedmont aviation inc has a...acquired four mln shares or   pct of usair reuter', 'senior u s arms control officials said they were...act but details would be tough to work out reuter', 'estimated oil and gas drilling completions in th... oil wells     gas wells and     dry holes reuter', 'new credit advanced by finance houses retailers ... than in the previous three months it said reuter', 'a strike by brazil     seafarers who want pay ri...s marine union president edson areias said reuter', 'nec corp nec informational systems inc said it i...y will sell for less than     dlrs it said reuter', 'the   nations of the organisation for economic c...t less in domestic currency in   than in   reuter', 'bundesbank president karl otto poehl told a clos...rong bargain hunting at current low levels reuter', ...]\n        y_test = 0       0.0\n1       0.0\n2       0.0\n3       0.0\n...53    1.0\nName: tea, Length: 4890, dtype: float64\n    289     if hasattr(score, 'item'):\n    290         try:\n    291             # e.g. unwrap memmapped scalars\n    292             score = score.item()\n\n...........................................................................\n/Library/Frameworks/Python.framework/Versions/3.6/lib/python3.6/site-packages/sklearn/metrics/scorer.py in __call__(self=make_scorer(f1_score, pos_label=None, average=samples), estimator=Pipeline(steps=[('tfidf', TfidfVectorizer(analyz...ior=None, fit_prior=True),\n          n_jobs=1))]), X=['the bank of england said it forecast a shortage ...an inflow of some   mln stg the bank added reuter', 'the bank of france said it invited offers of fir... money today was quoted at             pct reuter', 'the u s lt amoco petroleum corp has reported an ...area this year but gave no further details reuter', 'technology transfer problems have delayed the fi...gh the sites have yet to be chosen he said reuter', 'keiaisha co ltd of tokyo is issuing   mln swiss ... issue is guaranteed by the kyowa bank ltd reuter', '', 'national westminster bank plc said it has cut it...n the pound has continued to gain strongly reuter', 'semi annual dividend   cts pay may   record apri... its initial public offering on november   reuter', 'standard pacific lp said it has acquired substan...rd pacific against undisclosed liabilities reuter', 'the treasury department said it would temporaril...lled organizations for repair or servicing reuter', 'the special prosecutor in the iran arms scandal ...ding current and former government officials more', 'an existing new york stock exchange nyse rule mi...on the london exchange market sources said reuter', 'usair group inc said piedmont aviation inc has a...acquired four mln shares or   pct of usair reuter', 'senior u s arms control officials said they were...act but details would be tough to work out reuter', 'estimated oil and gas drilling completions in th... oil wells     gas wells and     dry holes reuter', 'new credit advanced by finance houses retailers ... than in the previous three months it said reuter', 'a strike by brazil     seafarers who want pay ri...s marine union president edson areias said reuter', 'nec corp nec informational systems inc said it i...y will sell for less than     dlrs it said reuter', 'the   nations of the organisation for economic c...t less in domestic currency in   than in   reuter', 'bundesbank president karl otto poehl told a clos...rong bargain hunting at current low levels reuter', ...], y_true=0       0.0\n1       0.0\n2       0.0\n3       0.0\n...53    1.0\nName: tea, Length: 4890, dtype: float64, sample_weight=None)\n     93             return self._sign * self._score_func(y_true, y_pred,\n     94                                                  sample_weight=sample_weight,\n     95                                                  **self._kwargs)\n     96         else:\n     97             return self._sign * self._score_func(y_true, y_pred,\n---> 98                                                  **self._kwargs)\n        self._kwargs = {'average': 'samples', 'pos_label': None}\n     99 \n    100 \n    101 class _ProbaScorer(_BaseScorer):\n    102     def __call__(self, clf, X, y, sample_weight=None):\n\n...........................................................................\n/Library/Frameworks/Python.framework/Versions/3.6/lib/python3.6/site-packages/sklearn/metrics/classification.py in f1_score(y_true=0       0.0\n1       0.0\n2       0.0\n3       0.0\n...53    1.0\nName: tea, Length: 4890, dtype: float64, y_pred=array([0., 0., 0., ..., 0., 0., 0.]), labels=None, pos_label=None, average='samples', sample_weight=None)\n    687 \n    688 \n    689     \"\"\"\n    690     return fbeta_score(y_true, y_pred, 1, labels=labels,\n    691                        pos_label=pos_label, average=average,\n--> 692                        sample_weight=sample_weight)\n        sample_weight = None\n    693 \n    694 \n    695 def fbeta_score(y_true, y_pred, beta, labels=None, pos_label=1,\n    696                 average='binary', sample_weight=None):\n\n...........................................................................\n/Library/Frameworks/Python.framework/Versions/3.6/lib/python3.6/site-packages/sklearn/metrics/classification.py in fbeta_score(y_true=0       0.0\n1       0.0\n2       0.0\n3       0.0\n...53    1.0\nName: tea, Length: 4890, dtype: float64, y_pred=array([0., 0., 0., ..., 0., 0., 0.]), beta=1, labels=None, pos_label=None, average='samples', sample_weight=None)\n    801                                                  beta=beta,\n    802                                                  labels=labels,\n    803                                                  pos_label=pos_label,\n    804                                                  average=average,\n    805                                                  warn_for=('f-score',),\n--> 806                                                  sample_weight=sample_weight)\n        sample_weight = None\n    807     return f\n    808 \n    809 \n    810 def _prf_divide(numerator, denominator, metric, modifier, average, warn_for):\n\n...........................................................................\n/Library/Frameworks/Python.framework/Versions/3.6/lib/python3.6/site-packages/sklearn/metrics/classification.py in precision_recall_fscore_support(y_true=array([0., 0., 0., ..., 0., 0., 1.]), y_pred=array([0., 0., 0., ..., 0., 0., 0.]), beta=1, labels=array([0., 1.]), pos_label=None, average='samples', warn_for=('f-score',), sample_weight=None)\n   1057                                  sample_weight=sample_weight)\n   1058         true_sum = count_nonzero(y_true, axis=sum_axis,\n   1059                                  sample_weight=sample_weight)\n   1060 \n   1061     elif average == 'samples':\n-> 1062         raise ValueError(\"Sample-based precision, recall, fscore is \"\n   1063                          \"not meaningful outside multilabel \"\n   1064                          \"classification. See the accuracy_score instead.\")\n   1065     else:\n   1066         le = LabelEncoder()\n\nValueError: Sample-based precision, recall, fscore is not meaningful outside multilabel classification. See the accuracy_score instead.\n___________________________________________________________________________",
     "output_type": "error",
     "traceback": [
      "\u001b[0;31m---------------------------------------------------------------------------\u001b[0m",
      "\u001b[0;31mRemoteTraceback\u001b[0m                           Traceback (most recent call last)",
      "\u001b[0;31mRemoteTraceback\u001b[0m: \n\"\"\"\nTraceback (most recent call last):\n  File \"/Library/Frameworks/Python.framework/Versions/3.6/lib/python3.6/site-packages/sklearn/externals/joblib/_parallel_backends.py\", line 344, in __call__\n    return self.func(*args, **kwargs)\n  File \"/Library/Frameworks/Python.framework/Versions/3.6/lib/python3.6/site-packages/sklearn/externals/joblib/parallel.py\", line 131, in __call__\n    return [func(*args, **kwargs) for func, args, kwargs in self.items]\n  File \"/Library/Frameworks/Python.framework/Versions/3.6/lib/python3.6/site-packages/sklearn/externals/joblib/parallel.py\", line 131, in <listcomp>\n    return [func(*args, **kwargs) for func, args, kwargs in self.items]\n  File \"/Library/Frameworks/Python.framework/Versions/3.6/lib/python3.6/site-packages/sklearn/model_selection/_validation.py\", line 260, in _fit_and_score\n    test_score = _score(estimator, X_test, y_test, scorer)\n  File \"/Library/Frameworks/Python.framework/Versions/3.6/lib/python3.6/site-packages/sklearn/model_selection/_validation.py\", line 288, in _score\n    score = scorer(estimator, X_test, y_test)\n  File \"/Library/Frameworks/Python.framework/Versions/3.6/lib/python3.6/site-packages/sklearn/metrics/scorer.py\", line 98, in __call__\n    **self._kwargs)\n  File \"/Library/Frameworks/Python.framework/Versions/3.6/lib/python3.6/site-packages/sklearn/metrics/classification.py\", line 692, in f1_score\n    sample_weight=sample_weight)\n  File \"/Library/Frameworks/Python.framework/Versions/3.6/lib/python3.6/site-packages/sklearn/metrics/classification.py\", line 806, in fbeta_score\n    sample_weight=sample_weight)\n  File \"/Library/Frameworks/Python.framework/Versions/3.6/lib/python3.6/site-packages/sklearn/metrics/classification.py\", line 1062, in precision_recall_fscore_support\n    raise ValueError(\"Sample-based precision, recall, fscore is \"\nValueError: Sample-based precision, recall, fscore is not meaningful outside multilabel classification. See the accuracy_score instead.\n\nDuring handling of the above exception, another exception occurred:\n\nTraceback (most recent call last):\n  File \"/Library/Frameworks/Python.framework/Versions/3.6/lib/python3.6/multiprocessing/pool.py\", line 119, in worker\n    result = (True, func(*args, **kwds))\n  File \"/Library/Frameworks/Python.framework/Versions/3.6/lib/python3.6/site-packages/sklearn/externals/joblib/_parallel_backends.py\", line 353, in __call__\n    raise TransportableException(text, e_type)\nsklearn.externals.joblib.my_exceptions.TransportableException: TransportableException\n___________________________________________________________________________\nValueError                                         Sun Jun 17 17:15:07 2018\nPID: 29913Python 3.6.4: /Library/Frameworks/Python.framework/Versions/3.6/bin/python3.6\n...........................................................................\n/Library/Frameworks/Python.framework/Versions/3.6/lib/python3.6/site-packages/sklearn/externals/joblib/parallel.py in __call__(self=<sklearn.externals.joblib.parallel.BatchedCalls object>)\n    126     def __init__(self, iterator_slice):\n    127         self.items = list(iterator_slice)\n    128         self._size = len(self.items)\n    129 \n    130     def __call__(self):\n--> 131         return [func(*args, **kwargs) for func, args, kwargs in self.items]\n        self.items = [(<function _fit_and_score>, (Pipeline(steps=[('tfidf', TfidfVectorizer(analyz...ior=None, fit_prior=True),\n          n_jobs=1))]), ['the bank of england said it forecast a shortage ...an inflow of some   mln stg the bank added reuter', 'the bank of france said it invited offers of fir... money today was quoted at             pct reuter', 'the u s lt amoco petroleum corp has reported an ...area this year but gave no further details reuter', 'technology transfer problems have delayed the fi...gh the sites have yet to be chosen he said reuter', 'keiaisha co ltd of tokyo is issuing   mln swiss ... issue is guaranteed by the kyowa bank ltd reuter', '', 'national westminster bank plc said it has cut it...n the pound has continued to gain strongly reuter', 'semi annual dividend   cts pay may   record apri... its initial public offering on november   reuter', 'standard pacific lp said it has acquired substan...rd pacific against undisclosed liabilities reuter', 'the treasury department said it would temporaril...lled organizations for repair or servicing reuter', 'the special prosecutor in the iran arms scandal ...ding current and former government officials more', 'an existing new york stock exchange nyse rule mi...on the london exchange market sources said reuter', 'usair group inc said piedmont aviation inc has a...acquired four mln shares or   pct of usair reuter', 'senior u s arms control officials said they were...act but details would be tough to work out reuter', 'estimated oil and gas drilling completions in th... oil wells     gas wells and     dry holes reuter', 'new credit advanced by finance houses retailers ... than in the previous three months it said reuter', 'a strike by brazil     seafarers who want pay ri...s marine union president edson areias said reuter', 'nec corp nec informational systems inc said it i...y will sell for less than     dlrs it said reuter', 'the   nations of the organisation for economic c...t less in domestic currency in   than in   reuter', 'bundesbank president karl otto poehl told a clos...rong bargain hunting at current low levels reuter', ...], 0        0.0\n1        0.0\n2        0.0\n3        ...7    0.0\nName: tea, Length: 14668, dtype: float64, make_scorer(f1_score, pos_label=None, average=samples), array([ 4889,  4890,  4891, ..., 14665, 14666, 14667]), array([   0,    1,    2, ..., 4887, 4888, 6420]), 1, {}), {'error_score': 'raise', 'fit_params': {}, 'return_n_test_samples': True, 'return_parameters': True, 'return_times': True, 'return_train_score': True})]\n    132 \n    133     def __len__(self):\n    134         return self._size\n    135 \n\n...........................................................................\n/Library/Frameworks/Python.framework/Versions/3.6/lib/python3.6/site-packages/sklearn/externals/joblib/parallel.py in <listcomp>(.0=<list_iterator object>)\n    126     def __init__(self, iterator_slice):\n    127         self.items = list(iterator_slice)\n    128         self._size = len(self.items)\n    129 \n    130     def __call__(self):\n--> 131         return [func(*args, **kwargs) for func, args, kwargs in self.items]\n        func = <function _fit_and_score>\n        args = (Pipeline(steps=[('tfidf', TfidfVectorizer(analyz...ior=None, fit_prior=True),\n          n_jobs=1))]), ['the bank of england said it forecast a shortage ...an inflow of some   mln stg the bank added reuter', 'the bank of france said it invited offers of fir... money today was quoted at             pct reuter', 'the u s lt amoco petroleum corp has reported an ...area this year but gave no further details reuter', 'technology transfer problems have delayed the fi...gh the sites have yet to be chosen he said reuter', 'keiaisha co ltd of tokyo is issuing   mln swiss ... issue is guaranteed by the kyowa bank ltd reuter', '', 'national westminster bank plc said it has cut it...n the pound has continued to gain strongly reuter', 'semi annual dividend   cts pay may   record apri... its initial public offering on november   reuter', 'standard pacific lp said it has acquired substan...rd pacific against undisclosed liabilities reuter', 'the treasury department said it would temporaril...lled organizations for repair or servicing reuter', 'the special prosecutor in the iran arms scandal ...ding current and former government officials more', 'an existing new york stock exchange nyse rule mi...on the london exchange market sources said reuter', 'usair group inc said piedmont aviation inc has a...acquired four mln shares or   pct of usair reuter', 'senior u s arms control officials said they were...act but details would be tough to work out reuter', 'estimated oil and gas drilling completions in th... oil wells     gas wells and     dry holes reuter', 'new credit advanced by finance houses retailers ... than in the previous three months it said reuter', 'a strike by brazil     seafarers who want pay ri...s marine union president edson areias said reuter', 'nec corp nec informational systems inc said it i...y will sell for less than     dlrs it said reuter', 'the   nations of the organisation for economic c...t less in domestic currency in   than in   reuter', 'bundesbank president karl otto poehl told a clos...rong bargain hunting at current low levels reuter', ...], 0        0.0\n1        0.0\n2        0.0\n3        ...7    0.0\nName: tea, Length: 14668, dtype: float64, make_scorer(f1_score, pos_label=None, average=samples), array([ 4889,  4890,  4891, ..., 14665, 14666, 14667]), array([   0,    1,    2, ..., 4887, 4888, 6420]), 1, {})\n        kwargs = {'error_score': 'raise', 'fit_params': {}, 'return_n_test_samples': True, 'return_parameters': True, 'return_times': True, 'return_train_score': True}\n    132 \n    133     def __len__(self):\n    134         return self._size\n    135 \n\n...........................................................................\n/Library/Frameworks/Python.framework/Versions/3.6/lib/python3.6/site-packages/sklearn/model_selection/_validation.py in _fit_and_score(estimator=Pipeline(steps=[('tfidf', TfidfVectorizer(analyz...ior=None, fit_prior=True),\n          n_jobs=1))]), X=['the bank of england said it forecast a shortage ...an inflow of some   mln stg the bank added reuter', 'the bank of france said it invited offers of fir... money today was quoted at             pct reuter', 'the u s lt amoco petroleum corp has reported an ...area this year but gave no further details reuter', 'technology transfer problems have delayed the fi...gh the sites have yet to be chosen he said reuter', 'keiaisha co ltd of tokyo is issuing   mln swiss ... issue is guaranteed by the kyowa bank ltd reuter', '', 'national westminster bank plc said it has cut it...n the pound has continued to gain strongly reuter', 'semi annual dividend   cts pay may   record apri... its initial public offering on november   reuter', 'standard pacific lp said it has acquired substan...rd pacific against undisclosed liabilities reuter', 'the treasury department said it would temporaril...lled organizations for repair or servicing reuter', 'the special prosecutor in the iran arms scandal ...ding current and former government officials more', 'an existing new york stock exchange nyse rule mi...on the london exchange market sources said reuter', 'usair group inc said piedmont aviation inc has a...acquired four mln shares or   pct of usair reuter', 'senior u s arms control officials said they were...act but details would be tough to work out reuter', 'estimated oil and gas drilling completions in th... oil wells     gas wells and     dry holes reuter', 'new credit advanced by finance houses retailers ... than in the previous three months it said reuter', 'a strike by brazil     seafarers who want pay ri...s marine union president edson areias said reuter', 'nec corp nec informational systems inc said it i...y will sell for less than     dlrs it said reuter', 'the   nations of the organisation for economic c...t less in domestic currency in   than in   reuter', 'bundesbank president karl otto poehl told a clos...rong bargain hunting at current low levels reuter', ...], y=0        0.0\n1        0.0\n2        0.0\n3        ...7    0.0\nName: tea, Length: 14668, dtype: float64, scorer=make_scorer(f1_score, pos_label=None, average=samples), train=array([ 4889,  4890,  4891, ..., 14665, 14666, 14667]), test=array([   0,    1,    2, ..., 4887, 4888, 6420]), verbose=1, parameters={}, fit_params={}, return_train_score=True, return_parameters=True, return_n_test_samples=True, return_times=True, error_score='raise')\n    255                              \" numeric value. (Hint: if using 'raise', please\"\n    256                              \" make sure that it has been spelled correctly.)\")\n    257 \n    258     else:\n    259         fit_time = time.time() - start_time\n--> 260         test_score = _score(estimator, X_test, y_test, scorer)\n        test_score = undefined\n        estimator = Pipeline(steps=[('tfidf', TfidfVectorizer(analyz...ior=None, fit_prior=True),\n          n_jobs=1))])\n        X_test = ['the bank of england said it forecast a shortage ...an inflow of some   mln stg the bank added reuter', 'the bank of france said it invited offers of fir... money today was quoted at             pct reuter', 'the u s lt amoco petroleum corp has reported an ...area this year but gave no further details reuter', 'technology transfer problems have delayed the fi...gh the sites have yet to be chosen he said reuter', 'keiaisha co ltd of tokyo is issuing   mln swiss ... issue is guaranteed by the kyowa bank ltd reuter', '', 'national westminster bank plc said it has cut it...n the pound has continued to gain strongly reuter', 'semi annual dividend   cts pay may   record apri... its initial public offering on november   reuter', 'standard pacific lp said it has acquired substan...rd pacific against undisclosed liabilities reuter', 'the treasury department said it would temporaril...lled organizations for repair or servicing reuter', 'the special prosecutor in the iran arms scandal ...ding current and former government officials more', 'an existing new york stock exchange nyse rule mi...on the london exchange market sources said reuter', 'usair group inc said piedmont aviation inc has a...acquired four mln shares or   pct of usair reuter', 'senior u s arms control officials said they were...act but details would be tough to work out reuter', 'estimated oil and gas drilling completions in th... oil wells     gas wells and     dry holes reuter', 'new credit advanced by finance houses retailers ... than in the previous three months it said reuter', 'a strike by brazil     seafarers who want pay ri...s marine union president edson areias said reuter', 'nec corp nec informational systems inc said it i...y will sell for less than     dlrs it said reuter', 'the   nations of the organisation for economic c...t less in domestic currency in   than in   reuter', 'bundesbank president karl otto poehl told a clos...rong bargain hunting at current low levels reuter', ...]\n        y_test = 0       0.0\n1       0.0\n2       0.0\n3       0.0\n...53    1.0\nName: tea, Length: 4890, dtype: float64\n        scorer = make_scorer(f1_score, pos_label=None, average=samples)\n    261         score_time = time.time() - start_time - fit_time\n    262         if return_train_score:\n    263             train_score = _score(estimator, X_train, y_train, scorer)\n    264 \n\n...........................................................................\n/Library/Frameworks/Python.framework/Versions/3.6/lib/python3.6/site-packages/sklearn/model_selection/_validation.py in _score(estimator=Pipeline(steps=[('tfidf', TfidfVectorizer(analyz...ior=None, fit_prior=True),\n          n_jobs=1))]), X_test=['the bank of england said it forecast a shortage ...an inflow of some   mln stg the bank added reuter', 'the bank of france said it invited offers of fir... money today was quoted at             pct reuter', 'the u s lt amoco petroleum corp has reported an ...area this year but gave no further details reuter', 'technology transfer problems have delayed the fi...gh the sites have yet to be chosen he said reuter', 'keiaisha co ltd of tokyo is issuing   mln swiss ... issue is guaranteed by the kyowa bank ltd reuter', '', 'national westminster bank plc said it has cut it...n the pound has continued to gain strongly reuter', 'semi annual dividend   cts pay may   record apri... its initial public offering on november   reuter', 'standard pacific lp said it has acquired substan...rd pacific against undisclosed liabilities reuter', 'the treasury department said it would temporaril...lled organizations for repair or servicing reuter', 'the special prosecutor in the iran arms scandal ...ding current and former government officials more', 'an existing new york stock exchange nyse rule mi...on the london exchange market sources said reuter', 'usair group inc said piedmont aviation inc has a...acquired four mln shares or   pct of usair reuter', 'senior u s arms control officials said they were...act but details would be tough to work out reuter', 'estimated oil and gas drilling completions in th... oil wells     gas wells and     dry holes reuter', 'new credit advanced by finance houses retailers ... than in the previous three months it said reuter', 'a strike by brazil     seafarers who want pay ri...s marine union president edson areias said reuter', 'nec corp nec informational systems inc said it i...y will sell for less than     dlrs it said reuter', 'the   nations of the organisation for economic c...t less in domestic currency in   than in   reuter', 'bundesbank president karl otto poehl told a clos...rong bargain hunting at current low levels reuter', ...], y_test=0       0.0\n1       0.0\n2       0.0\n3       0.0\n...53    1.0\nName: tea, Length: 4890, dtype: float64, scorer=make_scorer(f1_score, pos_label=None, average=samples))\n    283 def _score(estimator, X_test, y_test, scorer):\n    284     \"\"\"Compute the score of an estimator on a given test set.\"\"\"\n    285     if y_test is None:\n    286         score = scorer(estimator, X_test)\n    287     else:\n--> 288         score = scorer(estimator, X_test, y_test)\n        score = undefined\n        scorer = make_scorer(f1_score, pos_label=None, average=samples)\n        estimator = Pipeline(steps=[('tfidf', TfidfVectorizer(analyz...ior=None, fit_prior=True),\n          n_jobs=1))])\n        X_test = ['the bank of england said it forecast a shortage ...an inflow of some   mln stg the bank added reuter', 'the bank of france said it invited offers of fir... money today was quoted at             pct reuter', 'the u s lt amoco petroleum corp has reported an ...area this year but gave no further details reuter', 'technology transfer problems have delayed the fi...gh the sites have yet to be chosen he said reuter', 'keiaisha co ltd of tokyo is issuing   mln swiss ... issue is guaranteed by the kyowa bank ltd reuter', '', 'national westminster bank plc said it has cut it...n the pound has continued to gain strongly reuter', 'semi annual dividend   cts pay may   record apri... its initial public offering on november   reuter', 'standard pacific lp said it has acquired substan...rd pacific against undisclosed liabilities reuter', 'the treasury department said it would temporaril...lled organizations for repair or servicing reuter', 'the special prosecutor in the iran arms scandal ...ding current and former government officials more', 'an existing new york stock exchange nyse rule mi...on the london exchange market sources said reuter', 'usair group inc said piedmont aviation inc has a...acquired four mln shares or   pct of usair reuter', 'senior u s arms control officials said they were...act but details would be tough to work out reuter', 'estimated oil and gas drilling completions in th... oil wells     gas wells and     dry holes reuter', 'new credit advanced by finance houses retailers ... than in the previous three months it said reuter', 'a strike by brazil     seafarers who want pay ri...s marine union president edson areias said reuter', 'nec corp nec informational systems inc said it i...y will sell for less than     dlrs it said reuter', 'the   nations of the organisation for economic c...t less in domestic currency in   than in   reuter', 'bundesbank president karl otto poehl told a clos...rong bargain hunting at current low levels reuter', ...]\n        y_test = 0       0.0\n1       0.0\n2       0.0\n3       0.0\n...53    1.0\nName: tea, Length: 4890, dtype: float64\n    289     if hasattr(score, 'item'):\n    290         try:\n    291             # e.g. unwrap memmapped scalars\n    292             score = score.item()\n\n...........................................................................\n/Library/Frameworks/Python.framework/Versions/3.6/lib/python3.6/site-packages/sklearn/metrics/scorer.py in __call__(self=make_scorer(f1_score, pos_label=None, average=samples), estimator=Pipeline(steps=[('tfidf', TfidfVectorizer(analyz...ior=None, fit_prior=True),\n          n_jobs=1))]), X=['the bank of england said it forecast a shortage ...an inflow of some   mln stg the bank added reuter', 'the bank of france said it invited offers of fir... money today was quoted at             pct reuter', 'the u s lt amoco petroleum corp has reported an ...area this year but gave no further details reuter', 'technology transfer problems have delayed the fi...gh the sites have yet to be chosen he said reuter', 'keiaisha co ltd of tokyo is issuing   mln swiss ... issue is guaranteed by the kyowa bank ltd reuter', '', 'national westminster bank plc said it has cut it...n the pound has continued to gain strongly reuter', 'semi annual dividend   cts pay may   record apri... its initial public offering on november   reuter', 'standard pacific lp said it has acquired substan...rd pacific against undisclosed liabilities reuter', 'the treasury department said it would temporaril...lled organizations for repair or servicing reuter', 'the special prosecutor in the iran arms scandal ...ding current and former government officials more', 'an existing new york stock exchange nyse rule mi...on the london exchange market sources said reuter', 'usair group inc said piedmont aviation inc has a...acquired four mln shares or   pct of usair reuter', 'senior u s arms control officials said they were...act but details would be tough to work out reuter', 'estimated oil and gas drilling completions in th... oil wells     gas wells and     dry holes reuter', 'new credit advanced by finance houses retailers ... than in the previous three months it said reuter', 'a strike by brazil     seafarers who want pay ri...s marine union president edson areias said reuter', 'nec corp nec informational systems inc said it i...y will sell for less than     dlrs it said reuter', 'the   nations of the organisation for economic c...t less in domestic currency in   than in   reuter', 'bundesbank president karl otto poehl told a clos...rong bargain hunting at current low levels reuter', ...], y_true=0       0.0\n1       0.0\n2       0.0\n3       0.0\n...53    1.0\nName: tea, Length: 4890, dtype: float64, sample_weight=None)\n     93             return self._sign * self._score_func(y_true, y_pred,\n     94                                                  sample_weight=sample_weight,\n     95                                                  **self._kwargs)\n     96         else:\n     97             return self._sign * self._score_func(y_true, y_pred,\n---> 98                                                  **self._kwargs)\n        self._kwargs = {'average': 'samples', 'pos_label': None}\n     99 \n    100 \n    101 class _ProbaScorer(_BaseScorer):\n    102     def __call__(self, clf, X, y, sample_weight=None):\n\n...........................................................................\n/Library/Frameworks/Python.framework/Versions/3.6/lib/python3.6/site-packages/sklearn/metrics/classification.py in f1_score(y_true=0       0.0\n1       0.0\n2       0.0\n3       0.0\n...53    1.0\nName: tea, Length: 4890, dtype: float64, y_pred=array([0., 0., 0., ..., 0., 0., 0.]), labels=None, pos_label=None, average='samples', sample_weight=None)\n    687 \n    688 \n    689     \"\"\"\n    690     return fbeta_score(y_true, y_pred, 1, labels=labels,\n    691                        pos_label=pos_label, average=average,\n--> 692                        sample_weight=sample_weight)\n        sample_weight = None\n    693 \n    694 \n    695 def fbeta_score(y_true, y_pred, beta, labels=None, pos_label=1,\n    696                 average='binary', sample_weight=None):\n\n...........................................................................\n/Library/Frameworks/Python.framework/Versions/3.6/lib/python3.6/site-packages/sklearn/metrics/classification.py in fbeta_score(y_true=0       0.0\n1       0.0\n2       0.0\n3       0.0\n...53    1.0\nName: tea, Length: 4890, dtype: float64, y_pred=array([0., 0., 0., ..., 0., 0., 0.]), beta=1, labels=None, pos_label=None, average='samples', sample_weight=None)\n    801                                                  beta=beta,\n    802                                                  labels=labels,\n    803                                                  pos_label=pos_label,\n    804                                                  average=average,\n    805                                                  warn_for=('f-score',),\n--> 806                                                  sample_weight=sample_weight)\n        sample_weight = None\n    807     return f\n    808 \n    809 \n    810 def _prf_divide(numerator, denominator, metric, modifier, average, warn_for):\n\n...........................................................................\n/Library/Frameworks/Python.framework/Versions/3.6/lib/python3.6/site-packages/sklearn/metrics/classification.py in precision_recall_fscore_support(y_true=array([0., 0., 0., ..., 0., 0., 1.]), y_pred=array([0., 0., 0., ..., 0., 0., 0.]), beta=1, labels=array([0., 1.]), pos_label=None, average='samples', warn_for=('f-score',), sample_weight=None)\n   1057                                  sample_weight=sample_weight)\n   1058         true_sum = count_nonzero(y_true, axis=sum_axis,\n   1059                                  sample_weight=sample_weight)\n   1060 \n   1061     elif average == 'samples':\n-> 1062         raise ValueError(\"Sample-based precision, recall, fscore is \"\n   1063                          \"not meaningful outside multilabel \"\n   1064                          \"classification. See the accuracy_score instead.\")\n   1065     else:\n   1066         le = LabelEncoder()\n\nValueError: Sample-based precision, recall, fscore is not meaningful outside multilabel classification. See the accuracy_score instead.\n___________________________________________________________________________\n\"\"\"",
      "\nThe above exception was the direct cause of the following exception:\n",
      "\u001b[0;31mTransportableException\u001b[0m                    Traceback (most recent call last)",
      "\u001b[0;32m/Library/Frameworks/Python.framework/Versions/3.6/lib/python3.6/site-packages/sklearn/externals/joblib/parallel.py\u001b[0m in \u001b[0;36mretrieve\u001b[0;34m(self)\u001b[0m\n\u001b[1;32m    681\u001b[0m                 \u001b[0;32mif\u001b[0m \u001b[0;34m'timeout'\u001b[0m \u001b[0;32min\u001b[0m \u001b[0mgetfullargspec\u001b[0m\u001b[0;34m(\u001b[0m\u001b[0mjob\u001b[0m\u001b[0;34m.\u001b[0m\u001b[0mget\u001b[0m\u001b[0;34m)\u001b[0m\u001b[0;34m.\u001b[0m\u001b[0margs\u001b[0m\u001b[0;34m:\u001b[0m\u001b[0;34m\u001b[0m\u001b[0m\n\u001b[0;32m--> 682\u001b[0;31m                     \u001b[0mself\u001b[0m\u001b[0;34m.\u001b[0m\u001b[0m_output\u001b[0m\u001b[0;34m.\u001b[0m\u001b[0mextend\u001b[0m\u001b[0;34m(\u001b[0m\u001b[0mjob\u001b[0m\u001b[0;34m.\u001b[0m\u001b[0mget\u001b[0m\u001b[0;34m(\u001b[0m\u001b[0mtimeout\u001b[0m\u001b[0;34m=\u001b[0m\u001b[0mself\u001b[0m\u001b[0;34m.\u001b[0m\u001b[0mtimeout\u001b[0m\u001b[0;34m)\u001b[0m\u001b[0;34m)\u001b[0m\u001b[0;34m\u001b[0m\u001b[0m\n\u001b[0m\u001b[1;32m    683\u001b[0m                 \u001b[0;32melse\u001b[0m\u001b[0;34m:\u001b[0m\u001b[0;34m\u001b[0m\u001b[0m\n",
      "\u001b[0;32m/Library/Frameworks/Python.framework/Versions/3.6/lib/python3.6/multiprocessing/pool.py\u001b[0m in \u001b[0;36mget\u001b[0;34m(self, timeout)\u001b[0m\n\u001b[1;32m    643\u001b[0m         \u001b[0;32melse\u001b[0m\u001b[0;34m:\u001b[0m\u001b[0;34m\u001b[0m\u001b[0m\n\u001b[0;32m--> 644\u001b[0;31m             \u001b[0;32mraise\u001b[0m \u001b[0mself\u001b[0m\u001b[0;34m.\u001b[0m\u001b[0m_value\u001b[0m\u001b[0;34m\u001b[0m\u001b[0m\n\u001b[0m\u001b[1;32m    645\u001b[0m \u001b[0;34m\u001b[0m\u001b[0m\n",
      "\u001b[0;31mTransportableException\u001b[0m: TransportableException\n___________________________________________________________________________\nValueError                                         Sun Jun 17 17:15:07 2018\nPID: 29913Python 3.6.4: /Library/Frameworks/Python.framework/Versions/3.6/bin/python3.6\n...........................................................................\n/Library/Frameworks/Python.framework/Versions/3.6/lib/python3.6/site-packages/sklearn/externals/joblib/parallel.py in __call__(self=<sklearn.externals.joblib.parallel.BatchedCalls object>)\n    126     def __init__(self, iterator_slice):\n    127         self.items = list(iterator_slice)\n    128         self._size = len(self.items)\n    129 \n    130     def __call__(self):\n--> 131         return [func(*args, **kwargs) for func, args, kwargs in self.items]\n        self.items = [(<function _fit_and_score>, (Pipeline(steps=[('tfidf', TfidfVectorizer(analyz...ior=None, fit_prior=True),\n          n_jobs=1))]), ['the bank of england said it forecast a shortage ...an inflow of some   mln stg the bank added reuter', 'the bank of france said it invited offers of fir... money today was quoted at             pct reuter', 'the u s lt amoco petroleum corp has reported an ...area this year but gave no further details reuter', 'technology transfer problems have delayed the fi...gh the sites have yet to be chosen he said reuter', 'keiaisha co ltd of tokyo is issuing   mln swiss ... issue is guaranteed by the kyowa bank ltd reuter', '', 'national westminster bank plc said it has cut it...n the pound has continued to gain strongly reuter', 'semi annual dividend   cts pay may   record apri... its initial public offering on november   reuter', 'standard pacific lp said it has acquired substan...rd pacific against undisclosed liabilities reuter', 'the treasury department said it would temporaril...lled organizations for repair or servicing reuter', 'the special prosecutor in the iran arms scandal ...ding current and former government officials more', 'an existing new york stock exchange nyse rule mi...on the london exchange market sources said reuter', 'usair group inc said piedmont aviation inc has a...acquired four mln shares or   pct of usair reuter', 'senior u s arms control officials said they were...act but details would be tough to work out reuter', 'estimated oil and gas drilling completions in th... oil wells     gas wells and     dry holes reuter', 'new credit advanced by finance houses retailers ... than in the previous three months it said reuter', 'a strike by brazil     seafarers who want pay ri...s marine union president edson areias said reuter', 'nec corp nec informational systems inc said it i...y will sell for less than     dlrs it said reuter', 'the   nations of the organisation for economic c...t less in domestic currency in   than in   reuter', 'bundesbank president karl otto poehl told a clos...rong bargain hunting at current low levels reuter', ...], 0        0.0\n1        0.0\n2        0.0\n3        ...7    0.0\nName: tea, Length: 14668, dtype: float64, make_scorer(f1_score, pos_label=None, average=samples), array([ 4889,  4890,  4891, ..., 14665, 14666, 14667]), array([   0,    1,    2, ..., 4887, 4888, 6420]), 1, {}), {'error_score': 'raise', 'fit_params': {}, 'return_n_test_samples': True, 'return_parameters': True, 'return_times': True, 'return_train_score': True})]\n    132 \n    133     def __len__(self):\n    134         return self._size\n    135 \n\n...........................................................................\n/Library/Frameworks/Python.framework/Versions/3.6/lib/python3.6/site-packages/sklearn/externals/joblib/parallel.py in <listcomp>(.0=<list_iterator object>)\n    126     def __init__(self, iterator_slice):\n    127         self.items = list(iterator_slice)\n    128         self._size = len(self.items)\n    129 \n    130     def __call__(self):\n--> 131         return [func(*args, **kwargs) for func, args, kwargs in self.items]\n        func = <function _fit_and_score>\n        args = (Pipeline(steps=[('tfidf', TfidfVectorizer(analyz...ior=None, fit_prior=True),\n          n_jobs=1))]), ['the bank of england said it forecast a shortage ...an inflow of some   mln stg the bank added reuter', 'the bank of france said it invited offers of fir... money today was quoted at             pct reuter', 'the u s lt amoco petroleum corp has reported an ...area this year but gave no further details reuter', 'technology transfer problems have delayed the fi...gh the sites have yet to be chosen he said reuter', 'keiaisha co ltd of tokyo is issuing   mln swiss ... issue is guaranteed by the kyowa bank ltd reuter', '', 'national westminster bank plc said it has cut it...n the pound has continued to gain strongly reuter', 'semi annual dividend   cts pay may   record apri... its initial public offering on november   reuter', 'standard pacific lp said it has acquired substan...rd pacific against undisclosed liabilities reuter', 'the treasury department said it would temporaril...lled organizations for repair or servicing reuter', 'the special prosecutor in the iran arms scandal ...ding current and former government officials more', 'an existing new york stock exchange nyse rule mi...on the london exchange market sources said reuter', 'usair group inc said piedmont aviation inc has a...acquired four mln shares or   pct of usair reuter', 'senior u s arms control officials said they were...act but details would be tough to work out reuter', 'estimated oil and gas drilling completions in th... oil wells     gas wells and     dry holes reuter', 'new credit advanced by finance houses retailers ... than in the previous three months it said reuter', 'a strike by brazil     seafarers who want pay ri...s marine union president edson areias said reuter', 'nec corp nec informational systems inc said it i...y will sell for less than     dlrs it said reuter', 'the   nations of the organisation for economic c...t less in domestic currency in   than in   reuter', 'bundesbank president karl otto poehl told a clos...rong bargain hunting at current low levels reuter', ...], 0        0.0\n1        0.0\n2        0.0\n3        ...7    0.0\nName: tea, Length: 14668, dtype: float64, make_scorer(f1_score, pos_label=None, average=samples), array([ 4889,  4890,  4891, ..., 14665, 14666, 14667]), array([   0,    1,    2, ..., 4887, 4888, 6420]), 1, {})\n        kwargs = {'error_score': 'raise', 'fit_params': {}, 'return_n_test_samples': True, 'return_parameters': True, 'return_times': True, 'return_train_score': True}\n    132 \n    133     def __len__(self):\n    134         return self._size\n    135 \n\n...........................................................................\n/Library/Frameworks/Python.framework/Versions/3.6/lib/python3.6/site-packages/sklearn/model_selection/_validation.py in _fit_and_score(estimator=Pipeline(steps=[('tfidf', TfidfVectorizer(analyz...ior=None, fit_prior=True),\n          n_jobs=1))]), X=['the bank of england said it forecast a shortage ...an inflow of some   mln stg the bank added reuter', 'the bank of france said it invited offers of fir... money today was quoted at             pct reuter', 'the u s lt amoco petroleum corp has reported an ...area this year but gave no further details reuter', 'technology transfer problems have delayed the fi...gh the sites have yet to be chosen he said reuter', 'keiaisha co ltd of tokyo is issuing   mln swiss ... issue is guaranteed by the kyowa bank ltd reuter', '', 'national westminster bank plc said it has cut it...n the pound has continued to gain strongly reuter', 'semi annual dividend   cts pay may   record apri... its initial public offering on november   reuter', 'standard pacific lp said it has acquired substan...rd pacific against undisclosed liabilities reuter', 'the treasury department said it would temporaril...lled organizations for repair or servicing reuter', 'the special prosecutor in the iran arms scandal ...ding current and former government officials more', 'an existing new york stock exchange nyse rule mi...on the london exchange market sources said reuter', 'usair group inc said piedmont aviation inc has a...acquired four mln shares or   pct of usair reuter', 'senior u s arms control officials said they were...act but details would be tough to work out reuter', 'estimated oil and gas drilling completions in th... oil wells     gas wells and     dry holes reuter', 'new credit advanced by finance houses retailers ... than in the previous three months it said reuter', 'a strike by brazil     seafarers who want pay ri...s marine union president edson areias said reuter', 'nec corp nec informational systems inc said it i...y will sell for less than     dlrs it said reuter', 'the   nations of the organisation for economic c...t less in domestic currency in   than in   reuter', 'bundesbank president karl otto poehl told a clos...rong bargain hunting at current low levels reuter', ...], y=0        0.0\n1        0.0\n2        0.0\n3        ...7    0.0\nName: tea, Length: 14668, dtype: float64, scorer=make_scorer(f1_score, pos_label=None, average=samples), train=array([ 4889,  4890,  4891, ..., 14665, 14666, 14667]), test=array([   0,    1,    2, ..., 4887, 4888, 6420]), verbose=1, parameters={}, fit_params={}, return_train_score=True, return_parameters=True, return_n_test_samples=True, return_times=True, error_score='raise')\n    255                              \" numeric value. (Hint: if using 'raise', please\"\n    256                              \" make sure that it has been spelled correctly.)\")\n    257 \n    258     else:\n    259         fit_time = time.time() - start_time\n--> 260         test_score = _score(estimator, X_test, y_test, scorer)\n        test_score = undefined\n        estimator = Pipeline(steps=[('tfidf', TfidfVectorizer(analyz...ior=None, fit_prior=True),\n          n_jobs=1))])\n        X_test = ['the bank of england said it forecast a shortage ...an inflow of some   mln stg the bank added reuter', 'the bank of france said it invited offers of fir... money today was quoted at             pct reuter', 'the u s lt amoco petroleum corp has reported an ...area this year but gave no further details reuter', 'technology transfer problems have delayed the fi...gh the sites have yet to be chosen he said reuter', 'keiaisha co ltd of tokyo is issuing   mln swiss ... issue is guaranteed by the kyowa bank ltd reuter', '', 'national westminster bank plc said it has cut it...n the pound has continued to gain strongly reuter', 'semi annual dividend   cts pay may   record apri... its initial public offering on november   reuter', 'standard pacific lp said it has acquired substan...rd pacific against undisclosed liabilities reuter', 'the treasury department said it would temporaril...lled organizations for repair or servicing reuter', 'the special prosecutor in the iran arms scandal ...ding current and former government officials more', 'an existing new york stock exchange nyse rule mi...on the london exchange market sources said reuter', 'usair group inc said piedmont aviation inc has a...acquired four mln shares or   pct of usair reuter', 'senior u s arms control officials said they were...act but details would be tough to work out reuter', 'estimated oil and gas drilling completions in th... oil wells     gas wells and     dry holes reuter', 'new credit advanced by finance houses retailers ... than in the previous three months it said reuter', 'a strike by brazil     seafarers who want pay ri...s marine union president edson areias said reuter', 'nec corp nec informational systems inc said it i...y will sell for less than     dlrs it said reuter', 'the   nations of the organisation for economic c...t less in domestic currency in   than in   reuter', 'bundesbank president karl otto poehl told a clos...rong bargain hunting at current low levels reuter', ...]\n        y_test = 0       0.0\n1       0.0\n2       0.0\n3       0.0\n...53    1.0\nName: tea, Length: 4890, dtype: float64\n        scorer = make_scorer(f1_score, pos_label=None, average=samples)\n    261         score_time = time.time() - start_time - fit_time\n    262         if return_train_score:\n    263             train_score = _score(estimator, X_train, y_train, scorer)\n    264 \n\n...........................................................................\n/Library/Frameworks/Python.framework/Versions/3.6/lib/python3.6/site-packages/sklearn/model_selection/_validation.py in _score(estimator=Pipeline(steps=[('tfidf', TfidfVectorizer(analyz...ior=None, fit_prior=True),\n          n_jobs=1))]), X_test=['the bank of england said it forecast a shortage ...an inflow of some   mln stg the bank added reuter', 'the bank of france said it invited offers of fir... money today was quoted at             pct reuter', 'the u s lt amoco petroleum corp has reported an ...area this year but gave no further details reuter', 'technology transfer problems have delayed the fi...gh the sites have yet to be chosen he said reuter', 'keiaisha co ltd of tokyo is issuing   mln swiss ... issue is guaranteed by the kyowa bank ltd reuter', '', 'national westminster bank plc said it has cut it...n the pound has continued to gain strongly reuter', 'semi annual dividend   cts pay may   record apri... its initial public offering on november   reuter', 'standard pacific lp said it has acquired substan...rd pacific against undisclosed liabilities reuter', 'the treasury department said it would temporaril...lled organizations for repair or servicing reuter', 'the special prosecutor in the iran arms scandal ...ding current and former government officials more', 'an existing new york stock exchange nyse rule mi...on the london exchange market sources said reuter', 'usair group inc said piedmont aviation inc has a...acquired four mln shares or   pct of usair reuter', 'senior u s arms control officials said they were...act but details would be tough to work out reuter', 'estimated oil and gas drilling completions in th... oil wells     gas wells and     dry holes reuter', 'new credit advanced by finance houses retailers ... than in the previous three months it said reuter', 'a strike by brazil     seafarers who want pay ri...s marine union president edson areias said reuter', 'nec corp nec informational systems inc said it i...y will sell for less than     dlrs it said reuter', 'the   nations of the organisation for economic c...t less in domestic currency in   than in   reuter', 'bundesbank president karl otto poehl told a clos...rong bargain hunting at current low levels reuter', ...], y_test=0       0.0\n1       0.0\n2       0.0\n3       0.0\n...53    1.0\nName: tea, Length: 4890, dtype: float64, scorer=make_scorer(f1_score, pos_label=None, average=samples))\n    283 def _score(estimator, X_test, y_test, scorer):\n    284     \"\"\"Compute the score of an estimator on a given test set.\"\"\"\n    285     if y_test is None:\n    286         score = scorer(estimator, X_test)\n    287     else:\n--> 288         score = scorer(estimator, X_test, y_test)\n        score = undefined\n        scorer = make_scorer(f1_score, pos_label=None, average=samples)\n        estimator = Pipeline(steps=[('tfidf', TfidfVectorizer(analyz...ior=None, fit_prior=True),\n          n_jobs=1))])\n        X_test = ['the bank of england said it forecast a shortage ...an inflow of some   mln stg the bank added reuter', 'the bank of france said it invited offers of fir... money today was quoted at             pct reuter', 'the u s lt amoco petroleum corp has reported an ...area this year but gave no further details reuter', 'technology transfer problems have delayed the fi...gh the sites have yet to be chosen he said reuter', 'keiaisha co ltd of tokyo is issuing   mln swiss ... issue is guaranteed by the kyowa bank ltd reuter', '', 'national westminster bank plc said it has cut it...n the pound has continued to gain strongly reuter', 'semi annual dividend   cts pay may   record apri... its initial public offering on november   reuter', 'standard pacific lp said it has acquired substan...rd pacific against undisclosed liabilities reuter', 'the treasury department said it would temporaril...lled organizations for repair or servicing reuter', 'the special prosecutor in the iran arms scandal ...ding current and former government officials more', 'an existing new york stock exchange nyse rule mi...on the london exchange market sources said reuter', 'usair group inc said piedmont aviation inc has a...acquired four mln shares or   pct of usair reuter', 'senior u s arms control officials said they were...act but details would be tough to work out reuter', 'estimated oil and gas drilling completions in th... oil wells     gas wells and     dry holes reuter', 'new credit advanced by finance houses retailers ... than in the previous three months it said reuter', 'a strike by brazil     seafarers who want pay ri...s marine union president edson areias said reuter', 'nec corp nec informational systems inc said it i...y will sell for less than     dlrs it said reuter', 'the   nations of the organisation for economic c...t less in domestic currency in   than in   reuter', 'bundesbank president karl otto poehl told a clos...rong bargain hunting at current low levels reuter', ...]\n        y_test = 0       0.0\n1       0.0\n2       0.0\n3       0.0\n...53    1.0\nName: tea, Length: 4890, dtype: float64\n    289     if hasattr(score, 'item'):\n    290         try:\n    291             # e.g. unwrap memmapped scalars\n    292             score = score.item()\n\n...........................................................................\n/Library/Frameworks/Python.framework/Versions/3.6/lib/python3.6/site-packages/sklearn/metrics/scorer.py in __call__(self=make_scorer(f1_score, pos_label=None, average=samples), estimator=Pipeline(steps=[('tfidf', TfidfVectorizer(analyz...ior=None, fit_prior=True),\n          n_jobs=1))]), X=['the bank of england said it forecast a shortage ...an inflow of some   mln stg the bank added reuter', 'the bank of france said it invited offers of fir... money today was quoted at             pct reuter', 'the u s lt amoco petroleum corp has reported an ...area this year but gave no further details reuter', 'technology transfer problems have delayed the fi...gh the sites have yet to be chosen he said reuter', 'keiaisha co ltd of tokyo is issuing   mln swiss ... issue is guaranteed by the kyowa bank ltd reuter', '', 'national westminster bank plc said it has cut it...n the pound has continued to gain strongly reuter', 'semi annual dividend   cts pay may   record apri... its initial public offering on november   reuter', 'standard pacific lp said it has acquired substan...rd pacific against undisclosed liabilities reuter', 'the treasury department said it would temporaril...lled organizations for repair or servicing reuter', 'the special prosecutor in the iran arms scandal ...ding current and former government officials more', 'an existing new york stock exchange nyse rule mi...on the london exchange market sources said reuter', 'usair group inc said piedmont aviation inc has a...acquired four mln shares or   pct of usair reuter', 'senior u s arms control officials said they were...act but details would be tough to work out reuter', 'estimated oil and gas drilling completions in th... oil wells     gas wells and     dry holes reuter', 'new credit advanced by finance houses retailers ... than in the previous three months it said reuter', 'a strike by brazil     seafarers who want pay ri...s marine union president edson areias said reuter', 'nec corp nec informational systems inc said it i...y will sell for less than     dlrs it said reuter', 'the   nations of the organisation for economic c...t less in domestic currency in   than in   reuter', 'bundesbank president karl otto poehl told a clos...rong bargain hunting at current low levels reuter', ...], y_true=0       0.0\n1       0.0\n2       0.0\n3       0.0\n...53    1.0\nName: tea, Length: 4890, dtype: float64, sample_weight=None)\n     93             return self._sign * self._score_func(y_true, y_pred,\n     94                                                  sample_weight=sample_weight,\n     95                                                  **self._kwargs)\n     96         else:\n     97             return self._sign * self._score_func(y_true, y_pred,\n---> 98                                                  **self._kwargs)\n        self._kwargs = {'average': 'samples', 'pos_label': None}\n     99 \n    100 \n    101 class _ProbaScorer(_BaseScorer):\n    102     def __call__(self, clf, X, y, sample_weight=None):\n\n...........................................................................\n/Library/Frameworks/Python.framework/Versions/3.6/lib/python3.6/site-packages/sklearn/metrics/classification.py in f1_score(y_true=0       0.0\n1       0.0\n2       0.0\n3       0.0\n...53    1.0\nName: tea, Length: 4890, dtype: float64, y_pred=array([0., 0., 0., ..., 0., 0., 0.]), labels=None, pos_label=None, average='samples', sample_weight=None)\n    687 \n    688 \n    689     \"\"\"\n    690     return fbeta_score(y_true, y_pred, 1, labels=labels,\n    691                        pos_label=pos_label, average=average,\n--> 692                        sample_weight=sample_weight)\n        sample_weight = None\n    693 \n    694 \n    695 def fbeta_score(y_true, y_pred, beta, labels=None, pos_label=1,\n    696                 average='binary', sample_weight=None):\n\n...........................................................................\n/Library/Frameworks/Python.framework/Versions/3.6/lib/python3.6/site-packages/sklearn/metrics/classification.py in fbeta_score(y_true=0       0.0\n1       0.0\n2       0.0\n3       0.0\n...53    1.0\nName: tea, Length: 4890, dtype: float64, y_pred=array([0., 0., 0., ..., 0., 0., 0.]), beta=1, labels=None, pos_label=None, average='samples', sample_weight=None)\n    801                                                  beta=beta,\n    802                                                  labels=labels,\n    803                                                  pos_label=pos_label,\n    804                                                  average=average,\n    805                                                  warn_for=('f-score',),\n--> 806                                                  sample_weight=sample_weight)\n        sample_weight = None\n    807     return f\n    808 \n    809 \n    810 def _prf_divide(numerator, denominator, metric, modifier, average, warn_for):\n\n...........................................................................\n/Library/Frameworks/Python.framework/Versions/3.6/lib/python3.6/site-packages/sklearn/metrics/classification.py in precision_recall_fscore_support(y_true=array([0., 0., 0., ..., 0., 0., 1.]), y_pred=array([0., 0., 0., ..., 0., 0., 0.]), beta=1, labels=array([0., 1.]), pos_label=None, average='samples', warn_for=('f-score',), sample_weight=None)\n   1057                                  sample_weight=sample_weight)\n   1058         true_sum = count_nonzero(y_true, axis=sum_axis,\n   1059                                  sample_weight=sample_weight)\n   1060 \n   1061     elif average == 'samples':\n-> 1062         raise ValueError(\"Sample-based precision, recall, fscore is \"\n   1063                          \"not meaningful outside multilabel \"\n   1064                          \"classification. See the accuracy_score instead.\")\n   1065     else:\n   1066         le = LabelEncoder()\n\nValueError: Sample-based precision, recall, fscore is not meaningful outside multilabel classification. See the accuracy_score instead.\n___________________________________________________________________________",
      "\nDuring handling of the above exception, another exception occurred:\n",
      "\u001b[0;31mJoblibValueError\u001b[0m                          Traceback (most recent call last)",
      "\u001b[0;32m<ipython-input-22-d181d3c97f58>\u001b[0m in \u001b[0;36m<module>\u001b[0;34m()\u001b[0m\n\u001b[1;32m     17\u001b[0m \u001b[0mprint\u001b[0m\u001b[0;34m(\u001b[0m\u001b[0mparameters\u001b[0m\u001b[0;34m)\u001b[0m\u001b[0;34m\u001b[0m\u001b[0m\n\u001b[1;32m     18\u001b[0m \u001b[0mstart\u001b[0m \u001b[0;34m=\u001b[0m \u001b[0mtime\u001b[0m\u001b[0;34m(\u001b[0m\u001b[0;34m)\u001b[0m\u001b[0;34m\u001b[0m\u001b[0m\n\u001b[0;32m---> 19\u001b[0;31m \u001b[0mgrid_search\u001b[0m\u001b[0;34m.\u001b[0m\u001b[0mfit\u001b[0m\u001b[0;34m(\u001b[0m\u001b[0mX_train\u001b[0m\u001b[0;34m.\u001b[0m\u001b[0mbody\u001b[0m\u001b[0;34m.\u001b[0m\u001b[0mtolist\u001b[0m\u001b[0;34m(\u001b[0m\u001b[0;34m)\u001b[0m\u001b[0;34m,\u001b[0m \u001b[0mX_train\u001b[0m\u001b[0;34m[\u001b[0m\u001b[0;34m'tea'\u001b[0m\u001b[0;34m]\u001b[0m\u001b[0;34m)\u001b[0m\u001b[0;34m\u001b[0m\u001b[0m\n\u001b[0m\u001b[1;32m     20\u001b[0m \u001b[0mprint\u001b[0m\u001b[0;34m(\u001b[0m\u001b[0;34m\"done in {:0.3f}s\"\u001b[0m\u001b[0;34m.\u001b[0m\u001b[0mformat\u001b[0m\u001b[0;34m(\u001b[0m\u001b[0mtime\u001b[0m\u001b[0;34m(\u001b[0m\u001b[0;34m)\u001b[0m \u001b[0;34m-\u001b[0m \u001b[0mstart\u001b[0m\u001b[0;34m)\u001b[0m\u001b[0;34m)\u001b[0m\u001b[0;34m\u001b[0m\u001b[0m\n\u001b[1;32m     21\u001b[0m \u001b[0mprint\u001b[0m\u001b[0;34m(\u001b[0m\u001b[0;34m)\u001b[0m\u001b[0;34m\u001b[0m\u001b[0m\n",
      "\u001b[0;32m/Library/Frameworks/Python.framework/Versions/3.6/lib/python3.6/site-packages/sklearn/model_selection/_search.py\u001b[0m in \u001b[0;36mfit\u001b[0;34m(self, X, y, groups)\u001b[0m\n\u001b[1;32m    943\u001b[0m             \u001b[0mtrain\u001b[0m\u001b[0;34m/\u001b[0m\u001b[0mtest\u001b[0m \u001b[0mset\u001b[0m\u001b[0;34m.\u001b[0m\u001b[0;34m\u001b[0m\u001b[0m\n\u001b[1;32m    944\u001b[0m         \"\"\"\n\u001b[0;32m--> 945\u001b[0;31m         \u001b[0;32mreturn\u001b[0m \u001b[0mself\u001b[0m\u001b[0;34m.\u001b[0m\u001b[0m_fit\u001b[0m\u001b[0;34m(\u001b[0m\u001b[0mX\u001b[0m\u001b[0;34m,\u001b[0m \u001b[0my\u001b[0m\u001b[0;34m,\u001b[0m \u001b[0mgroups\u001b[0m\u001b[0;34m,\u001b[0m \u001b[0mParameterGrid\u001b[0m\u001b[0;34m(\u001b[0m\u001b[0mself\u001b[0m\u001b[0;34m.\u001b[0m\u001b[0mparam_grid\u001b[0m\u001b[0;34m)\u001b[0m\u001b[0;34m)\u001b[0m\u001b[0;34m\u001b[0m\u001b[0m\n\u001b[0m\u001b[1;32m    946\u001b[0m \u001b[0;34m\u001b[0m\u001b[0m\n\u001b[1;32m    947\u001b[0m \u001b[0;34m\u001b[0m\u001b[0m\n",
      "\u001b[0;32m/Library/Frameworks/Python.framework/Versions/3.6/lib/python3.6/site-packages/sklearn/model_selection/_search.py\u001b[0m in \u001b[0;36m_fit\u001b[0;34m(self, X, y, groups, parameter_iterable)\u001b[0m\n\u001b[1;32m    562\u001b[0m                                   \u001b[0mreturn_times\u001b[0m\u001b[0;34m=\u001b[0m\u001b[0;32mTrue\u001b[0m\u001b[0;34m,\u001b[0m \u001b[0mreturn_parameters\u001b[0m\u001b[0;34m=\u001b[0m\u001b[0;32mTrue\u001b[0m\u001b[0;34m,\u001b[0m\u001b[0;34m\u001b[0m\u001b[0m\n\u001b[1;32m    563\u001b[0m                                   error_score=self.error_score)\n\u001b[0;32m--> 564\u001b[0;31m           \u001b[0;32mfor\u001b[0m \u001b[0mparameters\u001b[0m \u001b[0;32min\u001b[0m \u001b[0mparameter_iterable\u001b[0m\u001b[0;34m\u001b[0m\u001b[0m\n\u001b[0m\u001b[1;32m    565\u001b[0m           for train, test in cv_iter)\n\u001b[1;32m    566\u001b[0m \u001b[0;34m\u001b[0m\u001b[0m\n",
      "\u001b[0;32m/Library/Frameworks/Python.framework/Versions/3.6/lib/python3.6/site-packages/sklearn/externals/joblib/parallel.py\u001b[0m in \u001b[0;36m__call__\u001b[0;34m(self, iterable)\u001b[0m\n\u001b[1;32m    766\u001b[0m                 \u001b[0;31m# consumption.\u001b[0m\u001b[0;34m\u001b[0m\u001b[0;34m\u001b[0m\u001b[0m\n\u001b[1;32m    767\u001b[0m                 \u001b[0mself\u001b[0m\u001b[0;34m.\u001b[0m\u001b[0m_iterating\u001b[0m \u001b[0;34m=\u001b[0m \u001b[0;32mFalse\u001b[0m\u001b[0;34m\u001b[0m\u001b[0m\n\u001b[0;32m--> 768\u001b[0;31m             \u001b[0mself\u001b[0m\u001b[0;34m.\u001b[0m\u001b[0mretrieve\u001b[0m\u001b[0;34m(\u001b[0m\u001b[0;34m)\u001b[0m\u001b[0;34m\u001b[0m\u001b[0m\n\u001b[0m\u001b[1;32m    769\u001b[0m             \u001b[0;31m# Make sure that we get a last message telling us we are done\u001b[0m\u001b[0;34m\u001b[0m\u001b[0;34m\u001b[0m\u001b[0m\n\u001b[1;32m    770\u001b[0m             \u001b[0melapsed_time\u001b[0m \u001b[0;34m=\u001b[0m \u001b[0mtime\u001b[0m\u001b[0;34m.\u001b[0m\u001b[0mtime\u001b[0m\u001b[0;34m(\u001b[0m\u001b[0;34m)\u001b[0m \u001b[0;34m-\u001b[0m \u001b[0mself\u001b[0m\u001b[0;34m.\u001b[0m\u001b[0m_start_time\u001b[0m\u001b[0;34m\u001b[0m\u001b[0m\n",
      "\u001b[0;32m/Library/Frameworks/Python.framework/Versions/3.6/lib/python3.6/site-packages/sklearn/externals/joblib/parallel.py\u001b[0m in \u001b[0;36mretrieve\u001b[0;34m(self)\u001b[0m\n\u001b[1;32m    717\u001b[0m                     \u001b[0mensure_ready\u001b[0m \u001b[0;34m=\u001b[0m \u001b[0mself\u001b[0m\u001b[0;34m.\u001b[0m\u001b[0m_managed_backend\u001b[0m\u001b[0;34m\u001b[0m\u001b[0m\n\u001b[1;32m    718\u001b[0m                     \u001b[0mbackend\u001b[0m\u001b[0;34m.\u001b[0m\u001b[0mabort_everything\u001b[0m\u001b[0;34m(\u001b[0m\u001b[0mensure_ready\u001b[0m\u001b[0;34m=\u001b[0m\u001b[0mensure_ready\u001b[0m\u001b[0;34m)\u001b[0m\u001b[0;34m\u001b[0m\u001b[0m\n\u001b[0;32m--> 719\u001b[0;31m                 \u001b[0;32mraise\u001b[0m \u001b[0mexception\u001b[0m\u001b[0;34m\u001b[0m\u001b[0m\n\u001b[0m\u001b[1;32m    720\u001b[0m \u001b[0;34m\u001b[0m\u001b[0m\n\u001b[1;32m    721\u001b[0m     \u001b[0;32mdef\u001b[0m \u001b[0m__call__\u001b[0m\u001b[0;34m(\u001b[0m\u001b[0mself\u001b[0m\u001b[0;34m,\u001b[0m \u001b[0miterable\u001b[0m\u001b[0;34m)\u001b[0m\u001b[0;34m:\u001b[0m\u001b[0;34m\u001b[0m\u001b[0m\n",
      "\u001b[0;31mJoblibValueError\u001b[0m: JoblibValueError\n___________________________________________________________________________\nMultiprocessing exception:\n...........................................................................\n/Library/Frameworks/Python.framework/Versions/3.6/lib/python3.6/runpy.py in _run_module_as_main(mod_name='ipykernel_launcher', alter_argv=1)\n    188         sys.exit(msg)\n    189     main_globals = sys.modules[\"__main__\"].__dict__\n    190     if alter_argv:\n    191         sys.argv[0] = mod_spec.origin\n    192     return _run_code(code, main_globals, None,\n--> 193                      \"__main__\", mod_spec)\n        mod_spec = ModuleSpec(name='ipykernel_launcher', loader=<_f...b/python3.6/site-packages/ipykernel_launcher.py')\n    194 \n    195 def run_module(mod_name, init_globals=None,\n    196                run_name=None, alter_sys=False):\n    197     \"\"\"Execute a module's code without importing it\n\n...........................................................................\n/Library/Frameworks/Python.framework/Versions/3.6/lib/python3.6/runpy.py in _run_code(code=<code object <module> at 0x1039d18a0, file \"/Lib...3.6/site-packages/ipykernel_launcher.py\", line 5>, run_globals={'__annotations__': {}, '__builtins__': <module 'builtins' (built-in)>, '__cached__': '/Library/Frameworks/Python.framework/Versions/3....ges/__pycache__/ipykernel_launcher.cpython-36.pyc', '__doc__': 'Entry point for launching an IPython kernel.\\n\\nTh...orts until\\nafter removing the cwd from sys.path.\\n', '__file__': '/Library/Frameworks/Python.framework/Versions/3.6/lib/python3.6/site-packages/ipykernel_launcher.py', '__loader__': <_frozen_importlib_external.SourceFileLoader object>, '__name__': '__main__', '__package__': '', '__spec__': ModuleSpec(name='ipykernel_launcher', loader=<_f...b/python3.6/site-packages/ipykernel_launcher.py'), 'app': <module 'ipykernel.kernelapp' from '/Library/Fra.../python3.6/site-packages/ipykernel/kernelapp.py'>, ...}, init_globals=None, mod_name='__main__', mod_spec=ModuleSpec(name='ipykernel_launcher', loader=<_f...b/python3.6/site-packages/ipykernel_launcher.py'), pkg_name='', script_name=None)\n     80                        __cached__ = cached,\n     81                        __doc__ = None,\n     82                        __loader__ = loader,\n     83                        __package__ = pkg_name,\n     84                        __spec__ = mod_spec)\n---> 85     exec(code, run_globals)\n        code = <code object <module> at 0x1039d18a0, file \"/Lib...3.6/site-packages/ipykernel_launcher.py\", line 5>\n        run_globals = {'__annotations__': {}, '__builtins__': <module 'builtins' (built-in)>, '__cached__': '/Library/Frameworks/Python.framework/Versions/3....ges/__pycache__/ipykernel_launcher.cpython-36.pyc', '__doc__': 'Entry point for launching an IPython kernel.\\n\\nTh...orts until\\nafter removing the cwd from sys.path.\\n', '__file__': '/Library/Frameworks/Python.framework/Versions/3.6/lib/python3.6/site-packages/ipykernel_launcher.py', '__loader__': <_frozen_importlib_external.SourceFileLoader object>, '__name__': '__main__', '__package__': '', '__spec__': ModuleSpec(name='ipykernel_launcher', loader=<_f...b/python3.6/site-packages/ipykernel_launcher.py'), 'app': <module 'ipykernel.kernelapp' from '/Library/Fra.../python3.6/site-packages/ipykernel/kernelapp.py'>, ...}\n     86     return run_globals\n     87 \n     88 def _run_module_code(code, init_globals=None,\n     89                     mod_name=None, mod_spec=None,\n\n...........................................................................\n/Library/Frameworks/Python.framework/Versions/3.6/lib/python3.6/site-packages/ipykernel_launcher.py in <module>()\n     11     # This is added back by InteractiveShellApp.init_path()\n     12     if sys.path[0] == '':\n     13         del sys.path[0]\n     14 \n     15     from ipykernel import kernelapp as app\n---> 16     app.launch_new_instance()\n     17 \n     18 \n     19 \n     20 \n\n...........................................................................\n/Library/Frameworks/Python.framework/Versions/3.6/lib/python3.6/site-packages/traitlets/config/application.py in launch_instance(cls=<class 'ipykernel.kernelapp.IPKernelApp'>, argv=None, **kwargs={})\n    653 \n    654         If a global instance already exists, this reinitializes and starts it\n    655         \"\"\"\n    656         app = cls.instance(**kwargs)\n    657         app.initialize(argv)\n--> 658         app.start()\n        app.start = <bound method IPKernelApp.start of <ipykernel.kernelapp.IPKernelApp object>>\n    659 \n    660 #-----------------------------------------------------------------------------\n    661 # utility functions, for convenience\n    662 #-----------------------------------------------------------------------------\n\n...........................................................................\n/Library/Frameworks/Python.framework/Versions/3.6/lib/python3.6/site-packages/ipykernel/kernelapp.py in start(self=<ipykernel.kernelapp.IPKernelApp object>)\n    481         if self.poller is not None:\n    482             self.poller.start()\n    483         self.kernel.start()\n    484         self.io_loop = ioloop.IOLoop.current()\n    485         try:\n--> 486             self.io_loop.start()\n        self.io_loop.start = <bound method BaseAsyncIOLoop.start of <tornado.platform.asyncio.AsyncIOMainLoop object>>\n    487         except KeyboardInterrupt:\n    488             pass\n    489 \n    490 launch_new_instance = IPKernelApp.launch_instance\n\n...........................................................................\n/Library/Frameworks/Python.framework/Versions/3.6/lib/python3.6/site-packages/tornado/platform/asyncio.py in start(self=<tornado.platform.asyncio.AsyncIOMainLoop object>)\n    107         except (RuntimeError, AssertionError):\n    108             old_loop = None\n    109         try:\n    110             self._setup_logging()\n    111             asyncio.set_event_loop(self.asyncio_loop)\n--> 112             self.asyncio_loop.run_forever()\n        self.asyncio_loop.run_forever = <bound method BaseEventLoop.run_forever of <_Uni...EventLoop running=True closed=False debug=False>>\n    113         finally:\n    114             asyncio.set_event_loop(old_loop)\n    115 \n    116     def stop(self):\n\n...........................................................................\n/Library/Frameworks/Python.framework/Versions/3.6/lib/python3.6/asyncio/base_events.py in run_forever(self=<_UnixSelectorEventLoop running=True closed=False debug=False>)\n    416             sys.set_asyncgen_hooks(firstiter=self._asyncgen_firstiter_hook,\n    417                                    finalizer=self._asyncgen_finalizer_hook)\n    418         try:\n    419             events._set_running_loop(self)\n    420             while True:\n--> 421                 self._run_once()\n        self._run_once = <bound method BaseEventLoop._run_once of <_UnixS...EventLoop running=True closed=False debug=False>>\n    422                 if self._stopping:\n    423                     break\n    424         finally:\n    425             self._stopping = False\n\n...........................................................................\n/Library/Frameworks/Python.framework/Versions/3.6/lib/python3.6/asyncio/base_events.py in _run_once(self=<_UnixSelectorEventLoop running=True closed=False debug=False>)\n   1426                         logger.warning('Executing %s took %.3f seconds',\n   1427                                        _format_handle(handle), dt)\n   1428                 finally:\n   1429                     self._current_handle = None\n   1430             else:\n-> 1431                 handle._run()\n        handle._run = <bound method Handle._run of <Handle BaseAsyncIOLoop._handle_events(14, 1)>>\n   1432         handle = None  # Needed to break cycles when an exception occurs.\n   1433 \n   1434     def _set_coroutine_wrapper(self, enabled):\n   1435         try:\n\n...........................................................................\n/Library/Frameworks/Python.framework/Versions/3.6/lib/python3.6/asyncio/events.py in _run(self=<Handle BaseAsyncIOLoop._handle_events(14, 1)>)\n    140             self._callback = None\n    141             self._args = None\n    142 \n    143     def _run(self):\n    144         try:\n--> 145             self._callback(*self._args)\n        self._callback = <bound method BaseAsyncIOLoop._handle_events of <tornado.platform.asyncio.AsyncIOMainLoop object>>\n        self._args = (14, 1)\n    146         except Exception as exc:\n    147             cb = _format_callback_source(self._callback, self._args)\n    148             msg = 'Exception in callback {}'.format(cb)\n    149             context = {\n\n...........................................................................\n/Library/Frameworks/Python.framework/Versions/3.6/lib/python3.6/site-packages/tornado/platform/asyncio.py in _handle_events(self=<tornado.platform.asyncio.AsyncIOMainLoop object>, fd=14, events=1)\n     97             self.writers.remove(fd)\n     98         del self.handlers[fd]\n     99 \n    100     def _handle_events(self, fd, events):\n    101         fileobj, handler_func = self.handlers[fd]\n--> 102         handler_func(fileobj, events)\n        handler_func = <function wrap.<locals>.null_wrapper>\n        fileobj = <zmq.sugar.socket.Socket object>\n        events = 1\n    103 \n    104     def start(self):\n    105         try:\n    106             old_loop = asyncio.get_event_loop()\n\n...........................................................................\n/Library/Frameworks/Python.framework/Versions/3.6/lib/python3.6/site-packages/tornado/stack_context.py in null_wrapper(*args=(<zmq.sugar.socket.Socket object>, 1), **kwargs={})\n    271         # Fast path when there are no active contexts.\n    272         def null_wrapper(*args, **kwargs):\n    273             try:\n    274                 current_state = _state.contexts\n    275                 _state.contexts = cap_contexts[0]\n--> 276                 return fn(*args, **kwargs)\n        args = (<zmq.sugar.socket.Socket object>, 1)\n        kwargs = {}\n    277             finally:\n    278                 _state.contexts = current_state\n    279         null_wrapper._wrapped = True\n    280         return null_wrapper\n\n...........................................................................\n/Library/Frameworks/Python.framework/Versions/3.6/lib/python3.6/site-packages/zmq/eventloop/zmqstream.py in _handle_events(self=<zmq.eventloop.zmqstream.ZMQStream object>, fd=<zmq.sugar.socket.Socket object>, events=1)\n    445             return\n    446         zmq_events = self.socket.EVENTS\n    447         try:\n    448             # dispatch events:\n    449             if zmq_events & zmq.POLLIN and self.receiving():\n--> 450                 self._handle_recv()\n        self._handle_recv = <bound method ZMQStream._handle_recv of <zmq.eventloop.zmqstream.ZMQStream object>>\n    451                 if not self.socket:\n    452                     return\n    453             if zmq_events & zmq.POLLOUT and self.sending():\n    454                 self._handle_send()\n\n...........................................................................\n/Library/Frameworks/Python.framework/Versions/3.6/lib/python3.6/site-packages/zmq/eventloop/zmqstream.py in _handle_recv(self=<zmq.eventloop.zmqstream.ZMQStream object>)\n    475             else:\n    476                 raise\n    477         else:\n    478             if self._recv_callback:\n    479                 callback = self._recv_callback\n--> 480                 self._run_callback(callback, msg)\n        self._run_callback = <bound method ZMQStream._run_callback of <zmq.eventloop.zmqstream.ZMQStream object>>\n        callback = <function wrap.<locals>.null_wrapper>\n        msg = [<zmq.sugar.frame.Frame object>, <zmq.sugar.frame.Frame object>, <zmq.sugar.frame.Frame object>, <zmq.sugar.frame.Frame object>, <zmq.sugar.frame.Frame object>, <zmq.sugar.frame.Frame object>, <zmq.sugar.frame.Frame object>]\n    481         \n    482 \n    483     def _handle_send(self):\n    484         \"\"\"Handle a send event.\"\"\"\n\n...........................................................................\n/Library/Frameworks/Python.framework/Versions/3.6/lib/python3.6/site-packages/zmq/eventloop/zmqstream.py in _run_callback(self=<zmq.eventloop.zmqstream.ZMQStream object>, callback=<function wrap.<locals>.null_wrapper>, *args=([<zmq.sugar.frame.Frame object>, <zmq.sugar.frame.Frame object>, <zmq.sugar.frame.Frame object>, <zmq.sugar.frame.Frame object>, <zmq.sugar.frame.Frame object>, <zmq.sugar.frame.Frame object>, <zmq.sugar.frame.Frame object>],), **kwargs={})\n    427         close our socket.\"\"\"\n    428         try:\n    429             # Use a NullContext to ensure that all StackContexts are run\n    430             # inside our blanket exception handler rather than outside.\n    431             with stack_context.NullContext():\n--> 432                 callback(*args, **kwargs)\n        callback = <function wrap.<locals>.null_wrapper>\n        args = ([<zmq.sugar.frame.Frame object>, <zmq.sugar.frame.Frame object>, <zmq.sugar.frame.Frame object>, <zmq.sugar.frame.Frame object>, <zmq.sugar.frame.Frame object>, <zmq.sugar.frame.Frame object>, <zmq.sugar.frame.Frame object>],)\n        kwargs = {}\n    433         except:\n    434             gen_log.error(\"Uncaught exception in ZMQStream callback\",\n    435                           exc_info=True)\n    436             # Re-raise the exception so that IOLoop.handle_callback_exception\n\n...........................................................................\n/Library/Frameworks/Python.framework/Versions/3.6/lib/python3.6/site-packages/tornado/stack_context.py in null_wrapper(*args=([<zmq.sugar.frame.Frame object>, <zmq.sugar.frame.Frame object>, <zmq.sugar.frame.Frame object>, <zmq.sugar.frame.Frame object>, <zmq.sugar.frame.Frame object>, <zmq.sugar.frame.Frame object>, <zmq.sugar.frame.Frame object>],), **kwargs={})\n    271         # Fast path when there are no active contexts.\n    272         def null_wrapper(*args, **kwargs):\n    273             try:\n    274                 current_state = _state.contexts\n    275                 _state.contexts = cap_contexts[0]\n--> 276                 return fn(*args, **kwargs)\n        args = ([<zmq.sugar.frame.Frame object>, <zmq.sugar.frame.Frame object>, <zmq.sugar.frame.Frame object>, <zmq.sugar.frame.Frame object>, <zmq.sugar.frame.Frame object>, <zmq.sugar.frame.Frame object>, <zmq.sugar.frame.Frame object>],)\n        kwargs = {}\n    277             finally:\n    278                 _state.contexts = current_state\n    279         null_wrapper._wrapped = True\n    280         return null_wrapper\n\n...........................................................................\n/Library/Frameworks/Python.framework/Versions/3.6/lib/python3.6/site-packages/ipykernel/kernelbase.py in dispatcher(msg=[<zmq.sugar.frame.Frame object>, <zmq.sugar.frame.Frame object>, <zmq.sugar.frame.Frame object>, <zmq.sugar.frame.Frame object>, <zmq.sugar.frame.Frame object>, <zmq.sugar.frame.Frame object>, <zmq.sugar.frame.Frame object>])\n    278         if self.control_stream:\n    279             self.control_stream.on_recv(self.dispatch_control, copy=False)\n    280 \n    281         def make_dispatcher(stream):\n    282             def dispatcher(msg):\n--> 283                 return self.dispatch_shell(stream, msg)\n        msg = [<zmq.sugar.frame.Frame object>, <zmq.sugar.frame.Frame object>, <zmq.sugar.frame.Frame object>, <zmq.sugar.frame.Frame object>, <zmq.sugar.frame.Frame object>, <zmq.sugar.frame.Frame object>, <zmq.sugar.frame.Frame object>]\n    284             return dispatcher\n    285 \n    286         for s in self.shell_streams:\n    287             s.on_recv(make_dispatcher(s), copy=False)\n\n...........................................................................\n/Library/Frameworks/Python.framework/Versions/3.6/lib/python3.6/site-packages/ipykernel/kernelbase.py in dispatch_shell(self=<ipykernel.ipkernel.IPythonKernel object>, stream=<zmq.eventloop.zmqstream.ZMQStream object>, msg={'buffers': [], 'content': {'allow_stdin': True, 'code': \"NB_clf = Pipeline([\\n                ('tfidf', Tf....format(param_name, best_parameters[param_name]))\", 'silent': False, 'stop_on_error': True, 'store_history': True, 'user_expressions': {}}, 'header': {'date': datetime.datetime(2018, 6, 17, 15, 15, 4, 529402, tzinfo=tzutc()), 'msg_id': '2186e0f1d9e545f485622e20269b54b5', 'msg_type': 'execute_request', 'session': '11c7c058d60c43baa9e2aef54309e3e9', 'username': 'username', 'version': '5.2'}, 'metadata': {}, 'msg_id': '2186e0f1d9e545f485622e20269b54b5', 'msg_type': 'execute_request', 'parent_header': {}})\n    228             self.log.warn(\"Unknown message type: %r\", msg_type)\n    229         else:\n    230             self.log.debug(\"%s: %s\", msg_type, msg)\n    231             self.pre_handler_hook()\n    232             try:\n--> 233                 handler(stream, idents, msg)\n        handler = <bound method Kernel.execute_request of <ipykernel.ipkernel.IPythonKernel object>>\n        stream = <zmq.eventloop.zmqstream.ZMQStream object>\n        idents = [b'11c7c058d60c43baa9e2aef54309e3e9']\n        msg = {'buffers': [], 'content': {'allow_stdin': True, 'code': \"NB_clf = Pipeline([\\n                ('tfidf', Tf....format(param_name, best_parameters[param_name]))\", 'silent': False, 'stop_on_error': True, 'store_history': True, 'user_expressions': {}}, 'header': {'date': datetime.datetime(2018, 6, 17, 15, 15, 4, 529402, tzinfo=tzutc()), 'msg_id': '2186e0f1d9e545f485622e20269b54b5', 'msg_type': 'execute_request', 'session': '11c7c058d60c43baa9e2aef54309e3e9', 'username': 'username', 'version': '5.2'}, 'metadata': {}, 'msg_id': '2186e0f1d9e545f485622e20269b54b5', 'msg_type': 'execute_request', 'parent_header': {}}\n    234             except Exception:\n    235                 self.log.error(\"Exception in message handler:\", exc_info=True)\n    236             finally:\n    237                 self.post_handler_hook()\n\n...........................................................................\n/Library/Frameworks/Python.framework/Versions/3.6/lib/python3.6/site-packages/ipykernel/kernelbase.py in execute_request(self=<ipykernel.ipkernel.IPythonKernel object>, stream=<zmq.eventloop.zmqstream.ZMQStream object>, ident=[b'11c7c058d60c43baa9e2aef54309e3e9'], parent={'buffers': [], 'content': {'allow_stdin': True, 'code': \"NB_clf = Pipeline([\\n                ('tfidf', Tf....format(param_name, best_parameters[param_name]))\", 'silent': False, 'stop_on_error': True, 'store_history': True, 'user_expressions': {}}, 'header': {'date': datetime.datetime(2018, 6, 17, 15, 15, 4, 529402, tzinfo=tzutc()), 'msg_id': '2186e0f1d9e545f485622e20269b54b5', 'msg_type': 'execute_request', 'session': '11c7c058d60c43baa9e2aef54309e3e9', 'username': 'username', 'version': '5.2'}, 'metadata': {}, 'msg_id': '2186e0f1d9e545f485622e20269b54b5', 'msg_type': 'execute_request', 'parent_header': {}})\n    394         if not silent:\n    395             self.execution_count += 1\n    396             self._publish_execute_input(code, parent, self.execution_count)\n    397 \n    398         reply_content = self.do_execute(code, silent, store_history,\n--> 399                                         user_expressions, allow_stdin)\n        user_expressions = {}\n        allow_stdin = True\n    400 \n    401         # Flush output before sending the reply.\n    402         sys.stdout.flush()\n    403         sys.stderr.flush()\n\n...........................................................................\n/Library/Frameworks/Python.framework/Versions/3.6/lib/python3.6/site-packages/ipykernel/ipkernel.py in do_execute(self=<ipykernel.ipkernel.IPythonKernel object>, code=\"NB_clf = Pipeline([\\n                ('tfidf', Tf....format(param_name, best_parameters[param_name]))\", silent=False, store_history=True, user_expressions={}, allow_stdin=True)\n    203 \n    204         self._forward_input(allow_stdin)\n    205 \n    206         reply_content = {}\n    207         try:\n--> 208             res = shell.run_cell(code, store_history=store_history, silent=silent)\n        res = undefined\n        shell.run_cell = <bound method ZMQInteractiveShell.run_cell of <ipykernel.zmqshell.ZMQInteractiveShell object>>\n        code = \"NB_clf = Pipeline([\\n                ('tfidf', Tf....format(param_name, best_parameters[param_name]))\"\n        store_history = True\n        silent = False\n    209         finally:\n    210             self._restore_input()\n    211 \n    212         if res.error_before_exec is not None:\n\n...........................................................................\n/Library/Frameworks/Python.framework/Versions/3.6/lib/python3.6/site-packages/ipykernel/zmqshell.py in run_cell(self=<ipykernel.zmqshell.ZMQInteractiveShell object>, *args=(\"NB_clf = Pipeline([\\n                ('tfidf', Tf....format(param_name, best_parameters[param_name]))\",), **kwargs={'silent': False, 'store_history': True})\n    532             )\n    533         self.payload_manager.write_payload(payload)\n    534 \n    535     def run_cell(self, *args, **kwargs):\n    536         self._last_traceback = None\n--> 537         return super(ZMQInteractiveShell, self).run_cell(*args, **kwargs)\n        self.run_cell = <bound method ZMQInteractiveShell.run_cell of <ipykernel.zmqshell.ZMQInteractiveShell object>>\n        args = (\"NB_clf = Pipeline([\\n                ('tfidf', Tf....format(param_name, best_parameters[param_name]))\",)\n        kwargs = {'silent': False, 'store_history': True}\n    538 \n    539     def _showtraceback(self, etype, evalue, stb):\n    540         # try to preserve ordering of tracebacks and print statements\n    541         sys.stdout.flush()\n\n...........................................................................\n/Library/Frameworks/Python.framework/Versions/3.6/lib/python3.6/site-packages/IPython/core/interactiveshell.py in run_cell(self=<ipykernel.zmqshell.ZMQInteractiveShell object>, raw_cell=\"NB_clf = Pipeline([\\n                ('tfidf', Tf....format(param_name, best_parameters[param_name]))\", store_history=True, silent=False, shell_futures=True)\n   2723                 self.displayhook.exec_result = result\n   2724 \n   2725                 # Execute the user code\n   2726                 interactivity = \"none\" if silent else self.ast_node_interactivity\n   2727                 has_raised = self.run_ast_nodes(code_ast.body, cell_name,\n-> 2728                    interactivity=interactivity, compiler=compiler, result=result)\n        interactivity = 'last_expr'\n        compiler = <IPython.core.compilerop.CachingCompiler object>\n   2729                 \n   2730                 self.last_execution_succeeded = not has_raised\n   2731                 self.last_execution_result = result\n   2732 \n\n...........................................................................\n/Library/Frameworks/Python.framework/Versions/3.6/lib/python3.6/site-packages/IPython/core/interactiveshell.py in run_ast_nodes(self=<ipykernel.zmqshell.ZMQInteractiveShell object>, nodelist=[<_ast.Assign object>, <_ast.Assign object>, <_ast.Assign object>, <_ast.Expr object>, <_ast.Expr object>, <_ast.Expr object>, <_ast.Expr object>, <_ast.Assign object>, <_ast.Expr object>, <_ast.Expr object>, <_ast.Expr object>, <_ast.Expr object>, <_ast.Expr object>, <_ast.Assign object>, <_ast.For object>], cell_name='<ipython-input-22-d181d3c97f58>', interactivity='none', compiler=<IPython.core.compilerop.CachingCompiler object>, result=<ExecutionResult object at 11fa87be0, execution_..._before_exec=None error_in_exec=None result=None>)\n   2845 \n   2846         try:\n   2847             for i, node in enumerate(to_run_exec):\n   2848                 mod = ast.Module([node])\n   2849                 code = compiler(mod, cell_name, \"exec\")\n-> 2850                 if self.run_code(code, result):\n        self.run_code = <bound method InteractiveShell.run_code of <ipykernel.zmqshell.ZMQInteractiveShell object>>\n        code = <code object <module> at 0x1201568a0, file \"<ipython-input-22-d181d3c97f58>\", line 19>\n        result = <ExecutionResult object at 11fa87be0, execution_..._before_exec=None error_in_exec=None result=None>\n   2851                     return True\n   2852 \n   2853             for i, node in enumerate(to_run_interactive):\n   2854                 mod = ast.Interactive([node])\n\n...........................................................................\n/Library/Frameworks/Python.framework/Versions/3.6/lib/python3.6/site-packages/IPython/core/interactiveshell.py in run_code(self=<ipykernel.zmqshell.ZMQInteractiveShell object>, code_obj=<code object <module> at 0x1201568a0, file \"<ipython-input-22-d181d3c97f58>\", line 19>, result=<ExecutionResult object at 11fa87be0, execution_..._before_exec=None error_in_exec=None result=None>)\n   2905         outflag = True  # happens in more places, so it's easier as default\n   2906         try:\n   2907             try:\n   2908                 self.hooks.pre_run_code_hook()\n   2909                 #rprint('Running code', repr(code_obj)) # dbg\n-> 2910                 exec(code_obj, self.user_global_ns, self.user_ns)\n        code_obj = <code object <module> at 0x1201568a0, file \"<ipython-input-22-d181d3c97f58>\", line 19>\n        self.user_global_ns = {'CountVectorizer': <class 'sklearn.feature_extraction.text.CountVectorizer'>, 'GridSearchCV': <class 'sklearn.model_selection._search.GridSearchCV'>, 'In': ['', '# https://github.com/mihaibogdan10/json-reuters-...f.read()\\n        return(json.loads(file_content))', \"path = '/Users/twenzel/repos/topics2/json-data/'...lit('BC-')[-1]).apply(lambda x: x.split('  ')[0])\", '# analyse the category usage\\ndocs_df.head()', \"# Look at unique topics\\ntopic_path = '/Users/twe...d.read_csv(topic_path).acq.tolist()\\nprint(topics)\", '# Count frequency of topics used\\ncats_combo = li...ns.Counter(cats_combo)\\nprint(counter.most_common)', '# plot topic frequencies\\ncat_df = pd.DataFrame.f...p 15 topics- number of occurrences per category\")', '# from sklearn.preprocessing import MultiLabelBi...ltiLabelBinarizer().fit_transform(docs_df.topics)', '# label_matrix.flatten() # how to get column nam...or col in m.columns]\\n# m = df[[variable]].join(m)', 'label_count_df = docs_df.topic_length.value_coun..._df.topic_length==0].shape[0]/docs_df.shape[0])))', 'docs_df.head()', '# Create dummies for each label - binary matrix ...tr], axis=1, join_axes=[docs_df.index]).fillna(0)', \"lens = docs_df.body.str.len()\\n\\nprint('Number of ...        int(docs_df.body.str.len().max()))\\n     )\", \"'We also see a large number of documents w/o any...rmat(docs_df[docs_df.body.str.len()==0].shape[0])\", \"print('They are still allocated to training & te...s_df.body.str.len()==0].lewissplit.value_counts()\", \"print('If the body is missing, the title and unk...0][['title','unknown_processed','topics']].head()\", \"# 1 document is w/o body, title and unknown fiel...rocessed','title','body','topics','lewissplit' ]]\", \"# process text \\ndef clean_text(text):\\n    text =..._df['title'] + ' ' + docs_df['unknown_processed']\", \"docs_df[['newid','unknown_processed','title','body','topics','txt_combined','lewissplit' ]].tail()\", \"X_train = docs_df[(docs_df.lewissplit=='TRAIN') ...format(len(categories_with_enough_observations)))\", ...], 'LinearSVC': <class 'sklearn.svm.classes.LinearSVC'>, 'LogisticRegression': <class 'sklearn.linear_model.logistic.LogisticRegression'>, 'MultinomialNB': <class 'sklearn.naive_bayes.MultinomialNB'>, 'NB_clf': Pipeline(steps=[('tfidf', TfidfVectorizer(analyz...ior=None, fit_prior=True),\n          n_jobs=1))]), 'OneVsRestClassifier': <class 'sklearn.multiclass.OneVsRestClassifier'>, 'Out': {3:                                                a...OUTH-KOREA-DELAYS-CO  \n4  KEIAISHA-ISSUING-12-M  , 6: <matplotlib.axes._subplots.AxesSubplot object>, 10:                                                a...OUTH-KOREA-DELAYS-CO  \n4  KEIAISHA-ISSUING-12-M  , 13: 'We also see a large number of documents w/o any text: 2535', 14: TRAIN       1803\nTEST         730\nNOT-USED       2\nName: lewissplit, dtype: int64, 15:                                                 ...earn]  \n40           [acq]  \n48  [money-supply]  , 16:       newid unknown_processed title body topics ...93                                  []      TRAIN, 18:        newid        unknown_processed  \\\n21573  ...ipelines ltd denied reports that ...   NOT-USED  }, 'Pipeline': <class 'sklearn.pipeline.Pipeline'>, ...}\n        self.user_ns = {'CountVectorizer': <class 'sklearn.feature_extraction.text.CountVectorizer'>, 'GridSearchCV': <class 'sklearn.model_selection._search.GridSearchCV'>, 'In': ['', '# https://github.com/mihaibogdan10/json-reuters-...f.read()\\n        return(json.loads(file_content))', \"path = '/Users/twenzel/repos/topics2/json-data/'...lit('BC-')[-1]).apply(lambda x: x.split('  ')[0])\", '# analyse the category usage\\ndocs_df.head()', \"# Look at unique topics\\ntopic_path = '/Users/twe...d.read_csv(topic_path).acq.tolist()\\nprint(topics)\", '# Count frequency of topics used\\ncats_combo = li...ns.Counter(cats_combo)\\nprint(counter.most_common)', '# plot topic frequencies\\ncat_df = pd.DataFrame.f...p 15 topics- number of occurrences per category\")', '# from sklearn.preprocessing import MultiLabelBi...ltiLabelBinarizer().fit_transform(docs_df.topics)', '# label_matrix.flatten() # how to get column nam...or col in m.columns]\\n# m = df[[variable]].join(m)', 'label_count_df = docs_df.topic_length.value_coun..._df.topic_length==0].shape[0]/docs_df.shape[0])))', 'docs_df.head()', '# Create dummies for each label - binary matrix ...tr], axis=1, join_axes=[docs_df.index]).fillna(0)', \"lens = docs_df.body.str.len()\\n\\nprint('Number of ...        int(docs_df.body.str.len().max()))\\n     )\", \"'We also see a large number of documents w/o any...rmat(docs_df[docs_df.body.str.len()==0].shape[0])\", \"print('They are still allocated to training & te...s_df.body.str.len()==0].lewissplit.value_counts()\", \"print('If the body is missing, the title and unk...0][['title','unknown_processed','topics']].head()\", \"# 1 document is w/o body, title and unknown fiel...rocessed','title','body','topics','lewissplit' ]]\", \"# process text \\ndef clean_text(text):\\n    text =..._df['title'] + ' ' + docs_df['unknown_processed']\", \"docs_df[['newid','unknown_processed','title','body','topics','txt_combined','lewissplit' ]].tail()\", \"X_train = docs_df[(docs_df.lewissplit=='TRAIN') ...format(len(categories_with_enough_observations)))\", ...], 'LinearSVC': <class 'sklearn.svm.classes.LinearSVC'>, 'LogisticRegression': <class 'sklearn.linear_model.logistic.LogisticRegression'>, 'MultinomialNB': <class 'sklearn.naive_bayes.MultinomialNB'>, 'NB_clf': Pipeline(steps=[('tfidf', TfidfVectorizer(analyz...ior=None, fit_prior=True),\n          n_jobs=1))]), 'OneVsRestClassifier': <class 'sklearn.multiclass.OneVsRestClassifier'>, 'Out': {3:                                                a...OUTH-KOREA-DELAYS-CO  \n4  KEIAISHA-ISSUING-12-M  , 6: <matplotlib.axes._subplots.AxesSubplot object>, 10:                                                a...OUTH-KOREA-DELAYS-CO  \n4  KEIAISHA-ISSUING-12-M  , 13: 'We also see a large number of documents w/o any text: 2535', 14: TRAIN       1803\nTEST         730\nNOT-USED       2\nName: lewissplit, dtype: int64, 15:                                                 ...earn]  \n40           [acq]  \n48  [money-supply]  , 16:       newid unknown_processed title body topics ...93                                  []      TRAIN, 18:        newid        unknown_processed  \\\n21573  ...ipelines ltd denied reports that ...   NOT-USED  }, 'Pipeline': <class 'sklearn.pipeline.Pipeline'>, ...}\n   2911             finally:\n   2912                 # Reset our crash handler in place\n   2913                 sys.excepthook = old_excepthook\n   2914         except SystemExit as e:\n\n...........................................................................\n/Users/twenzel/repos/topics2/<ipython-input-22-d181d3c97f58> in <module>()\n     14 print(\"Performing grid search...\")\n     15 print(\"pipeline:\", [name for name, _ in NB_clf.steps])\n     16 print(\"parameters:\")\n     17 print(parameters)\n     18 start = time()\n---> 19 grid_search.fit(X_train.body.tolist(), X_train['tea'])\n     20 print(\"done in {:0.3f}s\".format(time() - start))\n     21 print()\n     22 \n     23 print(\"Best score: {:0.3f}\".format(grid_search.best_score_))\n\n...........................................................................\n/Library/Frameworks/Python.framework/Versions/3.6/lib/python3.6/site-packages/sklearn/model_selection/_search.py in fit(self=GridSearchCV(cv=None, error_score='raise',\n     ...ore=True,\n       scoring='f1_samples', verbose=1), X=['the bank of england said it forecast a shortage ...an inflow of some   mln stg the bank added reuter', 'the bank of france said it invited offers of fir... money today was quoted at             pct reuter', 'the u s lt amoco petroleum corp has reported an ...area this year but gave no further details reuter', 'technology transfer problems have delayed the fi...gh the sites have yet to be chosen he said reuter', 'keiaisha co ltd of tokyo is issuing   mln swiss ... issue is guaranteed by the kyowa bank ltd reuter', '', 'national westminster bank plc said it has cut it...n the pound has continued to gain strongly reuter', 'semi annual dividend   cts pay may   record apri... its initial public offering on november   reuter', 'standard pacific lp said it has acquired substan...rd pacific against undisclosed liabilities reuter', 'the treasury department said it would temporaril...lled organizations for repair or servicing reuter', 'the special prosecutor in the iran arms scandal ...ding current and former government officials more', 'an existing new york stock exchange nyse rule mi...on the london exchange market sources said reuter', 'usair group inc said piedmont aviation inc has a...acquired four mln shares or   pct of usair reuter', 'senior u s arms control officials said they were...act but details would be tough to work out reuter', 'estimated oil and gas drilling completions in th... oil wells     gas wells and     dry holes reuter', 'new credit advanced by finance houses retailers ... than in the previous three months it said reuter', 'a strike by brazil     seafarers who want pay ri...s marine union president edson areias said reuter', 'nec corp nec informational systems inc said it i...y will sell for less than     dlrs it said reuter', 'the   nations of the organisation for economic c...t less in domestic currency in   than in   reuter', 'bundesbank president karl otto poehl told a clos...rong bargain hunting at current low levels reuter', ...], y=0        0.0\n1        0.0\n2        0.0\n3        ...7    0.0\nName: tea, Length: 14668, dtype: float64, groups=None)\n    940 \n    941         groups : array-like, with shape (n_samples,), optional\n    942             Group labels for the samples used while splitting the dataset into\n    943             train/test set.\n    944         \"\"\"\n--> 945         return self._fit(X, y, groups, ParameterGrid(self.param_grid))\n        self._fit = <bound method BaseSearchCV._fit of GridSearchCV(...re=True,\n       scoring='f1_samples', verbose=1)>\n        X = ['the bank of england said it forecast a shortage ...an inflow of some   mln stg the bank added reuter', 'the bank of france said it invited offers of fir... money today was quoted at             pct reuter', 'the u s lt amoco petroleum corp has reported an ...area this year but gave no further details reuter', 'technology transfer problems have delayed the fi...gh the sites have yet to be chosen he said reuter', 'keiaisha co ltd of tokyo is issuing   mln swiss ... issue is guaranteed by the kyowa bank ltd reuter', '', 'national westminster bank plc said it has cut it...n the pound has continued to gain strongly reuter', 'semi annual dividend   cts pay may   record apri... its initial public offering on november   reuter', 'standard pacific lp said it has acquired substan...rd pacific against undisclosed liabilities reuter', 'the treasury department said it would temporaril...lled organizations for repair or servicing reuter', 'the special prosecutor in the iran arms scandal ...ding current and former government officials more', 'an existing new york stock exchange nyse rule mi...on the london exchange market sources said reuter', 'usair group inc said piedmont aviation inc has a...acquired four mln shares or   pct of usair reuter', 'senior u s arms control officials said they were...act but details would be tough to work out reuter', 'estimated oil and gas drilling completions in th... oil wells     gas wells and     dry holes reuter', 'new credit advanced by finance houses retailers ... than in the previous three months it said reuter', 'a strike by brazil     seafarers who want pay ri...s marine union president edson areias said reuter', 'nec corp nec informational systems inc said it i...y will sell for less than     dlrs it said reuter', 'the   nations of the organisation for economic c...t less in domestic currency in   than in   reuter', 'bundesbank president karl otto poehl told a clos...rong bargain hunting at current low levels reuter', ...]\n        y = 0        0.0\n1        0.0\n2        0.0\n3        ...7    0.0\nName: tea, Length: 14668, dtype: float64\n        groups = None\n        self.param_grid = {}\n    946 \n    947 \n    948 class RandomizedSearchCV(BaseSearchCV):\n    949     \"\"\"Randomized search on hyper parameters.\n\n...........................................................................\n/Library/Frameworks/Python.framework/Versions/3.6/lib/python3.6/site-packages/sklearn/model_selection/_search.py in _fit(self=GridSearchCV(cv=None, error_score='raise',\n     ...ore=True,\n       scoring='f1_samples', verbose=1), X=['the bank of england said it forecast a shortage ...an inflow of some   mln stg the bank added reuter', 'the bank of france said it invited offers of fir... money today was quoted at             pct reuter', 'the u s lt amoco petroleum corp has reported an ...area this year but gave no further details reuter', 'technology transfer problems have delayed the fi...gh the sites have yet to be chosen he said reuter', 'keiaisha co ltd of tokyo is issuing   mln swiss ... issue is guaranteed by the kyowa bank ltd reuter', '', 'national westminster bank plc said it has cut it...n the pound has continued to gain strongly reuter', 'semi annual dividend   cts pay may   record apri... its initial public offering on november   reuter', 'standard pacific lp said it has acquired substan...rd pacific against undisclosed liabilities reuter', 'the treasury department said it would temporaril...lled organizations for repair or servicing reuter', 'the special prosecutor in the iran arms scandal ...ding current and former government officials more', 'an existing new york stock exchange nyse rule mi...on the london exchange market sources said reuter', 'usair group inc said piedmont aviation inc has a...acquired four mln shares or   pct of usair reuter', 'senior u s arms control officials said they were...act but details would be tough to work out reuter', 'estimated oil and gas drilling completions in th... oil wells     gas wells and     dry holes reuter', 'new credit advanced by finance houses retailers ... than in the previous three months it said reuter', 'a strike by brazil     seafarers who want pay ri...s marine union president edson areias said reuter', 'nec corp nec informational systems inc said it i...y will sell for less than     dlrs it said reuter', 'the   nations of the organisation for economic c...t less in domestic currency in   than in   reuter', 'bundesbank president karl otto poehl told a clos...rong bargain hunting at current low levels reuter', ...], y=0        0.0\n1        0.0\n2        0.0\n3        ...7    0.0\nName: tea, Length: 14668, dtype: float64, groups=None, parameter_iterable=<sklearn.model_selection._search.ParameterGrid object>)\n    559                                   fit_params=self.fit_params,\n    560                                   return_train_score=self.return_train_score,\n    561                                   return_n_test_samples=True,\n    562                                   return_times=True, return_parameters=True,\n    563                                   error_score=self.error_score)\n--> 564           for parameters in parameter_iterable\n        parameters = undefined\n        parameter_iterable = <sklearn.model_selection._search.ParameterGrid object>\n    565           for train, test in cv_iter)\n    566 \n    567         # if one choose to see train score, \"out\" will contain train score info\n    568         if self.return_train_score:\n\n...........................................................................\n/Library/Frameworks/Python.framework/Versions/3.6/lib/python3.6/site-packages/sklearn/externals/joblib/parallel.py in __call__(self=Parallel(n_jobs=-1), iterable=<generator object BaseSearchCV._fit.<locals>.<genexpr>>)\n    763             if pre_dispatch == \"all\" or n_jobs == 1:\n    764                 # The iterable was consumed all at once by the above for loop.\n    765                 # No need to wait for async callbacks to trigger to\n    766                 # consumption.\n    767                 self._iterating = False\n--> 768             self.retrieve()\n        self.retrieve = <bound method Parallel.retrieve of Parallel(n_jobs=-1)>\n    769             # Make sure that we get a last message telling us we are done\n    770             elapsed_time = time.time() - self._start_time\n    771             self._print('Done %3i out of %3i | elapsed: %s finished',\n    772                         (len(self._output), len(self._output),\n\n---------------------------------------------------------------------------\nSub-process traceback:\n---------------------------------------------------------------------------\nValueError                                         Sun Jun 17 17:15:07 2018\nPID: 29913Python 3.6.4: /Library/Frameworks/Python.framework/Versions/3.6/bin/python3.6\n...........................................................................\n/Library/Frameworks/Python.framework/Versions/3.6/lib/python3.6/site-packages/sklearn/externals/joblib/parallel.py in __call__(self=<sklearn.externals.joblib.parallel.BatchedCalls object>)\n    126     def __init__(self, iterator_slice):\n    127         self.items = list(iterator_slice)\n    128         self._size = len(self.items)\n    129 \n    130     def __call__(self):\n--> 131         return [func(*args, **kwargs) for func, args, kwargs in self.items]\n        self.items = [(<function _fit_and_score>, (Pipeline(steps=[('tfidf', TfidfVectorizer(analyz...ior=None, fit_prior=True),\n          n_jobs=1))]), ['the bank of england said it forecast a shortage ...an inflow of some   mln stg the bank added reuter', 'the bank of france said it invited offers of fir... money today was quoted at             pct reuter', 'the u s lt amoco petroleum corp has reported an ...area this year but gave no further details reuter', 'technology transfer problems have delayed the fi...gh the sites have yet to be chosen he said reuter', 'keiaisha co ltd of tokyo is issuing   mln swiss ... issue is guaranteed by the kyowa bank ltd reuter', '', 'national westminster bank plc said it has cut it...n the pound has continued to gain strongly reuter', 'semi annual dividend   cts pay may   record apri... its initial public offering on november   reuter', 'standard pacific lp said it has acquired substan...rd pacific against undisclosed liabilities reuter', 'the treasury department said it would temporaril...lled organizations for repair or servicing reuter', 'the special prosecutor in the iran arms scandal ...ding current and former government officials more', 'an existing new york stock exchange nyse rule mi...on the london exchange market sources said reuter', 'usair group inc said piedmont aviation inc has a...acquired four mln shares or   pct of usair reuter', 'senior u s arms control officials said they were...act but details would be tough to work out reuter', 'estimated oil and gas drilling completions in th... oil wells     gas wells and     dry holes reuter', 'new credit advanced by finance houses retailers ... than in the previous three months it said reuter', 'a strike by brazil     seafarers who want pay ri...s marine union president edson areias said reuter', 'nec corp nec informational systems inc said it i...y will sell for less than     dlrs it said reuter', 'the   nations of the organisation for economic c...t less in domestic currency in   than in   reuter', 'bundesbank president karl otto poehl told a clos...rong bargain hunting at current low levels reuter', ...], 0        0.0\n1        0.0\n2        0.0\n3        ...7    0.0\nName: tea, Length: 14668, dtype: float64, make_scorer(f1_score, pos_label=None, average=samples), array([ 4889,  4890,  4891, ..., 14665, 14666, 14667]), array([   0,    1,    2, ..., 4887, 4888, 6420]), 1, {}), {'error_score': 'raise', 'fit_params': {}, 'return_n_test_samples': True, 'return_parameters': True, 'return_times': True, 'return_train_score': True})]\n    132 \n    133     def __len__(self):\n    134         return self._size\n    135 \n\n...........................................................................\n/Library/Frameworks/Python.framework/Versions/3.6/lib/python3.6/site-packages/sklearn/externals/joblib/parallel.py in <listcomp>(.0=<list_iterator object>)\n    126     def __init__(self, iterator_slice):\n    127         self.items = list(iterator_slice)\n    128         self._size = len(self.items)\n    129 \n    130     def __call__(self):\n--> 131         return [func(*args, **kwargs) for func, args, kwargs in self.items]\n        func = <function _fit_and_score>\n        args = (Pipeline(steps=[('tfidf', TfidfVectorizer(analyz...ior=None, fit_prior=True),\n          n_jobs=1))]), ['the bank of england said it forecast a shortage ...an inflow of some   mln stg the bank added reuter', 'the bank of france said it invited offers of fir... money today was quoted at             pct reuter', 'the u s lt amoco petroleum corp has reported an ...area this year but gave no further details reuter', 'technology transfer problems have delayed the fi...gh the sites have yet to be chosen he said reuter', 'keiaisha co ltd of tokyo is issuing   mln swiss ... issue is guaranteed by the kyowa bank ltd reuter', '', 'national westminster bank plc said it has cut it...n the pound has continued to gain strongly reuter', 'semi annual dividend   cts pay may   record apri... its initial public offering on november   reuter', 'standard pacific lp said it has acquired substan...rd pacific against undisclosed liabilities reuter', 'the treasury department said it would temporaril...lled organizations for repair or servicing reuter', 'the special prosecutor in the iran arms scandal ...ding current and former government officials more', 'an existing new york stock exchange nyse rule mi...on the london exchange market sources said reuter', 'usair group inc said piedmont aviation inc has a...acquired four mln shares or   pct of usair reuter', 'senior u s arms control officials said they were...act but details would be tough to work out reuter', 'estimated oil and gas drilling completions in th... oil wells     gas wells and     dry holes reuter', 'new credit advanced by finance houses retailers ... than in the previous three months it said reuter', 'a strike by brazil     seafarers who want pay ri...s marine union president edson areias said reuter', 'nec corp nec informational systems inc said it i...y will sell for less than     dlrs it said reuter', 'the   nations of the organisation for economic c...t less in domestic currency in   than in   reuter', 'bundesbank president karl otto poehl told a clos...rong bargain hunting at current low levels reuter', ...], 0        0.0\n1        0.0\n2        0.0\n3        ...7    0.0\nName: tea, Length: 14668, dtype: float64, make_scorer(f1_score, pos_label=None, average=samples), array([ 4889,  4890,  4891, ..., 14665, 14666, 14667]), array([   0,    1,    2, ..., 4887, 4888, 6420]), 1, {})\n        kwargs = {'error_score': 'raise', 'fit_params': {}, 'return_n_test_samples': True, 'return_parameters': True, 'return_times': True, 'return_train_score': True}\n    132 \n    133     def __len__(self):\n    134         return self._size\n    135 \n\n...........................................................................\n/Library/Frameworks/Python.framework/Versions/3.6/lib/python3.6/site-packages/sklearn/model_selection/_validation.py in _fit_and_score(estimator=Pipeline(steps=[('tfidf', TfidfVectorizer(analyz...ior=None, fit_prior=True),\n          n_jobs=1))]), X=['the bank of england said it forecast a shortage ...an inflow of some   mln stg the bank added reuter', 'the bank of france said it invited offers of fir... money today was quoted at             pct reuter', 'the u s lt amoco petroleum corp has reported an ...area this year but gave no further details reuter', 'technology transfer problems have delayed the fi...gh the sites have yet to be chosen he said reuter', 'keiaisha co ltd of tokyo is issuing   mln swiss ... issue is guaranteed by the kyowa bank ltd reuter', '', 'national westminster bank plc said it has cut it...n the pound has continued to gain strongly reuter', 'semi annual dividend   cts pay may   record apri... its initial public offering on november   reuter', 'standard pacific lp said it has acquired substan...rd pacific against undisclosed liabilities reuter', 'the treasury department said it would temporaril...lled organizations for repair or servicing reuter', 'the special prosecutor in the iran arms scandal ...ding current and former government officials more', 'an existing new york stock exchange nyse rule mi...on the london exchange market sources said reuter', 'usair group inc said piedmont aviation inc has a...acquired four mln shares or   pct of usair reuter', 'senior u s arms control officials said they were...act but details would be tough to work out reuter', 'estimated oil and gas drilling completions in th... oil wells     gas wells and     dry holes reuter', 'new credit advanced by finance houses retailers ... than in the previous three months it said reuter', 'a strike by brazil     seafarers who want pay ri...s marine union president edson areias said reuter', 'nec corp nec informational systems inc said it i...y will sell for less than     dlrs it said reuter', 'the   nations of the organisation for economic c...t less in domestic currency in   than in   reuter', 'bundesbank president karl otto poehl told a clos...rong bargain hunting at current low levels reuter', ...], y=0        0.0\n1        0.0\n2        0.0\n3        ...7    0.0\nName: tea, Length: 14668, dtype: float64, scorer=make_scorer(f1_score, pos_label=None, average=samples), train=array([ 4889,  4890,  4891, ..., 14665, 14666, 14667]), test=array([   0,    1,    2, ..., 4887, 4888, 6420]), verbose=1, parameters={}, fit_params={}, return_train_score=True, return_parameters=True, return_n_test_samples=True, return_times=True, error_score='raise')\n    255                              \" numeric value. (Hint: if using 'raise', please\"\n    256                              \" make sure that it has been spelled correctly.)\")\n    257 \n    258     else:\n    259         fit_time = time.time() - start_time\n--> 260         test_score = _score(estimator, X_test, y_test, scorer)\n        test_score = undefined\n        estimator = Pipeline(steps=[('tfidf', TfidfVectorizer(analyz...ior=None, fit_prior=True),\n          n_jobs=1))])\n        X_test = ['the bank of england said it forecast a shortage ...an inflow of some   mln stg the bank added reuter', 'the bank of france said it invited offers of fir... money today was quoted at             pct reuter', 'the u s lt amoco petroleum corp has reported an ...area this year but gave no further details reuter', 'technology transfer problems have delayed the fi...gh the sites have yet to be chosen he said reuter', 'keiaisha co ltd of tokyo is issuing   mln swiss ... issue is guaranteed by the kyowa bank ltd reuter', '', 'national westminster bank plc said it has cut it...n the pound has continued to gain strongly reuter', 'semi annual dividend   cts pay may   record apri... its initial public offering on november   reuter', 'standard pacific lp said it has acquired substan...rd pacific against undisclosed liabilities reuter', 'the treasury department said it would temporaril...lled organizations for repair or servicing reuter', 'the special prosecutor in the iran arms scandal ...ding current and former government officials more', 'an existing new york stock exchange nyse rule mi...on the london exchange market sources said reuter', 'usair group inc said piedmont aviation inc has a...acquired four mln shares or   pct of usair reuter', 'senior u s arms control officials said they were...act but details would be tough to work out reuter', 'estimated oil and gas drilling completions in th... oil wells     gas wells and     dry holes reuter', 'new credit advanced by finance houses retailers ... than in the previous three months it said reuter', 'a strike by brazil     seafarers who want pay ri...s marine union president edson areias said reuter', 'nec corp nec informational systems inc said it i...y will sell for less than     dlrs it said reuter', 'the   nations of the organisation for economic c...t less in domestic currency in   than in   reuter', 'bundesbank president karl otto poehl told a clos...rong bargain hunting at current low levels reuter', ...]\n        y_test = 0       0.0\n1       0.0\n2       0.0\n3       0.0\n...53    1.0\nName: tea, Length: 4890, dtype: float64\n        scorer = make_scorer(f1_score, pos_label=None, average=samples)\n    261         score_time = time.time() - start_time - fit_time\n    262         if return_train_score:\n    263             train_score = _score(estimator, X_train, y_train, scorer)\n    264 \n\n...........................................................................\n/Library/Frameworks/Python.framework/Versions/3.6/lib/python3.6/site-packages/sklearn/model_selection/_validation.py in _score(estimator=Pipeline(steps=[('tfidf', TfidfVectorizer(analyz...ior=None, fit_prior=True),\n          n_jobs=1))]), X_test=['the bank of england said it forecast a shortage ...an inflow of some   mln stg the bank added reuter', 'the bank of france said it invited offers of fir... money today was quoted at             pct reuter', 'the u s lt amoco petroleum corp has reported an ...area this year but gave no further details reuter', 'technology transfer problems have delayed the fi...gh the sites have yet to be chosen he said reuter', 'keiaisha co ltd of tokyo is issuing   mln swiss ... issue is guaranteed by the kyowa bank ltd reuter', '', 'national westminster bank plc said it has cut it...n the pound has continued to gain strongly reuter', 'semi annual dividend   cts pay may   record apri... its initial public offering on november   reuter', 'standard pacific lp said it has acquired substan...rd pacific against undisclosed liabilities reuter', 'the treasury department said it would temporaril...lled organizations for repair or servicing reuter', 'the special prosecutor in the iran arms scandal ...ding current and former government officials more', 'an existing new york stock exchange nyse rule mi...on the london exchange market sources said reuter', 'usair group inc said piedmont aviation inc has a...acquired four mln shares or   pct of usair reuter', 'senior u s arms control officials said they were...act but details would be tough to work out reuter', 'estimated oil and gas drilling completions in th... oil wells     gas wells and     dry holes reuter', 'new credit advanced by finance houses retailers ... than in the previous three months it said reuter', 'a strike by brazil     seafarers who want pay ri...s marine union president edson areias said reuter', 'nec corp nec informational systems inc said it i...y will sell for less than     dlrs it said reuter', 'the   nations of the organisation for economic c...t less in domestic currency in   than in   reuter', 'bundesbank president karl otto poehl told a clos...rong bargain hunting at current low levels reuter', ...], y_test=0       0.0\n1       0.0\n2       0.0\n3       0.0\n...53    1.0\nName: tea, Length: 4890, dtype: float64, scorer=make_scorer(f1_score, pos_label=None, average=samples))\n    283 def _score(estimator, X_test, y_test, scorer):\n    284     \"\"\"Compute the score of an estimator on a given test set.\"\"\"\n    285     if y_test is None:\n    286         score = scorer(estimator, X_test)\n    287     else:\n--> 288         score = scorer(estimator, X_test, y_test)\n        score = undefined\n        scorer = make_scorer(f1_score, pos_label=None, average=samples)\n        estimator = Pipeline(steps=[('tfidf', TfidfVectorizer(analyz...ior=None, fit_prior=True),\n          n_jobs=1))])\n        X_test = ['the bank of england said it forecast a shortage ...an inflow of some   mln stg the bank added reuter', 'the bank of france said it invited offers of fir... money today was quoted at             pct reuter', 'the u s lt amoco petroleum corp has reported an ...area this year but gave no further details reuter', 'technology transfer problems have delayed the fi...gh the sites have yet to be chosen he said reuter', 'keiaisha co ltd of tokyo is issuing   mln swiss ... issue is guaranteed by the kyowa bank ltd reuter', '', 'national westminster bank plc said it has cut it...n the pound has continued to gain strongly reuter', 'semi annual dividend   cts pay may   record apri... its initial public offering on november   reuter', 'standard pacific lp said it has acquired substan...rd pacific against undisclosed liabilities reuter', 'the treasury department said it would temporaril...lled organizations for repair or servicing reuter', 'the special prosecutor in the iran arms scandal ...ding current and former government officials more', 'an existing new york stock exchange nyse rule mi...on the london exchange market sources said reuter', 'usair group inc said piedmont aviation inc has a...acquired four mln shares or   pct of usair reuter', 'senior u s arms control officials said they were...act but details would be tough to work out reuter', 'estimated oil and gas drilling completions in th... oil wells     gas wells and     dry holes reuter', 'new credit advanced by finance houses retailers ... than in the previous three months it said reuter', 'a strike by brazil     seafarers who want pay ri...s marine union president edson areias said reuter', 'nec corp nec informational systems inc said it i...y will sell for less than     dlrs it said reuter', 'the   nations of the organisation for economic c...t less in domestic currency in   than in   reuter', 'bundesbank president karl otto poehl told a clos...rong bargain hunting at current low levels reuter', ...]\n        y_test = 0       0.0\n1       0.0\n2       0.0\n3       0.0\n...53    1.0\nName: tea, Length: 4890, dtype: float64\n    289     if hasattr(score, 'item'):\n    290         try:\n    291             # e.g. unwrap memmapped scalars\n    292             score = score.item()\n\n...........................................................................\n/Library/Frameworks/Python.framework/Versions/3.6/lib/python3.6/site-packages/sklearn/metrics/scorer.py in __call__(self=make_scorer(f1_score, pos_label=None, average=samples), estimator=Pipeline(steps=[('tfidf', TfidfVectorizer(analyz...ior=None, fit_prior=True),\n          n_jobs=1))]), X=['the bank of england said it forecast a shortage ...an inflow of some   mln stg the bank added reuter', 'the bank of france said it invited offers of fir... money today was quoted at             pct reuter', 'the u s lt amoco petroleum corp has reported an ...area this year but gave no further details reuter', 'technology transfer problems have delayed the fi...gh the sites have yet to be chosen he said reuter', 'keiaisha co ltd of tokyo is issuing   mln swiss ... issue is guaranteed by the kyowa bank ltd reuter', '', 'national westminster bank plc said it has cut it...n the pound has continued to gain strongly reuter', 'semi annual dividend   cts pay may   record apri... its initial public offering on november   reuter', 'standard pacific lp said it has acquired substan...rd pacific against undisclosed liabilities reuter', 'the treasury department said it would temporaril...lled organizations for repair or servicing reuter', 'the special prosecutor in the iran arms scandal ...ding current and former government officials more', 'an existing new york stock exchange nyse rule mi...on the london exchange market sources said reuter', 'usair group inc said piedmont aviation inc has a...acquired four mln shares or   pct of usair reuter', 'senior u s arms control officials said they were...act but details would be tough to work out reuter', 'estimated oil and gas drilling completions in th... oil wells     gas wells and     dry holes reuter', 'new credit advanced by finance houses retailers ... than in the previous three months it said reuter', 'a strike by brazil     seafarers who want pay ri...s marine union president edson areias said reuter', 'nec corp nec informational systems inc said it i...y will sell for less than     dlrs it said reuter', 'the   nations of the organisation for economic c...t less in domestic currency in   than in   reuter', 'bundesbank president karl otto poehl told a clos...rong bargain hunting at current low levels reuter', ...], y_true=0       0.0\n1       0.0\n2       0.0\n3       0.0\n...53    1.0\nName: tea, Length: 4890, dtype: float64, sample_weight=None)\n     93             return self._sign * self._score_func(y_true, y_pred,\n     94                                                  sample_weight=sample_weight,\n     95                                                  **self._kwargs)\n     96         else:\n     97             return self._sign * self._score_func(y_true, y_pred,\n---> 98                                                  **self._kwargs)\n        self._kwargs = {'average': 'samples', 'pos_label': None}\n     99 \n    100 \n    101 class _ProbaScorer(_BaseScorer):\n    102     def __call__(self, clf, X, y, sample_weight=None):\n\n...........................................................................\n/Library/Frameworks/Python.framework/Versions/3.6/lib/python3.6/site-packages/sklearn/metrics/classification.py in f1_score(y_true=0       0.0\n1       0.0\n2       0.0\n3       0.0\n...53    1.0\nName: tea, Length: 4890, dtype: float64, y_pred=array([0., 0., 0., ..., 0., 0., 0.]), labels=None, pos_label=None, average='samples', sample_weight=None)\n    687 \n    688 \n    689     \"\"\"\n    690     return fbeta_score(y_true, y_pred, 1, labels=labels,\n    691                        pos_label=pos_label, average=average,\n--> 692                        sample_weight=sample_weight)\n        sample_weight = None\n    693 \n    694 \n    695 def fbeta_score(y_true, y_pred, beta, labels=None, pos_label=1,\n    696                 average='binary', sample_weight=None):\n\n...........................................................................\n/Library/Frameworks/Python.framework/Versions/3.6/lib/python3.6/site-packages/sklearn/metrics/classification.py in fbeta_score(y_true=0       0.0\n1       0.0\n2       0.0\n3       0.0\n...53    1.0\nName: tea, Length: 4890, dtype: float64, y_pred=array([0., 0., 0., ..., 0., 0., 0.]), beta=1, labels=None, pos_label=None, average='samples', sample_weight=None)\n    801                                                  beta=beta,\n    802                                                  labels=labels,\n    803                                                  pos_label=pos_label,\n    804                                                  average=average,\n    805                                                  warn_for=('f-score',),\n--> 806                                                  sample_weight=sample_weight)\n        sample_weight = None\n    807     return f\n    808 \n    809 \n    810 def _prf_divide(numerator, denominator, metric, modifier, average, warn_for):\n\n...........................................................................\n/Library/Frameworks/Python.framework/Versions/3.6/lib/python3.6/site-packages/sklearn/metrics/classification.py in precision_recall_fscore_support(y_true=array([0., 0., 0., ..., 0., 0., 1.]), y_pred=array([0., 0., 0., ..., 0., 0., 0.]), beta=1, labels=array([0., 1.]), pos_label=None, average='samples', warn_for=('f-score',), sample_weight=None)\n   1057                                  sample_weight=sample_weight)\n   1058         true_sum = count_nonzero(y_true, axis=sum_axis,\n   1059                                  sample_weight=sample_weight)\n   1060 \n   1061     elif average == 'samples':\n-> 1062         raise ValueError(\"Sample-based precision, recall, fscore is \"\n   1063                          \"not meaningful outside multilabel \"\n   1064                          \"classification. See the accuracy_score instead.\")\n   1065     else:\n   1066         le = LabelEncoder()\n\nValueError: Sample-based precision, recall, fscore is not meaningful outside multilabel classification. See the accuracy_score instead.\n___________________________________________________________________________"
     ]
    }
   ],
   "source": [
    "NB_clf = Pipeline([\n",
    "                ('tfidf', TfidfVectorizer(stop_words=stop_words)),\n",
    "                ('clf', OneVsRestClassifier(MultinomialNB(\n",
    "                    fit_prior=True, class_prior=None))),\n",
    "            ])\n",
    "\n",
    "parameters = {\n",
    "    'tfidf__max_df': (0.01, 0.05, 0.5, 0.75, 1.0),\n",
    "    'tfidf__ngram_range': ((1, 1), (1, 2)),  # unigrams or bigrams\n",
    "    'tfidf__smooth_idf': (True, False),\n",
    "}\n",
    "\n",
    "nb_grid_results = {}\n",
    "random_search = RandomizedSearchCV(NB_clf, parameters, n_jobs=4, n_iter=15, verbose=1, scoring='f1')\n",
    "\n",
    "for category in categories_with_enough_observations:\n",
    "    print(\"Performing grid search...\")\n",
    "    print(\"pipeline:\", [name for name, _ in NB_clf.steps])\n",
    "    print(\"parameters:\")\n",
    "    print(parameters)\n",
    "    start = time()\n",
    "    random_search.fit(X_train.txt_combined.tolist(), X_train[category])\n",
    "    print(\"done in {:0.3f}s\".format(time() - start))\n",
    "    print()\n",
    "\n",
    "    print(\"Best score: {:0.3f}\".format(random_search.best_score_))\n",
    "    params = {}\n",
    "    print(\"Best parameters set:\")\n",
    "    best_parameters = random_search.best_estimator_.get_params()\n",
    "    for param_name in sorted(parameters.keys()):\n",
    "        params[param_name] = best_parameters[param_name]\n",
    "        print(\"\\t{}: {}\".format(param_name, best_parameters[param_name]))\n",
    "    nb_grid_results[category] = [random_search.best_score_,params]\n"
   ]
  },
  {
   "cell_type": "code",
   "execution_count": 97,
   "metadata": {},
   "outputs": [],
   "source": [
    "# from keras.datasets import reuters\n",
    "\n",
    "# (x_train, y_train), (x_test, y_test) = reuters.load_data(path=\"reuters.npz\",\n",
    "#                                                          num_words=None,\n",
    "#                                                          skip_top=0,\n",
    "#                                                          maxlen=None,\n",
    "#                                                          test_split=0.2,\n",
    "#                                                          seed=113,\n",
    "#                                                          start_char=1,\n",
    "#                                                          oov_char=2,\n",
    "#                                                          index_from=3)\n",
    "# word_index = reuters.get_word_index(path=\"reuters_word_index.json\")"
   ]
  }
 ],
 "metadata": {
  "kernelspec": {
   "display_name": "Python 3",
   "language": "python",
   "name": "python3"
  },
  "language_info": {
   "codemirror_mode": {
    "name": "ipython",
    "version": 3
   },
   "file_extension": ".py",
   "mimetype": "text/x-python",
   "name": "python",
   "nbconvert_exporter": "python",
   "pygments_lexer": "ipython3",
   "version": "3.6.4"
  }
 },
 "nbformat": 4,
 "nbformat_minor": 2
}
