{
 "cells": [
  {
   "cell_type": "markdown",
   "metadata": {},
   "source": [
    "# Multiclass multi-label classification using the Reuters dataset\n",
    "\n",
    "\n",
    "This notebook shows how to implement document classification when each document can have multiple categories.\n",
    "\n",
    "The dataset can be found [here](https://archive.ics.uci.edu/ml/machine-learning-databases/reuters21578-mld/). \n",
    "The topics to be predicted can be found in all-topics-strings.lc.txt. \n",
    "I'm adhering to the variable 'lewissplit' to define the Train/Test split. \n",
    "\n",
    "To convert the data from sgm to json, I'm drawing on convert_sgm_to_json.py by [mihaibogdan10](https://github.com/mihaibogdan10/json-reuters-21578).\n",
    "\n",
    "I find the best model to predict topics is the linear support vector classifier, which gets a weighted F1 score of 72% accross 65 predicted labels. Using a combined text column (original \"body\" + \"title\" + \"unknown_processed\") also improves the model performance by 4% ppt. Further tuning the parameters of the SVC increases the weighted F1 score to 74%.  \n",
    "\n",
    "The MLP model untuned also gave a weighted F1 score of 73%. I interupted the tuning as it took too long. "
   ]
  },
  {
   "cell_type": "code",
   "execution_count": 53,
   "metadata": {},
   "outputs": [],
   "source": [
    "import gzip\n",
    "import collections\n",
    "import matplotlib as plt\n",
    "import seaborn as sns\n",
    "%matplotlib inline\n",
    "from os import listdir\n",
    "import pandas as pd\n",
    "import numpy as np\n",
    "import json\n",
    "import nltk\n",
    "import itertools\n",
    "import re\n",
    "from time import time\n",
    "from pandas.io.json import json_normalize\n",
    "from utils import *\n",
    "\n",
    "from nltk.tokenize import word_tokenize\n",
    "from nltk.stem import WordNetLemmatizer\n",
    "from nltk.corpus import stopwords\n",
    "\n",
    "from sklearn.pipeline import Pipeline\n",
    "from sklearn.feature_extraction.text import TfidfVectorizer, CountVectorizer, TfidfTransformer\n",
    "from sklearn.model_selection import RandomizedSearchCV, GridSearchCV\n",
    "from sklearn.linear_model import SGDClassifier, LogisticRegression\n",
    "from sklearn.multiclass import OneVsRestClassifier\n",
    "from sklearn.svm import LinearSVC\n",
    "from sklearn.ensemble import RandomForestClassifier\n",
    "from sklearn.naive_bayes import MultinomialNB, BernoulliNB\n",
    "from sklearn.neural_network import MLPClassifier\n",
    "from sklearn.metrics import f1_score, roc_auc_score, accuracy_score, classification_report, precision_recall_fscore_support\n",
    "\n",
    "\n",
    "# import english stopwords\n",
    "stop_words = set(stopwords.words('english'))"
   ]
  },
  {
   "cell_type": "markdown",
   "metadata": {},
   "source": [
    "# EDA"
   ]
  },
  {
   "cell_type": "code",
   "execution_count": 2,
   "metadata": {},
   "outputs": [],
   "source": [
    "path = '/Users/twenzel/repos/topics2/json-data/'\n",
    "files = listdir(path)\n",
    "\n",
    "docs = [open_file(x, path) for x in files]\n",
    "docs = list(itertools.chain(*docs))\n",
    "docs_df = pd.DataFrame(docs)\n",
    "docs_df['topic_length'] = docs_df.topics.apply(len)\n",
    "\n",
    "# clean column \"unknown\" - as it helps classifying topics when document body is empty\n",
    "docs_df['unknown_processed'] = docs_df.unknown.apply(lambda x: x.split('BC-')[-1]).apply(lambda x: x.split('  ')[0])"
   ]
  },
  {
   "cell_type": "code",
   "execution_count": 3,
   "metadata": {},
   "outputs": [
    {
     "data": {
      "text/html": [
       "<div>\n",
       "<style scoped>\n",
       "    .dataframe tbody tr th:only-of-type {\n",
       "        vertical-align: middle;\n",
       "    }\n",
       "\n",
       "    .dataframe tbody tr th {\n",
       "        vertical-align: top;\n",
       "    }\n",
       "\n",
       "    .dataframe thead th {\n",
       "        text-align: right;\n",
       "    }\n",
       "</style>\n",
       "<table border=\"1\" class=\"dataframe\">\n",
       "  <thead>\n",
       "    <tr style=\"text-align: right;\">\n",
       "      <th></th>\n",
       "      <th>attrs</th>\n",
       "      <th>body</th>\n",
       "      <th>companies</th>\n",
       "      <th>date</th>\n",
       "      <th>dateline</th>\n",
       "      <th>exchanges</th>\n",
       "      <th>orgs</th>\n",
       "      <th>places</th>\n",
       "      <th>title</th>\n",
       "      <th>topics</th>\n",
       "      <th>unknown</th>\n",
       "      <th>topic_length</th>\n",
       "      <th>unknown_processed</th>\n",
       "    </tr>\n",
       "  </thead>\n",
       "  <tbody>\n",
       "    <tr>\n",
       "      <th>0</th>\n",
       "      <td>{'cgisplit': 'TRAINING-SET', 'lewissplit': 'TR...</td>\n",
       "      <td>The Bank of England said it forecast a\\nshorta...</td>\n",
       "      <td>[]</td>\n",
       "      <td>9-MAR-1987 04:58:41.12</td>\n",
       "      <td>LONDON, March 9 -</td>\n",
       "      <td>[]</td>\n",
       "      <td>[]</td>\n",
       "      <td>[uk]</td>\n",
       "      <td>U.K. MONEY MARKET SHORTAGE FORECAST AT 250 MLN...</td>\n",
       "      <td>[money-fx]</td>\n",
       "      <td>&amp;#5;&amp;#5;&amp;#5;RM\\n&amp;#22;&amp;#22;&amp;#1;f0416&amp;#31;reute\\...</td>\n",
       "      <td>1</td>\n",
       "      <td>U.K.-MONEY-MARKET-SHO</td>\n",
       "    </tr>\n",
       "    <tr>\n",
       "      <th>1</th>\n",
       "      <td>{'cgisplit': 'TRAINING-SET', 'lewissplit': 'TR...</td>\n",
       "      <td>The Bank of France said it invited offers\\nof ...</td>\n",
       "      <td>[]</td>\n",
       "      <td>9-MAR-1987 05:03:09.75</td>\n",
       "      <td>PARIS, March 9 -</td>\n",
       "      <td>[]</td>\n",
       "      <td>[]</td>\n",
       "      <td>[france]</td>\n",
       "      <td>BANK OF FRANCE SETS MONEY MARKET TENDER</td>\n",
       "      <td>[money-fx, interest]</td>\n",
       "      <td>&amp;#5;&amp;#5;&amp;#5;RM\\n&amp;#22;&amp;#22;&amp;#1;f0423&amp;#31;reute\\...</td>\n",
       "      <td>2</td>\n",
       "      <td>BANK-OF-FRANCE-SETS-M</td>\n",
       "    </tr>\n",
       "    <tr>\n",
       "      <th>2</th>\n",
       "      <td>{'cgisplit': 'TRAINING-SET', 'lewissplit': 'TR...</td>\n",
       "      <td>The U.S. &amp;lt;Amoco Petroleum Corp&gt; has\\nreport...</td>\n",
       "      <td>[]</td>\n",
       "      <td>9-MAR-1987 05:03:38.51</td>\n",
       "      <td>PEKING, March 9 -</td>\n",
       "      <td>[]</td>\n",
       "      <td>[]</td>\n",
       "      <td>[china]</td>\n",
       "      <td>AMOCO REPORTS SOUTH CHINA SEA OIL FIND</td>\n",
       "      <td>[crude]</td>\n",
       "      <td>&amp;#5;&amp;#5;&amp;#5;F\\n&amp;#22;&amp;#22;&amp;#1;f0426&amp;#31;reute\\n...</td>\n",
       "      <td>1</td>\n",
       "      <td>AMOCO-REPORTS-SOUTH-C</td>\n",
       "    </tr>\n",
       "    <tr>\n",
       "      <th>3</th>\n",
       "      <td>{'cgisplit': 'TRAINING-SET', 'lewissplit': 'TR...</td>\n",
       "      <td>Technology transfer problems have delayed\\nthe...</td>\n",
       "      <td>[]</td>\n",
       "      <td>9-MAR-1987 05:12:17.12</td>\n",
       "      <td>SEOUL, March 9 -</td>\n",
       "      <td>[]</td>\n",
       "      <td>[]</td>\n",
       "      <td>[south-korea]</td>\n",
       "      <td>SOUTH KOREA DELAYS CONTRACT FOR NUCLEAR PLANTS</td>\n",
       "      <td>[]</td>\n",
       "      <td>&amp;#5;&amp;#5;&amp;#5;F\\n&amp;#22;&amp;#22;&amp;#1;f0437&amp;#31;reute\\n...</td>\n",
       "      <td>0</td>\n",
       "      <td>SOUTH-KOREA-DELAYS-CO</td>\n",
       "    </tr>\n",
       "    <tr>\n",
       "      <th>4</th>\n",
       "      <td>{'cgisplit': 'TRAINING-SET', 'lewissplit': 'TR...</td>\n",
       "      <td>Keiaisha Co Ltd of Tokyo is issuing 12\\nmln Sw...</td>\n",
       "      <td>[]</td>\n",
       "      <td>9-MAR-1987 05:19:27.56</td>\n",
       "      <td>ZURICH, March 9 -</td>\n",
       "      <td>[]</td>\n",
       "      <td>[]</td>\n",
       "      <td>[switzerland]</td>\n",
       "      <td>KEIAISHA ISSUING 12 MLN SWISS FRANC NOTES</td>\n",
       "      <td>[]</td>\n",
       "      <td>&amp;#5;&amp;#5;&amp;#5;RM\\n&amp;#22;&amp;#22;&amp;#1;f0442&amp;#31;reute\\...</td>\n",
       "      <td>0</td>\n",
       "      <td>KEIAISHA-ISSUING-12-M</td>\n",
       "    </tr>\n",
       "  </tbody>\n",
       "</table>\n",
       "</div>"
      ],
      "text/plain": [
       "                                               attrs  \\\n",
       "0  {'cgisplit': 'TRAINING-SET', 'lewissplit': 'TR...   \n",
       "1  {'cgisplit': 'TRAINING-SET', 'lewissplit': 'TR...   \n",
       "2  {'cgisplit': 'TRAINING-SET', 'lewissplit': 'TR...   \n",
       "3  {'cgisplit': 'TRAINING-SET', 'lewissplit': 'TR...   \n",
       "4  {'cgisplit': 'TRAINING-SET', 'lewissplit': 'TR...   \n",
       "\n",
       "                                                body companies  \\\n",
       "0  The Bank of England said it forecast a\\nshorta...        []   \n",
       "1  The Bank of France said it invited offers\\nof ...        []   \n",
       "2  The U.S. &lt;Amoco Petroleum Corp> has\\nreport...        []   \n",
       "3  Technology transfer problems have delayed\\nthe...        []   \n",
       "4  Keiaisha Co Ltd of Tokyo is issuing 12\\nmln Sw...        []   \n",
       "\n",
       "                     date           dateline exchanges orgs         places  \\\n",
       "0  9-MAR-1987 04:58:41.12  LONDON, March 9 -        []   []           [uk]   \n",
       "1  9-MAR-1987 05:03:09.75   PARIS, March 9 -        []   []       [france]   \n",
       "2  9-MAR-1987 05:03:38.51  PEKING, March 9 -        []   []        [china]   \n",
       "3  9-MAR-1987 05:12:17.12   SEOUL, March 9 -        []   []  [south-korea]   \n",
       "4  9-MAR-1987 05:19:27.56  ZURICH, March 9 -        []   []  [switzerland]   \n",
       "\n",
       "                                               title                topics  \\\n",
       "0  U.K. MONEY MARKET SHORTAGE FORECAST AT 250 MLN...            [money-fx]   \n",
       "1            BANK OF FRANCE SETS MONEY MARKET TENDER  [money-fx, interest]   \n",
       "2             AMOCO REPORTS SOUTH CHINA SEA OIL FIND               [crude]   \n",
       "3     SOUTH KOREA DELAYS CONTRACT FOR NUCLEAR PLANTS                    []   \n",
       "4          KEIAISHA ISSUING 12 MLN SWISS FRANC NOTES                    []   \n",
       "\n",
       "                                             unknown  topic_length  \\\n",
       "0  &#5;&#5;&#5;RM\\n&#22;&#22;&#1;f0416&#31;reute\\...             1   \n",
       "1  &#5;&#5;&#5;RM\\n&#22;&#22;&#1;f0423&#31;reute\\...             2   \n",
       "2  &#5;&#5;&#5;F\\n&#22;&#22;&#1;f0426&#31;reute\\n...             1   \n",
       "3  &#5;&#5;&#5;F\\n&#22;&#22;&#1;f0437&#31;reute\\n...             0   \n",
       "4  &#5;&#5;&#5;RM\\n&#22;&#22;&#1;f0442&#31;reute\\...             0   \n",
       "\n",
       "       unknown_processed  \n",
       "0  U.K.-MONEY-MARKET-SHO  \n",
       "1  BANK-OF-FRANCE-SETS-M  \n",
       "2  AMOCO-REPORTS-SOUTH-C  \n",
       "3  SOUTH-KOREA-DELAYS-CO  \n",
       "4  KEIAISHA-ISSUING-12-M  "
      ]
     },
     "execution_count": 3,
     "metadata": {},
     "output_type": "execute_result"
    }
   ],
   "source": [
    "# analyse the category usage\n",
    "docs_df.head()"
   ]
  },
  {
   "cell_type": "code",
   "execution_count": 4,
   "metadata": {},
   "outputs": [
    {
     "name": "stdout",
     "output_type": "stream",
     "text": [
      "['alum', 'austdlr', 'austral', 'barley', 'bfr', 'bop', 'can', 'carcass', 'castor-meal', 'castor-oil', 'castorseed', 'citruspulp', 'cocoa', 'coconut', 'coconut-oil', 'coffee', 'copper', 'copra-cake', 'corn', 'corn-oil', 'cornglutenfeed', 'cotton ', 'cotton-meal', 'cotton-oil', 'cottonseed', 'cpi', 'cpu', 'crude', 'cruzado', 'dfl', 'dkr', 'dlr', 'dmk', 'drachma', 'earn', 'escudo', 'f-cattle', 'ffr', 'fishmeal', 'flaxseed', 'fuel', 'gas', 'gnp', 'gold', 'grain', 'groundnut', 'groundnut-meal', 'groundnut-oil', 'heat', 'hk', 'hog', 'housing', 'income', 'instal-debt', 'interest', 'inventories', 'ipi', 'iron-steel', 'jet', 'jobs', 'l-cattle', 'lead', 'lei', 'lin-meal', 'lin-oil', 'linseed', 'lit', 'livestock', 'lumber', 'lupin', 'meal-feed', 'mexpeso', 'money-fx', 'money-supply', 'naphtha     ', 'nat-gas', 'nickel', 'nkr', 'nzdlr', 'oat', 'oilseed', 'orange', 'palladium', 'palm-meal', 'palm-oil', 'palmkernel', 'peseta', 'pet-chem', 'platinum', 'plywood', 'pork-belly', 'potato', 'propane', 'rand', 'rape-meal', 'rape-oil', 'rapeseed', 'red-bean', 'reserves', 'retail', 'rice', 'ringgit', 'rubber', 'rupiah', 'rye', 'saudriyal', 'sfr', 'ship', 'silk', 'silver', 'singdlr', 'skr', 'sorghum', 'soy-meal', 'soy-oil', 'soybean', 'stg', 'strategic-metal', 'sugar', 'sun-meal', 'sun-oil', 'sunseed', 'tapioca', 'tea', 'tin', 'trade', 'tung', 'tung-oil', 'veg-oil', 'wheat', 'wool', 'wpi', 'yen', 'zinc']\n"
     ]
    }
   ],
   "source": [
    "# Look at unique topics\n",
    "topic_path = '/Users/twenzel/repos/topics2/other-data/all-topics-strings.lc.txt'\n",
    "topics = pd.read_csv(topic_path).acq.tolist()\n",
    "print(topics)"
   ]
  },
  {
   "cell_type": "code",
   "execution_count": 5,
   "metadata": {},
   "outputs": [
    {
     "name": "stdout",
     "output_type": "stream",
     "text": [
      "<bound method Counter.most_common of Counter({'earn': 3987, 'acq': 2448, 'money-fx': 801, 'crude': 634, 'grain': 628, 'trade': 552, 'interest': 513, 'wheat': 306, 'ship': 305, 'corn': 254, 'dlr': 217, 'oilseed': 192, 'money-supply': 190, 'sugar': 184, 'gnp': 163, 'coffee': 145, 'veg-oil': 137, 'gold': 135, 'nat-gas': 130, 'soybean': 120, 'bop': 116, 'livestock': 114, 'cpi': 112, 'reserves': 84, 'copper': 78, 'jobs': 76, 'cocoa': 76, 'carcass': 75, 'yen': 69, 'rice': 67, 'iron-steel': 67, 'gas': 65, 'ipi': 65, 'alum': 63, 'cotton': 63, 'barley': 54, 'meal-feed': 51, 'rubber': 51, 'zinc': 44, 'palm-oil': 43, 'pet-chem': 41, 'silver': 37, 'rapeseed': 35, 'lead': 35, 'sorghum': 35, 'tin': 33, 'strategic-metal': 32, 'wpi': 32, 'orange': 29, 'fuel': 28, 'hog': 27, 'soy-meal': 27, 'retail': 27, 'heat': 25, 'soy-oil': 25, 'housing': 21, 'stg': 21, 'income': 18, 'lei': 17, 'lumber': 17, 'sunseed': 17, 'dmk': 15, 'tea': 15, 'oat': 14, 'platinum': 12, 'nickel': 11, 'groundnut': 10, 'l-cattle': 9, 'sun-oil': 8, 'rape-oil': 8, 'jet': 8, 'instal-debt': 7, 'coconut-oil': 7, 'naphtha': 7, 'inventories': 7, 'potato': 6, 'propane': 6, 'coconut': 6, 'plywood': 4, 'nzdlr': 4, 'tapioca': 4, 'cpu': 4, 'austdlr': 4, 'pork-belly': 4, 'dfl': 3, 'can': 3, 'palladium': 3, 'cotton-oil': 3, 'nkr': 3, 'sfr': 3, 'saudriyal': 3, 'rand': 3, 'palmkernel': 3, 'lit': 3, 'f-cattle': 3, 'copra-cake': 3, 'fishmeal': 2, 'sun-meal': 2, 'lin-oil': 2, 'groundnut-oil': 2, 'rye': 2, 'castor-oil': 2, 'cornglutenfeed': 2, 'linseed': 2, 'wool': 2, 'corn-oil': 1, 'cruzado': 1, 'peseta': 1, 'lin-meal': 1, 'ringgit': 1, 'skr': 1, 'dkr': 1, 'castorseed': 1, 'rupiah': 1, 'hk': 1, 'red-bean': 1, 'citruspulp': 1, 'rape-meal': 1, 'cottonseed': 1, 'bfr': 1})>\n"
     ]
    }
   ],
   "source": [
    "# Count frequency of topics used\n",
    "cats_combo = list(itertools.chain(*docs_df.topics.tolist()))\n",
    "counter=collections.Counter(cats_combo)\n",
    "print(counter.most_common)"
   ]
  },
  {
   "cell_type": "markdown",
   "metadata": {},
   "source": [
    "We see a lot of topics appear only ones. We will need to subset on the topics that appear at least a few times in the training and test set. More observations for these topics has to be collected to make meaningful predictions for these cases."
   ]
  },
  {
   "cell_type": "markdown",
   "metadata": {},
   "source": [
    "# Labels \n",
    "\n",
    "What are the most common labels?"
   ]
  },
  {
   "cell_type": "code",
   "execution_count": 6,
   "metadata": {},
   "outputs": [
    {
     "data": {
      "text/plain": [
       "<matplotlib.axes._subplots.AxesSubplot at 0x11e5c47f0>"
      ]
     },
     "execution_count": 6,
     "metadata": {},
     "output_type": "execute_result"
    },
    {
     "data": {
      "image/png": "[encoded data removed]",
      "text/plain": [
       "<matplotlib.figure.Figure at 0x11e5b4160>"
      ]
     },
     "metadata": {},
     "output_type": "display_data"
    }
   ],
   "source": [
    "# plot topic frequencies\n",
    "cat_df = pd.DataFrame.from_dict(counter, orient='index').reset_index()\n",
    "cat_df.columns=['category', 'number_of_occurrences']\n",
    "cat_df.sort_values(by = ['number_of_occurrences'], ascending=False, inplace=True)\n",
    "\n",
    "cat_df.head(15).plot(x='category', \n",
    "                     y='number_of_occurrences', \n",
    "                     kind='bar', \n",
    "                     legend=False, \n",
    "                     grid=True, \n",
    "                     figsize=(15, 5), \n",
    "                     fontsize = 14,\n",
    "                     title=\"Top 15 topics- number of occurrences per category\")"
   ]
  },
  {
   "cell_type": "markdown",
   "metadata": {},
   "source": [
    "# Multilabel \n",
    "\n",
    "How many articles have several labels?"
   ]
  },
  {
   "cell_type": "code",
   "execution_count": 7,
   "metadata": {},
   "outputs": [
    {
     "name": "stdout",
     "output_type": "stream",
     "text": [
      "47% of documents are not labelled.\n"
     ]
    },
    {
     "data": {
      "image/png": "[encoded data removed]",
      "text/plain": [
       "<matplotlib.figure.Figure at 0x11b4f6d68>"
      ]
     },
     "metadata": {},
     "output_type": "display_data"
    }
   ],
   "source": [
    "label_count_df = docs_df.topic_length.value_counts().reset_index()\n",
    "label_count_df.columns = ['number_of_topics','number_of_occurrences']\n",
    "\n",
    "label_count_df.plot(x='number_of_topics', \n",
    "                     y='number_of_occurrences', \n",
    "                     kind='bar', \n",
    "                     legend=False, \n",
    "                     grid=True, \n",
    "                     figsize=(15, 5), \n",
    "                     fontsize = 14,\n",
    "                     title=\"How many documents have several categories per document?\")\n",
    "print('{:.0%} of documents are not labelled.'.format(docs_df[docs_df.topic_length==0].shape[0]/docs_df.shape[0]))"
   ]
  },
  {
   "cell_type": "code",
   "execution_count": 8,
   "metadata": {},
   "outputs": [],
   "source": [
    "# Create dummies for each label - binary matrix over multiple labels\n",
    "cat_df = pd.get_dummies(docs_df.topics.apply(pd.Series).stack()).sum(level=0)\n",
    "# replace all 2s with 1\n",
    "cat_df.replace(to_replace=2, value=1, inplace=True)\n",
    "# combine \n",
    "docs_df = pd.concat([docs_df, cat_df], axis=1, join_axes=[docs_df.index]).fillna(0)\n",
    "\n",
    "# Create attributes df\n",
    "attr = pd.DataFrame()\n",
    "for n in range(len(docs)):\n",
    "    attr = attr.append(json_normalize(docs[n]['attrs']))\n",
    "attr = attr.reset_index().drop('index',axis=1)\n",
    "attr.drop('topics',axis=1, inplace=True)\n",
    "\n",
    "# combine dfs\n",
    "docs_df = pd.concat([docs_df, attr], axis=1, join_axes=[docs_df.index]).fillna(0)"
   ]
  },
  {
   "cell_type": "markdown",
   "metadata": {},
   "source": [
    "# Imbalances"
   ]
  },
  {
   "cell_type": "code",
   "execution_count": 13,
   "metadata": {},
   "outputs": [
    {
     "data": {
      "text/plain": [
       "lewissplit  topic_length\n",
       "TEST        0               3166\n",
       "            1               2583\n",
       "            2                310\n",
       "            3                 64\n",
       "            4                 32\n",
       "            5                 14\n",
       "            6                  6\n",
       "            7                  4\n",
       "            8                  2\n",
       "            9                  2\n",
       "            14                 2\n",
       "            10                 1\n",
       "            11                 1\n",
       "            12                 1\n",
       "TRAIN       0               6888\n",
       "            1               6555\n",
       "            2                892\n",
       "            3                191\n",
       "            4                 62\n",
       "            5                 39\n",
       "            6                 21\n",
       "            7                  7\n",
       "            8                  4\n",
       "            9                  4\n",
       "            10                 3\n",
       "            12                 1\n",
       "            16                 1\n",
       "Name: topic_length, dtype: int64"
      ]
     },
     "execution_count": 13,
     "metadata": {},
     "output_type": "execute_result"
    }
   ],
   "source": [
    "# Now that the lewissplit column is included in dataframe, we can check the multilabel occurrences acrocc train & test\n",
    "docs_df[docs_df['lewissplit']!='NOT-USED'].groupby('lewissplit')['topic_length'].value_counts()"
   ]
  },
  {
   "cell_type": "code",
   "execution_count": 14,
   "metadata": {},
   "outputs": [],
   "source": [
    "# Imbalances: Check whether the same labels occur equally often in train and test\n",
    "topiclist= cat_df.columns.tolist()\n",
    "topiclist.extend(['lewissplit'])\n",
    "data_to_plot = docs_df[topiclist][docs_df['lewissplit']!='NOT-USED']\n",
    "data_to_plot = data_to_plot.groupby('lewissplit').sum().transpose()\n",
    "\n",
    "# Creating a list of biggest categories to plot how imbalanced their frequencies are btw. test and train\n",
    "test_cats = data_to_plot[data_to_plot.TEST>data_to_plot.TEST.mean()+(0.1*data_to_plot.TEST.std())].index.tolist()\n",
    "train_cats = data_to_plot[data_to_plot.TRAIN>data_to_plot.TRAIN.mean()+(0.1*data_to_plot.TEST.std())].index.tolist()\n",
    "all_cats = list(set(test_cats).intersection(train_cats))\n",
    "\n",
    "# subset on selected categories and melt df for plotting \n",
    "data_to_plot = data_to_plot[data_to_plot.index.isin(all_cats)]\n",
    "data_to_plot['topics'] = data_to_plot.index\n",
    "data_to_plot = pd.melt(data_to_plot, id_vars=\"topics\", var_name=\"split\", value_name=\"frequency\")"
   ]
  },
  {
   "cell_type": "code",
   "execution_count": 15,
   "metadata": {},
   "outputs": [
    {
     "data": {
      "text/plain": [
       "Text(0.5,1,'Imbalanced occurrences of topics btw. train and test set')"
      ]
     },
     "execution_count": 15,
     "metadata": {},
     "output_type": "execute_result"
    },
    {
     "data": {
      "image/png": "[encoded data removed]",
      "text/plain": [
       "<matplotlib.figure.Figure at 0x1205d9160>"
      ]
     },
     "metadata": {},
     "output_type": "display_data"
    }
   ],
   "source": [
    "p = sns.barplot(x=\"topics\", \n",
    "            y=\"frequency\", \n",
    "            hue=\"split\", \n",
    "            data=data_to_plot)\n",
    "p.set_xticklabels(rotation=40,labels = p.get_xticklabels())\n",
    "p.set_title(\"Imbalanced occurrences of topics btw. train and test set\")"
   ]
  },
  {
   "cell_type": "markdown",
   "metadata": {},
   "source": [
    "# Length of documents"
   ]
  },
  {
   "cell_type": "code",
   "execution_count": 16,
   "metadata": {},
   "outputs": [
    {
     "name": "stdout",
     "output_type": "stream",
     "text": [
      "Number of missing comments in document body:{} 0\n",
      "Most documents contain less than 508 characters. The longest document contains 13400 characters.\n"
     ]
    },
    {
     "data": {
      "image/png": "[encoded data removed]",
      "text/plain": [
       "<matplotlib.figure.Figure at 0x120595ac8>"
      ]
     },
     "metadata": {},
     "output_type": "display_data"
    }
   ],
   "source": [
    "lens = docs_df.body.str.len()\n",
    "\n",
    "print('Number of missing comments in document body:{}',format(docs_df['body'].isnull().sum()))\n",
    "\n",
    "lens.hist(bins = np.arange(0,5000,50))\n",
    "print('Most documents contain less than {} characters. The longest document contains {} characters.'\n",
    "      .format(int(docs_df.body.str.len().median()),\n",
    "              int(docs_df.body.str.len().max()))\n",
    "     )"
   ]
  },
  {
   "cell_type": "code",
   "execution_count": 17,
   "metadata": {},
   "outputs": [
    {
     "data": {
      "text/plain": [
       "'We also see a large number of documents w/o any text: 2535'"
      ]
     },
     "execution_count": 17,
     "metadata": {},
     "output_type": "execute_result"
    }
   ],
   "source": [
    "'We also see a large number of documents w/o any text: {}'.format(docs_df[docs_df.body.str.len()==0].shape[0])"
   ]
  },
  {
   "cell_type": "code",
   "execution_count": 18,
   "metadata": {},
   "outputs": [
    {
     "name": "stdout",
     "output_type": "stream",
     "text": [
      "They are still allocated to training & test group as the below shows:\n"
     ]
    },
    {
     "data": {
      "text/plain": [
       "TRAIN       1803\n",
       "TEST         730\n",
       "NOT-USED       2\n",
       "Name: lewissplit, dtype: int64"
      ]
     },
     "execution_count": 18,
     "metadata": {},
     "output_type": "execute_result"
    }
   ],
   "source": [
    "print('They are still allocated to training & test group as the below shows:')\n",
    "docs_df[docs_df.body.str.len()==0].lewissplit.value_counts()"
   ]
  },
  {
   "cell_type": "code",
   "execution_count": 19,
   "metadata": {},
   "outputs": [
    {
     "name": "stdout",
     "output_type": "stream",
     "text": [
      "If the body is missing, the title and unknown field can be used to predict labels.\n"
     ]
    },
    {
     "data": {
      "text/html": [
       "<div>\n",
       "<style scoped>\n",
       "    .dataframe tbody tr th:only-of-type {\n",
       "        vertical-align: middle;\n",
       "    }\n",
       "\n",
       "    .dataframe tbody tr th {\n",
       "        vertical-align: top;\n",
       "    }\n",
       "\n",
       "    .dataframe thead th {\n",
       "        text-align: right;\n",
       "    }\n",
       "</style>\n",
       "<table border=\"1\" class=\"dataframe\">\n",
       "  <thead>\n",
       "    <tr style=\"text-align: right;\">\n",
       "      <th></th>\n",
       "      <th>title</th>\n",
       "      <th>unknown_processed</th>\n",
       "      <th>topics</th>\n",
       "    </tr>\n",
       "  </thead>\n",
       "  <tbody>\n",
       "    <tr>\n",
       "      <th>5</th>\n",
       "      <td>NATIONAL WESTMINSTER BANK SAYS IT CUTTING BASE...</td>\n",
       "      <td>NATIONAL-WESTMINSTER</td>\n",
       "      <td>[interest]</td>\n",
       "    </tr>\n",
       "    <tr>\n",
       "      <th>34</th>\n",
       "      <td>Chrysler to take over Renault stake in America...</td>\n",
       "      <td>Chrysler-to-take-over</td>\n",
       "      <td>[acq]</td>\n",
       "    </tr>\n",
       "    <tr>\n",
       "      <th>36</th>\n",
       "      <td>SOUTHERN CO TO TAKE 226 MLN DLR CHARGE ON PROJ...</td>\n",
       "      <td>******southern-co-to</td>\n",
       "      <td>[earn]</td>\n",
       "    </tr>\n",
       "    <tr>\n",
       "      <th>40</th>\n",
       "      <td>GENCORP TO SELL LOS ANGELES TELEVISION STATION...</td>\n",
       "      <td>******GENCORP-TO-SELL</td>\n",
       "      <td>[acq]</td>\n",
       "    </tr>\n",
       "    <tr>\n",
       "      <th>48</th>\n",
       "      <td>FRENCH JAN M-3 MONEY SUPPLY ROSE PROV ADJUSTED...</td>\n",
       "      <td>FRENCH-JAN-M-3-MONEY</td>\n",
       "      <td>[money-supply]</td>\n",
       "    </tr>\n",
       "  </tbody>\n",
       "</table>\n",
       "</div>"
      ],
      "text/plain": [
       "                                                title      unknown_processed  \\\n",
       "5   NATIONAL WESTMINSTER BANK SAYS IT CUTTING BASE...   NATIONAL-WESTMINSTER   \n",
       "34  Chrysler to take over Renault stake in America...  Chrysler-to-take-over   \n",
       "36  SOUTHERN CO TO TAKE 226 MLN DLR CHARGE ON PROJ...   ******southern-co-to   \n",
       "40  GENCORP TO SELL LOS ANGELES TELEVISION STATION...  ******GENCORP-TO-SELL   \n",
       "48  FRENCH JAN M-3 MONEY SUPPLY ROSE PROV ADJUSTED...   FRENCH-JAN-M-3-MONEY   \n",
       "\n",
       "            topics  \n",
       "5       [interest]  \n",
       "34           [acq]  \n",
       "36          [earn]  \n",
       "40           [acq]  \n",
       "48  [money-supply]  "
      ]
     },
     "execution_count": 19,
     "metadata": {},
     "output_type": "execute_result"
    }
   ],
   "source": [
    "print('If the body is missing, the title and unknown field can be used to predict labels.')\n",
    "docs_df[docs_df.body.str.len()==0][['title','unknown_processed','topics']].head()"
   ]
  },
  {
   "cell_type": "code",
   "execution_count": 20,
   "metadata": {},
   "outputs": [
    {
     "data": {
      "text/html": [
       "<div>\n",
       "<style scoped>\n",
       "    .dataframe tbody tr th:only-of-type {\n",
       "        vertical-align: middle;\n",
       "    }\n",
       "\n",
       "    .dataframe tbody tr th {\n",
       "        vertical-align: top;\n",
       "    }\n",
       "\n",
       "    .dataframe thead th {\n",
       "        text-align: right;\n",
       "    }\n",
       "</style>\n",
       "<table border=\"1\" class=\"dataframe\">\n",
       "  <thead>\n",
       "    <tr style=\"text-align: right;\">\n",
       "      <th></th>\n",
       "      <th>newid</th>\n",
       "      <th>unknown_processed</th>\n",
       "      <th>title</th>\n",
       "      <th>body</th>\n",
       "      <th>topics</th>\n",
       "      <th>lewissplit</th>\n",
       "    </tr>\n",
       "  </thead>\n",
       "  <tbody>\n",
       "    <tr>\n",
       "      <th>9792</th>\n",
       "      <td>12793</td>\n",
       "      <td></td>\n",
       "      <td></td>\n",
       "      <td></td>\n",
       "      <td>[]</td>\n",
       "      <td>TRAIN</td>\n",
       "    </tr>\n",
       "  </tbody>\n",
       "</table>\n",
       "</div>"
      ],
      "text/plain": [
       "      newid unknown_processed title body topics lewissplit\n",
       "9792  12793                                  []      TRAIN"
      ]
     },
     "execution_count": 20,
     "metadata": {},
     "output_type": "execute_result"
    }
   ],
   "source": [
    "# 1 document is w/o body, title and unknown field. We will exclude it from Training.\n",
    "docs_df[(docs_df.body.str.len()==0) & (docs_df.title.str.len()==0) & (docs_df.unknown_processed.str.len()==0)][['newid','unknown_processed','title','body','topics','lewissplit' ]]"
   ]
  },
  {
   "cell_type": "code",
   "execution_count": 21,
   "metadata": {},
   "outputs": [],
   "source": [
    "docs_df['body'] = docs_df.body.apply(lambda x: clean_text(x))\n",
    "docs_df['unknown_processed'] = docs_df.unknown_processed.apply(lambda x: clean_text(x))\n",
    "docs_df['unknown_processed'].head()\n",
    "\n",
    "# Create additional text variable containing body, title & unknown_processed combined. This should help classifying documents where one of the fields, e.g. body is missing.\n",
    "docs_df['txt_combined'] = docs_df['body'] + ' ' + docs_df['title'] + ' ' + docs_df['unknown_processed']\n",
    "docs_df['txt_combined2'] = docs_df.apply(lambda x: process_text(x), axis=1)"
   ]
  },
  {
   "cell_type": "code",
   "execution_count": 22,
   "metadata": {},
   "outputs": [
    {
     "data": {
      "text/html": [
       "<div>\n",
       "<style scoped>\n",
       "    .dataframe tbody tr th:only-of-type {\n",
       "        vertical-align: middle;\n",
       "    }\n",
       "\n",
       "    .dataframe tbody tr th {\n",
       "        vertical-align: top;\n",
       "    }\n",
       "\n",
       "    .dataframe thead th {\n",
       "        text-align: right;\n",
       "    }\n",
       "</style>\n",
       "<table border=\"1\" class=\"dataframe\">\n",
       "  <thead>\n",
       "    <tr style=\"text-align: right;\">\n",
       "      <th></th>\n",
       "      <th>newid</th>\n",
       "      <th>unknown_processed</th>\n",
       "      <th>title</th>\n",
       "      <th>body</th>\n",
       "      <th>topics</th>\n",
       "      <th>txt_combined</th>\n",
       "      <th>lewissplit</th>\n",
       "    </tr>\n",
       "  </thead>\n",
       "  <tbody>\n",
       "    <tr>\n",
       "      <th>21573</th>\n",
       "      <td>16996</td>\n",
       "      <td>state of n j in   m</td>\n",
       "      <td>STATE OF N.J. IN 43 MLN DLR PROGRAM STOCK SALE</td>\n",
       "      <td>the state of new jersey said that it sold   st...</td>\n",
       "      <td>[]</td>\n",
       "      <td>the state of new jersey said that it sold   st...</td>\n",
       "      <td>NOT-USED</td>\n",
       "    </tr>\n",
       "    <tr>\n",
       "      <th>21574</th>\n",
       "      <td>16997</td>\n",
       "      <td>du pont lt dd conoco</td>\n",
       "      <td>DU PONT'S &amp;lt;DD&gt; CONOCO FINDS OIL OFFSHORE CONGO</td>\n",
       "      <td>du pont co conoco inc said the viodo marine nu...</td>\n",
       "      <td>[crude]</td>\n",
       "      <td>du pont co conoco inc said the viodo marine nu...</td>\n",
       "      <td>NOT-USED</td>\n",
       "    </tr>\n",
       "    <tr>\n",
       "      <th>21575</th>\n",
       "      <td>16998</td>\n",
       "      <td>falconbridge lt falcf o</td>\n",
       "      <td>FALCONBRIDGE &amp;lt;FALCF.O&gt; SEES IMPROVED RESULTS</td>\n",
       "      <td>falconbridge ltd said it expected results for ...</td>\n",
       "      <td>[nickel, acq]</td>\n",
       "      <td>falconbridge ltd said it expected results for ...</td>\n",
       "      <td>NOT-USED</td>\n",
       "    </tr>\n",
       "    <tr>\n",
       "      <th>21576</th>\n",
       "      <td>16999</td>\n",
       "      <td>symbol technologies lt</td>\n",
       "      <td>SYMBOL TECHNOLOGIES &amp;lt;SMBL.O&gt; FILES SHARE OFFER</td>\n",
       "      <td>symbol technologies inc said it filed with the...</td>\n",
       "      <td>[]</td>\n",
       "      <td>symbol technologies inc said it filed with the...</td>\n",
       "      <td>NOT-USED</td>\n",
       "    </tr>\n",
       "    <tr>\n",
       "      <th>21577</th>\n",
       "      <td>17000</td>\n",
       "      <td>transcanada lt trp den</td>\n",
       "      <td>TRANSCANADA &amp;lt;TRP&gt; DENIES REPORTS OF NEW BID</td>\n",
       "      <td>transcanada pipelines ltd denied reports that ...</td>\n",
       "      <td>[acq]</td>\n",
       "      <td>transcanada pipelines ltd denied reports that ...</td>\n",
       "      <td>NOT-USED</td>\n",
       "    </tr>\n",
       "  </tbody>\n",
       "</table>\n",
       "</div>"
      ],
      "text/plain": [
       "       newid        unknown_processed  \\\n",
       "21573  16996      state of n j in   m   \n",
       "21574  16997     du pont lt dd conoco   \n",
       "21575  16998  falconbridge lt falcf o   \n",
       "21576  16999   symbol technologies lt   \n",
       "21577  17000   transcanada lt trp den   \n",
       "\n",
       "                                                   title  \\\n",
       "21573     STATE OF N.J. IN 43 MLN DLR PROGRAM STOCK SALE   \n",
       "21574  DU PONT'S &lt;DD> CONOCO FINDS OIL OFFSHORE CONGO   \n",
       "21575    FALCONBRIDGE &lt;FALCF.O> SEES IMPROVED RESULTS   \n",
       "21576  SYMBOL TECHNOLOGIES &lt;SMBL.O> FILES SHARE OFFER   \n",
       "21577     TRANSCANADA &lt;TRP> DENIES REPORTS OF NEW BID   \n",
       "\n",
       "                                                    body         topics  \\\n",
       "21573  the state of new jersey said that it sold   st...             []   \n",
       "21574  du pont co conoco inc said the viodo marine nu...        [crude]   \n",
       "21575  falconbridge ltd said it expected results for ...  [nickel, acq]   \n",
       "21576  symbol technologies inc said it filed with the...             []   \n",
       "21577  transcanada pipelines ltd denied reports that ...          [acq]   \n",
       "\n",
       "                                            txt_combined lewissplit  \n",
       "21573  the state of new jersey said that it sold   st...   NOT-USED  \n",
       "21574  du pont co conoco inc said the viodo marine nu...   NOT-USED  \n",
       "21575  falconbridge ltd said it expected results for ...   NOT-USED  \n",
       "21576  symbol technologies inc said it filed with the...   NOT-USED  \n",
       "21577  transcanada pipelines ltd denied reports that ...   NOT-USED  "
      ]
     },
     "execution_count": 22,
     "metadata": {},
     "output_type": "execute_result"
    }
   ],
   "source": [
    "docs_df[['newid','unknown_processed','title','body','topics','txt_combined','lewissplit' ]].tail()"
   ]
  },
  {
   "cell_type": "markdown",
   "metadata": {},
   "source": [
    "# Train test split"
   ]
  },
  {
   "cell_type": "code",
   "execution_count": 23,
   "metadata": {},
   "outputs": [
    {
     "name": "stdout",
     "output_type": "stream",
     "text": [
      "Some topics only occur once or twice. To ensures that we can calculate model performance metrics, we will use only 56/120 topics for prediction.  (In practice, a much higher threshold should be set, e.g. 20 times to train a classifier for a label.)\n"
     ]
    }
   ],
   "source": [
    "X_train = docs_df[(docs_df.lewissplit=='TRAIN') & (docs_df.newid !=12793)]\n",
    "X_test = docs_df[(docs_df.lewissplit=='TEST')].drop('topics', axis=1)\n",
    "\n",
    "# categories to predict - subset on categories that appear more than twice in the training & test set\n",
    "cat_obs_count_train = X_train[cat_df.columns.tolist()].sum()>5\n",
    "categories_with_enough_obs_train = cat_obs_count_train[cat_obs_count_train.values].index.tolist()\n",
    "\n",
    "cat_obs_count_test = X_test[cat_df.columns.tolist()].sum()>5\n",
    "categories_with_enough_obs_test = cat_obs_count_test[cat_obs_count_test.values].index.tolist()\n",
    "categories_with_enough_obs = list(set(categories_with_enough_obs_train).intersection(set(categories_with_enough_obs_test))) \n",
    "\n",
    "Y_train = X_train[categories_with_enough_obs].as_matrix()\n",
    "print('Some topics only occur once or twice. To ensures that we can calculate model performance metrics, we will use only {}/120 topics for prediction.  (In practice, a much higher threshold should be set, e.g. 20 times to train a classifier for a label.)'.format(len(categories_with_enough_obs)))"
   ]
  },
  {
   "cell_type": "markdown",
   "metadata": {},
   "source": [
    "# Train classifier"
   ]
  },
  {
   "cell_type": "markdown",
   "metadata": {},
   "source": [
    "Next we train a classifier that fits our problem. We have multiple classes (120 topics) amd each document can belong to multiple classes (up to 16) at the same time. A multi-class multi-label classifier is appropriate in such situations and can be implemented in scikit-learn. "
   ]
  },
  {
   "cell_type": "markdown",
   "metadata": {},
   "source": [
    "### OneVsRest multi-label strategy\n",
    "The OneVsRest strategy can be used for multi-label learning, where a classifier is used to predict multiple labels for each input. This classifier accepts a binary mask over multiple labels. We constructed this in cat_df. The result for each prediction will be an array of 0s and 1s marking which class labels apply to each row input sample.\n",
    "\n",
    "### Linear classifiers\n",
    "The next step implements several linear classifiers: Multi-class version of Naive Bayes (MultinomialNB), stochastic gradient descent (SGDClassifier), Support Vector (LinearSVC), Stochastic gradient descent (SGDClassifier).\n",
    "\n",
    "### Non-linear classifiers\n",
    "To allow for more complex relationship modeling, I compare the linear classifiers to a multi-layer perceptron (MLP) classifier. \n",
    "\n",
    "### Why are these models suitable? \n",
    "\n",
    "**Naive Bayes** and **SVM** are often considered baseline models in text classification. \n",
    "\n",
    "**Naive Bayes** classifier is suitable for classification with discrete features (e.g., word counts for text classification). \n",
    "- It assumes that the probability of occurrence of any word given the class label, is independent of the probability of occurrence of any other word, given its class label.\n",
    "- It also assumes the probability of occurrence of a word in a document, is independent of the location of that word within the document.\n",
    "\n",
    "Text data roughly follows these assumptions, making naive Bayes a good model for text classification problems.  \n",
    "I used the multinomial version here because\n",
    "\n",
    "The **linear support vector machine** extracts the best possible hyper-plane / line that segregates the two classes. It has been found to be one of the best models for text classification. The linear kernel SVM is often recommended for text classification because text is often linearly separable, text has a lot of features. The linear Kernel is most suitable for these cases and is also than other Kernels. \n",
    "\n",
    "It has been [found](https://nlp.stanford.edu/pubs/sidaw12_simple_sentiment.pdf) that NB works better for shorter texts, whereas SVM works better for longer texts. Since the Reuters dataset also has longer documents, this may be one of the reasons why SVM performs best here. \n",
    "\n",
    "\n",
    "**Logistic Regression** classifier measures the relationship between the categorical dependent variable and independent variables by estimating probabilities using a sigmoid function. It is a great baseline model \n",
    "\n",
    "**SGD** is a simple and efficient numerical optimisation method that is used in many machine learning applications. Stochastic gradient descent classifier is a linear classifier (SVM, logistic regression) that uses SGD for training (minimising the loss function). \n",
    "Linear classifiers (SVM, logistic regression, a.o.) with SGD training, whereby the loss function determins the classifier. ‘Log’ loss gives logistic regression, ‘hinge’ (default) gives a linear SVM.\n",
    "\n",
    "A **multi-layer perceptron** is a feedforward neural network that has three or more layers. It utilizes a nonlinear activation function (mainly hyperbolic tangent or logistic function) that lets it classify data that are not linearly separable. Every node in a layer connects to each node in the following layer making the network fully connected.\n",
    "MPL can get better results than NB or SVM because of the non-linearity introduced which may be present in some text classification problems. Hence it's worth trying here since other models do not allow for non-linearity.\n",
    "\n",
    "\n",
    "### Pipeline\n",
    "In order to make the vectorizer => transformer => classifier easier to work with, scikit-learn provides a Pipeline class that behaves like a compound classifier. \n",
    "\n",
    "The text is passed into a processing step (TfidfVectorizer), which converts a collection of raw documents to a matrix of TF-IDF features. This step counts the term frequencies in the text and scales down terms that occur very frequently in the corpus of documents. Hence, less informative terms have lower values. \n",
    "\n",
    "### Model performance metrics\n",
    "I chose F1 score as evaluation metric to optimise, since it is more robust to imbalanced classes than, e.g. the accuracy score. Using the accuracy score, it is easy to get a score around 99% by simply predicting the majority class, which is zero. \n",
    "\n",
    "There are other options: \n",
    "- Label ranking average precision: The correct labels should be ranked higher and this metric yields better scores if the model is able to give better rank to the labels associated with each sample. \n",
    "- Precision@k\n",
    "\n",
    "![](eval_metrics.png)\n",
    "Reference: http://kt.ijs.si/DragiKocev/wikipage/lib/exe/fetch.php?media=2012pr_ml_comparison.pdf\n",
    "\n",
    "\n",
    "# Tuning\n",
    "I use randomized search, which search the parameter space more efficiently than exhaustive GridSearch.\n",
    "\n",
    "### Possible extensions\n",
    "- Ensemble: train several classifiers on other non-text variables and combine predictions of text and non-text models. For example, performance can be improved by training 1 classifier using text, another using the non-text information in the documents and then combining the 2 classifiers in an ensemble. \n",
    "- Keras implementations to scale on bigger dataset, e.g. [Reuters dataset](https://github.com/philipperemy/Reuters-full-data-set)\n",
    "- Try [nlp.fast.ai](http://nlp.fast.ai/classification/2018/05/15/introducting-ulmfit.html) and [Facebook fastText](https://github.com/facebookresearch/fastText) \n",
    "- Explore bigger parameter space using further efficiency improvements (early stopping in random search)\n",
    "- Feature engineering: e.g. word embedding layers for deep learning with Keras, Word2Vec, GloVe\n",
    "- Rerun models on full Reuters dataset "
   ]
  },
  {
   "cell_type": "markdown",
   "metadata": {},
   "source": [
    "# Linear SVC"
   ]
  },
  {
   "cell_type": "code",
   "execution_count": 24,
   "metadata": {},
   "outputs": [],
   "source": [
    "# silence some warnings (version incompatibilities btw. h5py and numpy)\n",
    "import warnings\n",
    "warnings.simplefilter('ignore')"
   ]
  },
  {
   "cell_type": "code",
   "execution_count": 33,
   "metadata": {
    "scrolled": true
   },
   "outputs": [
    {
     "name": "stdout",
     "output_type": "stream",
     "text": [
      "... Processing livestock\n",
      "Test F1 score is 0.3076923076923077\n",
      "... Processing hog\n",
      "Test F1 score is 0.30769230769230765\n",
      "... Processing palm-oil\n",
      "Test F1 score is 0.5714285714285715\n",
      "... Processing sorghum\n",
      "Test F1 score is 0.30769230769230765\n",
      "... Processing money-fx\n",
      "Test F1 score is 0.5244755244755245\n",
      "... Processing alum\n",
      "Test F1 score is 0.3571428571428571\n",
      "... Processing meal-feed\n",
      "Test F1 score is 0.2727272727272727\n",
      "... Processing dlr\n",
      "Test F1 score is 0.4067796610169491\n",
      "... Processing cocoa\n",
      "Test F1 score is 0.6666666666666666\n",
      "... Processing gold\n",
      "Test F1 score is 0.41860465116279066\n",
      "... Processing acq\n",
      "Test F1 score is 0.754047802621434\n",
      "... Processing gas\n",
      "Test F1 score is 0.5217391304347826\n",
      "... Processing oat\n",
      "Test F1 score is 0.0\n",
      "... Processing iron-steel\n",
      "Test F1 score is 0.4\n",
      "... Processing carcass\n",
      "Test F1 score is 0.3478260869565218\n",
      "... Processing orange\n",
      "Test F1 score is 0.625\n",
      "... Processing reserves\n",
      "Test F1 score is 0.6153846153846153\n",
      "... Processing gnp\n",
      "Test F1 score is 0.689655172413793\n",
      "... Processing oilseed\n",
      "Test F1 score is 0.5714285714285714\n",
      "... Processing strategic-metal\n",
      "Test F1 score is 0.0\n",
      "... Processing zinc\n",
      "Test F1 score is 0.375\n",
      "... Processing cotton\n",
      "Test F1 score is 0.6666666666666666\n",
      "... Processing cpi\n",
      "Test F1 score is 0.3888888888888889\n",
      "... Processing silver\n",
      "Test F1 score is 0.0\n",
      "... Processing earn\n",
      "Test F1 score is 0.8323083230832309\n",
      "... Processing pet-chem\n",
      "Test F1 score is 0.0\n",
      "... Processing wpi\n",
      "Test F1 score is 0.5714285714285715\n",
      "... Processing soy-meal\n",
      "Test F1 score is 0.14285714285714288\n",
      "... Processing bop\n",
      "Test F1 score is 0.5454545454545455\n",
      "... Processing wheat\n",
      "Test F1 score is 0.7438016528925621\n",
      "... Processing jobs\n",
      "Test F1 score is 0.6\n",
      "... Processing ship\n",
      "Test F1 score is 0.6222222222222222\n",
      "... Processing grain\n",
      "Test F1 score is 0.7591836734693876\n",
      "... Processing soybean\n",
      "Test F1 score is 0.5106382978723404\n",
      "... Processing money-supply\n",
      "Test F1 score is 0.5555555555555556\n",
      "... Processing sugar\n",
      "Test F1 score is 0.7936507936507936\n",
      "... Processing barley\n",
      "Test F1 score is 0.4444444444444445\n",
      "... Processing veg-oil\n",
      "Test F1 score is 0.5925925925925927\n",
      "... Processing tin\n",
      "Test F1 score is 0.5\n",
      "... Processing income\n",
      "Test F1 score is 0.0\n",
      "... Processing interest\n",
      "Test F1 score is 0.58\n",
      "... Processing lead\n",
      "Test F1 score is 0.0\n",
      "... Processing crude\n",
      "Test F1 score is 0.7129337539432176\n",
      "... Processing trade\n",
      "Test F1 score is 0.6291079812206571\n",
      "... Processing coffee\n",
      "Test F1 score is 0.9056603773584904\n",
      "... Processing rubber\n",
      "Test F1 score is 0.6666666666666666\n",
      "... Processing yen\n",
      "Test F1 score is 0.0\n",
      "... Processing fuel\n",
      "Test F1 score is 0.33333333333333337\n",
      "... Processing corn\n",
      "Test F1 score is 0.6666666666666667\n",
      "... Processing soy-oil\n",
      "Test F1 score is 0.0\n",
      "... Processing copper\n",
      "Test F1 score is 0.7272727272727272\n",
      "... Processing lumber\n",
      "Test F1 score is 0.0\n",
      "... Processing nat-gas\n",
      "Test F1 score is 0.5\n",
      "... Processing rapeseed\n",
      "Test F1 score is 0.6153846153846153\n",
      "... Processing rice\n",
      "Test F1 score is 0.5294117647058825\n",
      "... Processing ipi\n",
      "Test F1 score is 0.5\n"
     ]
    }
   ],
   "source": [
    "SVC_clf = Pipeline([\n",
    "                ('tfidf', TfidfVectorizer(stop_words=stop_words)),\n",
    "                ('clf', OneVsRestClassifier(LinearSVC(), n_jobs=6)),\n",
    "            ])\n",
    "svc_scores = {}\n",
    "for category in categories_with_enough_obs:\n",
    "    print('... Processing {}'.format(category))\n",
    "    # train the model using train_body & y_class\n",
    "    SVC_clf.fit(X_train.body, X_train[category])\n",
    "    # compute the testing F1 score\n",
    "    prediction = SVC_clf.predict(X_test.body)\n",
    "    f1_value = f1_score(X_test[category], prediction)\n",
    "    svc_scores[category] = f1_value\n",
    "    print('Test F1 score is {}'.format(f1_value))"
   ]
  },
  {
   "cell_type": "code",
   "execution_count": 34,
   "metadata": {},
   "outputs": [
    {
     "name": "stdout",
     "output_type": "stream",
     "text": [
      "F1 score (weighted to account for class imbalances) support vector classifier: 0.68\n"
     ]
    }
   ],
   "source": [
    "# Alternative way to run it w/o for loop\n",
    "SVC_clf = Pipeline([\n",
    "                ('tfidf', TfidfVectorizer(stop_words=stop_words)),\n",
    "                ('clf', OneVsRestClassifier(LinearSVC(), n_jobs=6)),\n",
    "            ])\n",
    "SVC_clf.fit(X_train.body, Y_train)\n",
    "prediction = SVC_clf.predict(X_test.body)\n",
    "svc_f1 = f1_score(X_test[categories_with_enough_obs].as_matrix(), prediction, average='weighted')\n",
    "print('F1 score (weighted to account for class imbalances) support vector classifier: {:.2f}'.format(svc_f1))"
   ]
  },
  {
   "cell_type": "code",
   "execution_count": 208,
   "metadata": {},
   "outputs": [],
   "source": [
    "# precision, recall,fbeta_score,support = precision_recall_fscore_support(X_test[categories_with_enough_obs].as_matrix(), prediction, average=None)\n",
    "# precision_recall_fscore_support(X_test[categories_with_enough_obs].as_matrix(), prediction, average='weighted')\n",
    "# from sklearn.metrics import fbeta_score\n",
    "# fbeta_score(X_test[categories_with_enough_obs].as_matrix(), prediction, beta=0.1, average='weighted')"
   ]
  },
  {
   "cell_type": "code",
   "execution_count": 35,
   "metadata": {},
   "outputs": [
    {
     "name": "stdout",
     "output_type": "stream",
     "text": [
      "Check the detailed classification performance by label:\n",
      "                 precision    recall  f1-score   support\n",
      "\n",
      "      livestock       0.40      0.25      0.31        24\n",
      "            hog       0.29      0.33      0.31         6\n",
      "       palm-oil       1.00      0.40      0.57        10\n",
      "        sorghum       0.67      0.20      0.31        10\n",
      "       money-fx       0.71      0.42      0.52       180\n",
      "           alum       1.00      0.22      0.36        23\n",
      "      meal-feed       1.00      0.16      0.27        19\n",
      "            dlr       0.80      0.27      0.41        44\n",
      "          cocoa       1.00      0.50      0.67        18\n",
      "           gold       0.69      0.30      0.42        30\n",
      "            acq       0.85      0.68      0.75       719\n",
      "            gas       1.00      0.35      0.52        17\n",
      "            oat       0.00      0.00      0.00         6\n",
      "     iron-steel       0.67      0.29      0.40        14\n",
      "        carcass       0.80      0.22      0.35        18\n",
      "         orange       1.00      0.45      0.62        11\n",
      "       reserves       1.00      0.44      0.62        18\n",
      "            gnp       0.87      0.57      0.69        35\n",
      "        oilseed       0.87      0.43      0.57        47\n",
      "strategic-metal       0.00      0.00      0.00        11\n",
      "           zinc       1.00      0.23      0.38        13\n",
      "         cotton       1.00      0.50      0.67        20\n",
      "            cpi       0.88      0.25      0.39        28\n",
      "         silver       0.00      0.00      0.00         8\n",
      "           earn       0.75      0.93      0.83      1088\n",
      "       pet-chem       0.00      0.00      0.00        12\n",
      "            wpi       1.00      0.40      0.57        10\n",
      "       soy-meal       1.00      0.08      0.14        13\n",
      "            bop       0.86      0.40      0.55        30\n",
      "          wheat       0.90      0.63      0.74        71\n",
      "           jobs       1.00      0.43      0.60        21\n",
      "           ship       0.91      0.47      0.62        89\n",
      "          grain       0.97      0.62      0.76       149\n",
      "        soybean       0.86      0.36      0.51        33\n",
      "   money-supply       0.75      0.44      0.56        34\n",
      "          sugar       0.93      0.69      0.79        36\n",
      "         barley       1.00      0.29      0.44        14\n",
      "        veg-oil       0.94      0.43      0.59        37\n",
      "            tin       1.00      0.33      0.50        12\n",
      "         income       0.00      0.00      0.00         7\n",
      "       interest       0.87      0.44      0.58       133\n",
      "           lead       0.00      0.00      0.00        14\n",
      "          crude       0.88      0.60      0.71       189\n",
      "          trade       0.70      0.57      0.63       117\n",
      "         coffee       0.96      0.86      0.91        28\n",
      "         rubber       1.00      0.50      0.67        12\n",
      "            yen       0.00      0.00      0.00        14\n",
      "           fuel       1.00      0.20      0.33        10\n",
      "           corn       0.88      0.54      0.67        56\n",
      "        soy-oil       0.00      0.00      0.00        11\n",
      "         copper       0.80      0.67      0.73        18\n",
      "         lumber       0.00      0.00      0.00         6\n",
      "        nat-gas       0.67      0.40      0.50        30\n",
      "       rapeseed       1.00      0.44      0.62         9\n",
      "           rice       0.90      0.38      0.53        24\n",
      "            ipi       1.00      0.33      0.50        12\n",
      "\n",
      "    avg / total       0.80      0.64      0.68      3668\n",
      "\n"
     ]
    }
   ],
   "source": [
    "print('Check the detailed classification performance by label:')\n",
    "print(classification_report(X_test[categories_with_enough_obs].as_matrix(), \n",
    "                            prediction,\n",
    "                            target_names=X_test[categories_with_enough_obs].columns.tolist())\n",
    "     )"
   ]
  },
  {
   "cell_type": "code",
   "execution_count": 36,
   "metadata": {},
   "outputs": [
    {
     "name": "stdout",
     "output_type": "stream",
     "text": [
      "F1 score (weighted to account for class imbalances) for support vector classifier: 0.72\n"
     ]
    }
   ],
   "source": [
    "# Compare model with 'body' vs. model with 'txt_combined'\n",
    "SVC_clf2 = Pipeline([\n",
    "                ('tfidf', TfidfVectorizer(stop_words=stop_words)),\n",
    "                ('clf', OneVsRestClassifier(LinearSVC(), n_jobs=6)),\n",
    "            ])\n",
    "SVC_clf2.fit(X_train.txt_combined, Y_train)\n",
    "prediction = SVC_clf2.predict(X_test.txt_combined)\n",
    "svc2_f1 = f1_score(X_test[categories_with_enough_obs].as_matrix(), prediction, average='weighted')\n",
    "print('F1 score (weighted to account for class imbalances) for support vector classifier: {:.2f}'.format(svc2_f1))"
   ]
  },
  {
   "cell_type": "code",
   "execution_count": 37,
   "metadata": {},
   "outputs": [
    {
     "name": "stdout",
     "output_type": "stream",
     "text": [
      "Using the combined text variable \"txt_combined\" instead of \"body\" improves the F1 score by 4% points on average.\n"
     ]
    }
   ],
   "source": [
    "# Comparing the performance btw.'body' and 'txt_combined'\n",
    "# diff = {x: svc_scores2[x] - svc_scores[x] for x in svc_scores2 if x in svc_scores}\n",
    "print('Using the combined text variable \"txt_combined\" instead of \"body\" improves the F1 score by {:.0%} points on average.'.format(svc2_f1-svc_f1))"
   ]
  },
  {
   "cell_type": "markdown",
   "metadata": {},
   "source": [
    "A point to note is that the performance for documents with \"body\" actually seems to worsen. A better feature may be to use \"txt_combined\" whenever \"body\" is empty. Let's test this with 'txt_combined2'."
   ]
  },
  {
   "cell_type": "code",
   "execution_count": 38,
   "metadata": {},
   "outputs": [
    {
     "name": "stdout",
     "output_type": "stream",
     "text": [
      "F1 score (weighted to account for class imbalances) for SVC: 0.71\n",
      "We don't get a better performance than when concatenating all text fields as input variable (txt_combined). Hence we continue benchmarking models using 'txt_combined'.\n"
     ]
    }
   ],
   "source": [
    "# Compare model with 'body' vs. model with 'txt_combined'\n",
    "SVC_clf3 = Pipeline([\n",
    "                ('tfidf', TfidfVectorizer(stop_words=stop_words)),\n",
    "                ('clf', OneVsRestClassifier(LinearSVC(), n_jobs=6)),\n",
    "            ])\n",
    "SVC_clf3.fit(X_train.txt_combined2, Y_train)\n",
    "prediction = SVC_clf3.predict(X_test.txt_combined2)\n",
    "svc3_f1 = f1_score(X_test[categories_with_enough_obs].as_matrix(), prediction, average='weighted')\n",
    "print('F1 score (weighted to account for class imbalances) for SVC: {:.2f}'.format(svc3_f1))\n",
    "print(\"We don't get a better performance than when concatenating all text fields as input variable (txt_combined). Hence we continue benchmarking models using 'txt_combined'.\")"
   ]
  },
  {
   "cell_type": "code",
   "execution_count": 114,
   "metadata": {},
   "outputs": [
    {
     "name": "stdout",
     "output_type": "stream",
     "text": [
      "\n",
      "20 most discriminating words:\n",
      "shipping        2.631469\n",
      "ships           2.341930\n",
      "vessels         2.072995\n",
      "port            1.945230\n",
      "vessel          1.706659\n",
      "mt              1.581577\n",
      "seamen          1.579861\n",
      "cargo           1.427407\n",
      "ship            1.311303\n",
      "canal           1.301302\n",
      "sea             1.231398\n",
      "freight         1.214308\n",
      "tankers         1.202379\n",
      "dwt             1.171242\n",
      "transport       1.162541\n",
      "harbour         1.116598\n",
      "river           1.090166\n",
      "tanker          1.048441\n",
      "warships        1.048380\n",
      "shipbuilding    0.948403\n",
      "dtype: float64\n"
     ]
    }
   ],
   "source": [
    "# Print largest coefficients\n",
    "vec, clf = SVC_clf.named_steps['tfidf'], SVC_clf.named_steps['clf']\n",
    "coefs = pd.Series(clf.coef_[0], index=vec.get_feature_names())\n",
    "print(\"\\n20 most discriminating words:\")\n",
    "print(coefs[coefs.abs().sort_values(ascending=False).index][:20])"
   ]
  },
  {
   "cell_type": "markdown",
   "metadata": {},
   "source": [
    "# Stochastic gradient descent "
   ]
  },
  {
   "cell_type": "code",
   "execution_count": 39,
   "metadata": {},
   "outputs": [
    {
     "name": "stdout",
     "output_type": "stream",
     "text": [
      "Weighted F1 score stochastic gradient descent classifier: 0.70\n"
     ]
    }
   ],
   "source": [
    "SGD_clf = Pipeline([\n",
    "                ('tfidf', TfidfVectorizer(stop_words=stop_words)),\n",
    "                ('clf', OneVsRestClassifier(SGDClassifier(), n_jobs=6)),\n",
    "            ])\n",
    "SGD_clf.fit(X_train.txt_combined, Y_train)\n",
    "prediction = SGD_clf.predict(X_test.txt_combined)\n",
    "sgd_f1 = f1_score(X_test[categories_with_enough_obs].as_matrix(), prediction, average='weighted')\n",
    "print('Weighted F1 score stochastic gradient descent classifier: {:.2f}'.format(sgd_f1))"
   ]
  },
  {
   "cell_type": "code",
   "execution_count": 40,
   "metadata": {},
   "outputs": [
    {
     "name": "stdout",
     "output_type": "stream",
     "text": [
      "Using a default SVC instead of SGD classifier improves the F1 score by 2% points average.\n"
     ]
    }
   ],
   "source": [
    "# Comparing SVC vs. SGD model performance \n",
    "print('Using a default SVC instead of SGD classifier improves the F1 score by {:.0%} points average.'.format(svc2_f1-sgd_f1))"
   ]
  },
  {
   "cell_type": "markdown",
   "metadata": {},
   "source": [
    "Hence the best default model remains the Support vector classifier. "
   ]
  },
  {
   "cell_type": "markdown",
   "metadata": {},
   "source": [
    "# MultinomialNB\n"
   ]
  },
  {
   "cell_type": "code",
   "execution_count": 41,
   "metadata": {},
   "outputs": [
    {
     "name": "stdout",
     "output_type": "stream",
     "text": [
      "Weighted F1 score Multinomial Bayes classifer: 0.38\n"
     ]
    }
   ],
   "source": [
    "NB_clf = Pipeline([\n",
    "                ('tfidf', TfidfVectorizer(stop_words=stop_words)),\n",
    "                ('clf', OneVsRestClassifier(MultinomialNB( \n",
    "                        fit_prior=False, class_prior=None), n_jobs=6)),\n",
    "            ])\n",
    "NB_clf.fit(X_train.txt_combined, Y_train)\n",
    "prediction = NB_clf.predict(X_test.txt_combined)\n",
    "nb_f1 = f1_score(X_test[categories_with_enough_obs].as_matrix(), prediction, average='weighted')\n",
    "print('Weighted F1 score Multinomial Bayes classifer: {:.2f}'.format(nb_f1))"
   ]
  },
  {
   "cell_type": "code",
   "execution_count": 43,
   "metadata": {},
   "outputs": [
    {
     "name": "stdout",
     "output_type": "stream",
     "text": [
      "Performance change: SVC vs. naive bayes classifer: 33% points.\n"
     ]
    }
   ],
   "source": [
    "print('Performance change: SVC vs. naive bayes classifer: {:.0%} points.'.format(svc2_f1-nb_f1))"
   ]
  },
  {
   "cell_type": "markdown",
   "metadata": {},
   "source": [
    "# Logistic Regression"
   ]
  },
  {
   "cell_type": "code",
   "execution_count": 46,
   "metadata": {},
   "outputs": [
    {
     "name": "stdout",
     "output_type": "stream",
     "text": [
      "Weighted F1 score Logistic regression classifer: 0.56\n"
     ]
    }
   ],
   "source": [
    "LR_clf = Pipeline([\n",
    "                ('tfidf', TfidfVectorizer(stop_words=stop_words)),\n",
    "                ('clf', OneVsRestClassifier(LogisticRegression(solver='sag'), n_jobs=6)),\n",
    "            ])\n",
    "LR_clf.fit(X_train.txt_combined, Y_train)\n",
    "prediction = LR_clf.predict(X_test.txt_combined)\n",
    "lr_f1 = f1_score(X_test[categories_with_enough_obs].as_matrix(), prediction, average='weighted')\n",
    "print('Weighted F1 score Logistic regression classifer: {:.2f}'.format(lr_f1))"
   ]
  },
  {
   "cell_type": "code",
   "execution_count": 47,
   "metadata": {},
   "outputs": [
    {
     "name": "stdout",
     "output_type": "stream",
     "text": [
      "Performance change: SVC vs. Logistic classifer: 16% points.\n"
     ]
    }
   ],
   "source": [
    "print('Performance change: SVC vs. Logistic classifer: {:.0%} points.'.format(svc2_f1-lr_f1))"
   ]
  },
  {
   "cell_type": "markdown",
   "metadata": {},
   "source": [
    "# Multi-layer percetron"
   ]
  },
  {
   "cell_type": "code",
   "execution_count": 50,
   "metadata": {},
   "outputs": [
    {
     "name": "stdout",
     "output_type": "stream",
     "text": [
      "Weighted F1 score MLP classifer: 0.73\n"
     ]
    }
   ],
   "source": [
    "MLP_clf = Pipeline([\n",
    "                ('tfidf', TfidfVectorizer(stop_words=stop_words)),\n",
    "                ('clf', OneVsRestClassifier(MLPClassifier(solver='lbfgs'))),\n",
    "                 ])\n",
    "MLP_clf.fit(X_train.txt_combined, Y_train)\n",
    "prediction = MLP_clf.predict(X_test.txt_combined)\n",
    "mlp_f1 = f1_score(X_test[categories_with_enough_obs].as_matrix(), prediction, average='weighted')\n",
    "print('Weighted F1 score MLP classifer: {:.2f}'.format(mlp_f1))"
   ]
  },
  {
   "cell_type": "code",
   "execution_count": 51,
   "metadata": {},
   "outputs": [
    {
     "name": "stdout",
     "output_type": "stream",
     "text": [
      "Performance change: SVC vs. MLP classifer: -1% points.\n"
     ]
    }
   ],
   "source": [
    "print('Performance change: SVC vs. MLP classifer: {:.0%} points.'.format(svc2_f1-mlp_f1))"
   ]
  },
  {
   "cell_type": "markdown",
   "metadata": {},
   "source": [
    "# Random Forest"
   ]
  },
  {
   "cell_type": "code",
   "execution_count": 54,
   "metadata": {},
   "outputs": [
    {
     "name": "stdout",
     "output_type": "stream",
     "text": [
      "Weighted F1 score Random forest classifer: 0.49\n"
     ]
    }
   ],
   "source": [
    "RF_clf = Pipeline([\n",
    "                ('tfidf', TfidfVectorizer(stop_words=stop_words)),\n",
    "                ('clf', OneVsRestClassifier(RandomForestClassifier(), n_jobs=6)),\n",
    "            ])\n",
    "RF_clf.fit(X_train.txt_combined, Y_train)\n",
    "prediction = RF_clf.predict(X_test.txt_combined)\n",
    "rf_f1 = f1_score(X_test[categories_with_enough_obs].as_matrix(), prediction, average='weighted')\n",
    "print('Weighted F1 score Random forest classifer: {:.2f}'.format(rf_f1))"
   ]
  },
  {
   "cell_type": "code",
   "execution_count": 55,
   "metadata": {},
   "outputs": [
    {
     "name": "stdout",
     "output_type": "stream",
     "text": [
      "Performance change: RF vs. MLP classifer: 23% points.\n"
     ]
    }
   ],
   "source": [
    "print('Performance change: RF vs. MLP classifer: {:.0%} points.'.format(svc2_f1-rf_f1))"
   ]
  },
  {
   "cell_type": "markdown",
   "metadata": {},
   "source": [
    "Hence the best default model is the Multi-layer perceptron, followed by the Support vector classifier. "
   ]
  },
  {
   "cell_type": "markdown",
   "metadata": {},
   "source": [
    "# Tuning\n",
    "\n",
    "Let's see if we can improve evaluation metrics by optimising hyper-parameters using randomised search. "
   ]
  },
  {
   "cell_type": "code",
   "execution_count": 59,
   "metadata": {},
   "outputs": [
    {
     "name": "stdout",
     "output_type": "stream",
     "text": [
      "oilseed: Performing parameter search ...\n",
      "pipeline: ['vect', 'clf']\n",
      "parameters:\n",
      "{'vect__max_df': (0.01, 0.05, 0.5, 0.75, 1.0), 'vect__ngram_range': ((1, 1), (1, 2)), 'vect__use_idf': (True, False), 'clf__alpha': (1e-05, 1e-06)}\n",
      "Fitting 3 folds for each of 20 candidates, totalling 60 fits\n"
     ]
    },
    {
     "name": "stderr",
     "output_type": "stream",
     "text": [
      "[Parallel(n_jobs=4)]: Done  42 tasks      | elapsed:  2.2min\n",
      "[Parallel(n_jobs=4)]: Done  60 out of  60 | elapsed:  2.9min finished\n"
     ]
    },
    {
     "name": "stdout",
     "output_type": "stream",
     "text": [
      "done in 175.887s\n",
      "\n",
      "Best score: 0.611\n",
      "Best parameters set:\n",
      "\tclf__alpha: 1e-06\n",
      "\tvect__max_df: 0.01\n",
      "\tvect__ngram_range: (1, 1)\n",
      "\tvect__use_idf: False\n",
      "F1 score train: 0.61 F1 score test: 0.67\n",
      "reserves: Performing parameter search ...\n",
      "pipeline: ['vect', 'clf']\n",
      "parameters:\n",
      "{'vect__max_df': (0.01, 0.05, 0.5, 0.75, 1.0), 'vect__ngram_range': ((1, 1), (1, 2)), 'vect__use_idf': (True, False), 'clf__alpha': (1e-05, 1e-06)}\n",
      "Fitting 3 folds for each of 20 candidates, totalling 60 fits\n"
     ]
    },
    {
     "name": "stderr",
     "output_type": "stream",
     "text": [
      "[Parallel(n_jobs=4)]: Done  42 tasks      | elapsed:  1.9min\n",
      "[Parallel(n_jobs=4)]: Done  60 out of  60 | elapsed:  2.6min finished\n"
     ]
    },
    {
     "name": "stdout",
     "output_type": "stream",
     "text": [
      "done in 164.544s\n",
      "\n",
      "Best score: 0.828\n",
      "Best parameters set:\n",
      "\tclf__alpha: 1e-05\n",
      "\tvect__max_df: 0.75\n",
      "\tvect__ngram_range: (1, 2)\n",
      "\tvect__use_idf: True\n",
      "F1 score train: 0.83 F1 score test: 0.77\n",
      "gold: Performing parameter search ...\n",
      "pipeline: ['vect', 'clf']\n",
      "parameters:\n",
      "{'vect__max_df': (0.01, 0.05, 0.5, 0.75, 1.0), 'vect__ngram_range': ((1, 1), (1, 2)), 'vect__use_idf': (True, False), 'clf__alpha': (1e-05, 1e-06)}\n",
      "Fitting 3 folds for each of 20 candidates, totalling 60 fits\n"
     ]
    },
    {
     "name": "stderr",
     "output_type": "stream",
     "text": [
      "[Parallel(n_jobs=4)]: Done  42 tasks      | elapsed:  2.3min\n",
      "[Parallel(n_jobs=4)]: Done  60 out of  60 | elapsed:  2.9min finished\n"
     ]
    },
    {
     "name": "stdout",
     "output_type": "stream",
     "text": [
      "done in 177.812s\n",
      "\n",
      "Best score: 0.753\n",
      "Best parameters set:\n",
      "\tclf__alpha: 1e-05\n",
      "\tvect__max_df: 0.05\n",
      "\tvect__ngram_range: (1, 2)\n",
      "\tvect__use_idf: True\n",
      "F1 score train: 0.75 F1 score test: 0.65\n",
      "wpi: Performing parameter search ...\n",
      "pipeline: ['vect', 'clf']\n",
      "parameters:\n",
      "{'vect__max_df': (0.01, 0.05, 0.5, 0.75, 1.0), 'vect__ngram_range': ((1, 1), (1, 2)), 'vect__use_idf': (True, False), 'clf__alpha': (1e-05, 1e-06)}\n",
      "Fitting 3 folds for each of 20 candidates, totalling 60 fits\n"
     ]
    },
    {
     "name": "stderr",
     "output_type": "stream",
     "text": [
      "[Parallel(n_jobs=4)]: Done  42 tasks      | elapsed:  1.8min\n",
      "[Parallel(n_jobs=4)]: Done  60 out of  60 | elapsed:  2.8min finished\n"
     ]
    },
    {
     "name": "stdout",
     "output_type": "stream",
     "text": [
      "done in 176.353s\n",
      "\n",
      "Best score: 0.867\n",
      "Best parameters set:\n",
      "\tclf__alpha: 1e-06\n",
      "\tvect__max_df: 0.5\n",
      "\tvect__ngram_range: (1, 2)\n",
      "\tvect__use_idf: True\n",
      "F1 score train: 0.87 F1 score test: 0.82\n",
      "cocoa: Performing parameter search ...\n",
      "pipeline: ['vect', 'clf']\n",
      "parameters:\n",
      "{'vect__max_df': (0.01, 0.05, 0.5, 0.75, 1.0), 'vect__ngram_range': ((1, 1), (1, 2)), 'vect__use_idf': (True, False), 'clf__alpha': (1e-05, 1e-06)}\n",
      "Fitting 3 folds for each of 20 candidates, totalling 60 fits\n"
     ]
    },
    {
     "name": "stderr",
     "output_type": "stream",
     "text": [
      "[Parallel(n_jobs=4)]: Done  42 tasks      | elapsed:  2.4min\n",
      "[Parallel(n_jobs=4)]: Done  60 out of  60 | elapsed:  3.1min finished\n"
     ]
    },
    {
     "name": "stdout",
     "output_type": "stream",
     "text": [
      "done in 193.411s\n",
      "\n",
      "Best score: 0.828\n",
      "Best parameters set:\n",
      "\tclf__alpha: 1e-06\n",
      "\tvect__max_df: 0.01\n",
      "\tvect__ngram_range: (1, 2)\n",
      "\tvect__use_idf: False\n",
      "F1 score train: 0.83 F1 score test: 0.82\n",
      "acq: Performing parameter search ...\n",
      "pipeline: ['vect', 'clf']\n",
      "parameters:\n",
      "{'vect__max_df': (0.01, 0.05, 0.5, 0.75, 1.0), 'vect__ngram_range': ((1, 1), (1, 2)), 'vect__use_idf': (True, False), 'clf__alpha': (1e-05, 1e-06)}\n",
      "Fitting 3 folds for each of 20 candidates, totalling 60 fits\n"
     ]
    },
    {
     "name": "stderr",
     "output_type": "stream",
     "text": [
      "[Parallel(n_jobs=4)]: Done  42 tasks      | elapsed:  2.4min\n",
      "[Parallel(n_jobs=4)]: Done  60 out of  60 | elapsed:  3.2min finished\n"
     ]
    },
    {
     "name": "stdout",
     "output_type": "stream",
     "text": [
      "done in 196.969s\n",
      "\n",
      "Best score: 0.839\n",
      "Best parameters set:\n",
      "\tclf__alpha: 1e-05\n",
      "\tvect__max_df: 1.0\n",
      "\tvect__ngram_range: (1, 2)\n",
      "\tvect__use_idf: True\n",
      "F1 score train: 0.84 F1 score test: 0.84\n",
      "ship: Performing parameter search ...\n",
      "pipeline: ['vect', 'clf']\n",
      "parameters:\n",
      "{'vect__max_df': (0.01, 0.05, 0.5, 0.75, 1.0), 'vect__ngram_range': ((1, 1), (1, 2)), 'vect__use_idf': (True, False), 'clf__alpha': (1e-05, 1e-06)}\n",
      "Fitting 3 folds for each of 20 candidates, totalling 60 fits\n"
     ]
    },
    {
     "name": "stderr",
     "output_type": "stream",
     "text": [
      "[Parallel(n_jobs=4)]: Done  42 tasks      | elapsed:  2.3min\n",
      "[Parallel(n_jobs=4)]: Done  60 out of  60 | elapsed:  3.0min finished\n"
     ]
    },
    {
     "name": "stdout",
     "output_type": "stream",
     "text": [
      "done in 186.702s\n",
      "\n",
      "Best score: 0.771\n",
      "Best parameters set:\n",
      "\tclf__alpha: 1e-05\n",
      "\tvect__max_df: 0.01\n",
      "\tvect__ngram_range: (1, 2)\n",
      "\tvect__use_idf: False\n",
      "F1 score train: 0.77 F1 score test: 0.69\n",
      "soy-meal: Performing parameter search ...\n",
      "pipeline: ['vect', 'clf']\n",
      "parameters:\n",
      "{'vect__max_df': (0.01, 0.05, 0.5, 0.75, 1.0), 'vect__ngram_range': ((1, 1), (1, 2)), 'vect__use_idf': (True, False), 'clf__alpha': (1e-05, 1e-06)}\n",
      "Fitting 3 folds for each of 20 candidates, totalling 60 fits\n"
     ]
    },
    {
     "name": "stderr",
     "output_type": "stream",
     "text": [
      "[Parallel(n_jobs=4)]: Done  42 tasks      | elapsed:  1.9min\n",
      "[Parallel(n_jobs=4)]: Done  60 out of  60 | elapsed:  2.6min finished\n"
     ]
    },
    {
     "name": "stdout",
     "output_type": "stream",
     "text": [
      "done in 155.211s\n",
      "\n",
      "Best score: 0.111\n",
      "Best parameters set:\n",
      "\tclf__alpha: 1e-06\n",
      "\tvect__max_df: 0.75\n",
      "\tvect__ngram_range: (1, 1)\n",
      "\tvect__use_idf: True\n",
      "F1 score train: 0.11 F1 score test: 0.14\n",
      "meal-feed: Performing parameter search ...\n",
      "pipeline: ['vect', 'clf']\n",
      "parameters:\n",
      "{'vect__max_df': (0.01, 0.05, 0.5, 0.75, 1.0), 'vect__ngram_range': ((1, 1), (1, 2)), 'vect__use_idf': (True, False), 'clf__alpha': (1e-05, 1e-06)}\n",
      "Fitting 3 folds for each of 20 candidates, totalling 60 fits\n"
     ]
    },
    {
     "name": "stderr",
     "output_type": "stream",
     "text": [
      "[Parallel(n_jobs=4)]: Done  42 tasks      | elapsed:  1.9min\n",
      "[Parallel(n_jobs=4)]: Done  60 out of  60 | elapsed:  2.8min finished\n"
     ]
    },
    {
     "name": "stdout",
     "output_type": "stream",
     "text": [
      "done in 167.643s\n",
      "\n",
      "Best score: 0.338\n",
      "Best parameters set:\n",
      "\tclf__alpha: 1e-05\n",
      "\tvect__max_df: 0.05\n",
      "\tvect__ngram_range: (1, 1)\n",
      "\tvect__use_idf: True\n",
      "F1 score train: 0.34 F1 score test: 0.35\n",
      "strategic-metal: Performing parameter search ...\n",
      "pipeline: ['vect', 'clf']\n",
      "parameters:\n",
      "{'vect__max_df': (0.01, 0.05, 0.5, 0.75, 1.0), 'vect__ngram_range': ((1, 1), (1, 2)), 'vect__use_idf': (True, False), 'clf__alpha': (1e-05, 1e-06)}\n",
      "Fitting 3 folds for each of 20 candidates, totalling 60 fits\n"
     ]
    },
    {
     "name": "stderr",
     "output_type": "stream",
     "text": [
      "[Parallel(n_jobs=4)]: Done  42 tasks      | elapsed:  2.1min\n",
      "[Parallel(n_jobs=4)]: Done  60 out of  60 | elapsed:  2.8min finished\n"
     ]
    },
    {
     "name": "stdout",
     "output_type": "stream",
     "text": [
      "done in 168.744s\n",
      "\n",
      "Best score: 0.524\n",
      "Best parameters set:\n",
      "\tclf__alpha: 1e-06\n",
      "\tvect__max_df: 0.01\n",
      "\tvect__ngram_range: (1, 1)\n",
      "\tvect__use_idf: True\n",
      "F1 score train: 0.52 F1 score test: 0.00\n",
      "yen: Performing parameter search ...\n",
      "pipeline: ['vect', 'clf']\n",
      "parameters:\n",
      "{'vect__max_df': (0.01, 0.05, 0.5, 0.75, 1.0), 'vect__ngram_range': ((1, 1), (1, 2)), 'vect__use_idf': (True, False), 'clf__alpha': (1e-05, 1e-06)}\n",
      "Fitting 3 folds for each of 20 candidates, totalling 60 fits\n"
     ]
    },
    {
     "name": "stderr",
     "output_type": "stream",
     "text": [
      "[Parallel(n_jobs=4)]: Done  42 tasks      | elapsed:  1.9min\n",
      "[Parallel(n_jobs=4)]: Done  60 out of  60 | elapsed:  2.7min finished\n"
     ]
    },
    {
     "name": "stdout",
     "output_type": "stream",
     "text": [
      "done in 165.909s\n",
      "\n",
      "Best score: 0.334\n",
      "Best parameters set:\n",
      "\tclf__alpha: 1e-05\n",
      "\tvect__max_df: 0.5\n",
      "\tvect__ngram_range: (1, 2)\n",
      "\tvect__use_idf: False\n",
      "F1 score train: 0.33 F1 score test: 0.35\n",
      "wheat: Performing parameter search ...\n",
      "pipeline: ['vect', 'clf']\n",
      "parameters:\n",
      "{'vect__max_df': (0.01, 0.05, 0.5, 0.75, 1.0), 'vect__ngram_range': ((1, 1), (1, 2)), 'vect__use_idf': (True, False), 'clf__alpha': (1e-05, 1e-06)}\n",
      "Fitting 3 folds for each of 20 candidates, totalling 60 fits\n"
     ]
    },
    {
     "name": "stderr",
     "output_type": "stream",
     "text": [
      "[Parallel(n_jobs=4)]: Done  42 tasks      | elapsed:  1.9min\n",
      "[Parallel(n_jobs=4)]: Done  60 out of  60 | elapsed:  2.8min finished\n"
     ]
    },
    {
     "name": "stdout",
     "output_type": "stream",
     "text": [
      "done in 176.224s\n",
      "\n",
      "Best score: 0.796\n",
      "Best parameters set:\n",
      "\tclf__alpha: 1e-05\n",
      "\tvect__max_df: 0.05\n",
      "\tvect__ngram_range: (1, 2)\n",
      "\tvect__use_idf: True\n",
      "F1 score train: 0.80 F1 score test: 0.79\n",
      "cpi: Performing parameter search ...\n",
      "pipeline: ['vect', 'clf']\n",
      "parameters:\n",
      "{'vect__max_df': (0.01, 0.05, 0.5, 0.75, 1.0), 'vect__ngram_range': ((1, 1), (1, 2)), 'vect__use_idf': (True, False), 'clf__alpha': (1e-05, 1e-06)}\n",
      "Fitting 3 folds for each of 20 candidates, totalling 60 fits\n"
     ]
    },
    {
     "name": "stderr",
     "output_type": "stream",
     "text": [
      "[Parallel(n_jobs=4)]: Done  42 tasks      | elapsed:  2.3min\n",
      "[Parallel(n_jobs=4)]: Done  60 out of  60 | elapsed:  3.0min finished\n"
     ]
    },
    {
     "name": "stdout",
     "output_type": "stream",
     "text": [
      "done in 189.153s\n",
      "\n",
      "Best score: 0.706\n",
      "Best parameters set:\n",
      "\tclf__alpha: 1e-06\n",
      "\tvect__max_df: 0.75\n",
      "\tvect__ngram_range: (1, 2)\n",
      "\tvect__use_idf: True\n",
      "F1 score train: 0.71 F1 score test: 0.57\n",
      "rapeseed: Performing parameter search ...\n",
      "pipeline: ['vect', 'clf']\n",
      "parameters:\n",
      "{'vect__max_df': (0.01, 0.05, 0.5, 0.75, 1.0), 'vect__ngram_range': ((1, 1), (1, 2)), 'vect__use_idf': (True, False), 'clf__alpha': (1e-05, 1e-06)}\n",
      "Fitting 3 folds for each of 20 candidates, totalling 60 fits\n"
     ]
    },
    {
     "name": "stderr",
     "output_type": "stream",
     "text": [
      "[Parallel(n_jobs=4)]: Done  42 tasks      | elapsed:  1.9min\n",
      "[Parallel(n_jobs=4)]: Done  60 out of  60 | elapsed:  2.5min finished\n"
     ]
    },
    {
     "name": "stdout",
     "output_type": "stream",
     "text": [
      "done in 149.454s\n",
      "\n",
      "Best score: 0.711\n",
      "Best parameters set:\n",
      "\tclf__alpha: 1e-05\n",
      "\tvect__max_df: 0.5\n",
      "\tvect__ngram_range: (1, 1)\n",
      "\tvect__use_idf: True\n",
      "F1 score train: 0.71 F1 score test: 0.62\n",
      "silver: Performing parameter search ...\n",
      "pipeline: ['vect', 'clf']\n",
      "parameters:\n",
      "{'vect__max_df': (0.01, 0.05, 0.5, 0.75, 1.0), 'vect__ngram_range': ((1, 1), (1, 2)), 'vect__use_idf': (True, False), 'clf__alpha': (1e-05, 1e-06)}\n",
      "Fitting 3 folds for each of 20 candidates, totalling 60 fits\n"
     ]
    },
    {
     "name": "stderr",
     "output_type": "stream",
     "text": [
      "[Parallel(n_jobs=4)]: Done  42 tasks      | elapsed:  2.3min\n",
      "[Parallel(n_jobs=4)]: Done  60 out of  60 | elapsed:  3.0min finished\n"
     ]
    },
    {
     "name": "stdout",
     "output_type": "stream",
     "text": [
      "done in 180.758s\n",
      "\n",
      "Best score: 0.150\n",
      "Best parameters set:\n",
      "\tclf__alpha: 1e-05\n",
      "\tvect__max_df: 1.0\n",
      "\tvect__ngram_range: (1, 1)\n",
      "\tvect__use_idf: False\n",
      "F1 score train: 0.15 F1 score test: 0.40\n",
      "bop: Performing parameter search ...\n",
      "pipeline: ['vect', 'clf']\n",
      "parameters:\n",
      "{'vect__max_df': (0.01, 0.05, 0.5, 0.75, 1.0), 'vect__ngram_range': ((1, 1), (1, 2)), 'vect__use_idf': (True, False), 'clf__alpha': (1e-05, 1e-06)}\n",
      "Fitting 3 folds for each of 20 candidates, totalling 60 fits\n"
     ]
    },
    {
     "name": "stderr",
     "output_type": "stream",
     "text": [
      "[Parallel(n_jobs=4)]: Done  42 tasks      | elapsed:  1.4min\n",
      "[Parallel(n_jobs=4)]: Done  60 out of  60 | elapsed:  2.4min finished\n"
     ]
    },
    {
     "name": "stdout",
     "output_type": "stream",
     "text": [
      "done in 152.849s\n",
      "\n",
      "Best score: 0.725\n",
      "Best parameters set:\n",
      "\tclf__alpha: 1e-05\n",
      "\tvect__max_df: 0.05\n",
      "\tvect__ngram_range: (1, 2)\n",
      "\tvect__use_idf: True\n",
      "F1 score train: 0.73 F1 score test: 0.75\n",
      "cotton: Performing parameter search ...\n",
      "pipeline: ['vect', 'clf']\n",
      "parameters:\n",
      "{'vect__max_df': (0.01, 0.05, 0.5, 0.75, 1.0), 'vect__ngram_range': ((1, 1), (1, 2)), 'vect__use_idf': (True, False), 'clf__alpha': (1e-05, 1e-06)}\n",
      "Fitting 3 folds for each of 20 candidates, totalling 60 fits\n"
     ]
    },
    {
     "name": "stderr",
     "output_type": "stream",
     "text": [
      "[Parallel(n_jobs=4)]: Done  42 tasks      | elapsed:  2.0min\n",
      "[Parallel(n_jobs=4)]: Done  60 out of  60 | elapsed:  2.6min finished\n"
     ]
    },
    {
     "name": "stdout",
     "output_type": "stream",
     "text": [
      "done in 158.656s\n",
      "\n",
      "Best score: 0.524\n",
      "Best parameters set:\n",
      "\tclf__alpha: 1e-06\n",
      "\tvect__max_df: 0.05\n",
      "\tvect__ngram_range: (1, 1)\n",
      "\tvect__use_idf: True\n",
      "F1 score train: 0.52 F1 score test: 0.65\n",
      "income: Performing parameter search ...\n",
      "pipeline: ['vect', 'clf']\n",
      "parameters:\n",
      "{'vect__max_df': (0.01, 0.05, 0.5, 0.75, 1.0), 'vect__ngram_range': ((1, 1), (1, 2)), 'vect__use_idf': (True, False), 'clf__alpha': (1e-05, 1e-06)}\n",
      "Fitting 3 folds for each of 20 candidates, totalling 60 fits\n"
     ]
    },
    {
     "name": "stderr",
     "output_type": "stream",
     "text": [
      "[Parallel(n_jobs=4)]: Done  42 tasks      | elapsed:  1.9min\n",
      "[Parallel(n_jobs=4)]: Done  60 out of  60 | elapsed:  3.0min finished\n"
     ]
    },
    {
     "name": "stdout",
     "output_type": "stream",
     "text": [
      "done in 180.335s\n",
      "\n",
      "Best score: 0.433\n",
      "Best parameters set:\n",
      "\tclf__alpha: 1e-05\n",
      "\tvect__max_df: 0.5\n",
      "\tvect__ngram_range: (1, 1)\n",
      "\tvect__use_idf: True\n",
      "F1 score train: 0.43 F1 score test: 0.73\n",
      "hog: Performing parameter search ...\n",
      "pipeline: ['vect', 'clf']\n",
      "parameters:\n",
      "{'vect__max_df': (0.01, 0.05, 0.5, 0.75, 1.0), 'vect__ngram_range': ((1, 1), (1, 2)), 'vect__use_idf': (True, False), 'clf__alpha': (1e-05, 1e-06)}\n",
      "Fitting 3 folds for each of 20 candidates, totalling 60 fits\n"
     ]
    },
    {
     "name": "stderr",
     "output_type": "stream",
     "text": [
      "[Parallel(n_jobs=4)]: Done  42 tasks      | elapsed:  1.9min\n",
      "[Parallel(n_jobs=4)]: Done  60 out of  60 | elapsed:  2.8min finished\n"
     ]
    },
    {
     "name": "stdout",
     "output_type": "stream",
     "text": [
      "done in 168.918s\n",
      "\n",
      "Best score: 0.437\n",
      "Best parameters set:\n",
      "\tclf__alpha: 1e-05\n",
      "\tvect__max_df: 1.0\n",
      "\tvect__ngram_range: (1, 1)\n",
      "\tvect__use_idf: True\n",
      "F1 score train: 0.44 F1 score test: 0.00\n",
      "lead: Performing parameter search ...\n",
      "pipeline: ['vect', 'clf']\n",
      "parameters:\n",
      "{'vect__max_df': (0.01, 0.05, 0.5, 0.75, 1.0), 'vect__ngram_range': ((1, 1), (1, 2)), 'vect__use_idf': (True, False), 'clf__alpha': (1e-05, 1e-06)}\n",
      "Fitting 3 folds for each of 20 candidates, totalling 60 fits\n"
     ]
    },
    {
     "name": "stderr",
     "output_type": "stream",
     "text": [
      "[Parallel(n_jobs=4)]: Done  42 tasks      | elapsed:  2.6min\n",
      "[Parallel(n_jobs=4)]: Done  60 out of  60 | elapsed:  3.3min finished\n"
     ]
    },
    {
     "name": "stdout",
     "output_type": "stream",
     "text": [
      "done in 199.567s\n",
      "\n",
      "Best score: 0.407\n",
      "Best parameters set:\n",
      "\tclf__alpha: 1e-05\n",
      "\tvect__max_df: 0.5\n",
      "\tvect__ngram_range: (1, 1)\n",
      "\tvect__use_idf: False\n",
      "F1 score train: 0.41 F1 score test: 0.13\n",
      "gas: Performing parameter search ...\n",
      "pipeline: ['vect', 'clf']\n",
      "parameters:\n",
      "{'vect__max_df': (0.01, 0.05, 0.5, 0.75, 1.0), 'vect__ngram_range': ((1, 1), (1, 2)), 'vect__use_idf': (True, False), 'clf__alpha': (1e-05, 1e-06)}\n",
      "Fitting 3 folds for each of 20 candidates, totalling 60 fits\n"
     ]
    },
    {
     "name": "stderr",
     "output_type": "stream",
     "text": [
      "[Parallel(n_jobs=4)]: Done  42 tasks      | elapsed:  1.9min\n",
      "[Parallel(n_jobs=4)]: Done  60 out of  60 | elapsed:  2.9min finished\n"
     ]
    },
    {
     "name": "stdout",
     "output_type": "stream",
     "text": [
      "done in 182.577s\n",
      "\n",
      "Best score: 0.514\n",
      "Best parameters set:\n",
      "\tclf__alpha: 1e-06\n",
      "\tvect__max_df: 0.5\n",
      "\tvect__ngram_range: (1, 2)\n",
      "\tvect__use_idf: True\n",
      "F1 score train: 0.51 F1 score test: 0.69\n",
      "interest: Performing parameter search ...\n",
      "pipeline: ['vect', 'clf']\n",
      "parameters:\n",
      "{'vect__max_df': (0.01, 0.05, 0.5, 0.75, 1.0), 'vect__ngram_range': ((1, 1), (1, 2)), 'vect__use_idf': (True, False), 'clf__alpha': (1e-05, 1e-06)}\n",
      "Fitting 3 folds for each of 20 candidates, totalling 60 fits\n"
     ]
    },
    {
     "name": "stderr",
     "output_type": "stream",
     "text": [
      "[Parallel(n_jobs=4)]: Done  42 tasks      | elapsed:  1.6min\n",
      "[Parallel(n_jobs=4)]: Done  60 out of  60 | elapsed:  2.5min finished\n"
     ]
    },
    {
     "name": "stdout",
     "output_type": "stream",
     "text": [
      "done in 157.637s\n",
      "\n",
      "Best score: 0.703\n",
      "Best parameters set:\n",
      "\tclf__alpha: 1e-05\n",
      "\tvect__max_df: 0.5\n",
      "\tvect__ngram_range: (1, 2)\n",
      "\tvect__use_idf: True\n",
      "F1 score train: 0.70 F1 score test: 0.69\n",
      "ipi: Performing parameter search ...\n",
      "pipeline: ['vect', 'clf']\n",
      "parameters:\n",
      "{'vect__max_df': (0.01, 0.05, 0.5, 0.75, 1.0), 'vect__ngram_range': ((1, 1), (1, 2)), 'vect__use_idf': (True, False), 'clf__alpha': (1e-05, 1e-06)}\n",
      "Fitting 3 folds for each of 20 candidates, totalling 60 fits\n"
     ]
    },
    {
     "name": "stderr",
     "output_type": "stream",
     "text": [
      "[Parallel(n_jobs=4)]: Done  42 tasks      | elapsed:  2.1min\n",
      "[Parallel(n_jobs=4)]: Done  60 out of  60 | elapsed:  2.9min finished\n"
     ]
    },
    {
     "name": "stdout",
     "output_type": "stream",
     "text": [
      "done in 177.608s\n",
      "\n",
      "Best score: 0.797\n",
      "Best parameters set:\n",
      "\tclf__alpha: 1e-05\n",
      "\tvect__max_df: 0.05\n",
      "\tvect__ngram_range: (1, 2)\n",
      "\tvect__use_idf: False\n",
      "F1 score train: 0.80 F1 score test: 0.87\n",
      "livestock: Performing parameter search ...\n",
      "pipeline: ['vect', 'clf']\n",
      "parameters:\n",
      "{'vect__max_df': (0.01, 0.05, 0.5, 0.75, 1.0), 'vect__ngram_range': ((1, 1), (1, 2)), 'vect__use_idf': (True, False), 'clf__alpha': (1e-05, 1e-06)}\n",
      "Fitting 3 folds for each of 20 candidates, totalling 60 fits\n"
     ]
    },
    {
     "name": "stderr",
     "output_type": "stream",
     "text": [
      "[Parallel(n_jobs=4)]: Done  42 tasks      | elapsed:  2.1min\n",
      "[Parallel(n_jobs=4)]: Done  60 out of  60 | elapsed: 27.6min finished\n"
     ]
    },
    {
     "name": "stdout",
     "output_type": "stream",
     "text": [
      "done in 1665.468s\n",
      "\n",
      "Best score: 0.509\n",
      "Best parameters set:\n",
      "\tclf__alpha: 1e-06\n",
      "\tvect__max_df: 0.05\n",
      "\tvect__ngram_range: (1, 2)\n",
      "\tvect__use_idf: True\n",
      "F1 score train: 0.51 F1 score test: 0.39\n",
      "gnp: Performing parameter search ...\n",
      "pipeline: ['vect', 'clf']\n",
      "parameters:\n",
      "{'vect__max_df': (0.01, 0.05, 0.5, 0.75, 1.0), 'vect__ngram_range': ((1, 1), (1, 2)), 'vect__use_idf': (True, False), 'clf__alpha': (1e-05, 1e-06)}\n",
      "Fitting 3 folds for each of 20 candidates, totalling 60 fits\n"
     ]
    },
    {
     "name": "stderr",
     "output_type": "stream",
     "text": [
      "[Parallel(n_jobs=4)]: Done  42 tasks      | elapsed:  2.0min\n",
      "[Parallel(n_jobs=4)]: Done  60 out of  60 | elapsed:  2.9min finished\n"
     ]
    },
    {
     "name": "stdout",
     "output_type": "stream",
     "text": [
      "done in 172.896s\n",
      "\n",
      "Best score: 0.781\n",
      "Best parameters set:\n",
      "\tclf__alpha: 1e-05\n",
      "\tvect__max_df: 0.05\n",
      "\tvect__ngram_range: (1, 1)\n",
      "\tvect__use_idf: False\n",
      "F1 score train: 0.78 F1 score test: 0.74\n",
      "grain: Performing parameter search ...\n",
      "pipeline: ['vect', 'clf']\n",
      "parameters:\n",
      "{'vect__max_df': (0.01, 0.05, 0.5, 0.75, 1.0), 'vect__ngram_range': ((1, 1), (1, 2)), 'vect__use_idf': (True, False), 'clf__alpha': (1e-05, 1e-06)}\n",
      "Fitting 3 folds for each of 20 candidates, totalling 60 fits\n"
     ]
    },
    {
     "name": "stderr",
     "output_type": "stream",
     "text": [
      "[Parallel(n_jobs=4)]: Done  42 tasks      | elapsed:  2.0min\n",
      "[Parallel(n_jobs=4)]: Done  60 out of  60 | elapsed:  2.7min finished\n"
     ]
    },
    {
     "name": "stdout",
     "output_type": "stream",
     "text": [
      "done in 170.661s\n",
      "\n",
      "Best score: 0.854\n",
      "Best parameters set:\n",
      "\tclf__alpha: 1e-05\n",
      "\tvect__max_df: 0.05\n",
      "\tvect__ngram_range: (1, 2)\n",
      "\tvect__use_idf: True\n",
      "F1 score train: 0.85 F1 score test: 0.88\n",
      "iron-steel: Performing parameter search ...\n",
      "pipeline: ['vect', 'clf']\n",
      "parameters:\n",
      "{'vect__max_df': (0.01, 0.05, 0.5, 0.75, 1.0), 'vect__ngram_range': ((1, 1), (1, 2)), 'vect__use_idf': (True, False), 'clf__alpha': (1e-05, 1e-06)}\n",
      "Fitting 3 folds for each of 20 candidates, totalling 60 fits\n"
     ]
    },
    {
     "name": "stderr",
     "output_type": "stream",
     "text": [
      "[Parallel(n_jobs=4)]: Done  42 tasks      | elapsed:  1.7min\n",
      "[Parallel(n_jobs=4)]: Done  60 out of  60 | elapsed:  2.9min finished\n"
     ]
    },
    {
     "name": "stdout",
     "output_type": "stream",
     "text": [
      "done in 177.855s\n",
      "\n",
      "Best score: 0.556\n",
      "Best parameters set:\n",
      "\tclf__alpha: 1e-06\n",
      "\tvect__max_df: 0.05\n",
      "\tvect__ngram_range: (1, 1)\n",
      "\tvect__use_idf: True\n",
      "F1 score train: 0.56 F1 score test: 0.46\n",
      "veg-oil: Performing parameter search ...\n",
      "pipeline: ['vect', 'clf']\n",
      "parameters:\n",
      "{'vect__max_df': (0.01, 0.05, 0.5, 0.75, 1.0), 'vect__ngram_range': ((1, 1), (1, 2)), 'vect__use_idf': (True, False), 'clf__alpha': (1e-05, 1e-06)}\n",
      "Fitting 3 folds for each of 20 candidates, totalling 60 fits\n"
     ]
    },
    {
     "name": "stderr",
     "output_type": "stream",
     "text": [
      "[Parallel(n_jobs=4)]: Done  42 tasks      | elapsed:  2.1min\n",
      "[Parallel(n_jobs=4)]: Done  60 out of  60 | elapsed:  2.8min finished\n"
     ]
    },
    {
     "name": "stdout",
     "output_type": "stream",
     "text": [
      "done in 176.311s\n",
      "\n",
      "Best score: 0.741\n",
      "Best parameters set:\n",
      "\tclf__alpha: 1e-06\n",
      "\tvect__max_df: 0.01\n",
      "\tvect__ngram_range: (1, 2)\n",
      "\tvect__use_idf: False\n",
      "F1 score train: 0.74 F1 score test: 0.64\n",
      "jobs: Performing parameter search ...\n",
      "pipeline: ['vect', 'clf']\n",
      "parameters:\n",
      "{'vect__max_df': (0.01, 0.05, 0.5, 0.75, 1.0), 'vect__ngram_range': ((1, 1), (1, 2)), 'vect__use_idf': (True, False), 'clf__alpha': (1e-05, 1e-06)}\n",
      "Fitting 3 folds for each of 20 candidates, totalling 60 fits\n"
     ]
    },
    {
     "name": "stderr",
     "output_type": "stream",
     "text": [
      "[Parallel(n_jobs=4)]: Done  42 tasks      | elapsed:  1.9min\n",
      "[Parallel(n_jobs=4)]: Done  60 out of  60 | elapsed:  2.5min finished\n"
     ]
    },
    {
     "name": "stdout",
     "output_type": "stream",
     "text": [
      "done in 151.322s\n",
      "\n",
      "Best score: 0.848\n",
      "Best parameters set:\n",
      "\tclf__alpha: 1e-05\n",
      "\tvect__max_df: 0.75\n",
      "\tvect__ngram_range: (1, 1)\n",
      "\tvect__use_idf: True\n",
      "F1 score train: 0.85 F1 score test: 0.71\n",
      "orange: Performing parameter search ...\n",
      "pipeline: ['vect', 'clf']\n",
      "parameters:\n",
      "{'vect__max_df': (0.01, 0.05, 0.5, 0.75, 1.0), 'vect__ngram_range': ((1, 1), (1, 2)), 'vect__use_idf': (True, False), 'clf__alpha': (1e-05, 1e-06)}\n",
      "Fitting 3 folds for each of 20 candidates, totalling 60 fits\n"
     ]
    },
    {
     "name": "stderr",
     "output_type": "stream",
     "text": [
      "[Parallel(n_jobs=4)]: Done  42 tasks      | elapsed:  2.6min\n",
      "[Parallel(n_jobs=4)]: Done  60 out of  60 | elapsed:  3.1min finished\n"
     ]
    },
    {
     "name": "stdout",
     "output_type": "stream",
     "text": [
      "done in 192.330s\n",
      "\n",
      "Best score: 0.582\n",
      "Best parameters set:\n",
      "\tclf__alpha: 1e-06\n",
      "\tvect__max_df: 0.5\n",
      "\tvect__ngram_range: (1, 2)\n",
      "\tvect__use_idf: True\n",
      "F1 score train: 0.58 F1 score test: 0.71\n",
      "coffee: Performing parameter search ...\n",
      "pipeline: ['vect', 'clf']\n",
      "parameters:\n",
      "{'vect__max_df': (0.01, 0.05, 0.5, 0.75, 1.0), 'vect__ngram_range': ((1, 1), (1, 2)), 'vect__use_idf': (True, False), 'clf__alpha': (1e-05, 1e-06)}\n",
      "Fitting 3 folds for each of 20 candidates, totalling 60 fits\n"
     ]
    },
    {
     "name": "stderr",
     "output_type": "stream",
     "text": [
      "[Parallel(n_jobs=4)]: Done  42 tasks      | elapsed:  2.0min\n",
      "[Parallel(n_jobs=4)]: Done  60 out of  60 | elapsed:  2.5min finished\n"
     ]
    },
    {
     "name": "stdout",
     "output_type": "stream",
     "text": [
      "done in 155.942s\n",
      "\n",
      "Best score: 0.855\n",
      "Best parameters set:\n",
      "\tclf__alpha: 1e-05\n",
      "\tvect__max_df: 0.75\n",
      "\tvect__ngram_range: (1, 2)\n",
      "\tvect__use_idf: True\n",
      "F1 score train: 0.85 F1 score test: 0.88\n",
      "oat: Performing parameter search ...\n",
      "pipeline: ['vect', 'clf']\n",
      "parameters:\n",
      "{'vect__max_df': (0.01, 0.05, 0.5, 0.75, 1.0), 'vect__ngram_range': ((1, 1), (1, 2)), 'vect__use_idf': (True, False), 'clf__alpha': (1e-05, 1e-06)}\n",
      "Fitting 3 folds for each of 20 candidates, totalling 60 fits\n"
     ]
    },
    {
     "name": "stderr",
     "output_type": "stream",
     "text": [
      "[Parallel(n_jobs=4)]: Done  42 tasks      | elapsed:  1.9min\n",
      "[Parallel(n_jobs=4)]: Done  60 out of  60 | elapsed:  2.4min finished\n"
     ]
    },
    {
     "name": "stdout",
     "output_type": "stream",
     "text": [
      "done in 145.435s\n",
      "\n",
      "Best score: 0.167\n",
      "Best parameters set:\n",
      "\tclf__alpha: 1e-06\n",
      "\tvect__max_df: 0.75\n",
      "\tvect__ngram_range: (1, 1)\n",
      "\tvect__use_idf: True\n",
      "F1 score train: 0.17 F1 score test: 0.29\n",
      "copper: Performing parameter search ...\n",
      "pipeline: ['vect', 'clf']\n",
      "parameters:\n",
      "{'vect__max_df': (0.01, 0.05, 0.5, 0.75, 1.0), 'vect__ngram_range': ((1, 1), (1, 2)), 'vect__use_idf': (True, False), 'clf__alpha': (1e-05, 1e-06)}\n",
      "Fitting 3 folds for each of 20 candidates, totalling 60 fits\n"
     ]
    },
    {
     "name": "stderr",
     "output_type": "stream",
     "text": [
      "[Parallel(n_jobs=4)]: Done  42 tasks      | elapsed:  2.2min\n",
      "[Parallel(n_jobs=4)]: Done  60 out of  60 | elapsed:  2.9min finished\n"
     ]
    },
    {
     "name": "stdout",
     "output_type": "stream",
     "text": [
      "done in 180.012s\n",
      "\n",
      "Best score: 0.632\n",
      "Best parameters set:\n",
      "\tclf__alpha: 1e-06\n",
      "\tvect__max_df: 0.5\n",
      "\tvect__ngram_range: (1, 2)\n",
      "\tvect__use_idf: True\n",
      "F1 score train: 0.63 F1 score test: 0.74\n",
      "alum: Performing parameter search ...\n",
      "pipeline: ['vect', 'clf']\n",
      "parameters:\n",
      "{'vect__max_df': (0.01, 0.05, 0.5, 0.75, 1.0), 'vect__ngram_range': ((1, 1), (1, 2)), 'vect__use_idf': (True, False), 'clf__alpha': (1e-05, 1e-06)}\n",
      "Fitting 3 folds for each of 20 candidates, totalling 60 fits\n"
     ]
    },
    {
     "name": "stderr",
     "output_type": "stream",
     "text": [
      "[Parallel(n_jobs=4)]: Done  42 tasks      | elapsed:  1.9min\n",
      "[Parallel(n_jobs=4)]: Done  60 out of  60 | elapsed:  2.5min finished\n"
     ]
    },
    {
     "name": "stdout",
     "output_type": "stream",
     "text": [
      "done in 156.664s\n",
      "\n",
      "Best score: 0.721\n",
      "Best parameters set:\n",
      "\tclf__alpha: 1e-06\n",
      "\tvect__max_df: 0.5\n",
      "\tvect__ngram_range: (1, 2)\n",
      "\tvect__use_idf: True\n",
      "F1 score train: 0.72 F1 score test: 0.56\n",
      "soybean: Performing parameter search ...\n",
      "pipeline: ['vect', 'clf']\n",
      "parameters:\n",
      "{'vect__max_df': (0.01, 0.05, 0.5, 0.75, 1.0), 'vect__ngram_range': ((1, 1), (1, 2)), 'vect__use_idf': (True, False), 'clf__alpha': (1e-05, 1e-06)}\n",
      "Fitting 3 folds for each of 20 candidates, totalling 60 fits\n"
     ]
    },
    {
     "name": "stderr",
     "output_type": "stream",
     "text": [
      "[Parallel(n_jobs=4)]: Done  42 tasks      | elapsed:  2.1min\n",
      "[Parallel(n_jobs=4)]: Done  60 out of  60 | elapsed:  2.6min finished\n"
     ]
    },
    {
     "name": "stdout",
     "output_type": "stream",
     "text": [
      "done in 163.087s\n",
      "\n",
      "Best score: 0.617\n",
      "Best parameters set:\n",
      "\tclf__alpha: 1e-05\n",
      "\tvect__max_df: 0.01\n",
      "\tvect__ngram_range: (1, 2)\n",
      "\tvect__use_idf: True\n",
      "F1 score train: 0.62 F1 score test: 0.57\n",
      "nat-gas: Performing parameter search ...\n",
      "pipeline: ['vect', 'clf']\n",
      "parameters:\n",
      "{'vect__max_df': (0.01, 0.05, 0.5, 0.75, 1.0), 'vect__ngram_range': ((1, 1), (1, 2)), 'vect__use_idf': (True, False), 'clf__alpha': (1e-05, 1e-06)}\n",
      "Fitting 3 folds for each of 20 candidates, totalling 60 fits\n"
     ]
    },
    {
     "name": "stderr",
     "output_type": "stream",
     "text": [
      "[Parallel(n_jobs=4)]: Done  42 tasks      | elapsed:  2.0min\n",
      "[Parallel(n_jobs=4)]: Done  60 out of  60 | elapsed:  2.9min finished\n"
     ]
    },
    {
     "name": "stdout",
     "output_type": "stream",
     "text": [
      "done in 182.804s\n",
      "\n",
      "Best score: 0.635\n",
      "Best parameters set:\n",
      "\tclf__alpha: 1e-05\n",
      "\tvect__max_df: 1.0\n",
      "\tvect__ngram_range: (1, 2)\n",
      "\tvect__use_idf: False\n",
      "F1 score train: 0.64 F1 score test: 0.60\n",
      "dlr: Performing parameter search ...\n",
      "pipeline: ['vect', 'clf']\n",
      "parameters:\n",
      "{'vect__max_df': (0.01, 0.05, 0.5, 0.75, 1.0), 'vect__ngram_range': ((1, 1), (1, 2)), 'vect__use_idf': (True, False), 'clf__alpha': (1e-05, 1e-06)}\n",
      "Fitting 3 folds for each of 20 candidates, totalling 60 fits\n"
     ]
    },
    {
     "name": "stderr",
     "output_type": "stream",
     "text": [
      "[Parallel(n_jobs=4)]: Done  42 tasks      | elapsed:  2.0min\n",
      "[Parallel(n_jobs=4)]: Done  60 out of  60 | elapsed:  2.8min finished\n"
     ]
    },
    {
     "name": "stdout",
     "output_type": "stream",
     "text": [
      "done in 176.998s\n",
      "\n",
      "Best score: 0.602\n",
      "Best parameters set:\n",
      "\tclf__alpha: 1e-06\n",
      "\tvect__max_df: 0.5\n",
      "\tvect__ngram_range: (1, 2)\n",
      "\tvect__use_idf: False\n",
      "F1 score train: 0.60 F1 score test: 0.64\n",
      "zinc: Performing parameter search ...\n",
      "pipeline: ['vect', 'clf']\n",
      "parameters:\n",
      "{'vect__max_df': (0.01, 0.05, 0.5, 0.75, 1.0), 'vect__ngram_range': ((1, 1), (1, 2)), 'vect__use_idf': (True, False), 'clf__alpha': (1e-05, 1e-06)}\n",
      "Fitting 3 folds for each of 20 candidates, totalling 60 fits\n"
     ]
    },
    {
     "name": "stderr",
     "output_type": "stream",
     "text": [
      "[Parallel(n_jobs=4)]: Done  42 tasks      | elapsed:  2.4min\n",
      "[Parallel(n_jobs=4)]: Done  60 out of  60 | elapsed:  3.4min finished\n"
     ]
    },
    {
     "name": "stdout",
     "output_type": "stream",
     "text": [
      "done in 206.069s\n",
      "\n",
      "Best score: 0.758\n",
      "Best parameters set:\n",
      "\tclf__alpha: 1e-06\n",
      "\tvect__max_df: 0.01\n",
      "\tvect__ngram_range: (1, 1)\n",
      "\tvect__use_idf: False\n",
      "F1 score train: 0.76 F1 score test: 0.47\n",
      "money-supply: Performing parameter search ...\n",
      "pipeline: ['vect', 'clf']\n",
      "parameters:\n",
      "{'vect__max_df': (0.01, 0.05, 0.5, 0.75, 1.0), 'vect__ngram_range': ((1, 1), (1, 2)), 'vect__use_idf': (True, False), 'clf__alpha': (1e-05, 1e-06)}\n",
      "Fitting 3 folds for each of 20 candidates, totalling 60 fits\n"
     ]
    },
    {
     "name": "stderr",
     "output_type": "stream",
     "text": [
      "[Parallel(n_jobs=4)]: Done  42 tasks      | elapsed:  2.1min\n",
      "[Parallel(n_jobs=4)]: Done  60 out of  60 | elapsed:  2.9min finished\n"
     ]
    },
    {
     "name": "stdout",
     "output_type": "stream",
     "text": [
      "done in 180.571s\n",
      "\n",
      "Best score: 0.822\n",
      "Best parameters set:\n",
      "\tclf__alpha: 1e-06\n",
      "\tvect__max_df: 0.05\n",
      "\tvect__ngram_range: (1, 2)\n",
      "\tvect__use_idf: True\n",
      "F1 score train: 0.82 F1 score test: 0.73\n",
      "carcass: Performing parameter search ...\n",
      "pipeline: ['vect', 'clf']\n",
      "parameters:\n",
      "{'vect__max_df': (0.01, 0.05, 0.5, 0.75, 1.0), 'vect__ngram_range': ((1, 1), (1, 2)), 'vect__use_idf': (True, False), 'clf__alpha': (1e-05, 1e-06)}\n",
      "Fitting 3 folds for each of 20 candidates, totalling 60 fits\n"
     ]
    },
    {
     "name": "stderr",
     "output_type": "stream",
     "text": [
      "[Parallel(n_jobs=4)]: Done  42 tasks      | elapsed:  1.9min\n",
      "[Parallel(n_jobs=4)]: Done  60 out of  60 | elapsed:  2.5min finished\n"
     ]
    },
    {
     "name": "stdout",
     "output_type": "stream",
     "text": [
      "done in 157.870s\n",
      "\n",
      "Best score: 0.663\n",
      "Best parameters set:\n",
      "\tclf__alpha: 1e-06\n",
      "\tvect__max_df: 0.05\n",
      "\tvect__ngram_range: (1, 2)\n",
      "\tvect__use_idf: True\n",
      "F1 score train: 0.66 F1 score test: 0.50\n",
      "soy-oil: Performing parameter search ...\n",
      "pipeline: ['vect', 'clf']\n",
      "parameters:\n",
      "{'vect__max_df': (0.01, 0.05, 0.5, 0.75, 1.0), 'vect__ngram_range': ((1, 1), (1, 2)), 'vect__use_idf': (True, False), 'clf__alpha': (1e-05, 1e-06)}\n",
      "Fitting 3 folds for each of 20 candidates, totalling 60 fits\n"
     ]
    },
    {
     "name": "stderr",
     "output_type": "stream",
     "text": [
      "[Parallel(n_jobs=4)]: Done  42 tasks      | elapsed:  1.9min\n",
      "[Parallel(n_jobs=4)]: Done  60 out of  60 | elapsed:  2.7min finished\n"
     ]
    },
    {
     "name": "stdout",
     "output_type": "stream",
     "text": [
      "done in 165.425s\n",
      "\n",
      "Best score: 0.244\n",
      "Best parameters set:\n",
      "\tclf__alpha: 1e-05\n",
      "\tvect__max_df: 1.0\n",
      "\tvect__ngram_range: (1, 1)\n",
      "\tvect__use_idf: True\n",
      "F1 score train: 0.24 F1 score test: 0.15\n",
      "earn: Performing parameter search ...\n",
      "pipeline: ['vect', 'clf']\n",
      "parameters:\n",
      "{'vect__max_df': (0.01, 0.05, 0.5, 0.75, 1.0), 'vect__ngram_range': ((1, 1), (1, 2)), 'vect__use_idf': (True, False), 'clf__alpha': (1e-05, 1e-06)}\n",
      "Fitting 3 folds for each of 20 candidates, totalling 60 fits\n"
     ]
    },
    {
     "name": "stderr",
     "output_type": "stream",
     "text": [
      "[Parallel(n_jobs=4)]: Done  42 tasks      | elapsed:  1.9min\n",
      "[Parallel(n_jobs=4)]: Done  60 out of  60 | elapsed:  2.7min finished\n"
     ]
    },
    {
     "name": "stdout",
     "output_type": "stream",
     "text": [
      "done in 161.207s\n",
      "\n",
      "Best score: 0.944\n",
      "Best parameters set:\n",
      "\tclf__alpha: 1e-05\n",
      "\tvect__max_df: 0.5\n",
      "\tvect__ngram_range: (1, 1)\n",
      "\tvect__use_idf: False\n",
      "F1 score train: 0.94 F1 score test: 0.81\n",
      "tin: Performing parameter search ...\n",
      "pipeline: ['vect', 'clf']\n",
      "parameters:\n",
      "{'vect__max_df': (0.01, 0.05, 0.5, 0.75, 1.0), 'vect__ngram_range': ((1, 1), (1, 2)), 'vect__use_idf': (True, False), 'clf__alpha': (1e-05, 1e-06)}\n",
      "Fitting 3 folds for each of 20 candidates, totalling 60 fits\n"
     ]
    },
    {
     "name": "stderr",
     "output_type": "stream",
     "text": [
      "[Parallel(n_jobs=4)]: Done  42 tasks      | elapsed:  2.0min\n",
      "[Parallel(n_jobs=4)]: Done  60 out of  60 | elapsed:  2.7min finished\n"
     ]
    },
    {
     "name": "stdout",
     "output_type": "stream",
     "text": [
      "done in 163.713s\n",
      "\n",
      "Best score: 0.798\n",
      "Best parameters set:\n",
      "\tclf__alpha: 1e-05\n",
      "\tvect__max_df: 0.75\n",
      "\tvect__ngram_range: (1, 1)\n",
      "\tvect__use_idf: True\n",
      "F1 score train: 0.80 F1 score test: 0.74\n",
      "corn: Performing parameter search ...\n",
      "pipeline: ['vect', 'clf']\n",
      "parameters:\n",
      "{'vect__max_df': (0.01, 0.05, 0.5, 0.75, 1.0), 'vect__ngram_range': ((1, 1), (1, 2)), 'vect__use_idf': (True, False), 'clf__alpha': (1e-05, 1e-06)}\n",
      "Fitting 3 folds for each of 20 candidates, totalling 60 fits\n"
     ]
    },
    {
     "name": "stderr",
     "output_type": "stream",
     "text": [
      "[Parallel(n_jobs=4)]: Done  42 tasks      | elapsed:  2.1min\n",
      "[Parallel(n_jobs=4)]: Done  60 out of  60 | elapsed:  2.7min finished\n"
     ]
    },
    {
     "name": "stdout",
     "output_type": "stream",
     "text": [
      "done in 170.481s\n",
      "\n",
      "Best score: 0.785\n",
      "Best parameters set:\n",
      "\tclf__alpha: 1e-05\n",
      "\tvect__max_df: 0.5\n",
      "\tvect__ngram_range: (1, 2)\n",
      "\tvect__use_idf: True\n",
      "F1 score train: 0.78 F1 score test: 0.80\n",
      "trade: Performing parameter search ...\n",
      "pipeline: ['vect', 'clf']\n",
      "parameters:\n",
      "{'vect__max_df': (0.01, 0.05, 0.5, 0.75, 1.0), 'vect__ngram_range': ((1, 1), (1, 2)), 'vect__use_idf': (True, False), 'clf__alpha': (1e-05, 1e-06)}\n",
      "Fitting 3 folds for each of 20 candidates, totalling 60 fits\n"
     ]
    },
    {
     "name": "stderr",
     "output_type": "stream",
     "text": [
      "[Parallel(n_jobs=4)]: Done  42 tasks      | elapsed:  2.0min\n",
      "[Parallel(n_jobs=4)]: Done  60 out of  60 | elapsed:  2.8min finished\n"
     ]
    },
    {
     "name": "stdout",
     "output_type": "stream",
     "text": [
      "done in 173.045s\n",
      "\n",
      "Best score: 0.735\n",
      "Best parameters set:\n",
      "\tclf__alpha: 1e-05\n",
      "\tvect__max_df: 1.0\n",
      "\tvect__ngram_range: (1, 2)\n",
      "\tvect__use_idf: True\n",
      "F1 score train: 0.73 F1 score test: 0.70\n",
      "money-fx: Performing parameter search ...\n",
      "pipeline: ['vect', 'clf']\n",
      "parameters:\n",
      "{'vect__max_df': (0.01, 0.05, 0.5, 0.75, 1.0), 'vect__ngram_range': ((1, 1), (1, 2)), 'vect__use_idf': (True, False), 'clf__alpha': (1e-05, 1e-06)}\n",
      "Fitting 3 folds for each of 20 candidates, totalling 60 fits\n"
     ]
    },
    {
     "name": "stderr",
     "output_type": "stream",
     "text": [
      "[Parallel(n_jobs=4)]: Done  42 tasks      | elapsed:  1.9min\n",
      "[Parallel(n_jobs=4)]: Done  60 out of  60 | elapsed:  2.7min finished\n"
     ]
    },
    {
     "name": "stdout",
     "output_type": "stream",
     "text": [
      "done in 161.856s\n",
      "\n",
      "Best score: 0.753\n",
      "Best parameters set:\n",
      "\tclf__alpha: 1e-05\n",
      "\tvect__max_df: 1.0\n",
      "\tvect__ngram_range: (1, 1)\n",
      "\tvect__use_idf: True\n",
      "F1 score train: 0.75 F1 score test: 0.53\n",
      "fuel: Performing parameter search ...\n",
      "pipeline: ['vect', 'clf']\n",
      "parameters:\n",
      "{'vect__max_df': (0.01, 0.05, 0.5, 0.75, 1.0), 'vect__ngram_range': ((1, 1), (1, 2)), 'vect__use_idf': (True, False), 'clf__alpha': (1e-05, 1e-06)}\n",
      "Fitting 3 folds for each of 20 candidates, totalling 60 fits\n"
     ]
    },
    {
     "name": "stderr",
     "output_type": "stream",
     "text": [
      "[Parallel(n_jobs=4)]: Done  42 tasks      | elapsed:  1.8min\n",
      "[Parallel(n_jobs=4)]: Done  60 out of  60 | elapsed:  2.5min finished\n"
     ]
    },
    {
     "name": "stdout",
     "output_type": "stream",
     "text": [
      "done in 149.559s\n",
      "\n",
      "Best score: 0.333\n",
      "Best parameters set:\n",
      "\tclf__alpha: 1e-06\n",
      "\tvect__max_df: 0.5\n",
      "\tvect__ngram_range: (1, 1)\n",
      "\tvect__use_idf: True\n",
      "F1 score train: 0.33 F1 score test: 0.18\n",
      "sorghum: Performing parameter search ...\n",
      "pipeline: ['vect', 'clf']\n",
      "parameters:\n",
      "{'vect__max_df': (0.01, 0.05, 0.5, 0.75, 1.0), 'vect__ngram_range': ((1, 1), (1, 2)), 'vect__use_idf': (True, False), 'clf__alpha': (1e-05, 1e-06)}\n",
      "Fitting 3 folds for each of 20 candidates, totalling 60 fits\n"
     ]
    },
    {
     "name": "stderr",
     "output_type": "stream",
     "text": [
      "[Parallel(n_jobs=4)]: Done  42 tasks      | elapsed:  2.2min\n",
      "[Parallel(n_jobs=4)]: Done  60 out of  60 | elapsed:  2.9min finished\n"
     ]
    },
    {
     "name": "stdout",
     "output_type": "stream",
     "text": [
      "done in 175.868s\n",
      "\n",
      "Best score: 0.470\n",
      "Best parameters set:\n",
      "\tclf__alpha: 1e-05\n",
      "\tvect__max_df: 0.01\n",
      "\tvect__ngram_range: (1, 1)\n",
      "\tvect__use_idf: False\n",
      "F1 score train: 0.47 F1 score test: 0.71\n",
      "sugar: Performing parameter search ...\n",
      "pipeline: ['vect', 'clf']\n",
      "parameters:\n",
      "{'vect__max_df': (0.01, 0.05, 0.5, 0.75, 1.0), 'vect__ngram_range': ((1, 1), (1, 2)), 'vect__use_idf': (True, False), 'clf__alpha': (1e-05, 1e-06)}\n",
      "Fitting 3 folds for each of 20 candidates, totalling 60 fits\n"
     ]
    },
    {
     "name": "stderr",
     "output_type": "stream",
     "text": [
      "[Parallel(n_jobs=4)]: Done  42 tasks      | elapsed:  1.9min\n",
      "[Parallel(n_jobs=4)]: Done  60 out of  60 | elapsed:  2.7min finished\n"
     ]
    },
    {
     "name": "stdout",
     "output_type": "stream",
     "text": [
      "done in 168.173s\n",
      "\n",
      "Best score: 0.864\n",
      "Best parameters set:\n",
      "\tclf__alpha: 1e-06\n",
      "\tvect__max_df: 1.0\n",
      "\tvect__ngram_range: (1, 2)\n",
      "\tvect__use_idf: True\n",
      "F1 score train: 0.86 F1 score test: 0.84\n",
      "rubber: Performing parameter search ...\n",
      "pipeline: ['vect', 'clf']\n",
      "parameters:\n",
      "{'vect__max_df': (0.01, 0.05, 0.5, 0.75, 1.0), 'vect__ngram_range': ((1, 1), (1, 2)), 'vect__use_idf': (True, False), 'clf__alpha': (1e-05, 1e-06)}\n",
      "Fitting 3 folds for each of 20 candidates, totalling 60 fits\n"
     ]
    },
    {
     "name": "stderr",
     "output_type": "stream",
     "text": [
      "[Parallel(n_jobs=4)]: Done  42 tasks      | elapsed:  2.1min\n",
      "[Parallel(n_jobs=4)]: Done  60 out of  60 | elapsed:  2.8min finished\n"
     ]
    },
    {
     "name": "stdout",
     "output_type": "stream",
     "text": [
      "done in 170.866s\n",
      "\n",
      "Best score: 0.752\n",
      "Best parameters set:\n",
      "\tclf__alpha: 1e-05\n",
      "\tvect__max_df: 0.75\n",
      "\tvect__ngram_range: (1, 1)\n",
      "\tvect__use_idf: False\n",
      "F1 score train: 0.75 F1 score test: 0.67\n",
      "barley: Performing parameter search ...\n",
      "pipeline: ['vect', 'clf']\n",
      "parameters:\n",
      "{'vect__max_df': (0.01, 0.05, 0.5, 0.75, 1.0), 'vect__ngram_range': ((1, 1), (1, 2)), 'vect__use_idf': (True, False), 'clf__alpha': (1e-05, 1e-06)}\n",
      "Fitting 3 folds for each of 20 candidates, totalling 60 fits\n"
     ]
    },
    {
     "name": "stderr",
     "output_type": "stream",
     "text": [
      "[Parallel(n_jobs=4)]: Done  42 tasks      | elapsed:  1.9min\n",
      "[Parallel(n_jobs=4)]: Done  60 out of  60 | elapsed:  2.6min finished\n"
     ]
    },
    {
     "name": "stdout",
     "output_type": "stream",
     "text": [
      "done in 163.078s\n",
      "\n",
      "Best score: 0.594\n",
      "Best parameters set:\n",
      "\tclf__alpha: 1e-06\n",
      "\tvect__max_df: 1.0\n",
      "\tvect__ngram_range: (1, 2)\n",
      "\tvect__use_idf: False\n",
      "F1 score train: 0.59 F1 score test: 0.64\n",
      "lumber: Performing parameter search ...\n",
      "pipeline: ['vect', 'clf']\n",
      "parameters:\n",
      "{'vect__max_df': (0.01, 0.05, 0.5, 0.75, 1.0), 'vect__ngram_range': ((1, 1), (1, 2)), 'vect__use_idf': (True, False), 'clf__alpha': (1e-05, 1e-06)}\n",
      "Fitting 3 folds for each of 20 candidates, totalling 60 fits\n"
     ]
    },
    {
     "name": "stderr",
     "output_type": "stream",
     "text": [
      "[Parallel(n_jobs=4)]: Done  42 tasks      | elapsed:  2.1min\n",
      "[Parallel(n_jobs=4)]: Done  60 out of  60 | elapsed:  2.9min finished\n"
     ]
    },
    {
     "name": "stdout",
     "output_type": "stream",
     "text": [
      "done in 177.699s\n",
      "\n",
      "Best score: 0.167\n",
      "Best parameters set:\n",
      "\tclf__alpha: 1e-06\n",
      "\tvect__max_df: 0.05\n",
      "\tvect__ngram_range: (1, 2)\n",
      "\tvect__use_idf: False\n",
      "F1 score train: 0.17 F1 score test: 0.29\n",
      "crude: Performing parameter search ...\n",
      "pipeline: ['vect', 'clf']\n",
      "parameters:\n",
      "{'vect__max_df': (0.01, 0.05, 0.5, 0.75, 1.0), 'vect__ngram_range': ((1, 1), (1, 2)), 'vect__use_idf': (True, False), 'clf__alpha': (1e-05, 1e-06)}\n",
      "Fitting 3 folds for each of 20 candidates, totalling 60 fits\n"
     ]
    },
    {
     "name": "stderr",
     "output_type": "stream",
     "text": [
      "[Parallel(n_jobs=4)]: Done  42 tasks      | elapsed:  1.8min\n",
      "[Parallel(n_jobs=4)]: Done  60 out of  60 | elapsed:  2.4min finished\n"
     ]
    },
    {
     "name": "stdout",
     "output_type": "stream",
     "text": [
      "done in 149.673s\n",
      "\n",
      "Best score: 0.824\n",
      "Best parameters set:\n",
      "\tclf__alpha: 1e-06\n",
      "\tvect__max_df: 0.75\n",
      "\tvect__ngram_range: (1, 2)\n",
      "\tvect__use_idf: True\n",
      "F1 score train: 0.82 F1 score test: 0.82\n",
      "rice: Performing parameter search ...\n",
      "pipeline: ['vect', 'clf']\n",
      "parameters:\n",
      "{'vect__max_df': (0.01, 0.05, 0.5, 0.75, 1.0), 'vect__ngram_range': ((1, 1), (1, 2)), 'vect__use_idf': (True, False), 'clf__alpha': (1e-05, 1e-06)}\n",
      "Fitting 3 folds for each of 20 candidates, totalling 60 fits\n"
     ]
    },
    {
     "name": "stderr",
     "output_type": "stream",
     "text": [
      "[Parallel(n_jobs=4)]: Done  42 tasks      | elapsed:  2.2min\n",
      "[Parallel(n_jobs=4)]: Done  60 out of  60 | elapsed:  3.0min finished\n"
     ]
    },
    {
     "name": "stdout",
     "output_type": "stream",
     "text": [
      "done in 185.543s\n",
      "\n",
      "Best score: 0.722\n",
      "Best parameters set:\n",
      "\tclf__alpha: 1e-06\n",
      "\tvect__max_df: 0.01\n",
      "\tvect__ngram_range: (1, 2)\n",
      "\tvect__use_idf: True\n",
      "F1 score train: 0.72 F1 score test: 0.65\n",
      "pet-chem: Performing parameter search ...\n",
      "pipeline: ['vect', 'clf']\n",
      "parameters:\n",
      "{'vect__max_df': (0.01, 0.05, 0.5, 0.75, 1.0), 'vect__ngram_range': ((1, 1), (1, 2)), 'vect__use_idf': (True, False), 'clf__alpha': (1e-05, 1e-06)}\n",
      "Fitting 3 folds for each of 20 candidates, totalling 60 fits\n"
     ]
    },
    {
     "name": "stderr",
     "output_type": "stream",
     "text": [
      "[Parallel(n_jobs=4)]: Done  42 tasks      | elapsed:  1.8min\n",
      "[Parallel(n_jobs=4)]: Done  60 out of  60 | elapsed:  2.4min finished\n"
     ]
    },
    {
     "name": "stdout",
     "output_type": "stream",
     "text": [
      "done in 144.941s\n",
      "\n",
      "Best score: 0.148\n",
      "Best parameters set:\n",
      "\tclf__alpha: 1e-06\n",
      "\tvect__max_df: 0.01\n",
      "\tvect__ngram_range: (1, 1)\n",
      "\tvect__use_idf: True\n",
      "F1 score train: 0.15 F1 score test: 0.14\n",
      "palm-oil: Performing parameter search ...\n",
      "pipeline: ['vect', 'clf']\n",
      "parameters:\n",
      "{'vect__max_df': (0.01, 0.05, 0.5, 0.75, 1.0), 'vect__ngram_range': ((1, 1), (1, 2)), 'vect__use_idf': (True, False), 'clf__alpha': (1e-05, 1e-06)}\n",
      "Fitting 3 folds for each of 20 candidates, totalling 60 fits\n"
     ]
    },
    {
     "name": "stderr",
     "output_type": "stream",
     "text": [
      "[Parallel(n_jobs=4)]: Done  42 tasks      | elapsed:  1.9min\n",
      "[Parallel(n_jobs=4)]: Done  60 out of  60 | elapsed:  2.6min finished\n"
     ]
    },
    {
     "name": "stdout",
     "output_type": "stream",
     "text": [
      "done in 155.202s\n",
      "\n",
      "Best score: 0.682\n",
      "Best parameters set:\n",
      "\tclf__alpha: 1e-05\n",
      "\tvect__max_df: 0.01\n",
      "\tvect__ngram_range: (1, 1)\n",
      "\tvect__use_idf: False\n",
      "F1 score train: 0.68 F1 score test: 0.75\n"
     ]
    }
   ],
   "source": [
    "# Define a pipeline combining a text feature extractor with multi label classifier\n",
    "# And find best parameters for EACH class\n",
    "SGD_clf = Pipeline([\n",
    "    ('tfidf', TfidfVectorizer(stop_words = stop_words)),\n",
    "    ('clf', SGDClassifier()),\n",
    "])\n",
    "\n",
    "sgd_grid_results = {}\n",
    "\n",
    "parameters = {\n",
    "    'tfidf__max_df': (0.01, 0.05, 0.5, 0.75, 1.0),\n",
    "    'tfidf__ngram_range': ((1, 1), (1, 2)),  # unigrams or bigrams\n",
    "    'tfidf__use_idf': (True, False),\n",
    "    'tfidf__smooth_idf': (True, False),\n",
    "    'tfidf__sublinear_tf': (True, False),\n",
    "    'clf__alpha': (0.00001, 0.000001),\n",
    "}\n",
    "\n",
    "random_search = RandomizedSearchCV(SGD_clf, parameters, n_jobs=4, n_iter=20, verbose=1, scoring='f1')\n",
    "# scoring = If None, the estimator’s default scorer is used (usually accuracy).\n",
    "\n",
    "for category in categories_with_enough_obs:\n",
    "    print(\"{}: Performing parameter search ...\".format(category))\n",
    "    print(\"pipeline:\", [name for name, _ in SGD_clf.steps])\n",
    "    print(\"parameters:\")\n",
    "    print(parameters)\n",
    "    start = time()\n",
    "    random_search.fit(X_train.txt_combined.tolist(), X_train[category])\n",
    "    print(\"done in {:0.3f}s\".format(time() - start))\n",
    "    print()\n",
    "    print(\"Best score: {:0.3f}\".format(random_search.best_score_))\n",
    "    params = {}\n",
    "    print(\"Best parameters set:\")\n",
    "    best_parameters = random_search.best_estimator_.get_params()\n",
    "    for param_name in sorted(parameters.keys()):\n",
    "        params[param_name] = best_parameters[param_name]\n",
    "        print(\"\\t{}: {}\".format(param_name, best_parameters[param_name]))\n",
    "#     sgd_grid_results[category] = [random_search.best_score_,params]\n",
    "    prediction = random_search.predict(X_test.txt_combined)\n",
    "    f1_value = f1_score(X_test[category], prediction)\n",
    "    sgd_grid_results[category] = [random_search.best_score_, f1_value, params]\n",
    "    print('F1 score train: {:.2f} F1 score test: {:.2f}'.format(random_search.best_score_, f1_value))"
   ]
  },
  {
   "cell_type": "code",
   "execution_count": 57,
   "metadata": {},
   "outputs": [
    {
     "name": "stdout",
     "output_type": "stream",
     "text": [
      "{}: Performing parameter search ...\n",
      "pipeline: ['tfidf', 'clf']\n",
      "parameters:\n",
      "{'tfidf__max_df': (0.01, 0.05, 0.5, 0.75, 1.0), 'tfidf__ngram_range': ((1, 1), (1, 2)), 'tfidf__use_idf': (True, False), 'tfidf__smooth_idf': (True, False), 'tfidf__sublinear_tf': (True, False), 'clf__estimator__alpha': (1e-05, 1e-06)}\n",
      "Fitting 3 folds for each of 20 candidates, totalling 60 fits\n"
     ]
    },
    {
     "name": "stderr",
     "output_type": "stream",
     "text": [
      "[Parallel(n_jobs=4)]: Done  42 tasks      | elapsed:  3.6min\n",
      "[Parallel(n_jobs=4)]: Done  60 out of  60 | elapsed:  4.5min finished\n"
     ]
    },
    {
     "name": "stdout",
     "output_type": "stream",
     "text": [
      "done in 280.746s\n",
      "\n",
      "Best score: 0.789\n",
      "Best parameters set:\n",
      "F1 score train: 0.79 F1 score test: 0.74\n"
     ]
    }
   ],
   "source": [
    "# Find the overall best parameters\n",
    "SGD_clf = Pipeline([\n",
    "    ('tfidf', TfidfVectorizer(stop_words = stop_words)),\n",
    "    ('clf', OneVsRestClassifier(SGDClassifier(), n_jobs=6)),\n",
    "])\n",
    "\n",
    "parameters = {\n",
    "    'tfidf__max_df': (0.01, 0.05, 0.5, 0.75, 1.0),\n",
    "    'tfidf__ngram_range': ((1, 1), (1, 2)),  # unigrams or bigrams\n",
    "    'tfidf__use_idf': (True, False),\n",
    "    'tfidf__smooth_idf': (True, False),\n",
    "    'tfidf__sublinear_tf': (True, False),\n",
    "    'clf__estimator__alpha': (0.00001, 0.000001),\n",
    "}\n",
    "\n",
    "random_search = RandomizedSearchCV(SGD_clf, parameters, n_jobs=4, n_iter=20, verbose=1, scoring='f1_weighted')\n",
    "print(\"{}: Performing parameter search ...\")\n",
    "print(\"pipeline:\", [name for name, _ in SGD_clf.steps])\n",
    "print(\"parameters:\")\n",
    "print(parameters)\n",
    "start = time()\n",
    "random_search.fit(X_train.txt_combined.tolist(), Y_train)\n",
    "print(\"done in {:0.3f}s\".format(time() - start))\n",
    "print()\n",
    "print(\"Best score: {:0.3f}\".format(random_search.best_score_))\n",
    "params = {}\n",
    "print(\"Best parameters set:\")\n",
    "best_parameters = random_search.best_estimator_.get_params()\n",
    "\n",
    "prediction = random_search.predict(X_test.txt_combined.tolist())\n",
    "sgd_tuned_f1 = f1_score(X_test[categories_with_enough_obs].as_matrix(), prediction, average='weighted')\n",
    "print('F1 score train: {:.2f} F1 score test: {:.2f}'.format(random_search.best_score_, sgd_tuned_f1))"
   ]
  },
  {
   "cell_type": "code",
   "execution_count": 58,
   "metadata": {},
   "outputs": [
    {
     "name": "stdout",
     "output_type": "stream",
     "text": [
      "{}: Performing parameter search ...\n",
      "pipeline: ['tfidf', 'clf']\n",
      "parameters:\n",
      "{'clf__estimator__C': [0.01, 0.1, 1, 10, 100, 1000], 'tfidf__max_df': (0.01, 0.05, 0.5, 0.75, 1.0), 'tfidf__ngram_range': ((1, 1), (1, 2)), 'tfidf__smooth_idf': (True, False), 'tfidf__sublinear_tf': (True, False)}\n",
      "Fitting 3 folds for each of 20 candidates, totalling 60 fits\n"
     ]
    },
    {
     "name": "stderr",
     "output_type": "stream",
     "text": [
      "[Parallel(n_jobs=4)]: Done  42 tasks      | elapsed: 25.8min\n",
      "[Parallel(n_jobs=4)]: Done  60 out of  60 | elapsed: 28.3min finished\n"
     ]
    },
    {
     "name": "stdout",
     "output_type": "stream",
     "text": [
      "done in 1746.014s\n",
      "\n",
      "Best score: 0.790\n",
      "Best parameters set:\n",
      "F1 score train: 0.79 SVC score test: 0.74\n"
     ]
    }
   ],
   "source": [
    "# Find the best overall parameters\n",
    "SVC_clf = Pipeline([\n",
    "    ('tfidf', TfidfVectorizer(stop_words = stop_words)),\n",
    "    ('clf', OneVsRestClassifier(LinearSVC(), n_jobs=6)),\n",
    "])\n",
    "\n",
    "parameters = {\n",
    "    'clf__estimator__C': [0.01, 0.1, 1, 10, 100, 1000],\n",
    "    'tfidf__max_df': (0.01, 0.05, 0.5, 0.75, 1.0),\n",
    "    'tfidf__ngram_range': ((1, 1), (1, 2)),\n",
    "    'tfidf__smooth_idf': (True, False),\n",
    "    'tfidf__sublinear_tf': (True, False),\n",
    "}\n",
    "\n",
    "random_search = RandomizedSearchCV(SVC_clf, parameters, n_jobs=4, n_iter=20, verbose=1, scoring='f1_weighted')\n",
    "print(\"{}: Performing parameter search ...\")\n",
    "print(\"pipeline:\", [name for name, _ in SVC_clf.steps])\n",
    "print(\"parameters:\")\n",
    "print(parameters)\n",
    "start = time()\n",
    "random_search.fit(X_train.txt_combined.tolist(), Y_train)\n",
    "print(\"done in {:0.3f}s\".format(time() - start))\n",
    "print()\n",
    "print(\"Best score: {:0.3f}\".format(random_search.best_score_))\n",
    "params = {}\n",
    "print(\"Best parameters set:\")\n",
    "best_parameters = random_search.best_estimator_.get_params()\n",
    "\n",
    "prediction = random_search.predict(X_test.txt_combined.tolist())\n",
    "svc_tuned_f1 = f1_score(X_test[categories_with_enough_obs].as_matrix(), prediction, average='weighted')\n",
    "print('F1 score train: {:.2f} F1 score test: {:.2f}'.format(random_search.best_score_, svc_tuned_f1))"
   ]
  },
  {
   "cell_type": "code",
   "execution_count": 59,
   "metadata": {},
   "outputs": [
    {
     "name": "stdout",
     "output_type": "stream",
     "text": [
      "{}: Performing parameter search ...\n",
      "pipeline: ['tfidf', 'clf']\n",
      "parameters:\n",
      "{'tfidf__max_df': (0.01, 0.05, 0.5, 0.75, 1.0), 'tfidf__ngram_range': ((1, 1), (1, 2)), 'tfidf__smooth_idf': (True, False), 'tfidf__sublinear_tf': (True, False), 'clf__estimator__alpha': (1e-05, 1e-06, 0.001, 0.1, 0.5, 0.8)}\n",
      "Fitting 3 folds for each of 20 candidates, totalling 60 fits\n"
     ]
    },
    {
     "name": "stderr",
     "output_type": "stream",
     "text": [
      "[Parallel(n_jobs=4)]: Done  42 tasks      | elapsed:  2.7min\n",
      "[Parallel(n_jobs=4)]: Done  60 out of  60 | elapsed:  4.0min finished\n"
     ]
    },
    {
     "name": "stdout",
     "output_type": "stream",
     "text": [
      "done in 255.265s\n",
      "\n",
      "Best score: 0.629\n",
      "Best parameters set:\n",
      "F1 score train: 0.63 NB score test: 0.60\n"
     ]
    }
   ],
   "source": [
    "# Find the best overall parameters\n",
    "NB_clf = Pipeline([\n",
    "    ('tfidf', TfidfVectorizer(stop_words = stop_words)),\n",
    "    ('clf', OneVsRestClassifier(MultinomialNB(\n",
    "                    fit_prior=False, class_prior=None), n_jobs=6)),\n",
    "])\n",
    "\n",
    "parameters = {\n",
    "    'tfidf__max_df': (0.01, 0.05, 0.5, 0.75, 1.0),\n",
    "    'tfidf__ngram_range': ((1, 1), (1, 2)),\n",
    "    'tfidf__smooth_idf': (True, False),\n",
    "    'tfidf__sublinear_tf': (True, False),\n",
    "    'clf__estimator__alpha': (0.00001, 0.000001, 0.001, 0.1, 0.5, 0.8),\n",
    "}\n",
    "\n",
    "random_search = RandomizedSearchCV(NB_clf, parameters, n_jobs=4, n_iter=20, verbose=1, scoring='f1_weighted')\n",
    "print(\"{}: Performing parameter search ...\")\n",
    "print(\"pipeline:\", [name for name, _ in NB_clf.steps])\n",
    "print(\"parameters:\")\n",
    "print(parameters)\n",
    "start = time()\n",
    "random_search.fit(X_train.txt_combined.tolist(), Y_train)\n",
    "print(\"done in {:0.3f}s\".format(time() - start))\n",
    "print()\n",
    "print(\"Best score: {:0.3f}\".format(random_search.best_score_))\n",
    "params = {}\n",
    "print(\"Best parameters set:\")\n",
    "best_parameters = random_search.best_estimator_.get_params()\n",
    "\n",
    "prediction = random_search.predict(X_test.txt_combined.tolist())\n",
    "nb_tuned_f1 = f1_score(X_test[categories_with_enough_obs].as_matrix(), prediction, average='weighted')\n",
    "print('F1 score train: {:.2f} F1 score test: {:.2f}'.format(random_search.best_score_, nb_tuned_f1))"
   ]
  },
  {
   "cell_type": "code",
   "execution_count": 75,
   "metadata": {},
   "outputs": [
    {
     "name": "stdout",
     "output_type": "stream",
     "text": [
      "{}: Performing parameter search ...\n",
      "pipeline: ['tfidf', 'clf']\n",
      "parameters:\n",
      "{'tfidf__max_df': (0.01, 0.05, 0.5, 0.75, 1.0), 'tfidf__ngram_range': ((1, 1), (1, 2)), 'tfidf__smooth_idf': (True, False), 'tfidf__sublinear_tf': (True, False), 'clf__estimator__alpha': (1e-05, 1e-06, 0.001, 0.1, 0.5, 0.8), 'clf__estimator__hidden_layer_sizes': [(3, 2), (4, 2), (5, 2), (7, 2), (6, 3), (100,), (100, 2), (150,), (150, 2), (200,), (200, 2)], 'clf__estimator__tol': (0.01, 0.001, 0.0001, 1e-05, 1e-06), 'clf__estimator__epsilon': (0.001, 1e-07, 1e-08, 1e-09, 1e-08), 'clf__estimator__solver': ('lbfgs', 'adam')}\n",
      "Fitting 3 folds for each of 20 candidates, totalling 60 fits\n"
     ]
    },
    {
     "ename": "KeyboardInterrupt",
     "evalue": "",
     "output_type": "error",
     "traceback": [
      "\u001b[0;31m---------------------------------------------------------------------------\u001b[0m",
      "\u001b[0;31mKeyboardInterrupt\u001b[0m                         Traceback (most recent call last)",
      "\u001b[0;32m/Library/Frameworks/Python.framework/Versions/3.6/lib/python3.6/site-packages/sklearn/externals/joblib/parallel.py\u001b[0m in \u001b[0;36m__call__\u001b[0;34m(self, iterable)\u001b[0m\n\u001b[1;32m    778\u001b[0m             \u001b[0;31m# case of Parallel used with an exhausted iterator.\u001b[0m\u001b[0;34m\u001b[0m\u001b[0;34m\u001b[0m\u001b[0m\n\u001b[0;32m--> 779\u001b[0;31m             \u001b[0;32mwhile\u001b[0m \u001b[0mself\u001b[0m\u001b[0;34m.\u001b[0m\u001b[0mdispatch_one_batch\u001b[0m\u001b[0;34m(\u001b[0m\u001b[0miterator\u001b[0m\u001b[0;34m)\u001b[0m\u001b[0;34m:\u001b[0m\u001b[0;34m\u001b[0m\u001b[0m\n\u001b[0m\u001b[1;32m    780\u001b[0m                 \u001b[0mself\u001b[0m\u001b[0;34m.\u001b[0m\u001b[0m_iterating\u001b[0m \u001b[0;34m=\u001b[0m \u001b[0;32mTrue\u001b[0m\u001b[0;34m\u001b[0m\u001b[0m\n",
      "\u001b[0;32m/Library/Frameworks/Python.framework/Versions/3.6/lib/python3.6/site-packages/sklearn/externals/joblib/parallel.py\u001b[0m in \u001b[0;36mdispatch_one_batch\u001b[0;34m(self, iterator)\u001b[0m\n\u001b[1;32m    624\u001b[0m             \u001b[0;32melse\u001b[0m\u001b[0;34m:\u001b[0m\u001b[0;34m\u001b[0m\u001b[0m\n\u001b[0;32m--> 625\u001b[0;31m                 \u001b[0mself\u001b[0m\u001b[0;34m.\u001b[0m\u001b[0m_dispatch\u001b[0m\u001b[0;34m(\u001b[0m\u001b[0mtasks\u001b[0m\u001b[0;34m)\u001b[0m\u001b[0;34m\u001b[0m\u001b[0m\n\u001b[0m\u001b[1;32m    626\u001b[0m                 \u001b[0;32mreturn\u001b[0m \u001b[0;32mTrue\u001b[0m\u001b[0;34m\u001b[0m\u001b[0m\n",
      "\u001b[0;32m/Library/Frameworks/Python.framework/Versions/3.6/lib/python3.6/site-packages/sklearn/externals/joblib/parallel.py\u001b[0m in \u001b[0;36m_dispatch\u001b[0;34m(self, batch)\u001b[0m\n\u001b[1;32m    587\u001b[0m         \u001b[0mcb\u001b[0m \u001b[0;34m=\u001b[0m \u001b[0mBatchCompletionCallBack\u001b[0m\u001b[0;34m(\u001b[0m\u001b[0mdispatch_timestamp\u001b[0m\u001b[0;34m,\u001b[0m \u001b[0mlen\u001b[0m\u001b[0;34m(\u001b[0m\u001b[0mbatch\u001b[0m\u001b[0;34m)\u001b[0m\u001b[0;34m,\u001b[0m \u001b[0mself\u001b[0m\u001b[0;34m)\u001b[0m\u001b[0;34m\u001b[0m\u001b[0m\n\u001b[0;32m--> 588\u001b[0;31m         \u001b[0mjob\u001b[0m \u001b[0;34m=\u001b[0m \u001b[0mself\u001b[0m\u001b[0;34m.\u001b[0m\u001b[0m_backend\u001b[0m\u001b[0;34m.\u001b[0m\u001b[0mapply_async\u001b[0m\u001b[0;34m(\u001b[0m\u001b[0mbatch\u001b[0m\u001b[0;34m,\u001b[0m \u001b[0mcallback\u001b[0m\u001b[0;34m=\u001b[0m\u001b[0mcb\u001b[0m\u001b[0;34m)\u001b[0m\u001b[0;34m\u001b[0m\u001b[0m\n\u001b[0m\u001b[1;32m    589\u001b[0m         \u001b[0mself\u001b[0m\u001b[0;34m.\u001b[0m\u001b[0m_jobs\u001b[0m\u001b[0;34m.\u001b[0m\u001b[0mappend\u001b[0m\u001b[0;34m(\u001b[0m\u001b[0mjob\u001b[0m\u001b[0;34m)\u001b[0m\u001b[0;34m\u001b[0m\u001b[0m\n",
      "\u001b[0;32m/Library/Frameworks/Python.framework/Versions/3.6/lib/python3.6/site-packages/sklearn/externals/joblib/_parallel_backends.py\u001b[0m in \u001b[0;36mapply_async\u001b[0;34m(self, func, callback)\u001b[0m\n\u001b[1;32m    110\u001b[0m         \u001b[0;34m\"\"\"Schedule a func to be run\"\"\"\u001b[0m\u001b[0;34m\u001b[0m\u001b[0m\n\u001b[0;32m--> 111\u001b[0;31m         \u001b[0mresult\u001b[0m \u001b[0;34m=\u001b[0m \u001b[0mImmediateResult\u001b[0m\u001b[0;34m(\u001b[0m\u001b[0mfunc\u001b[0m\u001b[0;34m)\u001b[0m\u001b[0;34m\u001b[0m\u001b[0m\n\u001b[0m\u001b[1;32m    112\u001b[0m         \u001b[0;32mif\u001b[0m \u001b[0mcallback\u001b[0m\u001b[0;34m:\u001b[0m\u001b[0;34m\u001b[0m\u001b[0m\n",
      "\u001b[0;32m/Library/Frameworks/Python.framework/Versions/3.6/lib/python3.6/site-packages/sklearn/externals/joblib/_parallel_backends.py\u001b[0m in \u001b[0;36m__init__\u001b[0;34m(self, batch)\u001b[0m\n\u001b[1;32m    331\u001b[0m         \u001b[0;31m# arguments in memory\u001b[0m\u001b[0;34m\u001b[0m\u001b[0;34m\u001b[0m\u001b[0m\n\u001b[0;32m--> 332\u001b[0;31m         \u001b[0mself\u001b[0m\u001b[0;34m.\u001b[0m\u001b[0mresults\u001b[0m \u001b[0;34m=\u001b[0m \u001b[0mbatch\u001b[0m\u001b[0;34m(\u001b[0m\u001b[0;34m)\u001b[0m\u001b[0;34m\u001b[0m\u001b[0m\n\u001b[0m\u001b[1;32m    333\u001b[0m \u001b[0;34m\u001b[0m\u001b[0m\n",
      "\u001b[0;32m/Library/Frameworks/Python.framework/Versions/3.6/lib/python3.6/site-packages/sklearn/externals/joblib/parallel.py\u001b[0m in \u001b[0;36m__call__\u001b[0;34m(self)\u001b[0m\n\u001b[1;32m    130\u001b[0m     \u001b[0;32mdef\u001b[0m \u001b[0m__call__\u001b[0m\u001b[0;34m(\u001b[0m\u001b[0mself\u001b[0m\u001b[0;34m)\u001b[0m\u001b[0;34m:\u001b[0m\u001b[0;34m\u001b[0m\u001b[0m\n\u001b[0;32m--> 131\u001b[0;31m         \u001b[0;32mreturn\u001b[0m \u001b[0;34m[\u001b[0m\u001b[0mfunc\u001b[0m\u001b[0;34m(\u001b[0m\u001b[0;34m*\u001b[0m\u001b[0margs\u001b[0m\u001b[0;34m,\u001b[0m \u001b[0;34m**\u001b[0m\u001b[0mkwargs\u001b[0m\u001b[0;34m)\u001b[0m \u001b[0;32mfor\u001b[0m \u001b[0mfunc\u001b[0m\u001b[0;34m,\u001b[0m \u001b[0margs\u001b[0m\u001b[0;34m,\u001b[0m \u001b[0mkwargs\u001b[0m \u001b[0;32min\u001b[0m \u001b[0mself\u001b[0m\u001b[0;34m.\u001b[0m\u001b[0mitems\u001b[0m\u001b[0;34m]\u001b[0m\u001b[0;34m\u001b[0m\u001b[0m\n\u001b[0m\u001b[1;32m    132\u001b[0m \u001b[0;34m\u001b[0m\u001b[0m\n",
      "\u001b[0;32m/Library/Frameworks/Python.framework/Versions/3.6/lib/python3.6/site-packages/sklearn/externals/joblib/parallel.py\u001b[0m in \u001b[0;36m<listcomp>\u001b[0;34m(.0)\u001b[0m\n\u001b[1;32m    130\u001b[0m     \u001b[0;32mdef\u001b[0m \u001b[0m__call__\u001b[0m\u001b[0;34m(\u001b[0m\u001b[0mself\u001b[0m\u001b[0;34m)\u001b[0m\u001b[0;34m:\u001b[0m\u001b[0;34m\u001b[0m\u001b[0m\n\u001b[0;32m--> 131\u001b[0;31m         \u001b[0;32mreturn\u001b[0m \u001b[0;34m[\u001b[0m\u001b[0mfunc\u001b[0m\u001b[0;34m(\u001b[0m\u001b[0;34m*\u001b[0m\u001b[0margs\u001b[0m\u001b[0;34m,\u001b[0m \u001b[0;34m**\u001b[0m\u001b[0mkwargs\u001b[0m\u001b[0;34m)\u001b[0m \u001b[0;32mfor\u001b[0m \u001b[0mfunc\u001b[0m\u001b[0;34m,\u001b[0m \u001b[0margs\u001b[0m\u001b[0;34m,\u001b[0m \u001b[0mkwargs\u001b[0m \u001b[0;32min\u001b[0m \u001b[0mself\u001b[0m\u001b[0;34m.\u001b[0m\u001b[0mitems\u001b[0m\u001b[0;34m]\u001b[0m\u001b[0;34m\u001b[0m\u001b[0m\n\u001b[0m\u001b[1;32m    132\u001b[0m \u001b[0;34m\u001b[0m\u001b[0m\n",
      "\u001b[0;32m/Library/Frameworks/Python.framework/Versions/3.6/lib/python3.6/site-packages/sklearn/multiclass.py\u001b[0m in \u001b[0;36m_fit_binary\u001b[0;34m(estimator, X, y, classes)\u001b[0m\n\u001b[1;32m     79\u001b[0m         \u001b[0mestimator\u001b[0m \u001b[0;34m=\u001b[0m \u001b[0mclone\u001b[0m\u001b[0;34m(\u001b[0m\u001b[0mestimator\u001b[0m\u001b[0;34m)\u001b[0m\u001b[0;34m\u001b[0m\u001b[0m\n\u001b[0;32m---> 80\u001b[0;31m         \u001b[0mestimator\u001b[0m\u001b[0;34m.\u001b[0m\u001b[0mfit\u001b[0m\u001b[0;34m(\u001b[0m\u001b[0mX\u001b[0m\u001b[0;34m,\u001b[0m \u001b[0my\u001b[0m\u001b[0;34m)\u001b[0m\u001b[0;34m\u001b[0m\u001b[0m\n\u001b[0m\u001b[1;32m     81\u001b[0m     \u001b[0;32mreturn\u001b[0m \u001b[0mestimator\u001b[0m\u001b[0;34m\u001b[0m\u001b[0m\n",
      "\u001b[0;32m/Library/Frameworks/Python.framework/Versions/3.6/lib/python3.6/site-packages/sklearn/neural_network/multilayer_perceptron.py\u001b[0m in \u001b[0;36mfit\u001b[0;34m(self, X, y)\u001b[0m\n\u001b[1;32m    972\u001b[0m         return self._fit(X, y, incremental=(self.warm_start and\n\u001b[0;32m--> 973\u001b[0;31m                                             hasattr(self, \"classes_\")))\n\u001b[0m\u001b[1;32m    974\u001b[0m \u001b[0;34m\u001b[0m\u001b[0m\n",
      "\u001b[0;31mKeyboardInterrupt\u001b[0m: ",
      "\nDuring handling of the above exception, another exception occurred:\n",
      "\u001b[0;31mKeyboardInterrupt\u001b[0m                         Traceback (most recent call last)",
      "\u001b[0;32m<ipython-input-75-03b8e2ebb495>\u001b[0m in \u001b[0;36m<module>\u001b[0;34m()\u001b[0m\n\u001b[1;32m     22\u001b[0m \u001b[0mprint\u001b[0m\u001b[0;34m(\u001b[0m\u001b[0mparameters\u001b[0m\u001b[0;34m)\u001b[0m\u001b[0;34m\u001b[0m\u001b[0m\n\u001b[1;32m     23\u001b[0m \u001b[0mstart\u001b[0m \u001b[0;34m=\u001b[0m \u001b[0mtime\u001b[0m\u001b[0;34m(\u001b[0m\u001b[0;34m)\u001b[0m\u001b[0;34m\u001b[0m\u001b[0m\n\u001b[0;32m---> 24\u001b[0;31m \u001b[0mrandom_search\u001b[0m\u001b[0;34m.\u001b[0m\u001b[0mfit\u001b[0m\u001b[0;34m(\u001b[0m\u001b[0mX_train\u001b[0m\u001b[0;34m.\u001b[0m\u001b[0mtxt_combined\u001b[0m\u001b[0;34m.\u001b[0m\u001b[0mtolist\u001b[0m\u001b[0;34m(\u001b[0m\u001b[0;34m)\u001b[0m\u001b[0;34m,\u001b[0m \u001b[0mY_train\u001b[0m\u001b[0;34m)\u001b[0m\u001b[0;34m\u001b[0m\u001b[0m\n\u001b[0m\u001b[1;32m     25\u001b[0m \u001b[0mprint\u001b[0m\u001b[0;34m(\u001b[0m\u001b[0;34m\"done in {:0.3f}s\"\u001b[0m\u001b[0;34m.\u001b[0m\u001b[0mformat\u001b[0m\u001b[0;34m(\u001b[0m\u001b[0mtime\u001b[0m\u001b[0;34m(\u001b[0m\u001b[0;34m)\u001b[0m \u001b[0;34m-\u001b[0m \u001b[0mstart\u001b[0m\u001b[0;34m)\u001b[0m\u001b[0;34m)\u001b[0m\u001b[0;34m\u001b[0m\u001b[0m\n\u001b[1;32m     26\u001b[0m \u001b[0mprint\u001b[0m\u001b[0;34m(\u001b[0m\u001b[0;34m)\u001b[0m\u001b[0;34m\u001b[0m\u001b[0m\n",
      "\u001b[0;32m/Library/Frameworks/Python.framework/Versions/3.6/lib/python3.6/site-packages/sklearn/model_selection/_search.py\u001b[0m in \u001b[0;36mfit\u001b[0;34m(self, X, y, groups, **fit_params)\u001b[0m\n\u001b[1;32m    637\u001b[0m                                   error_score=self.error_score)\n\u001b[1;32m    638\u001b[0m           for parameters, (train, test) in product(candidate_params,\n\u001b[0;32m--> 639\u001b[0;31m                                                    cv.split(X, y, groups)))\n\u001b[0m\u001b[1;32m    640\u001b[0m \u001b[0;34m\u001b[0m\u001b[0m\n\u001b[1;32m    641\u001b[0m         \u001b[0;31m# if one choose to see train score, \"out\" will contain train score info\u001b[0m\u001b[0;34m\u001b[0m\u001b[0;34m\u001b[0m\u001b[0m\n",
      "\u001b[0;32m/Library/Frameworks/Python.framework/Versions/3.6/lib/python3.6/site-packages/sklearn/externals/joblib/parallel.py\u001b[0m in \u001b[0;36m__call__\u001b[0;34m(self, iterable)\u001b[0m\n\u001b[1;32m    777\u001b[0m             \u001b[0;31m# was dispatched. In particular this covers the edge\u001b[0m\u001b[0;34m\u001b[0m\u001b[0;34m\u001b[0m\u001b[0m\n\u001b[1;32m    778\u001b[0m             \u001b[0;31m# case of Parallel used with an exhausted iterator.\u001b[0m\u001b[0;34m\u001b[0m\u001b[0;34m\u001b[0m\u001b[0m\n\u001b[0;32m--> 779\u001b[0;31m             \u001b[0;32mwhile\u001b[0m \u001b[0mself\u001b[0m\u001b[0;34m.\u001b[0m\u001b[0mdispatch_one_batch\u001b[0m\u001b[0;34m(\u001b[0m\u001b[0miterator\u001b[0m\u001b[0;34m)\u001b[0m\u001b[0;34m:\u001b[0m\u001b[0;34m\u001b[0m\u001b[0m\n\u001b[0m\u001b[1;32m    780\u001b[0m                 \u001b[0mself\u001b[0m\u001b[0;34m.\u001b[0m\u001b[0m_iterating\u001b[0m \u001b[0;34m=\u001b[0m \u001b[0;32mTrue\u001b[0m\u001b[0;34m\u001b[0m\u001b[0m\n\u001b[1;32m    781\u001b[0m             \u001b[0;32melse\u001b[0m\u001b[0;34m:\u001b[0m\u001b[0;34m\u001b[0m\u001b[0m\n",
      "\u001b[0;32m/Library/Frameworks/Python.framework/Versions/3.6/lib/python3.6/site-packages/sklearn/externals/joblib/parallel.py\u001b[0m in \u001b[0;36mdispatch_one_batch\u001b[0;34m(self, iterator)\u001b[0m\n\u001b[1;32m    623\u001b[0m                 \u001b[0;32mreturn\u001b[0m \u001b[0;32mFalse\u001b[0m\u001b[0;34m\u001b[0m\u001b[0m\n\u001b[1;32m    624\u001b[0m             \u001b[0;32melse\u001b[0m\u001b[0;34m:\u001b[0m\u001b[0;34m\u001b[0m\u001b[0m\n\u001b[0;32m--> 625\u001b[0;31m                 \u001b[0mself\u001b[0m\u001b[0;34m.\u001b[0m\u001b[0m_dispatch\u001b[0m\u001b[0;34m(\u001b[0m\u001b[0mtasks\u001b[0m\u001b[0;34m)\u001b[0m\u001b[0;34m\u001b[0m\u001b[0m\n\u001b[0m\u001b[1;32m    626\u001b[0m                 \u001b[0;32mreturn\u001b[0m \u001b[0;32mTrue\u001b[0m\u001b[0;34m\u001b[0m\u001b[0m\n\u001b[1;32m    627\u001b[0m \u001b[0;34m\u001b[0m\u001b[0m\n",
      "\u001b[0;32m/Library/Frameworks/Python.framework/Versions/3.6/lib/python3.6/site-packages/sklearn/externals/joblib/parallel.py\u001b[0m in \u001b[0;36m_dispatch\u001b[0;34m(self, batch)\u001b[0m\n\u001b[1;32m    586\u001b[0m         \u001b[0mdispatch_timestamp\u001b[0m \u001b[0;34m=\u001b[0m \u001b[0mtime\u001b[0m\u001b[0;34m.\u001b[0m\u001b[0mtime\u001b[0m\u001b[0;34m(\u001b[0m\u001b[0;34m)\u001b[0m\u001b[0;34m\u001b[0m\u001b[0m\n\u001b[1;32m    587\u001b[0m         \u001b[0mcb\u001b[0m \u001b[0;34m=\u001b[0m \u001b[0mBatchCompletionCallBack\u001b[0m\u001b[0;34m(\u001b[0m\u001b[0mdispatch_timestamp\u001b[0m\u001b[0;34m,\u001b[0m \u001b[0mlen\u001b[0m\u001b[0;34m(\u001b[0m\u001b[0mbatch\u001b[0m\u001b[0;34m)\u001b[0m\u001b[0;34m,\u001b[0m \u001b[0mself\u001b[0m\u001b[0;34m)\u001b[0m\u001b[0;34m\u001b[0m\u001b[0m\n\u001b[0;32m--> 588\u001b[0;31m         \u001b[0mjob\u001b[0m \u001b[0;34m=\u001b[0m \u001b[0mself\u001b[0m\u001b[0;34m.\u001b[0m\u001b[0m_backend\u001b[0m\u001b[0;34m.\u001b[0m\u001b[0mapply_async\u001b[0m\u001b[0;34m(\u001b[0m\u001b[0mbatch\u001b[0m\u001b[0;34m,\u001b[0m \u001b[0mcallback\u001b[0m\u001b[0;34m=\u001b[0m\u001b[0mcb\u001b[0m\u001b[0;34m)\u001b[0m\u001b[0;34m\u001b[0m\u001b[0m\n\u001b[0m\u001b[1;32m    589\u001b[0m         \u001b[0mself\u001b[0m\u001b[0;34m.\u001b[0m\u001b[0m_jobs\u001b[0m\u001b[0;34m.\u001b[0m\u001b[0mappend\u001b[0m\u001b[0;34m(\u001b[0m\u001b[0mjob\u001b[0m\u001b[0;34m)\u001b[0m\u001b[0;34m\u001b[0m\u001b[0m\n\u001b[1;32m    590\u001b[0m \u001b[0;34m\u001b[0m\u001b[0m\n",
      "\u001b[0;32m/Library/Frameworks/Python.framework/Versions/3.6/lib/python3.6/site-packages/sklearn/externals/joblib/_parallel_backends.py\u001b[0m in \u001b[0;36mapply_async\u001b[0;34m(self, func, callback)\u001b[0m\n\u001b[1;32m    109\u001b[0m     \u001b[0;32mdef\u001b[0m \u001b[0mapply_async\u001b[0m\u001b[0;34m(\u001b[0m\u001b[0mself\u001b[0m\u001b[0;34m,\u001b[0m \u001b[0mfunc\u001b[0m\u001b[0;34m,\u001b[0m \u001b[0mcallback\u001b[0m\u001b[0;34m=\u001b[0m\u001b[0;32mNone\u001b[0m\u001b[0;34m)\u001b[0m\u001b[0;34m:\u001b[0m\u001b[0;34m\u001b[0m\u001b[0m\n\u001b[1;32m    110\u001b[0m         \u001b[0;34m\"\"\"Schedule a func to be run\"\"\"\u001b[0m\u001b[0;34m\u001b[0m\u001b[0m\n\u001b[0;32m--> 111\u001b[0;31m         \u001b[0mresult\u001b[0m \u001b[0;34m=\u001b[0m \u001b[0mImmediateResult\u001b[0m\u001b[0;34m(\u001b[0m\u001b[0mfunc\u001b[0m\u001b[0;34m)\u001b[0m\u001b[0;34m\u001b[0m\u001b[0m\n\u001b[0m\u001b[1;32m    112\u001b[0m         \u001b[0;32mif\u001b[0m \u001b[0mcallback\u001b[0m\u001b[0;34m:\u001b[0m\u001b[0;34m\u001b[0m\u001b[0m\n\u001b[1;32m    113\u001b[0m             \u001b[0mcallback\u001b[0m\u001b[0;34m(\u001b[0m\u001b[0mresult\u001b[0m\u001b[0;34m)\u001b[0m\u001b[0;34m\u001b[0m\u001b[0m\n",
      "\u001b[0;32m/Library/Frameworks/Python.framework/Versions/3.6/lib/python3.6/site-packages/sklearn/externals/joblib/_parallel_backends.py\u001b[0m in \u001b[0;36m__init__\u001b[0;34m(self, batch)\u001b[0m\n\u001b[1;32m    330\u001b[0m         \u001b[0;31m# Don't delay the application, to avoid keeping the input\u001b[0m\u001b[0;34m\u001b[0m\u001b[0;34m\u001b[0m\u001b[0m\n\u001b[1;32m    331\u001b[0m         \u001b[0;31m# arguments in memory\u001b[0m\u001b[0;34m\u001b[0m\u001b[0;34m\u001b[0m\u001b[0m\n\u001b[0;32m--> 332\u001b[0;31m         \u001b[0mself\u001b[0m\u001b[0;34m.\u001b[0m\u001b[0mresults\u001b[0m \u001b[0;34m=\u001b[0m \u001b[0mbatch\u001b[0m\u001b[0;34m(\u001b[0m\u001b[0;34m)\u001b[0m\u001b[0;34m\u001b[0m\u001b[0m\n\u001b[0m\u001b[1;32m    333\u001b[0m \u001b[0;34m\u001b[0m\u001b[0m\n\u001b[1;32m    334\u001b[0m     \u001b[0;32mdef\u001b[0m \u001b[0mget\u001b[0m\u001b[0;34m(\u001b[0m\u001b[0mself\u001b[0m\u001b[0;34m)\u001b[0m\u001b[0;34m:\u001b[0m\u001b[0;34m\u001b[0m\u001b[0m\n",
      "\u001b[0;32m/Library/Frameworks/Python.framework/Versions/3.6/lib/python3.6/site-packages/sklearn/externals/joblib/parallel.py\u001b[0m in \u001b[0;36m__call__\u001b[0;34m(self)\u001b[0m\n\u001b[1;32m    129\u001b[0m \u001b[0;34m\u001b[0m\u001b[0m\n\u001b[1;32m    130\u001b[0m     \u001b[0;32mdef\u001b[0m \u001b[0m__call__\u001b[0m\u001b[0;34m(\u001b[0m\u001b[0mself\u001b[0m\u001b[0;34m)\u001b[0m\u001b[0;34m:\u001b[0m\u001b[0;34m\u001b[0m\u001b[0m\n\u001b[0;32m--> 131\u001b[0;31m         \u001b[0;32mreturn\u001b[0m \u001b[0;34m[\u001b[0m\u001b[0mfunc\u001b[0m\u001b[0;34m(\u001b[0m\u001b[0;34m*\u001b[0m\u001b[0margs\u001b[0m\u001b[0;34m,\u001b[0m \u001b[0;34m**\u001b[0m\u001b[0mkwargs\u001b[0m\u001b[0;34m)\u001b[0m \u001b[0;32mfor\u001b[0m \u001b[0mfunc\u001b[0m\u001b[0;34m,\u001b[0m \u001b[0margs\u001b[0m\u001b[0;34m,\u001b[0m \u001b[0mkwargs\u001b[0m \u001b[0;32min\u001b[0m \u001b[0mself\u001b[0m\u001b[0;34m.\u001b[0m\u001b[0mitems\u001b[0m\u001b[0;34m]\u001b[0m\u001b[0;34m\u001b[0m\u001b[0m\n\u001b[0m\u001b[1;32m    132\u001b[0m \u001b[0;34m\u001b[0m\u001b[0m\n\u001b[1;32m    133\u001b[0m     \u001b[0;32mdef\u001b[0m \u001b[0m__len__\u001b[0m\u001b[0;34m(\u001b[0m\u001b[0mself\u001b[0m\u001b[0;34m)\u001b[0m\u001b[0;34m:\u001b[0m\u001b[0;34m\u001b[0m\u001b[0m\n",
      "\u001b[0;32m/Library/Frameworks/Python.framework/Versions/3.6/lib/python3.6/site-packages/sklearn/externals/joblib/parallel.py\u001b[0m in \u001b[0;36m<listcomp>\u001b[0;34m(.0)\u001b[0m\n\u001b[1;32m    129\u001b[0m \u001b[0;34m\u001b[0m\u001b[0m\n\u001b[1;32m    130\u001b[0m     \u001b[0;32mdef\u001b[0m \u001b[0m__call__\u001b[0m\u001b[0;34m(\u001b[0m\u001b[0mself\u001b[0m\u001b[0;34m)\u001b[0m\u001b[0;34m:\u001b[0m\u001b[0;34m\u001b[0m\u001b[0m\n\u001b[0;32m--> 131\u001b[0;31m         \u001b[0;32mreturn\u001b[0m \u001b[0;34m[\u001b[0m\u001b[0mfunc\u001b[0m\u001b[0;34m(\u001b[0m\u001b[0;34m*\u001b[0m\u001b[0margs\u001b[0m\u001b[0;34m,\u001b[0m \u001b[0;34m**\u001b[0m\u001b[0mkwargs\u001b[0m\u001b[0;34m)\u001b[0m \u001b[0;32mfor\u001b[0m \u001b[0mfunc\u001b[0m\u001b[0;34m,\u001b[0m \u001b[0margs\u001b[0m\u001b[0;34m,\u001b[0m \u001b[0mkwargs\u001b[0m \u001b[0;32min\u001b[0m \u001b[0mself\u001b[0m\u001b[0;34m.\u001b[0m\u001b[0mitems\u001b[0m\u001b[0;34m]\u001b[0m\u001b[0;34m\u001b[0m\u001b[0m\n\u001b[0m\u001b[1;32m    132\u001b[0m \u001b[0;34m\u001b[0m\u001b[0m\n\u001b[1;32m    133\u001b[0m     \u001b[0;32mdef\u001b[0m \u001b[0m__len__\u001b[0m\u001b[0;34m(\u001b[0m\u001b[0mself\u001b[0m\u001b[0;34m)\u001b[0m\u001b[0;34m:\u001b[0m\u001b[0;34m\u001b[0m\u001b[0m\n",
      "\u001b[0;32m/Library/Frameworks/Python.framework/Versions/3.6/lib/python3.6/site-packages/sklearn/model_selection/_validation.py\u001b[0m in \u001b[0;36m_fit_and_score\u001b[0;34m(estimator, X, y, scorer, train, test, verbose, parameters, fit_params, return_train_score, return_parameters, return_n_test_samples, return_times, error_score)\u001b[0m\n\u001b[1;32m    456\u001b[0m             \u001b[0mestimator\u001b[0m\u001b[0;34m.\u001b[0m\u001b[0mfit\u001b[0m\u001b[0;34m(\u001b[0m\u001b[0mX_train\u001b[0m\u001b[0;34m,\u001b[0m \u001b[0;34m**\u001b[0m\u001b[0mfit_params\u001b[0m\u001b[0;34m)\u001b[0m\u001b[0;34m\u001b[0m\u001b[0m\n\u001b[1;32m    457\u001b[0m         \u001b[0;32melse\u001b[0m\u001b[0;34m:\u001b[0m\u001b[0;34m\u001b[0m\u001b[0m\n\u001b[0;32m--> 458\u001b[0;31m             \u001b[0mestimator\u001b[0m\u001b[0;34m.\u001b[0m\u001b[0mfit\u001b[0m\u001b[0;34m(\u001b[0m\u001b[0mX_train\u001b[0m\u001b[0;34m,\u001b[0m \u001b[0my_train\u001b[0m\u001b[0;34m,\u001b[0m \u001b[0;34m**\u001b[0m\u001b[0mfit_params\u001b[0m\u001b[0;34m)\u001b[0m\u001b[0;34m\u001b[0m\u001b[0m\n\u001b[0m\u001b[1;32m    459\u001b[0m \u001b[0;34m\u001b[0m\u001b[0m\n\u001b[1;32m    460\u001b[0m     \u001b[0;32mexcept\u001b[0m \u001b[0mException\u001b[0m \u001b[0;32mas\u001b[0m \u001b[0me\u001b[0m\u001b[0;34m:\u001b[0m\u001b[0;34m\u001b[0m\u001b[0m\n",
      "\u001b[0;32m/Library/Frameworks/Python.framework/Versions/3.6/lib/python3.6/site-packages/sklearn/pipeline.py\u001b[0m in \u001b[0;36mfit\u001b[0;34m(self, X, y, **fit_params)\u001b[0m\n\u001b[1;32m    248\u001b[0m         \u001b[0mXt\u001b[0m\u001b[0;34m,\u001b[0m \u001b[0mfit_params\u001b[0m \u001b[0;34m=\u001b[0m \u001b[0mself\u001b[0m\u001b[0;34m.\u001b[0m\u001b[0m_fit\u001b[0m\u001b[0;34m(\u001b[0m\u001b[0mX\u001b[0m\u001b[0;34m,\u001b[0m \u001b[0my\u001b[0m\u001b[0;34m,\u001b[0m \u001b[0;34m**\u001b[0m\u001b[0mfit_params\u001b[0m\u001b[0;34m)\u001b[0m\u001b[0;34m\u001b[0m\u001b[0m\n\u001b[1;32m    249\u001b[0m         \u001b[0;32mif\u001b[0m \u001b[0mself\u001b[0m\u001b[0;34m.\u001b[0m\u001b[0m_final_estimator\u001b[0m \u001b[0;32mis\u001b[0m \u001b[0;32mnot\u001b[0m \u001b[0;32mNone\u001b[0m\u001b[0;34m:\u001b[0m\u001b[0;34m\u001b[0m\u001b[0m\n\u001b[0;32m--> 250\u001b[0;31m             \u001b[0mself\u001b[0m\u001b[0;34m.\u001b[0m\u001b[0m_final_estimator\u001b[0m\u001b[0;34m.\u001b[0m\u001b[0mfit\u001b[0m\u001b[0;34m(\u001b[0m\u001b[0mXt\u001b[0m\u001b[0;34m,\u001b[0m \u001b[0my\u001b[0m\u001b[0;34m,\u001b[0m \u001b[0;34m**\u001b[0m\u001b[0mfit_params\u001b[0m\u001b[0;34m)\u001b[0m\u001b[0;34m\u001b[0m\u001b[0m\n\u001b[0m\u001b[1;32m    251\u001b[0m         \u001b[0;32mreturn\u001b[0m \u001b[0mself\u001b[0m\u001b[0;34m\u001b[0m\u001b[0m\n\u001b[1;32m    252\u001b[0m \u001b[0;34m\u001b[0m\u001b[0m\n",
      "\u001b[0;32m/Library/Frameworks/Python.framework/Versions/3.6/lib/python3.6/site-packages/sklearn/multiclass.py\u001b[0m in \u001b[0;36mfit\u001b[0;34m(self, X, y)\u001b[0m\n\u001b[1;32m    213\u001b[0m                 \u001b[0;34m\"not %s\"\u001b[0m \u001b[0;34m%\u001b[0m \u001b[0mself\u001b[0m\u001b[0;34m.\u001b[0m\u001b[0mlabel_binarizer_\u001b[0m\u001b[0;34m.\u001b[0m\u001b[0mclasses_\u001b[0m\u001b[0;34m[\u001b[0m\u001b[0mi\u001b[0m\u001b[0;34m]\u001b[0m\u001b[0;34m,\u001b[0m\u001b[0;34m\u001b[0m\u001b[0m\n\u001b[1;32m    214\u001b[0m                 self.label_binarizer_.classes_[i]])\n\u001b[0;32m--> 215\u001b[0;31m             for i, column in enumerate(columns))\n\u001b[0m\u001b[1;32m    216\u001b[0m \u001b[0;34m\u001b[0m\u001b[0m\n\u001b[1;32m    217\u001b[0m         \u001b[0;32mreturn\u001b[0m \u001b[0mself\u001b[0m\u001b[0;34m\u001b[0m\u001b[0m\n",
      "\u001b[0;32m/Library/Frameworks/Python.framework/Versions/3.6/lib/python3.6/site-packages/sklearn/externals/joblib/parallel.py\u001b[0m in \u001b[0;36m__call__\u001b[0;34m(self, iterable)\u001b[0m\n\u001b[1;32m    796\u001b[0m             \u001b[0;32mif\u001b[0m \u001b[0;32mnot\u001b[0m \u001b[0mself\u001b[0m\u001b[0;34m.\u001b[0m\u001b[0m_managed_backend\u001b[0m\u001b[0;34m:\u001b[0m\u001b[0;34m\u001b[0m\u001b[0m\n\u001b[1;32m    797\u001b[0m                 \u001b[0mself\u001b[0m\u001b[0;34m.\u001b[0m\u001b[0m_terminate_backend\u001b[0m\u001b[0;34m(\u001b[0m\u001b[0;34m)\u001b[0m\u001b[0;34m\u001b[0m\u001b[0m\n\u001b[0;32m--> 798\u001b[0;31m             \u001b[0mself\u001b[0m\u001b[0;34m.\u001b[0m\u001b[0m_jobs\u001b[0m \u001b[0;34m=\u001b[0m \u001b[0mlist\u001b[0m\u001b[0;34m(\u001b[0m\u001b[0;34m)\u001b[0m\u001b[0;34m\u001b[0m\u001b[0m\n\u001b[0m\u001b[1;32m    799\u001b[0m         \u001b[0moutput\u001b[0m \u001b[0;34m=\u001b[0m \u001b[0mself\u001b[0m\u001b[0;34m.\u001b[0m\u001b[0m_output\u001b[0m\u001b[0;34m\u001b[0m\u001b[0m\n\u001b[1;32m    800\u001b[0m         \u001b[0mself\u001b[0m\u001b[0;34m.\u001b[0m\u001b[0m_output\u001b[0m \u001b[0;34m=\u001b[0m \u001b[0;32mNone\u001b[0m\u001b[0;34m\u001b[0m\u001b[0m\n",
      "\u001b[0;31mKeyboardInterrupt\u001b[0m: "
     ]
    }
   ],
   "source": [
    "# This took too long - interrupted\n",
    "MP_clf = Pipeline([\n",
    "    ('tfidf', TfidfVectorizer(stop_words = stop_words)),\n",
    "    ('clf', OneVsRestClassifier(MLPClassifier())),\n",
    "])\n",
    "\n",
    "parameters = {\n",
    "    'tfidf__max_df': (0.01, 0.05, 0.5, 0.75, 1.0),\n",
    "    'tfidf__ngram_range': ((1, 1), (1, 2)),\n",
    "    'tfidf__smooth_idf': (True, False),\n",
    "    'tfidf__sublinear_tf': (True, False),\n",
    "    'clf__estimator__alpha' :(0.00001, 0.000001, 0.001, 0.1, 0.5, 0.8),\n",
    "    'clf__estimator__hidden_layer_sizes' : [(3, 2), (4, 2), (5, 2),(7, 2), (6, 3),(100,),(100,2),(150,),(150,2),(200,),(200,2)],\n",
    "    'clf__estimator__tol': (1e-2, 1e-3, 1e-4, 1e-5, 1e-6),\n",
    "    'clf__estimator__epsilon': (1e-3, 1e-7, 1e-8, 1e-9, 1e-8),\n",
    "    'clf__estimator__solver': ('lbfgs','adam')\n",
    "}\n",
    "\n",
    "random_search = RandomizedSearchCV(MP_clf, parameters, n_iter=20, verbose=1, scoring='f1_weighted')\n",
    "print(\"{}: Performing parameter search ...\")\n",
    "print(\"pipeline:\", [name for name, _ in MP_clf.steps])\n",
    "print(\"parameters:\")\n",
    "print(parameters)\n",
    "start = time()\n",
    "random_search.fit(X_train.txt_combined.tolist(), Y_train)\n",
    "print(\"done in {:0.3f}s\".format(time() - start))\n",
    "print()\n",
    "print(\"Best score: {:0.3f}\".format(random_search.best_score_))\n",
    "params = {}\n",
    "print(\"Best parameters set:\")\n",
    "best_parameters = random_search.best_estimator_.get_params()\n",
    "\n",
    "prediction = random_search.predict(X_test.txt_combined.tolist())\n",
    "mp_tuned_f1 = f1_score(X_test[categories_with_enough_obs].as_matrix(), prediction, average='weighted')\n",
    "print('F1 score train: {:.2f} F1 score test: {:.2f}'.format(random_search.best_score_, mp_tuned_f1))"
   ]
  },
  {
   "cell_type": "code",
   "execution_count": 74,
   "metadata": {},
   "outputs": [
    {
     "name": "stdout",
     "output_type": "stream",
     "text": [
      "{}: Performing parameter search ...\n",
      "pipeline: ['tfidf', 'clf']\n",
      "parameters:\n",
      "{'tfidf__max_df': (0.01, 0.05, 0.5, 0.75, 1.0), 'tfidf__ngram_range': ((1, 1), (1, 2)), 'tfidf__smooth_idf': (True, False), 'tfidf__sublinear_tf': (True, False), 'clf__estimator__n_estimators': [200, 400, 600, 800, 1000, 1200, 1400, 1600, 1800, 2000], 'clf__estimator__max_features': ['auto', 'sqrt'], 'clf__estimator__max_depth': [10, 20, 30, 40, 50, 60, 70, 80, 90, 100, 110, None], 'clf__estimator__min_samples_split': [2, 5, 10], 'clf__estimator__bootstrap': [True, False], 'clf__estimator__min_samples_leaf': [1, 2, 4]}\n",
      "Fitting 3 folds for each of 20 candidates, totalling 60 fits\n"
     ]
    },
    {
     "name": "stderr",
     "output_type": "stream",
     "text": [
      "[Parallel(n_jobs=1)]: Done  60 out of  60 | elapsed: 1305.6min finished\n"
     ]
    },
    {
     "name": "stdout",
     "output_type": "stream",
     "text": [
      "done in 79701.180s\n",
      "\n",
      "Best score: 0.557\n",
      "Best parameters set:\n",
      "F1 score train: 0.56 F1 score test: 0.53\n"
     ]
    }
   ],
   "source": [
    "RF_clf = Pipeline([\n",
    "    ('tfidf', TfidfVectorizer(stop_words = stop_words)),\n",
    "    ('clf', OneVsRestClassifier(RandomForestClassifier(), n_jobs=6)),\n",
    "])\n",
    "\n",
    "# Number of trees in random forest\n",
    "n_estimators = [int(x) for x in np.linspace(start = 200, stop = 2000, num = 10)]\n",
    "# Number of features to consider at every split\n",
    "max_features = ['auto', 'sqrt']\n",
    "# Maximum number of levels in tree\n",
    "max_depth = [int(x) for x in np.linspace(10, 110, num = 11)]\n",
    "max_depth.append(None)\n",
    "# Minimum number of samples required to split a node\n",
    "min_samples_split = [2, 5, 10]\n",
    "# Minimum number of samples required at each leaf node\n",
    "min_samples_leaf = [1, 2, 4]\n",
    "# Method of selecting samples for training each tree\n",
    "bootstrap = [True, False]\n",
    "\n",
    "parameters = {\n",
    "    'tfidf__max_df': (0.01, 0.05, 0.5, 0.75, 1.0),\n",
    "    'tfidf__ngram_range': ((1, 1), (1, 2)),\n",
    "    'tfidf__smooth_idf': (True, False),\n",
    "    'tfidf__sublinear_tf': (True, False),\n",
    "    'clf__estimator__n_estimators' :n_estimators,\n",
    "    'clf__estimator__max_features' : max_features,\n",
    "    'clf__estimator__max_depth': max_depth,\n",
    "    'clf__estimator__min_samples_split': min_samples_split,\n",
    "    'clf__estimator__bootstrap': bootstrap,\n",
    "    'clf__estimator__min_samples_leaf': min_samples_leaf,\n",
    "}\n",
    "\n",
    "random_search = RandomizedSearchCV(RF_clf, parameters, n_iter=20, verbose=1, scoring='f1_weighted')\n",
    "print(\"{}: Performing parameter search ...\")\n",
    "print(\"pipeline:\", [name for name, _ in RF_clf.steps])\n",
    "print(\"parameters:\")\n",
    "print(parameters)\n",
    "start = time()\n",
    "random_search.fit(X_train.txt_combined.tolist(), Y_train)\n",
    "print(\"done in {:0.3f}s\".format(time() - start))\n",
    "print()\n",
    "print(\"Best score: {:0.3f}\".format(random_search.best_score_))\n",
    "params = {}\n",
    "print(\"Best parameters set:\")\n",
    "best_parameters = random_search.best_estimator_.get_params()\n",
    "\n",
    "prediction = random_search.predict(X_test.txt_combined.tolist())\n",
    "rf_tuned_f1 = f1_score(X_test[categories_with_enough_obs].as_matrix(), prediction, average='weighted')\n",
    "print('F1 score train: {:.2f} F1 score test: {:.2f}'.format(random_search.best_score_, rf_tuned_f1))"
   ]
  },
  {
   "cell_type": "markdown",
   "metadata": {},
   "source": [
    "# Results of Tuning\n",
    "Compare F1 scores on test set before and after tuning. "
   ]
  },
  {
   "cell_type": "code",
   "execution_count": 82,
   "metadata": {
    "scrolled": true
   },
   "outputs": [
    {
     "name": "stdout",
     "output_type": "stream",
     "text": [
      "0.599424734296333\n",
      "0.38424446292659103\n",
      "0.7390643070398681\n",
      "0.6966406815507058\n",
      "0.7402676321018573\n",
      "0.6823658072198908\n",
      "0.7276122083519906\n"
     ]
    }
   ],
   "source": [
    "print(nb_tuned_f1)\n",
    "print(nb_f1)\n",
    "\n",
    "print(sgd_tuned_f1)\n",
    "print(sgd_f1)\n",
    "\n",
    "print(svc_tuned_f1)\n",
    "print(svc_f1)\n",
    "\n",
    "# print(mlp_tuned_f1)\n",
    "print(mlp_f1)"
   ]
  },
  {
   "cell_type": "code",
   "execution_count": 108,
   "metadata": {},
   "outputs": [
    {
     "name": "stdout",
     "output_type": "stream",
     "text": [
      "Tuned SVC model has the best score: 0.7402676321018573\n"
     ]
    }
   ],
   "source": [
    "print('Tuned SVC model has the best score: {}'.format(svc_tuned_f1))"
   ]
  },
  {
   "cell_type": "code",
   "execution_count": 89,
   "metadata": {},
   "outputs": [],
   "source": [
    "nb_df = pd.DataFrame({'before': [nb_f1], 'after': [nb_tuned_f1]})\n",
    "sgd_df = pd.DataFrame({'before': [sgd_f1], 'after': [sgd_tuned_f1]})\n",
    "svc_df = pd.DataFrame({'before': [svc_f1], 'after': [svc_tuned_f1]})\n",
    "# mlp_df = pd.DataFrame({'before': [mlp_f1], 'after': [mlp_tuned_f1]})\n",
    "rf_df = pd.DataFrame({'before': [rf_f1], 'after': [rf_tuned_f1]})"
   ]
  },
  {
   "cell_type": "code",
   "execution_count": 102,
   "metadata": {},
   "outputs": [
    {
     "name": "stdout",
     "output_type": "stream",
     "text": [
      "The tuning of the stochastic gradient descent classifier improved F1 scores by 4% points.\n"
     ]
    },
    {
     "data": {
      "image/png": "[encoded data removed]",
      "text/plain": [
       "<matplotlib.figure.Figure at 0x138bae208>"
      ]
     },
     "metadata": {},
     "output_type": "display_data"
    }
   ],
   "source": [
    "sgd_df.mean().plot('bar').set_title('Average F1 score before and after tuning SGD classifier')\n",
    "print('The tuning of the stochastic gradient descent classifier improved F1 scores by {:.0%} points.'.format(sgd_df.mean()[0]-sgd_df.mean()[1]))"
   ]
  },
  {
   "cell_type": "code",
   "execution_count": 103,
   "metadata": {},
   "outputs": [
    {
     "name": "stdout",
     "output_type": "stream",
     "text": [
      "The tuning of the linear support vector classifier improved F1 scores by 6% points.\n"
     ]
    },
    {
     "data": {
      "image/png": "[encoded data removed]",
      "text/plain": [
       "<matplotlib.figure.Figure at 0x1201ce588>"
      ]
     },
     "metadata": {},
     "output_type": "display_data"
    }
   ],
   "source": [
    "svc_df.mean().plot('bar').set_title('Average F1 score before and after tuning SV classifier')\n",
    "print('The tuning of the linear support vector classifier improved F1 scores by {:.0%} points.'.format(svc_df.mean()[0]-svc_df.mean()[1]))"
   ]
  },
  {
   "cell_type": "code",
   "execution_count": 104,
   "metadata": {},
   "outputs": [
    {
     "name": "stdout",
     "output_type": "stream",
     "text": [
      "The tuning of the naive bayes classifier improved F1 scores by 22% points.\n"
     ]
    },
    {
     "data": {
      "image/png": "[encoded data removed]",
      "text/plain": [
       "<matplotlib.figure.Figure at 0x12ca233c8>"
      ]
     },
     "metadata": {},
     "output_type": "display_data"
    }
   ],
   "source": [
    "nb_df.mean().plot('bar').set_title('Average F1 score before and after tuning NB classifier')\n",
    "print('The tuning of the naive bayes classifier improved F1 scores by {:.0%} points.'.format(nb_df.mean()[0]-nb_df.mean()[1]))"
   ]
  },
  {
   "cell_type": "code",
   "execution_count": 105,
   "metadata": {},
   "outputs": [
    {
     "name": "stdout",
     "output_type": "stream",
     "text": [
      "The tuning of the random forest classifier improved F1 scores by 5% points.\n"
     ]
    },
    {
     "data": {
      "image/png": "[encoded data removed]",
      "text/plain": [
       "<matplotlib.figure.Figure at 0x12ddf05c0>"
      ]
     },
     "metadata": {},
     "output_type": "display_data"
    }
   ],
   "source": [
    "rf_df.mean().plot('bar').set_title('Average F1 score before and after tuning RF classifier')\n",
    "print('The tuning of the random forest classifier improved F1 scores by {:.0%} points.'.format(rf_df.mean()[0]-rf_df.mean()[1]))"
   ]
  }
 ],
 "metadata": {
  "kernelspec": {
   "display_name": "Python 3",
   "language": "python",
   "name": "python3"
  },
  "language_info": {
   "codemirror_mode": {
    "name": "ipython",
    "version": 3
   },
   "file_extension": ".py",
   "mimetype": "text/x-python",
   "name": "python",
   "nbconvert_exporter": "python",
   "pygments_lexer": "ipython3",
   "version": "3.6.4"
  }
 },
 "nbformat": 4,
 "nbformat_minor": 2
}
